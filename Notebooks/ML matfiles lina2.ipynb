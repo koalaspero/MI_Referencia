{
 "cells": [
  {
   "cell_type": "code",
   "execution_count": 2,
   "id": "263ec3e8",
   "metadata": {},
   "outputs": [],
   "source": [
    "#Cargamos las librerías necesarias para el análisis\n",
    "from sklearn.model_selection import train_test_split\n",
    "from sklearn.preprocessing import StandardScaler\n",
    "from sklearn.decomposition import PCA \n",
    "from sklearn.preprocessing import normalize\n",
    "from sklearn.preprocessing import MinMaxScaler\n",
    "import numpy as np\n",
    "import pandas as pd\n",
    "import time \n",
    "%matplotlib inline\n",
    "import matplotlib.pyplot as plt\n",
    "import seaborn as sns"
   ]
  },
  {
   "cell_type": "code",
   "execution_count": 3,
   "id": "45f05b3a",
   "metadata": {},
   "outputs": [],
   "source": [
    "import os\n",
    "from pathlib import Path\n",
    "from glob import glob\n",
    "import pathlib\n",
    "current_dir = '../data/Francis_data/Francis_data/Baseline_fmri/HC'\n",
    "all_sub_dir_paths = glob(str(current_dir) + '/*/') \n",
    "all_sub_dir_paths\n",
    "path = pathlib.PurePath(all_sub_dir_paths[0])"
   ]
  },
  {
   "cell_type": "code",
   "execution_count": 1,
   "id": "a3faca1c",
   "metadata": {},
   "outputs": [
    {
     "name": "stdout",
     "output_type": "stream",
     "text": [
      "1.25.2\n"
     ]
    }
   ],
   "source": [
    "import numpy as np\n",
    "\n",
    "print(np.__version__)"
   ]
  },
  {
   "cell_type": "code",
   "execution_count": 4,
   "id": "3b81e27c",
   "metadata": {
    "scrolled": true
   },
   "outputs": [],
   "source": [
    "import os\n",
    "from pathlib import Path\n",
    "from glob import glob\n",
    "import pathlib\n",
    "from tsfresh import extract_features\n",
    "import pathlib\n",
    "from scipy.io import loadmat\n",
    "data=[]\n",
    "wdata=[]\n",
    "current_dir = '/home/floayza/Documentos/lina/Francis_data/Baseline_fmri/HC'\n",
    "group=1 # los grupos están organizados por carpetas. en este caso HC = grupo 1\n",
    "all_sub_dir_paths = glob(str(current_dir) + '/*/') \n",
    "all_sub_dir_paths\n",
    "i=0\n",
    "feat=[]\n",
    "for file in all_sub_dir_paths:\n",
    "    print(file)\n",
    "    folder = pathlib.PurePath(file)\n",
    "#    folder='/home/floayza/Documentos/lina/Francis_data/Baseline_fmri/HC/Habits_08//'\n",
    "    basemat='*.mat'\n",
    "    i=0\n",
    "    for file in sorted(glob(os.path.join(folder, basemat))):# recorremos y cargamos cada archivo .mat\n",
    "        dat=loadmat(file) # cargamos el archivo\n",
    "        thePoints=dat['S']['thePoints'][0][0] # seleccionamos los datos 'x' y 'y'\n",
    "        Sbuttons=dat['S']['Sbuttons'] # seleccionamos el bloque o ventana de datos\n",
    "        Ts=dat['S']['Ts'][0][0][0] # seleccionamos el tiempo\n",
    "        trial=dat['S']['trial_cond'][0][0][i][0] # seleccionamos la etiqueta 'cond'\n",
    "        length=len(Sbuttons[0][0])\n",
    "        rule = Ts[-1]/length\n",
    "        time = np.transpose(np.arange(start=0, stop=Ts[-1]+rule, step=rule))\n",
    "        time = time[0:len(thePoints[:,0])] # make same matrix size\n",
    "        data=[time, thePoints[:,0], thePoints[:,1], trial]\n",
    "        data=np.transpose([time, thePoints[:,0], thePoints[:,1], trial])\n",
    "    #    data = data[(data[1] != 683) & (data[2] != 384)]\n",
    "    #    df=pd.DataFrame.transpose(pd.DataFrame(data))\n",
    "        wdata.append(data)\n",
    "        i=i+1\n",
    "#        data=[]\n",
    "        #print(file,i)\n",
    "        df=pd.DataFrame(wdata)\n",
    "        df.rename(columns={0: \"time\", 1: \"X\", 2: 'Y', 3: 'cond'}, inplace=True) # colocamos nombre a las columnas\n",
    "        features=[]\n",
    "        dfe=[]\n",
    "        feat=[]\n",
    "# Para la extracción de features, clasifico y concateno las matrices de todos los grupos por eventos.\n",
    "# df es el dataframe final\n",
    "    for event in range(40): # son 40 repeticiones en total por sujeto\n",
    "    #    ndf=df[(df['cond'] == event+1)]\n",
    "        print(event)\n",
    "                    #break\n",
    "    #    if ndf.shape[0]>0:\n",
    "    #    for i in range(15):\n",
    "    #    dfe=df['X'][event],df['Y'][event]\n",
    "        dfe = pd.DataFrame(columns=['id', 'time','x','y']) # creo un nuevo df con esas columnas\n",
    "        dfe['id']=np.ones(len(df['time'][event]),dtype=int) # id siempre el mismo para cada tramo\n",
    "        dfe['time']=df['time'][event] # reseteo el tiempo para cada tramo\n",
    "        dfe['x']=df['X'][event]\n",
    "        dfe['y']=df['Y'][event]\n",
    "        # delete origin values\n",
    "        dfe = dfe[(dfe.x != 683) & (dfe.y != 384)]                   \n",
    "        # extraemos las características\n",
    "        features = extract_features(dfe, column_id=\"id\", column_sort=\"time\")# extrae las 780 características\n",
    "        # añadimos las etiquetas. Recuerden que Python inicia desde '0', por eso sumamos 1.\n",
    "        features['event'] = df['cond'][event]#añadimos la etiqueta 'event' a cada fila de características\n",
    "        features['group'] = group #añadimos la etiqueta 'group' a cada fila de características\n",
    "        if (event)==0:#+subject+hand+group\n",
    "           feat=features\n",
    "        else:\n",
    "           feat=pd.concat([feat, features], ignore_index=True) # añadimos a la matriz inicial una fila por iteración.\n",
    "        path = pathlib.PurePath(folder)\n",
    "        feat.to_csv(os.path.join(folder,path.name+'.'+'csv')) # save csv file in directory\n",
    "        data=[]"
   ]
  },
  {
   "cell_type": "code",
   "execution_count": 7,
   "id": "3160bb3b",
   "metadata": {},
   "outputs": [
    {
     "data": {
      "text/html": [
       "<div>\n",
       "<style scoped>\n",
       "    .dataframe tbody tr th:only-of-type {\n",
       "        vertical-align: middle;\n",
       "    }\n",
       "\n",
       "    .dataframe tbody tr th {\n",
       "        vertical-align: top;\n",
       "    }\n",
       "\n",
       "    .dataframe thead th {\n",
       "        text-align: right;\n",
       "    }\n",
       "</style>\n",
       "<table border=\"1\" class=\"dataframe\">\n",
       "  <thead>\n",
       "    <tr style=\"text-align: right;\">\n",
       "      <th></th>\n",
       "    </tr>\n",
       "  </thead>\n",
       "  <tbody>\n",
       "  </tbody>\n",
       "</table>\n",
       "</div>"
      ],
      "text/plain": [
       "Empty DataFrame\n",
       "Columns: []\n",
       "Index: []"
      ]
     },
     "execution_count": 7,
     "metadata": {},
     "output_type": "execute_result"
    }
   ],
   "source": [
    "df=pd.DataFrame(wdata)\n",
    "df.rename(columns={0: \"time\", 1: \"X\", 2: 'Y', 3: 'cond'}, inplace=True)\n",
    "df"
   ]
  },
  {
   "cell_type": "code",
   "execution_count": 6,
   "id": "a797b332",
   "metadata": {},
   "outputs": [
    {
     "data": {
      "text/html": [
       "<div>\n",
       "<style scoped>\n",
       "    .dataframe tbody tr th:only-of-type {\n",
       "        vertical-align: middle;\n",
       "    }\n",
       "\n",
       "    .dataframe tbody tr th {\n",
       "        vertical-align: top;\n",
       "    }\n",
       "\n",
       "    .dataframe thead th {\n",
       "        text-align: right;\n",
       "    }\n",
       "</style>\n",
       "<table border=\"1\" class=\"dataframe\">\n",
       "  <thead>\n",
       "    <tr style=\"text-align: right;\">\n",
       "      <th></th>\n",
       "    </tr>\n",
       "  </thead>\n",
       "  <tbody>\n",
       "  </tbody>\n",
       "</table>\n",
       "</div>"
      ],
      "text/plain": [
       "Empty DataFrame\n",
       "Columns: []\n",
       "Index: []"
      ]
     },
     "execution_count": 6,
     "metadata": {},
     "output_type": "execute_result"
    }
   ],
   "source": [
    "df"
   ]
  },
  {
   "cell_type": "code",
   "execution_count": null,
   "id": "57655f41",
   "metadata": {},
   "outputs": [],
   "source": [
    "dfe['id']=np.ones(len(df['time'][event]),dtype=int)"
   ]
  },
  {
   "cell_type": "code",
   "execution_count": null,
   "id": "667c90c7",
   "metadata": {},
   "outputs": [],
   "source": [
    "# plot from raw data\n",
    "a=3 # number of trial\n",
    "plt.plot(df['X'][a],df['Y'][a],)\n",
    "plt.ylim(df['Y'][a].min()+300,df['Y'][a].min()+50)"
   ]
  },
  {
   "cell_type": "code",
   "execution_count": null,
   "id": "c3df9ea4",
   "metadata": {
    "scrolled": true
   },
   "outputs": [],
   "source": [
    "from tsfresh import extract_features\n",
    "features=[]\n",
    "dfe=[]\n",
    "feat=[]\n",
    "# Para la extracción de features, clasifico y concateno las matrices de todos los grupos por eventos.\n",
    "# Dado que hay 5 eventos diferentes y que para cada sujeto, el número de datos es diferente ya que se eliminaron\n",
    "# los parpadeos y cerradas de ojos. Por tanto se concatena por evento y luego por cada evento lo dividimos\n",
    "# en 10 tramos o ventanas. A cada tramo se considera una serie temporal y se extraen características por tramo.\n",
    "for event in range(40):\n",
    "#    ndf=df[(df['cond'] == event+1)]\n",
    "    print(event)\n",
    "                #break\n",
    "#    if ndf.shape[0]>0:\n",
    "#    for i in range(15):\n",
    "#    dfe=df['X'][event],df['Y'][event]\n",
    "    dfe = pd.DataFrame(columns=['id', 'time','x','y'])\n",
    "    dfe['id']=np.ones(len(df['time'][event]),dtype=int) # id siempre el mismo para cada tramo\n",
    "    dfe['time']=df['time'][event] # reseteo el tiempo para cada tramo\n",
    "    dfe['x']=df['X'][event]\n",
    "    dfe['y']=df['Y'][event]\n",
    "    # delete origin values\n",
    "    dfe = dfe[(dfe.x != 683) & (dfe.y != 384)]                   \n",
    "    # extraemos las características\n",
    "    features = extract_features(dfe, column_id=\"id\", column_sort=\"time\")\n",
    "    # añadimos las etiquetas. Recuerden que Python inicia desde '0', por eso sumamos 1.\n",
    "    features['event'] = df['cond'][event]\n",
    "    if (event)==0:#+subject+hand+group\n",
    "       feat=features\n",
    "    else:\n",
    "       feat=pd.concat([feat, features], ignore_index=True) # añadimos a la matriz inicial una fila por iteración.\n",
    "    "
   ]
  },
  {
   "cell_type": "code",
   "execution_count": null,
   "id": "99eeb817",
   "metadata": {},
   "outputs": [],
   "source": [
    "feat.shape"
   ]
  },
  {
   "cell_type": "code",
   "execution_count": null,
   "id": "aeeb95a8",
   "metadata": {},
   "outputs": [],
   "source": [
    "# saving data in the corresponding directory\n",
    "import pathlib\n",
    "path = pathlib.PurePath(folder)\n",
    "feat.to_csv(os.path.join(folder,path.name+'.'+'csv')) # save csv file in directory"
   ]
  },
  {
   "cell_type": "code",
   "execution_count": null,
   "id": "9fa93a7b",
   "metadata": {},
   "outputs": [],
   "source": []
  },
  {
   "cell_type": "code",
   "execution_count": null,
   "id": "cbec9dbc",
   "metadata": {},
   "outputs": [],
   "source": []
  },
  {
   "cell_type": "code",
   "execution_count": null,
   "id": "d2c7c905",
   "metadata": {},
   "outputs": [],
   "source": []
  },
  {
   "cell_type": "code",
   "execution_count": null,
   "id": "8885c138",
   "metadata": {},
   "outputs": [],
   "source": []
  },
  {
   "cell_type": "code",
   "execution_count": null,
   "id": "0dd11587",
   "metadata": {},
   "outputs": [],
   "source": [
    "for event in range(3):\n",
    "    ndf=df[(df['cond'] == event+1)]\n",
    "    print(event)\n",
    "    dfe = pd.DataFrame(columns=['id', 'time','x','y'])\n",
    "    dfe['id']=np.ones(len(df['X'][event]),dtype=int) # id siempre el mismo para cada tramo\n",
    "    dfe['time']=df['time'][event] # reseteo el tiempo para cada tramo\n",
    "    dfe['x']=df['X'][event]\n",
    "    dfe['y']=df['Y'][event]\n",
    "    # delete origin values\n",
    "    dfe = dfe[(dfe.x != 683) & (dfe.y != 384)]\n",
    "dfe"
   ]
  },
  {
   "cell_type": "code",
   "execution_count": null,
   "id": "d649a0f5",
   "metadata": {},
   "outputs": [],
   "source": [
    "# concat variables time and coords. important: time and coords are not the same size. I dont know why?\n",
    "frames=[time,thePoints]\n",
    "writing_coords=pd.concat(frames, axis=1)\n",
    "writing_coords.rename(columns={0:'time'}, inplace=True)\n",
    "writing_coords"
   ]
  },
  {
   "cell_type": "code",
   "execution_count": null,
   "id": "b4a1b9c2",
   "metadata": {},
   "outputs": [],
   "source": [
    "# plot from raw data\n",
    "plt.plot(writing_coords['x'],writing_coords['y'],)\n",
    "plt.ylim(writing_coords['y'].min()+100,writing_coords['y'].min()-30)"
   ]
  },
  {
   "cell_type": "code",
   "execution_count": null,
   "id": "1cc90b5f",
   "metadata": {},
   "outputs": [],
   "source": [
    "# delete origin values\n",
    "writing_coords = writing_coords[(writing_coords.x != 683) & (writing_coords.y != 384)]"
   ]
  },
  {
   "cell_type": "code",
   "execution_count": null,
   "id": "d722f28e",
   "metadata": {},
   "outputs": [],
   "source": [
    "# select variables\n",
    "trial_cond=datat['all_trials']['S']['trial_cond']\n",
    "onset_image=pd.DataFrame(datat['all_trials']['S']['onset_image'])\n",
    "endtrial_time=pd.DataFrame(datat['all_trials']['S']['endtrial_time'])"
   ]
  },
  {
   "cell_type": "code",
   "execution_count": null,
   "id": "bed7cf29",
   "metadata": {},
   "outputs": [],
   "source": []
  }
 ],
 "metadata": {
  "kernelspec": {
   "display_name": "Python 3 (ipykernel)",
   "language": "python",
   "name": "python3"
  },
  "language_info": {
   "codemirror_mode": {
    "name": "ipython",
    "version": 3
   },
   "file_extension": ".py",
   "mimetype": "text/x-python",
   "name": "python",
   "nbconvert_exporter": "python",
   "pygments_lexer": "ipython3",
   "version": "3.9.18"
  }
 },
 "nbformat": 4,
 "nbformat_minor": 5
}
