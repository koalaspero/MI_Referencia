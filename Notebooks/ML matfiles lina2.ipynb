{
 "cells": [
  {
   "cell_type": "code",
   "execution_count": 1,
   "id": "263ec3e8",
   "metadata": {},
   "outputs": [],
   "source": [
    "#Cargamos las librerías necesarias para el análisis\n",
    "from sklearn.model_selection import train_test_split\n",
    "from sklearn.preprocessing import StandardScaler\n",
    "from sklearn.decomposition import PCA \n",
    "from sklearn.preprocessing import normalize\n",
    "from sklearn.preprocessing import MinMaxScaler\n",
    "import numpy as np\n",
    "import pandas as pd\n",
    "import time \n",
    "%matplotlib inline\n",
    "import matplotlib.pyplot as plt\n",
    "import seaborn as sns"
   ]
  },
  {
   "cell_type": "code",
   "execution_count": 2,
   "id": "45f05b3a",
   "metadata": {},
   "outputs": [],
   "source": [
    "import os\n",
    "from pathlib import Path\n",
    "from glob import glob\n",
    "import pathlib\n",
    "current_dir = '../data/Francis_data/Francis_data/Baseline_fmri/HC'\n",
    "all_sub_dir_paths = glob(str(current_dir) + '/*/') \n",
    "all_sub_dir_paths\n",
    "path = pathlib.PurePath(all_sub_dir_paths[0])"
   ]
  },
  {
   "cell_type": "code",
   "execution_count": 3,
   "id": "a3faca1c",
   "metadata": {},
   "outputs": [
    {
     "name": "stdout",
     "output_type": "stream",
     "text": [
      "1.25.2\n"
     ]
    }
   ],
   "source": [
    "import numpy as np\n",
    "\n",
    "print(np.__version__)"
   ]
  },
  {
   "cell_type": "code",
   "execution_count": 8,
   "id": "3b81e27c",
   "metadata": {
    "scrolled": true
   },
   "outputs": [
    {
     "name": "stdout",
     "output_type": "stream",
     "text": [
      "../data/Francis_data/Francis_data/Baseline_fmri/HC\\Habits_02\\\n"
     ]
    },
    {
     "ename": "ValueError",
     "evalue": "setting an array element with a sequence. The requested array has an inhomogeneous shape after 1 dimensions. The detected shape was (4,) + inhomogeneous part.",
     "output_type": "error",
     "traceback": [
      "\u001b[1;31m---------------------------------------------------------------------------\u001b[0m",
      "\u001b[1;31mValueError\u001b[0m                                Traceback (most recent call last)",
      "\u001b[1;32md:\\UniRelated\\10moSemestre\\Notebooks\\ML matfiles lina2.ipynb Cell 4\u001b[0m line \u001b[0;36m3\n\u001b[0;32m     <a href='vscode-notebook-cell:/d%3A/UniRelated/10moSemestre/Notebooks/ML%20matfiles%20lina2.ipynb#W3sZmlsZQ%3D%3D?line=30'>31</a>\u001b[0m time \u001b[39m=\u001b[39m time[\u001b[39m0\u001b[39m:\u001b[39mlen\u001b[39m(thePoints[:,\u001b[39m0\u001b[39m])] \u001b[39m# make same matrix size\u001b[39;00m\n\u001b[0;32m     <a href='vscode-notebook-cell:/d%3A/UniRelated/10moSemestre/Notebooks/ML%20matfiles%20lina2.ipynb#W3sZmlsZQ%3D%3D?line=31'>32</a>\u001b[0m data \u001b[39m=\u001b[39m [time, thePoints[:,\u001b[39m0\u001b[39m], thePoints[:,\u001b[39m1\u001b[39m], trial]\n\u001b[1;32m---> <a href='vscode-notebook-cell:/d%3A/UniRelated/10moSemestre/Notebooks/ML%20matfiles%20lina2.ipynb#W3sZmlsZQ%3D%3D?line=32'>33</a>\u001b[0m data \u001b[39m=\u001b[39m np\u001b[39m.\u001b[39;49mtranspose([time, thePoints[:,\u001b[39m0\u001b[39;49m], thePoints[:,\u001b[39m1\u001b[39;49m], trial])\n\u001b[0;32m     <a href='vscode-notebook-cell:/d%3A/UniRelated/10moSemestre/Notebooks/ML%20matfiles%20lina2.ipynb#W3sZmlsZQ%3D%3D?line=33'>34</a>\u001b[0m \u001b[39m#    data = data[(data[1] != 683) & (data[2] != 384)]\u001b[39;00m\n\u001b[0;32m     <a href='vscode-notebook-cell:/d%3A/UniRelated/10moSemestre/Notebooks/ML%20matfiles%20lina2.ipynb#W3sZmlsZQ%3D%3D?line=34'>35</a>\u001b[0m \u001b[39m#    df=pd.DataFrame.transpose(pd.DataFrame(data))\u001b[39;00m\n\u001b[0;32m     <a href='vscode-notebook-cell:/d%3A/UniRelated/10moSemestre/Notebooks/ML%20matfiles%20lina2.ipynb#W3sZmlsZQ%3D%3D?line=35'>36</a>\u001b[0m wdata\u001b[39m.\u001b[39mappend(data)\n",
      "File \u001b[1;32md:\\AppRelated\\Anaconda\\envs\\mi\\lib\\site-packages\\numpy\\core\\fromnumeric.py:655\u001b[0m, in \u001b[0;36mtranspose\u001b[1;34m(a, axes)\u001b[0m\n\u001b[0;32m    588\u001b[0m \u001b[39m@array_function_dispatch\u001b[39m(_transpose_dispatcher)\n\u001b[0;32m    589\u001b[0m \u001b[39mdef\u001b[39;00m \u001b[39mtranspose\u001b[39m(a, axes\u001b[39m=\u001b[39m\u001b[39mNone\u001b[39;00m):\n\u001b[0;32m    590\u001b[0m \u001b[39m    \u001b[39m\u001b[39m\"\"\"\u001b[39;00m\n\u001b[0;32m    591\u001b[0m \u001b[39m    Returns an array with axes transposed.\u001b[39;00m\n\u001b[0;32m    592\u001b[0m \n\u001b[1;32m   (...)\u001b[0m\n\u001b[0;32m    653\u001b[0m \n\u001b[0;32m    654\u001b[0m \u001b[39m    \"\"\"\u001b[39;00m\n\u001b[1;32m--> 655\u001b[0m     \u001b[39mreturn\u001b[39;00m _wrapfunc(a, \u001b[39m'\u001b[39;49m\u001b[39mtranspose\u001b[39;49m\u001b[39m'\u001b[39;49m, axes)\n",
      "File \u001b[1;32md:\\AppRelated\\Anaconda\\envs\\mi\\lib\\site-packages\\numpy\\core\\fromnumeric.py:56\u001b[0m, in \u001b[0;36m_wrapfunc\u001b[1;34m(obj, method, *args, **kwds)\u001b[0m\n\u001b[0;32m     54\u001b[0m bound \u001b[39m=\u001b[39m \u001b[39mgetattr\u001b[39m(obj, method, \u001b[39mNone\u001b[39;00m)\n\u001b[0;32m     55\u001b[0m \u001b[39mif\u001b[39;00m bound \u001b[39mis\u001b[39;00m \u001b[39mNone\u001b[39;00m:\n\u001b[1;32m---> 56\u001b[0m     \u001b[39mreturn\u001b[39;00m _wrapit(obj, method, \u001b[39m*\u001b[39margs, \u001b[39m*\u001b[39m\u001b[39m*\u001b[39mkwds)\n\u001b[0;32m     58\u001b[0m \u001b[39mtry\u001b[39;00m:\n\u001b[0;32m     59\u001b[0m     \u001b[39mreturn\u001b[39;00m bound(\u001b[39m*\u001b[39margs, \u001b[39m*\u001b[39m\u001b[39m*\u001b[39mkwds)\n",
      "File \u001b[1;32md:\\AppRelated\\Anaconda\\envs\\mi\\lib\\site-packages\\numpy\\core\\fromnumeric.py:45\u001b[0m, in \u001b[0;36m_wrapit\u001b[1;34m(obj, method, *args, **kwds)\u001b[0m\n\u001b[0;32m     43\u001b[0m \u001b[39mexcept\u001b[39;00m \u001b[39mAttributeError\u001b[39;00m:\n\u001b[0;32m     44\u001b[0m     wrap \u001b[39m=\u001b[39m \u001b[39mNone\u001b[39;00m\n\u001b[1;32m---> 45\u001b[0m result \u001b[39m=\u001b[39m \u001b[39mgetattr\u001b[39m(asarray(obj), method)(\u001b[39m*\u001b[39margs, \u001b[39m*\u001b[39m\u001b[39m*\u001b[39mkwds)\n\u001b[0;32m     46\u001b[0m \u001b[39mif\u001b[39;00m wrap:\n\u001b[0;32m     47\u001b[0m     \u001b[39mif\u001b[39;00m \u001b[39mnot\u001b[39;00m \u001b[39misinstance\u001b[39m(result, mu\u001b[39m.\u001b[39mndarray):\n",
      "\u001b[1;31mValueError\u001b[0m: setting an array element with a sequence. The requested array has an inhomogeneous shape after 1 dimensions. The detected shape was (4,) + inhomogeneous part."
     ]
    }
   ],
   "source": [
    "import os\n",
    "from pathlib import Path\n",
    "from glob import glob\n",
    "import pathlib\n",
    "from tsfresh import extract_features\n",
    "import pathlib\n",
    "from scipy.io import loadmat\n",
    "data=[]\n",
    "wdata=[]\n",
    "current_dir = '../data/Francis_data/Francis_data/Baseline_fmri/HC'\n",
    "group=1 # los grupos están organizados por carpetas. en este caso HC = grupo 1\n",
    "all_sub_dir_paths = glob(str(current_dir) + '/*/') \n",
    "all_sub_dir_paths\n",
    "i=0\n",
    "feat=[]\n",
    "for file in all_sub_dir_paths:\n",
    "    print(file)\n",
    "    folder = pathlib.PurePath(file)\n",
    "#    folder='/home/floayza/Documentos/lina/Francis_data/Baseline_fmri/HC/Habits_08//'\n",
    "    basemat='*.mat'\n",
    "    i=0\n",
    "    for file in sorted(glob(os.path.join(folder, basemat))):# recorremos y cargamos cada archivo .mat\n",
    "        dat=loadmat(file) # cargamos el archivo\n",
    "        thePoints=dat['S']['thePoints'][0][0] # seleccionamos los datos 'x' y 'y'\n",
    "        Sbuttons=dat['S']['Sbuttons'] # seleccionamos el bloque o ventana de datos\n",
    "        Ts=dat['S']['Ts'][0][0][0] # seleccionamos el tiempo\n",
    "        trial=dat['S']['trial_cond'][0][0][i][0] # seleccionamos la etiqueta 'cond'\n",
    "        length=len(Sbuttons[0][0])\n",
    "        rule = Ts[-1]/length\n",
    "        time = np.transpose(np.arange(start=0, stop=Ts[-1]+rule, step=rule))\n",
    "        time = time[0:len(thePoints[:,0])] # make same matrix size\n",
    "        data = [time, thePoints[:,0], thePoints[:,1], trial]\n",
    "        data = np.transpose([time, thePoints[:,0], thePoints[:,1], trial])\n",
    "        #    data = data[(data[1] != 683) & (data[2] != 384)]\n",
    "        #    df=pd.DataFrame.transpose(pd.DataFrame(data))\n",
    "        wdata.append(data)\n",
    "        i=i+1\n",
    "        #    data=[]\n",
    "        #print(file,i)\n",
    "        df=pd.DataFrame(wdata)\n",
    "        df.rename(columns={0: \"time\", 1: \"X\", 2: 'Y', 3: 'cond'}, inplace=True) # colocamos nombre a las columnas\n",
    "        features=[]\n",
    "        dfe=[]\n",
    "        feat=[]\n",
    "# Para la extracción de features, clasifico y concateno las matrices de todos los grupos por eventos.\n",
    "# df es el dataframe final\n",
    "    for event in range(40): # son 40 repeticiones en total por sujeto\n",
    "    #    ndf=df[(df['cond'] == event+1)]\n",
    "        print(event)\n",
    "                    #break\n",
    "    #    if ndf.shape[0]>0:\n",
    "    #    for i in range(15):\n",
    "    #    dfe=df['X'][event],df['Y'][event]\n",
    "        dfe = pd.DataFrame(columns=['id', 'time','x','y']) # creo un nuevo df con esas columnas\n",
    "        dfe['id']=np.ones(len(df['time'][event]),dtype=int) # id siempre el mismo para cada tramo\n",
    "        dfe['time']=df['time'][event] # reseteo el tiempo para cada tramo\n",
    "        dfe['x']=df['X'][event]\n",
    "        dfe['y']=df['Y'][event]\n",
    "        # delete origin values\n",
    "        dfe = dfe[(dfe.x != 683) & (dfe.y != 384)]                   \n",
    "        # extraemos las características\n",
    "        features = extract_features(dfe, column_id=\"id\", column_sort=\"time\")# extrae las 780 características\n",
    "        # añadimos las etiquetas. Recuerden que Python inicia desde '0', por eso sumamos 1.\n",
    "        features['event'] = df['cond'][event]#añadimos la etiqueta 'event' a cada fila de características\n",
    "        features['group'] = group #añadimos la etiqueta 'group' a cada fila de características\n",
    "        if (event)==0:#+subject+hand+group\n",
    "           feat=features\n",
    "        else:\n",
    "           feat=pd.concat([feat, features], ignore_index=True) # añadimos a la matriz inicial una fila por iteración.\n",
    "        path = pathlib.PurePath(folder)\n",
    "        feat.to_csv(os.path.join(folder,path.name+'.'+'csv')) # save csv file in directory\n",
    "        data=[]"
   ]
  },
  {
   "cell_type": "code",
   "execution_count": 18,
   "id": "3160bb3b",
   "metadata": {},
   "outputs": [
    {
     "data": {
      "text/html": [
       "<div>\n",
       "<style scoped>\n",
       "    .dataframe tbody tr th:only-of-type {\n",
       "        vertical-align: middle;\n",
       "    }\n",
       "\n",
       "    .dataframe tbody tr th {\n",
       "        vertical-align: top;\n",
       "    }\n",
       "\n",
       "    .dataframe thead th {\n",
       "        text-align: right;\n",
       "    }\n",
       "</style>\n",
       "<table border=\"1\" class=\"dataframe\">\n",
       "  <thead>\n",
       "    <tr style=\"text-align: right;\">\n",
       "      <th></th>\n",
       "    </tr>\n",
       "  </thead>\n",
       "  <tbody>\n",
       "  </tbody>\n",
       "</table>\n",
       "</div>"
      ],
      "text/plain": [
       "Empty DataFrame\n",
       "Columns: []\n",
       "Index: []"
      ]
     },
     "execution_count": 18,
     "metadata": {},
     "output_type": "execute_result"
    }
   ],
   "source": [
    "df=pd.DataFrame(wdata)\n",
    "df.rename(columns={0: \"time\", 1: \"X\", 2: 'Y', 3: 'cond'}, inplace=True)\n",
    "df"
   ]
  },
  {
   "cell_type": "code",
   "execution_count": 10,
   "id": "a797b332",
   "metadata": {},
   "outputs": [
    {
     "data": {
      "text/html": [
       "<div>\n",
       "<style scoped>\n",
       "    .dataframe tbody tr th:only-of-type {\n",
       "        vertical-align: middle;\n",
       "    }\n",
       "\n",
       "    .dataframe tbody tr th {\n",
       "        vertical-align: top;\n",
       "    }\n",
       "\n",
       "    .dataframe thead th {\n",
       "        text-align: right;\n",
       "    }\n",
       "</style>\n",
       "<table border=\"1\" class=\"dataframe\">\n",
       "  <thead>\n",
       "    <tr style=\"text-align: right;\">\n",
       "      <th></th>\n",
       "    </tr>\n",
       "  </thead>\n",
       "  <tbody>\n",
       "  </tbody>\n",
       "</table>\n",
       "</div>"
      ],
      "text/plain": [
       "Empty DataFrame\n",
       "Columns: []\n",
       "Index: []"
      ]
     },
     "execution_count": 10,
     "metadata": {},
     "output_type": "execute_result"
    }
   ],
   "source": [
    "df"
   ]
  },
  {
   "cell_type": "code",
   "execution_count": 12,
   "id": "57655f41",
   "metadata": {},
   "outputs": [
    {
     "ename": "KeyError",
     "evalue": "'time'",
     "output_type": "error",
     "traceback": [
      "\u001b[1;31m---------------------------------------------------------------------------\u001b[0m",
      "\u001b[1;31mKeyError\u001b[0m                                  Traceback (most recent call last)",
      "File \u001b[1;32md:\\AppRelated\\Anaconda\\envs\\mi\\lib\\site-packages\\pandas\\core\\indexes\\base.py:3790\u001b[0m, in \u001b[0;36mIndex.get_loc\u001b[1;34m(self, key)\u001b[0m\n\u001b[0;32m   3789\u001b[0m \u001b[39mtry\u001b[39;00m:\n\u001b[1;32m-> 3790\u001b[0m     \u001b[39mreturn\u001b[39;00m \u001b[39mself\u001b[39;49m\u001b[39m.\u001b[39;49m_engine\u001b[39m.\u001b[39;49mget_loc(casted_key)\n\u001b[0;32m   3791\u001b[0m \u001b[39mexcept\u001b[39;00m \u001b[39mKeyError\u001b[39;00m \u001b[39mas\u001b[39;00m err:\n",
      "File \u001b[1;32mindex.pyx:152\u001b[0m, in \u001b[0;36mpandas._libs.index.IndexEngine.get_loc\u001b[1;34m()\u001b[0m\n",
      "File \u001b[1;32mindex.pyx:181\u001b[0m, in \u001b[0;36mpandas._libs.index.IndexEngine.get_loc\u001b[1;34m()\u001b[0m\n",
      "File \u001b[1;32mpandas\\_libs\\hashtable_class_helper.pxi:7080\u001b[0m, in \u001b[0;36mpandas._libs.hashtable.PyObjectHashTable.get_item\u001b[1;34m()\u001b[0m\n",
      "File \u001b[1;32mpandas\\_libs\\hashtable_class_helper.pxi:7088\u001b[0m, in \u001b[0;36mpandas._libs.hashtable.PyObjectHashTable.get_item\u001b[1;34m()\u001b[0m\n",
      "\u001b[1;31mKeyError\u001b[0m: 'time'",
      "\nThe above exception was the direct cause of the following exception:\n",
      "\u001b[1;31mKeyError\u001b[0m                                  Traceback (most recent call last)",
      "\u001b[1;32md:\\UniRelated\\10moSemestre\\Notebooks\\ML matfiles lina2.ipynb Cell 7\u001b[0m line \u001b[0;36m1\n\u001b[1;32m----> <a href='vscode-notebook-cell:/d%3A/UniRelated/10moSemestre/Notebooks/ML%20matfiles%20lina2.ipynb#W6sZmlsZQ%3D%3D?line=0'>1</a>\u001b[0m dfe[\u001b[39m'\u001b[39m\u001b[39mid\u001b[39m\u001b[39m'\u001b[39m]\u001b[39m=\u001b[39mnp\u001b[39m.\u001b[39mones(\u001b[39mlen\u001b[39m(df[\u001b[39m'\u001b[39;49m\u001b[39mtime\u001b[39;49m\u001b[39m'\u001b[39;49m][event]),dtype\u001b[39m=\u001b[39m\u001b[39mint\u001b[39m)\n",
      "File \u001b[1;32md:\\AppRelated\\Anaconda\\envs\\mi\\lib\\site-packages\\pandas\\core\\frame.py:3896\u001b[0m, in \u001b[0;36mDataFrame.__getitem__\u001b[1;34m(self, key)\u001b[0m\n\u001b[0;32m   3894\u001b[0m \u001b[39mif\u001b[39;00m \u001b[39mself\u001b[39m\u001b[39m.\u001b[39mcolumns\u001b[39m.\u001b[39mnlevels \u001b[39m>\u001b[39m \u001b[39m1\u001b[39m:\n\u001b[0;32m   3895\u001b[0m     \u001b[39mreturn\u001b[39;00m \u001b[39mself\u001b[39m\u001b[39m.\u001b[39m_getitem_multilevel(key)\n\u001b[1;32m-> 3896\u001b[0m indexer \u001b[39m=\u001b[39m \u001b[39mself\u001b[39;49m\u001b[39m.\u001b[39;49mcolumns\u001b[39m.\u001b[39;49mget_loc(key)\n\u001b[0;32m   3897\u001b[0m \u001b[39mif\u001b[39;00m is_integer(indexer):\n\u001b[0;32m   3898\u001b[0m     indexer \u001b[39m=\u001b[39m [indexer]\n",
      "File \u001b[1;32md:\\AppRelated\\Anaconda\\envs\\mi\\lib\\site-packages\\pandas\\core\\indexes\\base.py:3797\u001b[0m, in \u001b[0;36mIndex.get_loc\u001b[1;34m(self, key)\u001b[0m\n\u001b[0;32m   3792\u001b[0m     \u001b[39mif\u001b[39;00m \u001b[39misinstance\u001b[39m(casted_key, \u001b[39mslice\u001b[39m) \u001b[39mor\u001b[39;00m (\n\u001b[0;32m   3793\u001b[0m         \u001b[39misinstance\u001b[39m(casted_key, abc\u001b[39m.\u001b[39mIterable)\n\u001b[0;32m   3794\u001b[0m         \u001b[39mand\u001b[39;00m \u001b[39many\u001b[39m(\u001b[39misinstance\u001b[39m(x, \u001b[39mslice\u001b[39m) \u001b[39mfor\u001b[39;00m x \u001b[39min\u001b[39;00m casted_key)\n\u001b[0;32m   3795\u001b[0m     ):\n\u001b[0;32m   3796\u001b[0m         \u001b[39mraise\u001b[39;00m InvalidIndexError(key)\n\u001b[1;32m-> 3797\u001b[0m     \u001b[39mraise\u001b[39;00m \u001b[39mKeyError\u001b[39;00m(key) \u001b[39mfrom\u001b[39;00m \u001b[39merr\u001b[39;00m\n\u001b[0;32m   3798\u001b[0m \u001b[39mexcept\u001b[39;00m \u001b[39mTypeError\u001b[39;00m:\n\u001b[0;32m   3799\u001b[0m     \u001b[39m# If we have a listlike key, _check_indexing_error will raise\u001b[39;00m\n\u001b[0;32m   3800\u001b[0m     \u001b[39m#  InvalidIndexError. Otherwise we fall through and re-raise\u001b[39;00m\n\u001b[0;32m   3801\u001b[0m     \u001b[39m#  the TypeError.\u001b[39;00m\n\u001b[0;32m   3802\u001b[0m     \u001b[39mself\u001b[39m\u001b[39m.\u001b[39m_check_indexing_error(key)\n",
      "\u001b[1;31mKeyError\u001b[0m: 'time'"
     ]
    }
   ],
   "source": [
    "dfe['id']=np.ones(len(df['time'][event]),dtype=int)"
   ]
  },
  {
   "cell_type": "code",
   "execution_count": 13,
   "id": "667c90c7",
   "metadata": {},
   "outputs": [
    {
     "ename": "KeyError",
     "evalue": "'X'",
     "output_type": "error",
     "traceback": [
      "\u001b[1;31m---------------------------------------------------------------------------\u001b[0m",
      "\u001b[1;31mKeyError\u001b[0m                                  Traceback (most recent call last)",
      "File \u001b[1;32md:\\AppRelated\\Anaconda\\envs\\mi\\lib\\site-packages\\pandas\\core\\indexes\\base.py:3790\u001b[0m, in \u001b[0;36mIndex.get_loc\u001b[1;34m(self, key)\u001b[0m\n\u001b[0;32m   3789\u001b[0m \u001b[39mtry\u001b[39;00m:\n\u001b[1;32m-> 3790\u001b[0m     \u001b[39mreturn\u001b[39;00m \u001b[39mself\u001b[39;49m\u001b[39m.\u001b[39;49m_engine\u001b[39m.\u001b[39;49mget_loc(casted_key)\n\u001b[0;32m   3791\u001b[0m \u001b[39mexcept\u001b[39;00m \u001b[39mKeyError\u001b[39;00m \u001b[39mas\u001b[39;00m err:\n",
      "File \u001b[1;32mindex.pyx:152\u001b[0m, in \u001b[0;36mpandas._libs.index.IndexEngine.get_loc\u001b[1;34m()\u001b[0m\n",
      "File \u001b[1;32mindex.pyx:181\u001b[0m, in \u001b[0;36mpandas._libs.index.IndexEngine.get_loc\u001b[1;34m()\u001b[0m\n",
      "File \u001b[1;32mpandas\\_libs\\hashtable_class_helper.pxi:7080\u001b[0m, in \u001b[0;36mpandas._libs.hashtable.PyObjectHashTable.get_item\u001b[1;34m()\u001b[0m\n",
      "File \u001b[1;32mpandas\\_libs\\hashtable_class_helper.pxi:7088\u001b[0m, in \u001b[0;36mpandas._libs.hashtable.PyObjectHashTable.get_item\u001b[1;34m()\u001b[0m\n",
      "\u001b[1;31mKeyError\u001b[0m: 'X'",
      "\nThe above exception was the direct cause of the following exception:\n",
      "\u001b[1;31mKeyError\u001b[0m                                  Traceback (most recent call last)",
      "\u001b[1;32md:\\UniRelated\\10moSemestre\\Notebooks\\ML matfiles lina2.ipynb Cell 8\u001b[0m line \u001b[0;36m3\n\u001b[0;32m      <a href='vscode-notebook-cell:/d%3A/UniRelated/10moSemestre/Notebooks/ML%20matfiles%20lina2.ipynb#X10sZmlsZQ%3D%3D?line=0'>1</a>\u001b[0m \u001b[39m# plot from raw data\u001b[39;00m\n\u001b[0;32m      <a href='vscode-notebook-cell:/d%3A/UniRelated/10moSemestre/Notebooks/ML%20matfiles%20lina2.ipynb#X10sZmlsZQ%3D%3D?line=1'>2</a>\u001b[0m a\u001b[39m=\u001b[39m\u001b[39m3\u001b[39m \u001b[39m# number of trial\u001b[39;00m\n\u001b[1;32m----> <a href='vscode-notebook-cell:/d%3A/UniRelated/10moSemestre/Notebooks/ML%20matfiles%20lina2.ipynb#X10sZmlsZQ%3D%3D?line=2'>3</a>\u001b[0m plt\u001b[39m.\u001b[39mplot(df[\u001b[39m'\u001b[39;49m\u001b[39mX\u001b[39;49m\u001b[39m'\u001b[39;49m][a],df[\u001b[39m'\u001b[39m\u001b[39mY\u001b[39m\u001b[39m'\u001b[39m][a],)\n\u001b[0;32m      <a href='vscode-notebook-cell:/d%3A/UniRelated/10moSemestre/Notebooks/ML%20matfiles%20lina2.ipynb#X10sZmlsZQ%3D%3D?line=3'>4</a>\u001b[0m plt\u001b[39m.\u001b[39mylim(df[\u001b[39m'\u001b[39m\u001b[39mY\u001b[39m\u001b[39m'\u001b[39m][a]\u001b[39m.\u001b[39mmin()\u001b[39m+\u001b[39m\u001b[39m300\u001b[39m,df[\u001b[39m'\u001b[39m\u001b[39mY\u001b[39m\u001b[39m'\u001b[39m][a]\u001b[39m.\u001b[39mmin()\u001b[39m+\u001b[39m\u001b[39m50\u001b[39m)\n",
      "File \u001b[1;32md:\\AppRelated\\Anaconda\\envs\\mi\\lib\\site-packages\\pandas\\core\\frame.py:3896\u001b[0m, in \u001b[0;36mDataFrame.__getitem__\u001b[1;34m(self, key)\u001b[0m\n\u001b[0;32m   3894\u001b[0m \u001b[39mif\u001b[39;00m \u001b[39mself\u001b[39m\u001b[39m.\u001b[39mcolumns\u001b[39m.\u001b[39mnlevels \u001b[39m>\u001b[39m \u001b[39m1\u001b[39m:\n\u001b[0;32m   3895\u001b[0m     \u001b[39mreturn\u001b[39;00m \u001b[39mself\u001b[39m\u001b[39m.\u001b[39m_getitem_multilevel(key)\n\u001b[1;32m-> 3896\u001b[0m indexer \u001b[39m=\u001b[39m \u001b[39mself\u001b[39;49m\u001b[39m.\u001b[39;49mcolumns\u001b[39m.\u001b[39;49mget_loc(key)\n\u001b[0;32m   3897\u001b[0m \u001b[39mif\u001b[39;00m is_integer(indexer):\n\u001b[0;32m   3898\u001b[0m     indexer \u001b[39m=\u001b[39m [indexer]\n",
      "File \u001b[1;32md:\\AppRelated\\Anaconda\\envs\\mi\\lib\\site-packages\\pandas\\core\\indexes\\base.py:3797\u001b[0m, in \u001b[0;36mIndex.get_loc\u001b[1;34m(self, key)\u001b[0m\n\u001b[0;32m   3792\u001b[0m     \u001b[39mif\u001b[39;00m \u001b[39misinstance\u001b[39m(casted_key, \u001b[39mslice\u001b[39m) \u001b[39mor\u001b[39;00m (\n\u001b[0;32m   3793\u001b[0m         \u001b[39misinstance\u001b[39m(casted_key, abc\u001b[39m.\u001b[39mIterable)\n\u001b[0;32m   3794\u001b[0m         \u001b[39mand\u001b[39;00m \u001b[39many\u001b[39m(\u001b[39misinstance\u001b[39m(x, \u001b[39mslice\u001b[39m) \u001b[39mfor\u001b[39;00m x \u001b[39min\u001b[39;00m casted_key)\n\u001b[0;32m   3795\u001b[0m     ):\n\u001b[0;32m   3796\u001b[0m         \u001b[39mraise\u001b[39;00m InvalidIndexError(key)\n\u001b[1;32m-> 3797\u001b[0m     \u001b[39mraise\u001b[39;00m \u001b[39mKeyError\u001b[39;00m(key) \u001b[39mfrom\u001b[39;00m \u001b[39merr\u001b[39;00m\n\u001b[0;32m   3798\u001b[0m \u001b[39mexcept\u001b[39;00m \u001b[39mTypeError\u001b[39;00m:\n\u001b[0;32m   3799\u001b[0m     \u001b[39m# If we have a listlike key, _check_indexing_error will raise\u001b[39;00m\n\u001b[0;32m   3800\u001b[0m     \u001b[39m#  InvalidIndexError. Otherwise we fall through and re-raise\u001b[39;00m\n\u001b[0;32m   3801\u001b[0m     \u001b[39m#  the TypeError.\u001b[39;00m\n\u001b[0;32m   3802\u001b[0m     \u001b[39mself\u001b[39m\u001b[39m.\u001b[39m_check_indexing_error(key)\n",
      "\u001b[1;31mKeyError\u001b[0m: 'X'"
     ]
    }
   ],
   "source": [
    "# plot from raw data\n",
    "a=3 # number of trial\n",
    "plt.plot(df['X'][a],df['Y'][a],)\n",
    "plt.ylim(df['Y'][a].min()+300,df['Y'][a].min()+50)"
   ]
  },
  {
   "cell_type": "code",
   "execution_count": 7,
   "id": "c3df9ea4",
   "metadata": {
    "scrolled": true
   },
   "outputs": [
    {
     "name": "stdout",
     "output_type": "stream",
     "text": [
      "0\n"
     ]
    },
    {
     "ename": "NameError",
     "evalue": "name 'df' is not defined",
     "output_type": "error",
     "traceback": [
      "\u001b[1;31m---------------------------------------------------------------------------\u001b[0m",
      "\u001b[1;31mNameError\u001b[0m                                 Traceback (most recent call last)",
      "\u001b[1;32md:\\UniRelated\\10moSemestre\\Notebooks\\ML matfiles lina2.ipynb Cell 9\u001b[0m line \u001b[0;36m1\n\u001b[0;32m     <a href='vscode-notebook-cell:/d%3A/UniRelated/10moSemestre/Notebooks/ML%20matfiles%20lina2.ipynb#X11sZmlsZQ%3D%3D?line=11'>12</a>\u001b[0m                 \u001b[39m#break\u001b[39;00m\n\u001b[0;32m     <a href='vscode-notebook-cell:/d%3A/UniRelated/10moSemestre/Notebooks/ML%20matfiles%20lina2.ipynb#X11sZmlsZQ%3D%3D?line=12'>13</a>\u001b[0m \u001b[39m#    if ndf.shape[0]>0:\u001b[39;00m\n\u001b[0;32m     <a href='vscode-notebook-cell:/d%3A/UniRelated/10moSemestre/Notebooks/ML%20matfiles%20lina2.ipynb#X11sZmlsZQ%3D%3D?line=13'>14</a>\u001b[0m \u001b[39m#    for i in range(15):\u001b[39;00m\n\u001b[0;32m     <a href='vscode-notebook-cell:/d%3A/UniRelated/10moSemestre/Notebooks/ML%20matfiles%20lina2.ipynb#X11sZmlsZQ%3D%3D?line=14'>15</a>\u001b[0m \u001b[39m#    dfe=df['X'][event],df['Y'][event]\u001b[39;00m\n\u001b[0;32m     <a href='vscode-notebook-cell:/d%3A/UniRelated/10moSemestre/Notebooks/ML%20matfiles%20lina2.ipynb#X11sZmlsZQ%3D%3D?line=15'>16</a>\u001b[0m     dfe \u001b[39m=\u001b[39m pd\u001b[39m.\u001b[39mDataFrame(columns\u001b[39m=\u001b[39m[\u001b[39m'\u001b[39m\u001b[39mid\u001b[39m\u001b[39m'\u001b[39m, \u001b[39m'\u001b[39m\u001b[39mtime\u001b[39m\u001b[39m'\u001b[39m,\u001b[39m'\u001b[39m\u001b[39mx\u001b[39m\u001b[39m'\u001b[39m,\u001b[39m'\u001b[39m\u001b[39my\u001b[39m\u001b[39m'\u001b[39m])\n\u001b[1;32m---> <a href='vscode-notebook-cell:/d%3A/UniRelated/10moSemestre/Notebooks/ML%20matfiles%20lina2.ipynb#X11sZmlsZQ%3D%3D?line=16'>17</a>\u001b[0m     dfe[\u001b[39m'\u001b[39m\u001b[39mid\u001b[39m\u001b[39m'\u001b[39m]\u001b[39m=\u001b[39mnp\u001b[39m.\u001b[39mones(\u001b[39mlen\u001b[39m(df[\u001b[39m'\u001b[39m\u001b[39mtime\u001b[39m\u001b[39m'\u001b[39m][event]),dtype\u001b[39m=\u001b[39m\u001b[39mint\u001b[39m) \u001b[39m# id siempre el mismo para cada tramo\u001b[39;00m\n\u001b[0;32m     <a href='vscode-notebook-cell:/d%3A/UniRelated/10moSemestre/Notebooks/ML%20matfiles%20lina2.ipynb#X11sZmlsZQ%3D%3D?line=17'>18</a>\u001b[0m     dfe[\u001b[39m'\u001b[39m\u001b[39mtime\u001b[39m\u001b[39m'\u001b[39m]\u001b[39m=\u001b[39mdf[\u001b[39m'\u001b[39m\u001b[39mtime\u001b[39m\u001b[39m'\u001b[39m][event] \u001b[39m# reseteo el tiempo para cada tramo\u001b[39;00m\n\u001b[0;32m     <a href='vscode-notebook-cell:/d%3A/UniRelated/10moSemestre/Notebooks/ML%20matfiles%20lina2.ipynb#X11sZmlsZQ%3D%3D?line=18'>19</a>\u001b[0m     dfe[\u001b[39m'\u001b[39m\u001b[39mx\u001b[39m\u001b[39m'\u001b[39m]\u001b[39m=\u001b[39mdf[\u001b[39m'\u001b[39m\u001b[39mX\u001b[39m\u001b[39m'\u001b[39m][event]\n",
      "\u001b[1;31mNameError\u001b[0m: name 'df' is not defined"
     ]
    }
   ],
   "source": [
    "from tsfresh import extract_features\n",
    "features=[]\n",
    "dfe=[]\n",
    "feat=[]\n",
    "# Para la extracción de features, clasifico y concateno las matrices de todos los grupos por eventos.\n",
    "# Dado que hay 5 eventos diferentes y que para cada sujeto, el número de datos es diferente ya que se eliminaron\n",
    "# los parpadeos y cerradas de ojos. Por tanto se concatena por evento y luego por cada evento lo dividimos\n",
    "# en 10 tramos o ventanas. A cada tramo se considera una serie temporal y se extraen características por tramo.\n",
    "for event in range(40):\n",
    "#    ndf=df[(df['cond'] == event+1)]\n",
    "    print(event)\n",
    "                #break\n",
    "#    if ndf.shape[0]>0:\n",
    "#    for i in range(15):\n",
    "#    dfe=df['X'][event],df['Y'][event]\n",
    "    dfe = pd.DataFrame(columns=['id', 'time','x','y'])\n",
    "    dfe['id']=np.ones(len(df['time'][event]),dtype=int) # id siempre el mismo para cada tramo\n",
    "    dfe['time']=df['time'][event] # reseteo el tiempo para cada tramo\n",
    "    dfe['x']=df['X'][event]\n",
    "    dfe['y']=df['Y'][event]\n",
    "    # delete origin values\n",
    "    dfe = dfe[(dfe.x != 683) & (dfe.y != 384)]                   \n",
    "    # extraemos las características\n",
    "    features = extract_features(dfe, column_id=\"id\", column_sort=\"time\")\n",
    "    # añadimos las etiquetas. Recuerden que Python inicia desde '0', por eso sumamos 1.\n",
    "    features['event'] = df['cond'][event]\n",
    "    if (event)==0:#+subject+hand+group\n",
    "       feat=features\n",
    "    else:\n",
    "       feat=pd.concat([feat, features], ignore_index=True) # añadimos a la matriz inicial una fila por iteración.\n",
    "    "
   ]
  },
  {
   "cell_type": "code",
   "execution_count": null,
   "id": "99eeb817",
   "metadata": {},
   "outputs": [],
   "source": [
    "feat.shape"
   ]
  },
  {
   "cell_type": "code",
   "execution_count": null,
   "id": "aeeb95a8",
   "metadata": {},
   "outputs": [],
   "source": [
    "# saving data in the corresponding directory\n",
    "import pathlib\n",
    "path = pathlib.PurePath(folder)\n",
    "feat.to_csv(os.path.join(folder,path.name+'.'+'csv')) # save csv file in directory"
   ]
  },
  {
   "cell_type": "code",
   "execution_count": null,
   "id": "9fa93a7b",
   "metadata": {},
   "outputs": [],
   "source": []
  },
  {
   "cell_type": "code",
   "execution_count": null,
   "id": "cbec9dbc",
   "metadata": {},
   "outputs": [],
   "source": []
  },
  {
   "cell_type": "code",
   "execution_count": null,
   "id": "d2c7c905",
   "metadata": {},
   "outputs": [],
   "source": []
  },
  {
   "cell_type": "code",
   "execution_count": null,
   "id": "8885c138",
   "metadata": {},
   "outputs": [],
   "source": []
  },
  {
   "cell_type": "code",
   "execution_count": null,
   "id": "0dd11587",
   "metadata": {},
   "outputs": [],
   "source": [
    "for event in range(3):\n",
    "    ndf=df[(df['cond'] == event+1)]\n",
    "    print(event)\n",
    "    dfe = pd.DataFrame(columns=['id', 'time','x','y'])\n",
    "    dfe['id']=np.ones(len(df['X'][event]),dtype=int) # id siempre el mismo para cada tramo\n",
    "    dfe['time']=df['time'][event] # reseteo el tiempo para cada tramo\n",
    "    dfe['x']=df['X'][event]\n",
    "    dfe['y']=df['Y'][event]\n",
    "    # delete origin values\n",
    "    dfe = dfe[(dfe.x != 683) & (dfe.y != 384)]\n",
    "dfe"
   ]
  },
  {
   "cell_type": "code",
   "execution_count": null,
   "id": "d649a0f5",
   "metadata": {},
   "outputs": [],
   "source": [
    "# concat variables time and coords. important: time and coords are not the same size. I dont know why?\n",
    "frames=[time,thePoints]\n",
    "writing_coords=pd.concat(frames, axis=1)\n",
    "writing_coords.rename(columns={0:'time'}, inplace=True)\n",
    "writing_coords"
   ]
  },
  {
   "cell_type": "code",
   "execution_count": null,
   "id": "b4a1b9c2",
   "metadata": {},
   "outputs": [],
   "source": [
    "# plot from raw data\n",
    "plt.plot(writing_coords['x'],writing_coords['y'],)\n",
    "plt.ylim(writing_coords['y'].min()+100,writing_coords['y'].min()-30)"
   ]
  },
  {
   "cell_type": "code",
   "execution_count": null,
   "id": "1cc90b5f",
   "metadata": {},
   "outputs": [],
   "source": [
    "# delete origin values\n",
    "writing_coords = writing_coords[(writing_coords.x != 683) & (writing_coords.y != 384)]"
   ]
  },
  {
   "cell_type": "code",
   "execution_count": null,
   "id": "d722f28e",
   "metadata": {},
   "outputs": [],
   "source": [
    "# select variables\n",
    "trial_cond=datat['all_trials']['S']['trial_cond']\n",
    "onset_image=pd.DataFrame(datat['all_trials']['S']['onset_image'])\n",
    "endtrial_time=pd.DataFrame(datat['all_trials']['S']['endtrial_time'])"
   ]
  },
  {
   "cell_type": "code",
   "execution_count": null,
   "id": "bed7cf29",
   "metadata": {},
   "outputs": [],
   "source": []
  }
 ],
 "metadata": {
  "kernelspec": {
   "display_name": "Python 3 (ipykernel)",
   "language": "python",
   "name": "python3"
  },
  "language_info": {
   "codemirror_mode": {
    "name": "ipython",
    "version": 3
   },
   "file_extension": ".py",
   "mimetype": "text/x-python",
   "name": "python",
   "nbconvert_exporter": "python",
   "pygments_lexer": "ipython3",
   "version": "3.9.18"
  }
 },
 "nbformat": 4,
 "nbformat_minor": 5
}
