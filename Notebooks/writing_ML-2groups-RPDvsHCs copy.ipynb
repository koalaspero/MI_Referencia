{
 "cells": [
  {
   "cell_type": "code",
   "execution_count": 1,
   "id": "205ea1b0",
   "metadata": {},
   "outputs": [],
   "source": [
    "#Cargamos las librerías necesarias para el análisis\n",
    "from sklearn.model_selection import train_test_split\n",
    "from sklearn.preprocessing import StandardScaler\n",
    "from sklearn.decomposition import PCA \n",
    "from sklearn.preprocessing import normalize\n",
    "from sklearn.preprocessing import MinMaxScaler\n",
    "import numpy as np\n",
    "import pandas as pd\n",
    "import time \n",
    "%matplotlib inline\n",
    "import matplotlib.pyplot as plt\n",
    "import seaborn as sns\n",
    "from scipy.signal import hilbert"
   ]
  },
  {
   "cell_type": "code",
   "execution_count": null,
   "id": "bc5b0371",
   "metadata": {},
   "outputs": [],
   "source": [
    "df_hc = pd.read_excel('Database__writng_ML.xlsx','HC')\n",
    "del df_hc['n'] # eliminamos la numeración\n",
    "del df_hc['Suj']# delete the subject ID\n",
    "df_hc"
   ]
  },
  {
   "cell_type": "code",
   "execution_count": null,
   "id": "729c0d25",
   "metadata": {},
   "outputs": [],
   "source": [
    "df_R = pd.read_excel('Database__writng_ML.xlsx','PD_leftAS')\n",
    "del df_R['n'] # eliminamos la numeración\n",
    "del df_R['Suj']# delete the subject ID\n",
    "df_R"
   ]
  },
  {
   "cell_type": "code",
   "execution_count": null,
   "id": "e880a05f",
   "metadata": {},
   "outputs": [],
   "source": [
    "frames = [df_R, df_hc]\n",
    "X = pd.concat(frames, ignore_index=True)\n",
    "X"
   ]
  },
  {
   "cell_type": "code",
   "execution_count": null,
   "id": "36840939",
   "metadata": {},
   "outputs": [],
   "source": [
    "yhc=np.ones(30)*2\n",
    "#yl=np.ones(21)\n",
    "yr=np.ones(21)\n",
    "y = np.concatenate(( yr, yhc))\n",
    "y"
   ]
  },
  {
   "cell_type": "code",
   "execution_count": null,
   "id": "daa7ea6f",
   "metadata": {},
   "outputs": [],
   "source": [
    "X['y']=y.tolist()# insert y to plot\n",
    "X_selected=X\n",
    "X"
   ]
  },
  {
   "cell_type": "code",
   "execution_count": null,
   "id": "e21d2050",
   "metadata": {},
   "outputs": [],
   "source": [
    "# plots para revisar variables o features extraidas\n",
    "import warnings\n",
    "warnings.filterwarnings('ignore')\n",
    "# separo los 3 grupos para ver si existen ouliers que se relacionan con los grupos\n",
    "LPD=X_selected.loc[X_selected['y'] == 1]\n",
    "#RPD=X_selected.loc[X_selected['y'] == 1]\n",
    "HCs=X_selected.loc[X_selected['y'] == 2]\n",
    "plt.subplots(figsize=(15,45))\n",
    "sns.set_style('darkgrid')\n",
    "plt.subplots_adjust (hspace=0.4, wspace=0.2)\n",
    "i=0\n",
    "for col in LPD.columns:\n",
    "    i+=1\n",
    "    plt.subplot(10,3,i)\n",
    "    sns.lineplot(data=LPD[col],color='r',label='LPD')\n",
    "#    sns.lineplot(data=RPD[col],color='r',label='RPD')\n",
    "    sns.lineplot(data=HCs[col],color='g',label='HCs')\n",
    "    plt.legend(loc='upper right')\n",
    "    plt.title(col)\n",
    "    if i==30:\n",
    "        break"
   ]
  },
  {
   "cell_type": "code",
   "execution_count": null,
   "id": "b78c3234",
   "metadata": {
    "scrolled": true
   },
   "outputs": [],
   "source": [
    "# Plot para analizar la distribución de cada una de las variables.\n",
    "plt.subplots(figsize=(15,45))\n",
    "sns.set_style('darkgrid')\n",
    "plt.subplots_adjust (hspace=0.4, wspace=0.2)\n",
    "i=0\n",
    "for col in LPD.columns:\n",
    "    i+=1\n",
    "    plt.subplot(10,3,i)\n",
    "    # first (0th) column of M is diagnosis, non-numerical\n",
    "    sns.histplot(data=LPD[col],color=\"r\", label=\"LPD\", kde=True, stat=\"density\", linewidth=0, element=\"poly\", fill=False)\n",
    "#    sns.histplot(data=RPD[col],color=\"r\", label=\"RPD\", kde=True, stat=\"density\", linewidth=0, element=\"step\", fill=False)\n",
    "    sns.histplot(data=HCs[col],color=\"g\", label=\"HCs\", kde=True, stat=\"density\", linewidth=0, element=\"step\", fill=False)\n",
    "    plt.legend(loc='upper right')\n",
    "    plt.title(col)\n",
    "    if i==12:\n",
    "        break"
   ]
  },
  {
   "cell_type": "code",
   "execution_count": null,
   "id": "51e25fd2",
   "metadata": {},
   "outputs": [],
   "source": [
    "# delete the label y\n",
    "del X['y']\n",
    "X"
   ]
  },
  {
   "cell_type": "code",
   "execution_count": null,
   "id": "c5def2f8",
   "metadata": {},
   "outputs": [],
   "source": [
    "# normalize all data along columns\n",
    "#test without normalize\n",
    "scaler = StandardScaler() \n",
    "X = pd.DataFrame(scaler.fit_transform(X),columns = X.columns)\n",
    "X"
   ]
  },
  {
   "cell_type": "code",
   "execution_count": null,
   "id": "774a7584",
   "metadata": {},
   "outputs": [],
   "source": [
    "# feature importance based on Tree Based Classifiers\n",
    "#X = features.iloc[:,0:1578]  #independent columns\n",
    "#y = features.iloc[:,-1]    #target column i.e group (LPD, RPD and HCs)\n",
    "from sklearn.ensemble import ExtraTreesClassifier\n",
    "import matplotlib.pyplot as plt\n",
    "model = ExtraTreesClassifier()\n",
    "model.fit(X,y)\n",
    "print(model.feature_importances_) #use inbuilt class feature_importances of tree based classifiers\n",
    "#plot graph of feature importances for better visualization\n",
    "feat_importances = pd.Series(model.feature_importances_, index=X.columns)\n",
    "feat_importances.nlargest(20).plot(kind='barh', figsize=(8,8))\n",
    "plt.show()"
   ]
  },
  {
   "cell_type": "code",
   "execution_count": null,
   "id": "11e63d74",
   "metadata": {},
   "outputs": [],
   "source": [
    "#get correlations of each features in dataset (you can re-run adding or removing higher correlated features)\n",
    "corrmat = X.corr()\n",
    "top_corr_features = corrmat.index\n",
    "plt.figure(figsize=(20,20))\n",
    "#plot heat map\n",
    "g=sns.heatmap(X[top_corr_features].corr(),annot=True,cmap=\"RdYlGn\")"
   ]
  },
  {
   "cell_type": "code",
   "execution_count": null,
   "id": "e2113d43",
   "metadata": {},
   "outputs": [],
   "source": [
    "# once data preprocessing, Machine learning"
   ]
  },
  {
   "cell_type": "code",
   "execution_count": null,
   "id": "3d13defc",
   "metadata": {},
   "outputs": [],
   "source": [
    "from sklearn.svm import SVC\n",
    "from sklearn.ensemble import AdaBoostClassifier\n",
    "from sklearn.linear_model import LogisticRegression\n",
    "from sklearn.tree import DecisionTreeClassifier\n",
    "from sklearn.model_selection import GridSearchCV\n",
    "from sklearn.metrics import precision_score, recall_score\n",
    "from sklearn.metrics import confusion_matrix\n",
    "from sklearn.metrics import accuracy_score\n",
    "from sklearn.neighbors import KNeighborsClassifier\n",
    "from sklearn.ensemble import RandomForestClassifier\n",
    "from sklearn.model_selection import train_test_split\n",
    "from sklearn import svm"
   ]
  },
  {
   "cell_type": "code",
   "execution_count": null,
   "id": "c6bc2e50",
   "metadata": {},
   "outputs": [],
   "source": [
    "# split matrix in data for training and testing 20%\n",
    "X_train, X_test, Y_train, Y_test = train_test_split(X, y, test_size=0.3, random_state=42)\n",
    "X_train"
   ]
  },
  {
   "cell_type": "code",
   "execution_count": null,
   "id": "75e400d6",
   "metadata": {},
   "outputs": [],
   "source": [
    "# SVM\n",
    "from sklearn import svm\n",
    "import sklearn.model_selection as model_selection\n",
    "from sklearn.metrics import accuracy_score\n",
    "from sklearn.metrics import f1_score\n",
    "from sklearn.model_selection import cross_val_score\n",
    "rbf = svm.SVC(kernel='rbf', gamma=10, C=0.00001).fit(X_train, Y_train)\n",
    "poly = svm.SVC(kernel='poly', degree=2, C=0.00001).fit(X_train, Y_train)\n",
    "poly_pred = poly.predict(X_test)\n",
    "rbf_pred = rbf.predict(X_test)\n",
    "poly_accuracy = accuracy_score(Y_test, poly_pred)\n",
    "poly_f1 = f1_score(Y_test, poly_pred, average='weighted')\n",
    "print('Accuracy (Polynomial Kernel): ', \"%.2f\" % (poly_accuracy*100))\n",
    "print('F1 (Polynomial Kernel): ', \"%.2f\" % (poly_f1*100))"
   ]
  },
  {
   "cell_type": "code",
   "execution_count": null,
   "id": "edba8e86",
   "metadata": {},
   "outputs": [],
   "source": [
    "# KNN\n",
    "knn=KNeighborsClassifier(n_neighbors= 20)\n",
    "scores = np.mean(cross_val_score(knn,  X_train, Y_train, scoring='accuracy'))\n",
    "#Train the model using the training sets\n",
    "knn.fit(X_train, Y_train)\n",
    "#p_scores = np.mean(cross_val_score(knn,  X_train, Y_train, scoring='precision'))\n",
    "#r_scores = np.mean(cross_val_score(knn,  X_train, Y_train, scoring='recall'))\n",
    "print(\"Accuracy: %s\" % '{:.2%}'.format(scores))"
   ]
  },
  {
   "cell_type": "code",
   "execution_count": null,
   "id": "5a8aadd1",
   "metadata": {},
   "outputs": [],
   "source": [
    "# Random Forest Classifier\n",
    "rf=RandomForestClassifier(random_state=21)\n",
    "score_rf = np.mean(cross_val_score(rf,  X_train, Y_train, scoring='accuracy'))\n",
    "rf.fit(X_train, Y_train)\n",
    "p_score_rf = np.mean(cross_val_score(rf,  X_train, Y_train, scoring='precision'))\n",
    "r_score_rf = np.mean(cross_val_score(rf,  X_train, Y_train, scoring='recall'))\n",
    "print(\"Accuracy for RandomForest: %s\" % '{:.2%}'.format(score_rf))\n",
    "print(\"Precision for RandomForest: %s\" % '{:.2%}'.format(p_score_rf))\n",
    "print(\"Recall for RandomForest: %s\" % '{:.2%}'.format(r_score_rf))"
   ]
  },
  {
   "cell_type": "code",
   "execution_count": null,
   "id": "8959a372",
   "metadata": {},
   "outputs": [],
   "source": [
    "# Make predictions for the random forest test set in order to check overfitting.\n",
    "y_pred_test = rf.predict(X_test)\n",
    "# View accuracy score\n",
    "accuracy_score(Y_test, y_pred_test)"
   ]
  },
  {
   "cell_type": "code",
   "execution_count": null,
   "id": "c6d2fb33",
   "metadata": {},
   "outputs": [],
   "source": [
    "from sklearn.metrics import plot_confusion_matrix\n",
    "from sklearn.metrics import confusion_matrix\n",
    "# Predict the labels of the test set samples\n",
    "predicted_labels = rf.predict(X_test)\n",
    "# Build the confusion matrix of our 3-class classification problemcnf_matrix = confusion_matrix(y_test, predicted_labels)print(cnf_matrix)\n",
    "disp = plot_confusion_matrix(rf, X_test, Y_test,\n",
    "                                 display_labels=['LPD','HCs'],\n",
    "                                 cmap=plt.cm.Blues)\n",
    "plt.show()"
   ]
  },
  {
   "cell_type": "code",
   "execution_count": null,
   "id": "e037c76b",
   "metadata": {},
   "outputs": [],
   "source": [
    "X_train.info()"
   ]
  },
  {
   "cell_type": "code",
   "execution_count": null,
   "id": "31f4cc98",
   "metadata": {},
   "outputs": [],
   "source": [
    "# Import dependencies\n",
    "import plotly\n",
    "import plotly.graph_objs as go\n",
    "\n",
    "# Configure Plotly to be rendered inline in the notebook.\n",
    "plotly.offline.init_notebook_mode()\n",
    "\n",
    "# Configure the trace.\n",
    "trace = go.Scatter3d(\n",
    "    x=X_train['FIRMA.6'],  # <-- Put your data instead\n",
    "    y=X_train['POLACO.8'],  # <-- Put your data instead\n",
    "    z=X_train['FIRMA.7'],  # <-- Put your data instead\n",
    "    mode='markers',\n",
    "    marker={\n",
    "        'size': 1,\n",
    "        'opacity': 0.8,\n",
    "        'color': Y_train\n",
    "    }\n",
    ")\n",
    "\n",
    "# Configure the layout.\n",
    "layout = go.Layout(margin={'l': 0, 'r': 0, 'b': 0, 't': 0})\n",
    "\n",
    "data = [trace]\n",
    "\n",
    "plot_figure = go.Figure(data=data, layout=layout)\n",
    "\n",
    "# Render the plot.\n",
    "plotly.offline.iplot(plot_figure)"
   ]
  },
  {
   "cell_type": "code",
   "execution_count": null,
   "id": "7420ad24",
   "metadata": {},
   "outputs": [],
   "source": []
  }
 ],
 "metadata": {
  "kernelspec": {
   "display_name": "Python 3 (ipykernel)",
   "language": "python",
   "name": "python3"
  },
  "language_info": {
   "codemirror_mode": {
    "name": "ipython",
    "version": 3
   },
   "file_extension": ".py",
   "mimetype": "text/x-python",
   "name": "python",
   "nbconvert_exporter": "python",
   "pygments_lexer": "ipython3",
   "version": "3.11.5"
  }
 },
 "nbformat": 4,
 "nbformat_minor": 5
}
