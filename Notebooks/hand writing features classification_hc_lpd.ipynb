{
 "cells": [
  {
   "cell_type": "code",
   "execution_count": 1,
   "id": "2fbe2a59",
   "metadata": {},
   "outputs": [],
   "source": [
    "#Cargamos las librerías necesarias para el análisis\n",
    "from sklearn.model_selection import train_test_split\n",
    "from sklearn.preprocessing import StandardScaler\n",
    "from sklearn.decomposition import PCA \n",
    "from sklearn.preprocessing import normalize\n",
    "from sklearn.preprocessing import MinMaxScaler\n",
    "import numpy as np\n",
    "import pandas as pd\n",
    "import time \n",
    "%matplotlib inline\n",
    "import matplotlib.pyplot as plt\n",
    "import seaborn as sns\n",
    "from scipy.signal import hilbert"
   ]
  },
  {
   "cell_type": "code",
   "execution_count": 2,
   "id": "84326071",
   "metadata": {},
   "outputs": [
    {
     "name": "stdout",
     "output_type": "stream",
     "text": [
      "/home/floayza/Documentos/lina/Francis_data/Baseline_fmri/Left_MAS/Habits_75_mariaciudad/\n",
      "/home/floayza/Documentos/lina/Francis_data/Baseline_fmri/Left_MAS/Habits_61/\n",
      "/home/floayza/Documentos/lina/Francis_data/Baseline_fmri/Left_MAS/Habits_77/\n"
     ]
    },
    {
     "name": "stderr",
     "output_type": "stream",
     "text": [
      "/home/floayza/anaconda3/lib/python3.9/site-packages/sklearn/preprocessing/_data.py:461: RuntimeWarning: All-NaN slice encountered\n",
      "  data_min = np.nanmin(X, axis=0)\n",
      "/home/floayza/anaconda3/lib/python3.9/site-packages/sklearn/preprocessing/_data.py:462: RuntimeWarning: All-NaN slice encountered\n",
      "  data_max = np.nanmax(X, axis=0)\n",
      "/home/floayza/anaconda3/lib/python3.9/site-packages/sklearn/preprocessing/_data.py:461: RuntimeWarning: All-NaN slice encountered\n",
      "  data_min = np.nanmin(X, axis=0)\n",
      "/home/floayza/anaconda3/lib/python3.9/site-packages/sklearn/preprocessing/_data.py:462: RuntimeWarning: All-NaN slice encountered\n",
      "  data_max = np.nanmax(X, axis=0)\n",
      "/home/floayza/anaconda3/lib/python3.9/site-packages/sklearn/preprocessing/_data.py:461: RuntimeWarning: All-NaN slice encountered\n",
      "  data_min = np.nanmin(X, axis=0)\n",
      "/home/floayza/anaconda3/lib/python3.9/site-packages/sklearn/preprocessing/_data.py:462: RuntimeWarning: All-NaN slice encountered\n",
      "  data_max = np.nanmax(X, axis=0)\n"
     ]
    },
    {
     "name": "stdout",
     "output_type": "stream",
     "text": [
      "/home/floayza/Documentos/lina/Francis_data/Baseline_fmri/Left_MAS/Habits_37/\n",
      "/home/floayza/Documentos/lina/Francis_data/Baseline_fmri/Left_MAS/Habits_38/\n",
      "/home/floayza/Documentos/lina/Francis_data/Baseline_fmri/Left_MAS/Habits_35/\n"
     ]
    },
    {
     "name": "stderr",
     "output_type": "stream",
     "text": [
      "/home/floayza/anaconda3/lib/python3.9/site-packages/sklearn/preprocessing/_data.py:461: RuntimeWarning: All-NaN slice encountered\n",
      "  data_min = np.nanmin(X, axis=0)\n",
      "/home/floayza/anaconda3/lib/python3.9/site-packages/sklearn/preprocessing/_data.py:462: RuntimeWarning: All-NaN slice encountered\n",
      "  data_max = np.nanmax(X, axis=0)\n",
      "/home/floayza/anaconda3/lib/python3.9/site-packages/sklearn/preprocessing/_data.py:461: RuntimeWarning: All-NaN slice encountered\n",
      "  data_min = np.nanmin(X, axis=0)\n",
      "/home/floayza/anaconda3/lib/python3.9/site-packages/sklearn/preprocessing/_data.py:462: RuntimeWarning: All-NaN slice encountered\n",
      "  data_max = np.nanmax(X, axis=0)\n",
      "/home/floayza/anaconda3/lib/python3.9/site-packages/sklearn/preprocessing/_data.py:461: RuntimeWarning: All-NaN slice encountered\n",
      "  data_min = np.nanmin(X, axis=0)\n",
      "/home/floayza/anaconda3/lib/python3.9/site-packages/sklearn/preprocessing/_data.py:462: RuntimeWarning: All-NaN slice encountered\n",
      "  data_max = np.nanmax(X, axis=0)\n"
     ]
    },
    {
     "name": "stdout",
     "output_type": "stream",
     "text": [
      "/home/floayza/Documentos/lina/Francis_data/Baseline_fmri/Left_MAS/Habits_50/\n",
      "/home/floayza/Documentos/lina/Francis_data/Baseline_fmri/Left_MAS/Habits_42/\n",
      "/home/floayza/Documentos/lina/Francis_data/Baseline_fmri/Left_MAS/Habits_48/\n"
     ]
    },
    {
     "name": "stderr",
     "output_type": "stream",
     "text": [
      "/home/floayza/anaconda3/lib/python3.9/site-packages/sklearn/preprocessing/_data.py:461: RuntimeWarning: All-NaN slice encountered\n",
      "  data_min = np.nanmin(X, axis=0)\n",
      "/home/floayza/anaconda3/lib/python3.9/site-packages/sklearn/preprocessing/_data.py:462: RuntimeWarning: All-NaN slice encountered\n",
      "  data_max = np.nanmax(X, axis=0)\n",
      "/home/floayza/anaconda3/lib/python3.9/site-packages/sklearn/preprocessing/_data.py:461: RuntimeWarning: All-NaN slice encountered\n",
      "  data_min = np.nanmin(X, axis=0)\n",
      "/home/floayza/anaconda3/lib/python3.9/site-packages/sklearn/preprocessing/_data.py:462: RuntimeWarning: All-NaN slice encountered\n",
      "  data_max = np.nanmax(X, axis=0)\n",
      "/home/floayza/anaconda3/lib/python3.9/site-packages/sklearn/preprocessing/_data.py:461: RuntimeWarning: All-NaN slice encountered\n",
      "  data_min = np.nanmin(X, axis=0)\n",
      "/home/floayza/anaconda3/lib/python3.9/site-packages/sklearn/preprocessing/_data.py:462: RuntimeWarning: All-NaN slice encountered\n",
      "  data_max = np.nanmax(X, axis=0)\n"
     ]
    },
    {
     "name": "stdout",
     "output_type": "stream",
     "text": [
      "/home/floayza/Documentos/lina/Francis_data/Baseline_fmri/Left_MAS/Habits_51/\n",
      "/home/floayza/Documentos/lina/Francis_data/Baseline_fmri/Left_MAS/Habits_63/\n"
     ]
    },
    {
     "name": "stderr",
     "output_type": "stream",
     "text": [
      "/home/floayza/anaconda3/lib/python3.9/site-packages/sklearn/preprocessing/_data.py:461: RuntimeWarning: All-NaN slice encountered\n",
      "  data_min = np.nanmin(X, axis=0)\n",
      "/home/floayza/anaconda3/lib/python3.9/site-packages/sklearn/preprocessing/_data.py:462: RuntimeWarning: All-NaN slice encountered\n",
      "  data_max = np.nanmax(X, axis=0)\n",
      "/home/floayza/anaconda3/lib/python3.9/site-packages/sklearn/preprocessing/_data.py:461: RuntimeWarning: All-NaN slice encountered\n",
      "  data_min = np.nanmin(X, axis=0)\n",
      "/home/floayza/anaconda3/lib/python3.9/site-packages/sklearn/preprocessing/_data.py:462: RuntimeWarning: All-NaN slice encountered\n",
      "  data_max = np.nanmax(X, axis=0)\n"
     ]
    },
    {
     "name": "stdout",
     "output_type": "stream",
     "text": [
      "/home/floayza/Documentos/lina/Francis_data/Baseline_fmri/Left_MAS/Habits_43/\n",
      "/home/floayza/Documentos/lina/Francis_data/Baseline_fmri/Left_MAS/Habits_59/\n"
     ]
    },
    {
     "name": "stderr",
     "output_type": "stream",
     "text": [
      "/home/floayza/anaconda3/lib/python3.9/site-packages/sklearn/preprocessing/_data.py:461: RuntimeWarning: All-NaN slice encountered\n",
      "  data_min = np.nanmin(X, axis=0)\n",
      "/home/floayza/anaconda3/lib/python3.9/site-packages/sklearn/preprocessing/_data.py:462: RuntimeWarning: All-NaN slice encountered\n",
      "  data_max = np.nanmax(X, axis=0)\n",
      "/home/floayza/anaconda3/lib/python3.9/site-packages/sklearn/preprocessing/_data.py:461: RuntimeWarning: All-NaN slice encountered\n",
      "  data_min = np.nanmin(X, axis=0)\n",
      "/home/floayza/anaconda3/lib/python3.9/site-packages/sklearn/preprocessing/_data.py:462: RuntimeWarning: All-NaN slice encountered\n",
      "  data_max = np.nanmax(X, axis=0)\n"
     ]
    },
    {
     "name": "stdout",
     "output_type": "stream",
     "text": [
      "/home/floayza/Documentos/lina/Francis_data/Baseline_fmri/Left_MAS/Habits_44/\n",
      "/home/floayza/Documentos/lina/Francis_data/Baseline_fmri/Left_MAS/Habits_71/\n"
     ]
    },
    {
     "name": "stderr",
     "output_type": "stream",
     "text": [
      "/home/floayza/anaconda3/lib/python3.9/site-packages/sklearn/preprocessing/_data.py:461: RuntimeWarning: All-NaN slice encountered\n",
      "  data_min = np.nanmin(X, axis=0)\n",
      "/home/floayza/anaconda3/lib/python3.9/site-packages/sklearn/preprocessing/_data.py:462: RuntimeWarning: All-NaN slice encountered\n",
      "  data_max = np.nanmax(X, axis=0)\n",
      "/home/floayza/anaconda3/lib/python3.9/site-packages/sklearn/preprocessing/_data.py:461: RuntimeWarning: All-NaN slice encountered\n",
      "  data_min = np.nanmin(X, axis=0)\n",
      "/home/floayza/anaconda3/lib/python3.9/site-packages/sklearn/preprocessing/_data.py:462: RuntimeWarning: All-NaN slice encountered\n",
      "  data_max = np.nanmax(X, axis=0)\n"
     ]
    }
   ],
   "source": [
    "import os\n",
    "from pathlib import Path\n",
    "from glob import glob\n",
    "import pathlib\n",
    "current_dir = '/home/floayza/Documentos/lina/Francis_data/Baseline_fmri/Left_MAS/'\n",
    "all_sub_dir_paths = glob(str(current_dir) + '/*/') \n",
    "all_sub_dir_paths\n",
    "i=0\n",
    "feat=[]\n",
    "for file in all_sub_dir_paths:\n",
    "    print(file)\n",
    "    path = pathlib.PurePath(file)\n",
    "    features=pd.read_csv(os.path.join(file,path.name+'.'+'csv'))\n",
    "    yy=features.iloc[:,-1]\n",
    "    del features['event']\n",
    "    del features['group']\n",
    "    del features['Unnamed: 0']\n",
    "    # normalize data\n",
    "    scaler = MinMaxScaler()# StandardScaler() \n",
    "    X = pd.DataFrame(scaler.fit_transform(features),columns = features.columns)\n",
    "    if i==0:#+subject+hand+group\n",
    "       featl=X\n",
    "       yl=yy\n",
    "    else:\n",
    "       featl=pd.concat([featl, X], ignore_index=True) # añadimos a la matriz inicial una fila por iteración.\n",
    "       yl=pd.concat([yl, yy], ignore_index=True)\n",
    "    i=i+1\n",
    "\n",
    "    #    os.path.join(file,)\n",
    "#    dat=loadmat(file)"
   ]
  },
  {
   "cell_type": "code",
   "execution_count": 3,
   "id": "e3ec203c",
   "metadata": {
    "scrolled": false
   },
   "outputs": [
    {
     "name": "stdout",
     "output_type": "stream",
     "text": [
      "/home/floayza/Documentos/lina/Francis_data/Baseline_fmri/HC/Habits_57/\n",
      "/home/floayza/Documentos/lina/Francis_data/Baseline_fmri/HC/Habits_21/\n",
      "/home/floayza/Documentos/lina/Francis_data/Baseline_fmri/HC/Habits_31/\n",
      "/home/floayza/Documentos/lina/Francis_data/Baseline_fmri/HC/Habits_24/\n"
     ]
    },
    {
     "name": "stderr",
     "output_type": "stream",
     "text": [
      "/home/floayza/anaconda3/lib/python3.9/site-packages/sklearn/preprocessing/_data.py:461: RuntimeWarning: All-NaN slice encountered\n",
      "  data_min = np.nanmin(X, axis=0)\n",
      "/home/floayza/anaconda3/lib/python3.9/site-packages/sklearn/preprocessing/_data.py:462: RuntimeWarning: All-NaN slice encountered\n",
      "  data_max = np.nanmax(X, axis=0)\n",
      "/home/floayza/anaconda3/lib/python3.9/site-packages/sklearn/preprocessing/_data.py:461: RuntimeWarning: All-NaN slice encountered\n",
      "  data_min = np.nanmin(X, axis=0)\n",
      "/home/floayza/anaconda3/lib/python3.9/site-packages/sklearn/preprocessing/_data.py:462: RuntimeWarning: All-NaN slice encountered\n",
      "  data_max = np.nanmax(X, axis=0)\n",
      "/home/floayza/anaconda3/lib/python3.9/site-packages/sklearn/preprocessing/_data.py:461: RuntimeWarning: All-NaN slice encountered\n",
      "  data_min = np.nanmin(X, axis=0)\n",
      "/home/floayza/anaconda3/lib/python3.9/site-packages/sklearn/preprocessing/_data.py:462: RuntimeWarning: All-NaN slice encountered\n",
      "  data_max = np.nanmax(X, axis=0)\n",
      "/home/floayza/anaconda3/lib/python3.9/site-packages/sklearn/preprocessing/_data.py:461: RuntimeWarning: All-NaN slice encountered\n",
      "  data_min = np.nanmin(X, axis=0)\n",
      "/home/floayza/anaconda3/lib/python3.9/site-packages/sklearn/preprocessing/_data.py:462: RuntimeWarning: All-NaN slice encountered\n",
      "  data_max = np.nanmax(X, axis=0)\n"
     ]
    },
    {
     "name": "stdout",
     "output_type": "stream",
     "text": [
      "/home/floayza/Documentos/lina/Francis_data/Baseline_fmri/HC/Habits_28/\n",
      "/home/floayza/Documentos/lina/Francis_data/Baseline_fmri/HC/Habits_18/\n",
      "/home/floayza/Documentos/lina/Francis_data/Baseline_fmri/HC/Habits_15/\n"
     ]
    },
    {
     "name": "stderr",
     "output_type": "stream",
     "text": [
      "/home/floayza/anaconda3/lib/python3.9/site-packages/sklearn/preprocessing/_data.py:461: RuntimeWarning: All-NaN slice encountered\n",
      "  data_min = np.nanmin(X, axis=0)\n",
      "/home/floayza/anaconda3/lib/python3.9/site-packages/sklearn/preprocessing/_data.py:462: RuntimeWarning: All-NaN slice encountered\n",
      "  data_max = np.nanmax(X, axis=0)\n",
      "/home/floayza/anaconda3/lib/python3.9/site-packages/sklearn/preprocessing/_data.py:461: RuntimeWarning: All-NaN slice encountered\n",
      "  data_min = np.nanmin(X, axis=0)\n",
      "/home/floayza/anaconda3/lib/python3.9/site-packages/sklearn/preprocessing/_data.py:462: RuntimeWarning: All-NaN slice encountered\n",
      "  data_max = np.nanmax(X, axis=0)\n",
      "/home/floayza/anaconda3/lib/python3.9/site-packages/sklearn/preprocessing/_data.py:461: RuntimeWarning: All-NaN slice encountered\n",
      "  data_min = np.nanmin(X, axis=0)\n",
      "/home/floayza/anaconda3/lib/python3.9/site-packages/sklearn/preprocessing/_data.py:462: RuntimeWarning: All-NaN slice encountered\n",
      "  data_max = np.nanmax(X, axis=0)\n"
     ]
    },
    {
     "name": "stdout",
     "output_type": "stream",
     "text": [
      "/home/floayza/Documentos/lina/Francis_data/Baseline_fmri/HC/Habits_19/\n",
      "/home/floayza/Documentos/lina/Francis_data/Baseline_fmri/HC/Habits_16/\n"
     ]
    },
    {
     "name": "stderr",
     "output_type": "stream",
     "text": [
      "/home/floayza/anaconda3/lib/python3.9/site-packages/sklearn/preprocessing/_data.py:461: RuntimeWarning: All-NaN slice encountered\n",
      "  data_min = np.nanmin(X, axis=0)\n",
      "/home/floayza/anaconda3/lib/python3.9/site-packages/sklearn/preprocessing/_data.py:462: RuntimeWarning: All-NaN slice encountered\n",
      "  data_max = np.nanmax(X, axis=0)\n",
      "/home/floayza/anaconda3/lib/python3.9/site-packages/sklearn/preprocessing/_data.py:461: RuntimeWarning: All-NaN slice encountered\n",
      "  data_min = np.nanmin(X, axis=0)\n",
      "/home/floayza/anaconda3/lib/python3.9/site-packages/sklearn/preprocessing/_data.py:462: RuntimeWarning: All-NaN slice encountered\n",
      "  data_max = np.nanmax(X, axis=0)\n"
     ]
    },
    {
     "name": "stdout",
     "output_type": "stream",
     "text": [
      "/home/floayza/Documentos/lina/Francis_data/Baseline_fmri/HC/Habits_14/\n",
      "/home/floayza/Documentos/lina/Francis_data/Baseline_fmri/HC/Habits_20/\n",
      "/home/floayza/Documentos/lina/Francis_data/Baseline_fmri/HC/Habits_09/\n"
     ]
    },
    {
     "name": "stderr",
     "output_type": "stream",
     "text": [
      "/home/floayza/anaconda3/lib/python3.9/site-packages/sklearn/preprocessing/_data.py:461: RuntimeWarning: All-NaN slice encountered\n",
      "  data_min = np.nanmin(X, axis=0)\n",
      "/home/floayza/anaconda3/lib/python3.9/site-packages/sklearn/preprocessing/_data.py:462: RuntimeWarning: All-NaN slice encountered\n",
      "  data_max = np.nanmax(X, axis=0)\n",
      "/home/floayza/anaconda3/lib/python3.9/site-packages/sklearn/preprocessing/_data.py:461: RuntimeWarning: All-NaN slice encountered\n",
      "  data_min = np.nanmin(X, axis=0)\n",
      "/home/floayza/anaconda3/lib/python3.9/site-packages/sklearn/preprocessing/_data.py:462: RuntimeWarning: All-NaN slice encountered\n",
      "  data_max = np.nanmax(X, axis=0)\n",
      "/home/floayza/anaconda3/lib/python3.9/site-packages/sklearn/preprocessing/_data.py:461: RuntimeWarning: All-NaN slice encountered\n",
      "  data_min = np.nanmin(X, axis=0)\n",
      "/home/floayza/anaconda3/lib/python3.9/site-packages/sklearn/preprocessing/_data.py:462: RuntimeWarning: All-NaN slice encountered\n",
      "  data_max = np.nanmax(X, axis=0)\n"
     ]
    },
    {
     "name": "stdout",
     "output_type": "stream",
     "text": [
      "/home/floayza/Documentos/lina/Francis_data/Baseline_fmri/HC/Habits_02/\n",
      "/home/floayza/Documentos/lina/Francis_data/Baseline_fmri/HC/Habits_11/\n"
     ]
    },
    {
     "name": "stderr",
     "output_type": "stream",
     "text": [
      "/home/floayza/anaconda3/lib/python3.9/site-packages/sklearn/preprocessing/_data.py:461: RuntimeWarning: All-NaN slice encountered\n",
      "  data_min = np.nanmin(X, axis=0)\n",
      "/home/floayza/anaconda3/lib/python3.9/site-packages/sklearn/preprocessing/_data.py:462: RuntimeWarning: All-NaN slice encountered\n",
      "  data_max = np.nanmax(X, axis=0)\n",
      "/home/floayza/anaconda3/lib/python3.9/site-packages/sklearn/preprocessing/_data.py:461: RuntimeWarning: All-NaN slice encountered\n",
      "  data_min = np.nanmin(X, axis=0)\n",
      "/home/floayza/anaconda3/lib/python3.9/site-packages/sklearn/preprocessing/_data.py:462: RuntimeWarning: All-NaN slice encountered\n",
      "  data_max = np.nanmax(X, axis=0)\n"
     ]
    },
    {
     "name": "stdout",
     "output_type": "stream",
     "text": [
      "/home/floayza/Documentos/lina/Francis_data/Baseline_fmri/HC/Habits_12/\n",
      "/home/floayza/Documentos/lina/Francis_data/Baseline_fmri/HC/Habits_60/\n",
      "/home/floayza/Documentos/lina/Francis_data/Baseline_fmri/HC/Habits_22/\n"
     ]
    },
    {
     "name": "stderr",
     "output_type": "stream",
     "text": [
      "/home/floayza/anaconda3/lib/python3.9/site-packages/sklearn/preprocessing/_data.py:461: RuntimeWarning: All-NaN slice encountered\n",
      "  data_min = np.nanmin(X, axis=0)\n",
      "/home/floayza/anaconda3/lib/python3.9/site-packages/sklearn/preprocessing/_data.py:462: RuntimeWarning: All-NaN slice encountered\n",
      "  data_max = np.nanmax(X, axis=0)\n",
      "/home/floayza/anaconda3/lib/python3.9/site-packages/sklearn/preprocessing/_data.py:461: RuntimeWarning: All-NaN slice encountered\n",
      "  data_min = np.nanmin(X, axis=0)\n",
      "/home/floayza/anaconda3/lib/python3.9/site-packages/sklearn/preprocessing/_data.py:462: RuntimeWarning: All-NaN slice encountered\n",
      "  data_max = np.nanmax(X, axis=0)\n",
      "/home/floayza/anaconda3/lib/python3.9/site-packages/sklearn/preprocessing/_data.py:461: RuntimeWarning: All-NaN slice encountered\n",
      "  data_min = np.nanmin(X, axis=0)\n",
      "/home/floayza/anaconda3/lib/python3.9/site-packages/sklearn/preprocessing/_data.py:462: RuntimeWarning: All-NaN slice encountered\n",
      "  data_max = np.nanmax(X, axis=0)\n"
     ]
    },
    {
     "name": "stdout",
     "output_type": "stream",
     "text": [
      "/home/floayza/Documentos/lina/Francis_data/Baseline_fmri/HC/Habits_70/\n",
      "/home/floayza/Documentos/lina/Francis_data/Baseline_fmri/HC/Habits_13/\n"
     ]
    },
    {
     "name": "stderr",
     "output_type": "stream",
     "text": [
      "/home/floayza/anaconda3/lib/python3.9/site-packages/sklearn/preprocessing/_data.py:461: RuntimeWarning: All-NaN slice encountered\n",
      "  data_min = np.nanmin(X, axis=0)\n",
      "/home/floayza/anaconda3/lib/python3.9/site-packages/sklearn/preprocessing/_data.py:462: RuntimeWarning: All-NaN slice encountered\n",
      "  data_max = np.nanmax(X, axis=0)\n",
      "/home/floayza/anaconda3/lib/python3.9/site-packages/sklearn/preprocessing/_data.py:461: RuntimeWarning: All-NaN slice encountered\n",
      "  data_min = np.nanmin(X, axis=0)\n",
      "/home/floayza/anaconda3/lib/python3.9/site-packages/sklearn/preprocessing/_data.py:462: RuntimeWarning: All-NaN slice encountered\n",
      "  data_max = np.nanmax(X, axis=0)\n"
     ]
    },
    {
     "name": "stdout",
     "output_type": "stream",
     "text": [
      "/home/floayza/Documentos/lina/Francis_data/Baseline_fmri/HC/Habits_23/\n",
      "/home/floayza/Documentos/lina/Francis_data/Baseline_fmri/HC/Habits_32/\n",
      "/home/floayza/Documentos/lina/Francis_data/Baseline_fmri/HC/Habits_27/\n"
     ]
    },
    {
     "name": "stderr",
     "output_type": "stream",
     "text": [
      "/home/floayza/anaconda3/lib/python3.9/site-packages/sklearn/preprocessing/_data.py:461: RuntimeWarning: All-NaN slice encountered\n",
      "  data_min = np.nanmin(X, axis=0)\n",
      "/home/floayza/anaconda3/lib/python3.9/site-packages/sklearn/preprocessing/_data.py:462: RuntimeWarning: All-NaN slice encountered\n",
      "  data_max = np.nanmax(X, axis=0)\n",
      "/home/floayza/anaconda3/lib/python3.9/site-packages/sklearn/preprocessing/_data.py:461: RuntimeWarning: All-NaN slice encountered\n",
      "  data_min = np.nanmin(X, axis=0)\n",
      "/home/floayza/anaconda3/lib/python3.9/site-packages/sklearn/preprocessing/_data.py:462: RuntimeWarning: All-NaN slice encountered\n",
      "  data_max = np.nanmax(X, axis=0)\n",
      "/home/floayza/anaconda3/lib/python3.9/site-packages/sklearn/preprocessing/_data.py:461: RuntimeWarning: All-NaN slice encountered\n",
      "  data_min = np.nanmin(X, axis=0)\n",
      "/home/floayza/anaconda3/lib/python3.9/site-packages/sklearn/preprocessing/_data.py:462: RuntimeWarning: All-NaN slice encountered\n",
      "  data_max = np.nanmax(X, axis=0)\n"
     ]
    },
    {
     "name": "stdout",
     "output_type": "stream",
     "text": [
      "/home/floayza/Documentos/lina/Francis_data/Baseline_fmri/HC/Habits_68/\n",
      "/home/floayza/Documentos/lina/Francis_data/Baseline_fmri/HC/Habits_08/\n",
      "/home/floayza/Documentos/lina/Francis_data/Baseline_fmri/HC/Habits_30/\n"
     ]
    },
    {
     "name": "stderr",
     "output_type": "stream",
     "text": [
      "/home/floayza/anaconda3/lib/python3.9/site-packages/sklearn/preprocessing/_data.py:461: RuntimeWarning: All-NaN slice encountered\n",
      "  data_min = np.nanmin(X, axis=0)\n",
      "/home/floayza/anaconda3/lib/python3.9/site-packages/sklearn/preprocessing/_data.py:462: RuntimeWarning: All-NaN slice encountered\n",
      "  data_max = np.nanmax(X, axis=0)\n",
      "/home/floayza/anaconda3/lib/python3.9/site-packages/sklearn/preprocessing/_data.py:461: RuntimeWarning: All-NaN slice encountered\n",
      "  data_min = np.nanmin(X, axis=0)\n",
      "/home/floayza/anaconda3/lib/python3.9/site-packages/sklearn/preprocessing/_data.py:462: RuntimeWarning: All-NaN slice encountered\n",
      "  data_max = np.nanmax(X, axis=0)\n",
      "/home/floayza/anaconda3/lib/python3.9/site-packages/sklearn/preprocessing/_data.py:461: RuntimeWarning: All-NaN slice encountered\n",
      "  data_min = np.nanmin(X, axis=0)\n",
      "/home/floayza/anaconda3/lib/python3.9/site-packages/sklearn/preprocessing/_data.py:462: RuntimeWarning: All-NaN slice encountered\n",
      "  data_max = np.nanmax(X, axis=0)\n"
     ]
    },
    {
     "name": "stdout",
     "output_type": "stream",
     "text": [
      "/home/floayza/Documentos/lina/Francis_data/Baseline_fmri/HC/Habits_17/\n",
      "/home/floayza/Documentos/lina/Francis_data/Baseline_fmri/HC/Habits_33/\n"
     ]
    },
    {
     "name": "stderr",
     "output_type": "stream",
     "text": [
      "/home/floayza/anaconda3/lib/python3.9/site-packages/sklearn/preprocessing/_data.py:461: RuntimeWarning: All-NaN slice encountered\n",
      "  data_min = np.nanmin(X, axis=0)\n",
      "/home/floayza/anaconda3/lib/python3.9/site-packages/sklearn/preprocessing/_data.py:462: RuntimeWarning: All-NaN slice encountered\n",
      "  data_max = np.nanmax(X, axis=0)\n",
      "/home/floayza/anaconda3/lib/python3.9/site-packages/sklearn/preprocessing/_data.py:461: RuntimeWarning: All-NaN slice encountered\n",
      "  data_min = np.nanmin(X, axis=0)\n",
      "/home/floayza/anaconda3/lib/python3.9/site-packages/sklearn/preprocessing/_data.py:462: RuntimeWarning: All-NaN slice encountered\n",
      "  data_max = np.nanmax(X, axis=0)\n"
     ]
    },
    {
     "name": "stdout",
     "output_type": "stream",
     "text": [
      "/home/floayza/Documentos/lina/Francis_data/Baseline_fmri/HC/Habits_52/\n",
      "/home/floayza/Documentos/lina/Francis_data/Baseline_fmri/HC/Habits_26/\n"
     ]
    },
    {
     "name": "stderr",
     "output_type": "stream",
     "text": [
      "/home/floayza/anaconda3/lib/python3.9/site-packages/sklearn/preprocessing/_data.py:461: RuntimeWarning: All-NaN slice encountered\n",
      "  data_min = np.nanmin(X, axis=0)\n",
      "/home/floayza/anaconda3/lib/python3.9/site-packages/sklearn/preprocessing/_data.py:462: RuntimeWarning: All-NaN slice encountered\n",
      "  data_max = np.nanmax(X, axis=0)\n",
      "/home/floayza/anaconda3/lib/python3.9/site-packages/sklearn/preprocessing/_data.py:461: RuntimeWarning: All-NaN slice encountered\n",
      "  data_min = np.nanmin(X, axis=0)\n",
      "/home/floayza/anaconda3/lib/python3.9/site-packages/sklearn/preprocessing/_data.py:462: RuntimeWarning: All-NaN slice encountered\n",
      "  data_max = np.nanmax(X, axis=0)\n"
     ]
    }
   ],
   "source": [
    "import os\n",
    "from pathlib import Path\n",
    "from glob import glob\n",
    "import pathlib\n",
    "current_dir = '/home/floayza/Documentos/lina/Francis_data/Baseline_fmri/HC/'\n",
    "all_sub_dir_paths = glob(str(current_dir) + '/*/') \n",
    "all_sub_dir_paths\n",
    "i=0\n",
    "feat=[]\n",
    "for file in all_sub_dir_paths:\n",
    "    print(file)\n",
    "    path = pathlib.PurePath(file)\n",
    "    features=pd.read_csv(os.path.join(file,path.name+'.'+'csv'))\n",
    "    yy=features.iloc[:,-1]\n",
    "    del features['event']\n",
    "    del features['group']\n",
    "    del features['Unnamed: 0']\n",
    "    # normalize data\n",
    "    scaler = MinMaxScaler()# StandardScaler() \n",
    "    X = pd.DataFrame(scaler.fit_transform(features),columns = features.columns)\n",
    "    if i==0:#+subject+hand+group\n",
    "       feathc=X\n",
    "       yhc=yy\n",
    "    else:\n",
    "       feathc=pd.concat([feathc, X], ignore_index=True) # añadimos a la matriz inicial una fila por iteración.\n",
    "       yhc=pd.concat([yhc, yy], ignore_index=True)\n",
    "    i=i+1\n",
    "\n",
    "    #    os.path.join(file,)\n",
    "#    dat=loadmat(file)"
   ]
  },
  {
   "cell_type": "code",
   "execution_count": 26,
   "id": "9af5adb5",
   "metadata": {},
   "outputs": [
    {
     "name": "stdout",
     "output_type": "stream",
     "text": [
      "29.0 HCs, and 15.0 LeftPD\n"
     ]
    }
   ],
   "source": [
    "# unir los 3 grupos para imputar\n",
    "feat=pd.concat([feathc,featl], ignore_index=True)\n",
    "y=pd.concat([yhc,yl], ignore_index=True)\n",
    "print(feathc.shape[0]/40,'HCs, and', featl.shape[0]/40, 'LeftPD')"
   ]
  },
  {
   "cell_type": "code",
   "execution_count": 27,
   "id": "94837e7c",
   "metadata": {},
   "outputs": [],
   "source": [
    "X_train, X_test, Y_train, Y_test = train_test_split(feat, y, test_size=0.3, random_state=42)"
   ]
  },
  {
   "cell_type": "code",
   "execution_count": 28,
   "id": "28b6ebda",
   "metadata": {},
   "outputs": [
    {
     "name": "stderr",
     "output_type": "stream",
     "text": [
      "/home/floayza/anaconda3/lib/python3.9/site-packages/tsfresh/utilities/dataframe_functions.py:198: RuntimeWarning: The columns ['y__query_similarity_count__query_None__threshold_0.0'\n",
      " 'x__query_similarity_count__query_None__threshold_0.0'] did not have any finite values. Filling with zeros.\n",
      "  warnings.warn(\n",
      "/home/floayza/anaconda3/lib/python3.9/site-packages/tsfresh/utilities/dataframe_functions.py:198: RuntimeWarning: The columns ['y__query_similarity_count__query_None__threshold_0.0'\n",
      " 'x__query_similarity_count__query_None__threshold_0.0'] did not have any finite values. Filling with zeros.\n",
      "  warnings.warn(\n"
     ]
    }
   ],
   "source": [
    "#!pip install tsfresh\n",
    "from tsfresh import select_features\n",
    "from tsfresh.utilities.dataframe_functions import impute\n",
    "# extraemos las etiquetas target column Group\n",
    "\n",
    "# eliminamos la columnas con nan e inf values obtenidos\n",
    "impute(X_train)\n",
    "X_train = select_features(X_train,Y_train)\n",
    "impute(X_test)\n",
    "X_test = select_features(X_test,Y_test)"
   ]
  },
  {
   "cell_type": "code",
   "execution_count": 29,
   "id": "3da2bcca",
   "metadata": {},
   "outputs": [
    {
     "name": "stdout",
     "output_type": "stream",
     "text": [
      "[0.0682951  0.04886856 0.02856308 ... 0.0006678  0.         0.        ]\n"
     ]
    },
    {
     "data": {
      "image/png": "[encoded data removed]",
      "text/plain": [
       "<Figure size 576x576 with 1 Axes>"
      ]
     },
     "metadata": {
      "needs_background": "light"
     },
     "output_type": "display_data"
    }
   ],
   "source": [
    "# feature importance based on Tree Based Classifiers\n",
    "from sklearn.ensemble import ExtraTreesClassifier\n",
    "import matplotlib.pyplot as plt\n",
    "model = ExtraTreesClassifier()\n",
    "model.fit(X_train,Y_train)\n",
    "print(model.feature_importances_) #use inbuilt class feature_importances of tree based classifiers\n",
    "#plot graph of feature importances for better visualization\n",
    "feat_importances = pd.Series(model.feature_importances_, index=X_train.columns)\n",
    "feat_importances.nlargest(2).plot(kind='barh', figsize=(8,8))\n",
    "plt.show()"
   ]
  },
  {
   "cell_type": "code",
   "execution_count": 8,
   "id": "56d507d5",
   "metadata": {},
   "outputs": [],
   "source": [
    "from sklearn.svm import SVC\n",
    "from sklearn.ensemble import AdaBoostClassifier\n",
    "from sklearn.linear_model import LogisticRegression\n",
    "from sklearn.tree import DecisionTreeClassifier\n",
    "from sklearn.model_selection import GridSearchCV\n",
    "from sklearn.metrics import precision_score, recall_score\n",
    "from sklearn.metrics import confusion_matrix\n",
    "from sklearn.metrics import accuracy_score\n",
    "from sklearn.neighbors import KNeighborsClassifier\n",
    "from sklearn.ensemble import RandomForestClassifier\n",
    "from sklearn.model_selection import train_test_split\n",
    "from sklearn import svm"
   ]
  },
  {
   "cell_type": "code",
   "execution_count": 30,
   "id": "7fe01b81",
   "metadata": {},
   "outputs": [
    {
     "data": {
      "text/plain": [
       "[      y__symmetry_looking__r_0.25  x__symmetry_looking__r_0.25\n",
       " 1188                          1.0                          1.0\n",
       " 693                           0.0                          0.0\n",
       " 451                           0.0                          0.0\n",
       " 490                           0.0                          0.0\n",
       " 1698                          1.0                          1.0\n",
       " ...                           ...                          ...\n",
       " 1130                          0.0                          0.0\n",
       " 1294                          1.0                          1.0\n",
       " 860                           0.0                          0.0\n",
       " 1459                          1.0                          1.0\n",
       " 1126                          0.0                          0.0\n",
       " \n",
       " [1232 rows x 2 columns],\n",
       " 1188    2\n",
       " 693     1\n",
       " 451     1\n",
       " 490     1\n",
       " 1698    2\n",
       "        ..\n",
       " 1130    1\n",
       " 1294    2\n",
       " 860     1\n",
       " 1459    2\n",
       " 1126    1\n",
       " Name: group, Length: 1232, dtype: int64]"
      ]
     },
     "execution_count": 30,
     "metadata": {},
     "output_type": "execute_result"
    }
   ],
   "source": [
    "#seleccionamos los 50 mas mejores\n",
    "featimp=feat_importances.nlargest(2)\n",
    "X_train=X_train[featimp.index]\n",
    "X_test=X_test[featimp.index]\n",
    "# ydata_train es el mismo\n",
    "[X_train, Y_train]"
   ]
  },
  {
   "cell_type": "code",
   "execution_count": 31,
   "id": "3db8d12d",
   "metadata": {},
   "outputs": [
    {
     "name": "stdout",
     "output_type": "stream",
     "text": [
      "Accuracy (Polynomial Kernel):  95.27\n",
      "F1 (Polynomial Kernel):  95.18\n"
     ]
    }
   ],
   "source": [
    "# SVM\n",
    "from sklearn import svm\n",
    "import sklearn.model_selection as model_selection\n",
    "from sklearn.metrics import accuracy_score\n",
    "from sklearn.metrics import f1_score\n",
    "from sklearn.model_selection import cross_val_score\n",
    "rbf = svm.SVC(kernel='rbf', gamma=1, C=0.001).fit(X_train, Y_train)\n",
    "poly = svm.SVC(kernel='poly', degree=4, C=0.001).fit(X_train, Y_train)\n",
    "poly_pred = poly.predict(X_test)\n",
    "rbf_pred = rbf.predict(X_test)\n",
    "poly_accuracy = accuracy_score(Y_test, poly_pred)\n",
    "poly_f1 = f1_score(Y_test, poly_pred, average='weighted')\n",
    "print('Accuracy (Polynomial Kernel): ', \"%.2f\" % (poly_accuracy*100))\n",
    "print('F1 (Polynomial Kernel): ', \"%.2f\" % (poly_f1*100))"
   ]
  },
  {
   "cell_type": "code",
   "execution_count": 32,
   "id": "084e5e9f",
   "metadata": {},
   "outputs": [
    {
     "name": "stdout",
     "output_type": "stream",
     "text": [
      "Accuracy training: 99.03%\n",
      "Accuracy testing: 99.43%\n"
     ]
    }
   ],
   "source": [
    "# KNN\n",
    "knn=KNeighborsClassifier(n_neighbors= 30)\n",
    "scores = np.mean(cross_val_score(knn,  X_train, Y_train, scoring='accuracy'))\n",
    "#Train the model using the training sets\n",
    "knn.fit(X_train, Y_train)\n",
    "#p_scores = np.mean(cross_val_score(knn,  X_train, Y_train, scoring='precision'))\n",
    "#r_scores = np.mean(cross_val_score(knn,  X_train, Y_train, scoring='recall'))\n",
    "print(\"Accuracy training: %s\" % '{:.2%}'.format(scores))\n",
    "y_pred=knn.predict(X_test)\n",
    "print(\"Accuracy testing: %s\" % '{:.2%}'.format(knn.score(X_test, Y_test)))"
   ]
  },
  {
   "cell_type": "code",
   "execution_count": 21,
   "id": "373be5b2",
   "metadata": {},
   "outputs": [
    {
     "name": "stdout",
     "output_type": "stream",
     "text": [
      "Accuracy for RandomForest: 98.13%\n",
      "Accuracy testing: 95.83%\n"
     ]
    }
   ],
   "source": [
    "# Random Forest Classifier\n",
    "rf=RandomForestClassifier(random_state=21)\n",
    "score_rf = np.mean(cross_val_score(rf,  X_train, Y_train, scoring='accuracy'))\n",
    "rf.fit(X_train, Y_train)\n",
    "#p_score_rf = np.mean(cross_val_score(rf,  X_train, Y_train, scoring='precision'))\n",
    "#r_score_rf = np.mean(cross_val_score(rf,  X_train, Y_train, scoring='recall'))\n",
    "print(\"Accuracy for RandomForest: %s\" % '{:.2%}'.format(score_rf))\n",
    "y_pred=rf.predict(X_test)\n",
    "print(\"Accuracy testing: %s\" % '{:.2%}'.format(knn.score(X_test, Y_test)))"
   ]
  },
  {
   "cell_type": "code",
   "execution_count": 22,
   "id": "63bd94ad",
   "metadata": {},
   "outputs": [
    {
     "name": "stdout",
     "output_type": "stream",
     "text": [
      "Accuracy testing: 95.83%\n"
     ]
    }
   ],
   "source": [
    "# MLP classifier\n",
    "from sklearn.neural_network import MLPClassifier\n",
    "clf = MLPClassifier(hidden_layer_sizes=(256,128,64,32),activation=\"relu\",random_state=1).fit(X_train, Y_train)\n",
    "#print(\"Accuracy for MLP training: %s\" % '{:.2%}'.format(clf.score))\n",
    "y_pred=clf.predict(X_test)\n",
    "print(\"Accuracy testing: %s\" % '{:.2%}'.format(clf.score(X_test, Y_test)))"
   ]
  },
  {
   "cell_type": "code",
   "execution_count": null,
   "id": "0c3798e2",
   "metadata": {},
   "outputs": [],
   "source": []
  }
 ],
 "metadata": {
  "kernelspec": {
   "display_name": "Python 3 (ipykernel)",
   "language": "python",
   "name": "python3"
  },
  "language_info": {
   "codemirror_mode": {
    "name": "ipython",
    "version": 3
   },
   "file_extension": ".py",
   "mimetype": "text/x-python",
   "name": "python",
   "nbconvert_exporter": "python",
   "pygments_lexer": "ipython3",
   "version": "3.9.12"
  }
 },
 "nbformat": 4,
 "nbformat_minor": 5
}
