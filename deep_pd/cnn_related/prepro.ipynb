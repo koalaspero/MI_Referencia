{
 "cells": [
  {
   "cell_type": "code",
   "execution_count": 4,
   "metadata": {},
   "outputs": [],
   "source": [
    "import tensorflow as tf\n",
    "import os\n",
    "import cv2\n",
    "import glob\n",
    "import numpy as np\n",
    "from sklearn.preprocessing import LabelBinarizer\n",
    "from tqdm import tqdm  # For progress tracking"
   ]
  },
  {
   "cell_type": "code",
   "execution_count": 15,
   "metadata": {},
   "outputs": [],
   "source": [
    "data_groups = [\"HC\",\"Left_MAS\",\"Right_MAS\"]\n",
    "data_groups = list(data_groups)\n",
    "\n",
    "data_dir = '../../output/'  # Change the path to your dataset location\n",
    "image_label_list = []\n",
    "\n",
    "def display_image_name(image_path):\n",
    "    # Extract the file name from the path\n",
    "    image_name = os.path.basename(image_path)\n",
    "\n",
    "    # Display the image name\n",
    "    print(f\"PNG file name: {image_name}\")\n",
    "\n",
    "# def rotate_images(img):\n",
    "#     X_rotate = []\n",
    "#     k = tf.constant(1, dtype=tf.int32)  # Initialize k with a constant value\n",
    "#     tf_img = tf.image.rot90(img, k=k)\n",
    "    \n",
    "#     # Resize the original image to the desired shape\n",
    "#     img_resized = tf.image.resize(img, (640, 480))\n",
    "#     X_rotate.append(img_resized.numpy())\n",
    "\n",
    "#     for i in range(3):  # Rotation at 90, 180, and 270 degrees\n",
    "#         rotated_img = tf.image.rot90(img, k=i + 1)\n",
    "#         # Resize the rotated image to the desired shape\n",
    "#         rotated_img_resized = tf.image.resize(rotated_img, (640, 480))\n",
    "#         X_rotate.append(rotated_img_resized.numpy())\n",
    "\n",
    "#     X_rotate = np.array(X_rotate, dtype=np.float32)\n",
    "#     return X_rotate\n",
    "\n",
    "\n",
    "# Use os.walk to traverse all subdirectories and process MAT files\n",
    "for group in data_groups:\n",
    "    # Define the path to your data group folder\n",
    "    data_group_path = os.path.join(data_dir, group)\n",
    "\n",
    "    for root, dirs, files in os.walk(data_group_path):\n",
    "        for file in files:\n",
    "            if file.lower().endswith(\".png\"):\n",
    "                file_path = os.path.join(root, file)\n",
    "\n",
    "                # Read the image using cv2\n",
    "                image = cv2.imread(file_path)\n",
    "                resized_image = cv2.resize(image, (640, 480))\n",
    "\n",
    "                # Combine resizing and rotation\n",
    "                augmented_images = rotate_images(resized_image)\n",
    "\n",
    "                label = 0\n",
    "                tri_label = 0\n",
    "\n",
    "                if group == 'HC':\n",
    "                    label = 0\n",
    "                    tri_label = 1\n",
    "                elif group == 'Left_MAS':\n",
    "                    label = 1\n",
    "                    tri_label = 2\n",
    "                elif group == 'Right_MAS':\n",
    "                    label = 1\n",
    "                    tri_label = 3\n",
    "\n",
    "                # Append the original and augmented images to the list\n",
    "                image_label_list.append((resized_image, label, tri_label))\n",
    "                # image_label_list.extend([(augmented_image, label, tri_label) for augmented_image in augmented_images]) \n"
   ]
  },
  {
   "cell_type": "code",
   "execution_count": 10,
   "metadata": {},
   "outputs": [
    {
     "data": {
      "text/plain": [
       "1"
      ]
     },
     "execution_count": 10,
     "metadata": {},
     "output_type": "execute_result"
    }
   ],
   "source": [
    "# # Initialize lists for training and testing data\n",
    "train_images = []\n",
    "train_labels = []\n",
    "test_images = []\n",
    "test_labels = []\n",
    "\n"
   ]
  }
 ],
 "metadata": {
  "kernelspec": {
   "display_name": "mi",
   "language": "python",
   "name": "python3"
  },
  "language_info": {
   "codemirror_mode": {
    "name": "ipython",
    "version": 3
   },
   "file_extension": ".py",
   "mimetype": "text/x-python",
   "name": "python",
   "nbconvert_exporter": "python",
   "pygments_lexer": "ipython3",
   "version": "3.9.18"
  }
 },
 "nbformat": 4,
 "nbformat_minor": 2
}
