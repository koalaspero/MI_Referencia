{
 "cells": [
  {
   "cell_type": "code",
   "execution_count": 1,
   "metadata": {},
   "outputs": [],
   "source": [
    "import tensorflow as tf\n",
    "import os\n",
    "import cv2\n",
    "import glob\n",
    "import random\n",
    "import numpy as np\n",
    "from sklearn.preprocessing import LabelBinarizer\n",
    "from tqdm import tqdm  # For progress tracking"
   ]
  },
  {
   "cell_type": "code",
   "execution_count": 5,
   "metadata": {},
   "outputs": [],
   "source": [
    "import tensorflow as tf\n",
    "import os\n",
    "import cv2\n",
    "import numpy as np\n",
    "\n",
    "data_groups = [\"HC\", \"Left_MAS\", \"Right_MAS\"]\n",
    "data_groups = list(data_groups)\n",
    "\n",
    "data_dir = '../../output/'  # Change the path to your dataset location\n",
    "image_label_list = []\n",
    "\n",
    "def display_image_name(image_path):\n",
    "    # Extract the file name from the path\n",
    "    image_name = os.path.basename(image_path)\n",
    "\n",
    "    # Display the image name\n",
    "    print(f\"File name: {image_name}\")\n",
    "\n",
    "def rotate_images(img):\n",
    "    X_rotate = []\n",
    "    k = tf.constant(1, dtype=tf.int32)  # Initialize k with a constant value\n",
    "    tf_img = tf.image.rot90(img, k=k)\n",
    "\n",
    "    # Resize the original image to the desired shape\n",
    "    img_resized = tf.image.resize(img, (640, 480))\n",
    "    X_rotate.append(img_resized.numpy())\n",
    "\n",
    "    for i in range(3):  # Rotation at 90, 180, and 270 degrees\n",
    "        rotated_img = tf.image.rot90(img, k=i + 1)\n",
    "        # Resize the rotated image to the desired shape\n",
    "        rotated_img_resized = tf.image.resize(rotated_img, (640, 480))\n",
    "        X_rotate.append(rotated_img_resized.numpy())\n",
    "\n",
    "    X_rotate = np.array(X_rotate, dtype=np.float32)\n",
    "    return X_rotate\n",
    "\n",
    "# Use os.walk to traverse all subdirectories and process PNG files\n",
    "for group in data_groups:\n",
    "    # Define the path to your data group folder\n",
    "    data_group_path = os.path.join(data_dir, group)\n",
    "\n",
    "    for root, dirs, files in os.walk(data_group_path):\n",
    "        for file in files:\n",
    "            if file.lower().endswith(\".png\"):\n",
    "                file_path = os.path.join(root, file)\n",
    "\n",
    "                # Read the image using cv2\n",
    "                image = cv2.imread(file_path)\n",
    "                resized_image = cv2.resize(image, (640, 480))\n",
    "                # JPEG compression\n",
    "                encode_param = [int(cv2.IMWRITE_JPEG_QUALITY), 90]  # Adjust quality as needed\n",
    "                _, compressed_image = cv2.imencode('.jpg', resized_image, encode_param)\n",
    "                compressed_image = compressed_image.tobytes()\n",
    "\n",
    "                # Reshape the compressed image to have height, width, and channels\n",
    "                compressed_image = tf.image.decode_jpeg(compressed_image, channels=3)\n",
    "\n",
    "                # Combine resizing and rotation\n",
    "                augmented_images = rotate_images(compressed_image)\n",
    "\n",
    "                label = 0\n",
    "                tri_label = 0\n",
    "\n",
    "                if group == 'HC':\n",
    "                    label = 1\n",
    "                    tri_label = 1\n",
    "                elif group == 'Left_MAS':\n",
    "                    label = 2\n",
    "                    tri_label = 2\n",
    "                elif group == 'Right_MAS':\n",
    "                    label = 2\n",
    "                    tri_label = 3\n",
    "\n",
    "                # Append the original and augmented images to the list\n",
    "                image_label_list.append((compressed_image.numpy(), str(label), str(tri_label)))\n",
    "                image_label_list.extend([(augmented_image, label, tri_label) for augmented_image in augmented_images])\n",
    "\n"
   ]
  },
  {
   "cell_type": "code",
   "execution_count": 6,
   "metadata": {},
   "outputs": [
    {
     "data": {
      "text/plain": [
       "[]"
      ]
     },
     "execution_count": 6,
     "metadata": {},
     "output_type": "execute_result"
    }
   ],
   "source": [
    "image_label_list"
   ]
  },
  {
   "cell_type": "code",
   "execution_count": 21,
   "metadata": {},
   "outputs": [],
   "source": [
    "# # Initialize lists for training and testing data\n",
    "train_images = []\n",
    "train_labels = []\n",
    "train_tri_labels = []\n",
    "test_images = []\n",
    "test_labels = []\n",
    "test_tri_labels = []\n",
    "\n",
    "random.shuffle(image_label_list)\n",
    "# Calculate the split point\n",
    "split_point = int(0.7 * len(image_label_list))\n",
    "\n",
    "# Split the data into training and testing sets\n",
    "train_data = image_label_list[:split_point]\n",
    "test_data = image_label_list[split_point:]\n",
    "\n",
    "# Append the training data to the respective lists\n",
    "for data in train_data:\n",
    "    train_labels.append(data[1])  \n",
    "    train_tri_labels.append(data[2])\n",
    "    train_images.append(data[0])  # Image\n",
    "    \n",
    "# Append the testing data to the respective lists\n",
    "for data in test_data:\n",
    "    test_labels.append(data[1])  \n",
    "    test_tri_labels.append(data[2])\n",
    "    test_images.append(data[0])  # Image"
   ]
  },
  {
   "cell_type": "code",
   "execution_count": 22,
   "metadata": {},
   "outputs": [],
   "source": [
    "label_binarizer = LabelBinarizer()\n",
    "\n",
    "\n",
    "train_one_hot_labels = label_binarizer.fit_transform(train_labels)\n",
    "test_one_hot_labels = label_binarizer.fit_transform(test_labels)\n",
    "train_tri_one_hot_labels = label_binarizer.fit_transform(train_tri_labels)\n",
    "test_tri_one_hot_labels = label_binarizer.fit_transform(test_tri_labels)\n",
    "\n"
   ]
  },
  {
   "cell_type": "code",
   "execution_count": 24,
   "metadata": {},
   "outputs": [
    {
     "name": "stderr",
     "output_type": "stream",
     "text": [
      "  9%|▉         | 178/1875 [00:00<00:01, 875.59it/s]"
     ]
    },
    {
     "name": "stderr",
     "output_type": "stream",
     "text": [
      "100%|██████████| 1875/1875 [00:01<00:00, 1229.19it/s]\n",
      "100%|██████████| 805/805 [00:00<00:00, 1450.39it/s]\n"
     ]
    }
   ],
   "source": [
    "# Function to convert an image into a feature\n",
    "def _bytes_feature(value):\n",
    "    return tf.train.Feature(bytes_list=tf.train.BytesList(value=[value]))\n",
    "\n",
    "def _int64_feature(value):\n",
    "    \"\"\"Returns an int64_list from a bool / enum / int / uint.\"\"\"\n",
    "    return tf.train.Feature(int64_list=tf.train.Int64List(value=value))\n",
    "\n",
    "# Create TFRecord writer for training data\n",
    "train_writer = tf.io.TFRecordWriter('train.tfrecord')\n",
    "\n",
    "# Iterate through the training data and write to TFRecords\n",
    "for image, label,tri_label in tqdm(zip(train_images, train_one_hot_labels, train_tri_one_hot_labels), total=len(train_images)):\n",
    "    feature = {\n",
    "        'image': _bytes_feature(image),\n",
    "        'label': _int64_feature(label),\n",
    "        'tri_label': _int64_feature(tri_label)\n",
    "    }\n",
    "    example = tf.train.Example(features=tf.train.Features(feature=feature))\n",
    "    train_writer.write(example.SerializeToString())\n",
    "\n",
    "train_writer.close()\n",
    "\n",
    "# Create TFRecord writer for testing data\n",
    "test_writer = tf.io.TFRecordWriter('test.tfrecord')\n",
    "\n",
    "# Iterate through the testing data and write to TFRecords\n",
    "for image, label, tri_label in tqdm(zip(test_images, test_one_hot_labels, test_tri_one_hot_labels), total=len(test_images)):\n",
    "    feature = {\n",
    "        'image': _bytes_feature(image),\n",
    "        'label': _int64_feature(label),\n",
    "        'tri_label': _int64_feature(tri_label)\n",
    "    }\n",
    "    example = tf.train.Example(features=tf.train.Features(feature=feature))\n",
    "    test_writer.write(example.SerializeToString())\n",
    "\n",
    "test_writer.close()\n"
   ]
  }
 ],
 "metadata": {
  "kernelspec": {
   "display_name": "mi",
   "language": "python",
   "name": "python3"
  },
  "language_info": {
   "codemirror_mode": {
    "name": "ipython",
    "version": 3
   },
   "file_extension": ".py",
   "mimetype": "text/x-python",
   "name": "python",
   "nbconvert_exporter": "python",
   "pygments_lexer": "ipython3",
   "version": "3.9.18"
  }
 },
 "nbformat": 4,
 "nbformat_minor": 2
}
