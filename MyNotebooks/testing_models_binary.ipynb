{
 "cells": [
  {
   "cell_type": "code",
   "execution_count": 9,
   "metadata": {},
   "outputs": [],
   "source": [
    "import numpy as np\n",
    "import pandas as pd\n",
    "import matplotlib.pyplot as plt\n",
    "import seaborn as sns  # Make sure you have seaborn installed"
   ]
  },
  {
   "cell_type": "code",
   "execution_count": 10,
   "metadata": {},
   "outputs": [],
   "source": [
    "from sklearn.preprocessing import StandardScaler\n",
    "\n",
    "def data_gen(csv_file):\n",
    "    # Read the CSV file and create a DataFrame\n",
    "    df = pd.read_csv(csv_file)\n",
    "\n",
    "    # Define your target variable\n",
    "    target_column = 'has_parkinson'\n",
    "    y = df[target_column]\n",
    "\n",
    "    # Drop the target column and other non-essential columns if needed\n",
    "    X = df.drop(columns=[target_column, 'data_group', 'event_type'])\n",
    "\n",
    "    return [X,y]"
   ]
  },
  {
   "cell_type": "markdown",
   "metadata": {},
   "source": [
    "## All features"
   ]
  },
  {
   "cell_type": "code",
   "execution_count": 41,
   "metadata": {},
   "outputs": [],
   "source": [
    "from sklearn.model_selection import train_test_split\n",
    "\n",
    "all_feature_data = data_gen('result_data.csv')\n",
    "# Standardize the features\n",
    "scaler = StandardScaler()\n",
    "X = all_feature_data[0]\n",
    "X_scaled = scaler.fit_transform(all_feature_data[0])\n",
    "y = all_feature_data[1]\n",
    "\n",
    "# Split the data into a training and testing set\n",
    "X_train, X_test, y_train, y_test = train_test_split(X_scaled, y, test_size=0.2, random_state=42)"
   ]
  },
  {
   "cell_type": "markdown",
   "metadata": {},
   "source": [
    "## 25 most important features using Recursive Feature Extraction"
   ]
  },
  {
   "cell_type": "code",
   "execution_count": 13,
   "metadata": {},
   "outputs": [],
   "source": [
    "most_feature_data = data_gen('result_data.csv')\n",
    "X_most = all_feature_data[0]\n",
    "y_most = all_feature_data[1]"
   ]
  },
  {
   "cell_type": "code",
   "execution_count": 14,
   "metadata": {},
   "outputs": [
    {
     "name": "stdout",
     "output_type": "stream",
     "text": [
      "Selected Features:\n",
      "Index(['finish_time', 'NCV', 'relative_NCV', 'relative_NCA', 'stroke_speed',\n",
      "       'velocity_median', 'velocity_std_dev', 'velocity_iqr',\n",
      "       'acceleration_median', 'acceleration_std_dev', 'jerk_mean',\n",
      "       'jerk_median', 'jerk_std_dev', 'velocity_x_mean', 'velocity_x_median',\n",
      "       'velocity_x_std_dev', 'velocity_x_iqr', 'velocity_x_kurtosis',\n",
      "       'jerk_x_mean', 'velocity_y_mean', 'velocity_y_median',\n",
      "       'acceleration_y_median', 'acceleration_y_maximum', 'jerk_y_std_dev',\n",
      "       'jerk_y_maximum'],\n",
      "      dtype='object')\n"
     ]
    }
   ],
   "source": [
    "from sklearn.ensemble import RandomForestClassifier\n",
    "from sklearn.feature_selection import RFE\n",
    "from sklearn.model_selection import train_test_split\n",
    "\n",
    "# Initialize a random forest classifier\n",
    "rf_classifier = RandomForestClassifier(n_estimators=100, random_state=42)\n",
    "\n",
    "# Set the number of features to select\n",
    "n_features_to_select = 25\n",
    "\n",
    "# Initialize RFE with the classifier and the number of features to retain\n",
    "rfe = RFE(estimator=rf_classifier, n_features_to_select=n_features_to_select)\n",
    "\n",
    "# Fit RFE to the training data\n",
    "rfe.fit(X_most, y_most)\n",
    "\n",
    "# Get the ranking of each feature (1 means selected, 2 means not selected)\n",
    "feature_ranking = rfe.ranking_\n",
    "\n",
    "# Get the indices of the selected features\n",
    "selected_features_indices = np.where(feature_ranking == 1)[0]\n",
    "\n",
    "# Get the names of the selected features\n",
    "selected_features_names = X_most.columns[selected_features_indices]\n",
    "\n",
    "# Subset the DataFrame with selected features\n",
    "X_selected = X_most[selected_features_names]\n",
    "\n",
    "# Split the dataset into training and testing sets\n",
    "X_train_most, X_test_most, y_train_most, y_test_most = train_test_split(X_selected, y, test_size=0.2, random_state=42)\n",
    "\n",
    "# Display the selected features\n",
    "print(\"Selected Features:\")\n",
    "print(selected_features_names)"
   ]
  },
  {
   "cell_type": "markdown",
   "metadata": {},
   "source": [
    "## Adaboost"
   ]
  },
  {
   "cell_type": "code",
   "execution_count": 36,
   "metadata": {},
   "outputs": [],
   "source": [
    "import matplotlib.pyplot as plt\n",
    "from sklearn.ensemble import AdaBoostClassifier\n",
    "from sklearn.metrics import accuracy_score, mean_squared_error\n",
    "from sklearn.metrics import confusion_matrix\n",
    "from sklearn.metrics import ConfusionMatrixDisplay\n",
    "\n",
    "\n",
    "def ada_boost_func(X_train,y_train,X_test,y_test):\n",
    "\n",
    "    # Initialize an AdaBoost classifier\n",
    "    n_estimators = 100\n",
    "    ada_boost_clf = AdaBoostClassifier(n_estimators=n_estimators, random_state=42)\n",
    "\n",
    "    # Train the AdaBoost classifier\n",
    "    ada_boost_clf.fit(X_train, y_train)\n",
    "\n",
    "    # Initialize arrays to store accuracy and MSE values\n",
    "    train_accuracy = []\n",
    "    test_accuracy = []\n",
    "    train_mse = []\n",
    "    test_mse = []\n",
    "\n",
    "    # Loop through different numbers of estimators and record the accuracy and MSE\n",
    "    for i, estimator in enumerate(ada_boost_clf.estimators_, 1):\n",
    "        train_accuracy.append(accuracy_score(y_train, estimator.predict(X_train)))\n",
    "        test_accuracy.append(accuracy_score(y_test, estimator.predict(X_test)))\n",
    "        train_mse.append(mean_squared_error(y_train, estimator.predict(X_train)))\n",
    "        test_mse.append(mean_squared_error(y_test, estimator.predict(X_test)))\n",
    "\n",
    "    # Convert the lists to numpy arrays\n",
    "    train_accuracy = np.array(train_accuracy)\n",
    "    test_accuracy = np.array(test_accuracy)\n",
    "    train_mse = np.array(train_mse)\n",
    "    test_mse = np.array(test_mse)\n",
    "\n",
    "    # Calculate accuracy and MSE for the final model\n",
    "    y_train_pred = ada_boost_clf.predict(X_train)\n",
    "    y_test_pred = ada_boost_clf.predict(X_test)\n",
    "    final_train_accuracy = accuracy_score(y_train, y_train_pred)\n",
    "    final_test_accuracy = accuracy_score(y_test, y_test_pred)\n",
    "    final_train_mse = mean_squared_error(y_train, y_train_pred)\n",
    "    final_test_mse = mean_squared_error(y_test, y_test_pred)\n",
    "\n",
    "    print(f\"Final Testing Accuracy: {final_test_accuracy*100}\")\n",
    "\n",
    "    # Create a line plot for both training and testing accuracy using Plotly\n",
    "    fig = go.Figure()\n",
    "\n",
    "    fig.add_trace(go.Scatter(x=np.arange(1, n_estimators + 1), y=train_accuracy, mode='lines', name='Training Accuracy'))\n",
    "    fig.add_trace(go.Scatter(x=np.arange(1, n_estimators + 1), y=test_accuracy, mode='lines', name='Testing Accuracy'))\n",
    "\n",
    "    fig.update_layout(title='Training and Testing Accuracy Over Epochs',\n",
    "                    xaxis_title='Number of Estimators',\n",
    "                    yaxis_title='Accuracy')\n",
    "\n",
    "    fig.show()\n",
    "\n",
    "    # Create a line plot for both training and testing MSE loss using Plotly\n",
    "    fig_mse = go.Figure()\n",
    "\n",
    "    fig_mse.add_trace(go.Scatter(x=np.arange(1, n_estimators + 1), y=train_mse, mode='lines', name='Training MSE Loss'))\n",
    "    fig_mse.add_trace(go.Scatter(x=np.arange(1, n_estimators + 1), y=test_mse, mode='lines', name='Testing MSE Loss'))\n",
    "\n",
    "    fig_mse.update_layout(title='Training and Testing MSE Loss Over Epochs',\n",
    "                        xaxis_title='Number of Estimators (Epochs)',\n",
    "                        yaxis_title='MSE Loss')\n",
    "\n",
    "    fig_mse.show()\n",
    "\n",
    "    # Create a confusion matrix\n",
    "    confusion = confusion_matrix(y_test, y_test_pred)\n",
    "\n",
    "    # Plot the confusion matrix\n",
    "    disp = ConfusionMatrixDisplay(confusion, display_labels=ada_boost_clf.classes_)\n",
    "    disp.plot(cmap='viridis')\n",
    "    plt.title('Confusion Matrix')\n",
    "    plt.show()\n",
    "\n"
   ]
  },
  {
   "cell_type": "markdown",
   "metadata": {},
   "source": [
    "### all features"
   ]
  },
  {
   "cell_type": "code",
   "execution_count": 37,
   "metadata": {},
   "outputs": [
    {
     "name": "stdout",
     "output_type": "stream",
     "text": [
      "Final Testing Accuracy: 68.09701492537313\n"
     ]
    },
    {
     "data": {
      "application/vnd.plotly.v1+json": {
       "config": {
        "plotlyServerURL": "https://plot.ly"
       },
       "data": [
        {
         "mode": "lines",
         "name": "Training Accuracy",
         "type": "scatter",
         "x": [
          1,
          2,
          3,
          4,
          5,
          6,
          7,
          8,
          9,
          10,
          11,
          12,
          13,
          14,
          15,
          16,
          17,
          18,
          19,
          20,
          21,
          22,
          23,
          24,
          25,
          26,
          27,
          28,
          29,
          30,
          31,
          32,
          33,
          34,
          35,
          36,
          37,
          38,
          39,
          40,
          41,
          42,
          43,
          44,
          45,
          46,
          47,
          48,
          49,
          50,
          51,
          52,
          53,
          54,
          55,
          56,
          57,
          58,
          59,
          60,
          61,
          62,
          63,
          64,
          65,
          66,
          67,
          68,
          69,
          70,
          71,
          72,
          73,
          74,
          75,
          76,
          77,
          78,
          79,
          80,
          81,
          82,
          83,
          84,
          85,
          86,
          87,
          88,
          89,
          90,
          91,
          92,
          93,
          94,
          95,
          96,
          97,
          98,
          99,
          100
         ],
         "y": [
          0.6138059701492538,
          0.6254664179104478,
          0.46548507462686567,
          0.5774253731343284,
          0.5946828358208955,
          0.6086753731343284,
          0.43796641791044777,
          0.5909514925373134,
          0.44263059701492535,
          0.47761194029850745,
          0.5541044776119403,
          0.5583022388059702,
          0.6161380597014925,
          0.4780783582089552,
          0.5685634328358209,
          0.4449626865671642,
          0.5461753731343284,
          0.5755597014925373,
          0.43843283582089554,
          0.5438432835820896,
          0.5685634328358209,
          0.5648320895522388,
          0.4710820895522388,
          0.4468283582089552,
          0.4388992537313433,
          0.5816231343283582,
          0.435634328358209,
          0.6208022388059702,
          0.4780783582089552,
          0.5788246268656716,
          0.48507462686567165,
          0.5643656716417911,
          0.44076492537313433,
          0.4920708955223881,
          0.5690298507462687,
          0.44263059701492535,
          0.5788246268656716,
          0.42630597014925375,
          0.6184701492537313,
          0.4291044776119403,
          0.5750932835820896,
          0.43283582089552236,
          0.6026119402985075,
          0.5932835820895522,
          0.47761194029850745,
          0.5191231343283582,
          0.45242537313432835,
          0.5513059701492538,
          0.5293843283582089,
          0.45009328358208955,
          0.5051305970149254,
          0.6142723880597015,
          0.41277985074626866,
          0.6203358208955224,
          0.4808768656716418,
          0.570429104477612,
          0.5620335820895522,
          0.4435634328358209,
          0.404384328358209,
          0.5736940298507462,
          0.507929104477612,
          0.511660447761194,
          0.5676305970149254,
          0.43703358208955223,
          0.5694962686567164,
          0.4375,
          0.5522388059701493,
          0.5303171641791045,
          0.4743470149253731,
          0.4594216417910448,
          0.5671641791044776,
          0.45802238805970147,
          0.5499067164179104,
          0.44263059701492535,
          0.5699626865671642,
          0.4556902985074627,
          0.5354477611940298,
          0.5783582089552238,
          0.43703358208955223,
          0.5923507462686567,
          0.4808768656716418,
          0.5461753731343284,
          0.5541044776119403,
          0.4594216417910448,
          0.5806902985074627,
          0.43097014925373134,
          0.5895522388059702,
          0.5041977611940298,
          0.5564365671641791,
          0.4594216417910448,
          0.5732276119402985,
          0.45988805970149255,
          0.458955223880597,
          0.6184701492537313,
          0.3908582089552239,
          0.6254664179104478,
          0.4239738805970149,
          0.6240671641791045,
          0.41044776119402987,
          0.5792910447761194
         ]
        },
        {
         "mode": "lines",
         "name": "Testing Accuracy",
         "type": "scatter",
         "x": [
          1,
          2,
          3,
          4,
          5,
          6,
          7,
          8,
          9,
          10,
          11,
          12,
          13,
          14,
          15,
          16,
          17,
          18,
          19,
          20,
          21,
          22,
          23,
          24,
          25,
          26,
          27,
          28,
          29,
          30,
          31,
          32,
          33,
          34,
          35,
          36,
          37,
          38,
          39,
          40,
          41,
          42,
          43,
          44,
          45,
          46,
          47,
          48,
          49,
          50,
          51,
          52,
          53,
          54,
          55,
          56,
          57,
          58,
          59,
          60,
          61,
          62,
          63,
          64,
          65,
          66,
          67,
          68,
          69,
          70,
          71,
          72,
          73,
          74,
          75,
          76,
          77,
          78,
          79,
          80,
          81,
          82,
          83,
          84,
          85,
          86,
          87,
          88,
          89,
          90,
          91,
          92,
          93,
          94,
          95,
          96,
          97,
          98,
          99,
          100
         ],
         "y": [
          0.6007462686567164,
          0.6119402985074627,
          0.46455223880597013,
          0.5597014925373134,
          0.5932835820895522,
          0.625,
          0.43283582089552236,
          0.585820895522388,
          0.40671641791044777,
          0.48134328358208955,
          0.5410447761194029,
          0.5447761194029851,
          0.621268656716418,
          0.44216417910447764,
          0.5783582089552238,
          0.43656716417910446,
          0.5242537313432836,
          0.5671641791044776,
          0.4048507462686567,
          0.5373134328358209,
          0.5597014925373134,
          0.5354477611940298,
          0.4832089552238806,
          0.43843283582089554,
          0.42350746268656714,
          0.5839552238805971,
          0.43097014925373134,
          0.5970149253731343,
          0.44216417910447764,
          0.5727611940298507,
          0.47201492537313433,
          0.5317164179104478,
          0.43656716417910446,
          0.4962686567164179,
          0.5634328358208955,
          0.44776119402985076,
          0.5708955223880597,
          0.4291044776119403,
          0.6231343283582089,
          0.42350746268656714,
          0.5708955223880597,
          0.4216417910447761,
          0.6138059701492538,
          0.625,
          0.4496268656716418,
          0.5410447761194029,
          0.44402985074626866,
          0.5373134328358209,
          0.5279850746268657,
          0.43097014925373134,
          0.5242537313432836,
          0.6119402985074627,
          0.4048507462686567,
          0.6231343283582089,
          0.4664179104477612,
          0.5522388059701493,
          0.5522388059701493,
          0.45149253731343286,
          0.40298507462686567,
          0.5690298507462687,
          0.5186567164179104,
          0.5373134328358209,
          0.5634328358208955,
          0.43656716417910446,
          0.5634328358208955,
          0.43656716417910446,
          0.5503731343283582,
          0.5242537313432836,
          0.43656716417910446,
          0.4552238805970149,
          0.5634328358208955,
          0.458955223880597,
          0.5410447761194029,
          0.43470149253731344,
          0.5634328358208955,
          0.457089552238806,
          0.5130597014925373,
          0.5708955223880597,
          0.43470149253731344,
          0.5970149253731343,
          0.48880597014925375,
          0.5242537313432836,
          0.5466417910447762,
          0.4533582089552239,
          0.585820895522388,
          0.4291044776119403,
          0.5951492537313433,
          0.5223880597014925,
          0.539179104477612,
          0.4626865671641791,
          0.5727611940298507,
          0.4626865671641791,
          0.4533582089552239,
          0.6324626865671642,
          0.38992537313432835,
          0.6082089552238806,
          0.3824626865671642,
          0.6492537313432836,
          0.4123134328358209,
          0.5690298507462687
         ]
        }
       ],
       "layout": {
        "template": {
         "data": {
          "bar": [
           {
            "error_x": {
             "color": "#2a3f5f"
            },
            "error_y": {
             "color": "#2a3f5f"
            },
            "marker": {
             "line": {
              "color": "#E5ECF6",
              "width": 0.5
             },
             "pattern": {
              "fillmode": "overlay",
              "size": 10,
              "solidity": 0.2
             }
            },
            "type": "bar"
           }
          ],
          "barpolar": [
           {
            "marker": {
             "line": {
              "color": "#E5ECF6",
              "width": 0.5
             },
             "pattern": {
              "fillmode": "overlay",
              "size": 10,
              "solidity": 0.2
             }
            },
            "type": "barpolar"
           }
          ],
          "carpet": [
           {
            "aaxis": {
             "endlinecolor": "#2a3f5f",
             "gridcolor": "white",
             "linecolor": "white",
             "minorgridcolor": "white",
             "startlinecolor": "#2a3f5f"
            },
            "baxis": {
             "endlinecolor": "#2a3f5f",
             "gridcolor": "white",
             "linecolor": "white",
             "minorgridcolor": "white",
             "startlinecolor": "#2a3f5f"
            },
            "type": "carpet"
           }
          ],
          "choropleth": [
           {
            "colorbar": {
             "outlinewidth": 0,
             "ticks": ""
            },
            "type": "choropleth"
           }
          ],
          "contour": [
           {
            "colorbar": {
             "outlinewidth": 0,
             "ticks": ""
            },
            "colorscale": [
             [
              0,
              "#0d0887"
             ],
             [
              0.1111111111111111,
              "#46039f"
             ],
             [
              0.2222222222222222,
              "#7201a8"
             ],
             [
              0.3333333333333333,
              "#9c179e"
             ],
             [
              0.4444444444444444,
              "#bd3786"
             ],
             [
              0.5555555555555556,
              "#d8576b"
             ],
             [
              0.6666666666666666,
              "#ed7953"
             ],
             [
              0.7777777777777778,
              "#fb9f3a"
             ],
             [
              0.8888888888888888,
              "#fdca26"
             ],
             [
              1,
              "#f0f921"
             ]
            ],
            "type": "contour"
           }
          ],
          "contourcarpet": [
           {
            "colorbar": {
             "outlinewidth": 0,
             "ticks": ""
            },
            "type": "contourcarpet"
           }
          ],
          "heatmap": [
           {
            "colorbar": {
             "outlinewidth": 0,
             "ticks": ""
            },
            "colorscale": [
             [
              0,
              "#0d0887"
             ],
             [
              0.1111111111111111,
              "#46039f"
             ],
             [
              0.2222222222222222,
              "#7201a8"
             ],
             [
              0.3333333333333333,
              "#9c179e"
             ],
             [
              0.4444444444444444,
              "#bd3786"
             ],
             [
              0.5555555555555556,
              "#d8576b"
             ],
             [
              0.6666666666666666,
              "#ed7953"
             ],
             [
              0.7777777777777778,
              "#fb9f3a"
             ],
             [
              0.8888888888888888,
              "#fdca26"
             ],
             [
              1,
              "#f0f921"
             ]
            ],
            "type": "heatmap"
           }
          ],
          "heatmapgl": [
           {
            "colorbar": {
             "outlinewidth": 0,
             "ticks": ""
            },
            "colorscale": [
             [
              0,
              "#0d0887"
             ],
             [
              0.1111111111111111,
              "#46039f"
             ],
             [
              0.2222222222222222,
              "#7201a8"
             ],
             [
              0.3333333333333333,
              "#9c179e"
             ],
             [
              0.4444444444444444,
              "#bd3786"
             ],
             [
              0.5555555555555556,
              "#d8576b"
             ],
             [
              0.6666666666666666,
              "#ed7953"
             ],
             [
              0.7777777777777778,
              "#fb9f3a"
             ],
             [
              0.8888888888888888,
              "#fdca26"
             ],
             [
              1,
              "#f0f921"
             ]
            ],
            "type": "heatmapgl"
           }
          ],
          "histogram": [
           {
            "marker": {
             "pattern": {
              "fillmode": "overlay",
              "size": 10,
              "solidity": 0.2
             }
            },
            "type": "histogram"
           }
          ],
          "histogram2d": [
           {
            "colorbar": {
             "outlinewidth": 0,
             "ticks": ""
            },
            "colorscale": [
             [
              0,
              "#0d0887"
             ],
             [
              0.1111111111111111,
              "#46039f"
             ],
             [
              0.2222222222222222,
              "#7201a8"
             ],
             [
              0.3333333333333333,
              "#9c179e"
             ],
             [
              0.4444444444444444,
              "#bd3786"
             ],
             [
              0.5555555555555556,
              "#d8576b"
             ],
             [
              0.6666666666666666,
              "#ed7953"
             ],
             [
              0.7777777777777778,
              "#fb9f3a"
             ],
             [
              0.8888888888888888,
              "#fdca26"
             ],
             [
              1,
              "#f0f921"
             ]
            ],
            "type": "histogram2d"
           }
          ],
          "histogram2dcontour": [
           {
            "colorbar": {
             "outlinewidth": 0,
             "ticks": ""
            },
            "colorscale": [
             [
              0,
              "#0d0887"
             ],
             [
              0.1111111111111111,
              "#46039f"
             ],
             [
              0.2222222222222222,
              "#7201a8"
             ],
             [
              0.3333333333333333,
              "#9c179e"
             ],
             [
              0.4444444444444444,
              "#bd3786"
             ],
             [
              0.5555555555555556,
              "#d8576b"
             ],
             [
              0.6666666666666666,
              "#ed7953"
             ],
             [
              0.7777777777777778,
              "#fb9f3a"
             ],
             [
              0.8888888888888888,
              "#fdca26"
             ],
             [
              1,
              "#f0f921"
             ]
            ],
            "type": "histogram2dcontour"
           }
          ],
          "mesh3d": [
           {
            "colorbar": {
             "outlinewidth": 0,
             "ticks": ""
            },
            "type": "mesh3d"
           }
          ],
          "parcoords": [
           {
            "line": {
             "colorbar": {
              "outlinewidth": 0,
              "ticks": ""
             }
            },
            "type": "parcoords"
           }
          ],
          "pie": [
           {
            "automargin": true,
            "type": "pie"
           }
          ],
          "scatter": [
           {
            "fillpattern": {
             "fillmode": "overlay",
             "size": 10,
             "solidity": 0.2
            },
            "type": "scatter"
           }
          ],
          "scatter3d": [
           {
            "line": {
             "colorbar": {
              "outlinewidth": 0,
              "ticks": ""
             }
            },
            "marker": {
             "colorbar": {
              "outlinewidth": 0,
              "ticks": ""
             }
            },
            "type": "scatter3d"
           }
          ],
          "scattercarpet": [
           {
            "marker": {
             "colorbar": {
              "outlinewidth": 0,
              "ticks": ""
             }
            },
            "type": "scattercarpet"
           }
          ],
          "scattergeo": [
           {
            "marker": {
             "colorbar": {
              "outlinewidth": 0,
              "ticks": ""
             }
            },
            "type": "scattergeo"
           }
          ],
          "scattergl": [
           {
            "marker": {
             "colorbar": {
              "outlinewidth": 0,
              "ticks": ""
             }
            },
            "type": "scattergl"
           }
          ],
          "scattermapbox": [
           {
            "marker": {
             "colorbar": {
              "outlinewidth": 0,
              "ticks": ""
             }
            },
            "type": "scattermapbox"
           }
          ],
          "scatterpolar": [
           {
            "marker": {
             "colorbar": {
              "outlinewidth": 0,
              "ticks": ""
             }
            },
            "type": "scatterpolar"
           }
          ],
          "scatterpolargl": [
           {
            "marker": {
             "colorbar": {
              "outlinewidth": 0,
              "ticks": ""
             }
            },
            "type": "scatterpolargl"
           }
          ],
          "scatterternary": [
           {
            "marker": {
             "colorbar": {
              "outlinewidth": 0,
              "ticks": ""
             }
            },
            "type": "scatterternary"
           }
          ],
          "surface": [
           {
            "colorbar": {
             "outlinewidth": 0,
             "ticks": ""
            },
            "colorscale": [
             [
              0,
              "#0d0887"
             ],
             [
              0.1111111111111111,
              "#46039f"
             ],
             [
              0.2222222222222222,
              "#7201a8"
             ],
             [
              0.3333333333333333,
              "#9c179e"
             ],
             [
              0.4444444444444444,
              "#bd3786"
             ],
             [
              0.5555555555555556,
              "#d8576b"
             ],
             [
              0.6666666666666666,
              "#ed7953"
             ],
             [
              0.7777777777777778,
              "#fb9f3a"
             ],
             [
              0.8888888888888888,
              "#fdca26"
             ],
             [
              1,
              "#f0f921"
             ]
            ],
            "type": "surface"
           }
          ],
          "table": [
           {
            "cells": {
             "fill": {
              "color": "#EBF0F8"
             },
             "line": {
              "color": "white"
             }
            },
            "header": {
             "fill": {
              "color": "#C8D4E3"
             },
             "line": {
              "color": "white"
             }
            },
            "type": "table"
           }
          ]
         },
         "layout": {
          "annotationdefaults": {
           "arrowcolor": "#2a3f5f",
           "arrowhead": 0,
           "arrowwidth": 1
          },
          "autotypenumbers": "strict",
          "coloraxis": {
           "colorbar": {
            "outlinewidth": 0,
            "ticks": ""
           }
          },
          "colorscale": {
           "diverging": [
            [
             0,
             "#8e0152"
            ],
            [
             0.1,
             "#c51b7d"
            ],
            [
             0.2,
             "#de77ae"
            ],
            [
             0.3,
             "#f1b6da"
            ],
            [
             0.4,
             "#fde0ef"
            ],
            [
             0.5,
             "#f7f7f7"
            ],
            [
             0.6,
             "#e6f5d0"
            ],
            [
             0.7,
             "#b8e186"
            ],
            [
             0.8,
             "#7fbc41"
            ],
            [
             0.9,
             "#4d9221"
            ],
            [
             1,
             "#276419"
            ]
           ],
           "sequential": [
            [
             0,
             "#0d0887"
            ],
            [
             0.1111111111111111,
             "#46039f"
            ],
            [
             0.2222222222222222,
             "#7201a8"
            ],
            [
             0.3333333333333333,
             "#9c179e"
            ],
            [
             0.4444444444444444,
             "#bd3786"
            ],
            [
             0.5555555555555556,
             "#d8576b"
            ],
            [
             0.6666666666666666,
             "#ed7953"
            ],
            [
             0.7777777777777778,
             "#fb9f3a"
            ],
            [
             0.8888888888888888,
             "#fdca26"
            ],
            [
             1,
             "#f0f921"
            ]
           ],
           "sequentialminus": [
            [
             0,
             "#0d0887"
            ],
            [
             0.1111111111111111,
             "#46039f"
            ],
            [
             0.2222222222222222,
             "#7201a8"
            ],
            [
             0.3333333333333333,
             "#9c179e"
            ],
            [
             0.4444444444444444,
             "#bd3786"
            ],
            [
             0.5555555555555556,
             "#d8576b"
            ],
            [
             0.6666666666666666,
             "#ed7953"
            ],
            [
             0.7777777777777778,
             "#fb9f3a"
            ],
            [
             0.8888888888888888,
             "#fdca26"
            ],
            [
             1,
             "#f0f921"
            ]
           ]
          },
          "colorway": [
           "#636efa",
           "#EF553B",
           "#00cc96",
           "#ab63fa",
           "#FFA15A",
           "#19d3f3",
           "#FF6692",
           "#B6E880",
           "#FF97FF",
           "#FECB52"
          ],
          "font": {
           "color": "#2a3f5f"
          },
          "geo": {
           "bgcolor": "white",
           "lakecolor": "white",
           "landcolor": "#E5ECF6",
           "showlakes": true,
           "showland": true,
           "subunitcolor": "white"
          },
          "hoverlabel": {
           "align": "left"
          },
          "hovermode": "closest",
          "mapbox": {
           "style": "light"
          },
          "paper_bgcolor": "white",
          "plot_bgcolor": "#E5ECF6",
          "polar": {
           "angularaxis": {
            "gridcolor": "white",
            "linecolor": "white",
            "ticks": ""
           },
           "bgcolor": "#E5ECF6",
           "radialaxis": {
            "gridcolor": "white",
            "linecolor": "white",
            "ticks": ""
           }
          },
          "scene": {
           "xaxis": {
            "backgroundcolor": "#E5ECF6",
            "gridcolor": "white",
            "gridwidth": 2,
            "linecolor": "white",
            "showbackground": true,
            "ticks": "",
            "zerolinecolor": "white"
           },
           "yaxis": {
            "backgroundcolor": "#E5ECF6",
            "gridcolor": "white",
            "gridwidth": 2,
            "linecolor": "white",
            "showbackground": true,
            "ticks": "",
            "zerolinecolor": "white"
           },
           "zaxis": {
            "backgroundcolor": "#E5ECF6",
            "gridcolor": "white",
            "gridwidth": 2,
            "linecolor": "white",
            "showbackground": true,
            "ticks": "",
            "zerolinecolor": "white"
           }
          },
          "shapedefaults": {
           "line": {
            "color": "#2a3f5f"
           }
          },
          "ternary": {
           "aaxis": {
            "gridcolor": "white",
            "linecolor": "white",
            "ticks": ""
           },
           "baxis": {
            "gridcolor": "white",
            "linecolor": "white",
            "ticks": ""
           },
           "bgcolor": "#E5ECF6",
           "caxis": {
            "gridcolor": "white",
            "linecolor": "white",
            "ticks": ""
           }
          },
          "title": {
           "x": 0.05
          },
          "xaxis": {
           "automargin": true,
           "gridcolor": "white",
           "linecolor": "white",
           "ticks": "",
           "title": {
            "standoff": 15
           },
           "zerolinecolor": "white",
           "zerolinewidth": 2
          },
          "yaxis": {
           "automargin": true,
           "gridcolor": "white",
           "linecolor": "white",
           "ticks": "",
           "title": {
            "standoff": 15
           },
           "zerolinecolor": "white",
           "zerolinewidth": 2
          }
         }
        },
        "title": {
         "text": "Training and Testing Accuracy Over Epochs"
        },
        "xaxis": {
         "title": {
          "text": "Number of Estimators"
         }
        },
        "yaxis": {
         "title": {
          "text": "Accuracy"
         }
        }
       }
      }
     },
     "metadata": {},
     "output_type": "display_data"
    },
    {
     "data": {
      "application/vnd.plotly.v1+json": {
       "config": {
        "plotlyServerURL": "https://plot.ly"
       },
       "data": [
        {
         "mode": "lines",
         "name": "Training MSE Loss",
         "type": "scatter",
         "x": [
          1,
          2,
          3,
          4,
          5,
          6,
          7,
          8,
          9,
          10,
          11,
          12,
          13,
          14,
          15,
          16,
          17,
          18,
          19,
          20,
          21,
          22,
          23,
          24,
          25,
          26,
          27,
          28,
          29,
          30,
          31,
          32,
          33,
          34,
          35,
          36,
          37,
          38,
          39,
          40,
          41,
          42,
          43,
          44,
          45,
          46,
          47,
          48,
          49,
          50,
          51,
          52,
          53,
          54,
          55,
          56,
          57,
          58,
          59,
          60,
          61,
          62,
          63,
          64,
          65,
          66,
          67,
          68,
          69,
          70,
          71,
          72,
          73,
          74,
          75,
          76,
          77,
          78,
          79,
          80,
          81,
          82,
          83,
          84,
          85,
          86,
          87,
          88,
          89,
          90,
          91,
          92,
          93,
          94,
          95,
          96,
          97,
          98,
          99,
          100
         ],
         "y": [
          0.38619402985074625,
          0.37453358208955223,
          0.5345149253731343,
          0.42257462686567165,
          0.40531716417910446,
          0.39132462686567165,
          0.5620335820895522,
          0.40904850746268656,
          0.5573694029850746,
          0.5223880597014925,
          0.4458955223880597,
          0.44169776119402987,
          0.38386194029850745,
          0.5219216417910447,
          0.4314365671641791,
          0.5550373134328358,
          0.45382462686567165,
          0.4244402985074627,
          0.5615671641791045,
          0.45615671641791045,
          0.4314365671641791,
          0.4351679104477612,
          0.5289179104477612,
          0.5531716417910447,
          0.5611007462686567,
          0.4183768656716418,
          0.5643656716417911,
          0.37919776119402987,
          0.5219216417910447,
          0.42117537313432835,
          0.5149253731343284,
          0.435634328358209,
          0.5592350746268657,
          0.507929104477612,
          0.43097014925373134,
          0.5573694029850746,
          0.42117537313432835,
          0.5736940298507462,
          0.38152985074626866,
          0.5708955223880597,
          0.42490671641791045,
          0.5671641791044776,
          0.39738805970149255,
          0.40671641791044777,
          0.5223880597014925,
          0.4808768656716418,
          0.5475746268656716,
          0.44869402985074625,
          0.470615671641791,
          0.5499067164179104,
          0.49486940298507465,
          0.38572761194029853,
          0.5872201492537313,
          0.37966417910447764,
          0.5191231343283582,
          0.4295708955223881,
          0.43796641791044777,
          0.5564365671641791,
          0.5956156716417911,
          0.42630597014925375,
          0.4920708955223881,
          0.488339552238806,
          0.43236940298507465,
          0.5629664179104478,
          0.43050373134328357,
          0.5625,
          0.44776119402985076,
          0.46968283582089554,
          0.5256529850746269,
          0.5405783582089553,
          0.43283582089552236,
          0.5419776119402985,
          0.45009328358208955,
          0.5573694029850746,
          0.4300373134328358,
          0.5443097014925373,
          0.46455223880597013,
          0.4216417910447761,
          0.5629664179104478,
          0.4076492537313433,
          0.5191231343283582,
          0.45382462686567165,
          0.4458955223880597,
          0.5405783582089553,
          0.4193097014925373,
          0.5690298507462687,
          0.41044776119402987,
          0.49580223880597013,
          0.4435634328358209,
          0.5405783582089553,
          0.42677238805970147,
          0.5401119402985075,
          0.5410447761194029,
          0.38152985074626866,
          0.6091417910447762,
          0.37453358208955223,
          0.5760261194029851,
          0.37593283582089554,
          0.5895522388059702,
          0.4207089552238806
         ]
        },
        {
         "mode": "lines",
         "name": "Testing MSE Loss",
         "type": "scatter",
         "x": [
          1,
          2,
          3,
          4,
          5,
          6,
          7,
          8,
          9,
          10,
          11,
          12,
          13,
          14,
          15,
          16,
          17,
          18,
          19,
          20,
          21,
          22,
          23,
          24,
          25,
          26,
          27,
          28,
          29,
          30,
          31,
          32,
          33,
          34,
          35,
          36,
          37,
          38,
          39,
          40,
          41,
          42,
          43,
          44,
          45,
          46,
          47,
          48,
          49,
          50,
          51,
          52,
          53,
          54,
          55,
          56,
          57,
          58,
          59,
          60,
          61,
          62,
          63,
          64,
          65,
          66,
          67,
          68,
          69,
          70,
          71,
          72,
          73,
          74,
          75,
          76,
          77,
          78,
          79,
          80,
          81,
          82,
          83,
          84,
          85,
          86,
          87,
          88,
          89,
          90,
          91,
          92,
          93,
          94,
          95,
          96,
          97,
          98,
          99,
          100
         ],
         "y": [
          0.39925373134328357,
          0.3880597014925373,
          0.5354477611940298,
          0.44029850746268656,
          0.40671641791044777,
          0.375,
          0.5671641791044776,
          0.4141791044776119,
          0.5932835820895522,
          0.5186567164179104,
          0.458955223880597,
          0.4552238805970149,
          0.3787313432835821,
          0.5578358208955224,
          0.4216417910447761,
          0.5634328358208955,
          0.47574626865671643,
          0.43283582089552236,
          0.5951492537313433,
          0.4626865671641791,
          0.44029850746268656,
          0.46455223880597013,
          0.5167910447761194,
          0.5615671641791045,
          0.5764925373134329,
          0.416044776119403,
          0.5690298507462687,
          0.40298507462686567,
          0.5578358208955224,
          0.42723880597014924,
          0.5279850746268657,
          0.46828358208955223,
          0.5634328358208955,
          0.503731343283582,
          0.43656716417910446,
          0.5522388059701493,
          0.4291044776119403,
          0.5708955223880597,
          0.376865671641791,
          0.5764925373134329,
          0.4291044776119403,
          0.5783582089552238,
          0.38619402985074625,
          0.375,
          0.5503731343283582,
          0.458955223880597,
          0.5559701492537313,
          0.4626865671641791,
          0.47201492537313433,
          0.5690298507462687,
          0.47574626865671643,
          0.3880597014925373,
          0.5951492537313433,
          0.376865671641791,
          0.5335820895522388,
          0.44776119402985076,
          0.44776119402985076,
          0.5485074626865671,
          0.5970149253731343,
          0.43097014925373134,
          0.48134328358208955,
          0.4626865671641791,
          0.43656716417910446,
          0.5634328358208955,
          0.43656716417910446,
          0.5634328358208955,
          0.4496268656716418,
          0.47574626865671643,
          0.5634328358208955,
          0.5447761194029851,
          0.43656716417910446,
          0.5410447761194029,
          0.458955223880597,
          0.5652985074626866,
          0.43656716417910446,
          0.542910447761194,
          0.4869402985074627,
          0.4291044776119403,
          0.5652985074626866,
          0.40298507462686567,
          0.5111940298507462,
          0.47574626865671643,
          0.4533582089552239,
          0.5466417910447762,
          0.4141791044776119,
          0.5708955223880597,
          0.4048507462686567,
          0.47761194029850745,
          0.4608208955223881,
          0.5373134328358209,
          0.42723880597014924,
          0.5373134328358209,
          0.5466417910447762,
          0.3675373134328358,
          0.6100746268656716,
          0.3917910447761194,
          0.6175373134328358,
          0.35074626865671643,
          0.5876865671641791,
          0.43097014925373134
         ]
        }
       ],
       "layout": {
        "template": {
         "data": {
          "bar": [
           {
            "error_x": {
             "color": "#2a3f5f"
            },
            "error_y": {
             "color": "#2a3f5f"
            },
            "marker": {
             "line": {
              "color": "#E5ECF6",
              "width": 0.5
             },
             "pattern": {
              "fillmode": "overlay",
              "size": 10,
              "solidity": 0.2
             }
            },
            "type": "bar"
           }
          ],
          "barpolar": [
           {
            "marker": {
             "line": {
              "color": "#E5ECF6",
              "width": 0.5
             },
             "pattern": {
              "fillmode": "overlay",
              "size": 10,
              "solidity": 0.2
             }
            },
            "type": "barpolar"
           }
          ],
          "carpet": [
           {
            "aaxis": {
             "endlinecolor": "#2a3f5f",
             "gridcolor": "white",
             "linecolor": "white",
             "minorgridcolor": "white",
             "startlinecolor": "#2a3f5f"
            },
            "baxis": {
             "endlinecolor": "#2a3f5f",
             "gridcolor": "white",
             "linecolor": "white",
             "minorgridcolor": "white",
             "startlinecolor": "#2a3f5f"
            },
            "type": "carpet"
           }
          ],
          "choropleth": [
           {
            "colorbar": {
             "outlinewidth": 0,
             "ticks": ""
            },
            "type": "choropleth"
           }
          ],
          "contour": [
           {
            "colorbar": {
             "outlinewidth": 0,
             "ticks": ""
            },
            "colorscale": [
             [
              0,
              "#0d0887"
             ],
             [
              0.1111111111111111,
              "#46039f"
             ],
             [
              0.2222222222222222,
              "#7201a8"
             ],
             [
              0.3333333333333333,
              "#9c179e"
             ],
             [
              0.4444444444444444,
              "#bd3786"
             ],
             [
              0.5555555555555556,
              "#d8576b"
             ],
             [
              0.6666666666666666,
              "#ed7953"
             ],
             [
              0.7777777777777778,
              "#fb9f3a"
             ],
             [
              0.8888888888888888,
              "#fdca26"
             ],
             [
              1,
              "#f0f921"
             ]
            ],
            "type": "contour"
           }
          ],
          "contourcarpet": [
           {
            "colorbar": {
             "outlinewidth": 0,
             "ticks": ""
            },
            "type": "contourcarpet"
           }
          ],
          "heatmap": [
           {
            "colorbar": {
             "outlinewidth": 0,
             "ticks": ""
            },
            "colorscale": [
             [
              0,
              "#0d0887"
             ],
             [
              0.1111111111111111,
              "#46039f"
             ],
             [
              0.2222222222222222,
              "#7201a8"
             ],
             [
              0.3333333333333333,
              "#9c179e"
             ],
             [
              0.4444444444444444,
              "#bd3786"
             ],
             [
              0.5555555555555556,
              "#d8576b"
             ],
             [
              0.6666666666666666,
              "#ed7953"
             ],
             [
              0.7777777777777778,
              "#fb9f3a"
             ],
             [
              0.8888888888888888,
              "#fdca26"
             ],
             [
              1,
              "#f0f921"
             ]
            ],
            "type": "heatmap"
           }
          ],
          "heatmapgl": [
           {
            "colorbar": {
             "outlinewidth": 0,
             "ticks": ""
            },
            "colorscale": [
             [
              0,
              "#0d0887"
             ],
             [
              0.1111111111111111,
              "#46039f"
             ],
             [
              0.2222222222222222,
              "#7201a8"
             ],
             [
              0.3333333333333333,
              "#9c179e"
             ],
             [
              0.4444444444444444,
              "#bd3786"
             ],
             [
              0.5555555555555556,
              "#d8576b"
             ],
             [
              0.6666666666666666,
              "#ed7953"
             ],
             [
              0.7777777777777778,
              "#fb9f3a"
             ],
             [
              0.8888888888888888,
              "#fdca26"
             ],
             [
              1,
              "#f0f921"
             ]
            ],
            "type": "heatmapgl"
           }
          ],
          "histogram": [
           {
            "marker": {
             "pattern": {
              "fillmode": "overlay",
              "size": 10,
              "solidity": 0.2
             }
            },
            "type": "histogram"
           }
          ],
          "histogram2d": [
           {
            "colorbar": {
             "outlinewidth": 0,
             "ticks": ""
            },
            "colorscale": [
             [
              0,
              "#0d0887"
             ],
             [
              0.1111111111111111,
              "#46039f"
             ],
             [
              0.2222222222222222,
              "#7201a8"
             ],
             [
              0.3333333333333333,
              "#9c179e"
             ],
             [
              0.4444444444444444,
              "#bd3786"
             ],
             [
              0.5555555555555556,
              "#d8576b"
             ],
             [
              0.6666666666666666,
              "#ed7953"
             ],
             [
              0.7777777777777778,
              "#fb9f3a"
             ],
             [
              0.8888888888888888,
              "#fdca26"
             ],
             [
              1,
              "#f0f921"
             ]
            ],
            "type": "histogram2d"
           }
          ],
          "histogram2dcontour": [
           {
            "colorbar": {
             "outlinewidth": 0,
             "ticks": ""
            },
            "colorscale": [
             [
              0,
              "#0d0887"
             ],
             [
              0.1111111111111111,
              "#46039f"
             ],
             [
              0.2222222222222222,
              "#7201a8"
             ],
             [
              0.3333333333333333,
              "#9c179e"
             ],
             [
              0.4444444444444444,
              "#bd3786"
             ],
             [
              0.5555555555555556,
              "#d8576b"
             ],
             [
              0.6666666666666666,
              "#ed7953"
             ],
             [
              0.7777777777777778,
              "#fb9f3a"
             ],
             [
              0.8888888888888888,
              "#fdca26"
             ],
             [
              1,
              "#f0f921"
             ]
            ],
            "type": "histogram2dcontour"
           }
          ],
          "mesh3d": [
           {
            "colorbar": {
             "outlinewidth": 0,
             "ticks": ""
            },
            "type": "mesh3d"
           }
          ],
          "parcoords": [
           {
            "line": {
             "colorbar": {
              "outlinewidth": 0,
              "ticks": ""
             }
            },
            "type": "parcoords"
           }
          ],
          "pie": [
           {
            "automargin": true,
            "type": "pie"
           }
          ],
          "scatter": [
           {
            "fillpattern": {
             "fillmode": "overlay",
             "size": 10,
             "solidity": 0.2
            },
            "type": "scatter"
           }
          ],
          "scatter3d": [
           {
            "line": {
             "colorbar": {
              "outlinewidth": 0,
              "ticks": ""
             }
            },
            "marker": {
             "colorbar": {
              "outlinewidth": 0,
              "ticks": ""
             }
            },
            "type": "scatter3d"
           }
          ],
          "scattercarpet": [
           {
            "marker": {
             "colorbar": {
              "outlinewidth": 0,
              "ticks": ""
             }
            },
            "type": "scattercarpet"
           }
          ],
          "scattergeo": [
           {
            "marker": {
             "colorbar": {
              "outlinewidth": 0,
              "ticks": ""
             }
            },
            "type": "scattergeo"
           }
          ],
          "scattergl": [
           {
            "marker": {
             "colorbar": {
              "outlinewidth": 0,
              "ticks": ""
             }
            },
            "type": "scattergl"
           }
          ],
          "scattermapbox": [
           {
            "marker": {
             "colorbar": {
              "outlinewidth": 0,
              "ticks": ""
             }
            },
            "type": "scattermapbox"
           }
          ],
          "scatterpolar": [
           {
            "marker": {
             "colorbar": {
              "outlinewidth": 0,
              "ticks": ""
             }
            },
            "type": "scatterpolar"
           }
          ],
          "scatterpolargl": [
           {
            "marker": {
             "colorbar": {
              "outlinewidth": 0,
              "ticks": ""
             }
            },
            "type": "scatterpolargl"
           }
          ],
          "scatterternary": [
           {
            "marker": {
             "colorbar": {
              "outlinewidth": 0,
              "ticks": ""
             }
            },
            "type": "scatterternary"
           }
          ],
          "surface": [
           {
            "colorbar": {
             "outlinewidth": 0,
             "ticks": ""
            },
            "colorscale": [
             [
              0,
              "#0d0887"
             ],
             [
              0.1111111111111111,
              "#46039f"
             ],
             [
              0.2222222222222222,
              "#7201a8"
             ],
             [
              0.3333333333333333,
              "#9c179e"
             ],
             [
              0.4444444444444444,
              "#bd3786"
             ],
             [
              0.5555555555555556,
              "#d8576b"
             ],
             [
              0.6666666666666666,
              "#ed7953"
             ],
             [
              0.7777777777777778,
              "#fb9f3a"
             ],
             [
              0.8888888888888888,
              "#fdca26"
             ],
             [
              1,
              "#f0f921"
             ]
            ],
            "type": "surface"
           }
          ],
          "table": [
           {
            "cells": {
             "fill": {
              "color": "#EBF0F8"
             },
             "line": {
              "color": "white"
             }
            },
            "header": {
             "fill": {
              "color": "#C8D4E3"
             },
             "line": {
              "color": "white"
             }
            },
            "type": "table"
           }
          ]
         },
         "layout": {
          "annotationdefaults": {
           "arrowcolor": "#2a3f5f",
           "arrowhead": 0,
           "arrowwidth": 1
          },
          "autotypenumbers": "strict",
          "coloraxis": {
           "colorbar": {
            "outlinewidth": 0,
            "ticks": ""
           }
          },
          "colorscale": {
           "diverging": [
            [
             0,
             "#8e0152"
            ],
            [
             0.1,
             "#c51b7d"
            ],
            [
             0.2,
             "#de77ae"
            ],
            [
             0.3,
             "#f1b6da"
            ],
            [
             0.4,
             "#fde0ef"
            ],
            [
             0.5,
             "#f7f7f7"
            ],
            [
             0.6,
             "#e6f5d0"
            ],
            [
             0.7,
             "#b8e186"
            ],
            [
             0.8,
             "#7fbc41"
            ],
            [
             0.9,
             "#4d9221"
            ],
            [
             1,
             "#276419"
            ]
           ],
           "sequential": [
            [
             0,
             "#0d0887"
            ],
            [
             0.1111111111111111,
             "#46039f"
            ],
            [
             0.2222222222222222,
             "#7201a8"
            ],
            [
             0.3333333333333333,
             "#9c179e"
            ],
            [
             0.4444444444444444,
             "#bd3786"
            ],
            [
             0.5555555555555556,
             "#d8576b"
            ],
            [
             0.6666666666666666,
             "#ed7953"
            ],
            [
             0.7777777777777778,
             "#fb9f3a"
            ],
            [
             0.8888888888888888,
             "#fdca26"
            ],
            [
             1,
             "#f0f921"
            ]
           ],
           "sequentialminus": [
            [
             0,
             "#0d0887"
            ],
            [
             0.1111111111111111,
             "#46039f"
            ],
            [
             0.2222222222222222,
             "#7201a8"
            ],
            [
             0.3333333333333333,
             "#9c179e"
            ],
            [
             0.4444444444444444,
             "#bd3786"
            ],
            [
             0.5555555555555556,
             "#d8576b"
            ],
            [
             0.6666666666666666,
             "#ed7953"
            ],
            [
             0.7777777777777778,
             "#fb9f3a"
            ],
            [
             0.8888888888888888,
             "#fdca26"
            ],
            [
             1,
             "#f0f921"
            ]
           ]
          },
          "colorway": [
           "#636efa",
           "#EF553B",
           "#00cc96",
           "#ab63fa",
           "#FFA15A",
           "#19d3f3",
           "#FF6692",
           "#B6E880",
           "#FF97FF",
           "#FECB52"
          ],
          "font": {
           "color": "#2a3f5f"
          },
          "geo": {
           "bgcolor": "white",
           "lakecolor": "white",
           "landcolor": "#E5ECF6",
           "showlakes": true,
           "showland": true,
           "subunitcolor": "white"
          },
          "hoverlabel": {
           "align": "left"
          },
          "hovermode": "closest",
          "mapbox": {
           "style": "light"
          },
          "paper_bgcolor": "white",
          "plot_bgcolor": "#E5ECF6",
          "polar": {
           "angularaxis": {
            "gridcolor": "white",
            "linecolor": "white",
            "ticks": ""
           },
           "bgcolor": "#E5ECF6",
           "radialaxis": {
            "gridcolor": "white",
            "linecolor": "white",
            "ticks": ""
           }
          },
          "scene": {
           "xaxis": {
            "backgroundcolor": "#E5ECF6",
            "gridcolor": "white",
            "gridwidth": 2,
            "linecolor": "white",
            "showbackground": true,
            "ticks": "",
            "zerolinecolor": "white"
           },
           "yaxis": {
            "backgroundcolor": "#E5ECF6",
            "gridcolor": "white",
            "gridwidth": 2,
            "linecolor": "white",
            "showbackground": true,
            "ticks": "",
            "zerolinecolor": "white"
           },
           "zaxis": {
            "backgroundcolor": "#E5ECF6",
            "gridcolor": "white",
            "gridwidth": 2,
            "linecolor": "white",
            "showbackground": true,
            "ticks": "",
            "zerolinecolor": "white"
           }
          },
          "shapedefaults": {
           "line": {
            "color": "#2a3f5f"
           }
          },
          "ternary": {
           "aaxis": {
            "gridcolor": "white",
            "linecolor": "white",
            "ticks": ""
           },
           "baxis": {
            "gridcolor": "white",
            "linecolor": "white",
            "ticks": ""
           },
           "bgcolor": "#E5ECF6",
           "caxis": {
            "gridcolor": "white",
            "linecolor": "white",
            "ticks": ""
           }
          },
          "title": {
           "x": 0.05
          },
          "xaxis": {
           "automargin": true,
           "gridcolor": "white",
           "linecolor": "white",
           "ticks": "",
           "title": {
            "standoff": 15
           },
           "zerolinecolor": "white",
           "zerolinewidth": 2
          },
          "yaxis": {
           "automargin": true,
           "gridcolor": "white",
           "linecolor": "white",
           "ticks": "",
           "title": {
            "standoff": 15
           },
           "zerolinecolor": "white",
           "zerolinewidth": 2
          }
         }
        },
        "title": {
         "text": "Training and Testing MSE Loss Over Epochs"
        },
        "xaxis": {
         "title": {
          "text": "Number of Estimators (Epochs)"
         }
        },
        "yaxis": {
         "title": {
          "text": "MSE Loss"
         }
        }
       }
      }
     },
     "metadata": {},
     "output_type": "display_data"
    },
    {
     "data": {
      "image/png": "[encoded data removed]",
      "text/plain": [
       "<Figure size 640x480 with 2 Axes>"
      ]
     },
     "metadata": {},
     "output_type": "display_data"
    }
   ],
   "source": [
    "ada_boost_func(X_train,y_train,X_test,y_test)"
   ]
  },
  {
   "cell_type": "markdown",
   "metadata": {},
   "source": [
    "### 25 features"
   ]
  },
  {
   "cell_type": "code",
   "execution_count": 38,
   "metadata": {},
   "outputs": [
    {
     "name": "stderr",
     "output_type": "stream",
     "text": [
      "d:\\AppRelated\\Anaconda\\envs\\mi\\lib\\site-packages\\sklearn\\base.py:457: UserWarning:\n",
      "\n",
      "X has feature names, but DecisionTreeClassifier was fitted without feature names\n",
      "\n",
      "d:\\AppRelated\\Anaconda\\envs\\mi\\lib\\site-packages\\sklearn\\base.py:457: UserWarning:\n",
      "\n",
      "X has feature names, but DecisionTreeClassifier was fitted without feature names\n",
      "\n",
      "d:\\AppRelated\\Anaconda\\envs\\mi\\lib\\site-packages\\sklearn\\base.py:457: UserWarning:\n",
      "\n",
      "X has feature names, but DecisionTreeClassifier was fitted without feature names\n",
      "\n",
      "d:\\AppRelated\\Anaconda\\envs\\mi\\lib\\site-packages\\sklearn\\base.py:457: UserWarning:\n",
      "\n",
      "X has feature names, but DecisionTreeClassifier was fitted without feature names\n",
      "\n",
      "d:\\AppRelated\\Anaconda\\envs\\mi\\lib\\site-packages\\sklearn\\base.py:457: UserWarning:\n",
      "\n",
      "X has feature names, but DecisionTreeClassifier was fitted without feature names\n",
      "\n",
      "d:\\AppRelated\\Anaconda\\envs\\mi\\lib\\site-packages\\sklearn\\base.py:457: UserWarning:\n",
      "\n",
      "X has feature names, but DecisionTreeClassifier was fitted without feature names\n",
      "\n",
      "d:\\AppRelated\\Anaconda\\envs\\mi\\lib\\site-packages\\sklearn\\base.py:457: UserWarning:\n",
      "\n",
      "X has feature names, but DecisionTreeClassifier was fitted without feature names\n",
      "\n",
      "d:\\AppRelated\\Anaconda\\envs\\mi\\lib\\site-packages\\sklearn\\base.py:457: UserWarning:\n",
      "\n",
      "X has feature names, but DecisionTreeClassifier was fitted without feature names\n",
      "\n",
      "d:\\AppRelated\\Anaconda\\envs\\mi\\lib\\site-packages\\sklearn\\base.py:457: UserWarning:\n",
      "\n",
      "X has feature names, but DecisionTreeClassifier was fitted without feature names\n",
      "\n",
      "d:\\AppRelated\\Anaconda\\envs\\mi\\lib\\site-packages\\sklearn\\base.py:457: UserWarning:\n",
      "\n",
      "X has feature names, but DecisionTreeClassifier was fitted without feature names\n",
      "\n",
      "d:\\AppRelated\\Anaconda\\envs\\mi\\lib\\site-packages\\sklearn\\base.py:457: UserWarning:\n",
      "\n",
      "X has feature names, but DecisionTreeClassifier was fitted without feature names\n",
      "\n",
      "d:\\AppRelated\\Anaconda\\envs\\mi\\lib\\site-packages\\sklearn\\base.py:457: UserWarning:\n",
      "\n",
      "X has feature names, but DecisionTreeClassifier was fitted without feature names\n",
      "\n",
      "d:\\AppRelated\\Anaconda\\envs\\mi\\lib\\site-packages\\sklearn\\base.py:457: UserWarning:\n",
      "\n",
      "X has feature names, but DecisionTreeClassifier was fitted without feature names\n",
      "\n",
      "d:\\AppRelated\\Anaconda\\envs\\mi\\lib\\site-packages\\sklearn\\base.py:457: UserWarning:\n",
      "\n",
      "X has feature names, but DecisionTreeClassifier was fitted without feature names\n",
      "\n",
      "d:\\AppRelated\\Anaconda\\envs\\mi\\lib\\site-packages\\sklearn\\base.py:457: UserWarning:\n",
      "\n",
      "X has feature names, but DecisionTreeClassifier was fitted without feature names\n",
      "\n",
      "d:\\AppRelated\\Anaconda\\envs\\mi\\lib\\site-packages\\sklearn\\base.py:457: UserWarning:\n",
      "\n",
      "X has feature names, but DecisionTreeClassifier was fitted without feature names\n",
      "\n",
      "d:\\AppRelated\\Anaconda\\envs\\mi\\lib\\site-packages\\sklearn\\base.py:457: UserWarning:\n",
      "\n",
      "X has feature names, but DecisionTreeClassifier was fitted without feature names\n",
      "\n",
      "d:\\AppRelated\\Anaconda\\envs\\mi\\lib\\site-packages\\sklearn\\base.py:457: UserWarning:\n",
      "\n",
      "X has feature names, but DecisionTreeClassifier was fitted without feature names\n",
      "\n",
      "d:\\AppRelated\\Anaconda\\envs\\mi\\lib\\site-packages\\sklearn\\base.py:457: UserWarning:\n",
      "\n",
      "X has feature names, but DecisionTreeClassifier was fitted without feature names\n",
      "\n",
      "d:\\AppRelated\\Anaconda\\envs\\mi\\lib\\site-packages\\sklearn\\base.py:457: UserWarning:\n",
      "\n",
      "X has feature names, but DecisionTreeClassifier was fitted without feature names\n",
      "\n",
      "d:\\AppRelated\\Anaconda\\envs\\mi\\lib\\site-packages\\sklearn\\base.py:457: UserWarning:\n",
      "\n",
      "X has feature names, but DecisionTreeClassifier was fitted without feature names\n",
      "\n",
      "d:\\AppRelated\\Anaconda\\envs\\mi\\lib\\site-packages\\sklearn\\base.py:457: UserWarning:\n",
      "\n",
      "X has feature names, but DecisionTreeClassifier was fitted without feature names\n",
      "\n",
      "d:\\AppRelated\\Anaconda\\envs\\mi\\lib\\site-packages\\sklearn\\base.py:457: UserWarning:\n",
      "\n",
      "X has feature names, but DecisionTreeClassifier was fitted without feature names\n",
      "\n",
      "d:\\AppRelated\\Anaconda\\envs\\mi\\lib\\site-packages\\sklearn\\base.py:457: UserWarning:\n",
      "\n",
      "X has feature names, but DecisionTreeClassifier was fitted without feature names\n",
      "\n",
      "d:\\AppRelated\\Anaconda\\envs\\mi\\lib\\site-packages\\sklearn\\base.py:457: UserWarning:\n",
      "\n",
      "X has feature names, but DecisionTreeClassifier was fitted without feature names\n",
      "\n",
      "d:\\AppRelated\\Anaconda\\envs\\mi\\lib\\site-packages\\sklearn\\base.py:457: UserWarning:\n",
      "\n",
      "X has feature names, but DecisionTreeClassifier was fitted without feature names\n",
      "\n",
      "d:\\AppRelated\\Anaconda\\envs\\mi\\lib\\site-packages\\sklearn\\base.py:457: UserWarning:\n",
      "\n",
      "X has feature names, but DecisionTreeClassifier was fitted without feature names\n",
      "\n",
      "d:\\AppRelated\\Anaconda\\envs\\mi\\lib\\site-packages\\sklearn\\base.py:457: UserWarning:\n",
      "\n",
      "X has feature names, but DecisionTreeClassifier was fitted without feature names\n",
      "\n",
      "d:\\AppRelated\\Anaconda\\envs\\mi\\lib\\site-packages\\sklearn\\base.py:457: UserWarning:\n",
      "\n",
      "X has feature names, but DecisionTreeClassifier was fitted without feature names\n",
      "\n",
      "d:\\AppRelated\\Anaconda\\envs\\mi\\lib\\site-packages\\sklearn\\base.py:457: UserWarning:\n",
      "\n",
      "X has feature names, but DecisionTreeClassifier was fitted without feature names\n",
      "\n",
      "d:\\AppRelated\\Anaconda\\envs\\mi\\lib\\site-packages\\sklearn\\base.py:457: UserWarning:\n",
      "\n",
      "X has feature names, but DecisionTreeClassifier was fitted without feature names\n",
      "\n",
      "d:\\AppRelated\\Anaconda\\envs\\mi\\lib\\site-packages\\sklearn\\base.py:457: UserWarning:\n",
      "\n",
      "X has feature names, but DecisionTreeClassifier was fitted without feature names\n",
      "\n",
      "d:\\AppRelated\\Anaconda\\envs\\mi\\lib\\site-packages\\sklearn\\base.py:457: UserWarning:\n",
      "\n",
      "X has feature names, but DecisionTreeClassifier was fitted without feature names\n",
      "\n",
      "d:\\AppRelated\\Anaconda\\envs\\mi\\lib\\site-packages\\sklearn\\base.py:457: UserWarning:\n",
      "\n",
      "X has feature names, but DecisionTreeClassifier was fitted without feature names\n",
      "\n",
      "d:\\AppRelated\\Anaconda\\envs\\mi\\lib\\site-packages\\sklearn\\base.py:457: UserWarning:\n",
      "\n",
      "X has feature names, but DecisionTreeClassifier was fitted without feature names\n",
      "\n",
      "d:\\AppRelated\\Anaconda\\envs\\mi\\lib\\site-packages\\sklearn\\base.py:457: UserWarning:\n",
      "\n",
      "X has feature names, but DecisionTreeClassifier was fitted without feature names\n",
      "\n",
      "d:\\AppRelated\\Anaconda\\envs\\mi\\lib\\site-packages\\sklearn\\base.py:457: UserWarning:\n",
      "\n",
      "X has feature names, but DecisionTreeClassifier was fitted without feature names\n",
      "\n",
      "d:\\AppRelated\\Anaconda\\envs\\mi\\lib\\site-packages\\sklearn\\base.py:457: UserWarning:\n",
      "\n",
      "X has feature names, but DecisionTreeClassifier was fitted without feature names\n",
      "\n",
      "d:\\AppRelated\\Anaconda\\envs\\mi\\lib\\site-packages\\sklearn\\base.py:457: UserWarning:\n",
      "\n",
      "X has feature names, but DecisionTreeClassifier was fitted without feature names\n",
      "\n",
      "d:\\AppRelated\\Anaconda\\envs\\mi\\lib\\site-packages\\sklearn\\base.py:457: UserWarning:\n",
      "\n",
      "X has feature names, but DecisionTreeClassifier was fitted without feature names\n",
      "\n",
      "d:\\AppRelated\\Anaconda\\envs\\mi\\lib\\site-packages\\sklearn\\base.py:457: UserWarning:\n",
      "\n",
      "X has feature names, but DecisionTreeClassifier was fitted without feature names\n",
      "\n",
      "d:\\AppRelated\\Anaconda\\envs\\mi\\lib\\site-packages\\sklearn\\base.py:457: UserWarning:\n",
      "\n",
      "X has feature names, but DecisionTreeClassifier was fitted without feature names\n",
      "\n",
      "d:\\AppRelated\\Anaconda\\envs\\mi\\lib\\site-packages\\sklearn\\base.py:457: UserWarning:\n",
      "\n",
      "X has feature names, but DecisionTreeClassifier was fitted without feature names\n",
      "\n",
      "d:\\AppRelated\\Anaconda\\envs\\mi\\lib\\site-packages\\sklearn\\base.py:457: UserWarning:\n",
      "\n",
      "X has feature names, but DecisionTreeClassifier was fitted without feature names\n",
      "\n",
      "d:\\AppRelated\\Anaconda\\envs\\mi\\lib\\site-packages\\sklearn\\base.py:457: UserWarning:\n",
      "\n",
      "X has feature names, but DecisionTreeClassifier was fitted without feature names\n",
      "\n",
      "d:\\AppRelated\\Anaconda\\envs\\mi\\lib\\site-packages\\sklearn\\base.py:457: UserWarning:\n",
      "\n",
      "X has feature names, but DecisionTreeClassifier was fitted without feature names\n",
      "\n",
      "d:\\AppRelated\\Anaconda\\envs\\mi\\lib\\site-packages\\sklearn\\base.py:457: UserWarning:\n",
      "\n",
      "X has feature names, but DecisionTreeClassifier was fitted without feature names\n",
      "\n",
      "d:\\AppRelated\\Anaconda\\envs\\mi\\lib\\site-packages\\sklearn\\base.py:457: UserWarning:\n",
      "\n",
      "X has feature names, but DecisionTreeClassifier was fitted without feature names\n",
      "\n",
      "d:\\AppRelated\\Anaconda\\envs\\mi\\lib\\site-packages\\sklearn\\base.py:457: UserWarning:\n",
      "\n",
      "X has feature names, but DecisionTreeClassifier was fitted without feature names\n",
      "\n",
      "d:\\AppRelated\\Anaconda\\envs\\mi\\lib\\site-packages\\sklearn\\base.py:457: UserWarning:\n",
      "\n",
      "X has feature names, but DecisionTreeClassifier was fitted without feature names\n",
      "\n",
      "d:\\AppRelated\\Anaconda\\envs\\mi\\lib\\site-packages\\sklearn\\base.py:457: UserWarning:\n",
      "\n",
      "X has feature names, but DecisionTreeClassifier was fitted without feature names\n",
      "\n",
      "d:\\AppRelated\\Anaconda\\envs\\mi\\lib\\site-packages\\sklearn\\base.py:457: UserWarning:\n",
      "\n",
      "X has feature names, but DecisionTreeClassifier was fitted without feature names\n",
      "\n",
      "d:\\AppRelated\\Anaconda\\envs\\mi\\lib\\site-packages\\sklearn\\base.py:457: UserWarning:\n",
      "\n",
      "X has feature names, but DecisionTreeClassifier was fitted without feature names\n",
      "\n",
      "d:\\AppRelated\\Anaconda\\envs\\mi\\lib\\site-packages\\sklearn\\base.py:457: UserWarning:\n",
      "\n",
      "X has feature names, but DecisionTreeClassifier was fitted without feature names\n",
      "\n",
      "d:\\AppRelated\\Anaconda\\envs\\mi\\lib\\site-packages\\sklearn\\base.py:457: UserWarning:\n",
      "\n",
      "X has feature names, but DecisionTreeClassifier was fitted without feature names\n",
      "\n",
      "d:\\AppRelated\\Anaconda\\envs\\mi\\lib\\site-packages\\sklearn\\base.py:457: UserWarning:\n",
      "\n",
      "X has feature names, but DecisionTreeClassifier was fitted without feature names\n",
      "\n",
      "d:\\AppRelated\\Anaconda\\envs\\mi\\lib\\site-packages\\sklearn\\base.py:457: UserWarning:\n",
      "\n",
      "X has feature names, but DecisionTreeClassifier was fitted without feature names\n",
      "\n",
      "d:\\AppRelated\\Anaconda\\envs\\mi\\lib\\site-packages\\sklearn\\base.py:457: UserWarning:\n",
      "\n",
      "X has feature names, but DecisionTreeClassifier was fitted without feature names\n",
      "\n",
      "d:\\AppRelated\\Anaconda\\envs\\mi\\lib\\site-packages\\sklearn\\base.py:457: UserWarning:\n",
      "\n",
      "X has feature names, but DecisionTreeClassifier was fitted without feature names\n",
      "\n",
      "d:\\AppRelated\\Anaconda\\envs\\mi\\lib\\site-packages\\sklearn\\base.py:457: UserWarning:\n",
      "\n",
      "X has feature names, but DecisionTreeClassifier was fitted without feature names\n",
      "\n",
      "d:\\AppRelated\\Anaconda\\envs\\mi\\lib\\site-packages\\sklearn\\base.py:457: UserWarning:\n",
      "\n",
      "X has feature names, but DecisionTreeClassifier was fitted without feature names\n",
      "\n",
      "d:\\AppRelated\\Anaconda\\envs\\mi\\lib\\site-packages\\sklearn\\base.py:457: UserWarning:\n",
      "\n",
      "X has feature names, but DecisionTreeClassifier was fitted without feature names\n",
      "\n",
      "d:\\AppRelated\\Anaconda\\envs\\mi\\lib\\site-packages\\sklearn\\base.py:457: UserWarning:\n",
      "\n",
      "X has feature names, but DecisionTreeClassifier was fitted without feature names\n",
      "\n",
      "d:\\AppRelated\\Anaconda\\envs\\mi\\lib\\site-packages\\sklearn\\base.py:457: UserWarning:\n",
      "\n",
      "X has feature names, but DecisionTreeClassifier was fitted without feature names\n",
      "\n",
      "d:\\AppRelated\\Anaconda\\envs\\mi\\lib\\site-packages\\sklearn\\base.py:457: UserWarning:\n",
      "\n",
      "X has feature names, but DecisionTreeClassifier was fitted without feature names\n",
      "\n",
      "d:\\AppRelated\\Anaconda\\envs\\mi\\lib\\site-packages\\sklearn\\base.py:457: UserWarning:\n",
      "\n",
      "X has feature names, but DecisionTreeClassifier was fitted without feature names\n",
      "\n",
      "d:\\AppRelated\\Anaconda\\envs\\mi\\lib\\site-packages\\sklearn\\base.py:457: UserWarning:\n",
      "\n",
      "X has feature names, but DecisionTreeClassifier was fitted without feature names\n",
      "\n",
      "d:\\AppRelated\\Anaconda\\envs\\mi\\lib\\site-packages\\sklearn\\base.py:457: UserWarning:\n",
      "\n",
      "X has feature names, but DecisionTreeClassifier was fitted without feature names\n",
      "\n",
      "d:\\AppRelated\\Anaconda\\envs\\mi\\lib\\site-packages\\sklearn\\base.py:457: UserWarning:\n",
      "\n",
      "X has feature names, but DecisionTreeClassifier was fitted without feature names\n",
      "\n",
      "d:\\AppRelated\\Anaconda\\envs\\mi\\lib\\site-packages\\sklearn\\base.py:457: UserWarning:\n",
      "\n",
      "X has feature names, but DecisionTreeClassifier was fitted without feature names\n",
      "\n",
      "d:\\AppRelated\\Anaconda\\envs\\mi\\lib\\site-packages\\sklearn\\base.py:457: UserWarning:\n",
      "\n",
      "X has feature names, but DecisionTreeClassifier was fitted without feature names\n",
      "\n",
      "d:\\AppRelated\\Anaconda\\envs\\mi\\lib\\site-packages\\sklearn\\base.py:457: UserWarning:\n",
      "\n",
      "X has feature names, but DecisionTreeClassifier was fitted without feature names\n",
      "\n",
      "d:\\AppRelated\\Anaconda\\envs\\mi\\lib\\site-packages\\sklearn\\base.py:457: UserWarning:\n",
      "\n",
      "X has feature names, but DecisionTreeClassifier was fitted without feature names\n",
      "\n",
      "d:\\AppRelated\\Anaconda\\envs\\mi\\lib\\site-packages\\sklearn\\base.py:457: UserWarning:\n",
      "\n",
      "X has feature names, but DecisionTreeClassifier was fitted without feature names\n",
      "\n",
      "d:\\AppRelated\\Anaconda\\envs\\mi\\lib\\site-packages\\sklearn\\base.py:457: UserWarning:\n",
      "\n",
      "X has feature names, but DecisionTreeClassifier was fitted without feature names\n",
      "\n",
      "d:\\AppRelated\\Anaconda\\envs\\mi\\lib\\site-packages\\sklearn\\base.py:457: UserWarning:\n",
      "\n",
      "X has feature names, but DecisionTreeClassifier was fitted without feature names\n",
      "\n",
      "d:\\AppRelated\\Anaconda\\envs\\mi\\lib\\site-packages\\sklearn\\base.py:457: UserWarning:\n",
      "\n",
      "X has feature names, but DecisionTreeClassifier was fitted without feature names\n",
      "\n",
      "d:\\AppRelated\\Anaconda\\envs\\mi\\lib\\site-packages\\sklearn\\base.py:457: UserWarning:\n",
      "\n",
      "X has feature names, but DecisionTreeClassifier was fitted without feature names\n",
      "\n",
      "d:\\AppRelated\\Anaconda\\envs\\mi\\lib\\site-packages\\sklearn\\base.py:457: UserWarning:\n",
      "\n",
      "X has feature names, but DecisionTreeClassifier was fitted without feature names\n",
      "\n",
      "d:\\AppRelated\\Anaconda\\envs\\mi\\lib\\site-packages\\sklearn\\base.py:457: UserWarning:\n",
      "\n",
      "X has feature names, but DecisionTreeClassifier was fitted without feature names\n",
      "\n",
      "d:\\AppRelated\\Anaconda\\envs\\mi\\lib\\site-packages\\sklearn\\base.py:457: UserWarning:\n",
      "\n",
      "X has feature names, but DecisionTreeClassifier was fitted without feature names\n",
      "\n",
      "d:\\AppRelated\\Anaconda\\envs\\mi\\lib\\site-packages\\sklearn\\base.py:457: UserWarning:\n",
      "\n",
      "X has feature names, but DecisionTreeClassifier was fitted without feature names\n",
      "\n",
      "d:\\AppRelated\\Anaconda\\envs\\mi\\lib\\site-packages\\sklearn\\base.py:457: UserWarning:\n",
      "\n",
      "X has feature names, but DecisionTreeClassifier was fitted without feature names\n",
      "\n",
      "d:\\AppRelated\\Anaconda\\envs\\mi\\lib\\site-packages\\sklearn\\base.py:457: UserWarning:\n",
      "\n",
      "X has feature names, but DecisionTreeClassifier was fitted without feature names\n",
      "\n",
      "d:\\AppRelated\\Anaconda\\envs\\mi\\lib\\site-packages\\sklearn\\base.py:457: UserWarning:\n",
      "\n",
      "X has feature names, but DecisionTreeClassifier was fitted without feature names\n",
      "\n",
      "d:\\AppRelated\\Anaconda\\envs\\mi\\lib\\site-packages\\sklearn\\base.py:457: UserWarning:\n",
      "\n",
      "X has feature names, but DecisionTreeClassifier was fitted without feature names\n",
      "\n",
      "d:\\AppRelated\\Anaconda\\envs\\mi\\lib\\site-packages\\sklearn\\base.py:457: UserWarning:\n",
      "\n",
      "X has feature names, but DecisionTreeClassifier was fitted without feature names\n",
      "\n",
      "d:\\AppRelated\\Anaconda\\envs\\mi\\lib\\site-packages\\sklearn\\base.py:457: UserWarning:\n",
      "\n",
      "X has feature names, but DecisionTreeClassifier was fitted without feature names\n",
      "\n",
      "d:\\AppRelated\\Anaconda\\envs\\mi\\lib\\site-packages\\sklearn\\base.py:457: UserWarning:\n",
      "\n",
      "X has feature names, but DecisionTreeClassifier was fitted without feature names\n",
      "\n",
      "d:\\AppRelated\\Anaconda\\envs\\mi\\lib\\site-packages\\sklearn\\base.py:457: UserWarning:\n",
      "\n",
      "X has feature names, but DecisionTreeClassifier was fitted without feature names\n",
      "\n",
      "d:\\AppRelated\\Anaconda\\envs\\mi\\lib\\site-packages\\sklearn\\base.py:457: UserWarning:\n",
      "\n",
      "X has feature names, but DecisionTreeClassifier was fitted without feature names\n",
      "\n",
      "d:\\AppRelated\\Anaconda\\envs\\mi\\lib\\site-packages\\sklearn\\base.py:457: UserWarning:\n",
      "\n",
      "X has feature names, but DecisionTreeClassifier was fitted without feature names\n",
      "\n",
      "d:\\AppRelated\\Anaconda\\envs\\mi\\lib\\site-packages\\sklearn\\base.py:457: UserWarning:\n",
      "\n",
      "X has feature names, but DecisionTreeClassifier was fitted without feature names\n",
      "\n",
      "d:\\AppRelated\\Anaconda\\envs\\mi\\lib\\site-packages\\sklearn\\base.py:457: UserWarning:\n",
      "\n",
      "X has feature names, but DecisionTreeClassifier was fitted without feature names\n",
      "\n",
      "d:\\AppRelated\\Anaconda\\envs\\mi\\lib\\site-packages\\sklearn\\base.py:457: UserWarning:\n",
      "\n",
      "X has feature names, but DecisionTreeClassifier was fitted without feature names\n",
      "\n",
      "d:\\AppRelated\\Anaconda\\envs\\mi\\lib\\site-packages\\sklearn\\base.py:457: UserWarning:\n",
      "\n",
      "X has feature names, but DecisionTreeClassifier was fitted without feature names\n",
      "\n",
      "d:\\AppRelated\\Anaconda\\envs\\mi\\lib\\site-packages\\sklearn\\base.py:457: UserWarning:\n",
      "\n",
      "X has feature names, but DecisionTreeClassifier was fitted without feature names\n",
      "\n",
      "d:\\AppRelated\\Anaconda\\envs\\mi\\lib\\site-packages\\sklearn\\base.py:457: UserWarning:\n",
      "\n",
      "X has feature names, but DecisionTreeClassifier was fitted without feature names\n",
      "\n",
      "d:\\AppRelated\\Anaconda\\envs\\mi\\lib\\site-packages\\sklearn\\base.py:457: UserWarning:\n",
      "\n",
      "X has feature names, but DecisionTreeClassifier was fitted without feature names\n",
      "\n",
      "d:\\AppRelated\\Anaconda\\envs\\mi\\lib\\site-packages\\sklearn\\base.py:457: UserWarning:\n",
      "\n",
      "X has feature names, but DecisionTreeClassifier was fitted without feature names\n",
      "\n",
      "d:\\AppRelated\\Anaconda\\envs\\mi\\lib\\site-packages\\sklearn\\base.py:457: UserWarning:\n",
      "\n",
      "X has feature names, but DecisionTreeClassifier was fitted without feature names\n",
      "\n",
      "d:\\AppRelated\\Anaconda\\envs\\mi\\lib\\site-packages\\sklearn\\base.py:457: UserWarning:\n",
      "\n",
      "X has feature names, but DecisionTreeClassifier was fitted without feature names\n",
      "\n",
      "d:\\AppRelated\\Anaconda\\envs\\mi\\lib\\site-packages\\sklearn\\base.py:457: UserWarning:\n",
      "\n",
      "X has feature names, but DecisionTreeClassifier was fitted without feature names\n",
      "\n",
      "d:\\AppRelated\\Anaconda\\envs\\mi\\lib\\site-packages\\sklearn\\base.py:457: UserWarning:\n",
      "\n",
      "X has feature names, but DecisionTreeClassifier was fitted without feature names\n",
      "\n",
      "d:\\AppRelated\\Anaconda\\envs\\mi\\lib\\site-packages\\sklearn\\base.py:457: UserWarning:\n",
      "\n",
      "X has feature names, but DecisionTreeClassifier was fitted without feature names\n",
      "\n",
      "d:\\AppRelated\\Anaconda\\envs\\mi\\lib\\site-packages\\sklearn\\base.py:457: UserWarning:\n",
      "\n",
      "X has feature names, but DecisionTreeClassifier was fitted without feature names\n",
      "\n",
      "d:\\AppRelated\\Anaconda\\envs\\mi\\lib\\site-packages\\sklearn\\base.py:457: UserWarning:\n",
      "\n",
      "X has feature names, but DecisionTreeClassifier was fitted without feature names\n",
      "\n",
      "d:\\AppRelated\\Anaconda\\envs\\mi\\lib\\site-packages\\sklearn\\base.py:457: UserWarning:\n",
      "\n",
      "X has feature names, but DecisionTreeClassifier was fitted without feature names\n",
      "\n",
      "d:\\AppRelated\\Anaconda\\envs\\mi\\lib\\site-packages\\sklearn\\base.py:457: UserWarning:\n",
      "\n",
      "X has feature names, but DecisionTreeClassifier was fitted without feature names\n",
      "\n",
      "d:\\AppRelated\\Anaconda\\envs\\mi\\lib\\site-packages\\sklearn\\base.py:457: UserWarning:\n",
      "\n",
      "X has feature names, but DecisionTreeClassifier was fitted without feature names\n",
      "\n",
      "d:\\AppRelated\\Anaconda\\envs\\mi\\lib\\site-packages\\sklearn\\base.py:457: UserWarning:\n",
      "\n",
      "X has feature names, but DecisionTreeClassifier was fitted without feature names\n",
      "\n",
      "d:\\AppRelated\\Anaconda\\envs\\mi\\lib\\site-packages\\sklearn\\base.py:457: UserWarning:\n",
      "\n",
      "X has feature names, but DecisionTreeClassifier was fitted without feature names\n",
      "\n",
      "d:\\AppRelated\\Anaconda\\envs\\mi\\lib\\site-packages\\sklearn\\base.py:457: UserWarning:\n",
      "\n",
      "X has feature names, but DecisionTreeClassifier was fitted without feature names\n",
      "\n",
      "d:\\AppRelated\\Anaconda\\envs\\mi\\lib\\site-packages\\sklearn\\base.py:457: UserWarning:\n",
      "\n",
      "X has feature names, but DecisionTreeClassifier was fitted without feature names\n",
      "\n",
      "d:\\AppRelated\\Anaconda\\envs\\mi\\lib\\site-packages\\sklearn\\base.py:457: UserWarning:\n",
      "\n",
      "X has feature names, but DecisionTreeClassifier was fitted without feature names\n",
      "\n",
      "d:\\AppRelated\\Anaconda\\envs\\mi\\lib\\site-packages\\sklearn\\base.py:457: UserWarning:\n",
      "\n",
      "X has feature names, but DecisionTreeClassifier was fitted without feature names\n",
      "\n",
      "d:\\AppRelated\\Anaconda\\envs\\mi\\lib\\site-packages\\sklearn\\base.py:457: UserWarning:\n",
      "\n",
      "X has feature names, but DecisionTreeClassifier was fitted without feature names\n",
      "\n",
      "d:\\AppRelated\\Anaconda\\envs\\mi\\lib\\site-packages\\sklearn\\base.py:457: UserWarning:\n",
      "\n",
      "X has feature names, but DecisionTreeClassifier was fitted without feature names\n",
      "\n",
      "d:\\AppRelated\\Anaconda\\envs\\mi\\lib\\site-packages\\sklearn\\base.py:457: UserWarning:\n",
      "\n",
      "X has feature names, but DecisionTreeClassifier was fitted without feature names\n",
      "\n",
      "d:\\AppRelated\\Anaconda\\envs\\mi\\lib\\site-packages\\sklearn\\base.py:457: UserWarning:\n",
      "\n",
      "X has feature names, but DecisionTreeClassifier was fitted without feature names\n",
      "\n",
      "d:\\AppRelated\\Anaconda\\envs\\mi\\lib\\site-packages\\sklearn\\base.py:457: UserWarning:\n",
      "\n",
      "X has feature names, but DecisionTreeClassifier was fitted without feature names\n",
      "\n",
      "d:\\AppRelated\\Anaconda\\envs\\mi\\lib\\site-packages\\sklearn\\base.py:457: UserWarning:\n",
      "\n",
      "X has feature names, but DecisionTreeClassifier was fitted without feature names\n",
      "\n",
      "d:\\AppRelated\\Anaconda\\envs\\mi\\lib\\site-packages\\sklearn\\base.py:457: UserWarning:\n",
      "\n",
      "X has feature names, but DecisionTreeClassifier was fitted without feature names\n",
      "\n",
      "d:\\AppRelated\\Anaconda\\envs\\mi\\lib\\site-packages\\sklearn\\base.py:457: UserWarning:\n",
      "\n",
      "X has feature names, but DecisionTreeClassifier was fitted without feature names\n",
      "\n",
      "d:\\AppRelated\\Anaconda\\envs\\mi\\lib\\site-packages\\sklearn\\base.py:457: UserWarning:\n",
      "\n",
      "X has feature names, but DecisionTreeClassifier was fitted without feature names\n",
      "\n",
      "d:\\AppRelated\\Anaconda\\envs\\mi\\lib\\site-packages\\sklearn\\base.py:457: UserWarning:\n",
      "\n",
      "X has feature names, but DecisionTreeClassifier was fitted without feature names\n",
      "\n",
      "d:\\AppRelated\\Anaconda\\envs\\mi\\lib\\site-packages\\sklearn\\base.py:457: UserWarning:\n",
      "\n",
      "X has feature names, but DecisionTreeClassifier was fitted without feature names\n",
      "\n",
      "d:\\AppRelated\\Anaconda\\envs\\mi\\lib\\site-packages\\sklearn\\base.py:457: UserWarning:\n",
      "\n",
      "X has feature names, but DecisionTreeClassifier was fitted without feature names\n",
      "\n",
      "d:\\AppRelated\\Anaconda\\envs\\mi\\lib\\site-packages\\sklearn\\base.py:457: UserWarning:\n",
      "\n",
      "X has feature names, but DecisionTreeClassifier was fitted without feature names\n",
      "\n",
      "d:\\AppRelated\\Anaconda\\envs\\mi\\lib\\site-packages\\sklearn\\base.py:457: UserWarning:\n",
      "\n",
      "X has feature names, but DecisionTreeClassifier was fitted without feature names\n",
      "\n",
      "d:\\AppRelated\\Anaconda\\envs\\mi\\lib\\site-packages\\sklearn\\base.py:457: UserWarning:\n",
      "\n",
      "X has feature names, but DecisionTreeClassifier was fitted without feature names\n",
      "\n",
      "d:\\AppRelated\\Anaconda\\envs\\mi\\lib\\site-packages\\sklearn\\base.py:457: UserWarning:\n",
      "\n",
      "X has feature names, but DecisionTreeClassifier was fitted without feature names\n",
      "\n",
      "d:\\AppRelated\\Anaconda\\envs\\mi\\lib\\site-packages\\sklearn\\base.py:457: UserWarning:\n",
      "\n",
      "X has feature names, but DecisionTreeClassifier was fitted without feature names\n",
      "\n",
      "d:\\AppRelated\\Anaconda\\envs\\mi\\lib\\site-packages\\sklearn\\base.py:457: UserWarning:\n",
      "\n",
      "X has feature names, but DecisionTreeClassifier was fitted without feature names\n",
      "\n",
      "d:\\AppRelated\\Anaconda\\envs\\mi\\lib\\site-packages\\sklearn\\base.py:457: UserWarning:\n",
      "\n",
      "X has feature names, but DecisionTreeClassifier was fitted without feature names\n",
      "\n",
      "d:\\AppRelated\\Anaconda\\envs\\mi\\lib\\site-packages\\sklearn\\base.py:457: UserWarning:\n",
      "\n",
      "X has feature names, but DecisionTreeClassifier was fitted without feature names\n",
      "\n",
      "d:\\AppRelated\\Anaconda\\envs\\mi\\lib\\site-packages\\sklearn\\base.py:457: UserWarning:\n",
      "\n",
      "X has feature names, but DecisionTreeClassifier was fitted without feature names\n",
      "\n",
      "d:\\AppRelated\\Anaconda\\envs\\mi\\lib\\site-packages\\sklearn\\base.py:457: UserWarning:\n",
      "\n",
      "X has feature names, but DecisionTreeClassifier was fitted without feature names\n",
      "\n",
      "d:\\AppRelated\\Anaconda\\envs\\mi\\lib\\site-packages\\sklearn\\base.py:457: UserWarning:\n",
      "\n",
      "X has feature names, but DecisionTreeClassifier was fitted without feature names\n",
      "\n",
      "d:\\AppRelated\\Anaconda\\envs\\mi\\lib\\site-packages\\sklearn\\base.py:457: UserWarning:\n",
      "\n",
      "X has feature names, but DecisionTreeClassifier was fitted without feature names\n",
      "\n",
      "d:\\AppRelated\\Anaconda\\envs\\mi\\lib\\site-packages\\sklearn\\base.py:457: UserWarning:\n",
      "\n",
      "X has feature names, but DecisionTreeClassifier was fitted without feature names\n",
      "\n",
      "d:\\AppRelated\\Anaconda\\envs\\mi\\lib\\site-packages\\sklearn\\base.py:457: UserWarning:\n",
      "\n",
      "X has feature names, but DecisionTreeClassifier was fitted without feature names\n",
      "\n",
      "d:\\AppRelated\\Anaconda\\envs\\mi\\lib\\site-packages\\sklearn\\base.py:457: UserWarning:\n",
      "\n",
      "X has feature names, but DecisionTreeClassifier was fitted without feature names\n",
      "\n",
      "d:\\AppRelated\\Anaconda\\envs\\mi\\lib\\site-packages\\sklearn\\base.py:457: UserWarning:\n",
      "\n",
      "X has feature names, but DecisionTreeClassifier was fitted without feature names\n",
      "\n",
      "d:\\AppRelated\\Anaconda\\envs\\mi\\lib\\site-packages\\sklearn\\base.py:457: UserWarning:\n",
      "\n",
      "X has feature names, but DecisionTreeClassifier was fitted without feature names\n",
      "\n",
      "d:\\AppRelated\\Anaconda\\envs\\mi\\lib\\site-packages\\sklearn\\base.py:457: UserWarning:\n",
      "\n",
      "X has feature names, but DecisionTreeClassifier was fitted without feature names\n",
      "\n",
      "d:\\AppRelated\\Anaconda\\envs\\mi\\lib\\site-packages\\sklearn\\base.py:457: UserWarning:\n",
      "\n",
      "X has feature names, but DecisionTreeClassifier was fitted without feature names\n",
      "\n",
      "d:\\AppRelated\\Anaconda\\envs\\mi\\lib\\site-packages\\sklearn\\base.py:457: UserWarning:\n",
      "\n",
      "X has feature names, but DecisionTreeClassifier was fitted without feature names\n",
      "\n",
      "d:\\AppRelated\\Anaconda\\envs\\mi\\lib\\site-packages\\sklearn\\base.py:457: UserWarning:\n",
      "\n",
      "X has feature names, but DecisionTreeClassifier was fitted without feature names\n",
      "\n",
      "d:\\AppRelated\\Anaconda\\envs\\mi\\lib\\site-packages\\sklearn\\base.py:457: UserWarning:\n",
      "\n",
      "X has feature names, but DecisionTreeClassifier was fitted without feature names\n",
      "\n",
      "d:\\AppRelated\\Anaconda\\envs\\mi\\lib\\site-packages\\sklearn\\base.py:457: UserWarning:\n",
      "\n",
      "X has feature names, but DecisionTreeClassifier was fitted without feature names\n",
      "\n",
      "d:\\AppRelated\\Anaconda\\envs\\mi\\lib\\site-packages\\sklearn\\base.py:457: UserWarning:\n",
      "\n",
      "X has feature names, but DecisionTreeClassifier was fitted without feature names\n",
      "\n",
      "d:\\AppRelated\\Anaconda\\envs\\mi\\lib\\site-packages\\sklearn\\base.py:457: UserWarning:\n",
      "\n",
      "X has feature names, but DecisionTreeClassifier was fitted without feature names\n",
      "\n",
      "d:\\AppRelated\\Anaconda\\envs\\mi\\lib\\site-packages\\sklearn\\base.py:457: UserWarning:\n",
      "\n",
      "X has feature names, but DecisionTreeClassifier was fitted without feature names\n",
      "\n",
      "d:\\AppRelated\\Anaconda\\envs\\mi\\lib\\site-packages\\sklearn\\base.py:457: UserWarning:\n",
      "\n",
      "X has feature names, but DecisionTreeClassifier was fitted without feature names\n",
      "\n",
      "d:\\AppRelated\\Anaconda\\envs\\mi\\lib\\site-packages\\sklearn\\base.py:457: UserWarning:\n",
      "\n",
      "X has feature names, but DecisionTreeClassifier was fitted without feature names\n",
      "\n",
      "d:\\AppRelated\\Anaconda\\envs\\mi\\lib\\site-packages\\sklearn\\base.py:457: UserWarning:\n",
      "\n",
      "X has feature names, but DecisionTreeClassifier was fitted without feature names\n",
      "\n",
      "d:\\AppRelated\\Anaconda\\envs\\mi\\lib\\site-packages\\sklearn\\base.py:457: UserWarning:\n",
      "\n",
      "X has feature names, but DecisionTreeClassifier was fitted without feature names\n",
      "\n",
      "d:\\AppRelated\\Anaconda\\envs\\mi\\lib\\site-packages\\sklearn\\base.py:457: UserWarning:\n",
      "\n",
      "X has feature names, but DecisionTreeClassifier was fitted without feature names\n",
      "\n",
      "d:\\AppRelated\\Anaconda\\envs\\mi\\lib\\site-packages\\sklearn\\base.py:457: UserWarning:\n",
      "\n",
      "X has feature names, but DecisionTreeClassifier was fitted without feature names\n",
      "\n",
      "d:\\AppRelated\\Anaconda\\envs\\mi\\lib\\site-packages\\sklearn\\base.py:457: UserWarning:\n",
      "\n",
      "X has feature names, but DecisionTreeClassifier was fitted without feature names\n",
      "\n",
      "d:\\AppRelated\\Anaconda\\envs\\mi\\lib\\site-packages\\sklearn\\base.py:457: UserWarning:\n",
      "\n",
      "X has feature names, but DecisionTreeClassifier was fitted without feature names\n",
      "\n",
      "d:\\AppRelated\\Anaconda\\envs\\mi\\lib\\site-packages\\sklearn\\base.py:457: UserWarning:\n",
      "\n",
      "X has feature names, but DecisionTreeClassifier was fitted without feature names\n",
      "\n",
      "d:\\AppRelated\\Anaconda\\envs\\mi\\lib\\site-packages\\sklearn\\base.py:457: UserWarning:\n",
      "\n",
      "X has feature names, but DecisionTreeClassifier was fitted without feature names\n",
      "\n",
      "d:\\AppRelated\\Anaconda\\envs\\mi\\lib\\site-packages\\sklearn\\base.py:457: UserWarning:\n",
      "\n",
      "X has feature names, but DecisionTreeClassifier was fitted without feature names\n",
      "\n",
      "d:\\AppRelated\\Anaconda\\envs\\mi\\lib\\site-packages\\sklearn\\base.py:457: UserWarning:\n",
      "\n",
      "X has feature names, but DecisionTreeClassifier was fitted without feature names\n",
      "\n",
      "d:\\AppRelated\\Anaconda\\envs\\mi\\lib\\site-packages\\sklearn\\base.py:457: UserWarning:\n",
      "\n",
      "X has feature names, but DecisionTreeClassifier was fitted without feature names\n",
      "\n",
      "d:\\AppRelated\\Anaconda\\envs\\mi\\lib\\site-packages\\sklearn\\base.py:457: UserWarning:\n",
      "\n",
      "X has feature names, but DecisionTreeClassifier was fitted without feature names\n",
      "\n",
      "d:\\AppRelated\\Anaconda\\envs\\mi\\lib\\site-packages\\sklearn\\base.py:457: UserWarning:\n",
      "\n",
      "X has feature names, but DecisionTreeClassifier was fitted without feature names\n",
      "\n",
      "d:\\AppRelated\\Anaconda\\envs\\mi\\lib\\site-packages\\sklearn\\base.py:457: UserWarning:\n",
      "\n",
      "X has feature names, but DecisionTreeClassifier was fitted without feature names\n",
      "\n",
      "d:\\AppRelated\\Anaconda\\envs\\mi\\lib\\site-packages\\sklearn\\base.py:457: UserWarning:\n",
      "\n",
      "X has feature names, but DecisionTreeClassifier was fitted without feature names\n",
      "\n",
      "d:\\AppRelated\\Anaconda\\envs\\mi\\lib\\site-packages\\sklearn\\base.py:457: UserWarning:\n",
      "\n",
      "X has feature names, but DecisionTreeClassifier was fitted without feature names\n",
      "\n",
      "d:\\AppRelated\\Anaconda\\envs\\mi\\lib\\site-packages\\sklearn\\base.py:457: UserWarning:\n",
      "\n",
      "X has feature names, but DecisionTreeClassifier was fitted without feature names\n",
      "\n",
      "d:\\AppRelated\\Anaconda\\envs\\mi\\lib\\site-packages\\sklearn\\base.py:457: UserWarning:\n",
      "\n",
      "X has feature names, but DecisionTreeClassifier was fitted without feature names\n",
      "\n",
      "d:\\AppRelated\\Anaconda\\envs\\mi\\lib\\site-packages\\sklearn\\base.py:457: UserWarning:\n",
      "\n",
      "X has feature names, but DecisionTreeClassifier was fitted without feature names\n",
      "\n",
      "d:\\AppRelated\\Anaconda\\envs\\mi\\lib\\site-packages\\sklearn\\base.py:457: UserWarning:\n",
      "\n",
      "X has feature names, but DecisionTreeClassifier was fitted without feature names\n",
      "\n",
      "d:\\AppRelated\\Anaconda\\envs\\mi\\lib\\site-packages\\sklearn\\base.py:457: UserWarning:\n",
      "\n",
      "X has feature names, but DecisionTreeClassifier was fitted without feature names\n",
      "\n",
      "d:\\AppRelated\\Anaconda\\envs\\mi\\lib\\site-packages\\sklearn\\base.py:457: UserWarning:\n",
      "\n",
      "X has feature names, but DecisionTreeClassifier was fitted without feature names\n",
      "\n",
      "d:\\AppRelated\\Anaconda\\envs\\mi\\lib\\site-packages\\sklearn\\base.py:457: UserWarning:\n",
      "\n",
      "X has feature names, but DecisionTreeClassifier was fitted without feature names\n",
      "\n",
      "d:\\AppRelated\\Anaconda\\envs\\mi\\lib\\site-packages\\sklearn\\base.py:457: UserWarning:\n",
      "\n",
      "X has feature names, but DecisionTreeClassifier was fitted without feature names\n",
      "\n",
      "d:\\AppRelated\\Anaconda\\envs\\mi\\lib\\site-packages\\sklearn\\base.py:457: UserWarning:\n",
      "\n",
      "X has feature names, but DecisionTreeClassifier was fitted without feature names\n",
      "\n",
      "d:\\AppRelated\\Anaconda\\envs\\mi\\lib\\site-packages\\sklearn\\base.py:457: UserWarning:\n",
      "\n",
      "X has feature names, but DecisionTreeClassifier was fitted without feature names\n",
      "\n",
      "d:\\AppRelated\\Anaconda\\envs\\mi\\lib\\site-packages\\sklearn\\base.py:457: UserWarning:\n",
      "\n",
      "X has feature names, but DecisionTreeClassifier was fitted without feature names\n",
      "\n",
      "d:\\AppRelated\\Anaconda\\envs\\mi\\lib\\site-packages\\sklearn\\base.py:457: UserWarning:\n",
      "\n",
      "X has feature names, but DecisionTreeClassifier was fitted without feature names\n",
      "\n",
      "d:\\AppRelated\\Anaconda\\envs\\mi\\lib\\site-packages\\sklearn\\base.py:457: UserWarning:\n",
      "\n",
      "X has feature names, but DecisionTreeClassifier was fitted without feature names\n",
      "\n",
      "d:\\AppRelated\\Anaconda\\envs\\mi\\lib\\site-packages\\sklearn\\base.py:457: UserWarning:\n",
      "\n",
      "X has feature names, but DecisionTreeClassifier was fitted without feature names\n",
      "\n",
      "d:\\AppRelated\\Anaconda\\envs\\mi\\lib\\site-packages\\sklearn\\base.py:457: UserWarning:\n",
      "\n",
      "X has feature names, but DecisionTreeClassifier was fitted without feature names\n",
      "\n",
      "d:\\AppRelated\\Anaconda\\envs\\mi\\lib\\site-packages\\sklearn\\base.py:457: UserWarning:\n",
      "\n",
      "X has feature names, but DecisionTreeClassifier was fitted without feature names\n",
      "\n",
      "d:\\AppRelated\\Anaconda\\envs\\mi\\lib\\site-packages\\sklearn\\base.py:457: UserWarning:\n",
      "\n",
      "X has feature names, but DecisionTreeClassifier was fitted without feature names\n",
      "\n",
      "d:\\AppRelated\\Anaconda\\envs\\mi\\lib\\site-packages\\sklearn\\base.py:457: UserWarning:\n",
      "\n",
      "X has feature names, but DecisionTreeClassifier was fitted without feature names\n",
      "\n",
      "d:\\AppRelated\\Anaconda\\envs\\mi\\lib\\site-packages\\sklearn\\base.py:457: UserWarning:\n",
      "\n",
      "X has feature names, but DecisionTreeClassifier was fitted without feature names\n",
      "\n",
      "d:\\AppRelated\\Anaconda\\envs\\mi\\lib\\site-packages\\sklearn\\base.py:457: UserWarning:\n",
      "\n",
      "X has feature names, but DecisionTreeClassifier was fitted without feature names\n",
      "\n",
      "d:\\AppRelated\\Anaconda\\envs\\mi\\lib\\site-packages\\sklearn\\base.py:457: UserWarning:\n",
      "\n",
      "X has feature names, but DecisionTreeClassifier was fitted without feature names\n",
      "\n",
      "d:\\AppRelated\\Anaconda\\envs\\mi\\lib\\site-packages\\sklearn\\base.py:457: UserWarning:\n",
      "\n",
      "X has feature names, but DecisionTreeClassifier was fitted without feature names\n",
      "\n",
      "d:\\AppRelated\\Anaconda\\envs\\mi\\lib\\site-packages\\sklearn\\base.py:457: UserWarning:\n",
      "\n",
      "X has feature names, but DecisionTreeClassifier was fitted without feature names\n",
      "\n",
      "d:\\AppRelated\\Anaconda\\envs\\mi\\lib\\site-packages\\sklearn\\base.py:457: UserWarning:\n",
      "\n",
      "X has feature names, but DecisionTreeClassifier was fitted without feature names\n",
      "\n",
      "d:\\AppRelated\\Anaconda\\envs\\mi\\lib\\site-packages\\sklearn\\base.py:457: UserWarning:\n",
      "\n",
      "X has feature names, but DecisionTreeClassifier was fitted without feature names\n",
      "\n",
      "d:\\AppRelated\\Anaconda\\envs\\mi\\lib\\site-packages\\sklearn\\base.py:457: UserWarning:\n",
      "\n",
      "X has feature names, but DecisionTreeClassifier was fitted without feature names\n",
      "\n",
      "d:\\AppRelated\\Anaconda\\envs\\mi\\lib\\site-packages\\sklearn\\base.py:457: UserWarning:\n",
      "\n",
      "X has feature names, but DecisionTreeClassifier was fitted without feature names\n",
      "\n",
      "d:\\AppRelated\\Anaconda\\envs\\mi\\lib\\site-packages\\sklearn\\base.py:457: UserWarning:\n",
      "\n",
      "X has feature names, but DecisionTreeClassifier was fitted without feature names\n",
      "\n",
      "d:\\AppRelated\\Anaconda\\envs\\mi\\lib\\site-packages\\sklearn\\base.py:457: UserWarning:\n",
      "\n",
      "X has feature names, but DecisionTreeClassifier was fitted without feature names\n",
      "\n",
      "d:\\AppRelated\\Anaconda\\envs\\mi\\lib\\site-packages\\sklearn\\base.py:457: UserWarning:\n",
      "\n",
      "X has feature names, but DecisionTreeClassifier was fitted without feature names\n",
      "\n",
      "d:\\AppRelated\\Anaconda\\envs\\mi\\lib\\site-packages\\sklearn\\base.py:457: UserWarning:\n",
      "\n",
      "X has feature names, but DecisionTreeClassifier was fitted without feature names\n",
      "\n",
      "d:\\AppRelated\\Anaconda\\envs\\mi\\lib\\site-packages\\sklearn\\base.py:457: UserWarning:\n",
      "\n",
      "X has feature names, but DecisionTreeClassifier was fitted without feature names\n",
      "\n",
      "d:\\AppRelated\\Anaconda\\envs\\mi\\lib\\site-packages\\sklearn\\base.py:457: UserWarning:\n",
      "\n",
      "X has feature names, but DecisionTreeClassifier was fitted without feature names\n",
      "\n",
      "d:\\AppRelated\\Anaconda\\envs\\mi\\lib\\site-packages\\sklearn\\base.py:457: UserWarning:\n",
      "\n",
      "X has feature names, but DecisionTreeClassifier was fitted without feature names\n",
      "\n",
      "d:\\AppRelated\\Anaconda\\envs\\mi\\lib\\site-packages\\sklearn\\base.py:457: UserWarning:\n",
      "\n",
      "X has feature names, but DecisionTreeClassifier was fitted without feature names\n",
      "\n",
      "d:\\AppRelated\\Anaconda\\envs\\mi\\lib\\site-packages\\sklearn\\base.py:457: UserWarning:\n",
      "\n",
      "X has feature names, but DecisionTreeClassifier was fitted without feature names\n",
      "\n",
      "d:\\AppRelated\\Anaconda\\envs\\mi\\lib\\site-packages\\sklearn\\base.py:457: UserWarning:\n",
      "\n",
      "X has feature names, but DecisionTreeClassifier was fitted without feature names\n",
      "\n",
      "d:\\AppRelated\\Anaconda\\envs\\mi\\lib\\site-packages\\sklearn\\base.py:457: UserWarning:\n",
      "\n",
      "X has feature names, but DecisionTreeClassifier was fitted without feature names\n",
      "\n",
      "d:\\AppRelated\\Anaconda\\envs\\mi\\lib\\site-packages\\sklearn\\base.py:457: UserWarning:\n",
      "\n",
      "X has feature names, but DecisionTreeClassifier was fitted without feature names\n",
      "\n",
      "d:\\AppRelated\\Anaconda\\envs\\mi\\lib\\site-packages\\sklearn\\base.py:457: UserWarning:\n",
      "\n",
      "X has feature names, but DecisionTreeClassifier was fitted without feature names\n",
      "\n",
      "d:\\AppRelated\\Anaconda\\envs\\mi\\lib\\site-packages\\sklearn\\base.py:457: UserWarning:\n",
      "\n",
      "X has feature names, but DecisionTreeClassifier was fitted without feature names\n",
      "\n",
      "d:\\AppRelated\\Anaconda\\envs\\mi\\lib\\site-packages\\sklearn\\base.py:457: UserWarning:\n",
      "\n",
      "X has feature names, but DecisionTreeClassifier was fitted without feature names\n",
      "\n",
      "d:\\AppRelated\\Anaconda\\envs\\mi\\lib\\site-packages\\sklearn\\base.py:457: UserWarning:\n",
      "\n",
      "X has feature names, but DecisionTreeClassifier was fitted without feature names\n",
      "\n",
      "d:\\AppRelated\\Anaconda\\envs\\mi\\lib\\site-packages\\sklearn\\base.py:457: UserWarning:\n",
      "\n",
      "X has feature names, but DecisionTreeClassifier was fitted without feature names\n",
      "\n",
      "d:\\AppRelated\\Anaconda\\envs\\mi\\lib\\site-packages\\sklearn\\base.py:457: UserWarning:\n",
      "\n",
      "X has feature names, but DecisionTreeClassifier was fitted without feature names\n",
      "\n",
      "d:\\AppRelated\\Anaconda\\envs\\mi\\lib\\site-packages\\sklearn\\base.py:457: UserWarning:\n",
      "\n",
      "X has feature names, but DecisionTreeClassifier was fitted without feature names\n",
      "\n",
      "d:\\AppRelated\\Anaconda\\envs\\mi\\lib\\site-packages\\sklearn\\base.py:457: UserWarning:\n",
      "\n",
      "X has feature names, but DecisionTreeClassifier was fitted without feature names\n",
      "\n",
      "d:\\AppRelated\\Anaconda\\envs\\mi\\lib\\site-packages\\sklearn\\base.py:457: UserWarning:\n",
      "\n",
      "X has feature names, but DecisionTreeClassifier was fitted without feature names\n",
      "\n",
      "d:\\AppRelated\\Anaconda\\envs\\mi\\lib\\site-packages\\sklearn\\base.py:457: UserWarning:\n",
      "\n",
      "X has feature names, but DecisionTreeClassifier was fitted without feature names\n",
      "\n",
      "d:\\AppRelated\\Anaconda\\envs\\mi\\lib\\site-packages\\sklearn\\base.py:457: UserWarning:\n",
      "\n",
      "X has feature names, but DecisionTreeClassifier was fitted without feature names\n",
      "\n",
      "d:\\AppRelated\\Anaconda\\envs\\mi\\lib\\site-packages\\sklearn\\base.py:457: UserWarning:\n",
      "\n",
      "X has feature names, but DecisionTreeClassifier was fitted without feature names\n",
      "\n",
      "d:\\AppRelated\\Anaconda\\envs\\mi\\lib\\site-packages\\sklearn\\base.py:457: UserWarning:\n",
      "\n",
      "X has feature names, but DecisionTreeClassifier was fitted without feature names\n",
      "\n",
      "d:\\AppRelated\\Anaconda\\envs\\mi\\lib\\site-packages\\sklearn\\base.py:457: UserWarning:\n",
      "\n",
      "X has feature names, but DecisionTreeClassifier was fitted without feature names\n",
      "\n",
      "d:\\AppRelated\\Anaconda\\envs\\mi\\lib\\site-packages\\sklearn\\base.py:457: UserWarning:\n",
      "\n",
      "X has feature names, but DecisionTreeClassifier was fitted without feature names\n",
      "\n",
      "d:\\AppRelated\\Anaconda\\envs\\mi\\lib\\site-packages\\sklearn\\base.py:457: UserWarning:\n",
      "\n",
      "X has feature names, but DecisionTreeClassifier was fitted without feature names\n",
      "\n",
      "d:\\AppRelated\\Anaconda\\envs\\mi\\lib\\site-packages\\sklearn\\base.py:457: UserWarning:\n",
      "\n",
      "X has feature names, but DecisionTreeClassifier was fitted without feature names\n",
      "\n",
      "d:\\AppRelated\\Anaconda\\envs\\mi\\lib\\site-packages\\sklearn\\base.py:457: UserWarning:\n",
      "\n",
      "X has feature names, but DecisionTreeClassifier was fitted without feature names\n",
      "\n",
      "d:\\AppRelated\\Anaconda\\envs\\mi\\lib\\site-packages\\sklearn\\base.py:457: UserWarning:\n",
      "\n",
      "X has feature names, but DecisionTreeClassifier was fitted without feature names\n",
      "\n",
      "d:\\AppRelated\\Anaconda\\envs\\mi\\lib\\site-packages\\sklearn\\base.py:457: UserWarning:\n",
      "\n",
      "X has feature names, but DecisionTreeClassifier was fitted without feature names\n",
      "\n",
      "d:\\AppRelated\\Anaconda\\envs\\mi\\lib\\site-packages\\sklearn\\base.py:457: UserWarning:\n",
      "\n",
      "X has feature names, but DecisionTreeClassifier was fitted without feature names\n",
      "\n",
      "d:\\AppRelated\\Anaconda\\envs\\mi\\lib\\site-packages\\sklearn\\base.py:457: UserWarning:\n",
      "\n",
      "X has feature names, but DecisionTreeClassifier was fitted without feature names\n",
      "\n",
      "d:\\AppRelated\\Anaconda\\envs\\mi\\lib\\site-packages\\sklearn\\base.py:457: UserWarning:\n",
      "\n",
      "X has feature names, but DecisionTreeClassifier was fitted without feature names\n",
      "\n",
      "d:\\AppRelated\\Anaconda\\envs\\mi\\lib\\site-packages\\sklearn\\base.py:457: UserWarning:\n",
      "\n",
      "X has feature names, but DecisionTreeClassifier was fitted without feature names\n",
      "\n",
      "d:\\AppRelated\\Anaconda\\envs\\mi\\lib\\site-packages\\sklearn\\base.py:457: UserWarning:\n",
      "\n",
      "X has feature names, but DecisionTreeClassifier was fitted without feature names\n",
      "\n",
      "d:\\AppRelated\\Anaconda\\envs\\mi\\lib\\site-packages\\sklearn\\base.py:457: UserWarning:\n",
      "\n",
      "X has feature names, but DecisionTreeClassifier was fitted without feature names\n",
      "\n",
      "d:\\AppRelated\\Anaconda\\envs\\mi\\lib\\site-packages\\sklearn\\base.py:457: UserWarning:\n",
      "\n",
      "X has feature names, but DecisionTreeClassifier was fitted without feature names\n",
      "\n",
      "d:\\AppRelated\\Anaconda\\envs\\mi\\lib\\site-packages\\sklearn\\base.py:457: UserWarning:\n",
      "\n",
      "X has feature names, but DecisionTreeClassifier was fitted without feature names\n",
      "\n",
      "d:\\AppRelated\\Anaconda\\envs\\mi\\lib\\site-packages\\sklearn\\base.py:457: UserWarning:\n",
      "\n",
      "X has feature names, but DecisionTreeClassifier was fitted without feature names\n",
      "\n",
      "d:\\AppRelated\\Anaconda\\envs\\mi\\lib\\site-packages\\sklearn\\base.py:457: UserWarning:\n",
      "\n",
      "X has feature names, but DecisionTreeClassifier was fitted without feature names\n",
      "\n",
      "d:\\AppRelated\\Anaconda\\envs\\mi\\lib\\site-packages\\sklearn\\base.py:457: UserWarning:\n",
      "\n",
      "X has feature names, but DecisionTreeClassifier was fitted without feature names\n",
      "\n",
      "d:\\AppRelated\\Anaconda\\envs\\mi\\lib\\site-packages\\sklearn\\base.py:457: UserWarning:\n",
      "\n",
      "X has feature names, but DecisionTreeClassifier was fitted without feature names\n",
      "\n",
      "d:\\AppRelated\\Anaconda\\envs\\mi\\lib\\site-packages\\sklearn\\base.py:457: UserWarning:\n",
      "\n",
      "X has feature names, but DecisionTreeClassifier was fitted without feature names\n",
      "\n",
      "d:\\AppRelated\\Anaconda\\envs\\mi\\lib\\site-packages\\sklearn\\base.py:457: UserWarning:\n",
      "\n",
      "X has feature names, but DecisionTreeClassifier was fitted without feature names\n",
      "\n",
      "d:\\AppRelated\\Anaconda\\envs\\mi\\lib\\site-packages\\sklearn\\base.py:457: UserWarning:\n",
      "\n",
      "X has feature names, but DecisionTreeClassifier was fitted without feature names\n",
      "\n",
      "d:\\AppRelated\\Anaconda\\envs\\mi\\lib\\site-packages\\sklearn\\base.py:457: UserWarning:\n",
      "\n",
      "X has feature names, but DecisionTreeClassifier was fitted without feature names\n",
      "\n",
      "d:\\AppRelated\\Anaconda\\envs\\mi\\lib\\site-packages\\sklearn\\base.py:457: UserWarning:\n",
      "\n",
      "X has feature names, but DecisionTreeClassifier was fitted without feature names\n",
      "\n",
      "d:\\AppRelated\\Anaconda\\envs\\mi\\lib\\site-packages\\sklearn\\base.py:457: UserWarning:\n",
      "\n",
      "X has feature names, but DecisionTreeClassifier was fitted without feature names\n",
      "\n",
      "d:\\AppRelated\\Anaconda\\envs\\mi\\lib\\site-packages\\sklearn\\base.py:457: UserWarning:\n",
      "\n",
      "X has feature names, but DecisionTreeClassifier was fitted without feature names\n",
      "\n",
      "d:\\AppRelated\\Anaconda\\envs\\mi\\lib\\site-packages\\sklearn\\base.py:457: UserWarning:\n",
      "\n",
      "X has feature names, but DecisionTreeClassifier was fitted without feature names\n",
      "\n",
      "d:\\AppRelated\\Anaconda\\envs\\mi\\lib\\site-packages\\sklearn\\base.py:457: UserWarning:\n",
      "\n",
      "X has feature names, but DecisionTreeClassifier was fitted without feature names\n",
      "\n",
      "d:\\AppRelated\\Anaconda\\envs\\mi\\lib\\site-packages\\sklearn\\base.py:457: UserWarning:\n",
      "\n",
      "X has feature names, but DecisionTreeClassifier was fitted without feature names\n",
      "\n",
      "d:\\AppRelated\\Anaconda\\envs\\mi\\lib\\site-packages\\sklearn\\base.py:457: UserWarning:\n",
      "\n",
      "X has feature names, but DecisionTreeClassifier was fitted without feature names\n",
      "\n",
      "d:\\AppRelated\\Anaconda\\envs\\mi\\lib\\site-packages\\sklearn\\base.py:457: UserWarning:\n",
      "\n",
      "X has feature names, but DecisionTreeClassifier was fitted without feature names\n",
      "\n",
      "d:\\AppRelated\\Anaconda\\envs\\mi\\lib\\site-packages\\sklearn\\base.py:457: UserWarning:\n",
      "\n",
      "X has feature names, but DecisionTreeClassifier was fitted without feature names\n",
      "\n",
      "d:\\AppRelated\\Anaconda\\envs\\mi\\lib\\site-packages\\sklearn\\base.py:457: UserWarning:\n",
      "\n",
      "X has feature names, but DecisionTreeClassifier was fitted without feature names\n",
      "\n",
      "d:\\AppRelated\\Anaconda\\envs\\mi\\lib\\site-packages\\sklearn\\base.py:457: UserWarning:\n",
      "\n",
      "X has feature names, but DecisionTreeClassifier was fitted without feature names\n",
      "\n",
      "d:\\AppRelated\\Anaconda\\envs\\mi\\lib\\site-packages\\sklearn\\base.py:457: UserWarning:\n",
      "\n",
      "X has feature names, but DecisionTreeClassifier was fitted without feature names\n",
      "\n",
      "d:\\AppRelated\\Anaconda\\envs\\mi\\lib\\site-packages\\sklearn\\base.py:457: UserWarning:\n",
      "\n",
      "X has feature names, but DecisionTreeClassifier was fitted without feature names\n",
      "\n",
      "d:\\AppRelated\\Anaconda\\envs\\mi\\lib\\site-packages\\sklearn\\base.py:457: UserWarning:\n",
      "\n",
      "X has feature names, but DecisionTreeClassifier was fitted without feature names\n",
      "\n",
      "d:\\AppRelated\\Anaconda\\envs\\mi\\lib\\site-packages\\sklearn\\base.py:457: UserWarning:\n",
      "\n",
      "X has feature names, but DecisionTreeClassifier was fitted without feature names\n",
      "\n",
      "d:\\AppRelated\\Anaconda\\envs\\mi\\lib\\site-packages\\sklearn\\base.py:457: UserWarning:\n",
      "\n",
      "X has feature names, but DecisionTreeClassifier was fitted without feature names\n",
      "\n",
      "d:\\AppRelated\\Anaconda\\envs\\mi\\lib\\site-packages\\sklearn\\base.py:457: UserWarning:\n",
      "\n",
      "X has feature names, but DecisionTreeClassifier was fitted without feature names\n",
      "\n",
      "d:\\AppRelated\\Anaconda\\envs\\mi\\lib\\site-packages\\sklearn\\base.py:457: UserWarning:\n",
      "\n",
      "X has feature names, but DecisionTreeClassifier was fitted without feature names\n",
      "\n",
      "d:\\AppRelated\\Anaconda\\envs\\mi\\lib\\site-packages\\sklearn\\base.py:457: UserWarning:\n",
      "\n",
      "X has feature names, but DecisionTreeClassifier was fitted without feature names\n",
      "\n",
      "d:\\AppRelated\\Anaconda\\envs\\mi\\lib\\site-packages\\sklearn\\base.py:457: UserWarning:\n",
      "\n",
      "X has feature names, but DecisionTreeClassifier was fitted without feature names\n",
      "\n",
      "d:\\AppRelated\\Anaconda\\envs\\mi\\lib\\site-packages\\sklearn\\base.py:457: UserWarning:\n",
      "\n",
      "X has feature names, but DecisionTreeClassifier was fitted without feature names\n",
      "\n",
      "d:\\AppRelated\\Anaconda\\envs\\mi\\lib\\site-packages\\sklearn\\base.py:457: UserWarning:\n",
      "\n",
      "X has feature names, but DecisionTreeClassifier was fitted without feature names\n",
      "\n",
      "d:\\AppRelated\\Anaconda\\envs\\mi\\lib\\site-packages\\sklearn\\base.py:457: UserWarning:\n",
      "\n",
      "X has feature names, but DecisionTreeClassifier was fitted without feature names\n",
      "\n",
      "d:\\AppRelated\\Anaconda\\envs\\mi\\lib\\site-packages\\sklearn\\base.py:457: UserWarning:\n",
      "\n",
      "X has feature names, but DecisionTreeClassifier was fitted without feature names\n",
      "\n",
      "d:\\AppRelated\\Anaconda\\envs\\mi\\lib\\site-packages\\sklearn\\base.py:457: UserWarning:\n",
      "\n",
      "X has feature names, but DecisionTreeClassifier was fitted without feature names\n",
      "\n",
      "d:\\AppRelated\\Anaconda\\envs\\mi\\lib\\site-packages\\sklearn\\base.py:457: UserWarning:\n",
      "\n",
      "X has feature names, but DecisionTreeClassifier was fitted without feature names\n",
      "\n",
      "d:\\AppRelated\\Anaconda\\envs\\mi\\lib\\site-packages\\sklearn\\base.py:457: UserWarning:\n",
      "\n",
      "X has feature names, but DecisionTreeClassifier was fitted without feature names\n",
      "\n",
      "d:\\AppRelated\\Anaconda\\envs\\mi\\lib\\site-packages\\sklearn\\base.py:457: UserWarning:\n",
      "\n",
      "X has feature names, but DecisionTreeClassifier was fitted without feature names\n",
      "\n",
      "d:\\AppRelated\\Anaconda\\envs\\mi\\lib\\site-packages\\sklearn\\base.py:457: UserWarning:\n",
      "\n",
      "X has feature names, but DecisionTreeClassifier was fitted without feature names\n",
      "\n",
      "d:\\AppRelated\\Anaconda\\envs\\mi\\lib\\site-packages\\sklearn\\base.py:457: UserWarning:\n",
      "\n",
      "X has feature names, but DecisionTreeClassifier was fitted without feature names\n",
      "\n",
      "d:\\AppRelated\\Anaconda\\envs\\mi\\lib\\site-packages\\sklearn\\base.py:457: UserWarning:\n",
      "\n",
      "X has feature names, but DecisionTreeClassifier was fitted without feature names\n",
      "\n",
      "d:\\AppRelated\\Anaconda\\envs\\mi\\lib\\site-packages\\sklearn\\base.py:457: UserWarning:\n",
      "\n",
      "X has feature names, but DecisionTreeClassifier was fitted without feature names\n",
      "\n",
      "d:\\AppRelated\\Anaconda\\envs\\mi\\lib\\site-packages\\sklearn\\base.py:457: UserWarning:\n",
      "\n",
      "X has feature names, but DecisionTreeClassifier was fitted without feature names\n",
      "\n",
      "d:\\AppRelated\\Anaconda\\envs\\mi\\lib\\site-packages\\sklearn\\base.py:457: UserWarning:\n",
      "\n",
      "X has feature names, but DecisionTreeClassifier was fitted without feature names\n",
      "\n",
      "d:\\AppRelated\\Anaconda\\envs\\mi\\lib\\site-packages\\sklearn\\base.py:457: UserWarning:\n",
      "\n",
      "X has feature names, but DecisionTreeClassifier was fitted without feature names\n",
      "\n",
      "d:\\AppRelated\\Anaconda\\envs\\mi\\lib\\site-packages\\sklearn\\base.py:457: UserWarning:\n",
      "\n",
      "X has feature names, but DecisionTreeClassifier was fitted without feature names\n",
      "\n",
      "d:\\AppRelated\\Anaconda\\envs\\mi\\lib\\site-packages\\sklearn\\base.py:457: UserWarning:\n",
      "\n",
      "X has feature names, but DecisionTreeClassifier was fitted without feature names\n",
      "\n",
      "d:\\AppRelated\\Anaconda\\envs\\mi\\lib\\site-packages\\sklearn\\base.py:457: UserWarning:\n",
      "\n",
      "X has feature names, but DecisionTreeClassifier was fitted without feature names\n",
      "\n",
      "d:\\AppRelated\\Anaconda\\envs\\mi\\lib\\site-packages\\sklearn\\base.py:457: UserWarning:\n",
      "\n",
      "X has feature names, but DecisionTreeClassifier was fitted without feature names\n",
      "\n",
      "d:\\AppRelated\\Anaconda\\envs\\mi\\lib\\site-packages\\sklearn\\base.py:457: UserWarning:\n",
      "\n",
      "X has feature names, but DecisionTreeClassifier was fitted without feature names\n",
      "\n",
      "d:\\AppRelated\\Anaconda\\envs\\mi\\lib\\site-packages\\sklearn\\base.py:457: UserWarning:\n",
      "\n",
      "X has feature names, but DecisionTreeClassifier was fitted without feature names\n",
      "\n",
      "d:\\AppRelated\\Anaconda\\envs\\mi\\lib\\site-packages\\sklearn\\base.py:457: UserWarning:\n",
      "\n",
      "X has feature names, but DecisionTreeClassifier was fitted without feature names\n",
      "\n",
      "d:\\AppRelated\\Anaconda\\envs\\mi\\lib\\site-packages\\sklearn\\base.py:457: UserWarning:\n",
      "\n",
      "X has feature names, but DecisionTreeClassifier was fitted without feature names\n",
      "\n",
      "d:\\AppRelated\\Anaconda\\envs\\mi\\lib\\site-packages\\sklearn\\base.py:457: UserWarning:\n",
      "\n",
      "X has feature names, but DecisionTreeClassifier was fitted without feature names\n",
      "\n",
      "d:\\AppRelated\\Anaconda\\envs\\mi\\lib\\site-packages\\sklearn\\base.py:457: UserWarning:\n",
      "\n",
      "X has feature names, but DecisionTreeClassifier was fitted without feature names\n",
      "\n",
      "d:\\AppRelated\\Anaconda\\envs\\mi\\lib\\site-packages\\sklearn\\base.py:457: UserWarning:\n",
      "\n",
      "X has feature names, but DecisionTreeClassifier was fitted without feature names\n",
      "\n",
      "d:\\AppRelated\\Anaconda\\envs\\mi\\lib\\site-packages\\sklearn\\base.py:457: UserWarning:\n",
      "\n",
      "X has feature names, but DecisionTreeClassifier was fitted without feature names\n",
      "\n",
      "d:\\AppRelated\\Anaconda\\envs\\mi\\lib\\site-packages\\sklearn\\base.py:457: UserWarning:\n",
      "\n",
      "X has feature names, but DecisionTreeClassifier was fitted without feature names\n",
      "\n",
      "d:\\AppRelated\\Anaconda\\envs\\mi\\lib\\site-packages\\sklearn\\base.py:457: UserWarning:\n",
      "\n",
      "X has feature names, but DecisionTreeClassifier was fitted without feature names\n",
      "\n",
      "d:\\AppRelated\\Anaconda\\envs\\mi\\lib\\site-packages\\sklearn\\base.py:457: UserWarning:\n",
      "\n",
      "X has feature names, but DecisionTreeClassifier was fitted without feature names\n",
      "\n",
      "d:\\AppRelated\\Anaconda\\envs\\mi\\lib\\site-packages\\sklearn\\base.py:457: UserWarning:\n",
      "\n",
      "X has feature names, but DecisionTreeClassifier was fitted without feature names\n",
      "\n",
      "d:\\AppRelated\\Anaconda\\envs\\mi\\lib\\site-packages\\sklearn\\base.py:457: UserWarning:\n",
      "\n",
      "X has feature names, but DecisionTreeClassifier was fitted without feature names\n",
      "\n",
      "d:\\AppRelated\\Anaconda\\envs\\mi\\lib\\site-packages\\sklearn\\base.py:457: UserWarning:\n",
      "\n",
      "X has feature names, but DecisionTreeClassifier was fitted without feature names\n",
      "\n",
      "d:\\AppRelated\\Anaconda\\envs\\mi\\lib\\site-packages\\sklearn\\base.py:457: UserWarning:\n",
      "\n",
      "X has feature names, but DecisionTreeClassifier was fitted without feature names\n",
      "\n",
      "d:\\AppRelated\\Anaconda\\envs\\mi\\lib\\site-packages\\sklearn\\base.py:457: UserWarning:\n",
      "\n",
      "X has feature names, but DecisionTreeClassifier was fitted without feature names\n",
      "\n",
      "d:\\AppRelated\\Anaconda\\envs\\mi\\lib\\site-packages\\sklearn\\base.py:457: UserWarning:\n",
      "\n",
      "X has feature names, but DecisionTreeClassifier was fitted without feature names\n",
      "\n",
      "d:\\AppRelated\\Anaconda\\envs\\mi\\lib\\site-packages\\sklearn\\base.py:457: UserWarning:\n",
      "\n",
      "X has feature names, but DecisionTreeClassifier was fitted without feature names\n",
      "\n",
      "d:\\AppRelated\\Anaconda\\envs\\mi\\lib\\site-packages\\sklearn\\base.py:457: UserWarning:\n",
      "\n",
      "X has feature names, but DecisionTreeClassifier was fitted without feature names\n",
      "\n",
      "d:\\AppRelated\\Anaconda\\envs\\mi\\lib\\site-packages\\sklearn\\base.py:457: UserWarning:\n",
      "\n",
      "X has feature names, but DecisionTreeClassifier was fitted without feature names\n",
      "\n",
      "d:\\AppRelated\\Anaconda\\envs\\mi\\lib\\site-packages\\sklearn\\base.py:457: UserWarning:\n",
      "\n",
      "X has feature names, but DecisionTreeClassifier was fitted without feature names\n",
      "\n",
      "d:\\AppRelated\\Anaconda\\envs\\mi\\lib\\site-packages\\sklearn\\base.py:457: UserWarning:\n",
      "\n",
      "X has feature names, but DecisionTreeClassifier was fitted without feature names\n",
      "\n",
      "d:\\AppRelated\\Anaconda\\envs\\mi\\lib\\site-packages\\sklearn\\base.py:457: UserWarning:\n",
      "\n",
      "X has feature names, but DecisionTreeClassifier was fitted without feature names\n",
      "\n",
      "d:\\AppRelated\\Anaconda\\envs\\mi\\lib\\site-packages\\sklearn\\base.py:457: UserWarning:\n",
      "\n",
      "X has feature names, but DecisionTreeClassifier was fitted without feature names\n",
      "\n",
      "d:\\AppRelated\\Anaconda\\envs\\mi\\lib\\site-packages\\sklearn\\base.py:457: UserWarning:\n",
      "\n",
      "X has feature names, but DecisionTreeClassifier was fitted without feature names\n",
      "\n",
      "d:\\AppRelated\\Anaconda\\envs\\mi\\lib\\site-packages\\sklearn\\base.py:457: UserWarning:\n",
      "\n",
      "X has feature names, but DecisionTreeClassifier was fitted without feature names\n",
      "\n",
      "d:\\AppRelated\\Anaconda\\envs\\mi\\lib\\site-packages\\sklearn\\base.py:457: UserWarning:\n",
      "\n",
      "X has feature names, but DecisionTreeClassifier was fitted without feature names\n",
      "\n",
      "d:\\AppRelated\\Anaconda\\envs\\mi\\lib\\site-packages\\sklearn\\base.py:457: UserWarning:\n",
      "\n",
      "X has feature names, but DecisionTreeClassifier was fitted without feature names\n",
      "\n",
      "d:\\AppRelated\\Anaconda\\envs\\mi\\lib\\site-packages\\sklearn\\base.py:457: UserWarning:\n",
      "\n",
      "X has feature names, but DecisionTreeClassifier was fitted without feature names\n",
      "\n",
      "d:\\AppRelated\\Anaconda\\envs\\mi\\lib\\site-packages\\sklearn\\base.py:457: UserWarning:\n",
      "\n",
      "X has feature names, but DecisionTreeClassifier was fitted without feature names\n",
      "\n",
      "d:\\AppRelated\\Anaconda\\envs\\mi\\lib\\site-packages\\sklearn\\base.py:457: UserWarning:\n",
      "\n",
      "X has feature names, but DecisionTreeClassifier was fitted without feature names\n",
      "\n",
      "d:\\AppRelated\\Anaconda\\envs\\mi\\lib\\site-packages\\sklearn\\base.py:457: UserWarning:\n",
      "\n",
      "X has feature names, but DecisionTreeClassifier was fitted without feature names\n",
      "\n",
      "d:\\AppRelated\\Anaconda\\envs\\mi\\lib\\site-packages\\sklearn\\base.py:457: UserWarning:\n",
      "\n",
      "X has feature names, but DecisionTreeClassifier was fitted without feature names\n",
      "\n",
      "d:\\AppRelated\\Anaconda\\envs\\mi\\lib\\site-packages\\sklearn\\base.py:457: UserWarning:\n",
      "\n",
      "X has feature names, but DecisionTreeClassifier was fitted without feature names\n",
      "\n",
      "d:\\AppRelated\\Anaconda\\envs\\mi\\lib\\site-packages\\sklearn\\base.py:457: UserWarning:\n",
      "\n",
      "X has feature names, but DecisionTreeClassifier was fitted without feature names\n",
      "\n",
      "d:\\AppRelated\\Anaconda\\envs\\mi\\lib\\site-packages\\sklearn\\base.py:457: UserWarning:\n",
      "\n",
      "X has feature names, but DecisionTreeClassifier was fitted without feature names\n",
      "\n",
      "d:\\AppRelated\\Anaconda\\envs\\mi\\lib\\site-packages\\sklearn\\base.py:457: UserWarning:\n",
      "\n",
      "X has feature names, but DecisionTreeClassifier was fitted without feature names\n",
      "\n",
      "d:\\AppRelated\\Anaconda\\envs\\mi\\lib\\site-packages\\sklearn\\base.py:457: UserWarning:\n",
      "\n",
      "X has feature names, but DecisionTreeClassifier was fitted without feature names\n",
      "\n",
      "d:\\AppRelated\\Anaconda\\envs\\mi\\lib\\site-packages\\sklearn\\base.py:457: UserWarning:\n",
      "\n",
      "X has feature names, but DecisionTreeClassifier was fitted without feature names\n",
      "\n",
      "d:\\AppRelated\\Anaconda\\envs\\mi\\lib\\site-packages\\sklearn\\base.py:457: UserWarning:\n",
      "\n",
      "X has feature names, but DecisionTreeClassifier was fitted without feature names\n",
      "\n",
      "d:\\AppRelated\\Anaconda\\envs\\mi\\lib\\site-packages\\sklearn\\base.py:457: UserWarning:\n",
      "\n",
      "X has feature names, but DecisionTreeClassifier was fitted without feature names\n",
      "\n",
      "d:\\AppRelated\\Anaconda\\envs\\mi\\lib\\site-packages\\sklearn\\base.py:457: UserWarning:\n",
      "\n",
      "X has feature names, but DecisionTreeClassifier was fitted without feature names\n",
      "\n",
      "d:\\AppRelated\\Anaconda\\envs\\mi\\lib\\site-packages\\sklearn\\base.py:457: UserWarning:\n",
      "\n",
      "X has feature names, but DecisionTreeClassifier was fitted without feature names\n",
      "\n",
      "d:\\AppRelated\\Anaconda\\envs\\mi\\lib\\site-packages\\sklearn\\base.py:457: UserWarning:\n",
      "\n",
      "X has feature names, but DecisionTreeClassifier was fitted without feature names\n",
      "\n",
      "d:\\AppRelated\\Anaconda\\envs\\mi\\lib\\site-packages\\sklearn\\base.py:457: UserWarning:\n",
      "\n",
      "X has feature names, but DecisionTreeClassifier was fitted without feature names\n",
      "\n",
      "d:\\AppRelated\\Anaconda\\envs\\mi\\lib\\site-packages\\sklearn\\base.py:457: UserWarning:\n",
      "\n",
      "X has feature names, but DecisionTreeClassifier was fitted without feature names\n",
      "\n",
      "d:\\AppRelated\\Anaconda\\envs\\mi\\lib\\site-packages\\sklearn\\base.py:457: UserWarning:\n",
      "\n",
      "X has feature names, but DecisionTreeClassifier was fitted without feature names\n",
      "\n",
      "d:\\AppRelated\\Anaconda\\envs\\mi\\lib\\site-packages\\sklearn\\base.py:457: UserWarning:\n",
      "\n",
      "X has feature names, but DecisionTreeClassifier was fitted without feature names\n",
      "\n",
      "d:\\AppRelated\\Anaconda\\envs\\mi\\lib\\site-packages\\sklearn\\base.py:457: UserWarning:\n",
      "\n",
      "X has feature names, but DecisionTreeClassifier was fitted without feature names\n",
      "\n",
      "d:\\AppRelated\\Anaconda\\envs\\mi\\lib\\site-packages\\sklearn\\base.py:457: UserWarning:\n",
      "\n",
      "X has feature names, but DecisionTreeClassifier was fitted without feature names\n",
      "\n",
      "d:\\AppRelated\\Anaconda\\envs\\mi\\lib\\site-packages\\sklearn\\base.py:457: UserWarning:\n",
      "\n",
      "X has feature names, but DecisionTreeClassifier was fitted without feature names\n",
      "\n",
      "d:\\AppRelated\\Anaconda\\envs\\mi\\lib\\site-packages\\sklearn\\base.py:457: UserWarning:\n",
      "\n",
      "X has feature names, but DecisionTreeClassifier was fitted without feature names\n",
      "\n",
      "d:\\AppRelated\\Anaconda\\envs\\mi\\lib\\site-packages\\sklearn\\base.py:457: UserWarning:\n",
      "\n",
      "X has feature names, but DecisionTreeClassifier was fitted without feature names\n",
      "\n",
      "d:\\AppRelated\\Anaconda\\envs\\mi\\lib\\site-packages\\sklearn\\base.py:457: UserWarning:\n",
      "\n",
      "X has feature names, but DecisionTreeClassifier was fitted without feature names\n",
      "\n",
      "d:\\AppRelated\\Anaconda\\envs\\mi\\lib\\site-packages\\sklearn\\base.py:457: UserWarning:\n",
      "\n",
      "X has feature names, but DecisionTreeClassifier was fitted without feature names\n",
      "\n",
      "d:\\AppRelated\\Anaconda\\envs\\mi\\lib\\site-packages\\sklearn\\base.py:457: UserWarning:\n",
      "\n",
      "X has feature names, but DecisionTreeClassifier was fitted without feature names\n",
      "\n",
      "d:\\AppRelated\\Anaconda\\envs\\mi\\lib\\site-packages\\sklearn\\base.py:457: UserWarning:\n",
      "\n",
      "X has feature names, but DecisionTreeClassifier was fitted without feature names\n",
      "\n",
      "d:\\AppRelated\\Anaconda\\envs\\mi\\lib\\site-packages\\sklearn\\base.py:457: UserWarning:\n",
      "\n",
      "X has feature names, but DecisionTreeClassifier was fitted without feature names\n",
      "\n",
      "d:\\AppRelated\\Anaconda\\envs\\mi\\lib\\site-packages\\sklearn\\base.py:457: UserWarning:\n",
      "\n",
      "X has feature names, but DecisionTreeClassifier was fitted without feature names\n",
      "\n",
      "d:\\AppRelated\\Anaconda\\envs\\mi\\lib\\site-packages\\sklearn\\base.py:457: UserWarning:\n",
      "\n",
      "X has feature names, but DecisionTreeClassifier was fitted without feature names\n",
      "\n",
      "d:\\AppRelated\\Anaconda\\envs\\mi\\lib\\site-packages\\sklearn\\base.py:457: UserWarning:\n",
      "\n",
      "X has feature names, but DecisionTreeClassifier was fitted without feature names\n",
      "\n",
      "d:\\AppRelated\\Anaconda\\envs\\mi\\lib\\site-packages\\sklearn\\base.py:457: UserWarning:\n",
      "\n",
      "X has feature names, but DecisionTreeClassifier was fitted without feature names\n",
      "\n",
      "d:\\AppRelated\\Anaconda\\envs\\mi\\lib\\site-packages\\sklearn\\base.py:457: UserWarning:\n",
      "\n",
      "X has feature names, but DecisionTreeClassifier was fitted without feature names\n",
      "\n",
      "d:\\AppRelated\\Anaconda\\envs\\mi\\lib\\site-packages\\sklearn\\base.py:457: UserWarning:\n",
      "\n",
      "X has feature names, but DecisionTreeClassifier was fitted without feature names\n",
      "\n",
      "d:\\AppRelated\\Anaconda\\envs\\mi\\lib\\site-packages\\sklearn\\base.py:457: UserWarning:\n",
      "\n",
      "X has feature names, but DecisionTreeClassifier was fitted without feature names\n",
      "\n",
      "d:\\AppRelated\\Anaconda\\envs\\mi\\lib\\site-packages\\sklearn\\base.py:457: UserWarning:\n",
      "\n",
      "X has feature names, but DecisionTreeClassifier was fitted without feature names\n",
      "\n",
      "d:\\AppRelated\\Anaconda\\envs\\mi\\lib\\site-packages\\sklearn\\base.py:457: UserWarning:\n",
      "\n",
      "X has feature names, but DecisionTreeClassifier was fitted without feature names\n",
      "\n",
      "d:\\AppRelated\\Anaconda\\envs\\mi\\lib\\site-packages\\sklearn\\base.py:457: UserWarning:\n",
      "\n",
      "X has feature names, but DecisionTreeClassifier was fitted without feature names\n",
      "\n",
      "d:\\AppRelated\\Anaconda\\envs\\mi\\lib\\site-packages\\sklearn\\base.py:457: UserWarning:\n",
      "\n",
      "X has feature names, but DecisionTreeClassifier was fitted without feature names\n",
      "\n",
      "d:\\AppRelated\\Anaconda\\envs\\mi\\lib\\site-packages\\sklearn\\base.py:457: UserWarning:\n",
      "\n",
      "X has feature names, but DecisionTreeClassifier was fitted without feature names\n",
      "\n",
      "d:\\AppRelated\\Anaconda\\envs\\mi\\lib\\site-packages\\sklearn\\base.py:457: UserWarning:\n",
      "\n",
      "X has feature names, but DecisionTreeClassifier was fitted without feature names\n",
      "\n",
      "d:\\AppRelated\\Anaconda\\envs\\mi\\lib\\site-packages\\sklearn\\base.py:457: UserWarning:\n",
      "\n",
      "X has feature names, but DecisionTreeClassifier was fitted without feature names\n",
      "\n",
      "d:\\AppRelated\\Anaconda\\envs\\mi\\lib\\site-packages\\sklearn\\base.py:457: UserWarning:\n",
      "\n",
      "X has feature names, but DecisionTreeClassifier was fitted without feature names\n",
      "\n",
      "d:\\AppRelated\\Anaconda\\envs\\mi\\lib\\site-packages\\sklearn\\base.py:457: UserWarning:\n",
      "\n",
      "X has feature names, but DecisionTreeClassifier was fitted without feature names\n",
      "\n",
      "d:\\AppRelated\\Anaconda\\envs\\mi\\lib\\site-packages\\sklearn\\base.py:457: UserWarning:\n",
      "\n",
      "X has feature names, but DecisionTreeClassifier was fitted without feature names\n",
      "\n",
      "d:\\AppRelated\\Anaconda\\envs\\mi\\lib\\site-packages\\sklearn\\base.py:457: UserWarning:\n",
      "\n",
      "X has feature names, but DecisionTreeClassifier was fitted without feature names\n",
      "\n",
      "d:\\AppRelated\\Anaconda\\envs\\mi\\lib\\site-packages\\sklearn\\base.py:457: UserWarning:\n",
      "\n",
      "X has feature names, but DecisionTreeClassifier was fitted without feature names\n",
      "\n",
      "d:\\AppRelated\\Anaconda\\envs\\mi\\lib\\site-packages\\sklearn\\base.py:457: UserWarning:\n",
      "\n",
      "X has feature names, but DecisionTreeClassifier was fitted without feature names\n",
      "\n",
      "d:\\AppRelated\\Anaconda\\envs\\mi\\lib\\site-packages\\sklearn\\base.py:457: UserWarning:\n",
      "\n",
      "X has feature names, but DecisionTreeClassifier was fitted without feature names\n",
      "\n",
      "d:\\AppRelated\\Anaconda\\envs\\mi\\lib\\site-packages\\sklearn\\base.py:457: UserWarning:\n",
      "\n",
      "X has feature names, but DecisionTreeClassifier was fitted without feature names\n",
      "\n",
      "d:\\AppRelated\\Anaconda\\envs\\mi\\lib\\site-packages\\sklearn\\base.py:457: UserWarning:\n",
      "\n",
      "X has feature names, but DecisionTreeClassifier was fitted without feature names\n",
      "\n",
      "d:\\AppRelated\\Anaconda\\envs\\mi\\lib\\site-packages\\sklearn\\base.py:457: UserWarning:\n",
      "\n",
      "X has feature names, but DecisionTreeClassifier was fitted without feature names\n",
      "\n",
      "d:\\AppRelated\\Anaconda\\envs\\mi\\lib\\site-packages\\sklearn\\base.py:457: UserWarning:\n",
      "\n",
      "X has feature names, but DecisionTreeClassifier was fitted without feature names\n",
      "\n",
      "d:\\AppRelated\\Anaconda\\envs\\mi\\lib\\site-packages\\sklearn\\base.py:457: UserWarning:\n",
      "\n",
      "X has feature names, but DecisionTreeClassifier was fitted without feature names\n",
      "\n",
      "d:\\AppRelated\\Anaconda\\envs\\mi\\lib\\site-packages\\sklearn\\base.py:457: UserWarning:\n",
      "\n",
      "X has feature names, but DecisionTreeClassifier was fitted without feature names\n",
      "\n",
      "d:\\AppRelated\\Anaconda\\envs\\mi\\lib\\site-packages\\sklearn\\base.py:457: UserWarning:\n",
      "\n",
      "X has feature names, but DecisionTreeClassifier was fitted without feature names\n",
      "\n",
      "d:\\AppRelated\\Anaconda\\envs\\mi\\lib\\site-packages\\sklearn\\base.py:457: UserWarning:\n",
      "\n",
      "X has feature names, but DecisionTreeClassifier was fitted without feature names\n",
      "\n",
      "d:\\AppRelated\\Anaconda\\envs\\mi\\lib\\site-packages\\sklearn\\base.py:457: UserWarning:\n",
      "\n",
      "X has feature names, but DecisionTreeClassifier was fitted without feature names\n",
      "\n",
      "d:\\AppRelated\\Anaconda\\envs\\mi\\lib\\site-packages\\sklearn\\base.py:457: UserWarning:\n",
      "\n",
      "X has feature names, but DecisionTreeClassifier was fitted without feature names\n",
      "\n",
      "d:\\AppRelated\\Anaconda\\envs\\mi\\lib\\site-packages\\sklearn\\base.py:457: UserWarning:\n",
      "\n",
      "X has feature names, but DecisionTreeClassifier was fitted without feature names\n",
      "\n",
      "d:\\AppRelated\\Anaconda\\envs\\mi\\lib\\site-packages\\sklearn\\base.py:457: UserWarning:\n",
      "\n",
      "X has feature names, but DecisionTreeClassifier was fitted without feature names\n",
      "\n",
      "d:\\AppRelated\\Anaconda\\envs\\mi\\lib\\site-packages\\sklearn\\base.py:457: UserWarning:\n",
      "\n",
      "X has feature names, but DecisionTreeClassifier was fitted without feature names\n",
      "\n",
      "d:\\AppRelated\\Anaconda\\envs\\mi\\lib\\site-packages\\sklearn\\base.py:457: UserWarning:\n",
      "\n",
      "X has feature names, but DecisionTreeClassifier was fitted without feature names\n",
      "\n",
      "d:\\AppRelated\\Anaconda\\envs\\mi\\lib\\site-packages\\sklearn\\base.py:457: UserWarning:\n",
      "\n",
      "X has feature names, but DecisionTreeClassifier was fitted without feature names\n",
      "\n",
      "d:\\AppRelated\\Anaconda\\envs\\mi\\lib\\site-packages\\sklearn\\base.py:457: UserWarning:\n",
      "\n",
      "X has feature names, but DecisionTreeClassifier was fitted without feature names\n",
      "\n",
      "d:\\AppRelated\\Anaconda\\envs\\mi\\lib\\site-packages\\sklearn\\base.py:457: UserWarning:\n",
      "\n",
      "X has feature names, but DecisionTreeClassifier was fitted without feature names\n",
      "\n",
      "d:\\AppRelated\\Anaconda\\envs\\mi\\lib\\site-packages\\sklearn\\base.py:457: UserWarning:\n",
      "\n",
      "X has feature names, but DecisionTreeClassifier was fitted without feature names\n",
      "\n",
      "d:\\AppRelated\\Anaconda\\envs\\mi\\lib\\site-packages\\sklearn\\base.py:457: UserWarning:\n",
      "\n",
      "X has feature names, but DecisionTreeClassifier was fitted without feature names\n",
      "\n",
      "d:\\AppRelated\\Anaconda\\envs\\mi\\lib\\site-packages\\sklearn\\base.py:457: UserWarning:\n",
      "\n",
      "X has feature names, but DecisionTreeClassifier was fitted without feature names\n",
      "\n",
      "d:\\AppRelated\\Anaconda\\envs\\mi\\lib\\site-packages\\sklearn\\base.py:457: UserWarning:\n",
      "\n",
      "X has feature names, but DecisionTreeClassifier was fitted without feature names\n",
      "\n",
      "d:\\AppRelated\\Anaconda\\envs\\mi\\lib\\site-packages\\sklearn\\base.py:457: UserWarning:\n",
      "\n",
      "X has feature names, but DecisionTreeClassifier was fitted without feature names\n",
      "\n",
      "d:\\AppRelated\\Anaconda\\envs\\mi\\lib\\site-packages\\sklearn\\base.py:457: UserWarning:\n",
      "\n",
      "X has feature names, but DecisionTreeClassifier was fitted without feature names\n",
      "\n",
      "d:\\AppRelated\\Anaconda\\envs\\mi\\lib\\site-packages\\sklearn\\base.py:457: UserWarning:\n",
      "\n",
      "X has feature names, but DecisionTreeClassifier was fitted without feature names\n",
      "\n",
      "d:\\AppRelated\\Anaconda\\envs\\mi\\lib\\site-packages\\sklearn\\base.py:457: UserWarning:\n",
      "\n",
      "X has feature names, but DecisionTreeClassifier was fitted without feature names\n",
      "\n",
      "d:\\AppRelated\\Anaconda\\envs\\mi\\lib\\site-packages\\sklearn\\base.py:457: UserWarning:\n",
      "\n",
      "X has feature names, but DecisionTreeClassifier was fitted without feature names\n",
      "\n",
      "d:\\AppRelated\\Anaconda\\envs\\mi\\lib\\site-packages\\sklearn\\base.py:457: UserWarning:\n",
      "\n",
      "X has feature names, but DecisionTreeClassifier was fitted without feature names\n",
      "\n",
      "d:\\AppRelated\\Anaconda\\envs\\mi\\lib\\site-packages\\sklearn\\base.py:457: UserWarning:\n",
      "\n",
      "X has feature names, but DecisionTreeClassifier was fitted without feature names\n",
      "\n",
      "d:\\AppRelated\\Anaconda\\envs\\mi\\lib\\site-packages\\sklearn\\base.py:457: UserWarning:\n",
      "\n",
      "X has feature names, but DecisionTreeClassifier was fitted without feature names\n",
      "\n",
      "d:\\AppRelated\\Anaconda\\envs\\mi\\lib\\site-packages\\sklearn\\base.py:457: UserWarning:\n",
      "\n",
      "X has feature names, but DecisionTreeClassifier was fitted without feature names\n",
      "\n",
      "d:\\AppRelated\\Anaconda\\envs\\mi\\lib\\site-packages\\sklearn\\base.py:457: UserWarning:\n",
      "\n",
      "X has feature names, but DecisionTreeClassifier was fitted without feature names\n",
      "\n",
      "d:\\AppRelated\\Anaconda\\envs\\mi\\lib\\site-packages\\sklearn\\base.py:457: UserWarning:\n",
      "\n",
      "X has feature names, but DecisionTreeClassifier was fitted without feature names\n",
      "\n",
      "d:\\AppRelated\\Anaconda\\envs\\mi\\lib\\site-packages\\sklearn\\base.py:457: UserWarning:\n",
      "\n",
      "X has feature names, but DecisionTreeClassifier was fitted without feature names\n",
      "\n",
      "d:\\AppRelated\\Anaconda\\envs\\mi\\lib\\site-packages\\sklearn\\base.py:457: UserWarning:\n",
      "\n",
      "X has feature names, but DecisionTreeClassifier was fitted without feature names\n",
      "\n",
      "d:\\AppRelated\\Anaconda\\envs\\mi\\lib\\site-packages\\sklearn\\base.py:457: UserWarning:\n",
      "\n",
      "X has feature names, but DecisionTreeClassifier was fitted without feature names\n",
      "\n"
     ]
    },
    {
     "name": "stdout",
     "output_type": "stream",
     "text": [
      "Final Testing Accuracy: 66.7910447761194\n"
     ]
    },
    {
     "data": {
      "application/vnd.plotly.v1+json": {
       "config": {
        "plotlyServerURL": "https://plot.ly"
       },
       "data": [
        {
         "mode": "lines",
         "name": "Training Accuracy",
         "type": "scatter",
         "x": [
          1,
          2,
          3,
          4,
          5,
          6,
          7,
          8,
          9,
          10,
          11,
          12,
          13,
          14,
          15,
          16,
          17,
          18,
          19,
          20,
          21,
          22,
          23,
          24,
          25,
          26,
          27,
          28,
          29,
          30,
          31,
          32,
          33,
          34,
          35,
          36,
          37,
          38,
          39,
          40,
          41,
          42,
          43,
          44,
          45,
          46,
          47,
          48,
          49,
          50,
          51,
          52,
          53,
          54,
          55,
          56,
          57,
          58,
          59,
          60,
          61,
          62,
          63,
          64,
          65,
          66,
          67,
          68,
          69,
          70,
          71,
          72,
          73,
          74,
          75,
          76,
          77,
          78,
          79,
          80,
          81,
          82,
          83,
          84,
          85,
          86,
          87,
          88,
          89,
          90,
          91,
          92,
          93,
          94,
          95,
          96,
          97,
          98,
          99,
          100
         ],
         "y": [
          0.6138059701492538,
          0.6254664179104478,
          0.46548507462686567,
          0.5774253731343284,
          0.5946828358208955,
          0.6086753731343284,
          0.43796641791044777,
          0.5909514925373134,
          0.44263059701492535,
          0.47761194029850745,
          0.5541044776119403,
          0.5583022388059702,
          0.6161380597014925,
          0.4780783582089552,
          0.5513059701492538,
          0.5461753731343284,
          0.5755597014925373,
          0.4449626865671642,
          0.5685634328358209,
          0.45988805970149255,
          0.5648320895522388,
          0.4468283582089552,
          0.4239738805970149,
          0.5932835820895522,
          0.43843283582089554,
          0.6142723880597015,
          0.43703358208955223,
          0.5895522388059702,
          0.41884328358208955,
          0.6208022388059702,
          0.43470149253731344,
          0.6026119402985075,
          0.5788246268656716,
          0.4239738805970149,
          0.6184701492537313,
          0.41277985074626866,
          0.5923507462686567,
          0.4710820895522388,
          0.4449626865671642,
          0.47761194029850745,
          0.6240671641791045,
          0.425839552238806,
          0.5732276119402985,
          0.5783582089552238,
          0.43097014925373134,
          0.4435634328358209,
          0.558768656716418,
          0.48507462686567165,
          0.5694962686567164,
          0.45242537313432835,
          0.5513059701492538,
          0.46921641791044777,
          0.5680970149253731,
          0.5620335820895522,
          0.45802238805970147,
          0.5550373134328358,
          0.503731343283582,
          0.435634328358209,
          0.4808768656716418,
          0.570429104477612,
          0.4001865671641791,
          0.625,
          0.5583022388059702,
          0.507929104477612,
          0.5643656716417911,
          0.488339552238806,
          0.40298507462686567,
          0.6194029850746269,
          0.4085820895522388,
          0.5461753731343284,
          0.4519589552238806,
          0.617070895522388,
          0.4197761194029851,
          0.6208022388059702,
          0.4221082089552239,
          0.4846082089552239,
          0.5475746268656716,
          0.47201492537313433,
          0.45848880597014924,
          0.6128731343283582,
          0.5051305970149254,
          0.4808768656716418,
          0.4300373134328358,
          0.4319029850746269,
          0.5853544776119403,
          0.5694962686567164,
          0.4319029850746269,
          0.5359141791044776,
          0.5396455223880597,
          0.44263059701492535,
          0.5722947761194029,
          0.41511194029850745,
          0.613339552238806,
          0.46781716417910446,
          0.416044776119403,
          0.5746268656716418,
          0.5788246268656716,
          0.5279850746268657,
          0.4430970149253731,
          0.5797574626865671
         ]
        },
        {
         "mode": "lines",
         "name": "Testing Accuracy",
         "type": "scatter",
         "x": [
          1,
          2,
          3,
          4,
          5,
          6,
          7,
          8,
          9,
          10,
          11,
          12,
          13,
          14,
          15,
          16,
          17,
          18,
          19,
          20,
          21,
          22,
          23,
          24,
          25,
          26,
          27,
          28,
          29,
          30,
          31,
          32,
          33,
          34,
          35,
          36,
          37,
          38,
          39,
          40,
          41,
          42,
          43,
          44,
          45,
          46,
          47,
          48,
          49,
          50,
          51,
          52,
          53,
          54,
          55,
          56,
          57,
          58,
          59,
          60,
          61,
          62,
          63,
          64,
          65,
          66,
          67,
          68,
          69,
          70,
          71,
          72,
          73,
          74,
          75,
          76,
          77,
          78,
          79,
          80,
          81,
          82,
          83,
          84,
          85,
          86,
          87,
          88,
          89,
          90,
          91,
          92,
          93,
          94,
          95,
          96,
          97,
          98,
          99,
          100
         ],
         "y": [
          0.6007462686567164,
          0.6119402985074627,
          0.46455223880597013,
          0.5597014925373134,
          0.5932835820895522,
          0.625,
          0.43283582089552236,
          0.585820895522388,
          0.40671641791044777,
          0.48134328358208955,
          0.5410447761194029,
          0.5447761194029851,
          0.621268656716418,
          0.44216417910447764,
          0.5559701492537313,
          0.5242537313432836,
          0.5671641791044776,
          0.43656716417910446,
          0.5597014925373134,
          0.457089552238806,
          0.539179104477612,
          0.43843283582089554,
          0.3824626865671642,
          0.625,
          0.4048507462686567,
          0.6119402985074627,
          0.43656716417910446,
          0.5951492537313433,
          0.39365671641791045,
          0.5970149253731343,
          0.43283582089552236,
          0.6138059701492538,
          0.5690298507462687,
          0.42350746268656714,
          0.6231343283582089,
          0.4048507462686567,
          0.5970149253731343,
          0.4832089552238806,
          0.4291044776119403,
          0.44402985074626866,
          0.6399253731343284,
          0.42350746268656714,
          0.5746268656716418,
          0.5708955223880597,
          0.4291044776119403,
          0.45149253731343286,
          0.542910447761194,
          0.47201492537313433,
          0.5578358208955224,
          0.44402985074626866,
          0.5373134328358209,
          0.46828358208955223,
          0.5652985074626866,
          0.5522388059701493,
          0.458955223880597,
          0.5503731343283582,
          0.503731343283582,
          0.4291044776119403,
          0.4664179104477612,
          0.5522388059701493,
          0.39925373134328357,
          0.6138059701492538,
          0.5447761194029851,
          0.5186567164179104,
          0.5317164179104478,
          0.5018656716417911,
          0.4048507462686567,
          0.6175373134328358,
          0.39552238805970147,
          0.5634328358208955,
          0.4216417910447761,
          0.6231343283582089,
          0.4123134328358209,
          0.5970149253731343,
          0.4253731343283582,
          0.4832089552238806,
          0.5503731343283582,
          0.45149253731343286,
          0.417910447761194,
          0.6231343283582089,
          0.5242537313432836,
          0.48880597014925375,
          0.43283582089552236,
          0.43283582089552236,
          0.5839552238805971,
          0.5634328358208955,
          0.43470149253731344,
          0.5522388059701493,
          0.5373134328358209,
          0.43470149253731344,
          0.5671641791044776,
          0.416044776119403,
          0.6100746268656716,
          0.4552238805970149,
          0.4141791044776119,
          0.5764925373134329,
          0.5690298507462687,
          0.5503731343283582,
          0.44029850746268656,
          0.5802238805970149
         ]
        }
       ],
       "layout": {
        "template": {
         "data": {
          "bar": [
           {
            "error_x": {
             "color": "#2a3f5f"
            },
            "error_y": {
             "color": "#2a3f5f"
            },
            "marker": {
             "line": {
              "color": "#E5ECF6",
              "width": 0.5
             },
             "pattern": {
              "fillmode": "overlay",
              "size": 10,
              "solidity": 0.2
             }
            },
            "type": "bar"
           }
          ],
          "barpolar": [
           {
            "marker": {
             "line": {
              "color": "#E5ECF6",
              "width": 0.5
             },
             "pattern": {
              "fillmode": "overlay",
              "size": 10,
              "solidity": 0.2
             }
            },
            "type": "barpolar"
           }
          ],
          "carpet": [
           {
            "aaxis": {
             "endlinecolor": "#2a3f5f",
             "gridcolor": "white",
             "linecolor": "white",
             "minorgridcolor": "white",
             "startlinecolor": "#2a3f5f"
            },
            "baxis": {
             "endlinecolor": "#2a3f5f",
             "gridcolor": "white",
             "linecolor": "white",
             "minorgridcolor": "white",
             "startlinecolor": "#2a3f5f"
            },
            "type": "carpet"
           }
          ],
          "choropleth": [
           {
            "colorbar": {
             "outlinewidth": 0,
             "ticks": ""
            },
            "type": "choropleth"
           }
          ],
          "contour": [
           {
            "colorbar": {
             "outlinewidth": 0,
             "ticks": ""
            },
            "colorscale": [
             [
              0,
              "#0d0887"
             ],
             [
              0.1111111111111111,
              "#46039f"
             ],
             [
              0.2222222222222222,
              "#7201a8"
             ],
             [
              0.3333333333333333,
              "#9c179e"
             ],
             [
              0.4444444444444444,
              "#bd3786"
             ],
             [
              0.5555555555555556,
              "#d8576b"
             ],
             [
              0.6666666666666666,
              "#ed7953"
             ],
             [
              0.7777777777777778,
              "#fb9f3a"
             ],
             [
              0.8888888888888888,
              "#fdca26"
             ],
             [
              1,
              "#f0f921"
             ]
            ],
            "type": "contour"
           }
          ],
          "contourcarpet": [
           {
            "colorbar": {
             "outlinewidth": 0,
             "ticks": ""
            },
            "type": "contourcarpet"
           }
          ],
          "heatmap": [
           {
            "colorbar": {
             "outlinewidth": 0,
             "ticks": ""
            },
            "colorscale": [
             [
              0,
              "#0d0887"
             ],
             [
              0.1111111111111111,
              "#46039f"
             ],
             [
              0.2222222222222222,
              "#7201a8"
             ],
             [
              0.3333333333333333,
              "#9c179e"
             ],
             [
              0.4444444444444444,
              "#bd3786"
             ],
             [
              0.5555555555555556,
              "#d8576b"
             ],
             [
              0.6666666666666666,
              "#ed7953"
             ],
             [
              0.7777777777777778,
              "#fb9f3a"
             ],
             [
              0.8888888888888888,
              "#fdca26"
             ],
             [
              1,
              "#f0f921"
             ]
            ],
            "type": "heatmap"
           }
          ],
          "heatmapgl": [
           {
            "colorbar": {
             "outlinewidth": 0,
             "ticks": ""
            },
            "colorscale": [
             [
              0,
              "#0d0887"
             ],
             [
              0.1111111111111111,
              "#46039f"
             ],
             [
              0.2222222222222222,
              "#7201a8"
             ],
             [
              0.3333333333333333,
              "#9c179e"
             ],
             [
              0.4444444444444444,
              "#bd3786"
             ],
             [
              0.5555555555555556,
              "#d8576b"
             ],
             [
              0.6666666666666666,
              "#ed7953"
             ],
             [
              0.7777777777777778,
              "#fb9f3a"
             ],
             [
              0.8888888888888888,
              "#fdca26"
             ],
             [
              1,
              "#f0f921"
             ]
            ],
            "type": "heatmapgl"
           }
          ],
          "histogram": [
           {
            "marker": {
             "pattern": {
              "fillmode": "overlay",
              "size": 10,
              "solidity": 0.2
             }
            },
            "type": "histogram"
           }
          ],
          "histogram2d": [
           {
            "colorbar": {
             "outlinewidth": 0,
             "ticks": ""
            },
            "colorscale": [
             [
              0,
              "#0d0887"
             ],
             [
              0.1111111111111111,
              "#46039f"
             ],
             [
              0.2222222222222222,
              "#7201a8"
             ],
             [
              0.3333333333333333,
              "#9c179e"
             ],
             [
              0.4444444444444444,
              "#bd3786"
             ],
             [
              0.5555555555555556,
              "#d8576b"
             ],
             [
              0.6666666666666666,
              "#ed7953"
             ],
             [
              0.7777777777777778,
              "#fb9f3a"
             ],
             [
              0.8888888888888888,
              "#fdca26"
             ],
             [
              1,
              "#f0f921"
             ]
            ],
            "type": "histogram2d"
           }
          ],
          "histogram2dcontour": [
           {
            "colorbar": {
             "outlinewidth": 0,
             "ticks": ""
            },
            "colorscale": [
             [
              0,
              "#0d0887"
             ],
             [
              0.1111111111111111,
              "#46039f"
             ],
             [
              0.2222222222222222,
              "#7201a8"
             ],
             [
              0.3333333333333333,
              "#9c179e"
             ],
             [
              0.4444444444444444,
              "#bd3786"
             ],
             [
              0.5555555555555556,
              "#d8576b"
             ],
             [
              0.6666666666666666,
              "#ed7953"
             ],
             [
              0.7777777777777778,
              "#fb9f3a"
             ],
             [
              0.8888888888888888,
              "#fdca26"
             ],
             [
              1,
              "#f0f921"
             ]
            ],
            "type": "histogram2dcontour"
           }
          ],
          "mesh3d": [
           {
            "colorbar": {
             "outlinewidth": 0,
             "ticks": ""
            },
            "type": "mesh3d"
           }
          ],
          "parcoords": [
           {
            "line": {
             "colorbar": {
              "outlinewidth": 0,
              "ticks": ""
             }
            },
            "type": "parcoords"
           }
          ],
          "pie": [
           {
            "automargin": true,
            "type": "pie"
           }
          ],
          "scatter": [
           {
            "fillpattern": {
             "fillmode": "overlay",
             "size": 10,
             "solidity": 0.2
            },
            "type": "scatter"
           }
          ],
          "scatter3d": [
           {
            "line": {
             "colorbar": {
              "outlinewidth": 0,
              "ticks": ""
             }
            },
            "marker": {
             "colorbar": {
              "outlinewidth": 0,
              "ticks": ""
             }
            },
            "type": "scatter3d"
           }
          ],
          "scattercarpet": [
           {
            "marker": {
             "colorbar": {
              "outlinewidth": 0,
              "ticks": ""
             }
            },
            "type": "scattercarpet"
           }
          ],
          "scattergeo": [
           {
            "marker": {
             "colorbar": {
              "outlinewidth": 0,
              "ticks": ""
             }
            },
            "type": "scattergeo"
           }
          ],
          "scattergl": [
           {
            "marker": {
             "colorbar": {
              "outlinewidth": 0,
              "ticks": ""
             }
            },
            "type": "scattergl"
           }
          ],
          "scattermapbox": [
           {
            "marker": {
             "colorbar": {
              "outlinewidth": 0,
              "ticks": ""
             }
            },
            "type": "scattermapbox"
           }
          ],
          "scatterpolar": [
           {
            "marker": {
             "colorbar": {
              "outlinewidth": 0,
              "ticks": ""
             }
            },
            "type": "scatterpolar"
           }
          ],
          "scatterpolargl": [
           {
            "marker": {
             "colorbar": {
              "outlinewidth": 0,
              "ticks": ""
             }
            },
            "type": "scatterpolargl"
           }
          ],
          "scatterternary": [
           {
            "marker": {
             "colorbar": {
              "outlinewidth": 0,
              "ticks": ""
             }
            },
            "type": "scatterternary"
           }
          ],
          "surface": [
           {
            "colorbar": {
             "outlinewidth": 0,
             "ticks": ""
            },
            "colorscale": [
             [
              0,
              "#0d0887"
             ],
             [
              0.1111111111111111,
              "#46039f"
             ],
             [
              0.2222222222222222,
              "#7201a8"
             ],
             [
              0.3333333333333333,
              "#9c179e"
             ],
             [
              0.4444444444444444,
              "#bd3786"
             ],
             [
              0.5555555555555556,
              "#d8576b"
             ],
             [
              0.6666666666666666,
              "#ed7953"
             ],
             [
              0.7777777777777778,
              "#fb9f3a"
             ],
             [
              0.8888888888888888,
              "#fdca26"
             ],
             [
              1,
              "#f0f921"
             ]
            ],
            "type": "surface"
           }
          ],
          "table": [
           {
            "cells": {
             "fill": {
              "color": "#EBF0F8"
             },
             "line": {
              "color": "white"
             }
            },
            "header": {
             "fill": {
              "color": "#C8D4E3"
             },
             "line": {
              "color": "white"
             }
            },
            "type": "table"
           }
          ]
         },
         "layout": {
          "annotationdefaults": {
           "arrowcolor": "#2a3f5f",
           "arrowhead": 0,
           "arrowwidth": 1
          },
          "autotypenumbers": "strict",
          "coloraxis": {
           "colorbar": {
            "outlinewidth": 0,
            "ticks": ""
           }
          },
          "colorscale": {
           "diverging": [
            [
             0,
             "#8e0152"
            ],
            [
             0.1,
             "#c51b7d"
            ],
            [
             0.2,
             "#de77ae"
            ],
            [
             0.3,
             "#f1b6da"
            ],
            [
             0.4,
             "#fde0ef"
            ],
            [
             0.5,
             "#f7f7f7"
            ],
            [
             0.6,
             "#e6f5d0"
            ],
            [
             0.7,
             "#b8e186"
            ],
            [
             0.8,
             "#7fbc41"
            ],
            [
             0.9,
             "#4d9221"
            ],
            [
             1,
             "#276419"
            ]
           ],
           "sequential": [
            [
             0,
             "#0d0887"
            ],
            [
             0.1111111111111111,
             "#46039f"
            ],
            [
             0.2222222222222222,
             "#7201a8"
            ],
            [
             0.3333333333333333,
             "#9c179e"
            ],
            [
             0.4444444444444444,
             "#bd3786"
            ],
            [
             0.5555555555555556,
             "#d8576b"
            ],
            [
             0.6666666666666666,
             "#ed7953"
            ],
            [
             0.7777777777777778,
             "#fb9f3a"
            ],
            [
             0.8888888888888888,
             "#fdca26"
            ],
            [
             1,
             "#f0f921"
            ]
           ],
           "sequentialminus": [
            [
             0,
             "#0d0887"
            ],
            [
             0.1111111111111111,
             "#46039f"
            ],
            [
             0.2222222222222222,
             "#7201a8"
            ],
            [
             0.3333333333333333,
             "#9c179e"
            ],
            [
             0.4444444444444444,
             "#bd3786"
            ],
            [
             0.5555555555555556,
             "#d8576b"
            ],
            [
             0.6666666666666666,
             "#ed7953"
            ],
            [
             0.7777777777777778,
             "#fb9f3a"
            ],
            [
             0.8888888888888888,
             "#fdca26"
            ],
            [
             1,
             "#f0f921"
            ]
           ]
          },
          "colorway": [
           "#636efa",
           "#EF553B",
           "#00cc96",
           "#ab63fa",
           "#FFA15A",
           "#19d3f3",
           "#FF6692",
           "#B6E880",
           "#FF97FF",
           "#FECB52"
          ],
          "font": {
           "color": "#2a3f5f"
          },
          "geo": {
           "bgcolor": "white",
           "lakecolor": "white",
           "landcolor": "#E5ECF6",
           "showlakes": true,
           "showland": true,
           "subunitcolor": "white"
          },
          "hoverlabel": {
           "align": "left"
          },
          "hovermode": "closest",
          "mapbox": {
           "style": "light"
          },
          "paper_bgcolor": "white",
          "plot_bgcolor": "#E5ECF6",
          "polar": {
           "angularaxis": {
            "gridcolor": "white",
            "linecolor": "white",
            "ticks": ""
           },
           "bgcolor": "#E5ECF6",
           "radialaxis": {
            "gridcolor": "white",
            "linecolor": "white",
            "ticks": ""
           }
          },
          "scene": {
           "xaxis": {
            "backgroundcolor": "#E5ECF6",
            "gridcolor": "white",
            "gridwidth": 2,
            "linecolor": "white",
            "showbackground": true,
            "ticks": "",
            "zerolinecolor": "white"
           },
           "yaxis": {
            "backgroundcolor": "#E5ECF6",
            "gridcolor": "white",
            "gridwidth": 2,
            "linecolor": "white",
            "showbackground": true,
            "ticks": "",
            "zerolinecolor": "white"
           },
           "zaxis": {
            "backgroundcolor": "#E5ECF6",
            "gridcolor": "white",
            "gridwidth": 2,
            "linecolor": "white",
            "showbackground": true,
            "ticks": "",
            "zerolinecolor": "white"
           }
          },
          "shapedefaults": {
           "line": {
            "color": "#2a3f5f"
           }
          },
          "ternary": {
           "aaxis": {
            "gridcolor": "white",
            "linecolor": "white",
            "ticks": ""
           },
           "baxis": {
            "gridcolor": "white",
            "linecolor": "white",
            "ticks": ""
           },
           "bgcolor": "#E5ECF6",
           "caxis": {
            "gridcolor": "white",
            "linecolor": "white",
            "ticks": ""
           }
          },
          "title": {
           "x": 0.05
          },
          "xaxis": {
           "automargin": true,
           "gridcolor": "white",
           "linecolor": "white",
           "ticks": "",
           "title": {
            "standoff": 15
           },
           "zerolinecolor": "white",
           "zerolinewidth": 2
          },
          "yaxis": {
           "automargin": true,
           "gridcolor": "white",
           "linecolor": "white",
           "ticks": "",
           "title": {
            "standoff": 15
           },
           "zerolinecolor": "white",
           "zerolinewidth": 2
          }
         }
        },
        "title": {
         "text": "Training and Testing Accuracy Over Epochs"
        },
        "xaxis": {
         "title": {
          "text": "Number of Estimators"
         }
        },
        "yaxis": {
         "title": {
          "text": "Accuracy"
         }
        }
       }
      }
     },
     "metadata": {},
     "output_type": "display_data"
    },
    {
     "data": {
      "application/vnd.plotly.v1+json": {
       "config": {
        "plotlyServerURL": "https://plot.ly"
       },
       "data": [
        {
         "mode": "lines",
         "name": "Training MSE Loss",
         "type": "scatter",
         "x": [
          1,
          2,
          3,
          4,
          5,
          6,
          7,
          8,
          9,
          10,
          11,
          12,
          13,
          14,
          15,
          16,
          17,
          18,
          19,
          20,
          21,
          22,
          23,
          24,
          25,
          26,
          27,
          28,
          29,
          30,
          31,
          32,
          33,
          34,
          35,
          36,
          37,
          38,
          39,
          40,
          41,
          42,
          43,
          44,
          45,
          46,
          47,
          48,
          49,
          50,
          51,
          52,
          53,
          54,
          55,
          56,
          57,
          58,
          59,
          60,
          61,
          62,
          63,
          64,
          65,
          66,
          67,
          68,
          69,
          70,
          71,
          72,
          73,
          74,
          75,
          76,
          77,
          78,
          79,
          80,
          81,
          82,
          83,
          84,
          85,
          86,
          87,
          88,
          89,
          90,
          91,
          92,
          93,
          94,
          95,
          96,
          97,
          98,
          99,
          100
         ],
         "y": [
          0.38619402985074625,
          0.37453358208955223,
          0.5345149253731343,
          0.42257462686567165,
          0.40531716417910446,
          0.39132462686567165,
          0.5620335820895522,
          0.40904850746268656,
          0.5573694029850746,
          0.5223880597014925,
          0.4458955223880597,
          0.44169776119402987,
          0.38386194029850745,
          0.5219216417910447,
          0.44869402985074625,
          0.45382462686567165,
          0.4244402985074627,
          0.5550373134328358,
          0.4314365671641791,
          0.5401119402985075,
          0.4351679104477612,
          0.5531716417910447,
          0.5760261194029851,
          0.40671641791044777,
          0.5615671641791045,
          0.38572761194029853,
          0.5629664179104478,
          0.41044776119402987,
          0.5811567164179104,
          0.37919776119402987,
          0.5652985074626866,
          0.39738805970149255,
          0.42117537313432835,
          0.5760261194029851,
          0.38152985074626866,
          0.5872201492537313,
          0.4076492537313433,
          0.5289179104477612,
          0.5550373134328358,
          0.5223880597014925,
          0.37593283582089554,
          0.574160447761194,
          0.42677238805970147,
          0.4216417910447761,
          0.5690298507462687,
          0.5564365671641791,
          0.4412313432835821,
          0.5149253731343284,
          0.43050373134328357,
          0.5475746268656716,
          0.44869402985074625,
          0.5307835820895522,
          0.4319029850746269,
          0.43796641791044777,
          0.5419776119402985,
          0.4449626865671642,
          0.4962686567164179,
          0.5643656716417911,
          0.5191231343283582,
          0.4295708955223881,
          0.5998134328358209,
          0.375,
          0.44169776119402987,
          0.4920708955223881,
          0.435634328358209,
          0.511660447761194,
          0.5970149253731343,
          0.3805970149253731,
          0.5914179104477612,
          0.45382462686567165,
          0.5480410447761194,
          0.3829291044776119,
          0.5802238805970149,
          0.37919776119402987,
          0.5778917910447762,
          0.5153917910447762,
          0.45242537313432835,
          0.5279850746268657,
          0.5415111940298507,
          0.3871268656716418,
          0.49486940298507465,
          0.5191231343283582,
          0.5699626865671642,
          0.5680970149253731,
          0.4146455223880597,
          0.43050373134328357,
          0.5680970149253731,
          0.46408582089552236,
          0.4603544776119403,
          0.5573694029850746,
          0.427705223880597,
          0.5848880597014925,
          0.386660447761194,
          0.5321828358208955,
          0.5839552238805971,
          0.4253731343283582,
          0.42117537313432835,
          0.47201492537313433,
          0.5569029850746269,
          0.42024253731343286
         ]
        },
        {
         "mode": "lines",
         "name": "Testing MSE Loss",
         "type": "scatter",
         "x": [
          1,
          2,
          3,
          4,
          5,
          6,
          7,
          8,
          9,
          10,
          11,
          12,
          13,
          14,
          15,
          16,
          17,
          18,
          19,
          20,
          21,
          22,
          23,
          24,
          25,
          26,
          27,
          28,
          29,
          30,
          31,
          32,
          33,
          34,
          35,
          36,
          37,
          38,
          39,
          40,
          41,
          42,
          43,
          44,
          45,
          46,
          47,
          48,
          49,
          50,
          51,
          52,
          53,
          54,
          55,
          56,
          57,
          58,
          59,
          60,
          61,
          62,
          63,
          64,
          65,
          66,
          67,
          68,
          69,
          70,
          71,
          72,
          73,
          74,
          75,
          76,
          77,
          78,
          79,
          80,
          81,
          82,
          83,
          84,
          85,
          86,
          87,
          88,
          89,
          90,
          91,
          92,
          93,
          94,
          95,
          96,
          97,
          98,
          99,
          100
         ],
         "y": [
          0.39925373134328357,
          0.3880597014925373,
          0.5354477611940298,
          0.44029850746268656,
          0.40671641791044777,
          0.375,
          0.5671641791044776,
          0.4141791044776119,
          0.5932835820895522,
          0.5186567164179104,
          0.458955223880597,
          0.4552238805970149,
          0.3787313432835821,
          0.5578358208955224,
          0.44402985074626866,
          0.47574626865671643,
          0.43283582089552236,
          0.5634328358208955,
          0.44029850746268656,
          0.542910447761194,
          0.4608208955223881,
          0.5615671641791045,
          0.6175373134328358,
          0.375,
          0.5951492537313433,
          0.3880597014925373,
          0.5634328358208955,
          0.4048507462686567,
          0.6063432835820896,
          0.40298507462686567,
          0.5671641791044776,
          0.38619402985074625,
          0.43097014925373134,
          0.5764925373134329,
          0.376865671641791,
          0.5951492537313433,
          0.40298507462686567,
          0.5167910447761194,
          0.5708955223880597,
          0.5559701492537313,
          0.36007462686567165,
          0.5764925373134329,
          0.4253731343283582,
          0.4291044776119403,
          0.5708955223880597,
          0.5485074626865671,
          0.457089552238806,
          0.5279850746268657,
          0.44216417910447764,
          0.5559701492537313,
          0.4626865671641791,
          0.5317164179104478,
          0.43470149253731344,
          0.44776119402985076,
          0.5410447761194029,
          0.4496268656716418,
          0.4962686567164179,
          0.5708955223880597,
          0.5335820895522388,
          0.44776119402985076,
          0.6007462686567164,
          0.38619402985074625,
          0.4552238805970149,
          0.48134328358208955,
          0.46828358208955223,
          0.498134328358209,
          0.5951492537313433,
          0.3824626865671642,
          0.6044776119402985,
          0.43656716417910446,
          0.5783582089552238,
          0.376865671641791,
          0.5876865671641791,
          0.40298507462686567,
          0.5746268656716418,
          0.5167910447761194,
          0.4496268656716418,
          0.5485074626865671,
          0.582089552238806,
          0.376865671641791,
          0.47574626865671643,
          0.5111940298507462,
          0.5671641791044776,
          0.5671641791044776,
          0.416044776119403,
          0.43656716417910446,
          0.5652985074626866,
          0.44776119402985076,
          0.4626865671641791,
          0.5652985074626866,
          0.43283582089552236,
          0.5839552238805971,
          0.38992537313432835,
          0.5447761194029851,
          0.585820895522388,
          0.42350746268656714,
          0.43097014925373134,
          0.4496268656716418,
          0.5597014925373134,
          0.4197761194029851
         ]
        }
       ],
       "layout": {
        "template": {
         "data": {
          "bar": [
           {
            "error_x": {
             "color": "#2a3f5f"
            },
            "error_y": {
             "color": "#2a3f5f"
            },
            "marker": {
             "line": {
              "color": "#E5ECF6",
              "width": 0.5
             },
             "pattern": {
              "fillmode": "overlay",
              "size": 10,
              "solidity": 0.2
             }
            },
            "type": "bar"
           }
          ],
          "barpolar": [
           {
            "marker": {
             "line": {
              "color": "#E5ECF6",
              "width": 0.5
             },
             "pattern": {
              "fillmode": "overlay",
              "size": 10,
              "solidity": 0.2
             }
            },
            "type": "barpolar"
           }
          ],
          "carpet": [
           {
            "aaxis": {
             "endlinecolor": "#2a3f5f",
             "gridcolor": "white",
             "linecolor": "white",
             "minorgridcolor": "white",
             "startlinecolor": "#2a3f5f"
            },
            "baxis": {
             "endlinecolor": "#2a3f5f",
             "gridcolor": "white",
             "linecolor": "white",
             "minorgridcolor": "white",
             "startlinecolor": "#2a3f5f"
            },
            "type": "carpet"
           }
          ],
          "choropleth": [
           {
            "colorbar": {
             "outlinewidth": 0,
             "ticks": ""
            },
            "type": "choropleth"
           }
          ],
          "contour": [
           {
            "colorbar": {
             "outlinewidth": 0,
             "ticks": ""
            },
            "colorscale": [
             [
              0,
              "#0d0887"
             ],
             [
              0.1111111111111111,
              "#46039f"
             ],
             [
              0.2222222222222222,
              "#7201a8"
             ],
             [
              0.3333333333333333,
              "#9c179e"
             ],
             [
              0.4444444444444444,
              "#bd3786"
             ],
             [
              0.5555555555555556,
              "#d8576b"
             ],
             [
              0.6666666666666666,
              "#ed7953"
             ],
             [
              0.7777777777777778,
              "#fb9f3a"
             ],
             [
              0.8888888888888888,
              "#fdca26"
             ],
             [
              1,
              "#f0f921"
             ]
            ],
            "type": "contour"
           }
          ],
          "contourcarpet": [
           {
            "colorbar": {
             "outlinewidth": 0,
             "ticks": ""
            },
            "type": "contourcarpet"
           }
          ],
          "heatmap": [
           {
            "colorbar": {
             "outlinewidth": 0,
             "ticks": ""
            },
            "colorscale": [
             [
              0,
              "#0d0887"
             ],
             [
              0.1111111111111111,
              "#46039f"
             ],
             [
              0.2222222222222222,
              "#7201a8"
             ],
             [
              0.3333333333333333,
              "#9c179e"
             ],
             [
              0.4444444444444444,
              "#bd3786"
             ],
             [
              0.5555555555555556,
              "#d8576b"
             ],
             [
              0.6666666666666666,
              "#ed7953"
             ],
             [
              0.7777777777777778,
              "#fb9f3a"
             ],
             [
              0.8888888888888888,
              "#fdca26"
             ],
             [
              1,
              "#f0f921"
             ]
            ],
            "type": "heatmap"
           }
          ],
          "heatmapgl": [
           {
            "colorbar": {
             "outlinewidth": 0,
             "ticks": ""
            },
            "colorscale": [
             [
              0,
              "#0d0887"
             ],
             [
              0.1111111111111111,
              "#46039f"
             ],
             [
              0.2222222222222222,
              "#7201a8"
             ],
             [
              0.3333333333333333,
              "#9c179e"
             ],
             [
              0.4444444444444444,
              "#bd3786"
             ],
             [
              0.5555555555555556,
              "#d8576b"
             ],
             [
              0.6666666666666666,
              "#ed7953"
             ],
             [
              0.7777777777777778,
              "#fb9f3a"
             ],
             [
              0.8888888888888888,
              "#fdca26"
             ],
             [
              1,
              "#f0f921"
             ]
            ],
            "type": "heatmapgl"
           }
          ],
          "histogram": [
           {
            "marker": {
             "pattern": {
              "fillmode": "overlay",
              "size": 10,
              "solidity": 0.2
             }
            },
            "type": "histogram"
           }
          ],
          "histogram2d": [
           {
            "colorbar": {
             "outlinewidth": 0,
             "ticks": ""
            },
            "colorscale": [
             [
              0,
              "#0d0887"
             ],
             [
              0.1111111111111111,
              "#46039f"
             ],
             [
              0.2222222222222222,
              "#7201a8"
             ],
             [
              0.3333333333333333,
              "#9c179e"
             ],
             [
              0.4444444444444444,
              "#bd3786"
             ],
             [
              0.5555555555555556,
              "#d8576b"
             ],
             [
              0.6666666666666666,
              "#ed7953"
             ],
             [
              0.7777777777777778,
              "#fb9f3a"
             ],
             [
              0.8888888888888888,
              "#fdca26"
             ],
             [
              1,
              "#f0f921"
             ]
            ],
            "type": "histogram2d"
           }
          ],
          "histogram2dcontour": [
           {
            "colorbar": {
             "outlinewidth": 0,
             "ticks": ""
            },
            "colorscale": [
             [
              0,
              "#0d0887"
             ],
             [
              0.1111111111111111,
              "#46039f"
             ],
             [
              0.2222222222222222,
              "#7201a8"
             ],
             [
              0.3333333333333333,
              "#9c179e"
             ],
             [
              0.4444444444444444,
              "#bd3786"
             ],
             [
              0.5555555555555556,
              "#d8576b"
             ],
             [
              0.6666666666666666,
              "#ed7953"
             ],
             [
              0.7777777777777778,
              "#fb9f3a"
             ],
             [
              0.8888888888888888,
              "#fdca26"
             ],
             [
              1,
              "#f0f921"
             ]
            ],
            "type": "histogram2dcontour"
           }
          ],
          "mesh3d": [
           {
            "colorbar": {
             "outlinewidth": 0,
             "ticks": ""
            },
            "type": "mesh3d"
           }
          ],
          "parcoords": [
           {
            "line": {
             "colorbar": {
              "outlinewidth": 0,
              "ticks": ""
             }
            },
            "type": "parcoords"
           }
          ],
          "pie": [
           {
            "automargin": true,
            "type": "pie"
           }
          ],
          "scatter": [
           {
            "fillpattern": {
             "fillmode": "overlay",
             "size": 10,
             "solidity": 0.2
            },
            "type": "scatter"
           }
          ],
          "scatter3d": [
           {
            "line": {
             "colorbar": {
              "outlinewidth": 0,
              "ticks": ""
             }
            },
            "marker": {
             "colorbar": {
              "outlinewidth": 0,
              "ticks": ""
             }
            },
            "type": "scatter3d"
           }
          ],
          "scattercarpet": [
           {
            "marker": {
             "colorbar": {
              "outlinewidth": 0,
              "ticks": ""
             }
            },
            "type": "scattercarpet"
           }
          ],
          "scattergeo": [
           {
            "marker": {
             "colorbar": {
              "outlinewidth": 0,
              "ticks": ""
             }
            },
            "type": "scattergeo"
           }
          ],
          "scattergl": [
           {
            "marker": {
             "colorbar": {
              "outlinewidth": 0,
              "ticks": ""
             }
            },
            "type": "scattergl"
           }
          ],
          "scattermapbox": [
           {
            "marker": {
             "colorbar": {
              "outlinewidth": 0,
              "ticks": ""
             }
            },
            "type": "scattermapbox"
           }
          ],
          "scatterpolar": [
           {
            "marker": {
             "colorbar": {
              "outlinewidth": 0,
              "ticks": ""
             }
            },
            "type": "scatterpolar"
           }
          ],
          "scatterpolargl": [
           {
            "marker": {
             "colorbar": {
              "outlinewidth": 0,
              "ticks": ""
             }
            },
            "type": "scatterpolargl"
           }
          ],
          "scatterternary": [
           {
            "marker": {
             "colorbar": {
              "outlinewidth": 0,
              "ticks": ""
             }
            },
            "type": "scatterternary"
           }
          ],
          "surface": [
           {
            "colorbar": {
             "outlinewidth": 0,
             "ticks": ""
            },
            "colorscale": [
             [
              0,
              "#0d0887"
             ],
             [
              0.1111111111111111,
              "#46039f"
             ],
             [
              0.2222222222222222,
              "#7201a8"
             ],
             [
              0.3333333333333333,
              "#9c179e"
             ],
             [
              0.4444444444444444,
              "#bd3786"
             ],
             [
              0.5555555555555556,
              "#d8576b"
             ],
             [
              0.6666666666666666,
              "#ed7953"
             ],
             [
              0.7777777777777778,
              "#fb9f3a"
             ],
             [
              0.8888888888888888,
              "#fdca26"
             ],
             [
              1,
              "#f0f921"
             ]
            ],
            "type": "surface"
           }
          ],
          "table": [
           {
            "cells": {
             "fill": {
              "color": "#EBF0F8"
             },
             "line": {
              "color": "white"
             }
            },
            "header": {
             "fill": {
              "color": "#C8D4E3"
             },
             "line": {
              "color": "white"
             }
            },
            "type": "table"
           }
          ]
         },
         "layout": {
          "annotationdefaults": {
           "arrowcolor": "#2a3f5f",
           "arrowhead": 0,
           "arrowwidth": 1
          },
          "autotypenumbers": "strict",
          "coloraxis": {
           "colorbar": {
            "outlinewidth": 0,
            "ticks": ""
           }
          },
          "colorscale": {
           "diverging": [
            [
             0,
             "#8e0152"
            ],
            [
             0.1,
             "#c51b7d"
            ],
            [
             0.2,
             "#de77ae"
            ],
            [
             0.3,
             "#f1b6da"
            ],
            [
             0.4,
             "#fde0ef"
            ],
            [
             0.5,
             "#f7f7f7"
            ],
            [
             0.6,
             "#e6f5d0"
            ],
            [
             0.7,
             "#b8e186"
            ],
            [
             0.8,
             "#7fbc41"
            ],
            [
             0.9,
             "#4d9221"
            ],
            [
             1,
             "#276419"
            ]
           ],
           "sequential": [
            [
             0,
             "#0d0887"
            ],
            [
             0.1111111111111111,
             "#46039f"
            ],
            [
             0.2222222222222222,
             "#7201a8"
            ],
            [
             0.3333333333333333,
             "#9c179e"
            ],
            [
             0.4444444444444444,
             "#bd3786"
            ],
            [
             0.5555555555555556,
             "#d8576b"
            ],
            [
             0.6666666666666666,
             "#ed7953"
            ],
            [
             0.7777777777777778,
             "#fb9f3a"
            ],
            [
             0.8888888888888888,
             "#fdca26"
            ],
            [
             1,
             "#f0f921"
            ]
           ],
           "sequentialminus": [
            [
             0,
             "#0d0887"
            ],
            [
             0.1111111111111111,
             "#46039f"
            ],
            [
             0.2222222222222222,
             "#7201a8"
            ],
            [
             0.3333333333333333,
             "#9c179e"
            ],
            [
             0.4444444444444444,
             "#bd3786"
            ],
            [
             0.5555555555555556,
             "#d8576b"
            ],
            [
             0.6666666666666666,
             "#ed7953"
            ],
            [
             0.7777777777777778,
             "#fb9f3a"
            ],
            [
             0.8888888888888888,
             "#fdca26"
            ],
            [
             1,
             "#f0f921"
            ]
           ]
          },
          "colorway": [
           "#636efa",
           "#EF553B",
           "#00cc96",
           "#ab63fa",
           "#FFA15A",
           "#19d3f3",
           "#FF6692",
           "#B6E880",
           "#FF97FF",
           "#FECB52"
          ],
          "font": {
           "color": "#2a3f5f"
          },
          "geo": {
           "bgcolor": "white",
           "lakecolor": "white",
           "landcolor": "#E5ECF6",
           "showlakes": true,
           "showland": true,
           "subunitcolor": "white"
          },
          "hoverlabel": {
           "align": "left"
          },
          "hovermode": "closest",
          "mapbox": {
           "style": "light"
          },
          "paper_bgcolor": "white",
          "plot_bgcolor": "#E5ECF6",
          "polar": {
           "angularaxis": {
            "gridcolor": "white",
            "linecolor": "white",
            "ticks": ""
           },
           "bgcolor": "#E5ECF6",
           "radialaxis": {
            "gridcolor": "white",
            "linecolor": "white",
            "ticks": ""
           }
          },
          "scene": {
           "xaxis": {
            "backgroundcolor": "#E5ECF6",
            "gridcolor": "white",
            "gridwidth": 2,
            "linecolor": "white",
            "showbackground": true,
            "ticks": "",
            "zerolinecolor": "white"
           },
           "yaxis": {
            "backgroundcolor": "#E5ECF6",
            "gridcolor": "white",
            "gridwidth": 2,
            "linecolor": "white",
            "showbackground": true,
            "ticks": "",
            "zerolinecolor": "white"
           },
           "zaxis": {
            "backgroundcolor": "#E5ECF6",
            "gridcolor": "white",
            "gridwidth": 2,
            "linecolor": "white",
            "showbackground": true,
            "ticks": "",
            "zerolinecolor": "white"
           }
          },
          "shapedefaults": {
           "line": {
            "color": "#2a3f5f"
           }
          },
          "ternary": {
           "aaxis": {
            "gridcolor": "white",
            "linecolor": "white",
            "ticks": ""
           },
           "baxis": {
            "gridcolor": "white",
            "linecolor": "white",
            "ticks": ""
           },
           "bgcolor": "#E5ECF6",
           "caxis": {
            "gridcolor": "white",
            "linecolor": "white",
            "ticks": ""
           }
          },
          "title": {
           "x": 0.05
          },
          "xaxis": {
           "automargin": true,
           "gridcolor": "white",
           "linecolor": "white",
           "ticks": "",
           "title": {
            "standoff": 15
           },
           "zerolinecolor": "white",
           "zerolinewidth": 2
          },
          "yaxis": {
           "automargin": true,
           "gridcolor": "white",
           "linecolor": "white",
           "ticks": "",
           "title": {
            "standoff": 15
           },
           "zerolinecolor": "white",
           "zerolinewidth": 2
          }
         }
        },
        "title": {
         "text": "Training and Testing MSE Loss Over Epochs"
        },
        "xaxis": {
         "title": {
          "text": "Number of Estimators (Epochs)"
         }
        },
        "yaxis": {
         "title": {
          "text": "MSE Loss"
         }
        }
       }
      }
     },
     "metadata": {},
     "output_type": "display_data"
    },
    {
     "data": {
      "image/png": "[encoded data removed]",
      "text/plain": [
       "<Figure size 640x480 with 2 Axes>"
      ]
     },
     "metadata": {},
     "output_type": "display_data"
    }
   ],
   "source": [
    "ada_boost_func(X_train_most,y_train_most,X_test_most,y_test_most)"
   ]
  },
  {
   "cell_type": "markdown",
   "metadata": {},
   "source": [
    "## Random Forest"
   ]
  },
  {
   "cell_type": "markdown",
   "metadata": {},
   "source": [
    "### All features"
   ]
  },
  {
   "cell_type": "code",
   "execution_count": 45,
   "metadata": {},
   "outputs": [
    {
     "name": "stdout",
     "output_type": "stream",
     "text": [
      "                   Column  Feature Importance\n",
      "5            stroke_speed            0.036593\n",
      "0             finish_time            0.028083\n",
      "70  acceleration_y_median            0.022992\n",
      "61      velocity_y_median            0.020465\n",
      "26           jerk_std_dev            0.020260\n",
      "7         velocity_median            0.018271\n",
      "4            relative_NCA            0.017993\n",
      "39         velocity_x_iqr            0.017737\n",
      "34      velocity_x_median            0.017101\n",
      "24              jerk_mean            0.017098\n"
     ]
    }
   ],
   "source": [
    "from sklearn.ensemble import RandomForestClassifier\n",
    "from sklearn.metrics import confusion_matrix, ConfusionMatrixDisplay\n",
    "from sklearn.metrics import mean_squared_error, accuracy_score\n",
    "\n",
    "# Create a RandomForestClassifier\n",
    "n_estimators = 100\n",
    "random_forest = RandomForestClassifier(n_estimators=n_estimators, random_state=42)\n",
    "\n",
    "# Lists to store training and testing losses\n",
    "training_loss = []\n",
    "testing_loss = []\n",
    "\n",
    "# Lists to store training and testing accuracy\n",
    "training_accuracy = []\n",
    "testing_accuracy = []\n",
    "\n",
    "# Train the Random Forest incrementally, capturing training and testing loss at each step\n",
    "for i in range(1, n_estimators + 1):\n",
    "    random_forest.fit(X_train[:i], y_train[:i])  # Incremental training\n",
    "    \n",
    "    # Calculate training accuracy\n",
    "    y_pred_train = random_forest.predict(X_train)\n",
    "    accuracy_train = accuracy_score(y_train, y_pred_train)\n",
    "    # Append training accuracy to the list\n",
    "    training_accuracy.append(accuracy_train)\n",
    "\n",
    "    # Calculate training MSE\n",
    "    mse_train = mean_squared_error(y_train, y_pred_train)\n",
    "    # Append training MSE to the list\n",
    "    training_loss.append(mse_train)\n",
    "    \n",
    "    # Calculate testing accuracy\n",
    "    y_pred_test = random_forest.predict(X_test)\n",
    "    accuracy_test = accuracy_score(y_test, y_pred_test)\n",
    "    # Append testing accuracy to the list\n",
    "    testing_accuracy.append(accuracy_test)\n",
    "\n",
    "    # Calculate testing MSE\n",
    "    mse_test = mean_squared_error(y_test, y_pred_test)\n",
    "    # Append testing MSE to the list\n",
    "    testing_loss.append(mse_test)\n",
    "    \n",
    "\n",
    "# random_forest_history = random_forest.fit(X_train, y_train).estimators_[0].tree_.impurity\n",
    "\n",
    "# Fit the RandomForestClassifier to the training data\n",
    "random_forest.fit(X_train, y_train)\n",
    "\n",
    "# Get feature importances from the Random Forest model\n",
    "rf_feature_importances = random_forest.feature_importances_\n",
    "\n",
    "# Create a DataFrame to display feature importances\n",
    "rf_importance_df = pd.DataFrame({'Column': X.columns, 'Feature Importance': rf_feature_importances})\n",
    "rf_importance_df = rf_importance_df.sort_values(by='Feature Importance', ascending=False)\n",
    "\n",
    "# Display the top N most important columns\n",
    "top_n = 10  # Change this to the number of top features you want to display\n",
    "top_features = rf_importance_df.head(top_n)\n",
    "print(top_features)"
   ]
  },
  {
   "cell_type": "code",
   "execution_count": 46,
   "metadata": {},
   "outputs": [
    {
     "name": "stdout",
     "output_type": "stream",
     "text": [
      "Accuracy (Random Forest): 71.46%\n"
     ]
    }
   ],
   "source": [
    "# Use the trained Random Forest classifier to make predictions on the test data\n",
    "y_pred_rf = random_forest.predict(X_test)\n",
    "\n",
    "# Calculate the accuracy of the Random Forest classifier\n",
    "accuracy_rf = random_forest.score(X_test, y_test)\n",
    "\n",
    "print(\"Accuracy (Random Forest): {:.2f}%\".format(accuracy_rf * 100))"
   ]
  },
  {
   "cell_type": "code",
   "execution_count": 47,
   "metadata": {},
   "outputs": [
    {
     "data": {
      "image/png": "[encoded data removed]",
      "text/plain": [
       "<Figure size 640x480 with 2 Axes>"
      ]
     },
     "metadata": {},
     "output_type": "display_data"
    }
   ],
   "source": [
    "# Create a confusion matrix\n",
    "confusion_rf = confusion_matrix(y_test, y_pred_rf)\n",
    "\n",
    "# Plot the confusion matrix \n",
    "disp_rf = ConfusionMatrixDisplay(confusion_rf, display_labels=random_forest.classes_)\n",
    "disp_rf.plot(cmap='viridis')\n",
    "plt.title('Confusion Matrix (Random Forest)')\n",
    "plt.show()"
   ]
  },
  {
   "cell_type": "code",
   "execution_count": 49,
   "metadata": {},
   "outputs": [
    {
     "data": {
      "application/vnd.plotly.v1+json": {
       "config": {
        "plotlyServerURL": "https://plot.ly"
       },
       "data": [
        {
         "mode": "lines",
         "name": "Training Loss",
         "type": "scatter",
         "x": [
          1,
          2,
          3,
          4,
          5,
          6,
          7,
          8,
          9,
          10,
          11,
          12,
          13,
          14,
          15,
          16,
          17,
          18,
          19,
          20,
          21,
          22,
          23,
          24,
          25,
          26,
          27,
          28,
          29,
          30,
          31,
          32,
          33,
          34,
          35,
          36,
          37,
          38,
          39,
          40,
          41,
          42,
          43,
          44,
          45,
          46,
          47,
          48,
          49,
          50,
          51,
          52,
          53,
          54,
          55,
          56,
          57,
          58,
          59,
          60,
          61,
          62,
          63,
          64,
          65,
          66,
          67,
          68,
          69,
          70,
          71,
          72,
          73,
          74,
          75,
          76,
          77,
          78,
          79,
          80,
          81,
          82,
          83,
          84,
          85,
          86,
          87,
          88,
          89,
          90,
          91,
          92,
          93,
          94,
          95,
          96,
          97,
          98,
          99,
          100
         ],
         "y": [
          0.5676305970149254,
          0.43330223880597013,
          0.4375,
          0.439365671641791,
          0.43097014925373134,
          0.40625,
          0.40298507462686567,
          0.4351679104477612,
          0.4118470149253731,
          0.4291044776119403,
          0.4281716417910448,
          0.42863805970149255,
          0.40625,
          0.41138059701492535,
          0.39225746268656714,
          0.41277985074626866,
          0.4146455223880597,
          0.40578358208955223,
          0.40531716417910446,
          0.4216417910447761,
          0.39225746268656714,
          0.39365671641791045,
          0.39552238805970147,
          0.38386194029850745,
          0.3894589552238806,
          0.37826492537313433,
          0.37919776119402987,
          0.39552238805970147,
          0.3969216417910448,
          0.408115671641791,
          0.3983208955223881,
          0.38992537313432835,
          0.394589552238806,
          0.3917910447761194,
          0.3917910447761194,
          0.39505597014925375,
          0.3917910447761194,
          0.3917910447761194,
          0.37919776119402987,
          0.37080223880597013,
          0.4001865671641791,
          0.40531716417910446,
          0.384794776119403,
          0.39225746268656714,
          0.38386194029850745,
          0.3773320895522388,
          0.3987873134328358,
          0.3833955223880597,
          0.38759328358208955,
          0.4001865671641791,
          0.39925373134328357,
          0.40158582089552236,
          0.3983208955223881,
          0.396455223880597,
          0.384794776119403,
          0.38899253731343286,
          0.39505597014925375,
          0.39738805970149255,
          0.40345149253731344,
          0.3885261194029851,
          0.3675373134328358,
          0.3726679104477612,
          0.3614738805970149,
          0.3829291044776119,
          0.37826492537313433,
          0.38619402985074625,
          0.394589552238806,
          0.38013059701492535,
          0.37826492537313433,
          0.3805970149253731,
          0.38619402985074625,
          0.3917910447761194,
          0.38992537313432835,
          0.39598880597014924,
          0.3969216417910448,
          0.39505597014925375,
          0.4141791044776119,
          0.4141791044776119,
          0.40671641791044777,
          0.4076492537313433,
          0.40718283582089554,
          0.4099813432835821,
          0.41277985074626866,
          0.42117537313432835,
          0.4123134328358209,
          0.4048507462686567,
          0.40205223880597013,
          0.39505597014925375,
          0.3885261194029851,
          0.38619402985074625,
          0.39552238805970147,
          0.386660447761194,
          0.37453358208955223,
          0.37966417910447764,
          0.376865671641791,
          0.3805970149253731,
          0.37406716417910446,
          0.38013059701492535,
          0.3614738805970149,
          0.3810634328358209
         ]
        },
        {
         "mode": "lines",
         "name": "Testing Loss",
         "type": "scatter",
         "x": [
          1,
          2,
          3,
          4,
          5,
          6,
          7,
          8,
          9,
          10,
          11,
          12,
          13,
          14,
          15,
          16,
          17,
          18,
          19,
          20,
          21,
          22,
          23,
          24,
          25,
          26,
          27,
          28,
          29,
          30,
          31,
          32,
          33,
          34,
          35,
          36,
          37,
          38,
          39,
          40,
          41,
          42,
          43,
          44,
          45,
          46,
          47,
          48,
          49,
          50,
          51,
          52,
          53,
          54,
          55,
          56,
          57,
          58,
          59,
          60,
          61,
          62,
          63,
          64,
          65,
          66,
          67,
          68,
          69,
          70,
          71,
          72,
          73,
          74,
          75,
          76,
          77,
          78,
          79,
          80,
          81,
          82,
          83,
          84,
          85,
          86,
          87,
          88,
          89,
          90,
          91,
          92,
          93,
          94,
          95,
          96,
          97,
          98,
          99,
          100
         ],
         "y": [
          0.5652985074626866,
          0.416044776119403,
          0.44402985074626866,
          0.4291044776119403,
          0.43097014925373134,
          0.4048507462686567,
          0.39738805970149255,
          0.41044776119402987,
          0.39552238805970147,
          0.376865671641791,
          0.3880597014925373,
          0.38992537313432835,
          0.3656716417910448,
          0.36007462686567165,
          0.373134328358209,
          0.3787313432835821,
          0.39552238805970147,
          0.34701492537313433,
          0.3787313432835821,
          0.3787313432835821,
          0.3805970149253731,
          0.3712686567164179,
          0.3656716417910448,
          0.35634328358208955,
          0.36380597014925375,
          0.34888059701492535,
          0.3675373134328358,
          0.3805970149253731,
          0.376865671641791,
          0.375,
          0.3656716417910448,
          0.373134328358209,
          0.3787313432835821,
          0.3656716417910448,
          0.3787313432835821,
          0.38619402985074625,
          0.373134328358209,
          0.3694029850746269,
          0.35634328358208955,
          0.3619402985074627,
          0.39738805970149255,
          0.38992537313432835,
          0.3787313432835821,
          0.38619402985074625,
          0.3805970149253731,
          0.3787313432835821,
          0.3843283582089552,
          0.376865671641791,
          0.375,
          0.39738805970149255,
          0.4085820895522388,
          0.417910447761194,
          0.4085820895522388,
          0.40298507462686567,
          0.38619402985074625,
          0.376865671641791,
          0.3805970149253731,
          0.39365671641791045,
          0.40111940298507465,
          0.3843283582089552,
          0.3712686567164179,
          0.36380597014925375,
          0.36380597014925375,
          0.35634328358208955,
          0.36007462686567165,
          0.3656716417910448,
          0.35634328358208955,
          0.3358208955223881,
          0.34888059701492535,
          0.35074626865671643,
          0.36380597014925375,
          0.373134328358209,
          0.3675373134328358,
          0.376865671641791,
          0.39738805970149255,
          0.40111940298507465,
          0.40298507462686567,
          0.39738805970149255,
          0.40671641791044777,
          0.39365671641791045,
          0.40298507462686567,
          0.4085820895522388,
          0.39365671641791045,
          0.40671641791044777,
          0.41044776119402987,
          0.3880597014925373,
          0.39738805970149255,
          0.3843283582089552,
          0.3880597014925373,
          0.3824626865671642,
          0.39552238805970147,
          0.3880597014925373,
          0.376865671641791,
          0.3656716417910448,
          0.373134328358209,
          0.38992537313432835,
          0.3694029850746269,
          0.36007462686567165,
          0.36007462686567165,
          0.38619402985074625
         ]
        }
       ],
       "layout": {
        "template": {
         "data": {
          "bar": [
           {
            "error_x": {
             "color": "#2a3f5f"
            },
            "error_y": {
             "color": "#2a3f5f"
            },
            "marker": {
             "line": {
              "color": "#E5ECF6",
              "width": 0.5
             },
             "pattern": {
              "fillmode": "overlay",
              "size": 10,
              "solidity": 0.2
             }
            },
            "type": "bar"
           }
          ],
          "barpolar": [
           {
            "marker": {
             "line": {
              "color": "#E5ECF6",
              "width": 0.5
             },
             "pattern": {
              "fillmode": "overlay",
              "size": 10,
              "solidity": 0.2
             }
            },
            "type": "barpolar"
           }
          ],
          "carpet": [
           {
            "aaxis": {
             "endlinecolor": "#2a3f5f",
             "gridcolor": "white",
             "linecolor": "white",
             "minorgridcolor": "white",
             "startlinecolor": "#2a3f5f"
            },
            "baxis": {
             "endlinecolor": "#2a3f5f",
             "gridcolor": "white",
             "linecolor": "white",
             "minorgridcolor": "white",
             "startlinecolor": "#2a3f5f"
            },
            "type": "carpet"
           }
          ],
          "choropleth": [
           {
            "colorbar": {
             "outlinewidth": 0,
             "ticks": ""
            },
            "type": "choropleth"
           }
          ],
          "contour": [
           {
            "colorbar": {
             "outlinewidth": 0,
             "ticks": ""
            },
            "colorscale": [
             [
              0,
              "#0d0887"
             ],
             [
              0.1111111111111111,
              "#46039f"
             ],
             [
              0.2222222222222222,
              "#7201a8"
             ],
             [
              0.3333333333333333,
              "#9c179e"
             ],
             [
              0.4444444444444444,
              "#bd3786"
             ],
             [
              0.5555555555555556,
              "#d8576b"
             ],
             [
              0.6666666666666666,
              "#ed7953"
             ],
             [
              0.7777777777777778,
              "#fb9f3a"
             ],
             [
              0.8888888888888888,
              "#fdca26"
             ],
             [
              1,
              "#f0f921"
             ]
            ],
            "type": "contour"
           }
          ],
          "contourcarpet": [
           {
            "colorbar": {
             "outlinewidth": 0,
             "ticks": ""
            },
            "type": "contourcarpet"
           }
          ],
          "heatmap": [
           {
            "colorbar": {
             "outlinewidth": 0,
             "ticks": ""
            },
            "colorscale": [
             [
              0,
              "#0d0887"
             ],
             [
              0.1111111111111111,
              "#46039f"
             ],
             [
              0.2222222222222222,
              "#7201a8"
             ],
             [
              0.3333333333333333,
              "#9c179e"
             ],
             [
              0.4444444444444444,
              "#bd3786"
             ],
             [
              0.5555555555555556,
              "#d8576b"
             ],
             [
              0.6666666666666666,
              "#ed7953"
             ],
             [
              0.7777777777777778,
              "#fb9f3a"
             ],
             [
              0.8888888888888888,
              "#fdca26"
             ],
             [
              1,
              "#f0f921"
             ]
            ],
            "type": "heatmap"
           }
          ],
          "heatmapgl": [
           {
            "colorbar": {
             "outlinewidth": 0,
             "ticks": ""
            },
            "colorscale": [
             [
              0,
              "#0d0887"
             ],
             [
              0.1111111111111111,
              "#46039f"
             ],
             [
              0.2222222222222222,
              "#7201a8"
             ],
             [
              0.3333333333333333,
              "#9c179e"
             ],
             [
              0.4444444444444444,
              "#bd3786"
             ],
             [
              0.5555555555555556,
              "#d8576b"
             ],
             [
              0.6666666666666666,
              "#ed7953"
             ],
             [
              0.7777777777777778,
              "#fb9f3a"
             ],
             [
              0.8888888888888888,
              "#fdca26"
             ],
             [
              1,
              "#f0f921"
             ]
            ],
            "type": "heatmapgl"
           }
          ],
          "histogram": [
           {
            "marker": {
             "pattern": {
              "fillmode": "overlay",
              "size": 10,
              "solidity": 0.2
             }
            },
            "type": "histogram"
           }
          ],
          "histogram2d": [
           {
            "colorbar": {
             "outlinewidth": 0,
             "ticks": ""
            },
            "colorscale": [
             [
              0,
              "#0d0887"
             ],
             [
              0.1111111111111111,
              "#46039f"
             ],
             [
              0.2222222222222222,
              "#7201a8"
             ],
             [
              0.3333333333333333,
              "#9c179e"
             ],
             [
              0.4444444444444444,
              "#bd3786"
             ],
             [
              0.5555555555555556,
              "#d8576b"
             ],
             [
              0.6666666666666666,
              "#ed7953"
             ],
             [
              0.7777777777777778,
              "#fb9f3a"
             ],
             [
              0.8888888888888888,
              "#fdca26"
             ],
             [
              1,
              "#f0f921"
             ]
            ],
            "type": "histogram2d"
           }
          ],
          "histogram2dcontour": [
           {
            "colorbar": {
             "outlinewidth": 0,
             "ticks": ""
            },
            "colorscale": [
             [
              0,
              "#0d0887"
             ],
             [
              0.1111111111111111,
              "#46039f"
             ],
             [
              0.2222222222222222,
              "#7201a8"
             ],
             [
              0.3333333333333333,
              "#9c179e"
             ],
             [
              0.4444444444444444,
              "#bd3786"
             ],
             [
              0.5555555555555556,
              "#d8576b"
             ],
             [
              0.6666666666666666,
              "#ed7953"
             ],
             [
              0.7777777777777778,
              "#fb9f3a"
             ],
             [
              0.8888888888888888,
              "#fdca26"
             ],
             [
              1,
              "#f0f921"
             ]
            ],
            "type": "histogram2dcontour"
           }
          ],
          "mesh3d": [
           {
            "colorbar": {
             "outlinewidth": 0,
             "ticks": ""
            },
            "type": "mesh3d"
           }
          ],
          "parcoords": [
           {
            "line": {
             "colorbar": {
              "outlinewidth": 0,
              "ticks": ""
             }
            },
            "type": "parcoords"
           }
          ],
          "pie": [
           {
            "automargin": true,
            "type": "pie"
           }
          ],
          "scatter": [
           {
            "fillpattern": {
             "fillmode": "overlay",
             "size": 10,
             "solidity": 0.2
            },
            "type": "scatter"
           }
          ],
          "scatter3d": [
           {
            "line": {
             "colorbar": {
              "outlinewidth": 0,
              "ticks": ""
             }
            },
            "marker": {
             "colorbar": {
              "outlinewidth": 0,
              "ticks": ""
             }
            },
            "type": "scatter3d"
           }
          ],
          "scattercarpet": [
           {
            "marker": {
             "colorbar": {
              "outlinewidth": 0,
              "ticks": ""
             }
            },
            "type": "scattercarpet"
           }
          ],
          "scattergeo": [
           {
            "marker": {
             "colorbar": {
              "outlinewidth": 0,
              "ticks": ""
             }
            },
            "type": "scattergeo"
           }
          ],
          "scattergl": [
           {
            "marker": {
             "colorbar": {
              "outlinewidth": 0,
              "ticks": ""
             }
            },
            "type": "scattergl"
           }
          ],
          "scattermapbox": [
           {
            "marker": {
             "colorbar": {
              "outlinewidth": 0,
              "ticks": ""
             }
            },
            "type": "scattermapbox"
           }
          ],
          "scatterpolar": [
           {
            "marker": {
             "colorbar": {
              "outlinewidth": 0,
              "ticks": ""
             }
            },
            "type": "scatterpolar"
           }
          ],
          "scatterpolargl": [
           {
            "marker": {
             "colorbar": {
              "outlinewidth": 0,
              "ticks": ""
             }
            },
            "type": "scatterpolargl"
           }
          ],
          "scatterternary": [
           {
            "marker": {
             "colorbar": {
              "outlinewidth": 0,
              "ticks": ""
             }
            },
            "type": "scatterternary"
           }
          ],
          "surface": [
           {
            "colorbar": {
             "outlinewidth": 0,
             "ticks": ""
            },
            "colorscale": [
             [
              0,
              "#0d0887"
             ],
             [
              0.1111111111111111,
              "#46039f"
             ],
             [
              0.2222222222222222,
              "#7201a8"
             ],
             [
              0.3333333333333333,
              "#9c179e"
             ],
             [
              0.4444444444444444,
              "#bd3786"
             ],
             [
              0.5555555555555556,
              "#d8576b"
             ],
             [
              0.6666666666666666,
              "#ed7953"
             ],
             [
              0.7777777777777778,
              "#fb9f3a"
             ],
             [
              0.8888888888888888,
              "#fdca26"
             ],
             [
              1,
              "#f0f921"
             ]
            ],
            "type": "surface"
           }
          ],
          "table": [
           {
            "cells": {
             "fill": {
              "color": "#EBF0F8"
             },
             "line": {
              "color": "white"
             }
            },
            "header": {
             "fill": {
              "color": "#C8D4E3"
             },
             "line": {
              "color": "white"
             }
            },
            "type": "table"
           }
          ]
         },
         "layout": {
          "annotationdefaults": {
           "arrowcolor": "#2a3f5f",
           "arrowhead": 0,
           "arrowwidth": 1
          },
          "autotypenumbers": "strict",
          "coloraxis": {
           "colorbar": {
            "outlinewidth": 0,
            "ticks": ""
           }
          },
          "colorscale": {
           "diverging": [
            [
             0,
             "#8e0152"
            ],
            [
             0.1,
             "#c51b7d"
            ],
            [
             0.2,
             "#de77ae"
            ],
            [
             0.3,
             "#f1b6da"
            ],
            [
             0.4,
             "#fde0ef"
            ],
            [
             0.5,
             "#f7f7f7"
            ],
            [
             0.6,
             "#e6f5d0"
            ],
            [
             0.7,
             "#b8e186"
            ],
            [
             0.8,
             "#7fbc41"
            ],
            [
             0.9,
             "#4d9221"
            ],
            [
             1,
             "#276419"
            ]
           ],
           "sequential": [
            [
             0,
             "#0d0887"
            ],
            [
             0.1111111111111111,
             "#46039f"
            ],
            [
             0.2222222222222222,
             "#7201a8"
            ],
            [
             0.3333333333333333,
             "#9c179e"
            ],
            [
             0.4444444444444444,
             "#bd3786"
            ],
            [
             0.5555555555555556,
             "#d8576b"
            ],
            [
             0.6666666666666666,
             "#ed7953"
            ],
            [
             0.7777777777777778,
             "#fb9f3a"
            ],
            [
             0.8888888888888888,
             "#fdca26"
            ],
            [
             1,
             "#f0f921"
            ]
           ],
           "sequentialminus": [
            [
             0,
             "#0d0887"
            ],
            [
             0.1111111111111111,
             "#46039f"
            ],
            [
             0.2222222222222222,
             "#7201a8"
            ],
            [
             0.3333333333333333,
             "#9c179e"
            ],
            [
             0.4444444444444444,
             "#bd3786"
            ],
            [
             0.5555555555555556,
             "#d8576b"
            ],
            [
             0.6666666666666666,
             "#ed7953"
            ],
            [
             0.7777777777777778,
             "#fb9f3a"
            ],
            [
             0.8888888888888888,
             "#fdca26"
            ],
            [
             1,
             "#f0f921"
            ]
           ]
          },
          "colorway": [
           "#636efa",
           "#EF553B",
           "#00cc96",
           "#ab63fa",
           "#FFA15A",
           "#19d3f3",
           "#FF6692",
           "#B6E880",
           "#FF97FF",
           "#FECB52"
          ],
          "font": {
           "color": "#2a3f5f"
          },
          "geo": {
           "bgcolor": "white",
           "lakecolor": "white",
           "landcolor": "#E5ECF6",
           "showlakes": true,
           "showland": true,
           "subunitcolor": "white"
          },
          "hoverlabel": {
           "align": "left"
          },
          "hovermode": "closest",
          "mapbox": {
           "style": "light"
          },
          "paper_bgcolor": "white",
          "plot_bgcolor": "#E5ECF6",
          "polar": {
           "angularaxis": {
            "gridcolor": "white",
            "linecolor": "white",
            "ticks": ""
           },
           "bgcolor": "#E5ECF6",
           "radialaxis": {
            "gridcolor": "white",
            "linecolor": "white",
            "ticks": ""
           }
          },
          "scene": {
           "xaxis": {
            "backgroundcolor": "#E5ECF6",
            "gridcolor": "white",
            "gridwidth": 2,
            "linecolor": "white",
            "showbackground": true,
            "ticks": "",
            "zerolinecolor": "white"
           },
           "yaxis": {
            "backgroundcolor": "#E5ECF6",
            "gridcolor": "white",
            "gridwidth": 2,
            "linecolor": "white",
            "showbackground": true,
            "ticks": "",
            "zerolinecolor": "white"
           },
           "zaxis": {
            "backgroundcolor": "#E5ECF6",
            "gridcolor": "white",
            "gridwidth": 2,
            "linecolor": "white",
            "showbackground": true,
            "ticks": "",
            "zerolinecolor": "white"
           }
          },
          "shapedefaults": {
           "line": {
            "color": "#2a3f5f"
           }
          },
          "ternary": {
           "aaxis": {
            "gridcolor": "white",
            "linecolor": "white",
            "ticks": ""
           },
           "baxis": {
            "gridcolor": "white",
            "linecolor": "white",
            "ticks": ""
           },
           "bgcolor": "#E5ECF6",
           "caxis": {
            "gridcolor": "white",
            "linecolor": "white",
            "ticks": ""
           }
          },
          "title": {
           "x": 0.05
          },
          "xaxis": {
           "automargin": true,
           "gridcolor": "white",
           "linecolor": "white",
           "ticks": "",
           "title": {
            "standoff": 15
           },
           "zerolinecolor": "white",
           "zerolinewidth": 2
          },
          "yaxis": {
           "automargin": true,
           "gridcolor": "white",
           "linecolor": "white",
           "ticks": "",
           "title": {
            "standoff": 15
           },
           "zerolinecolor": "white",
           "zerolinewidth": 2
          }
         }
        },
        "title": {
         "text": "Training and Testing Loss Over Epochs"
        },
        "xaxis": {
         "title": {
          "text": "Number of Estimators (Epochs)"
         }
        },
        "yaxis": {
         "title": {
          "text": "MSE"
         }
        }
       }
      }
     },
     "metadata": {},
     "output_type": "display_data"
    }
   ],
   "source": [
    "import plotly.graph_objects as go\n",
    "\n",
    "# Create a line plot for both training and testing MSE using Plotly\n",
    "fig = go.Figure()\n",
    "\n",
    "fig.add_trace(go.Scatter(x=np.arange(1, n_estimators + 1), y=training_loss, mode='lines', name='Training Loss'))\n",
    "fig.add_trace(go.Scatter(x=np.arange(1, n_estimators + 1), y=testing_loss, mode='lines', name='Testing Loss'))\n",
    "\n",
    "fig.update_layout(title='Training and Testing Loss Over Epochs',\n",
    "                  xaxis_title='Number of Estimators (Epochs)',\n",
    "                  yaxis_title='MSE')\n",
    "\n",
    "fig.show()\n"
   ]
  },
  {
   "cell_type": "code",
   "execution_count": 50,
   "metadata": {},
   "outputs": [
    {
     "data": {
      "application/vnd.plotly.v1+json": {
       "config": {
        "plotlyServerURL": "https://plot.ly"
       },
       "data": [
        {
         "mode": "lines",
         "name": "Training Accuracy",
         "type": "scatter",
         "x": [
          1,
          2,
          3,
          4,
          5,
          6,
          7,
          8,
          9,
          10,
          11,
          12,
          13,
          14,
          15,
          16,
          17,
          18,
          19,
          20,
          21,
          22,
          23,
          24,
          25,
          26,
          27,
          28,
          29,
          30,
          31,
          32,
          33,
          34,
          35,
          36,
          37,
          38,
          39,
          40,
          41,
          42,
          43,
          44,
          45,
          46,
          47,
          48,
          49,
          50,
          51,
          52,
          53,
          54,
          55,
          56,
          57,
          58,
          59,
          60,
          61,
          62,
          63,
          64,
          65,
          66,
          67,
          68,
          69,
          70,
          71,
          72,
          73,
          74,
          75,
          76,
          77,
          78,
          79,
          80,
          81,
          82,
          83,
          84,
          85,
          86,
          87,
          88,
          89,
          90,
          91,
          92,
          93,
          94,
          95,
          96,
          97,
          98,
          99,
          100
         ],
         "y": [
          0.43236940298507465,
          0.5666977611940298,
          0.5625,
          0.5606343283582089,
          0.5690298507462687,
          0.59375,
          0.5970149253731343,
          0.5648320895522388,
          0.5881529850746269,
          0.5708955223880597,
          0.5718283582089553,
          0.5713619402985075,
          0.59375,
          0.5886194029850746,
          0.6077425373134329,
          0.5872201492537313,
          0.5853544776119403,
          0.5942164179104478,
          0.5946828358208955,
          0.5783582089552238,
          0.6077425373134329,
          0.6063432835820896,
          0.6044776119402985,
          0.6161380597014925,
          0.6105410447761194,
          0.6217350746268657,
          0.6208022388059702,
          0.6044776119402985,
          0.6030783582089553,
          0.5918843283582089,
          0.601679104477612,
          0.6100746268656716,
          0.605410447761194,
          0.6082089552238806,
          0.6082089552238806,
          0.6049440298507462,
          0.6082089552238806,
          0.6082089552238806,
          0.6208022388059702,
          0.6291977611940298,
          0.5998134328358209,
          0.5946828358208955,
          0.6152052238805971,
          0.6077425373134329,
          0.6161380597014925,
          0.6226679104477612,
          0.6012126865671642,
          0.6166044776119403,
          0.6124067164179104,
          0.5998134328358209,
          0.6007462686567164,
          0.5984141791044776,
          0.601679104477612,
          0.6035447761194029,
          0.6152052238805971,
          0.6110074626865671,
          0.6049440298507462,
          0.6026119402985075,
          0.5965485074626866,
          0.6114738805970149,
          0.6324626865671642,
          0.6273320895522388,
          0.6385261194029851,
          0.617070895522388,
          0.6217350746268657,
          0.6138059701492538,
          0.605410447761194,
          0.6198694029850746,
          0.6217350746268657,
          0.6194029850746269,
          0.6138059701492538,
          0.6082089552238806,
          0.6100746268656716,
          0.6040111940298507,
          0.6030783582089553,
          0.6049440298507462,
          0.585820895522388,
          0.585820895522388,
          0.5932835820895522,
          0.5923507462686567,
          0.5928171641791045,
          0.590018656716418,
          0.5872201492537313,
          0.5788246268656716,
          0.5876865671641791,
          0.5951492537313433,
          0.5979477611940298,
          0.6049440298507462,
          0.6114738805970149,
          0.6138059701492538,
          0.6044776119402985,
          0.613339552238806,
          0.6254664179104478,
          0.6203358208955224,
          0.6231343283582089,
          0.6194029850746269,
          0.6259328358208955,
          0.6198694029850746,
          0.6385261194029851,
          0.6189365671641791
         ]
        },
        {
         "mode": "lines",
         "name": "Testing Accuracy",
         "type": "scatter",
         "x": [
          1,
          2,
          3,
          4,
          5,
          6,
          7,
          8,
          9,
          10,
          11,
          12,
          13,
          14,
          15,
          16,
          17,
          18,
          19,
          20,
          21,
          22,
          23,
          24,
          25,
          26,
          27,
          28,
          29,
          30,
          31,
          32,
          33,
          34,
          35,
          36,
          37,
          38,
          39,
          40,
          41,
          42,
          43,
          44,
          45,
          46,
          47,
          48,
          49,
          50,
          51,
          52,
          53,
          54,
          55,
          56,
          57,
          58,
          59,
          60,
          61,
          62,
          63,
          64,
          65,
          66,
          67,
          68,
          69,
          70,
          71,
          72,
          73,
          74,
          75,
          76,
          77,
          78,
          79,
          80,
          81,
          82,
          83,
          84,
          85,
          86,
          87,
          88,
          89,
          90,
          91,
          92,
          93,
          94,
          95,
          96,
          97,
          98,
          99,
          100
         ],
         "y": [
          0.43470149253731344,
          0.5839552238805971,
          0.5559701492537313,
          0.5708955223880597,
          0.5690298507462687,
          0.5951492537313433,
          0.6026119402985075,
          0.5895522388059702,
          0.6044776119402985,
          0.6231343283582089,
          0.6119402985074627,
          0.6100746268656716,
          0.6343283582089553,
          0.6399253731343284,
          0.6268656716417911,
          0.621268656716418,
          0.6044776119402985,
          0.6529850746268657,
          0.621268656716418,
          0.621268656716418,
          0.6194029850746269,
          0.628731343283582,
          0.6343283582089553,
          0.6436567164179104,
          0.6361940298507462,
          0.6511194029850746,
          0.6324626865671642,
          0.6194029850746269,
          0.6231343283582089,
          0.625,
          0.6343283582089553,
          0.6268656716417911,
          0.621268656716418,
          0.6343283582089553,
          0.621268656716418,
          0.6138059701492538,
          0.6268656716417911,
          0.6305970149253731,
          0.6436567164179104,
          0.6380597014925373,
          0.6026119402985075,
          0.6100746268656716,
          0.621268656716418,
          0.6138059701492538,
          0.6194029850746269,
          0.621268656716418,
          0.6156716417910447,
          0.6231343283582089,
          0.625,
          0.6026119402985075,
          0.5914179104477612,
          0.582089552238806,
          0.5914179104477612,
          0.5970149253731343,
          0.6138059701492538,
          0.6231343283582089,
          0.6194029850746269,
          0.6063432835820896,
          0.5988805970149254,
          0.6156716417910447,
          0.628731343283582,
          0.6361940298507462,
          0.6361940298507462,
          0.6436567164179104,
          0.6399253731343284,
          0.6343283582089553,
          0.6436567164179104,
          0.664179104477612,
          0.6511194029850746,
          0.6492537313432836,
          0.6361940298507462,
          0.6268656716417911,
          0.6324626865671642,
          0.6231343283582089,
          0.6026119402985075,
          0.5988805970149254,
          0.5970149253731343,
          0.6026119402985075,
          0.5932835820895522,
          0.6063432835820896,
          0.5970149253731343,
          0.5914179104477612,
          0.6063432835820896,
          0.5932835820895522,
          0.5895522388059702,
          0.6119402985074627,
          0.6026119402985075,
          0.6156716417910447,
          0.6119402985074627,
          0.6175373134328358,
          0.6044776119402985,
          0.6119402985074627,
          0.6231343283582089,
          0.6343283582089553,
          0.6268656716417911,
          0.6100746268656716,
          0.6305970149253731,
          0.6399253731343284,
          0.6399253731343284,
          0.6138059701492538
         ]
        }
       ],
       "layout": {
        "template": {
         "data": {
          "bar": [
           {
            "error_x": {
             "color": "#2a3f5f"
            },
            "error_y": {
             "color": "#2a3f5f"
            },
            "marker": {
             "line": {
              "color": "#E5ECF6",
              "width": 0.5
             },
             "pattern": {
              "fillmode": "overlay",
              "size": 10,
              "solidity": 0.2
             }
            },
            "type": "bar"
           }
          ],
          "barpolar": [
           {
            "marker": {
             "line": {
              "color": "#E5ECF6",
              "width": 0.5
             },
             "pattern": {
              "fillmode": "overlay",
              "size": 10,
              "solidity": 0.2
             }
            },
            "type": "barpolar"
           }
          ],
          "carpet": [
           {
            "aaxis": {
             "endlinecolor": "#2a3f5f",
             "gridcolor": "white",
             "linecolor": "white",
             "minorgridcolor": "white",
             "startlinecolor": "#2a3f5f"
            },
            "baxis": {
             "endlinecolor": "#2a3f5f",
             "gridcolor": "white",
             "linecolor": "white",
             "minorgridcolor": "white",
             "startlinecolor": "#2a3f5f"
            },
            "type": "carpet"
           }
          ],
          "choropleth": [
           {
            "colorbar": {
             "outlinewidth": 0,
             "ticks": ""
            },
            "type": "choropleth"
           }
          ],
          "contour": [
           {
            "colorbar": {
             "outlinewidth": 0,
             "ticks": ""
            },
            "colorscale": [
             [
              0,
              "#0d0887"
             ],
             [
              0.1111111111111111,
              "#46039f"
             ],
             [
              0.2222222222222222,
              "#7201a8"
             ],
             [
              0.3333333333333333,
              "#9c179e"
             ],
             [
              0.4444444444444444,
              "#bd3786"
             ],
             [
              0.5555555555555556,
              "#d8576b"
             ],
             [
              0.6666666666666666,
              "#ed7953"
             ],
             [
              0.7777777777777778,
              "#fb9f3a"
             ],
             [
              0.8888888888888888,
              "#fdca26"
             ],
             [
              1,
              "#f0f921"
             ]
            ],
            "type": "contour"
           }
          ],
          "contourcarpet": [
           {
            "colorbar": {
             "outlinewidth": 0,
             "ticks": ""
            },
            "type": "contourcarpet"
           }
          ],
          "heatmap": [
           {
            "colorbar": {
             "outlinewidth": 0,
             "ticks": ""
            },
            "colorscale": [
             [
              0,
              "#0d0887"
             ],
             [
              0.1111111111111111,
              "#46039f"
             ],
             [
              0.2222222222222222,
              "#7201a8"
             ],
             [
              0.3333333333333333,
              "#9c179e"
             ],
             [
              0.4444444444444444,
              "#bd3786"
             ],
             [
              0.5555555555555556,
              "#d8576b"
             ],
             [
              0.6666666666666666,
              "#ed7953"
             ],
             [
              0.7777777777777778,
              "#fb9f3a"
             ],
             [
              0.8888888888888888,
              "#fdca26"
             ],
             [
              1,
              "#f0f921"
             ]
            ],
            "type": "heatmap"
           }
          ],
          "heatmapgl": [
           {
            "colorbar": {
             "outlinewidth": 0,
             "ticks": ""
            },
            "colorscale": [
             [
              0,
              "#0d0887"
             ],
             [
              0.1111111111111111,
              "#46039f"
             ],
             [
              0.2222222222222222,
              "#7201a8"
             ],
             [
              0.3333333333333333,
              "#9c179e"
             ],
             [
              0.4444444444444444,
              "#bd3786"
             ],
             [
              0.5555555555555556,
              "#d8576b"
             ],
             [
              0.6666666666666666,
              "#ed7953"
             ],
             [
              0.7777777777777778,
              "#fb9f3a"
             ],
             [
              0.8888888888888888,
              "#fdca26"
             ],
             [
              1,
              "#f0f921"
             ]
            ],
            "type": "heatmapgl"
           }
          ],
          "histogram": [
           {
            "marker": {
             "pattern": {
              "fillmode": "overlay",
              "size": 10,
              "solidity": 0.2
             }
            },
            "type": "histogram"
           }
          ],
          "histogram2d": [
           {
            "colorbar": {
             "outlinewidth": 0,
             "ticks": ""
            },
            "colorscale": [
             [
              0,
              "#0d0887"
             ],
             [
              0.1111111111111111,
              "#46039f"
             ],
             [
              0.2222222222222222,
              "#7201a8"
             ],
             [
              0.3333333333333333,
              "#9c179e"
             ],
             [
              0.4444444444444444,
              "#bd3786"
             ],
             [
              0.5555555555555556,
              "#d8576b"
             ],
             [
              0.6666666666666666,
              "#ed7953"
             ],
             [
              0.7777777777777778,
              "#fb9f3a"
             ],
             [
              0.8888888888888888,
              "#fdca26"
             ],
             [
              1,
              "#f0f921"
             ]
            ],
            "type": "histogram2d"
           }
          ],
          "histogram2dcontour": [
           {
            "colorbar": {
             "outlinewidth": 0,
             "ticks": ""
            },
            "colorscale": [
             [
              0,
              "#0d0887"
             ],
             [
              0.1111111111111111,
              "#46039f"
             ],
             [
              0.2222222222222222,
              "#7201a8"
             ],
             [
              0.3333333333333333,
              "#9c179e"
             ],
             [
              0.4444444444444444,
              "#bd3786"
             ],
             [
              0.5555555555555556,
              "#d8576b"
             ],
             [
              0.6666666666666666,
              "#ed7953"
             ],
             [
              0.7777777777777778,
              "#fb9f3a"
             ],
             [
              0.8888888888888888,
              "#fdca26"
             ],
             [
              1,
              "#f0f921"
             ]
            ],
            "type": "histogram2dcontour"
           }
          ],
          "mesh3d": [
           {
            "colorbar": {
             "outlinewidth": 0,
             "ticks": ""
            },
            "type": "mesh3d"
           }
          ],
          "parcoords": [
           {
            "line": {
             "colorbar": {
              "outlinewidth": 0,
              "ticks": ""
             }
            },
            "type": "parcoords"
           }
          ],
          "pie": [
           {
            "automargin": true,
            "type": "pie"
           }
          ],
          "scatter": [
           {
            "fillpattern": {
             "fillmode": "overlay",
             "size": 10,
             "solidity": 0.2
            },
            "type": "scatter"
           }
          ],
          "scatter3d": [
           {
            "line": {
             "colorbar": {
              "outlinewidth": 0,
              "ticks": ""
             }
            },
            "marker": {
             "colorbar": {
              "outlinewidth": 0,
              "ticks": ""
             }
            },
            "type": "scatter3d"
           }
          ],
          "scattercarpet": [
           {
            "marker": {
             "colorbar": {
              "outlinewidth": 0,
              "ticks": ""
             }
            },
            "type": "scattercarpet"
           }
          ],
          "scattergeo": [
           {
            "marker": {
             "colorbar": {
              "outlinewidth": 0,
              "ticks": ""
             }
            },
            "type": "scattergeo"
           }
          ],
          "scattergl": [
           {
            "marker": {
             "colorbar": {
              "outlinewidth": 0,
              "ticks": ""
             }
            },
            "type": "scattergl"
           }
          ],
          "scattermapbox": [
           {
            "marker": {
             "colorbar": {
              "outlinewidth": 0,
              "ticks": ""
             }
            },
            "type": "scattermapbox"
           }
          ],
          "scatterpolar": [
           {
            "marker": {
             "colorbar": {
              "outlinewidth": 0,
              "ticks": ""
             }
            },
            "type": "scatterpolar"
           }
          ],
          "scatterpolargl": [
           {
            "marker": {
             "colorbar": {
              "outlinewidth": 0,
              "ticks": ""
             }
            },
            "type": "scatterpolargl"
           }
          ],
          "scatterternary": [
           {
            "marker": {
             "colorbar": {
              "outlinewidth": 0,
              "ticks": ""
             }
            },
            "type": "scatterternary"
           }
          ],
          "surface": [
           {
            "colorbar": {
             "outlinewidth": 0,
             "ticks": ""
            },
            "colorscale": [
             [
              0,
              "#0d0887"
             ],
             [
              0.1111111111111111,
              "#46039f"
             ],
             [
              0.2222222222222222,
              "#7201a8"
             ],
             [
              0.3333333333333333,
              "#9c179e"
             ],
             [
              0.4444444444444444,
              "#bd3786"
             ],
             [
              0.5555555555555556,
              "#d8576b"
             ],
             [
              0.6666666666666666,
              "#ed7953"
             ],
             [
              0.7777777777777778,
              "#fb9f3a"
             ],
             [
              0.8888888888888888,
              "#fdca26"
             ],
             [
              1,
              "#f0f921"
             ]
            ],
            "type": "surface"
           }
          ],
          "table": [
           {
            "cells": {
             "fill": {
              "color": "#EBF0F8"
             },
             "line": {
              "color": "white"
             }
            },
            "header": {
             "fill": {
              "color": "#C8D4E3"
             },
             "line": {
              "color": "white"
             }
            },
            "type": "table"
           }
          ]
         },
         "layout": {
          "annotationdefaults": {
           "arrowcolor": "#2a3f5f",
           "arrowhead": 0,
           "arrowwidth": 1
          },
          "autotypenumbers": "strict",
          "coloraxis": {
           "colorbar": {
            "outlinewidth": 0,
            "ticks": ""
           }
          },
          "colorscale": {
           "diverging": [
            [
             0,
             "#8e0152"
            ],
            [
             0.1,
             "#c51b7d"
            ],
            [
             0.2,
             "#de77ae"
            ],
            [
             0.3,
             "#f1b6da"
            ],
            [
             0.4,
             "#fde0ef"
            ],
            [
             0.5,
             "#f7f7f7"
            ],
            [
             0.6,
             "#e6f5d0"
            ],
            [
             0.7,
             "#b8e186"
            ],
            [
             0.8,
             "#7fbc41"
            ],
            [
             0.9,
             "#4d9221"
            ],
            [
             1,
             "#276419"
            ]
           ],
           "sequential": [
            [
             0,
             "#0d0887"
            ],
            [
             0.1111111111111111,
             "#46039f"
            ],
            [
             0.2222222222222222,
             "#7201a8"
            ],
            [
             0.3333333333333333,
             "#9c179e"
            ],
            [
             0.4444444444444444,
             "#bd3786"
            ],
            [
             0.5555555555555556,
             "#d8576b"
            ],
            [
             0.6666666666666666,
             "#ed7953"
            ],
            [
             0.7777777777777778,
             "#fb9f3a"
            ],
            [
             0.8888888888888888,
             "#fdca26"
            ],
            [
             1,
             "#f0f921"
            ]
           ],
           "sequentialminus": [
            [
             0,
             "#0d0887"
            ],
            [
             0.1111111111111111,
             "#46039f"
            ],
            [
             0.2222222222222222,
             "#7201a8"
            ],
            [
             0.3333333333333333,
             "#9c179e"
            ],
            [
             0.4444444444444444,
             "#bd3786"
            ],
            [
             0.5555555555555556,
             "#d8576b"
            ],
            [
             0.6666666666666666,
             "#ed7953"
            ],
            [
             0.7777777777777778,
             "#fb9f3a"
            ],
            [
             0.8888888888888888,
             "#fdca26"
            ],
            [
             1,
             "#f0f921"
            ]
           ]
          },
          "colorway": [
           "#636efa",
           "#EF553B",
           "#00cc96",
           "#ab63fa",
           "#FFA15A",
           "#19d3f3",
           "#FF6692",
           "#B6E880",
           "#FF97FF",
           "#FECB52"
          ],
          "font": {
           "color": "#2a3f5f"
          },
          "geo": {
           "bgcolor": "white",
           "lakecolor": "white",
           "landcolor": "#E5ECF6",
           "showlakes": true,
           "showland": true,
           "subunitcolor": "white"
          },
          "hoverlabel": {
           "align": "left"
          },
          "hovermode": "closest",
          "mapbox": {
           "style": "light"
          },
          "paper_bgcolor": "white",
          "plot_bgcolor": "#E5ECF6",
          "polar": {
           "angularaxis": {
            "gridcolor": "white",
            "linecolor": "white",
            "ticks": ""
           },
           "bgcolor": "#E5ECF6",
           "radialaxis": {
            "gridcolor": "white",
            "linecolor": "white",
            "ticks": ""
           }
          },
          "scene": {
           "xaxis": {
            "backgroundcolor": "#E5ECF6",
            "gridcolor": "white",
            "gridwidth": 2,
            "linecolor": "white",
            "showbackground": true,
            "ticks": "",
            "zerolinecolor": "white"
           },
           "yaxis": {
            "backgroundcolor": "#E5ECF6",
            "gridcolor": "white",
            "gridwidth": 2,
            "linecolor": "white",
            "showbackground": true,
            "ticks": "",
            "zerolinecolor": "white"
           },
           "zaxis": {
            "backgroundcolor": "#E5ECF6",
            "gridcolor": "white",
            "gridwidth": 2,
            "linecolor": "white",
            "showbackground": true,
            "ticks": "",
            "zerolinecolor": "white"
           }
          },
          "shapedefaults": {
           "line": {
            "color": "#2a3f5f"
           }
          },
          "ternary": {
           "aaxis": {
            "gridcolor": "white",
            "linecolor": "white",
            "ticks": ""
           },
           "baxis": {
            "gridcolor": "white",
            "linecolor": "white",
            "ticks": ""
           },
           "bgcolor": "#E5ECF6",
           "caxis": {
            "gridcolor": "white",
            "linecolor": "white",
            "ticks": ""
           }
          },
          "title": {
           "x": 0.05
          },
          "xaxis": {
           "automargin": true,
           "gridcolor": "white",
           "linecolor": "white",
           "ticks": "",
           "title": {
            "standoff": 15
           },
           "zerolinecolor": "white",
           "zerolinewidth": 2
          },
          "yaxis": {
           "automargin": true,
           "gridcolor": "white",
           "linecolor": "white",
           "ticks": "",
           "title": {
            "standoff": 15
           },
           "zerolinecolor": "white",
           "zerolinewidth": 2
          }
         }
        },
        "title": {
         "text": "Training and Testing Accuracy Over Epochs"
        },
        "xaxis": {
         "title": {
          "text": "Number of Estimators (Epochs)"
         }
        },
        "yaxis": {
         "title": {
          "text": "Accuracy"
         }
        }
       }
      }
     },
     "metadata": {},
     "output_type": "display_data"
    }
   ],
   "source": [
    "# Create a line plot for both training and testing accuracy using Plotly\n",
    "fig = go.Figure()\n",
    "\n",
    "fig.add_trace(go.Scatter(x=np.arange(1, n_estimators + 1), y=training_accuracy, mode='lines', name='Training Accuracy'))\n",
    "fig.add_trace(go.Scatter(x=np.arange(1, n_estimators + 1), y=testing_accuracy, mode='lines', name='Testing Accuracy'))\n",
    "\n",
    "fig.update_layout(title='Training and Testing Accuracy Over Epochs',\n",
    "                  xaxis_title='Number of Estimators (Epochs)',\n",
    "                  yaxis_title='Accuracy')\n",
    "\n",
    "fig.show()"
   ]
  },
  {
   "cell_type": "markdown",
   "metadata": {},
   "source": [
    "### 25 features with Recursive Feature Extraction"
   ]
  },
  {
   "cell_type": "code",
   "execution_count": 59,
   "metadata": {},
   "outputs": [
    {
     "data": {
      "text/html": [
       "<style>#sk-container-id-2 {color: black;}#sk-container-id-2 pre{padding: 0;}#sk-container-id-2 div.sk-toggleable {background-color: white;}#sk-container-id-2 label.sk-toggleable__label {cursor: pointer;display: block;width: 100%;margin-bottom: 0;padding: 0.3em;box-sizing: border-box;text-align: center;}#sk-container-id-2 label.sk-toggleable__label-arrow:before {content: \"▸\";float: left;margin-right: 0.25em;color: #696969;}#sk-container-id-2 label.sk-toggleable__label-arrow:hover:before {color: black;}#sk-container-id-2 div.sk-estimator:hover label.sk-toggleable__label-arrow:before {color: black;}#sk-container-id-2 div.sk-toggleable__content {max-height: 0;max-width: 0;overflow: hidden;text-align: left;background-color: #f0f8ff;}#sk-container-id-2 div.sk-toggleable__content pre {margin: 0.2em;color: black;border-radius: 0.25em;background-color: #f0f8ff;}#sk-container-id-2 input.sk-toggleable__control:checked~div.sk-toggleable__content {max-height: 200px;max-width: 100%;overflow: auto;}#sk-container-id-2 input.sk-toggleable__control:checked~label.sk-toggleable__label-arrow:before {content: \"▾\";}#sk-container-id-2 div.sk-estimator input.sk-toggleable__control:checked~label.sk-toggleable__label {background-color: #d4ebff;}#sk-container-id-2 div.sk-label input.sk-toggleable__control:checked~label.sk-toggleable__label {background-color: #d4ebff;}#sk-container-id-2 input.sk-hidden--visually {border: 0;clip: rect(1px 1px 1px 1px);clip: rect(1px, 1px, 1px, 1px);height: 1px;margin: -1px;overflow: hidden;padding: 0;position: absolute;width: 1px;}#sk-container-id-2 div.sk-estimator {font-family: monospace;background-color: #f0f8ff;border: 1px dotted black;border-radius: 0.25em;box-sizing: border-box;margin-bottom: 0.5em;}#sk-container-id-2 div.sk-estimator:hover {background-color: #d4ebff;}#sk-container-id-2 div.sk-parallel-item::after {content: \"\";width: 100%;border-bottom: 1px solid gray;flex-grow: 1;}#sk-container-id-2 div.sk-label:hover label.sk-toggleable__label {background-color: #d4ebff;}#sk-container-id-2 div.sk-serial::before {content: \"\";position: absolute;border-left: 1px solid gray;box-sizing: border-box;top: 0;bottom: 0;left: 50%;z-index: 0;}#sk-container-id-2 div.sk-serial {display: flex;flex-direction: column;align-items: center;background-color: white;padding-right: 0.2em;padding-left: 0.2em;position: relative;}#sk-container-id-2 div.sk-item {position: relative;z-index: 1;}#sk-container-id-2 div.sk-parallel {display: flex;align-items: stretch;justify-content: center;background-color: white;position: relative;}#sk-container-id-2 div.sk-item::before, #sk-container-id-2 div.sk-parallel-item::before {content: \"\";position: absolute;border-left: 1px solid gray;box-sizing: border-box;top: 0;bottom: 0;left: 50%;z-index: -1;}#sk-container-id-2 div.sk-parallel-item {display: flex;flex-direction: column;z-index: 1;position: relative;background-color: white;}#sk-container-id-2 div.sk-parallel-item:first-child::after {align-self: flex-end;width: 50%;}#sk-container-id-2 div.sk-parallel-item:last-child::after {align-self: flex-start;width: 50%;}#sk-container-id-2 div.sk-parallel-item:only-child::after {width: 0;}#sk-container-id-2 div.sk-dashed-wrapped {border: 1px dashed gray;margin: 0 0.4em 0.5em 0.4em;box-sizing: border-box;padding-bottom: 0.4em;background-color: white;}#sk-container-id-2 div.sk-label label {font-family: monospace;font-weight: bold;display: inline-block;line-height: 1.2em;}#sk-container-id-2 div.sk-label-container {text-align: center;}#sk-container-id-2 div.sk-container {/* jupyter's `normalize.less` sets `[hidden] { display: none; }` but bootstrap.min.css set `[hidden] { display: none !important; }` so we also need the `!important` here to be able to override the default hidden behavior on the sphinx rendered scikit-learn.org. See: https://github.com/scikit-learn/scikit-learn/issues/21755 */display: inline-block !important;position: relative;}#sk-container-id-2 div.sk-text-repr-fallback {display: none;}</style><div id=\"sk-container-id-2\" class=\"sk-top-container\"><div class=\"sk-text-repr-fallback\"><pre>RandomForestClassifier(random_state=42)</pre><b>In a Jupyter environment, please rerun this cell to show the HTML representation or trust the notebook. <br />On GitHub, the HTML representation is unable to render, please try loading this page with nbviewer.org.</b></div><div class=\"sk-container\" hidden><div class=\"sk-item\"><div class=\"sk-estimator sk-toggleable\"><input class=\"sk-toggleable__control sk-hidden--visually\" id=\"sk-estimator-id-2\" type=\"checkbox\" checked><label for=\"sk-estimator-id-2\" class=\"sk-toggleable__label sk-toggleable__label-arrow\">RandomForestClassifier</label><div class=\"sk-toggleable__content\"><pre>RandomForestClassifier(random_state=42)</pre></div></div></div></div></div>"
      ],
      "text/plain": [
       "RandomForestClassifier(random_state=42)"
      ]
     },
     "execution_count": 59,
     "metadata": {},
     "output_type": "execute_result"
    }
   ],
   "source": [
    "# Create a RandomForestClassifier\n",
    "n_estimators = 100\n",
    "random_forest_most = RandomForestClassifier(n_estimators=n_estimators, random_state=42)\n",
    "\n",
    "# Lists to store training and testing losses\n",
    "training_loss = []\n",
    "testing_loss = []\n",
    "\n",
    "# Lists to store training and testing accuracy\n",
    "training_accuracy = []\n",
    "testing_accuracy = []\n",
    "\n",
    "# Train the Random Forest incrementally, capturing training and testing loss at each step\n",
    "for i in range(1, n_estimators + 1):\n",
    "    random_forest_most.fit(X_train_most[:i], y_train_most[:i])  # Incremental training\n",
    "    \n",
    "    # Calculate training accuracy\n",
    "    y_pred_train = random_forest_most.predict(X_train_most)\n",
    "    accuracy_train = accuracy_score(y_train_most, y_pred_train)\n",
    "    # Append training accuracy to the list\n",
    "    training_accuracy.append(accuracy_train)\n",
    "\n",
    "    # Calculate training MSE\n",
    "    mse_train = mean_squared_error(y_train, y_pred_train)\n",
    "    # Append training MSE to the list\n",
    "    training_loss.append(mse_train)\n",
    "    \n",
    "    # Calculate testing accuracy\n",
    "    y_pred_test = random_forest_most.predict(X_test_most)\n",
    "    accuracy_test = accuracy_score(y_test_most, y_pred_test)\n",
    "    # Append testing accuracy to the list\n",
    "    testing_accuracy.append(accuracy_test)\n",
    "\n",
    "    # Calculate testing MSE\n",
    "    mse_test = mean_squared_error(y_test_most, y_pred_test)\n",
    "    # Append testing MSE to the list\n",
    "    testing_loss.append(mse_test)\n",
    "    \n",
    "\n",
    "# random_forest_history = random_forest.fit(X_train, y_train).estimators_[0].tree_.impurity\n",
    "\n",
    "# Fit the RandomForestClassifier to the training data\n",
    "random_forest_most.fit(X_train_most, y_train_most)"
   ]
  },
  {
   "cell_type": "code",
   "execution_count": 60,
   "metadata": {},
   "outputs": [
    {
     "name": "stdout",
     "output_type": "stream",
     "text": [
      "Accuracy (Random Forest): 72.39%\n"
     ]
    }
   ],
   "source": [
    "# Use the trained Random Forest classifier to make predictions on the test data\n",
    "y_pred_rf = random_forest_most.predict(X_test_most)\n",
    "\n",
    "# Calculate the accuracy of the Random Forest classifier\n",
    "accuracy_rf = random_forest_most.score(X_test_most, y_test_most)\n",
    "\n",
    "print(\"Accuracy (Random Forest): {:.2f}%\".format(accuracy_rf * 100))"
   ]
  },
  {
   "cell_type": "code",
   "execution_count": 61,
   "metadata": {},
   "outputs": [
    {
     "data": {
      "image/png": "[encoded data removed]",
      "text/plain": [
       "<Figure size 640x480 with 2 Axes>"
      ]
     },
     "metadata": {},
     "output_type": "display_data"
    },
    {
     "data": {
      "application/vnd.plotly.v1+json": {
       "config": {
        "plotlyServerURL": "https://plot.ly"
       },
       "data": [
        {
         "mode": "lines",
         "name": "Training Loss",
         "type": "scatter",
         "x": [
          1,
          2,
          3,
          4,
          5,
          6,
          7,
          8,
          9,
          10,
          11,
          12,
          13,
          14,
          15,
          16,
          17,
          18,
          19,
          20,
          21,
          22,
          23,
          24,
          25,
          26,
          27,
          28,
          29,
          30,
          31,
          32,
          33,
          34,
          35,
          36,
          37,
          38,
          39,
          40,
          41,
          42,
          43,
          44,
          45,
          46,
          47,
          48,
          49,
          50,
          51,
          52,
          53,
          54,
          55,
          56,
          57,
          58,
          59,
          60,
          61,
          62,
          63,
          64,
          65,
          66,
          67,
          68,
          69,
          70,
          71,
          72,
          73,
          74,
          75,
          76,
          77,
          78,
          79,
          80,
          81,
          82,
          83,
          84,
          85,
          86,
          87,
          88,
          89,
          90,
          91,
          92,
          93,
          94,
          95,
          96,
          97,
          98,
          99,
          100
         ],
         "y": [
          0.5676305970149254,
          0.44029850746268656,
          0.4361007462686567,
          0.43097014925373134,
          0.4300373134328358,
          0.40345149253731344,
          0.3978544776119403,
          0.4123134328358209,
          0.40158582089552236,
          0.4155783582089552,
          0.425839552238806,
          0.42863805970149255,
          0.41744402985074625,
          0.4183768656716418,
          0.39552238805970147,
          0.41511194029850745,
          0.43843283582089554,
          0.4193097014925373,
          0.4244402985074627,
          0.44029850746268656,
          0.42024253731343286,
          0.4146455223880597,
          0.40205223880597013,
          0.40625,
          0.40205223880597013,
          0.3917910447761194,
          0.40345149253731344,
          0.40578358208955223,
          0.40904850746268656,
          0.417910447761194,
          0.404384328358209,
          0.41091417910447764,
          0.416044776119403,
          0.41511194029850745,
          0.4155783582089552,
          0.41511194029850745,
          0.40578358208955223,
          0.40205223880597013,
          0.4048507462686567,
          0.39225746268656714,
          0.4155783582089552,
          0.3927238805970149,
          0.40158582089552236,
          0.39552238805970147,
          0.394589552238806,
          0.3983208955223881,
          0.3987873134328358,
          0.40718283582089554,
          0.39738805970149255,
          0.394589552238806,
          0.38992537313432835,
          0.4001865671641791,
          0.396455223880597,
          0.38526119402985076,
          0.3843283582089552,
          0.36380597014925375,
          0.3829291044776119,
          0.396455223880597,
          0.38759328358208955,
          0.38152985074626866,
          0.38152985074626866,
          0.3880597014925373,
          0.3763992537313433,
          0.38199626865671643,
          0.37220149253731344,
          0.3712686567164179,
          0.36847014925373134,
          0.37546641791044777,
          0.37080223880597013,
          0.384794776119403,
          0.37453358208955223,
          0.38759328358208955,
          0.3885261194029851,
          0.38199626865671643,
          0.37779850746268656,
          0.40951492537313433,
          0.3894589552238806,
          0.3773320895522388,
          0.3843283582089552,
          0.3843283582089552,
          0.3833955223880597,
          0.3712686567164179,
          0.363339552238806,
          0.36800373134328357,
          0.37779850746268656,
          0.37173507462686567,
          0.3736007462686567,
          0.35867537313432835,
          0.3591417910447761,
          0.35774253731343286,
          0.353544776119403,
          0.34841417910447764,
          0.3460820895522388,
          0.3516791044776119,
          0.34841417910447764,
          0.3474813432835821,
          0.341884328358209,
          0.3423507462686567,
          0.36380597014925375,
          0.35634328358208955
         ]
        },
        {
         "mode": "lines",
         "name": "Testing Loss",
         "type": "scatter",
         "x": [
          1,
          2,
          3,
          4,
          5,
          6,
          7,
          8,
          9,
          10,
          11,
          12,
          13,
          14,
          15,
          16,
          17,
          18,
          19,
          20,
          21,
          22,
          23,
          24,
          25,
          26,
          27,
          28,
          29,
          30,
          31,
          32,
          33,
          34,
          35,
          36,
          37,
          38,
          39,
          40,
          41,
          42,
          43,
          44,
          45,
          46,
          47,
          48,
          49,
          50,
          51,
          52,
          53,
          54,
          55,
          56,
          57,
          58,
          59,
          60,
          61,
          62,
          63,
          64,
          65,
          66,
          67,
          68,
          69,
          70,
          71,
          72,
          73,
          74,
          75,
          76,
          77,
          78,
          79,
          80,
          81,
          82,
          83,
          84,
          85,
          86,
          87,
          88,
          89,
          90,
          91,
          92,
          93,
          94,
          95,
          96,
          97,
          98,
          99,
          100
         ],
         "y": [
          0.5652985074626866,
          0.44029850746268656,
          0.44216417910447764,
          0.43283582089552236,
          0.417910447761194,
          0.3787313432835821,
          0.3712686567164179,
          0.4048507462686567,
          0.3787313432835821,
          0.3880597014925373,
          0.3787313432835821,
          0.38619402985074625,
          0.36007462686567165,
          0.36380597014925375,
          0.35447761194029853,
          0.373134328358209,
          0.4141791044776119,
          0.3824626865671642,
          0.39365671641791045,
          0.3917910447761194,
          0.35634328358208955,
          0.36380597014925375,
          0.3675373134328358,
          0.36007462686567165,
          0.3656716417910448,
          0.34701492537313433,
          0.373134328358209,
          0.40111940298507465,
          0.3917910447761194,
          0.38992537313432835,
          0.3712686567164179,
          0.375,
          0.3805970149253731,
          0.3656716417910448,
          0.3712686567164179,
          0.3694029850746269,
          0.3619402985074627,
          0.3619402985074627,
          0.3675373134328358,
          0.35074626865671643,
          0.3694029850746269,
          0.34701492537313433,
          0.35447761194029853,
          0.375,
          0.3582089552238806,
          0.373134328358209,
          0.36007462686567165,
          0.376865671641791,
          0.3582089552238806,
          0.3656716417910448,
          0.35261194029850745,
          0.36380597014925375,
          0.3805970149253731,
          0.3675373134328358,
          0.36380597014925375,
          0.35261194029850745,
          0.3843283582089552,
          0.38619402985074625,
          0.3656716417910448,
          0.36380597014925375,
          0.3656716417910448,
          0.3843283582089552,
          0.34888059701492535,
          0.35447761194029853,
          0.3414179104477612,
          0.3358208955223881,
          0.33955223880597013,
          0.3376865671641791,
          0.3358208955223881,
          0.373134328358209,
          0.3694029850746269,
          0.3805970149253731,
          0.3880597014925373,
          0.38992537313432835,
          0.375,
          0.3880597014925373,
          0.373134328358209,
          0.3675373134328358,
          0.3582089552238806,
          0.3712686567164179,
          0.3619402985074627,
          0.34701492537313433,
          0.34328358208955223,
          0.34888059701492535,
          0.3675373134328358,
          0.3619402985074627,
          0.373134328358209,
          0.35074626865671643,
          0.3358208955223881,
          0.3376865671641791,
          0.3451492537313433,
          0.34328358208955223,
          0.35261194029850745,
          0.333955223880597,
          0.3414179104477612,
          0.34888059701492535,
          0.3376865671641791,
          0.31156716417910446,
          0.3376865671641791,
          0.35447761194029853
         ]
        }
       ],
       "layout": {
        "template": {
         "data": {
          "bar": [
           {
            "error_x": {
             "color": "#2a3f5f"
            },
            "error_y": {
             "color": "#2a3f5f"
            },
            "marker": {
             "line": {
              "color": "#E5ECF6",
              "width": 0.5
             },
             "pattern": {
              "fillmode": "overlay",
              "size": 10,
              "solidity": 0.2
             }
            },
            "type": "bar"
           }
          ],
          "barpolar": [
           {
            "marker": {
             "line": {
              "color": "#E5ECF6",
              "width": 0.5
             },
             "pattern": {
              "fillmode": "overlay",
              "size": 10,
              "solidity": 0.2
             }
            },
            "type": "barpolar"
           }
          ],
          "carpet": [
           {
            "aaxis": {
             "endlinecolor": "#2a3f5f",
             "gridcolor": "white",
             "linecolor": "white",
             "minorgridcolor": "white",
             "startlinecolor": "#2a3f5f"
            },
            "baxis": {
             "endlinecolor": "#2a3f5f",
             "gridcolor": "white",
             "linecolor": "white",
             "minorgridcolor": "white",
             "startlinecolor": "#2a3f5f"
            },
            "type": "carpet"
           }
          ],
          "choropleth": [
           {
            "colorbar": {
             "outlinewidth": 0,
             "ticks": ""
            },
            "type": "choropleth"
           }
          ],
          "contour": [
           {
            "colorbar": {
             "outlinewidth": 0,
             "ticks": ""
            },
            "colorscale": [
             [
              0,
              "#0d0887"
             ],
             [
              0.1111111111111111,
              "#46039f"
             ],
             [
              0.2222222222222222,
              "#7201a8"
             ],
             [
              0.3333333333333333,
              "#9c179e"
             ],
             [
              0.4444444444444444,
              "#bd3786"
             ],
             [
              0.5555555555555556,
              "#d8576b"
             ],
             [
              0.6666666666666666,
              "#ed7953"
             ],
             [
              0.7777777777777778,
              "#fb9f3a"
             ],
             [
              0.8888888888888888,
              "#fdca26"
             ],
             [
              1,
              "#f0f921"
             ]
            ],
            "type": "contour"
           }
          ],
          "contourcarpet": [
           {
            "colorbar": {
             "outlinewidth": 0,
             "ticks": ""
            },
            "type": "contourcarpet"
           }
          ],
          "heatmap": [
           {
            "colorbar": {
             "outlinewidth": 0,
             "ticks": ""
            },
            "colorscale": [
             [
              0,
              "#0d0887"
             ],
             [
              0.1111111111111111,
              "#46039f"
             ],
             [
              0.2222222222222222,
              "#7201a8"
             ],
             [
              0.3333333333333333,
              "#9c179e"
             ],
             [
              0.4444444444444444,
              "#bd3786"
             ],
             [
              0.5555555555555556,
              "#d8576b"
             ],
             [
              0.6666666666666666,
              "#ed7953"
             ],
             [
              0.7777777777777778,
              "#fb9f3a"
             ],
             [
              0.8888888888888888,
              "#fdca26"
             ],
             [
              1,
              "#f0f921"
             ]
            ],
            "type": "heatmap"
           }
          ],
          "heatmapgl": [
           {
            "colorbar": {
             "outlinewidth": 0,
             "ticks": ""
            },
            "colorscale": [
             [
              0,
              "#0d0887"
             ],
             [
              0.1111111111111111,
              "#46039f"
             ],
             [
              0.2222222222222222,
              "#7201a8"
             ],
             [
              0.3333333333333333,
              "#9c179e"
             ],
             [
              0.4444444444444444,
              "#bd3786"
             ],
             [
              0.5555555555555556,
              "#d8576b"
             ],
             [
              0.6666666666666666,
              "#ed7953"
             ],
             [
              0.7777777777777778,
              "#fb9f3a"
             ],
             [
              0.8888888888888888,
              "#fdca26"
             ],
             [
              1,
              "#f0f921"
             ]
            ],
            "type": "heatmapgl"
           }
          ],
          "histogram": [
           {
            "marker": {
             "pattern": {
              "fillmode": "overlay",
              "size": 10,
              "solidity": 0.2
             }
            },
            "type": "histogram"
           }
          ],
          "histogram2d": [
           {
            "colorbar": {
             "outlinewidth": 0,
             "ticks": ""
            },
            "colorscale": [
             [
              0,
              "#0d0887"
             ],
             [
              0.1111111111111111,
              "#46039f"
             ],
             [
              0.2222222222222222,
              "#7201a8"
             ],
             [
              0.3333333333333333,
              "#9c179e"
             ],
             [
              0.4444444444444444,
              "#bd3786"
             ],
             [
              0.5555555555555556,
              "#d8576b"
             ],
             [
              0.6666666666666666,
              "#ed7953"
             ],
             [
              0.7777777777777778,
              "#fb9f3a"
             ],
             [
              0.8888888888888888,
              "#fdca26"
             ],
             [
              1,
              "#f0f921"
             ]
            ],
            "type": "histogram2d"
           }
          ],
          "histogram2dcontour": [
           {
            "colorbar": {
             "outlinewidth": 0,
             "ticks": ""
            },
            "colorscale": [
             [
              0,
              "#0d0887"
             ],
             [
              0.1111111111111111,
              "#46039f"
             ],
             [
              0.2222222222222222,
              "#7201a8"
             ],
             [
              0.3333333333333333,
              "#9c179e"
             ],
             [
              0.4444444444444444,
              "#bd3786"
             ],
             [
              0.5555555555555556,
              "#d8576b"
             ],
             [
              0.6666666666666666,
              "#ed7953"
             ],
             [
              0.7777777777777778,
              "#fb9f3a"
             ],
             [
              0.8888888888888888,
              "#fdca26"
             ],
             [
              1,
              "#f0f921"
             ]
            ],
            "type": "histogram2dcontour"
           }
          ],
          "mesh3d": [
           {
            "colorbar": {
             "outlinewidth": 0,
             "ticks": ""
            },
            "type": "mesh3d"
           }
          ],
          "parcoords": [
           {
            "line": {
             "colorbar": {
              "outlinewidth": 0,
              "ticks": ""
             }
            },
            "type": "parcoords"
           }
          ],
          "pie": [
           {
            "automargin": true,
            "type": "pie"
           }
          ],
          "scatter": [
           {
            "fillpattern": {
             "fillmode": "overlay",
             "size": 10,
             "solidity": 0.2
            },
            "type": "scatter"
           }
          ],
          "scatter3d": [
           {
            "line": {
             "colorbar": {
              "outlinewidth": 0,
              "ticks": ""
             }
            },
            "marker": {
             "colorbar": {
              "outlinewidth": 0,
              "ticks": ""
             }
            },
            "type": "scatter3d"
           }
          ],
          "scattercarpet": [
           {
            "marker": {
             "colorbar": {
              "outlinewidth": 0,
              "ticks": ""
             }
            },
            "type": "scattercarpet"
           }
          ],
          "scattergeo": [
           {
            "marker": {
             "colorbar": {
              "outlinewidth": 0,
              "ticks": ""
             }
            },
            "type": "scattergeo"
           }
          ],
          "scattergl": [
           {
            "marker": {
             "colorbar": {
              "outlinewidth": 0,
              "ticks": ""
             }
            },
            "type": "scattergl"
           }
          ],
          "scattermapbox": [
           {
            "marker": {
             "colorbar": {
              "outlinewidth": 0,
              "ticks": ""
             }
            },
            "type": "scattermapbox"
           }
          ],
          "scatterpolar": [
           {
            "marker": {
             "colorbar": {
              "outlinewidth": 0,
              "ticks": ""
             }
            },
            "type": "scatterpolar"
           }
          ],
          "scatterpolargl": [
           {
            "marker": {
             "colorbar": {
              "outlinewidth": 0,
              "ticks": ""
             }
            },
            "type": "scatterpolargl"
           }
          ],
          "scatterternary": [
           {
            "marker": {
             "colorbar": {
              "outlinewidth": 0,
              "ticks": ""
             }
            },
            "type": "scatterternary"
           }
          ],
          "surface": [
           {
            "colorbar": {
             "outlinewidth": 0,
             "ticks": ""
            },
            "colorscale": [
             [
              0,
              "#0d0887"
             ],
             [
              0.1111111111111111,
              "#46039f"
             ],
             [
              0.2222222222222222,
              "#7201a8"
             ],
             [
              0.3333333333333333,
              "#9c179e"
             ],
             [
              0.4444444444444444,
              "#bd3786"
             ],
             [
              0.5555555555555556,
              "#d8576b"
             ],
             [
              0.6666666666666666,
              "#ed7953"
             ],
             [
              0.7777777777777778,
              "#fb9f3a"
             ],
             [
              0.8888888888888888,
              "#fdca26"
             ],
             [
              1,
              "#f0f921"
             ]
            ],
            "type": "surface"
           }
          ],
          "table": [
           {
            "cells": {
             "fill": {
              "color": "#EBF0F8"
             },
             "line": {
              "color": "white"
             }
            },
            "header": {
             "fill": {
              "color": "#C8D4E3"
             },
             "line": {
              "color": "white"
             }
            },
            "type": "table"
           }
          ]
         },
         "layout": {
          "annotationdefaults": {
           "arrowcolor": "#2a3f5f",
           "arrowhead": 0,
           "arrowwidth": 1
          },
          "autotypenumbers": "strict",
          "coloraxis": {
           "colorbar": {
            "outlinewidth": 0,
            "ticks": ""
           }
          },
          "colorscale": {
           "diverging": [
            [
             0,
             "#8e0152"
            ],
            [
             0.1,
             "#c51b7d"
            ],
            [
             0.2,
             "#de77ae"
            ],
            [
             0.3,
             "#f1b6da"
            ],
            [
             0.4,
             "#fde0ef"
            ],
            [
             0.5,
             "#f7f7f7"
            ],
            [
             0.6,
             "#e6f5d0"
            ],
            [
             0.7,
             "#b8e186"
            ],
            [
             0.8,
             "#7fbc41"
            ],
            [
             0.9,
             "#4d9221"
            ],
            [
             1,
             "#276419"
            ]
           ],
           "sequential": [
            [
             0,
             "#0d0887"
            ],
            [
             0.1111111111111111,
             "#46039f"
            ],
            [
             0.2222222222222222,
             "#7201a8"
            ],
            [
             0.3333333333333333,
             "#9c179e"
            ],
            [
             0.4444444444444444,
             "#bd3786"
            ],
            [
             0.5555555555555556,
             "#d8576b"
            ],
            [
             0.6666666666666666,
             "#ed7953"
            ],
            [
             0.7777777777777778,
             "#fb9f3a"
            ],
            [
             0.8888888888888888,
             "#fdca26"
            ],
            [
             1,
             "#f0f921"
            ]
           ],
           "sequentialminus": [
            [
             0,
             "#0d0887"
            ],
            [
             0.1111111111111111,
             "#46039f"
            ],
            [
             0.2222222222222222,
             "#7201a8"
            ],
            [
             0.3333333333333333,
             "#9c179e"
            ],
            [
             0.4444444444444444,
             "#bd3786"
            ],
            [
             0.5555555555555556,
             "#d8576b"
            ],
            [
             0.6666666666666666,
             "#ed7953"
            ],
            [
             0.7777777777777778,
             "#fb9f3a"
            ],
            [
             0.8888888888888888,
             "#fdca26"
            ],
            [
             1,
             "#f0f921"
            ]
           ]
          },
          "colorway": [
           "#636efa",
           "#EF553B",
           "#00cc96",
           "#ab63fa",
           "#FFA15A",
           "#19d3f3",
           "#FF6692",
           "#B6E880",
           "#FF97FF",
           "#FECB52"
          ],
          "font": {
           "color": "#2a3f5f"
          },
          "geo": {
           "bgcolor": "white",
           "lakecolor": "white",
           "landcolor": "#E5ECF6",
           "showlakes": true,
           "showland": true,
           "subunitcolor": "white"
          },
          "hoverlabel": {
           "align": "left"
          },
          "hovermode": "closest",
          "mapbox": {
           "style": "light"
          },
          "paper_bgcolor": "white",
          "plot_bgcolor": "#E5ECF6",
          "polar": {
           "angularaxis": {
            "gridcolor": "white",
            "linecolor": "white",
            "ticks": ""
           },
           "bgcolor": "#E5ECF6",
           "radialaxis": {
            "gridcolor": "white",
            "linecolor": "white",
            "ticks": ""
           }
          },
          "scene": {
           "xaxis": {
            "backgroundcolor": "#E5ECF6",
            "gridcolor": "white",
            "gridwidth": 2,
            "linecolor": "white",
            "showbackground": true,
            "ticks": "",
            "zerolinecolor": "white"
           },
           "yaxis": {
            "backgroundcolor": "#E5ECF6",
            "gridcolor": "white",
            "gridwidth": 2,
            "linecolor": "white",
            "showbackground": true,
            "ticks": "",
            "zerolinecolor": "white"
           },
           "zaxis": {
            "backgroundcolor": "#E5ECF6",
            "gridcolor": "white",
            "gridwidth": 2,
            "linecolor": "white",
            "showbackground": true,
            "ticks": "",
            "zerolinecolor": "white"
           }
          },
          "shapedefaults": {
           "line": {
            "color": "#2a3f5f"
           }
          },
          "ternary": {
           "aaxis": {
            "gridcolor": "white",
            "linecolor": "white",
            "ticks": ""
           },
           "baxis": {
            "gridcolor": "white",
            "linecolor": "white",
            "ticks": ""
           },
           "bgcolor": "#E5ECF6",
           "caxis": {
            "gridcolor": "white",
            "linecolor": "white",
            "ticks": ""
           }
          },
          "title": {
           "x": 0.05
          },
          "xaxis": {
           "automargin": true,
           "gridcolor": "white",
           "linecolor": "white",
           "ticks": "",
           "title": {
            "standoff": 15
           },
           "zerolinecolor": "white",
           "zerolinewidth": 2
          },
          "yaxis": {
           "automargin": true,
           "gridcolor": "white",
           "linecolor": "white",
           "ticks": "",
           "title": {
            "standoff": 15
           },
           "zerolinecolor": "white",
           "zerolinewidth": 2
          }
         }
        },
        "title": {
         "text": "Training and Testing Loss Over Epochs"
        },
        "xaxis": {
         "title": {
          "text": "Number of Estimators (Epochs)"
         }
        },
        "yaxis": {
         "title": {
          "text": "MSE"
         }
        }
       }
      }
     },
     "metadata": {},
     "output_type": "display_data"
    },
    {
     "data": {
      "application/vnd.plotly.v1+json": {
       "config": {
        "plotlyServerURL": "https://plot.ly"
       },
       "data": [
        {
         "mode": "lines",
         "name": "Training Accuracy",
         "type": "scatter",
         "x": [
          1,
          2,
          3,
          4,
          5,
          6,
          7,
          8,
          9,
          10,
          11,
          12,
          13,
          14,
          15,
          16,
          17,
          18,
          19,
          20,
          21,
          22,
          23,
          24,
          25,
          26,
          27,
          28,
          29,
          30,
          31,
          32,
          33,
          34,
          35,
          36,
          37,
          38,
          39,
          40,
          41,
          42,
          43,
          44,
          45,
          46,
          47,
          48,
          49,
          50,
          51,
          52,
          53,
          54,
          55,
          56,
          57,
          58,
          59,
          60,
          61,
          62,
          63,
          64,
          65,
          66,
          67,
          68,
          69,
          70,
          71,
          72,
          73,
          74,
          75,
          76,
          77,
          78,
          79,
          80,
          81,
          82,
          83,
          84,
          85,
          86,
          87,
          88,
          89,
          90,
          91,
          92,
          93,
          94,
          95,
          96,
          97,
          98,
          99,
          100
         ],
         "y": [
          0.43236940298507465,
          0.5597014925373134,
          0.5638992537313433,
          0.5690298507462687,
          0.5699626865671642,
          0.5965485074626866,
          0.6021455223880597,
          0.5876865671641791,
          0.5984141791044776,
          0.5844216417910447,
          0.574160447761194,
          0.5713619402985075,
          0.5825559701492538,
          0.5816231343283582,
          0.6044776119402985,
          0.5848880597014925,
          0.5615671641791045,
          0.5806902985074627,
          0.5755597014925373,
          0.5597014925373134,
          0.5797574626865671,
          0.5853544776119403,
          0.5979477611940298,
          0.59375,
          0.5979477611940298,
          0.6082089552238806,
          0.5965485074626866,
          0.5942164179104478,
          0.5909514925373134,
          0.582089552238806,
          0.5956156716417911,
          0.5890858208955224,
          0.5839552238805971,
          0.5848880597014925,
          0.5844216417910447,
          0.5848880597014925,
          0.5942164179104478,
          0.5979477611940298,
          0.5951492537313433,
          0.6077425373134329,
          0.5844216417910447,
          0.6072761194029851,
          0.5984141791044776,
          0.6044776119402985,
          0.605410447761194,
          0.601679104477612,
          0.6012126865671642,
          0.5928171641791045,
          0.6026119402985075,
          0.605410447761194,
          0.6100746268656716,
          0.5998134328358209,
          0.6035447761194029,
          0.6147388059701493,
          0.6156716417910447,
          0.6361940298507462,
          0.617070895522388,
          0.6035447761194029,
          0.6124067164179104,
          0.6184701492537313,
          0.6184701492537313,
          0.6119402985074627,
          0.6236007462686567,
          0.6180037313432836,
          0.6277985074626866,
          0.628731343283582,
          0.6315298507462687,
          0.6245335820895522,
          0.6291977611940298,
          0.6152052238805971,
          0.6254664179104478,
          0.6124067164179104,
          0.6114738805970149,
          0.6180037313432836,
          0.6222014925373134,
          0.5904850746268657,
          0.6105410447761194,
          0.6226679104477612,
          0.6156716417910447,
          0.6156716417910447,
          0.6166044776119403,
          0.628731343283582,
          0.636660447761194,
          0.6319962686567164,
          0.6222014925373134,
          0.6282649253731343,
          0.6263992537313433,
          0.6413246268656716,
          0.6408582089552238,
          0.6422574626865671,
          0.6464552238805971,
          0.6515858208955224,
          0.6539179104477612,
          0.648320895522388,
          0.6515858208955224,
          0.652518656716418,
          0.6581156716417911,
          0.6576492537313433,
          0.6361940298507462,
          0.6436567164179104
         ]
        },
        {
         "mode": "lines",
         "name": "Testing Accuracy",
         "type": "scatter",
         "x": [
          1,
          2,
          3,
          4,
          5,
          6,
          7,
          8,
          9,
          10,
          11,
          12,
          13,
          14,
          15,
          16,
          17,
          18,
          19,
          20,
          21,
          22,
          23,
          24,
          25,
          26,
          27,
          28,
          29,
          30,
          31,
          32,
          33,
          34,
          35,
          36,
          37,
          38,
          39,
          40,
          41,
          42,
          43,
          44,
          45,
          46,
          47,
          48,
          49,
          50,
          51,
          52,
          53,
          54,
          55,
          56,
          57,
          58,
          59,
          60,
          61,
          62,
          63,
          64,
          65,
          66,
          67,
          68,
          69,
          70,
          71,
          72,
          73,
          74,
          75,
          76,
          77,
          78,
          79,
          80,
          81,
          82,
          83,
          84,
          85,
          86,
          87,
          88,
          89,
          90,
          91,
          92,
          93,
          94,
          95,
          96,
          97,
          98,
          99,
          100
         ],
         "y": [
          0.43470149253731344,
          0.5597014925373134,
          0.5578358208955224,
          0.5671641791044776,
          0.582089552238806,
          0.621268656716418,
          0.628731343283582,
          0.5951492537313433,
          0.621268656716418,
          0.6119402985074627,
          0.621268656716418,
          0.6138059701492538,
          0.6399253731343284,
          0.6361940298507462,
          0.6455223880597015,
          0.6268656716417911,
          0.585820895522388,
          0.6175373134328358,
          0.6063432835820896,
          0.6082089552238806,
          0.6436567164179104,
          0.6361940298507462,
          0.6324626865671642,
          0.6399253731343284,
          0.6343283582089553,
          0.6529850746268657,
          0.6268656716417911,
          0.5988805970149254,
          0.6082089552238806,
          0.6100746268656716,
          0.628731343283582,
          0.625,
          0.6194029850746269,
          0.6343283582089553,
          0.628731343283582,
          0.6305970149253731,
          0.6380597014925373,
          0.6380597014925373,
          0.6324626865671642,
          0.6492537313432836,
          0.6305970149253731,
          0.6529850746268657,
          0.6455223880597015,
          0.625,
          0.6417910447761194,
          0.6268656716417911,
          0.6399253731343284,
          0.6231343283582089,
          0.6417910447761194,
          0.6343283582089553,
          0.6473880597014925,
          0.6361940298507462,
          0.6194029850746269,
          0.6324626865671642,
          0.6361940298507462,
          0.6473880597014925,
          0.6156716417910447,
          0.6138059701492538,
          0.6343283582089553,
          0.6361940298507462,
          0.6343283582089553,
          0.6156716417910447,
          0.6511194029850746,
          0.6455223880597015,
          0.6585820895522388,
          0.664179104477612,
          0.6604477611940298,
          0.6623134328358209,
          0.664179104477612,
          0.6268656716417911,
          0.6305970149253731,
          0.6194029850746269,
          0.6119402985074627,
          0.6100746268656716,
          0.625,
          0.6119402985074627,
          0.6268656716417911,
          0.6324626865671642,
          0.6417910447761194,
          0.628731343283582,
          0.6380597014925373,
          0.6529850746268657,
          0.6567164179104478,
          0.6511194029850746,
          0.6324626865671642,
          0.6380597014925373,
          0.6268656716417911,
          0.6492537313432836,
          0.664179104477612,
          0.6623134328358209,
          0.6548507462686567,
          0.6567164179104478,
          0.6473880597014925,
          0.6660447761194029,
          0.6585820895522388,
          0.6511194029850746,
          0.6623134328358209,
          0.6884328358208955,
          0.6623134328358209,
          0.6455223880597015
         ]
        }
       ],
       "layout": {
        "template": {
         "data": {
          "bar": [
           {
            "error_x": {
             "color": "#2a3f5f"
            },
            "error_y": {
             "color": "#2a3f5f"
            },
            "marker": {
             "line": {
              "color": "#E5ECF6",
              "width": 0.5
             },
             "pattern": {
              "fillmode": "overlay",
              "size": 10,
              "solidity": 0.2
             }
            },
            "type": "bar"
           }
          ],
          "barpolar": [
           {
            "marker": {
             "line": {
              "color": "#E5ECF6",
              "width": 0.5
             },
             "pattern": {
              "fillmode": "overlay",
              "size": 10,
              "solidity": 0.2
             }
            },
            "type": "barpolar"
           }
          ],
          "carpet": [
           {
            "aaxis": {
             "endlinecolor": "#2a3f5f",
             "gridcolor": "white",
             "linecolor": "white",
             "minorgridcolor": "white",
             "startlinecolor": "#2a3f5f"
            },
            "baxis": {
             "endlinecolor": "#2a3f5f",
             "gridcolor": "white",
             "linecolor": "white",
             "minorgridcolor": "white",
             "startlinecolor": "#2a3f5f"
            },
            "type": "carpet"
           }
          ],
          "choropleth": [
           {
            "colorbar": {
             "outlinewidth": 0,
             "ticks": ""
            },
            "type": "choropleth"
           }
          ],
          "contour": [
           {
            "colorbar": {
             "outlinewidth": 0,
             "ticks": ""
            },
            "colorscale": [
             [
              0,
              "#0d0887"
             ],
             [
              0.1111111111111111,
              "#46039f"
             ],
             [
              0.2222222222222222,
              "#7201a8"
             ],
             [
              0.3333333333333333,
              "#9c179e"
             ],
             [
              0.4444444444444444,
              "#bd3786"
             ],
             [
              0.5555555555555556,
              "#d8576b"
             ],
             [
              0.6666666666666666,
              "#ed7953"
             ],
             [
              0.7777777777777778,
              "#fb9f3a"
             ],
             [
              0.8888888888888888,
              "#fdca26"
             ],
             [
              1,
              "#f0f921"
             ]
            ],
            "type": "contour"
           }
          ],
          "contourcarpet": [
           {
            "colorbar": {
             "outlinewidth": 0,
             "ticks": ""
            },
            "type": "contourcarpet"
           }
          ],
          "heatmap": [
           {
            "colorbar": {
             "outlinewidth": 0,
             "ticks": ""
            },
            "colorscale": [
             [
              0,
              "#0d0887"
             ],
             [
              0.1111111111111111,
              "#46039f"
             ],
             [
              0.2222222222222222,
              "#7201a8"
             ],
             [
              0.3333333333333333,
              "#9c179e"
             ],
             [
              0.4444444444444444,
              "#bd3786"
             ],
             [
              0.5555555555555556,
              "#d8576b"
             ],
             [
              0.6666666666666666,
              "#ed7953"
             ],
             [
              0.7777777777777778,
              "#fb9f3a"
             ],
             [
              0.8888888888888888,
              "#fdca26"
             ],
             [
              1,
              "#f0f921"
             ]
            ],
            "type": "heatmap"
           }
          ],
          "heatmapgl": [
           {
            "colorbar": {
             "outlinewidth": 0,
             "ticks": ""
            },
            "colorscale": [
             [
              0,
              "#0d0887"
             ],
             [
              0.1111111111111111,
              "#46039f"
             ],
             [
              0.2222222222222222,
              "#7201a8"
             ],
             [
              0.3333333333333333,
              "#9c179e"
             ],
             [
              0.4444444444444444,
              "#bd3786"
             ],
             [
              0.5555555555555556,
              "#d8576b"
             ],
             [
              0.6666666666666666,
              "#ed7953"
             ],
             [
              0.7777777777777778,
              "#fb9f3a"
             ],
             [
              0.8888888888888888,
              "#fdca26"
             ],
             [
              1,
              "#f0f921"
             ]
            ],
            "type": "heatmapgl"
           }
          ],
          "histogram": [
           {
            "marker": {
             "pattern": {
              "fillmode": "overlay",
              "size": 10,
              "solidity": 0.2
             }
            },
            "type": "histogram"
           }
          ],
          "histogram2d": [
           {
            "colorbar": {
             "outlinewidth": 0,
             "ticks": ""
            },
            "colorscale": [
             [
              0,
              "#0d0887"
             ],
             [
              0.1111111111111111,
              "#46039f"
             ],
             [
              0.2222222222222222,
              "#7201a8"
             ],
             [
              0.3333333333333333,
              "#9c179e"
             ],
             [
              0.4444444444444444,
              "#bd3786"
             ],
             [
              0.5555555555555556,
              "#d8576b"
             ],
             [
              0.6666666666666666,
              "#ed7953"
             ],
             [
              0.7777777777777778,
              "#fb9f3a"
             ],
             [
              0.8888888888888888,
              "#fdca26"
             ],
             [
              1,
              "#f0f921"
             ]
            ],
            "type": "histogram2d"
           }
          ],
          "histogram2dcontour": [
           {
            "colorbar": {
             "outlinewidth": 0,
             "ticks": ""
            },
            "colorscale": [
             [
              0,
              "#0d0887"
             ],
             [
              0.1111111111111111,
              "#46039f"
             ],
             [
              0.2222222222222222,
              "#7201a8"
             ],
             [
              0.3333333333333333,
              "#9c179e"
             ],
             [
              0.4444444444444444,
              "#bd3786"
             ],
             [
              0.5555555555555556,
              "#d8576b"
             ],
             [
              0.6666666666666666,
              "#ed7953"
             ],
             [
              0.7777777777777778,
              "#fb9f3a"
             ],
             [
              0.8888888888888888,
              "#fdca26"
             ],
             [
              1,
              "#f0f921"
             ]
            ],
            "type": "histogram2dcontour"
           }
          ],
          "mesh3d": [
           {
            "colorbar": {
             "outlinewidth": 0,
             "ticks": ""
            },
            "type": "mesh3d"
           }
          ],
          "parcoords": [
           {
            "line": {
             "colorbar": {
              "outlinewidth": 0,
              "ticks": ""
             }
            },
            "type": "parcoords"
           }
          ],
          "pie": [
           {
            "automargin": true,
            "type": "pie"
           }
          ],
          "scatter": [
           {
            "fillpattern": {
             "fillmode": "overlay",
             "size": 10,
             "solidity": 0.2
            },
            "type": "scatter"
           }
          ],
          "scatter3d": [
           {
            "line": {
             "colorbar": {
              "outlinewidth": 0,
              "ticks": ""
             }
            },
            "marker": {
             "colorbar": {
              "outlinewidth": 0,
              "ticks": ""
             }
            },
            "type": "scatter3d"
           }
          ],
          "scattercarpet": [
           {
            "marker": {
             "colorbar": {
              "outlinewidth": 0,
              "ticks": ""
             }
            },
            "type": "scattercarpet"
           }
          ],
          "scattergeo": [
           {
            "marker": {
             "colorbar": {
              "outlinewidth": 0,
              "ticks": ""
             }
            },
            "type": "scattergeo"
           }
          ],
          "scattergl": [
           {
            "marker": {
             "colorbar": {
              "outlinewidth": 0,
              "ticks": ""
             }
            },
            "type": "scattergl"
           }
          ],
          "scattermapbox": [
           {
            "marker": {
             "colorbar": {
              "outlinewidth": 0,
              "ticks": ""
             }
            },
            "type": "scattermapbox"
           }
          ],
          "scatterpolar": [
           {
            "marker": {
             "colorbar": {
              "outlinewidth": 0,
              "ticks": ""
             }
            },
            "type": "scatterpolar"
           }
          ],
          "scatterpolargl": [
           {
            "marker": {
             "colorbar": {
              "outlinewidth": 0,
              "ticks": ""
             }
            },
            "type": "scatterpolargl"
           }
          ],
          "scatterternary": [
           {
            "marker": {
             "colorbar": {
              "outlinewidth": 0,
              "ticks": ""
             }
            },
            "type": "scatterternary"
           }
          ],
          "surface": [
           {
            "colorbar": {
             "outlinewidth": 0,
             "ticks": ""
            },
            "colorscale": [
             [
              0,
              "#0d0887"
             ],
             [
              0.1111111111111111,
              "#46039f"
             ],
             [
              0.2222222222222222,
              "#7201a8"
             ],
             [
              0.3333333333333333,
              "#9c179e"
             ],
             [
              0.4444444444444444,
              "#bd3786"
             ],
             [
              0.5555555555555556,
              "#d8576b"
             ],
             [
              0.6666666666666666,
              "#ed7953"
             ],
             [
              0.7777777777777778,
              "#fb9f3a"
             ],
             [
              0.8888888888888888,
              "#fdca26"
             ],
             [
              1,
              "#f0f921"
             ]
            ],
            "type": "surface"
           }
          ],
          "table": [
           {
            "cells": {
             "fill": {
              "color": "#EBF0F8"
             },
             "line": {
              "color": "white"
             }
            },
            "header": {
             "fill": {
              "color": "#C8D4E3"
             },
             "line": {
              "color": "white"
             }
            },
            "type": "table"
           }
          ]
         },
         "layout": {
          "annotationdefaults": {
           "arrowcolor": "#2a3f5f",
           "arrowhead": 0,
           "arrowwidth": 1
          },
          "autotypenumbers": "strict",
          "coloraxis": {
           "colorbar": {
            "outlinewidth": 0,
            "ticks": ""
           }
          },
          "colorscale": {
           "diverging": [
            [
             0,
             "#8e0152"
            ],
            [
             0.1,
             "#c51b7d"
            ],
            [
             0.2,
             "#de77ae"
            ],
            [
             0.3,
             "#f1b6da"
            ],
            [
             0.4,
             "#fde0ef"
            ],
            [
             0.5,
             "#f7f7f7"
            ],
            [
             0.6,
             "#e6f5d0"
            ],
            [
             0.7,
             "#b8e186"
            ],
            [
             0.8,
             "#7fbc41"
            ],
            [
             0.9,
             "#4d9221"
            ],
            [
             1,
             "#276419"
            ]
           ],
           "sequential": [
            [
             0,
             "#0d0887"
            ],
            [
             0.1111111111111111,
             "#46039f"
            ],
            [
             0.2222222222222222,
             "#7201a8"
            ],
            [
             0.3333333333333333,
             "#9c179e"
            ],
            [
             0.4444444444444444,
             "#bd3786"
            ],
            [
             0.5555555555555556,
             "#d8576b"
            ],
            [
             0.6666666666666666,
             "#ed7953"
            ],
            [
             0.7777777777777778,
             "#fb9f3a"
            ],
            [
             0.8888888888888888,
             "#fdca26"
            ],
            [
             1,
             "#f0f921"
            ]
           ],
           "sequentialminus": [
            [
             0,
             "#0d0887"
            ],
            [
             0.1111111111111111,
             "#46039f"
            ],
            [
             0.2222222222222222,
             "#7201a8"
            ],
            [
             0.3333333333333333,
             "#9c179e"
            ],
            [
             0.4444444444444444,
             "#bd3786"
            ],
            [
             0.5555555555555556,
             "#d8576b"
            ],
            [
             0.6666666666666666,
             "#ed7953"
            ],
            [
             0.7777777777777778,
             "#fb9f3a"
            ],
            [
             0.8888888888888888,
             "#fdca26"
            ],
            [
             1,
             "#f0f921"
            ]
           ]
          },
          "colorway": [
           "#636efa",
           "#EF553B",
           "#00cc96",
           "#ab63fa",
           "#FFA15A",
           "#19d3f3",
           "#FF6692",
           "#B6E880",
           "#FF97FF",
           "#FECB52"
          ],
          "font": {
           "color": "#2a3f5f"
          },
          "geo": {
           "bgcolor": "white",
           "lakecolor": "white",
           "landcolor": "#E5ECF6",
           "showlakes": true,
           "showland": true,
           "subunitcolor": "white"
          },
          "hoverlabel": {
           "align": "left"
          },
          "hovermode": "closest",
          "mapbox": {
           "style": "light"
          },
          "paper_bgcolor": "white",
          "plot_bgcolor": "#E5ECF6",
          "polar": {
           "angularaxis": {
            "gridcolor": "white",
            "linecolor": "white",
            "ticks": ""
           },
           "bgcolor": "#E5ECF6",
           "radialaxis": {
            "gridcolor": "white",
            "linecolor": "white",
            "ticks": ""
           }
          },
          "scene": {
           "xaxis": {
            "backgroundcolor": "#E5ECF6",
            "gridcolor": "white",
            "gridwidth": 2,
            "linecolor": "white",
            "showbackground": true,
            "ticks": "",
            "zerolinecolor": "white"
           },
           "yaxis": {
            "backgroundcolor": "#E5ECF6",
            "gridcolor": "white",
            "gridwidth": 2,
            "linecolor": "white",
            "showbackground": true,
            "ticks": "",
            "zerolinecolor": "white"
           },
           "zaxis": {
            "backgroundcolor": "#E5ECF6",
            "gridcolor": "white",
            "gridwidth": 2,
            "linecolor": "white",
            "showbackground": true,
            "ticks": "",
            "zerolinecolor": "white"
           }
          },
          "shapedefaults": {
           "line": {
            "color": "#2a3f5f"
           }
          },
          "ternary": {
           "aaxis": {
            "gridcolor": "white",
            "linecolor": "white",
            "ticks": ""
           },
           "baxis": {
            "gridcolor": "white",
            "linecolor": "white",
            "ticks": ""
           },
           "bgcolor": "#E5ECF6",
           "caxis": {
            "gridcolor": "white",
            "linecolor": "white",
            "ticks": ""
           }
          },
          "title": {
           "x": 0.05
          },
          "xaxis": {
           "automargin": true,
           "gridcolor": "white",
           "linecolor": "white",
           "ticks": "",
           "title": {
            "standoff": 15
           },
           "zerolinecolor": "white",
           "zerolinewidth": 2
          },
          "yaxis": {
           "automargin": true,
           "gridcolor": "white",
           "linecolor": "white",
           "ticks": "",
           "title": {
            "standoff": 15
           },
           "zerolinecolor": "white",
           "zerolinewidth": 2
          }
         }
        },
        "title": {
         "text": "Training and Testing Accuracy Over Epochs"
        },
        "xaxis": {
         "title": {
          "text": "Number of Estimators (Epochs)"
         }
        },
        "yaxis": {
         "title": {
          "text": "Accuracy"
         }
        }
       }
      }
     },
     "metadata": {},
     "output_type": "display_data"
    }
   ],
   "source": [
    "import plotly.graph_objects as go\n",
    "\n",
    "# Create a confusion matrix\n",
    "confusion_rf = confusion_matrix(y_test_most, y_pred_rf)\n",
    "\n",
    "# Plot the confusion matrix \n",
    "disp_rf = ConfusionMatrixDisplay(confusion_rf, display_labels=random_forest.classes_)\n",
    "disp_rf.plot(cmap='viridis')\n",
    "plt.title('Confusion Matrix (Random Forest)')\n",
    "plt.show()\n",
    "\n",
    "# Create a line plot for both training and testing MSE using Plotly\n",
    "fig = go.Figure()\n",
    "\n",
    "fig.add_trace(go.Scatter(x=np.arange(1, n_estimators + 1), y=training_loss, mode='lines', name='Training Loss'))\n",
    "fig.add_trace(go.Scatter(x=np.arange(1, n_estimators + 1), y=testing_loss, mode='lines', name='Testing Loss'))\n",
    "\n",
    "fig.update_layout(title='Training and Testing Loss Over Epochs',\n",
    "                  xaxis_title='Number of Estimators (Epochs)',\n",
    "                  yaxis_title='MSE')\n",
    "\n",
    "fig.show()\n",
    "\n",
    "# Create a line plot for both training and testing accuracy using Plotly\n",
    "fig = go.Figure()\n",
    "\n",
    "fig.add_trace(go.Scatter(x=np.arange(1, n_estimators + 1), y=training_accuracy, mode='lines', name='Training Accuracy'))\n",
    "fig.add_trace(go.Scatter(x=np.arange(1, n_estimators + 1), y=testing_accuracy, mode='lines', name='Testing Accuracy'))\n",
    "\n",
    "fig.update_layout(title='Training and Testing Accuracy Over Epochs',\n",
    "                  xaxis_title='Number of Estimators (Epochs)',\n",
    "                  yaxis_title='Accuracy')\n",
    "\n",
    "fig.show()"
   ]
  },
  {
   "cell_type": "code",
   "execution_count": null,
   "metadata": {},
   "outputs": [],
   "source": []
  }
 ],
 "metadata": {
  "kernelspec": {
   "display_name": "mi",
   "language": "python",
   "name": "python3"
  },
  "language_info": {
   "codemirror_mode": {
    "name": "ipython",
    "version": 3
   },
   "file_extension": ".py",
   "mimetype": "text/x-python",
   "name": "python",
   "nbconvert_exporter": "python",
   "pygments_lexer": "ipython3",
   "version": "3.9.18"
  }
 },
 "nbformat": 4,
 "nbformat_minor": 2
}
