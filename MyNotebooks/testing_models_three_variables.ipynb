{
 "cells": [
  {
   "cell_type": "code",
   "execution_count": 1,
   "metadata": {},
   "outputs": [],
   "source": [
    "import numpy as np\n",
    "import pandas as pd\n",
    "import matplotlib.pyplot as plt\n",
    "import seaborn as sns  # Make sure you have seaborn installed"
   ]
  },
  {
   "cell_type": "code",
   "execution_count": 2,
   "metadata": {},
   "outputs": [
    {
     "data": {
      "text/html": [
       "<div>\n",
       "<style scoped>\n",
       "    .dataframe tbody tr th:only-of-type {\n",
       "        vertical-align: middle;\n",
       "    }\n",
       "\n",
       "    .dataframe tbody tr th {\n",
       "        vertical-align: top;\n",
       "    }\n",
       "\n",
       "    .dataframe thead th {\n",
       "        text-align: right;\n",
       "    }\n",
       "</style>\n",
       "<table border=\"1\" class=\"dataframe\">\n",
       "  <thead>\n",
       "    <tr style=\"text-align: right;\">\n",
       "      <th></th>\n",
       "      <th>data_group</th>\n",
       "      <th>event_type</th>\n",
       "      <th>finish_time</th>\n",
       "      <th>NCV</th>\n",
       "      <th>NCA</th>\n",
       "      <th>relative_NCV</th>\n",
       "      <th>relative_NCA</th>\n",
       "      <th>stroke_speed</th>\n",
       "      <th>velocity_mean</th>\n",
       "      <th>velocity_median</th>\n",
       "      <th>...</th>\n",
       "      <th>jerk_y_mean</th>\n",
       "      <th>jerk_y_median</th>\n",
       "      <th>jerk_y_std_dev</th>\n",
       "      <th>jerk_y_minimum</th>\n",
       "      <th>jerk_y_maximum</th>\n",
       "      <th>jerk_y_data_range</th>\n",
       "      <th>jerk_y_iqr</th>\n",
       "      <th>jerk_y_skewness</th>\n",
       "      <th>jerk_y_kurtosis</th>\n",
       "      <th>has_parkinson</th>\n",
       "    </tr>\n",
       "  </thead>\n",
       "  <tbody>\n",
       "    <tr>\n",
       "      <th>0</th>\n",
       "      <td>1</td>\n",
       "      <td>1</td>\n",
       "      <td>5.180044</td>\n",
       "      <td>60</td>\n",
       "      <td>69</td>\n",
       "      <td>11.582914</td>\n",
       "      <td>13.320351</td>\n",
       "      <td>316.968468</td>\n",
       "      <td>660.142357</td>\n",
       "      <td>412.307076</td>\n",
       "      <td>...</td>\n",
       "      <td>8.845555e+06</td>\n",
       "      <td>5.999848e+06</td>\n",
       "      <td>9.439072e+06</td>\n",
       "      <td>0.0</td>\n",
       "      <td>4.399888e+07</td>\n",
       "      <td>4.399888e+07</td>\n",
       "      <td>8.999772e+06</td>\n",
       "      <td>1.731869</td>\n",
       "      <td>2.702888</td>\n",
       "      <td>0</td>\n",
       "    </tr>\n",
       "    <tr>\n",
       "      <th>1</th>\n",
       "      <td>1</td>\n",
       "      <td>3</td>\n",
       "      <td>4.820075</td>\n",
       "      <td>51</td>\n",
       "      <td>60</td>\n",
       "      <td>10.580749</td>\n",
       "      <td>12.447940</td>\n",
       "      <td>210.631907</td>\n",
       "      <td>410.338698</td>\n",
       "      <td>309.952007</td>\n",
       "      <td>...</td>\n",
       "      <td>5.652515e+06</td>\n",
       "      <td>3.999814e+06</td>\n",
       "      <td>5.783232e+06</td>\n",
       "      <td>0.0</td>\n",
       "      <td>2.599879e+07</td>\n",
       "      <td>2.599879e+07</td>\n",
       "      <td>4.999768e+06</td>\n",
       "      <td>1.600076</td>\n",
       "      <td>2.043617</td>\n",
       "      <td>0</td>\n",
       "    </tr>\n",
       "    <tr>\n",
       "      <th>2</th>\n",
       "      <td>1</td>\n",
       "      <td>2</td>\n",
       "      <td>5.280308</td>\n",
       "      <td>35</td>\n",
       "      <td>45</td>\n",
       "      <td>6.628401</td>\n",
       "      <td>8.522230</td>\n",
       "      <td>169.507549</td>\n",
       "      <td>854.468062</td>\n",
       "      <td>299.982495</td>\n",
       "      <td>...</td>\n",
       "      <td>9.134764e+06</td>\n",
       "      <td>2.999475e+06</td>\n",
       "      <td>1.894469e+07</td>\n",
       "      <td>0.0</td>\n",
       "      <td>1.079811e+08</td>\n",
       "      <td>1.079811e+08</td>\n",
       "      <td>6.998775e+06</td>\n",
       "      <td>3.764628</td>\n",
       "      <td>14.989523</td>\n",
       "      <td>0</td>\n",
       "    </tr>\n",
       "    <tr>\n",
       "      <th>3</th>\n",
       "      <td>1</td>\n",
       "      <td>4</td>\n",
       "      <td>13.329880</td>\n",
       "      <td>82</td>\n",
       "      <td>95</td>\n",
       "      <td>6.151593</td>\n",
       "      <td>7.126846</td>\n",
       "      <td>237.269540</td>\n",
       "      <td>1358.159235</td>\n",
       "      <td>467.080201</td>\n",
       "      <td>...</td>\n",
       "      <td>1.522394e+07</td>\n",
       "      <td>5.000134e+06</td>\n",
       "      <td>4.763614e+07</td>\n",
       "      <td>0.0</td>\n",
       "      <td>5.100137e+08</td>\n",
       "      <td>5.100137e+08</td>\n",
       "      <td>1.100030e+07</td>\n",
       "      <td>8.073941</td>\n",
       "      <td>72.894062</td>\n",
       "      <td>0</td>\n",
       "    </tr>\n",
       "    <tr>\n",
       "      <th>4</th>\n",
       "      <td>1</td>\n",
       "      <td>2</td>\n",
       "      <td>5.740754</td>\n",
       "      <td>51</td>\n",
       "      <td>62</td>\n",
       "      <td>8.883851</td>\n",
       "      <td>10.799975</td>\n",
       "      <td>302.362223</td>\n",
       "      <td>757.159329</td>\n",
       "      <td>355.861061</td>\n",
       "      <td>...</td>\n",
       "      <td>9.208236e+06</td>\n",
       "      <td>2.998818e+06</td>\n",
       "      <td>1.916554e+07</td>\n",
       "      <td>0.0</td>\n",
       "      <td>1.329476e+08</td>\n",
       "      <td>1.329476e+08</td>\n",
       "      <td>6.997243e+06</td>\n",
       "      <td>4.303925</td>\n",
       "      <td>20.551684</td>\n",
       "      <td>0</td>\n",
       "    </tr>\n",
       "    <tr>\n",
       "      <th>...</th>\n",
       "      <td>...</td>\n",
       "      <td>...</td>\n",
       "      <td>...</td>\n",
       "      <td>...</td>\n",
       "      <td>...</td>\n",
       "      <td>...</td>\n",
       "      <td>...</td>\n",
       "      <td>...</td>\n",
       "      <td>...</td>\n",
       "      <td>...</td>\n",
       "      <td>...</td>\n",
       "      <td>...</td>\n",
       "      <td>...</td>\n",
       "      <td>...</td>\n",
       "      <td>...</td>\n",
       "      <td>...</td>\n",
       "      <td>...</td>\n",
       "      <td>...</td>\n",
       "      <td>...</td>\n",
       "      <td>...</td>\n",
       "      <td>...</td>\n",
       "    </tr>\n",
       "    <tr>\n",
       "      <th>2675</th>\n",
       "      <td>3</td>\n",
       "      <td>1</td>\n",
       "      <td>3.216239</td>\n",
       "      <td>40</td>\n",
       "      <td>45</td>\n",
       "      <td>12.436886</td>\n",
       "      <td>13.991496</td>\n",
       "      <td>158.903875</td>\n",
       "      <td>251.517077</td>\n",
       "      <td>139.388167</td>\n",
       "      <td>...</td>\n",
       "      <td>2.543770e+06</td>\n",
       "      <td>1.914973e+06</td>\n",
       "      <td>2.522729e+06</td>\n",
       "      <td>0.0</td>\n",
       "      <td>1.436230e+07</td>\n",
       "      <td>1.436230e+07</td>\n",
       "      <td>2.393717e+06</td>\n",
       "      <td>2.029246</td>\n",
       "      <td>5.914386</td>\n",
       "      <td>1</td>\n",
       "    </tr>\n",
       "    <tr>\n",
       "      <th>2676</th>\n",
       "      <td>3</td>\n",
       "      <td>4</td>\n",
       "      <td>3.920909</td>\n",
       "      <td>37</td>\n",
       "      <td>37</td>\n",
       "      <td>9.436588</td>\n",
       "      <td>9.436588</td>\n",
       "      <td>142.669144</td>\n",
       "      <td>226.949059</td>\n",
       "      <td>200.282213</td>\n",
       "      <td>...</td>\n",
       "      <td>2.481033e+06</td>\n",
       "      <td>1.998610e+06</td>\n",
       "      <td>2.385385e+06</td>\n",
       "      <td>0.0</td>\n",
       "      <td>7.994440e+06</td>\n",
       "      <td>7.994440e+06</td>\n",
       "      <td>2.997915e+06</td>\n",
       "      <td>0.896013</td>\n",
       "      <td>-0.131416</td>\n",
       "      <td>1</td>\n",
       "    </tr>\n",
       "    <tr>\n",
       "      <th>2677</th>\n",
       "      <td>3</td>\n",
       "      <td>1</td>\n",
       "      <td>3.630221</td>\n",
       "      <td>33</td>\n",
       "      <td>45</td>\n",
       "      <td>9.090357</td>\n",
       "      <td>12.395941</td>\n",
       "      <td>124.270746</td>\n",
       "      <td>274.115650</td>\n",
       "      <td>191.177357</td>\n",
       "      <td>...</td>\n",
       "      <td>3.499362e+06</td>\n",
       "      <td>1.999635e+06</td>\n",
       "      <td>4.158569e+06</td>\n",
       "      <td>0.0</td>\n",
       "      <td>1.899654e+07</td>\n",
       "      <td>1.899654e+07</td>\n",
       "      <td>3.249408e+06</td>\n",
       "      <td>1.931379</td>\n",
       "      <td>3.599911</td>\n",
       "      <td>1</td>\n",
       "    </tr>\n",
       "    <tr>\n",
       "      <th>2678</th>\n",
       "      <td>3</td>\n",
       "      <td>3</td>\n",
       "      <td>3.777979</td>\n",
       "      <td>37</td>\n",
       "      <td>42</td>\n",
       "      <td>9.793597</td>\n",
       "      <td>11.117056</td>\n",
       "      <td>104.651341</td>\n",
       "      <td>325.259612</td>\n",
       "      <td>176.803098</td>\n",
       "      <td>...</td>\n",
       "      <td>3.557078e+06</td>\n",
       "      <td>1.987355e+06</td>\n",
       "      <td>4.301190e+06</td>\n",
       "      <td>0.0</td>\n",
       "      <td>2.384826e+07</td>\n",
       "      <td>2.384826e+07</td>\n",
       "      <td>2.981033e+06</td>\n",
       "      <td>2.686592</td>\n",
       "      <td>8.120157</td>\n",
       "      <td>1</td>\n",
       "    </tr>\n",
       "    <tr>\n",
       "      <th>2679</th>\n",
       "      <td>3</td>\n",
       "      <td>1</td>\n",
       "      <td>4.139451</td>\n",
       "      <td>58</td>\n",
       "      <td>64</td>\n",
       "      <td>14.011519</td>\n",
       "      <td>15.460987</td>\n",
       "      <td>130.925155</td>\n",
       "      <td>249.762220</td>\n",
       "      <td>167.195141</td>\n",
       "      <td>...</td>\n",
       "      <td>2.362457e+06</td>\n",
       "      <td>1.489749e+06</td>\n",
       "      <td>2.866444e+06</td>\n",
       "      <td>0.0</td>\n",
       "      <td>1.787699e+07</td>\n",
       "      <td>1.787699e+07</td>\n",
       "      <td>1.986332e+06</td>\n",
       "      <td>2.535436</td>\n",
       "      <td>8.423741</td>\n",
       "      <td>1</td>\n",
       "    </tr>\n",
       "  </tbody>\n",
       "</table>\n",
       "<p>2680 rows × 90 columns</p>\n",
       "</div>"
      ],
      "text/plain": [
       "      data_group  event_type  finish_time  NCV  NCA  relative_NCV  \\\n",
       "0              1           1     5.180044   60   69     11.582914   \n",
       "1              1           3     4.820075   51   60     10.580749   \n",
       "2              1           2     5.280308   35   45      6.628401   \n",
       "3              1           4    13.329880   82   95      6.151593   \n",
       "4              1           2     5.740754   51   62      8.883851   \n",
       "...          ...         ...          ...  ...  ...           ...   \n",
       "2675           3           1     3.216239   40   45     12.436886   \n",
       "2676           3           4     3.920909   37   37      9.436588   \n",
       "2677           3           1     3.630221   33   45      9.090357   \n",
       "2678           3           3     3.777979   37   42      9.793597   \n",
       "2679           3           1     4.139451   58   64     14.011519   \n",
       "\n",
       "      relative_NCA  stroke_speed  velocity_mean  velocity_median  ...  \\\n",
       "0        13.320351    316.968468     660.142357       412.307076  ...   \n",
       "1        12.447940    210.631907     410.338698       309.952007  ...   \n",
       "2         8.522230    169.507549     854.468062       299.982495  ...   \n",
       "3         7.126846    237.269540    1358.159235       467.080201  ...   \n",
       "4        10.799975    302.362223     757.159329       355.861061  ...   \n",
       "...            ...           ...            ...              ...  ...   \n",
       "2675     13.991496    158.903875     251.517077       139.388167  ...   \n",
       "2676      9.436588    142.669144     226.949059       200.282213  ...   \n",
       "2677     12.395941    124.270746     274.115650       191.177357  ...   \n",
       "2678     11.117056    104.651341     325.259612       176.803098  ...   \n",
       "2679     15.460987    130.925155     249.762220       167.195141  ...   \n",
       "\n",
       "       jerk_y_mean  jerk_y_median  jerk_y_std_dev  jerk_y_minimum  \\\n",
       "0     8.845555e+06   5.999848e+06    9.439072e+06             0.0   \n",
       "1     5.652515e+06   3.999814e+06    5.783232e+06             0.0   \n",
       "2     9.134764e+06   2.999475e+06    1.894469e+07             0.0   \n",
       "3     1.522394e+07   5.000134e+06    4.763614e+07             0.0   \n",
       "4     9.208236e+06   2.998818e+06    1.916554e+07             0.0   \n",
       "...            ...            ...             ...             ...   \n",
       "2675  2.543770e+06   1.914973e+06    2.522729e+06             0.0   \n",
       "2676  2.481033e+06   1.998610e+06    2.385385e+06             0.0   \n",
       "2677  3.499362e+06   1.999635e+06    4.158569e+06             0.0   \n",
       "2678  3.557078e+06   1.987355e+06    4.301190e+06             0.0   \n",
       "2679  2.362457e+06   1.489749e+06    2.866444e+06             0.0   \n",
       "\n",
       "      jerk_y_maximum  jerk_y_data_range    jerk_y_iqr  jerk_y_skewness  \\\n",
       "0       4.399888e+07       4.399888e+07  8.999772e+06         1.731869   \n",
       "1       2.599879e+07       2.599879e+07  4.999768e+06         1.600076   \n",
       "2       1.079811e+08       1.079811e+08  6.998775e+06         3.764628   \n",
       "3       5.100137e+08       5.100137e+08  1.100030e+07         8.073941   \n",
       "4       1.329476e+08       1.329476e+08  6.997243e+06         4.303925   \n",
       "...              ...                ...           ...              ...   \n",
       "2675    1.436230e+07       1.436230e+07  2.393717e+06         2.029246   \n",
       "2676    7.994440e+06       7.994440e+06  2.997915e+06         0.896013   \n",
       "2677    1.899654e+07       1.899654e+07  3.249408e+06         1.931379   \n",
       "2678    2.384826e+07       2.384826e+07  2.981033e+06         2.686592   \n",
       "2679    1.787699e+07       1.787699e+07  1.986332e+06         2.535436   \n",
       "\n",
       "      jerk_y_kurtosis  has_parkinson  \n",
       "0            2.702888              0  \n",
       "1            2.043617              0  \n",
       "2           14.989523              0  \n",
       "3           72.894062              0  \n",
       "4           20.551684              0  \n",
       "...               ...            ...  \n",
       "2675         5.914386              1  \n",
       "2676        -0.131416              1  \n",
       "2677         3.599911              1  \n",
       "2678         8.120157              1  \n",
       "2679         8.423741              1  \n",
       "\n",
       "[2680 rows x 90 columns]"
      ]
     },
     "execution_count": 2,
     "metadata": {},
     "output_type": "execute_result"
    }
   ],
   "source": [
    "# Replace 'your_file.csv' with the actual file path\n",
    "csv_file = 'result_data.csv'\n",
    "\n",
    "# Read the CSV file and create a DataFrame\n",
    "df = pd.read_csv(csv_file)\n",
    "df"
   ]
  },
  {
   "cell_type": "code",
   "execution_count": 3,
   "metadata": {},
   "outputs": [],
   "source": [
    "from sklearn.model_selection import train_test_split\n",
    "from sklearn.preprocessing import StandardScaler\n",
    "\n",
    "# Define your target variable\n",
    "target_column = 'data_group'\n",
    "y = df[target_column]\n",
    "\n",
    "# Drop the target column and other non-essential columns if needed\n",
    "X = df.drop(columns=['has_parkinson', target_column, 'event_type'])\n",
    "\n",
    "# Standardize the features\n",
    "scaler = StandardScaler()\n",
    "X_scaled = scaler.fit_transform(X)\n",
    "\n",
    "# Split the data into a training and testing set\n",
    "X_train, X_test, y_train, y_test = train_test_split(X_scaled, y, test_size=0.2, random_state=42)"
   ]
  },
  {
   "cell_type": "markdown",
   "metadata": {},
   "source": [
    "## Adaboost"
   ]
  },
  {
   "cell_type": "code",
   "execution_count": 4,
   "metadata": {},
   "outputs": [
    {
     "name": "stderr",
     "output_type": "stream",
     "text": [
      "d:\\AppRelated\\Anaconda\\envs\\mi\\lib\\site-packages\\sklearn\\ensemble\\_base.py:156: FutureWarning: `base_estimator` was renamed to `estimator` in version 1.2 and will be removed in 1.4.\n",
      "  warnings.warn(\n"
     ]
    },
    {
     "name": "stdout",
     "output_type": "stream",
     "text": [
      "                Column  Feature Importance\n",
      "5         stroke_speed            0.058178\n",
      "0          finish_time            0.049867\n",
      "12        velocity_iqr            0.037631\n",
      "34   velocity_x_median            0.037281\n",
      "57          jerk_x_iqr            0.030589\n",
      "61   velocity_y_median            0.028728\n",
      "60     velocity_y_mean            0.027080\n",
      "35  velocity_x_std_dev            0.025451\n",
      "4         relative_NCA            0.024957\n",
      "48  acceleration_x_iqr            0.024192\n"
     ]
    }
   ],
   "source": [
    "from sklearn.ensemble import AdaBoostClassifier\n",
    "from sklearn.tree import DecisionTreeClassifier\n",
    "from sklearn.model_selection import train_test_split\n",
    "import pandas as pd\n",
    "\n",
    "# Create an AdaBoostClassifier with a DecisionTree base estimator\n",
    "n_estimators = 100  # You can adjust this number\n",
    "base_estimator = DecisionTreeClassifier(max_depth=2)  # You can adjust the depth\n",
    "adaboost = AdaBoostClassifier(base_estimator=base_estimator, n_estimators=n_estimators, random_state=42)\n",
    "\n",
    "# Fit the AdaBoostClassifier to the training data\n",
    "adaboost.fit(X_train, y_train)\n",
    "\n",
    "# Get feature importances from the AdaBoost model\n",
    "feature_importances = adaboost.feature_importances_\n",
    "\n",
    "# Create a DataFrame to display feature importances\n",
    "importance_df = pd.DataFrame({'Column': X.columns, 'Feature Importance': feature_importances})\n",
    "importance_df = importance_df.sort_values(by='Feature Importance', ascending=False)\n",
    "\n",
    "# Display the top N most important columns\n",
    "top_n = 10  # Change this to the number of top features you want to display\n",
    "top_features = importance_df.head(top_n)\n",
    "print(top_features)\n"
   ]
  },
  {
   "cell_type": "code",
   "execution_count": 5,
   "metadata": {},
   "outputs": [
    {
     "name": "stdout",
     "output_type": "stream",
     "text": [
      "Accuracy: 55.60%\n"
     ]
    }
   ],
   "source": [
    "# Use the trained AdaBoost classifier to make predictions on the test data\n",
    "y_pred = adaboost.predict(X_test)\n",
    "\n",
    "# Calculate the accuracy of the classifier\n",
    "accuracy = adaboost.score(X_test, y_test)\n",
    "\n",
    "print(\"Accuracy: {:.2f}%\".format(accuracy * 100))"
   ]
  },
  {
   "cell_type": "code",
   "execution_count": 6,
   "metadata": {},
   "outputs": [
    {
     "data": {
      "image/png": "[encoded data removed]",
      "text/plain": [
       "<Figure size 640x480 with 2 Axes>"
      ]
     },
     "metadata": {},
     "output_type": "display_data"
    }
   ],
   "source": [
    "from sklearn.metrics import confusion_matrix\n",
    "from sklearn.metrics import ConfusionMatrixDisplay\n",
    "\n",
    "# Create a confusion matrix\n",
    "confusion = confusion_matrix(y_test, y_pred)\n",
    "\n",
    "# Plot the confusion matrix\n",
    "disp = ConfusionMatrixDisplay(confusion, display_labels=adaboost.classes_)\n",
    "disp.plot(cmap='viridis')\n",
    "plt.title('Confusion Matrix')\n",
    "plt.show()"
   ]
  },
  {
   "cell_type": "code",
   "execution_count": 7,
   "metadata": {},
   "outputs": [
    {
     "name": "stderr",
     "output_type": "stream",
     "text": [
      "d:\\AppRelated\\Anaconda\\envs\\mi\\lib\\site-packages\\seaborn\\_oldcore.py:1498: FutureWarning: is_categorical_dtype is deprecated and will be removed in a future version. Use isinstance(dtype, CategoricalDtype) instead\n",
      "  if pd.api.types.is_categorical_dtype(vector):\n",
      "d:\\AppRelated\\Anaconda\\envs\\mi\\lib\\site-packages\\seaborn\\_oldcore.py:1498: FutureWarning: is_categorical_dtype is deprecated and will be removed in a future version. Use isinstance(dtype, CategoricalDtype) instead\n",
      "  if pd.api.types.is_categorical_dtype(vector):\n",
      "d:\\AppRelated\\Anaconda\\envs\\mi\\lib\\site-packages\\seaborn\\_oldcore.py:1498: FutureWarning: is_categorical_dtype is deprecated and will be removed in a future version. Use isinstance(dtype, CategoricalDtype) instead\n",
      "  if pd.api.types.is_categorical_dtype(vector):\n",
      "d:\\AppRelated\\Anaconda\\envs\\mi\\lib\\site-packages\\seaborn\\_oldcore.py:1498: FutureWarning: is_categorical_dtype is deprecated and will be removed in a future version. Use isinstance(dtype, CategoricalDtype) instead\n",
      "  if pd.api.types.is_categorical_dtype(vector):\n",
      "d:\\AppRelated\\Anaconda\\envs\\mi\\lib\\site-packages\\seaborn\\_oldcore.py:1498: FutureWarning: is_categorical_dtype is deprecated and will be removed in a future version. Use isinstance(dtype, CategoricalDtype) instead\n",
      "  if pd.api.types.is_categorical_dtype(vector):\n",
      "d:\\AppRelated\\Anaconda\\envs\\mi\\lib\\site-packages\\seaborn\\_oldcore.py:1498: FutureWarning: is_categorical_dtype is deprecated and will be removed in a future version. Use isinstance(dtype, CategoricalDtype) instead\n",
      "  if pd.api.types.is_categorical_dtype(vector):\n",
      "d:\\AppRelated\\Anaconda\\envs\\mi\\lib\\site-packages\\seaborn\\_oldcore.py:1498: FutureWarning: is_categorical_dtype is deprecated and will be removed in a future version. Use isinstance(dtype, CategoricalDtype) instead\n",
      "  if pd.api.types.is_categorical_dtype(vector):\n",
      "d:\\AppRelated\\Anaconda\\envs\\mi\\lib\\site-packages\\seaborn\\_oldcore.py:1498: FutureWarning: is_categorical_dtype is deprecated and will be removed in a future version. Use isinstance(dtype, CategoricalDtype) instead\n",
      "  if pd.api.types.is_categorical_dtype(vector):\n",
      "d:\\AppRelated\\Anaconda\\envs\\mi\\lib\\site-packages\\seaborn\\_oldcore.py:1498: FutureWarning: is_categorical_dtype is deprecated and will be removed in a future version. Use isinstance(dtype, CategoricalDtype) instead\n",
      "  if pd.api.types.is_categorical_dtype(vector):\n",
      "d:\\AppRelated\\Anaconda\\envs\\mi\\lib\\site-packages\\seaborn\\_oldcore.py:1498: FutureWarning: is_categorical_dtype is deprecated and will be removed in a future version. Use isinstance(dtype, CategoricalDtype) instead\n",
      "  if pd.api.types.is_categorical_dtype(vector):\n"
     ]
    },
    {
     "data": {
      "image/png": "[encoded data removed]",
      "text/plain": [
       "<Figure size 1500x1000 with 10 Axes>"
      ]
     },
     "metadata": {},
     "output_type": "display_data"
    }
   ],
   "source": [
    "# Define the number of top features you want to display\n",
    "top_n = 10  # Change this to the number of top features you want to visualize\n",
    "\n",
    "# Get the top N most important features\n",
    "top_features = importance_df['Column'].head(top_n)\n",
    "\n",
    "# Create larger boxplots for the top N most important columns\n",
    "plt.figure(figsize=(15, 10))  # Adjust the figure size as needed\n",
    "\n",
    "# Iterate through the top features and create boxplots\n",
    "for i, column_name in enumerate(top_features):\n",
    "    plt.subplot(2, 5, i + 1)  # Create subplots in a 2x5 grid\n",
    "    sns.boxplot(data=df, x=column_name)\n",
    "    plt.title(column_name)\n",
    "\n",
    "plt.tight_layout()  # Ensure proper layout\n",
    "plt.show()"
   ]
  },
  {
   "cell_type": "markdown",
   "metadata": {},
   "source": [
    "## Gradient Boosting"
   ]
  },
  {
   "cell_type": "code",
   "execution_count": 8,
   "metadata": {},
   "outputs": [
    {
     "name": "stdout",
     "output_type": "stream",
     "text": [
      "                   Column  Feature Importance\n",
      "5            stroke_speed            0.095210\n",
      "0             finish_time            0.064017\n",
      "25            jerk_median            0.046264\n",
      "70  acceleration_y_median            0.046042\n",
      "4            relative_NCA            0.035422\n",
      "24              jerk_mean            0.030163\n",
      "12           velocity_iqr            0.026296\n",
      "61      velocity_y_median            0.025444\n",
      "80         jerk_y_std_dev            0.024801\n",
      "60        velocity_y_mean            0.023507\n"
     ]
    }
   ],
   "source": [
    "from sklearn.ensemble import GradientBoostingClassifier\n",
    "from sklearn.metrics import confusion_matrix, ConfusionMatrixDisplay\n",
    "\n",
    "# Create a GradientBoostingClassifier\n",
    "gradient_boosting = GradientBoostingClassifier(n_estimators=100, random_state=42)\n",
    "\n",
    "# Fit the GradientBoostingClassifier to the training data\n",
    "gradient_boosting.fit(X_train, y_train)\n",
    "\n",
    "# Get feature importances from the AdaBoost model\n",
    "gb_feature_importances = gradient_boosting.feature_importances_\n",
    "\n",
    "# Create a DataFrame to display feature importances\n",
    "gb_importance_df = pd.DataFrame({'Column': X.columns, 'Feature Importance': gb_feature_importances})\n",
    "gb_importance_df = gb_importance_df.sort_values(by='Feature Importance', ascending=False)\n",
    "\n",
    "# Display the top N most important columns\n",
    "top_n = 10  # Change this to the number of top features you want to display\n",
    "top_features = gb_importance_df.head(top_n)\n",
    "print(top_features)\n"
   ]
  },
  {
   "cell_type": "code",
   "execution_count": 9,
   "metadata": {},
   "outputs": [
    {
     "name": "stdout",
     "output_type": "stream",
     "text": [
      "Accuracy (Gradient Boosting): 60.26%\n"
     ]
    }
   ],
   "source": [
    "# Use the trained Gradient Boosting classifier to make predictions on the test data\n",
    "y_pred_gb = gradient_boosting.predict(X_test)\n",
    "\n",
    "# Calculate the accuracy of the Gradient Boosting classifier\n",
    "accuracy_gb = gradient_boosting.score(X_test, y_test)\n",
    "\n",
    "print(\"Accuracy (Gradient Boosting): {:.2f}%\".format(accuracy_gb * 100))"
   ]
  },
  {
   "cell_type": "code",
   "execution_count": 10,
   "metadata": {},
   "outputs": [
    {
     "data": {
      "image/png": "[encoded data removed]",
      "text/plain": [
       "<Figure size 640x480 with 2 Axes>"
      ]
     },
     "metadata": {},
     "output_type": "display_data"
    }
   ],
   "source": [
    "# Create a confusion matrix\n",
    "confusion_gb = confusion_matrix(y_test, y_pred_gb)\n",
    "\n",
    "# Plot the confusion matrix\n",
    "disp_gb = ConfusionMatrixDisplay(confusion_gb, display_labels=gradient_boosting.classes_)\n",
    "disp_gb.plot(cmap='viridis')\n",
    "plt.title('Confusion Matrix (Gradient Boosting)')\n",
    "plt.show()"
   ]
  },
  {
   "cell_type": "code",
   "execution_count": 11,
   "metadata": {},
   "outputs": [
    {
     "name": "stderr",
     "output_type": "stream",
     "text": [
      "d:\\AppRelated\\Anaconda\\envs\\mi\\lib\\site-packages\\seaborn\\_oldcore.py:1498: FutureWarning: is_categorical_dtype is deprecated and will be removed in a future version. Use isinstance(dtype, CategoricalDtype) instead\n",
      "  if pd.api.types.is_categorical_dtype(vector):\n",
      "d:\\AppRelated\\Anaconda\\envs\\mi\\lib\\site-packages\\seaborn\\_oldcore.py:1498: FutureWarning: is_categorical_dtype is deprecated and will be removed in a future version. Use isinstance(dtype, CategoricalDtype) instead\n",
      "  if pd.api.types.is_categorical_dtype(vector):\n",
      "d:\\AppRelated\\Anaconda\\envs\\mi\\lib\\site-packages\\seaborn\\_oldcore.py:1498: FutureWarning: is_categorical_dtype is deprecated and will be removed in a future version. Use isinstance(dtype, CategoricalDtype) instead\n",
      "  if pd.api.types.is_categorical_dtype(vector):\n",
      "d:\\AppRelated\\Anaconda\\envs\\mi\\lib\\site-packages\\seaborn\\_oldcore.py:1498: FutureWarning: is_categorical_dtype is deprecated and will be removed in a future version. Use isinstance(dtype, CategoricalDtype) instead\n",
      "  if pd.api.types.is_categorical_dtype(vector):\n",
      "d:\\AppRelated\\Anaconda\\envs\\mi\\lib\\site-packages\\seaborn\\_oldcore.py:1498: FutureWarning: is_categorical_dtype is deprecated and will be removed in a future version. Use isinstance(dtype, CategoricalDtype) instead\n",
      "  if pd.api.types.is_categorical_dtype(vector):\n",
      "d:\\AppRelated\\Anaconda\\envs\\mi\\lib\\site-packages\\seaborn\\_oldcore.py:1498: FutureWarning: is_categorical_dtype is deprecated and will be removed in a future version. Use isinstance(dtype, CategoricalDtype) instead\n",
      "  if pd.api.types.is_categorical_dtype(vector):\n",
      "d:\\AppRelated\\Anaconda\\envs\\mi\\lib\\site-packages\\seaborn\\_oldcore.py:1498: FutureWarning: is_categorical_dtype is deprecated and will be removed in a future version. Use isinstance(dtype, CategoricalDtype) instead\n",
      "  if pd.api.types.is_categorical_dtype(vector):\n",
      "d:\\AppRelated\\Anaconda\\envs\\mi\\lib\\site-packages\\seaborn\\_oldcore.py:1498: FutureWarning: is_categorical_dtype is deprecated and will be removed in a future version. Use isinstance(dtype, CategoricalDtype) instead\n",
      "  if pd.api.types.is_categorical_dtype(vector):\n",
      "d:\\AppRelated\\Anaconda\\envs\\mi\\lib\\site-packages\\seaborn\\_oldcore.py:1498: FutureWarning: is_categorical_dtype is deprecated and will be removed in a future version. Use isinstance(dtype, CategoricalDtype) instead\n",
      "  if pd.api.types.is_categorical_dtype(vector):\n",
      "d:\\AppRelated\\Anaconda\\envs\\mi\\lib\\site-packages\\seaborn\\_oldcore.py:1498: FutureWarning: is_categorical_dtype is deprecated and will be removed in a future version. Use isinstance(dtype, CategoricalDtype) instead\n",
      "  if pd.api.types.is_categorical_dtype(vector):\n"
     ]
    },
    {
     "data": {
      "image/png": "[encoded data removed]",
      "text/plain": [
       "<Figure size 1500x1000 with 10 Axes>"
      ]
     },
     "metadata": {},
     "output_type": "display_data"
    }
   ],
   "source": [
    "# Define the number of top features you want to display\n",
    "top_n = 10  # Change this to the number of top features you want to visualize\n",
    "\n",
    "# Get the top N most important features\n",
    "top_features = gb_importance_df['Column'].head(top_n)\n",
    "\n",
    "# Create larger boxplots for the top N most important columns\n",
    "plt.figure(figsize=(15, 10))  # Adjust the figure size as needed\n",
    "\n",
    "# Iterate through the top features and create boxplots\n",
    "for i, column_name in enumerate(top_features):\n",
    "    plt.subplot(2, 5, i + 1)  # Create subplots in a 2x5 grid\n",
    "    sns.boxplot(data=df, x=column_name)\n",
    "    plt.title(column_name)\n",
    "\n",
    "plt.tight_layout()  # Ensure proper layout\n",
    "plt.show()"
   ]
  },
  {
   "cell_type": "markdown",
   "metadata": {},
   "source": [
    "## Random Forest"
   ]
  },
  {
   "cell_type": "markdown",
   "metadata": {},
   "source": [
    "### All features"
   ]
  },
  {
   "cell_type": "code",
   "execution_count": 12,
   "metadata": {},
   "outputs": [
    {
     "name": "stdout",
     "output_type": "stream",
     "text": [
      "                   Column  Feature Importance\n",
      "5            stroke_speed            0.033465\n",
      "0             finish_time            0.025111\n",
      "70  acceleration_y_median            0.024310\n",
      "25            jerk_median            0.023258\n",
      "61      velocity_y_median            0.022570\n",
      "16    acceleration_median            0.019572\n",
      "79          jerk_y_median            0.017909\n",
      "7         velocity_median            0.017357\n",
      "4            relative_NCA            0.016933\n",
      "3            relative_NCV            0.016900\n"
     ]
    }
   ],
   "source": [
    "from sklearn.ensemble import RandomForestClassifier\n",
    "from sklearn.metrics import confusion_matrix, ConfusionMatrixDisplay\n",
    "from sklearn.metrics import mean_squared_error, accuracy_score\n",
    "\n",
    "# Create a RandomForestClassifier\n",
    "n_estimators = 100\n",
    "random_forest = RandomForestClassifier(n_estimators=n_estimators, random_state=42)\n",
    "\n",
    "# Lists to store training and testing losses\n",
    "training_loss = []\n",
    "testing_loss = []\n",
    "\n",
    "# Lists to store training and testing accuracy\n",
    "training_accuracy = []\n",
    "testing_accuracy = []\n",
    "\n",
    "# Train the Random Forest incrementally, capturing training and testing loss at each step\n",
    "for i in range(1, n_estimators + 1):\n",
    "    random_forest.fit(X_train[:i], y_train[:i])  # Incremental training\n",
    "    \n",
    "    # Calculate training accuracy\n",
    "    y_pred_train = random_forest.predict(X_train)\n",
    "    accuracy_train = accuracy_score(y_train, y_pred_train)\n",
    "    # Append training accuracy to the list\n",
    "    training_accuracy.append(accuracy_train)\n",
    "\n",
    "    # Calculate training MSE\n",
    "    mse_train = mean_squared_error(y_train, y_pred_train)\n",
    "    # Append training MSE to the list\n",
    "    training_loss.append(mse_train)\n",
    "    \n",
    "    # Calculate testing accuracy\n",
    "    y_pred_test = random_forest.predict(X_test)\n",
    "    accuracy_test = accuracy_score(y_test, y_pred_test)\n",
    "    # Append testing accuracy to the list\n",
    "    testing_accuracy.append(accuracy_test)\n",
    "\n",
    "    # Calculate testing MSE\n",
    "    mse_test = mean_squared_error(y_test, y_pred_test)\n",
    "    # Append testing MSE to the list\n",
    "    testing_loss.append(mse_test)\n",
    "    \n",
    "\n",
    "# random_forest_history = random_forest.fit(X_train, y_train).estimators_[0].tree_.impurity\n",
    "\n",
    "# Fit the RandomForestClassifier to the training data\n",
    "random_forest.fit(X_train, y_train)\n",
    "\n",
    "# Get feature importances from the Random Forest model\n",
    "rf_feature_importances = random_forest.feature_importances_\n",
    "\n",
    "# Create a DataFrame to display feature importances\n",
    "rf_importance_df = pd.DataFrame({'Column': X.columns, 'Feature Importance': rf_feature_importances})\n",
    "rf_importance_df = rf_importance_df.sort_values(by='Feature Importance', ascending=False)\n",
    "\n",
    "# Display the top N most important columns\n",
    "top_n = 10  # Change this to the number of top features you want to display\n",
    "top_features = rf_importance_df.head(top_n)\n",
    "print(top_features)"
   ]
  },
  {
   "cell_type": "code",
   "execution_count": 13,
   "metadata": {},
   "outputs": [
    {
     "name": "stdout",
     "output_type": "stream",
     "text": [
      "Accuracy (Random Forest): 62.31%\n"
     ]
    }
   ],
   "source": [
    "# Use the trained Random Forest classifier to make predictions on the test data\n",
    "y_pred_rf = random_forest.predict(X_test)\n",
    "\n",
    "# Calculate the accuracy of the Random Forest classifier\n",
    "accuracy_rf = random_forest.score(X_test, y_test)\n",
    "\n",
    "print(\"Accuracy (Random Forest): {:.2f}%\".format(accuracy_rf * 100))"
   ]
  },
  {
   "cell_type": "code",
   "execution_count": 14,
   "metadata": {},
   "outputs": [
    {
     "data": {
      "image/png": "[encoded data removed]",
      "text/plain": [
       "<Figure size 640x480 with 2 Axes>"
      ]
     },
     "metadata": {},
     "output_type": "display_data"
    }
   ],
   "source": [
    "# Create a confusion matrix\n",
    "confusion_rf = confusion_matrix(y_test, y_pred_rf)\n",
    "\n",
    "# Plot the confusion matrix\n",
    "disp_rf = ConfusionMatrixDisplay(confusion_rf, display_labels=random_forest.classes_)\n",
    "disp_rf.plot(cmap='viridis')\n",
    "plt.title('Confusion Matrix (Random Forest)')\n",
    "plt.show()"
   ]
  },
  {
   "cell_type": "code",
   "execution_count": 15,
   "metadata": {},
   "outputs": [
    {
     "name": "stderr",
     "output_type": "stream",
     "text": [
      "d:\\AppRelated\\Anaconda\\envs\\mi\\lib\\site-packages\\seaborn\\_oldcore.py:1498: FutureWarning: is_categorical_dtype is deprecated and will be removed in a future version. Use isinstance(dtype, CategoricalDtype) instead\n",
      "  if pd.api.types.is_categorical_dtype(vector):\n",
      "d:\\AppRelated\\Anaconda\\envs\\mi\\lib\\site-packages\\seaborn\\_oldcore.py:1498: FutureWarning: is_categorical_dtype is deprecated and will be removed in a future version. Use isinstance(dtype, CategoricalDtype) instead\n",
      "  if pd.api.types.is_categorical_dtype(vector):\n",
      "d:\\AppRelated\\Anaconda\\envs\\mi\\lib\\site-packages\\seaborn\\_oldcore.py:1498: FutureWarning: is_categorical_dtype is deprecated and will be removed in a future version. Use isinstance(dtype, CategoricalDtype) instead\n",
      "  if pd.api.types.is_categorical_dtype(vector):\n",
      "d:\\AppRelated\\Anaconda\\envs\\mi\\lib\\site-packages\\seaborn\\_oldcore.py:1498: FutureWarning: is_categorical_dtype is deprecated and will be removed in a future version. Use isinstance(dtype, CategoricalDtype) instead\n",
      "  if pd.api.types.is_categorical_dtype(vector):\n",
      "d:\\AppRelated\\Anaconda\\envs\\mi\\lib\\site-packages\\seaborn\\_oldcore.py:1498: FutureWarning: is_categorical_dtype is deprecated and will be removed in a future version. Use isinstance(dtype, CategoricalDtype) instead\n",
      "  if pd.api.types.is_categorical_dtype(vector):\n",
      "d:\\AppRelated\\Anaconda\\envs\\mi\\lib\\site-packages\\seaborn\\_oldcore.py:1498: FutureWarning: is_categorical_dtype is deprecated and will be removed in a future version. Use isinstance(dtype, CategoricalDtype) instead\n",
      "  if pd.api.types.is_categorical_dtype(vector):\n",
      "d:\\AppRelated\\Anaconda\\envs\\mi\\lib\\site-packages\\seaborn\\_oldcore.py:1498: FutureWarning: is_categorical_dtype is deprecated and will be removed in a future version. Use isinstance(dtype, CategoricalDtype) instead\n",
      "  if pd.api.types.is_categorical_dtype(vector):\n",
      "d:\\AppRelated\\Anaconda\\envs\\mi\\lib\\site-packages\\seaborn\\_oldcore.py:1498: FutureWarning: is_categorical_dtype is deprecated and will be removed in a future version. Use isinstance(dtype, CategoricalDtype) instead\n",
      "  if pd.api.types.is_categorical_dtype(vector):\n",
      "d:\\AppRelated\\Anaconda\\envs\\mi\\lib\\site-packages\\seaborn\\_oldcore.py:1498: FutureWarning: is_categorical_dtype is deprecated and will be removed in a future version. Use isinstance(dtype, CategoricalDtype) instead\n",
      "  if pd.api.types.is_categorical_dtype(vector):\n",
      "d:\\AppRelated\\Anaconda\\envs\\mi\\lib\\site-packages\\seaborn\\_oldcore.py:1498: FutureWarning: is_categorical_dtype is deprecated and will be removed in a future version. Use isinstance(dtype, CategoricalDtype) instead\n",
      "  if pd.api.types.is_categorical_dtype(vector):\n"
     ]
    },
    {
     "data": {
      "image/png": "[encoded data removed]",
      "text/plain": [
       "<Figure size 1500x1000 with 10 Axes>"
      ]
     },
     "metadata": {},
     "output_type": "display_data"
    }
   ],
   "source": [
    "# Define the number of top features you want to display\n",
    "top_n = 10  # Change this to the number of top features you want to visualize\n",
    "\n",
    "# Get the top N most important features\n",
    "top_features_rf = rf_importance_df['Column'].head(top_n)\n",
    "\n",
    "# Create larger boxplots for the top N most important columns\n",
    "plt.figure(figsize=(15, 10))  # Adjust the figure size as needed\n",
    "\n",
    "# Iterate through the top features and create boxplots\n",
    "for i, column_name in enumerate(top_features_rf):\n",
    "    plt.subplot(2, 5, i + 1)  # Create subplots in a 2x5 grid\n",
    "    sns.boxplot(data=df, x=column_name)\n",
    "    plt.title(column_name)\n",
    "\n",
    "plt.tight_layout()  # Ensure proper layout"
   ]
  },
  {
   "cell_type": "code",
   "execution_count": 16,
   "metadata": {},
   "outputs": [
    {
     "data": {
      "application/vnd.plotly.v1+json": {
       "config": {
        "plotlyServerURL": "https://plot.ly"
       },
       "data": [
        {
         "mode": "lines",
         "name": "Training Loss",
         "type": "scatter",
         "x": [
          1,
          2,
          3,
          4,
          5,
          6,
          7,
          8,
          9,
          10,
          11,
          12,
          13,
          14,
          15,
          16,
          17,
          18,
          19,
          20,
          21,
          22,
          23,
          24,
          25,
          26,
          27,
          28,
          29,
          30,
          31,
          32,
          33,
          34,
          35,
          36,
          37,
          38,
          39,
          40,
          41,
          42,
          43,
          44,
          45,
          46,
          47,
          48,
          49,
          50,
          51,
          52,
          53,
          54,
          55,
          56,
          57,
          58,
          59,
          60,
          61,
          62,
          63,
          64,
          65,
          66,
          67,
          68,
          69,
          70,
          71,
          72,
          73,
          74,
          75,
          76,
          77,
          78,
          79,
          80,
          81,
          82,
          83,
          84,
          85,
          86,
          87,
          88,
          89,
          90,
          91,
          92,
          93,
          94,
          95,
          96,
          97,
          98,
          99,
          100
         ],
         "y": [
          1.6030783582089552,
          1.4594216417910448,
          1.041044776119403,
          0.8521455223880597,
          0.8367537313432836,
          1.068563432835821,
          1.1259328358208955,
          1.1879664179104477,
          1.3666044776119404,
          1.3554104477611941,
          1.3801305970149254,
          1.287313432835821,
          1.180037313432836,
          1.0792910447761195,
          1.0485074626865671,
          1.1343283582089552,
          1.1548507462686568,
          1.0503731343283582,
          1.0951492537313432,
          1.203358208955224,
          1.0965485074626866,
          1.0368470149253732,
          1.1082089552238805,
          1.0993470149253732,
          1.1054104477611941,
          1.1534514925373134,
          1.1273320895522387,
          1.1963619402985075,
          1.195429104477612,
          1.1902985074626866,
          1.1263992537313432,
          1.2066231343283582,
          1.1828358208955223,
          1.1847014925373134,
          1.2145522388059702,
          1.2271455223880596,
          1.2495335820895523,
          1.2434701492537314,
          1.1842350746268657,
          1.1833022388059702,
          1.1847014925373134,
          1.0834888059701493,
          1.1422574626865671,
          1.134794776119403,
          1.1417910447761195,
          1.1557835820895523,
          1.1632462686567164,
          1.1389925373134329,
          1.1688432835820894,
          1.248134328358209,
          1.21875,
          1.2369402985074627,
          1.236473880597015,
          1.1968283582089552,
          1.2192164179104477,
          1.2392723880597014,
          1.2803171641791045,
          1.2807835820895523,
          1.304570895522388,
          1.2546641791044777,
          1.2817164179104477,
          1.320429104477612,
          1.273320895522388,
          1.2840485074626866,
          1.2313432835820894,
          1.2411380597014925,
          1.2080223880597014,
          1.1553171641791045,
          1.2047574626865671,
          1.2257462686567164,
          1.2523320895522387,
          1.3003731343283582,
          1.336287313432836,
          1.2901119402985075,
          1.306436567164179,
          1.322294776119403,
          1.2681902985074627,
          1.3003731343283582,
          1.3078358208955223,
          1.2915111940298507,
          1.3073694029850746,
          1.2938432835820894,
          1.3288246268656716,
          1.296641791044776,
          1.3344216417910448,
          1.2691231343283582,
          1.3129664179104477,
          1.2509328358208955,
          1.2817164179104477,
          1.320429104477612,
          1.3003731343283582,
          1.2896455223880596,
          1.2784514925373134,
          1.3180970149253732,
          1.3166977611940298,
          1.287313432835821,
          1.298973880597015,
          1.2621268656716418,
          1.2863805970149254,
          1.2569962686567164
         ]
        },
        {
         "mode": "lines",
         "name": "Testing Loss",
         "type": "scatter",
         "x": [
          1,
          2,
          3,
          4,
          5,
          6,
          7,
          8,
          9,
          10,
          11,
          12,
          13,
          14,
          15,
          16,
          17,
          18,
          19,
          20,
          21,
          22,
          23,
          24,
          25,
          26,
          27,
          28,
          29,
          30,
          31,
          32,
          33,
          34,
          35,
          36,
          37,
          38,
          39,
          40,
          41,
          42,
          43,
          44,
          45,
          46,
          47,
          48,
          49,
          50,
          51,
          52,
          53,
          54,
          55,
          56,
          57,
          58,
          59,
          60,
          61,
          62,
          63,
          64,
          65,
          66,
          67,
          68,
          69,
          70,
          71,
          72,
          73,
          74,
          75,
          76,
          77,
          78,
          79,
          80,
          81,
          82,
          83,
          84,
          85,
          86,
          87,
          88,
          89,
          90,
          91,
          92,
          93,
          94,
          95,
          96,
          97,
          98,
          99,
          100
         ],
         "y": [
          1.5727611940298507,
          1.3861940298507462,
          1.037313432835821,
          0.8227611940298507,
          0.8190298507462687,
          1.0522388059701493,
          1.0708955223880596,
          1.1119402985074627,
          1.2332089552238805,
          1.2332089552238805,
          1.3041044776119404,
          1.212686567164179,
          1.0970149253731343,
          0.9888059701492538,
          0.9664179104477612,
          1.0932835820895523,
          1.1082089552238805,
          0.9813432835820896,
          1.0037313432835822,
          1.1194029850746268,
          0.9738805970149254,
          0.9589552238805971,
          1.0279850746268657,
          1.0205223880597014,
          1.0279850746268657,
          0.9757462686567164,
          1.037313432835821,
          1.0597014925373134,
          1.078358208955224,
          1.0727611940298507,
          1.007462686567164,
          1.0895522388059702,
          1.0951492537313432,
          1.0634328358208955,
          1.0820895522388059,
          1.1026119402985075,
          1.1473880597014925,
          1.1044776119402986,
          1.0951492537313432,
          1.0671641791044777,
          1.0671641791044777,
          0.9981343283582089,
          1.0764925373134329,
          1.0223880597014925,
          1.0279850746268657,
          1.044776119402985,
          1.0261194029850746,
          1.0485074626865671,
          1.0485074626865671,
          1.1156716417910448,
          1.1100746268656716,
          1.1529850746268657,
          1.1156716417910448,
          1.1212686567164178,
          1.1305970149253732,
          1.166044776119403,
          1.1791044776119404,
          1.0970149253731343,
          1.1828358208955223,
          1.1679104477611941,
          1.1548507462686568,
          1.1940298507462686,
          1.164179104477612,
          1.1138059701492538,
          1.166044776119403,
          1.125,
          1.123134328358209,
          1.0354477611940298,
          1.1194029850746268,
          1.1399253731343284,
          1.1473880597014925,
          1.1809701492537314,
          1.1679104477611941,
          1.1138059701492538,
          1.1473880597014925,
          1.205223880597015,
          1.1529850746268657,
          1.1958955223880596,
          1.242537313432836,
          1.1753731343283582,
          1.2014925373134329,
          1.2014925373134329,
          1.2705223880597014,
          1.171641791044776,
          1.1585820895522387,
          1.123134328358209,
          1.1791044776119404,
          1.1436567164179106,
          1.164179104477612,
          1.1007462686567164,
          1.1343283582089552,
          1.1604477611940298,
          1.1343283582089552,
          1.1996268656716418,
          1.2257462686567164,
          1.2462686567164178,
          1.1679104477611941,
          1.132462686567164,
          1.1026119402985075,
          1.1156716417910448
         ]
        }
       ],
       "layout": {
        "template": {
         "data": {
          "bar": [
           {
            "error_x": {
             "color": "#2a3f5f"
            },
            "error_y": {
             "color": "#2a3f5f"
            },
            "marker": {
             "line": {
              "color": "#E5ECF6",
              "width": 0.5
             },
             "pattern": {
              "fillmode": "overlay",
              "size": 10,
              "solidity": 0.2
             }
            },
            "type": "bar"
           }
          ],
          "barpolar": [
           {
            "marker": {
             "line": {
              "color": "#E5ECF6",
              "width": 0.5
             },
             "pattern": {
              "fillmode": "overlay",
              "size": 10,
              "solidity": 0.2
             }
            },
            "type": "barpolar"
           }
          ],
          "carpet": [
           {
            "aaxis": {
             "endlinecolor": "#2a3f5f",
             "gridcolor": "white",
             "linecolor": "white",
             "minorgridcolor": "white",
             "startlinecolor": "#2a3f5f"
            },
            "baxis": {
             "endlinecolor": "#2a3f5f",
             "gridcolor": "white",
             "linecolor": "white",
             "minorgridcolor": "white",
             "startlinecolor": "#2a3f5f"
            },
            "type": "carpet"
           }
          ],
          "choropleth": [
           {
            "colorbar": {
             "outlinewidth": 0,
             "ticks": ""
            },
            "type": "choropleth"
           }
          ],
          "contour": [
           {
            "colorbar": {
             "outlinewidth": 0,
             "ticks": ""
            },
            "colorscale": [
             [
              0,
              "#0d0887"
             ],
             [
              0.1111111111111111,
              "#46039f"
             ],
             [
              0.2222222222222222,
              "#7201a8"
             ],
             [
              0.3333333333333333,
              "#9c179e"
             ],
             [
              0.4444444444444444,
              "#bd3786"
             ],
             [
              0.5555555555555556,
              "#d8576b"
             ],
             [
              0.6666666666666666,
              "#ed7953"
             ],
             [
              0.7777777777777778,
              "#fb9f3a"
             ],
             [
              0.8888888888888888,
              "#fdca26"
             ],
             [
              1,
              "#f0f921"
             ]
            ],
            "type": "contour"
           }
          ],
          "contourcarpet": [
           {
            "colorbar": {
             "outlinewidth": 0,
             "ticks": ""
            },
            "type": "contourcarpet"
           }
          ],
          "heatmap": [
           {
            "colorbar": {
             "outlinewidth": 0,
             "ticks": ""
            },
            "colorscale": [
             [
              0,
              "#0d0887"
             ],
             [
              0.1111111111111111,
              "#46039f"
             ],
             [
              0.2222222222222222,
              "#7201a8"
             ],
             [
              0.3333333333333333,
              "#9c179e"
             ],
             [
              0.4444444444444444,
              "#bd3786"
             ],
             [
              0.5555555555555556,
              "#d8576b"
             ],
             [
              0.6666666666666666,
              "#ed7953"
             ],
             [
              0.7777777777777778,
              "#fb9f3a"
             ],
             [
              0.8888888888888888,
              "#fdca26"
             ],
             [
              1,
              "#f0f921"
             ]
            ],
            "type": "heatmap"
           }
          ],
          "heatmapgl": [
           {
            "colorbar": {
             "outlinewidth": 0,
             "ticks": ""
            },
            "colorscale": [
             [
              0,
              "#0d0887"
             ],
             [
              0.1111111111111111,
              "#46039f"
             ],
             [
              0.2222222222222222,
              "#7201a8"
             ],
             [
              0.3333333333333333,
              "#9c179e"
             ],
             [
              0.4444444444444444,
              "#bd3786"
             ],
             [
              0.5555555555555556,
              "#d8576b"
             ],
             [
              0.6666666666666666,
              "#ed7953"
             ],
             [
              0.7777777777777778,
              "#fb9f3a"
             ],
             [
              0.8888888888888888,
              "#fdca26"
             ],
             [
              1,
              "#f0f921"
             ]
            ],
            "type": "heatmapgl"
           }
          ],
          "histogram": [
           {
            "marker": {
             "pattern": {
              "fillmode": "overlay",
              "size": 10,
              "solidity": 0.2
             }
            },
            "type": "histogram"
           }
          ],
          "histogram2d": [
           {
            "colorbar": {
             "outlinewidth": 0,
             "ticks": ""
            },
            "colorscale": [
             [
              0,
              "#0d0887"
             ],
             [
              0.1111111111111111,
              "#46039f"
             ],
             [
              0.2222222222222222,
              "#7201a8"
             ],
             [
              0.3333333333333333,
              "#9c179e"
             ],
             [
              0.4444444444444444,
              "#bd3786"
             ],
             [
              0.5555555555555556,
              "#d8576b"
             ],
             [
              0.6666666666666666,
              "#ed7953"
             ],
             [
              0.7777777777777778,
              "#fb9f3a"
             ],
             [
              0.8888888888888888,
              "#fdca26"
             ],
             [
              1,
              "#f0f921"
             ]
            ],
            "type": "histogram2d"
           }
          ],
          "histogram2dcontour": [
           {
            "colorbar": {
             "outlinewidth": 0,
             "ticks": ""
            },
            "colorscale": [
             [
              0,
              "#0d0887"
             ],
             [
              0.1111111111111111,
              "#46039f"
             ],
             [
              0.2222222222222222,
              "#7201a8"
             ],
             [
              0.3333333333333333,
              "#9c179e"
             ],
             [
              0.4444444444444444,
              "#bd3786"
             ],
             [
              0.5555555555555556,
              "#d8576b"
             ],
             [
              0.6666666666666666,
              "#ed7953"
             ],
             [
              0.7777777777777778,
              "#fb9f3a"
             ],
             [
              0.8888888888888888,
              "#fdca26"
             ],
             [
              1,
              "#f0f921"
             ]
            ],
            "type": "histogram2dcontour"
           }
          ],
          "mesh3d": [
           {
            "colorbar": {
             "outlinewidth": 0,
             "ticks": ""
            },
            "type": "mesh3d"
           }
          ],
          "parcoords": [
           {
            "line": {
             "colorbar": {
              "outlinewidth": 0,
              "ticks": ""
             }
            },
            "type": "parcoords"
           }
          ],
          "pie": [
           {
            "automargin": true,
            "type": "pie"
           }
          ],
          "scatter": [
           {
            "fillpattern": {
             "fillmode": "overlay",
             "size": 10,
             "solidity": 0.2
            },
            "type": "scatter"
           }
          ],
          "scatter3d": [
           {
            "line": {
             "colorbar": {
              "outlinewidth": 0,
              "ticks": ""
             }
            },
            "marker": {
             "colorbar": {
              "outlinewidth": 0,
              "ticks": ""
             }
            },
            "type": "scatter3d"
           }
          ],
          "scattercarpet": [
           {
            "marker": {
             "colorbar": {
              "outlinewidth": 0,
              "ticks": ""
             }
            },
            "type": "scattercarpet"
           }
          ],
          "scattergeo": [
           {
            "marker": {
             "colorbar": {
              "outlinewidth": 0,
              "ticks": ""
             }
            },
            "type": "scattergeo"
           }
          ],
          "scattergl": [
           {
            "marker": {
             "colorbar": {
              "outlinewidth": 0,
              "ticks": ""
             }
            },
            "type": "scattergl"
           }
          ],
          "scattermapbox": [
           {
            "marker": {
             "colorbar": {
              "outlinewidth": 0,
              "ticks": ""
             }
            },
            "type": "scattermapbox"
           }
          ],
          "scatterpolar": [
           {
            "marker": {
             "colorbar": {
              "outlinewidth": 0,
              "ticks": ""
             }
            },
            "type": "scatterpolar"
           }
          ],
          "scatterpolargl": [
           {
            "marker": {
             "colorbar": {
              "outlinewidth": 0,
              "ticks": ""
             }
            },
            "type": "scatterpolargl"
           }
          ],
          "scatterternary": [
           {
            "marker": {
             "colorbar": {
              "outlinewidth": 0,
              "ticks": ""
             }
            },
            "type": "scatterternary"
           }
          ],
          "surface": [
           {
            "colorbar": {
             "outlinewidth": 0,
             "ticks": ""
            },
            "colorscale": [
             [
              0,
              "#0d0887"
             ],
             [
              0.1111111111111111,
              "#46039f"
             ],
             [
              0.2222222222222222,
              "#7201a8"
             ],
             [
              0.3333333333333333,
              "#9c179e"
             ],
             [
              0.4444444444444444,
              "#bd3786"
             ],
             [
              0.5555555555555556,
              "#d8576b"
             ],
             [
              0.6666666666666666,
              "#ed7953"
             ],
             [
              0.7777777777777778,
              "#fb9f3a"
             ],
             [
              0.8888888888888888,
              "#fdca26"
             ],
             [
              1,
              "#f0f921"
             ]
            ],
            "type": "surface"
           }
          ],
          "table": [
           {
            "cells": {
             "fill": {
              "color": "#EBF0F8"
             },
             "line": {
              "color": "white"
             }
            },
            "header": {
             "fill": {
              "color": "#C8D4E3"
             },
             "line": {
              "color": "white"
             }
            },
            "type": "table"
           }
          ]
         },
         "layout": {
          "annotationdefaults": {
           "arrowcolor": "#2a3f5f",
           "arrowhead": 0,
           "arrowwidth": 1
          },
          "autotypenumbers": "strict",
          "coloraxis": {
           "colorbar": {
            "outlinewidth": 0,
            "ticks": ""
           }
          },
          "colorscale": {
           "diverging": [
            [
             0,
             "#8e0152"
            ],
            [
             0.1,
             "#c51b7d"
            ],
            [
             0.2,
             "#de77ae"
            ],
            [
             0.3,
             "#f1b6da"
            ],
            [
             0.4,
             "#fde0ef"
            ],
            [
             0.5,
             "#f7f7f7"
            ],
            [
             0.6,
             "#e6f5d0"
            ],
            [
             0.7,
             "#b8e186"
            ],
            [
             0.8,
             "#7fbc41"
            ],
            [
             0.9,
             "#4d9221"
            ],
            [
             1,
             "#276419"
            ]
           ],
           "sequential": [
            [
             0,
             "#0d0887"
            ],
            [
             0.1111111111111111,
             "#46039f"
            ],
            [
             0.2222222222222222,
             "#7201a8"
            ],
            [
             0.3333333333333333,
             "#9c179e"
            ],
            [
             0.4444444444444444,
             "#bd3786"
            ],
            [
             0.5555555555555556,
             "#d8576b"
            ],
            [
             0.6666666666666666,
             "#ed7953"
            ],
            [
             0.7777777777777778,
             "#fb9f3a"
            ],
            [
             0.8888888888888888,
             "#fdca26"
            ],
            [
             1,
             "#f0f921"
            ]
           ],
           "sequentialminus": [
            [
             0,
             "#0d0887"
            ],
            [
             0.1111111111111111,
             "#46039f"
            ],
            [
             0.2222222222222222,
             "#7201a8"
            ],
            [
             0.3333333333333333,
             "#9c179e"
            ],
            [
             0.4444444444444444,
             "#bd3786"
            ],
            [
             0.5555555555555556,
             "#d8576b"
            ],
            [
             0.6666666666666666,
             "#ed7953"
            ],
            [
             0.7777777777777778,
             "#fb9f3a"
            ],
            [
             0.8888888888888888,
             "#fdca26"
            ],
            [
             1,
             "#f0f921"
            ]
           ]
          },
          "colorway": [
           "#636efa",
           "#EF553B",
           "#00cc96",
           "#ab63fa",
           "#FFA15A",
           "#19d3f3",
           "#FF6692",
           "#B6E880",
           "#FF97FF",
           "#FECB52"
          ],
          "font": {
           "color": "#2a3f5f"
          },
          "geo": {
           "bgcolor": "white",
           "lakecolor": "white",
           "landcolor": "#E5ECF6",
           "showlakes": true,
           "showland": true,
           "subunitcolor": "white"
          },
          "hoverlabel": {
           "align": "left"
          },
          "hovermode": "closest",
          "mapbox": {
           "style": "light"
          },
          "paper_bgcolor": "white",
          "plot_bgcolor": "#E5ECF6",
          "polar": {
           "angularaxis": {
            "gridcolor": "white",
            "linecolor": "white",
            "ticks": ""
           },
           "bgcolor": "#E5ECF6",
           "radialaxis": {
            "gridcolor": "white",
            "linecolor": "white",
            "ticks": ""
           }
          },
          "scene": {
           "xaxis": {
            "backgroundcolor": "#E5ECF6",
            "gridcolor": "white",
            "gridwidth": 2,
            "linecolor": "white",
            "showbackground": true,
            "ticks": "",
            "zerolinecolor": "white"
           },
           "yaxis": {
            "backgroundcolor": "#E5ECF6",
            "gridcolor": "white",
            "gridwidth": 2,
            "linecolor": "white",
            "showbackground": true,
            "ticks": "",
            "zerolinecolor": "white"
           },
           "zaxis": {
            "backgroundcolor": "#E5ECF6",
            "gridcolor": "white",
            "gridwidth": 2,
            "linecolor": "white",
            "showbackground": true,
            "ticks": "",
            "zerolinecolor": "white"
           }
          },
          "shapedefaults": {
           "line": {
            "color": "#2a3f5f"
           }
          },
          "ternary": {
           "aaxis": {
            "gridcolor": "white",
            "linecolor": "white",
            "ticks": ""
           },
           "baxis": {
            "gridcolor": "white",
            "linecolor": "white",
            "ticks": ""
           },
           "bgcolor": "#E5ECF6",
           "caxis": {
            "gridcolor": "white",
            "linecolor": "white",
            "ticks": ""
           }
          },
          "title": {
           "x": 0.05
          },
          "xaxis": {
           "automargin": true,
           "gridcolor": "white",
           "linecolor": "white",
           "ticks": "",
           "title": {
            "standoff": 15
           },
           "zerolinecolor": "white",
           "zerolinewidth": 2
          },
          "yaxis": {
           "automargin": true,
           "gridcolor": "white",
           "linecolor": "white",
           "ticks": "",
           "title": {
            "standoff": 15
           },
           "zerolinecolor": "white",
           "zerolinewidth": 2
          }
         }
        },
        "title": {
         "text": "Training and Testing Loss Over Epochs"
        },
        "xaxis": {
         "title": {
          "text": "Number of Estimators (Epochs)"
         }
        },
        "yaxis": {
         "title": {
          "text": "MSE"
         }
        }
       }
      }
     },
     "metadata": {},
     "output_type": "display_data"
    }
   ],
   "source": [
    "import plotly.graph_objects as go\n",
    "import plotly.express as px\n",
    "\n",
    "# Create a line plot for both training and testing MSE using Plotly\n",
    "fig = go.Figure()\n",
    "\n",
    "fig.add_trace(go.Scatter(x=np.arange(1, n_estimators + 1), y=training_loss, mode='lines', name='Training Loss'))\n",
    "fig.add_trace(go.Scatter(x=np.arange(1, n_estimators + 1), y=testing_loss, mode='lines', name='Testing Loss'))\n",
    "\n",
    "fig.update_layout(title='Training and Testing Loss Over Epochs',\n",
    "                  xaxis_title='Number of Estimators (Epochs)',\n",
    "                  yaxis_title='MSE')\n",
    "\n",
    "fig.show()\n"
   ]
  },
  {
   "cell_type": "code",
   "execution_count": 17,
   "metadata": {},
   "outputs": [
    {
     "data": {
      "application/vnd.plotly.v1+json": {
       "config": {
        "plotlyServerURL": "https://plot.ly"
       },
       "data": [
        {
         "mode": "lines",
         "name": "Training Accuracy",
         "type": "scatter",
         "x": [
          1,
          2,
          3,
          4,
          5,
          6,
          7,
          8,
          9,
          10,
          11,
          12,
          13,
          14,
          15,
          16,
          17,
          18,
          19,
          20,
          21,
          22,
          23,
          24,
          25,
          26,
          27,
          28,
          29,
          30,
          31,
          32,
          33,
          34,
          35,
          36,
          37,
          38,
          39,
          40,
          41,
          42,
          43,
          44,
          45,
          46,
          47,
          48,
          49,
          50,
          51,
          52,
          53,
          54,
          55,
          56,
          57,
          58,
          59,
          60,
          61,
          62,
          63,
          64,
          65,
          66,
          67,
          68,
          69,
          70,
          71,
          72,
          73,
          74,
          75,
          76,
          77,
          78,
          79,
          80,
          81,
          82,
          83,
          84,
          85,
          86,
          87,
          88,
          89,
          90,
          91,
          92,
          93,
          94,
          95,
          96,
          97,
          98,
          99,
          100
         ],
         "y": [
          0.43236940298507465,
          0.46828358208955223,
          0.30736940298507465,
          0.24860074626865672,
          0.3087686567164179,
          0.4281716417910448,
          0.4295708955223881,
          0.4430970149253731,
          0.48134328358208955,
          0.47994402985074625,
          0.4832089552238806,
          0.4780783582089552,
          0.46222014925373134,
          0.44402985074626866,
          0.4398320895522388,
          0.45475746268656714,
          0.4496268656716418,
          0.4337686567164179,
          0.43097014925373134,
          0.4025186567164179,
          0.40578358208955223,
          0.40531716417910446,
          0.4025186567164179,
          0.36100746268656714,
          0.353544776119403,
          0.37826492537313433,
          0.384794776119403,
          0.3871268656716418,
          0.386660447761194,
          0.3987873134328358,
          0.39972014925373134,
          0.40205223880597013,
          0.396455223880597,
          0.3833955223880597,
          0.4039179104477612,
          0.40111940298507465,
          0.39972014925373134,
          0.40158582089552236,
          0.4230410447761194,
          0.4351679104477612,
          0.43236940298507465,
          0.42723880597014924,
          0.42723880597014924,
          0.43050373134328357,
          0.44029850746268656,
          0.4528917910447761,
          0.4454291044776119,
          0.46548507462686567,
          0.46361940298507465,
          0.447294776119403,
          0.45009328358208955,
          0.44869402985074625,
          0.44076492537313433,
          0.4468283582089552,
          0.44822761194029853,
          0.44776119402985076,
          0.4291044776119403,
          0.42863805970149255,
          0.43843283582089554,
          0.45615671641791045,
          0.4528917910447761,
          0.4603544776119403,
          0.45988805970149255,
          0.44776119402985076,
          0.47388059701492535,
          0.4724813432835821,
          0.470615671641791,
          0.478544776119403,
          0.4766791044776119,
          0.48367537313432835,
          0.46968283582089554,
          0.4748134328358209,
          0.4626865671641791,
          0.4612873134328358,
          0.4631529850746269,
          0.4556902985074627,
          0.46361940298507465,
          0.46781716417910446,
          0.4673507462686567,
          0.46968283582089554,
          0.4608208955223881,
          0.458955223880597,
          0.4603544776119403,
          0.48134328358208955,
          0.45755597014925375,
          0.4724813432835821,
          0.470615671641791,
          0.48367537313432835,
          0.46828358208955223,
          0.45475746268656714,
          0.47201492537313433,
          0.47574626865671643,
          0.4701492537313433,
          0.4626865671641791,
          0.4724813432835821,
          0.4780783582089552,
          0.4762126865671642,
          0.49347014925373134,
          0.4832089552238806,
          0.4916044776119403
         ]
        },
        {
         "mode": "lines",
         "name": "Testing Accuracy",
         "type": "scatter",
         "x": [
          1,
          2,
          3,
          4,
          5,
          6,
          7,
          8,
          9,
          10,
          11,
          12,
          13,
          14,
          15,
          16,
          17,
          18,
          19,
          20,
          21,
          22,
          23,
          24,
          25,
          26,
          27,
          28,
          29,
          30,
          31,
          32,
          33,
          34,
          35,
          36,
          37,
          38,
          39,
          40,
          41,
          42,
          43,
          44,
          45,
          46,
          47,
          48,
          49,
          50,
          51,
          52,
          53,
          54,
          55,
          56,
          57,
          58,
          59,
          60,
          61,
          62,
          63,
          64,
          65,
          66,
          67,
          68,
          69,
          70,
          71,
          72,
          73,
          74,
          75,
          76,
          77,
          78,
          79,
          80,
          81,
          82,
          83,
          84,
          85,
          86,
          87,
          88,
          89,
          90,
          91,
          92,
          93,
          94,
          95,
          96,
          97,
          98,
          99,
          100
         ],
         "y": [
          0.43470149253731344,
          0.48134328358208955,
          0.3041044776119403,
          0.25,
          0.31529850746268656,
          0.4291044776119403,
          0.4496268656716418,
          0.44216417910447764,
          0.5111940298507462,
          0.4944029850746269,
          0.48507462686567165,
          0.498134328358209,
          0.48507462686567165,
          0.47574626865671643,
          0.47574626865671643,
          0.4552238805970149,
          0.4626865671641791,
          0.44402985074626866,
          0.44402985074626866,
          0.42350746268656714,
          0.43470149253731344,
          0.4216417910447761,
          0.4197761194029851,
          0.39365671641791045,
          0.38619402985074625,
          0.42723880597014924,
          0.43283582089552236,
          0.44402985074626866,
          0.43097014925373134,
          0.43097014925373134,
          0.44029850746268656,
          0.4253731343283582,
          0.4141791044776119,
          0.40671641791044777,
          0.43843283582089554,
          0.42350746268656714,
          0.40671641791044777,
          0.4216417910447761,
          0.43097014925373134,
          0.46455223880597013,
          0.4533582089552239,
          0.44402985074626866,
          0.43843283582089554,
          0.458955223880597,
          0.46455223880597013,
          0.48134328358208955,
          0.47201492537313433,
          0.5,
          0.47761194029850745,
          0.4832089552238806,
          0.4832089552238806,
          0.46828358208955223,
          0.47201492537313433,
          0.47201492537313433,
          0.46828358208955223,
          0.4664179104477612,
          0.458955223880597,
          0.48507462686567165,
          0.47761194029850745,
          0.48134328358208955,
          0.4944029850746269,
          0.48880597014925375,
          0.47388059701492535,
          0.47388059701492535,
          0.47761194029850745,
          0.4906716417910448,
          0.498134328358209,
          0.5074626865671642,
          0.5074626865671642,
          0.498134328358209,
          0.4906716417910448,
          0.4906716417910448,
          0.498134328358209,
          0.5074626865671642,
          0.4906716417910448,
          0.47761194029850745,
          0.4906716417910448,
          0.4869402985074627,
          0.46828358208955223,
          0.48507462686567165,
          0.48134328358208955,
          0.4701492537313433,
          0.4626865671641791,
          0.4832089552238806,
          0.48507462686567165,
          0.498134328358209,
          0.47574626865671643,
          0.47201492537313433,
          0.46828358208955223,
          0.4869402985074627,
          0.4925373134328358,
          0.5,
          0.498134328358209,
          0.4832089552238806,
          0.4906716417910448,
          0.48134328358208955,
          0.4925373134328358,
          0.5167910447761194,
          0.5186567164179104,
          0.5111940298507462
         ]
        }
       ],
       "layout": {
        "template": {
         "data": {
          "bar": [
           {
            "error_x": {
             "color": "#2a3f5f"
            },
            "error_y": {
             "color": "#2a3f5f"
            },
            "marker": {
             "line": {
              "color": "#E5ECF6",
              "width": 0.5
             },
             "pattern": {
              "fillmode": "overlay",
              "size": 10,
              "solidity": 0.2
             }
            },
            "type": "bar"
           }
          ],
          "barpolar": [
           {
            "marker": {
             "line": {
              "color": "#E5ECF6",
              "width": 0.5
             },
             "pattern": {
              "fillmode": "overlay",
              "size": 10,
              "solidity": 0.2
             }
            },
            "type": "barpolar"
           }
          ],
          "carpet": [
           {
            "aaxis": {
             "endlinecolor": "#2a3f5f",
             "gridcolor": "white",
             "linecolor": "white",
             "minorgridcolor": "white",
             "startlinecolor": "#2a3f5f"
            },
            "baxis": {
             "endlinecolor": "#2a3f5f",
             "gridcolor": "white",
             "linecolor": "white",
             "minorgridcolor": "white",
             "startlinecolor": "#2a3f5f"
            },
            "type": "carpet"
           }
          ],
          "choropleth": [
           {
            "colorbar": {
             "outlinewidth": 0,
             "ticks": ""
            },
            "type": "choropleth"
           }
          ],
          "contour": [
           {
            "colorbar": {
             "outlinewidth": 0,
             "ticks": ""
            },
            "colorscale": [
             [
              0,
              "#0d0887"
             ],
             [
              0.1111111111111111,
              "#46039f"
             ],
             [
              0.2222222222222222,
              "#7201a8"
             ],
             [
              0.3333333333333333,
              "#9c179e"
             ],
             [
              0.4444444444444444,
              "#bd3786"
             ],
             [
              0.5555555555555556,
              "#d8576b"
             ],
             [
              0.6666666666666666,
              "#ed7953"
             ],
             [
              0.7777777777777778,
              "#fb9f3a"
             ],
             [
              0.8888888888888888,
              "#fdca26"
             ],
             [
              1,
              "#f0f921"
             ]
            ],
            "type": "contour"
           }
          ],
          "contourcarpet": [
           {
            "colorbar": {
             "outlinewidth": 0,
             "ticks": ""
            },
            "type": "contourcarpet"
           }
          ],
          "heatmap": [
           {
            "colorbar": {
             "outlinewidth": 0,
             "ticks": ""
            },
            "colorscale": [
             [
              0,
              "#0d0887"
             ],
             [
              0.1111111111111111,
              "#46039f"
             ],
             [
              0.2222222222222222,
              "#7201a8"
             ],
             [
              0.3333333333333333,
              "#9c179e"
             ],
             [
              0.4444444444444444,
              "#bd3786"
             ],
             [
              0.5555555555555556,
              "#d8576b"
             ],
             [
              0.6666666666666666,
              "#ed7953"
             ],
             [
              0.7777777777777778,
              "#fb9f3a"
             ],
             [
              0.8888888888888888,
              "#fdca26"
             ],
             [
              1,
              "#f0f921"
             ]
            ],
            "type": "heatmap"
           }
          ],
          "heatmapgl": [
           {
            "colorbar": {
             "outlinewidth": 0,
             "ticks": ""
            },
            "colorscale": [
             [
              0,
              "#0d0887"
             ],
             [
              0.1111111111111111,
              "#46039f"
             ],
             [
              0.2222222222222222,
              "#7201a8"
             ],
             [
              0.3333333333333333,
              "#9c179e"
             ],
             [
              0.4444444444444444,
              "#bd3786"
             ],
             [
              0.5555555555555556,
              "#d8576b"
             ],
             [
              0.6666666666666666,
              "#ed7953"
             ],
             [
              0.7777777777777778,
              "#fb9f3a"
             ],
             [
              0.8888888888888888,
              "#fdca26"
             ],
             [
              1,
              "#f0f921"
             ]
            ],
            "type": "heatmapgl"
           }
          ],
          "histogram": [
           {
            "marker": {
             "pattern": {
              "fillmode": "overlay",
              "size": 10,
              "solidity": 0.2
             }
            },
            "type": "histogram"
           }
          ],
          "histogram2d": [
           {
            "colorbar": {
             "outlinewidth": 0,
             "ticks": ""
            },
            "colorscale": [
             [
              0,
              "#0d0887"
             ],
             [
              0.1111111111111111,
              "#46039f"
             ],
             [
              0.2222222222222222,
              "#7201a8"
             ],
             [
              0.3333333333333333,
              "#9c179e"
             ],
             [
              0.4444444444444444,
              "#bd3786"
             ],
             [
              0.5555555555555556,
              "#d8576b"
             ],
             [
              0.6666666666666666,
              "#ed7953"
             ],
             [
              0.7777777777777778,
              "#fb9f3a"
             ],
             [
              0.8888888888888888,
              "#fdca26"
             ],
             [
              1,
              "#f0f921"
             ]
            ],
            "type": "histogram2d"
           }
          ],
          "histogram2dcontour": [
           {
            "colorbar": {
             "outlinewidth": 0,
             "ticks": ""
            },
            "colorscale": [
             [
              0,
              "#0d0887"
             ],
             [
              0.1111111111111111,
              "#46039f"
             ],
             [
              0.2222222222222222,
              "#7201a8"
             ],
             [
              0.3333333333333333,
              "#9c179e"
             ],
             [
              0.4444444444444444,
              "#bd3786"
             ],
             [
              0.5555555555555556,
              "#d8576b"
             ],
             [
              0.6666666666666666,
              "#ed7953"
             ],
             [
              0.7777777777777778,
              "#fb9f3a"
             ],
             [
              0.8888888888888888,
              "#fdca26"
             ],
             [
              1,
              "#f0f921"
             ]
            ],
            "type": "histogram2dcontour"
           }
          ],
          "mesh3d": [
           {
            "colorbar": {
             "outlinewidth": 0,
             "ticks": ""
            },
            "type": "mesh3d"
           }
          ],
          "parcoords": [
           {
            "line": {
             "colorbar": {
              "outlinewidth": 0,
              "ticks": ""
             }
            },
            "type": "parcoords"
           }
          ],
          "pie": [
           {
            "automargin": true,
            "type": "pie"
           }
          ],
          "scatter": [
           {
            "fillpattern": {
             "fillmode": "overlay",
             "size": 10,
             "solidity": 0.2
            },
            "type": "scatter"
           }
          ],
          "scatter3d": [
           {
            "line": {
             "colorbar": {
              "outlinewidth": 0,
              "ticks": ""
             }
            },
            "marker": {
             "colorbar": {
              "outlinewidth": 0,
              "ticks": ""
             }
            },
            "type": "scatter3d"
           }
          ],
          "scattercarpet": [
           {
            "marker": {
             "colorbar": {
              "outlinewidth": 0,
              "ticks": ""
             }
            },
            "type": "scattercarpet"
           }
          ],
          "scattergeo": [
           {
            "marker": {
             "colorbar": {
              "outlinewidth": 0,
              "ticks": ""
             }
            },
            "type": "scattergeo"
           }
          ],
          "scattergl": [
           {
            "marker": {
             "colorbar": {
              "outlinewidth": 0,
              "ticks": ""
             }
            },
            "type": "scattergl"
           }
          ],
          "scattermapbox": [
           {
            "marker": {
             "colorbar": {
              "outlinewidth": 0,
              "ticks": ""
             }
            },
            "type": "scattermapbox"
           }
          ],
          "scatterpolar": [
           {
            "marker": {
             "colorbar": {
              "outlinewidth": 0,
              "ticks": ""
             }
            },
            "type": "scatterpolar"
           }
          ],
          "scatterpolargl": [
           {
            "marker": {
             "colorbar": {
              "outlinewidth": 0,
              "ticks": ""
             }
            },
            "type": "scatterpolargl"
           }
          ],
          "scatterternary": [
           {
            "marker": {
             "colorbar": {
              "outlinewidth": 0,
              "ticks": ""
             }
            },
            "type": "scatterternary"
           }
          ],
          "surface": [
           {
            "colorbar": {
             "outlinewidth": 0,
             "ticks": ""
            },
            "colorscale": [
             [
              0,
              "#0d0887"
             ],
             [
              0.1111111111111111,
              "#46039f"
             ],
             [
              0.2222222222222222,
              "#7201a8"
             ],
             [
              0.3333333333333333,
              "#9c179e"
             ],
             [
              0.4444444444444444,
              "#bd3786"
             ],
             [
              0.5555555555555556,
              "#d8576b"
             ],
             [
              0.6666666666666666,
              "#ed7953"
             ],
             [
              0.7777777777777778,
              "#fb9f3a"
             ],
             [
              0.8888888888888888,
              "#fdca26"
             ],
             [
              1,
              "#f0f921"
             ]
            ],
            "type": "surface"
           }
          ],
          "table": [
           {
            "cells": {
             "fill": {
              "color": "#EBF0F8"
             },
             "line": {
              "color": "white"
             }
            },
            "header": {
             "fill": {
              "color": "#C8D4E3"
             },
             "line": {
              "color": "white"
             }
            },
            "type": "table"
           }
          ]
         },
         "layout": {
          "annotationdefaults": {
           "arrowcolor": "#2a3f5f",
           "arrowhead": 0,
           "arrowwidth": 1
          },
          "autotypenumbers": "strict",
          "coloraxis": {
           "colorbar": {
            "outlinewidth": 0,
            "ticks": ""
           }
          },
          "colorscale": {
           "diverging": [
            [
             0,
             "#8e0152"
            ],
            [
             0.1,
             "#c51b7d"
            ],
            [
             0.2,
             "#de77ae"
            ],
            [
             0.3,
             "#f1b6da"
            ],
            [
             0.4,
             "#fde0ef"
            ],
            [
             0.5,
             "#f7f7f7"
            ],
            [
             0.6,
             "#e6f5d0"
            ],
            [
             0.7,
             "#b8e186"
            ],
            [
             0.8,
             "#7fbc41"
            ],
            [
             0.9,
             "#4d9221"
            ],
            [
             1,
             "#276419"
            ]
           ],
           "sequential": [
            [
             0,
             "#0d0887"
            ],
            [
             0.1111111111111111,
             "#46039f"
            ],
            [
             0.2222222222222222,
             "#7201a8"
            ],
            [
             0.3333333333333333,
             "#9c179e"
            ],
            [
             0.4444444444444444,
             "#bd3786"
            ],
            [
             0.5555555555555556,
             "#d8576b"
            ],
            [
             0.6666666666666666,
             "#ed7953"
            ],
            [
             0.7777777777777778,
             "#fb9f3a"
            ],
            [
             0.8888888888888888,
             "#fdca26"
            ],
            [
             1,
             "#f0f921"
            ]
           ],
           "sequentialminus": [
            [
             0,
             "#0d0887"
            ],
            [
             0.1111111111111111,
             "#46039f"
            ],
            [
             0.2222222222222222,
             "#7201a8"
            ],
            [
             0.3333333333333333,
             "#9c179e"
            ],
            [
             0.4444444444444444,
             "#bd3786"
            ],
            [
             0.5555555555555556,
             "#d8576b"
            ],
            [
             0.6666666666666666,
             "#ed7953"
            ],
            [
             0.7777777777777778,
             "#fb9f3a"
            ],
            [
             0.8888888888888888,
             "#fdca26"
            ],
            [
             1,
             "#f0f921"
            ]
           ]
          },
          "colorway": [
           "#636efa",
           "#EF553B",
           "#00cc96",
           "#ab63fa",
           "#FFA15A",
           "#19d3f3",
           "#FF6692",
           "#B6E880",
           "#FF97FF",
           "#FECB52"
          ],
          "font": {
           "color": "#2a3f5f"
          },
          "geo": {
           "bgcolor": "white",
           "lakecolor": "white",
           "landcolor": "#E5ECF6",
           "showlakes": true,
           "showland": true,
           "subunitcolor": "white"
          },
          "hoverlabel": {
           "align": "left"
          },
          "hovermode": "closest",
          "mapbox": {
           "style": "light"
          },
          "paper_bgcolor": "white",
          "plot_bgcolor": "#E5ECF6",
          "polar": {
           "angularaxis": {
            "gridcolor": "white",
            "linecolor": "white",
            "ticks": ""
           },
           "bgcolor": "#E5ECF6",
           "radialaxis": {
            "gridcolor": "white",
            "linecolor": "white",
            "ticks": ""
           }
          },
          "scene": {
           "xaxis": {
            "backgroundcolor": "#E5ECF6",
            "gridcolor": "white",
            "gridwidth": 2,
            "linecolor": "white",
            "showbackground": true,
            "ticks": "",
            "zerolinecolor": "white"
           },
           "yaxis": {
            "backgroundcolor": "#E5ECF6",
            "gridcolor": "white",
            "gridwidth": 2,
            "linecolor": "white",
            "showbackground": true,
            "ticks": "",
            "zerolinecolor": "white"
           },
           "zaxis": {
            "backgroundcolor": "#E5ECF6",
            "gridcolor": "white",
            "gridwidth": 2,
            "linecolor": "white",
            "showbackground": true,
            "ticks": "",
            "zerolinecolor": "white"
           }
          },
          "shapedefaults": {
           "line": {
            "color": "#2a3f5f"
           }
          },
          "ternary": {
           "aaxis": {
            "gridcolor": "white",
            "linecolor": "white",
            "ticks": ""
           },
           "baxis": {
            "gridcolor": "white",
            "linecolor": "white",
            "ticks": ""
           },
           "bgcolor": "#E5ECF6",
           "caxis": {
            "gridcolor": "white",
            "linecolor": "white",
            "ticks": ""
           }
          },
          "title": {
           "x": 0.05
          },
          "xaxis": {
           "automargin": true,
           "gridcolor": "white",
           "linecolor": "white",
           "ticks": "",
           "title": {
            "standoff": 15
           },
           "zerolinecolor": "white",
           "zerolinewidth": 2
          },
          "yaxis": {
           "automargin": true,
           "gridcolor": "white",
           "linecolor": "white",
           "ticks": "",
           "title": {
            "standoff": 15
           },
           "zerolinecolor": "white",
           "zerolinewidth": 2
          }
         }
        },
        "title": {
         "text": "Training and Testing Accuracy Over Epochs"
        },
        "xaxis": {
         "title": {
          "text": "Number of Estimators (Epochs)"
         }
        },
        "yaxis": {
         "title": {
          "text": "Accuracy"
         }
        }
       }
      }
     },
     "metadata": {},
     "output_type": "display_data"
    }
   ],
   "source": [
    "# Create a line plot for both training and testing accuracy using Plotly\n",
    "fig = go.Figure()\n",
    "\n",
    "fig.add_trace(go.Scatter(x=np.arange(1, n_estimators + 1), y=training_accuracy, mode='lines', name='Training Accuracy'))\n",
    "fig.add_trace(go.Scatter(x=np.arange(1, n_estimators + 1), y=testing_accuracy, mode='lines', name='Testing Accuracy'))\n",
    "\n",
    "fig.update_layout(title='Training and Testing Accuracy Over Epochs',\n",
    "                  xaxis_title='Number of Estimators (Epochs)',\n",
    "                  yaxis_title='Accuracy')\n",
    "\n",
    "fig.show()"
   ]
  },
  {
   "cell_type": "markdown",
   "metadata": {},
   "source": [
    "### 25 features with Backward Feature Extraction"
   ]
  },
  {
   "cell_type": "code",
   "execution_count": 21,
   "metadata": {},
   "outputs": [],
   "source": [
    "from sklearn.model_selection import train_test_split\n",
    "from sklearn.preprocessing import StandardScaler\n",
    "\n",
    "csv_file = 'result_data.csv'\n",
    "\n",
    "# Read the CSV file and create a DataFrame\n",
    "df = pd.read_csv(csv_file)\n",
    "\n",
    "# Define your target variable\n",
    "target_column = 'data_group'\n",
    "y = df[target_column]\n",
    "\n",
    "# Drop the target column and other non-essential columns if needed\n",
    "X = df.drop(columns=['has_parkinson', target_column, 'event_type'])\n",
    "\n",
    "# Standardize the features\n",
    "scaler = StandardScaler()\n",
    "X_scaled = scaler.fit_transform(X)"
   ]
  },
  {
   "cell_type": "code",
   "execution_count": 22,
   "metadata": {},
   "outputs": [
    {
     "name": "stdout",
     "output_type": "stream",
     "text": [
      "Selected Features:\n",
      "Index(['finish_time', 'NCV', 'relative_NCV', 'relative_NCA', 'stroke_speed',\n",
      "       'velocity_median', 'velocity_iqr', 'acceleration_median',\n",
      "       'acceleration_std_dev', 'jerk_mean', 'jerk_median', 'jerk_std_dev',\n",
      "       'jerk_iqr', 'velocity_x_mean', 'velocity_x_median',\n",
      "       'velocity_x_std_dev', 'velocity_x_iqr', 'acceleration_x_median',\n",
      "       'acceleration_x_std_dev', 'velocity_y_mean', 'velocity_y_median',\n",
      "       'acceleration_y_median', 'jerk_y_median', 'jerk_y_std_dev',\n",
      "       'jerk_y_data_range'],\n",
      "      dtype='object')\n"
     ]
    }
   ],
   "source": [
    "from sklearn.ensemble import RandomForestClassifier\n",
    "from sklearn.feature_selection import RFE\n",
    "\n",
    "# Initialize a random forest classifier\n",
    "rf_classifier = RandomForestClassifier(n_estimators=100, random_state=42)\n",
    "\n",
    "# Set the number of features to select\n",
    "n_features_to_select = 25\n",
    "\n",
    "# Initialize RFE with the classifier and the number of features to retain\n",
    "rfe = RFE(estimator=rf_classifier, n_features_to_select=n_features_to_select)\n",
    "\n",
    "# Fit RFE to the training data\n",
    "rfe.fit(X, y)\n",
    "\n",
    "# Get the ranking of each feature (1 means selected, 2 means not selected)\n",
    "feature_ranking = rfe.ranking_\n",
    "\n",
    "# Get the indices of the selected features\n",
    "selected_features_indices = np.where(feature_ranking == 1)[0]\n",
    "\n",
    "# Get the names of the selected features\n",
    "selected_features_names = X.columns[selected_features_indices]\n",
    "\n",
    "# Subset the DataFrame with selected features\n",
    "X_selected = X[selected_features_names]\n",
    "\n",
    "# Display the selected features\n",
    "print(\"Selected Features:\")\n",
    "print(selected_features_names)\n",
    "\n"
   ]
  },
  {
   "cell_type": "code",
   "execution_count": 23,
   "metadata": {},
   "outputs": [
    {
     "name": "stdout",
     "output_type": "stream",
     "text": [
      "Accuracy after feature selection: 63.99253731343284\n"
     ]
    }
   ],
   "source": [
    "from sklearn.model_selection import train_test_split\n",
    "from sklearn.metrics import accuracy_score\n",
    "\n",
    "# Split the dataset into training and testing sets\n",
    "X_train, X_test, y_train, y_test = train_test_split(X_selected, y, test_size=0.2, random_state=42)\n",
    "\n",
    "# Initialize a new random forest classifier\n",
    "rf_classifier_after_bfe = RandomForestClassifier(n_estimators=100, random_state=42)\n",
    "\n",
    "# Train the classifier on the training set\n",
    "history = rf_classifier_after_bfe.fit(X_train, y_train)\n",
    "\n",
    "# Make predictions on the testing set\n",
    "y_pred = rf_classifier_after_bfe.predict(X_test)\n",
    "\n",
    "# Calculate accuracy\n",
    "accuracy = accuracy_score(y_test, y_pred)\n",
    "\n",
    "# Display the accuracy\n",
    "print(\"Accuracy after feature selection:\", accuracy*100)\n"
   ]
  },
  {
   "cell_type": "code",
   "execution_count": null,
   "metadata": {},
   "outputs": [],
   "source": []
  },
  {
   "cell_type": "code",
   "execution_count": null,
   "metadata": {},
   "outputs": [],
   "source": []
  }
 ],
 "metadata": {
  "kernelspec": {
   "display_name": "mi",
   "language": "python",
   "name": "python3"
  },
  "language_info": {
   "codemirror_mode": {
    "name": "ipython",
    "version": 3
   },
   "file_extension": ".py",
   "mimetype": "text/x-python",
   "name": "python",
   "nbconvert_exporter": "python",
   "pygments_lexer": "ipython3",
   "version": "3.9.18"
  }
 },
 "nbformat": 4,
 "nbformat_minor": 2
}
