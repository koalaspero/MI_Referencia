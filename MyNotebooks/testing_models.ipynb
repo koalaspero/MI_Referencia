{
 "cells": [
  {
   "cell_type": "code",
   "execution_count": 3,
   "metadata": {},
   "outputs": [],
   "source": [
    "import numpy as np\n",
    "import pandas as pd\n",
    "import matplotlib.pyplot as plt\n",
    "import seaborn as sns  # Make sure you have seaborn installed"
   ]
  },
  {
   "cell_type": "code",
   "execution_count": 4,
   "metadata": {},
   "outputs": [
    {
     "data": {
      "text/html": [
       "<div>\n",
       "<style scoped>\n",
       "    .dataframe tbody tr th:only-of-type {\n",
       "        vertical-align: middle;\n",
       "    }\n",
       "\n",
       "    .dataframe tbody tr th {\n",
       "        vertical-align: top;\n",
       "    }\n",
       "\n",
       "    .dataframe thead th {\n",
       "        text-align: right;\n",
       "    }\n",
       "</style>\n",
       "<table border=\"1\" class=\"dataframe\">\n",
       "  <thead>\n",
       "    <tr style=\"text-align: right;\">\n",
       "      <th></th>\n",
       "      <th>data_group</th>\n",
       "      <th>event_type</th>\n",
       "      <th>finish_time</th>\n",
       "      <th>NCV</th>\n",
       "      <th>NCA</th>\n",
       "      <th>relative_NCV</th>\n",
       "      <th>relative_NCA</th>\n",
       "      <th>stroke_speed</th>\n",
       "      <th>velocity_mean</th>\n",
       "      <th>velocity_median</th>\n",
       "      <th>...</th>\n",
       "      <th>jerk_y_mean</th>\n",
       "      <th>jerk_y_median</th>\n",
       "      <th>jerk_y_std_dev</th>\n",
       "      <th>jerk_y_minimum</th>\n",
       "      <th>jerk_y_maximum</th>\n",
       "      <th>jerk_y_data_range</th>\n",
       "      <th>jerk_y_iqr</th>\n",
       "      <th>jerk_y_skewness</th>\n",
       "      <th>jerk_y_kurtosis</th>\n",
       "      <th>has_parkinson</th>\n",
       "    </tr>\n",
       "  </thead>\n",
       "  <tbody>\n",
       "    <tr>\n",
       "      <th>0</th>\n",
       "      <td>1</td>\n",
       "      <td>1</td>\n",
       "      <td>5.180044</td>\n",
       "      <td>60</td>\n",
       "      <td>69</td>\n",
       "      <td>11.582914</td>\n",
       "      <td>13.320351</td>\n",
       "      <td>316.968468</td>\n",
       "      <td>660.142357</td>\n",
       "      <td>412.307076</td>\n",
       "      <td>...</td>\n",
       "      <td>8.845555e+06</td>\n",
       "      <td>5.999848e+06</td>\n",
       "      <td>9.439072e+06</td>\n",
       "      <td>0.0</td>\n",
       "      <td>4.399888e+07</td>\n",
       "      <td>4.399888e+07</td>\n",
       "      <td>8.999772e+06</td>\n",
       "      <td>1.731869</td>\n",
       "      <td>2.702888</td>\n",
       "      <td>0</td>\n",
       "    </tr>\n",
       "    <tr>\n",
       "      <th>1</th>\n",
       "      <td>1</td>\n",
       "      <td>3</td>\n",
       "      <td>4.820075</td>\n",
       "      <td>51</td>\n",
       "      <td>60</td>\n",
       "      <td>10.580749</td>\n",
       "      <td>12.447940</td>\n",
       "      <td>210.631907</td>\n",
       "      <td>410.338698</td>\n",
       "      <td>309.952007</td>\n",
       "      <td>...</td>\n",
       "      <td>5.652515e+06</td>\n",
       "      <td>3.999814e+06</td>\n",
       "      <td>5.783232e+06</td>\n",
       "      <td>0.0</td>\n",
       "      <td>2.599879e+07</td>\n",
       "      <td>2.599879e+07</td>\n",
       "      <td>4.999768e+06</td>\n",
       "      <td>1.600076</td>\n",
       "      <td>2.043617</td>\n",
       "      <td>0</td>\n",
       "    </tr>\n",
       "    <tr>\n",
       "      <th>2</th>\n",
       "      <td>1</td>\n",
       "      <td>2</td>\n",
       "      <td>5.280308</td>\n",
       "      <td>35</td>\n",
       "      <td>45</td>\n",
       "      <td>6.628401</td>\n",
       "      <td>8.522230</td>\n",
       "      <td>169.507549</td>\n",
       "      <td>854.468062</td>\n",
       "      <td>299.982495</td>\n",
       "      <td>...</td>\n",
       "      <td>9.134764e+06</td>\n",
       "      <td>2.999475e+06</td>\n",
       "      <td>1.894469e+07</td>\n",
       "      <td>0.0</td>\n",
       "      <td>1.079811e+08</td>\n",
       "      <td>1.079811e+08</td>\n",
       "      <td>6.998775e+06</td>\n",
       "      <td>3.764628</td>\n",
       "      <td>14.989523</td>\n",
       "      <td>0</td>\n",
       "    </tr>\n",
       "    <tr>\n",
       "      <th>3</th>\n",
       "      <td>1</td>\n",
       "      <td>4</td>\n",
       "      <td>13.329880</td>\n",
       "      <td>82</td>\n",
       "      <td>95</td>\n",
       "      <td>6.151593</td>\n",
       "      <td>7.126846</td>\n",
       "      <td>237.269540</td>\n",
       "      <td>1358.159235</td>\n",
       "      <td>467.080201</td>\n",
       "      <td>...</td>\n",
       "      <td>1.522394e+07</td>\n",
       "      <td>5.000134e+06</td>\n",
       "      <td>4.763614e+07</td>\n",
       "      <td>0.0</td>\n",
       "      <td>5.100137e+08</td>\n",
       "      <td>5.100137e+08</td>\n",
       "      <td>1.100030e+07</td>\n",
       "      <td>8.073941</td>\n",
       "      <td>72.894062</td>\n",
       "      <td>0</td>\n",
       "    </tr>\n",
       "    <tr>\n",
       "      <th>4</th>\n",
       "      <td>1</td>\n",
       "      <td>2</td>\n",
       "      <td>5.740754</td>\n",
       "      <td>51</td>\n",
       "      <td>62</td>\n",
       "      <td>8.883851</td>\n",
       "      <td>10.799975</td>\n",
       "      <td>302.362223</td>\n",
       "      <td>757.159329</td>\n",
       "      <td>355.861061</td>\n",
       "      <td>...</td>\n",
       "      <td>9.208236e+06</td>\n",
       "      <td>2.998818e+06</td>\n",
       "      <td>1.916554e+07</td>\n",
       "      <td>0.0</td>\n",
       "      <td>1.329476e+08</td>\n",
       "      <td>1.329476e+08</td>\n",
       "      <td>6.997243e+06</td>\n",
       "      <td>4.303925</td>\n",
       "      <td>20.551684</td>\n",
       "      <td>0</td>\n",
       "    </tr>\n",
       "    <tr>\n",
       "      <th>...</th>\n",
       "      <td>...</td>\n",
       "      <td>...</td>\n",
       "      <td>...</td>\n",
       "      <td>...</td>\n",
       "      <td>...</td>\n",
       "      <td>...</td>\n",
       "      <td>...</td>\n",
       "      <td>...</td>\n",
       "      <td>...</td>\n",
       "      <td>...</td>\n",
       "      <td>...</td>\n",
       "      <td>...</td>\n",
       "      <td>...</td>\n",
       "      <td>...</td>\n",
       "      <td>...</td>\n",
       "      <td>...</td>\n",
       "      <td>...</td>\n",
       "      <td>...</td>\n",
       "      <td>...</td>\n",
       "      <td>...</td>\n",
       "      <td>...</td>\n",
       "    </tr>\n",
       "    <tr>\n",
       "      <th>2675</th>\n",
       "      <td>3</td>\n",
       "      <td>1</td>\n",
       "      <td>3.216239</td>\n",
       "      <td>40</td>\n",
       "      <td>45</td>\n",
       "      <td>12.436886</td>\n",
       "      <td>13.991496</td>\n",
       "      <td>158.903875</td>\n",
       "      <td>251.517077</td>\n",
       "      <td>139.388167</td>\n",
       "      <td>...</td>\n",
       "      <td>2.543770e+06</td>\n",
       "      <td>1.914973e+06</td>\n",
       "      <td>2.522729e+06</td>\n",
       "      <td>0.0</td>\n",
       "      <td>1.436230e+07</td>\n",
       "      <td>1.436230e+07</td>\n",
       "      <td>2.393717e+06</td>\n",
       "      <td>2.029246</td>\n",
       "      <td>5.914386</td>\n",
       "      <td>1</td>\n",
       "    </tr>\n",
       "    <tr>\n",
       "      <th>2676</th>\n",
       "      <td>3</td>\n",
       "      <td>4</td>\n",
       "      <td>3.920909</td>\n",
       "      <td>37</td>\n",
       "      <td>37</td>\n",
       "      <td>9.436588</td>\n",
       "      <td>9.436588</td>\n",
       "      <td>142.669144</td>\n",
       "      <td>226.949059</td>\n",
       "      <td>200.282213</td>\n",
       "      <td>...</td>\n",
       "      <td>2.481033e+06</td>\n",
       "      <td>1.998610e+06</td>\n",
       "      <td>2.385385e+06</td>\n",
       "      <td>0.0</td>\n",
       "      <td>7.994440e+06</td>\n",
       "      <td>7.994440e+06</td>\n",
       "      <td>2.997915e+06</td>\n",
       "      <td>0.896013</td>\n",
       "      <td>-0.131416</td>\n",
       "      <td>1</td>\n",
       "    </tr>\n",
       "    <tr>\n",
       "      <th>2677</th>\n",
       "      <td>3</td>\n",
       "      <td>1</td>\n",
       "      <td>3.630221</td>\n",
       "      <td>33</td>\n",
       "      <td>45</td>\n",
       "      <td>9.090357</td>\n",
       "      <td>12.395941</td>\n",
       "      <td>124.270746</td>\n",
       "      <td>274.115650</td>\n",
       "      <td>191.177357</td>\n",
       "      <td>...</td>\n",
       "      <td>3.499362e+06</td>\n",
       "      <td>1.999635e+06</td>\n",
       "      <td>4.158569e+06</td>\n",
       "      <td>0.0</td>\n",
       "      <td>1.899654e+07</td>\n",
       "      <td>1.899654e+07</td>\n",
       "      <td>3.249408e+06</td>\n",
       "      <td>1.931379</td>\n",
       "      <td>3.599911</td>\n",
       "      <td>1</td>\n",
       "    </tr>\n",
       "    <tr>\n",
       "      <th>2678</th>\n",
       "      <td>3</td>\n",
       "      <td>3</td>\n",
       "      <td>3.777979</td>\n",
       "      <td>37</td>\n",
       "      <td>42</td>\n",
       "      <td>9.793597</td>\n",
       "      <td>11.117056</td>\n",
       "      <td>104.651341</td>\n",
       "      <td>325.259612</td>\n",
       "      <td>176.803098</td>\n",
       "      <td>...</td>\n",
       "      <td>3.557078e+06</td>\n",
       "      <td>1.987355e+06</td>\n",
       "      <td>4.301190e+06</td>\n",
       "      <td>0.0</td>\n",
       "      <td>2.384826e+07</td>\n",
       "      <td>2.384826e+07</td>\n",
       "      <td>2.981033e+06</td>\n",
       "      <td>2.686592</td>\n",
       "      <td>8.120157</td>\n",
       "      <td>1</td>\n",
       "    </tr>\n",
       "    <tr>\n",
       "      <th>2679</th>\n",
       "      <td>3</td>\n",
       "      <td>1</td>\n",
       "      <td>4.139451</td>\n",
       "      <td>58</td>\n",
       "      <td>64</td>\n",
       "      <td>14.011519</td>\n",
       "      <td>15.460987</td>\n",
       "      <td>130.925155</td>\n",
       "      <td>249.762220</td>\n",
       "      <td>167.195141</td>\n",
       "      <td>...</td>\n",
       "      <td>2.362457e+06</td>\n",
       "      <td>1.489749e+06</td>\n",
       "      <td>2.866444e+06</td>\n",
       "      <td>0.0</td>\n",
       "      <td>1.787699e+07</td>\n",
       "      <td>1.787699e+07</td>\n",
       "      <td>1.986332e+06</td>\n",
       "      <td>2.535436</td>\n",
       "      <td>8.423741</td>\n",
       "      <td>1</td>\n",
       "    </tr>\n",
       "  </tbody>\n",
       "</table>\n",
       "<p>2680 rows × 90 columns</p>\n",
       "</div>"
      ],
      "text/plain": [
       "      data_group  event_type  finish_time  NCV  NCA  relative_NCV  \\\n",
       "0              1           1     5.180044   60   69     11.582914   \n",
       "1              1           3     4.820075   51   60     10.580749   \n",
       "2              1           2     5.280308   35   45      6.628401   \n",
       "3              1           4    13.329880   82   95      6.151593   \n",
       "4              1           2     5.740754   51   62      8.883851   \n",
       "...          ...         ...          ...  ...  ...           ...   \n",
       "2675           3           1     3.216239   40   45     12.436886   \n",
       "2676           3           4     3.920909   37   37      9.436588   \n",
       "2677           3           1     3.630221   33   45      9.090357   \n",
       "2678           3           3     3.777979   37   42      9.793597   \n",
       "2679           3           1     4.139451   58   64     14.011519   \n",
       "\n",
       "      relative_NCA  stroke_speed  velocity_mean  velocity_median  ...  \\\n",
       "0        13.320351    316.968468     660.142357       412.307076  ...   \n",
       "1        12.447940    210.631907     410.338698       309.952007  ...   \n",
       "2         8.522230    169.507549     854.468062       299.982495  ...   \n",
       "3         7.126846    237.269540    1358.159235       467.080201  ...   \n",
       "4        10.799975    302.362223     757.159329       355.861061  ...   \n",
       "...            ...           ...            ...              ...  ...   \n",
       "2675     13.991496    158.903875     251.517077       139.388167  ...   \n",
       "2676      9.436588    142.669144     226.949059       200.282213  ...   \n",
       "2677     12.395941    124.270746     274.115650       191.177357  ...   \n",
       "2678     11.117056    104.651341     325.259612       176.803098  ...   \n",
       "2679     15.460987    130.925155     249.762220       167.195141  ...   \n",
       "\n",
       "       jerk_y_mean  jerk_y_median  jerk_y_std_dev  jerk_y_minimum  \\\n",
       "0     8.845555e+06   5.999848e+06    9.439072e+06             0.0   \n",
       "1     5.652515e+06   3.999814e+06    5.783232e+06             0.0   \n",
       "2     9.134764e+06   2.999475e+06    1.894469e+07             0.0   \n",
       "3     1.522394e+07   5.000134e+06    4.763614e+07             0.0   \n",
       "4     9.208236e+06   2.998818e+06    1.916554e+07             0.0   \n",
       "...            ...            ...             ...             ...   \n",
       "2675  2.543770e+06   1.914973e+06    2.522729e+06             0.0   \n",
       "2676  2.481033e+06   1.998610e+06    2.385385e+06             0.0   \n",
       "2677  3.499362e+06   1.999635e+06    4.158569e+06             0.0   \n",
       "2678  3.557078e+06   1.987355e+06    4.301190e+06             0.0   \n",
       "2679  2.362457e+06   1.489749e+06    2.866444e+06             0.0   \n",
       "\n",
       "      jerk_y_maximum  jerk_y_data_range    jerk_y_iqr  jerk_y_skewness  \\\n",
       "0       4.399888e+07       4.399888e+07  8.999772e+06         1.731869   \n",
       "1       2.599879e+07       2.599879e+07  4.999768e+06         1.600076   \n",
       "2       1.079811e+08       1.079811e+08  6.998775e+06         3.764628   \n",
       "3       5.100137e+08       5.100137e+08  1.100030e+07         8.073941   \n",
       "4       1.329476e+08       1.329476e+08  6.997243e+06         4.303925   \n",
       "...              ...                ...           ...              ...   \n",
       "2675    1.436230e+07       1.436230e+07  2.393717e+06         2.029246   \n",
       "2676    7.994440e+06       7.994440e+06  2.997915e+06         0.896013   \n",
       "2677    1.899654e+07       1.899654e+07  3.249408e+06         1.931379   \n",
       "2678    2.384826e+07       2.384826e+07  2.981033e+06         2.686592   \n",
       "2679    1.787699e+07       1.787699e+07  1.986332e+06         2.535436   \n",
       "\n",
       "      jerk_y_kurtosis  has_parkinson  \n",
       "0            2.702888              0  \n",
       "1            2.043617              0  \n",
       "2           14.989523              0  \n",
       "3           72.894062              0  \n",
       "4           20.551684              0  \n",
       "...               ...            ...  \n",
       "2675         5.914386              1  \n",
       "2676        -0.131416              1  \n",
       "2677         3.599911              1  \n",
       "2678         8.120157              1  \n",
       "2679         8.423741              1  \n",
       "\n",
       "[2680 rows x 90 columns]"
      ]
     },
     "execution_count": 4,
     "metadata": {},
     "output_type": "execute_result"
    }
   ],
   "source": [
    "# Replace 'your_file.csv' with the actual file path\n",
    "csv_file = 'result_data.csv'\n",
    "\n",
    "# Read the CSV file and create a DataFrame\n",
    "df = pd.read_csv(csv_file)\n",
    "df"
   ]
  },
  {
   "cell_type": "code",
   "execution_count": 5,
   "metadata": {},
   "outputs": [],
   "source": [
    "from sklearn.model_selection import train_test_split\n",
    "from sklearn.preprocessing import StandardScaler\n",
    "\n",
    "# Define your target variable\n",
    "target_column = 'has_parkinson'\n",
    "y = df[target_column]\n",
    "\n",
    "# Drop the target column and other non-essential columns if needed\n",
    "X = df.drop(columns=[target_column, 'data_group', 'event_type'])\n",
    "\n",
    "# Standardize the features\n",
    "scaler = StandardScaler()\n",
    "X_scaled = scaler.fit_transform(X)\n",
    "\n",
    "# Split the data into a training and testing set\n",
    "X_train, X_test, y_train, y_test = train_test_split(X_scaled, y, test_size=0.2, random_state=42)"
   ]
  },
  {
   "cell_type": "markdown",
   "metadata": {},
   "source": [
    "## Adaboost"
   ]
  },
  {
   "cell_type": "code",
   "execution_count": 5,
   "metadata": {},
   "outputs": [
    {
     "name": "stderr",
     "output_type": "stream",
     "text": [
      "d:\\AppRelated\\Anaconda\\envs\\mi\\lib\\site-packages\\sklearn\\ensemble\\_base.py:156: FutureWarning: `base_estimator` was renamed to `estimator` in version 1.2 and will be removed in 1.4.\n",
      "  warnings.warn(\n"
     ]
    },
    {
     "name": "stdout",
     "output_type": "stream",
     "text": [
      "                   Column  Feature Importance\n",
      "0             finish_time            0.059830\n",
      "5            stroke_speed            0.044895\n",
      "33        velocity_x_mean            0.042381\n",
      "61      velocity_y_median            0.034534\n",
      "3            relative_NCV            0.029940\n",
      "12           velocity_iqr            0.029069\n",
      "70  acceleration_y_median            0.026753\n",
      "53         jerk_x_std_dev            0.026649\n",
      "57             jerk_x_iqr            0.026544\n",
      "66         velocity_y_iqr            0.026221\n"
     ]
    }
   ],
   "source": [
    "from sklearn.ensemble import AdaBoostClassifier\n",
    "from sklearn.tree import DecisionTreeClassifier\n",
    "from sklearn.model_selection import train_test_split\n",
    "import pandas as pd\n",
    "\n",
    "# Create an AdaBoostClassifier with a DecisionTree base estimator\n",
    "n_estimators = 100  # You can adjust this number\n",
    "base_estimator = DecisionTreeClassifier(max_depth=2)  # You can adjust the depth\n",
    "adaboost = AdaBoostClassifier(base_estimator=base_estimator, n_estimators=n_estimators, random_state=42)\n",
    "\n",
    "# Fit the AdaBoostClassifier to the training data\n",
    "adaboost.fit(X_train, y_train)\n",
    "\n",
    "# Get feature importances from the AdaBoost model\n",
    "feature_importances = adaboost.feature_importances_\n",
    "\n",
    "# Create a DataFrame to display feature importances\n",
    "importance_df = pd.DataFrame({'Column': X.columns, 'Feature Importance': feature_importances})\n",
    "importance_df = importance_df.sort_values(by='Feature Importance', ascending=False)\n",
    "\n",
    "# Display the top N most important columns\n",
    "top_n = 10  # Change this to the number of top features you want to display\n",
    "top_features = importance_df.head(top_n)\n",
    "print(top_features)\n"
   ]
  },
  {
   "cell_type": "code",
   "execution_count": 6,
   "metadata": {},
   "outputs": [
    {
     "name": "stdout",
     "output_type": "stream",
     "text": [
      "Accuracy: 68.28%\n"
     ]
    }
   ],
   "source": [
    "# Use the trained AdaBoost classifier to make predictions on the test data\n",
    "y_pred = adaboost.predict(X_test)\n",
    "\n",
    "# Calculate the accuracy of the classifier\n",
    "accuracy = adaboost.score(X_test, y_test)\n",
    "\n",
    "print(\"Accuracy: {:.2f}%\".format(accuracy * 100))"
   ]
  },
  {
   "cell_type": "code",
   "execution_count": 7,
   "metadata": {},
   "outputs": [
    {
     "data": {
      "image/png": "[encoded data removed]",
      "text/plain": [
       "<Figure size 640x480 with 2 Axes>"
      ]
     },
     "metadata": {},
     "output_type": "display_data"
    }
   ],
   "source": [
    "from sklearn.metrics import confusion_matrix\n",
    "from sklearn.metrics import ConfusionMatrixDisplay\n",
    "\n",
    "# Create a confusion matrix\n",
    "confusion = confusion_matrix(y_test, y_pred)\n",
    "\n",
    "# Plot the confusion matrix\n",
    "disp = ConfusionMatrixDisplay(confusion, display_labels=adaboost.classes_)\n",
    "disp.plot(cmap='viridis')\n",
    "plt.title('Confusion Matrix')\n",
    "plt.show()"
   ]
  },
  {
   "cell_type": "code",
   "execution_count": 40,
   "metadata": {},
   "outputs": [
    {
     "name": "stderr",
     "output_type": "stream",
     "text": [
      "d:\\AppRelated\\Anaconda\\envs\\mi\\lib\\site-packages\\seaborn\\_oldcore.py:1498: FutureWarning: is_categorical_dtype is deprecated and will be removed in a future version. Use isinstance(dtype, CategoricalDtype) instead\n",
      "  if pd.api.types.is_categorical_dtype(vector):\n",
      "d:\\AppRelated\\Anaconda\\envs\\mi\\lib\\site-packages\\seaborn\\_oldcore.py:1498: FutureWarning: is_categorical_dtype is deprecated and will be removed in a future version. Use isinstance(dtype, CategoricalDtype) instead\n",
      "  if pd.api.types.is_categorical_dtype(vector):\n",
      "d:\\AppRelated\\Anaconda\\envs\\mi\\lib\\site-packages\\seaborn\\_oldcore.py:1498: FutureWarning: is_categorical_dtype is deprecated and will be removed in a future version. Use isinstance(dtype, CategoricalDtype) instead\n",
      "  if pd.api.types.is_categorical_dtype(vector):\n",
      "d:\\AppRelated\\Anaconda\\envs\\mi\\lib\\site-packages\\seaborn\\_oldcore.py:1498: FutureWarning: is_categorical_dtype is deprecated and will be removed in a future version. Use isinstance(dtype, CategoricalDtype) instead\n",
      "  if pd.api.types.is_categorical_dtype(vector):\n",
      "d:\\AppRelated\\Anaconda\\envs\\mi\\lib\\site-packages\\seaborn\\_oldcore.py:1498: FutureWarning: is_categorical_dtype is deprecated and will be removed in a future version. Use isinstance(dtype, CategoricalDtype) instead\n",
      "  if pd.api.types.is_categorical_dtype(vector):\n",
      "d:\\AppRelated\\Anaconda\\envs\\mi\\lib\\site-packages\\seaborn\\_oldcore.py:1498: FutureWarning: is_categorical_dtype is deprecated and will be removed in a future version. Use isinstance(dtype, CategoricalDtype) instead\n",
      "  if pd.api.types.is_categorical_dtype(vector):\n",
      "d:\\AppRelated\\Anaconda\\envs\\mi\\lib\\site-packages\\seaborn\\_oldcore.py:1498: FutureWarning: is_categorical_dtype is deprecated and will be removed in a future version. Use isinstance(dtype, CategoricalDtype) instead\n",
      "  if pd.api.types.is_categorical_dtype(vector):\n",
      "d:\\AppRelated\\Anaconda\\envs\\mi\\lib\\site-packages\\seaborn\\_oldcore.py:1498: FutureWarning: is_categorical_dtype is deprecated and will be removed in a future version. Use isinstance(dtype, CategoricalDtype) instead\n",
      "  if pd.api.types.is_categorical_dtype(vector):\n",
      "d:\\AppRelated\\Anaconda\\envs\\mi\\lib\\site-packages\\seaborn\\_oldcore.py:1498: FutureWarning: is_categorical_dtype is deprecated and will be removed in a future version. Use isinstance(dtype, CategoricalDtype) instead\n",
      "  if pd.api.types.is_categorical_dtype(vector):\n",
      "d:\\AppRelated\\Anaconda\\envs\\mi\\lib\\site-packages\\seaborn\\_oldcore.py:1498: FutureWarning: is_categorical_dtype is deprecated and will be removed in a future version. Use isinstance(dtype, CategoricalDtype) instead\n",
      "  if pd.api.types.is_categorical_dtype(vector):\n"
     ]
    },
    {
     "data": {
      "image/png": "[encoded data removed]",
      "text/plain": [
       "<Figure size 1500x1000 with 10 Axes>"
      ]
     },
     "metadata": {},
     "output_type": "display_data"
    }
   ],
   "source": [
    "# Define the number of top features you want to display\n",
    "top_n = 10  # Change this to the number of top features you want to visualize\n",
    "\n",
    "# Get the top N most important features\n",
    "top_features = importance_df['Column'].head(top_n)\n",
    "\n",
    "# Create larger boxplots for the top N most important columns\n",
    "plt.figure(figsize=(15, 10))  # Adjust the figure size as needed\n",
    "\n",
    "# Iterate through the top features and create boxplots\n",
    "for i, column_name in enumerate(top_features):\n",
    "    plt.subplot(2, 5, i + 1)  # Create subplots in a 2x5 grid\n",
    "    sns.boxplot(data=df, x=column_name)\n",
    "    plt.title(column_name)\n",
    "\n",
    "plt.tight_layout()  # Ensure proper layout\n",
    "plt.show()"
   ]
  },
  {
   "cell_type": "markdown",
   "metadata": {},
   "source": [
    "## Gradient Boosting"
   ]
  },
  {
   "cell_type": "code",
   "execution_count": 41,
   "metadata": {},
   "outputs": [
    {
     "name": "stdout",
     "output_type": "stream",
     "text": [
      "                    Column  Feature Importance\n",
      "5             stroke_speed            0.156245\n",
      "0              finish_time            0.088709\n",
      "4             relative_NCA            0.048490\n",
      "24               jerk_mean            0.037011\n",
      "70   acceleration_y_median            0.035366\n",
      "1                      NCV            0.034767\n",
      "44  acceleration_x_std_dev            0.031621\n",
      "80          jerk_y_std_dev            0.028915\n",
      "12            velocity_iqr            0.027149\n",
      "61       velocity_y_median            0.026776\n"
     ]
    }
   ],
   "source": [
    "from sklearn.ensemble import GradientBoostingClassifier\n",
    "from sklearn.metrics import confusion_matrix, ConfusionMatrixDisplay\n",
    "\n",
    "# Create a GradientBoostingClassifier\n",
    "gradient_boosting = GradientBoostingClassifier(n_estimators=100, random_state=42)\n",
    "\n",
    "# Fit the GradientBoostingClassifier to the training data\n",
    "gradient_boosting.fit(X_train, y_train)\n",
    "\n",
    "# Get feature importances from the AdaBoost model\n",
    "gb_feature_importances = gradient_boosting.feature_importances_\n",
    "\n",
    "# Create a DataFrame to display feature importances\n",
    "gb_importance_df = pd.DataFrame({'Column': X.columns, 'Feature Importance': gb_feature_importances})\n",
    "gb_importance_df = gb_importance_df.sort_values(by='Feature Importance', ascending=False)\n",
    "\n",
    "# Display the top N most important columns\n",
    "top_n = 10  # Change this to the number of top features you want to display\n",
    "top_features = gb_importance_df.head(top_n)\n",
    "print(top_features)\n"
   ]
  },
  {
   "cell_type": "code",
   "execution_count": 42,
   "metadata": {},
   "outputs": [
    {
     "name": "stdout",
     "output_type": "stream",
     "text": [
      "Accuracy (Gradient Boosting): 68.28%\n"
     ]
    }
   ],
   "source": [
    "# Use the trained Gradient Boosting classifier to make predictions on the test data\n",
    "y_pred_gb = gradient_boosting.predict(X_test)\n",
    "\n",
    "# Calculate the accuracy of the Gradient Boosting classifier\n",
    "accuracy_gb = gradient_boosting.score(X_test, y_test)\n",
    "\n",
    "print(\"Accuracy (Gradient Boosting): {:.2f}%\".format(accuracy_gb * 100))"
   ]
  },
  {
   "cell_type": "code",
   "execution_count": 43,
   "metadata": {},
   "outputs": [
    {
     "data": {
      "image/png": "[encoded data removed]",
      "text/plain": [
       "<Figure size 640x480 with 2 Axes>"
      ]
     },
     "metadata": {},
     "output_type": "display_data"
    }
   ],
   "source": [
    "# Create a confusion matrix\n",
    "confusion_gb = confusion_matrix(y_test, y_pred_gb)\n",
    "\n",
    "# Plot the confusion matrix\n",
    "disp_gb = ConfusionMatrixDisplay(confusion_gb, display_labels=gradient_boosting.classes_)\n",
    "disp_gb.plot(cmap='viridis')\n",
    "plt.title('Confusion Matrix (Gradient Boosting)')\n",
    "plt.show()"
   ]
  },
  {
   "cell_type": "code",
   "execution_count": 44,
   "metadata": {},
   "outputs": [
    {
     "name": "stderr",
     "output_type": "stream",
     "text": [
      "d:\\AppRelated\\Anaconda\\envs\\mi\\lib\\site-packages\\seaborn\\_oldcore.py:1498: FutureWarning: is_categorical_dtype is deprecated and will be removed in a future version. Use isinstance(dtype, CategoricalDtype) instead\n",
      "  if pd.api.types.is_categorical_dtype(vector):\n",
      "d:\\AppRelated\\Anaconda\\envs\\mi\\lib\\site-packages\\seaborn\\_oldcore.py:1498: FutureWarning: is_categorical_dtype is deprecated and will be removed in a future version. Use isinstance(dtype, CategoricalDtype) instead\n",
      "  if pd.api.types.is_categorical_dtype(vector):\n",
      "d:\\AppRelated\\Anaconda\\envs\\mi\\lib\\site-packages\\seaborn\\_oldcore.py:1498: FutureWarning: is_categorical_dtype is deprecated and will be removed in a future version. Use isinstance(dtype, CategoricalDtype) instead\n",
      "  if pd.api.types.is_categorical_dtype(vector):\n",
      "d:\\AppRelated\\Anaconda\\envs\\mi\\lib\\site-packages\\seaborn\\_oldcore.py:1498: FutureWarning: is_categorical_dtype is deprecated and will be removed in a future version. Use isinstance(dtype, CategoricalDtype) instead\n",
      "  if pd.api.types.is_categorical_dtype(vector):\n",
      "d:\\AppRelated\\Anaconda\\envs\\mi\\lib\\site-packages\\seaborn\\_oldcore.py:1498: FutureWarning: is_categorical_dtype is deprecated and will be removed in a future version. Use isinstance(dtype, CategoricalDtype) instead\n",
      "  if pd.api.types.is_categorical_dtype(vector):\n",
      "d:\\AppRelated\\Anaconda\\envs\\mi\\lib\\site-packages\\seaborn\\_oldcore.py:1498: FutureWarning: is_categorical_dtype is deprecated and will be removed in a future version. Use isinstance(dtype, CategoricalDtype) instead\n",
      "  if pd.api.types.is_categorical_dtype(vector):\n",
      "d:\\AppRelated\\Anaconda\\envs\\mi\\lib\\site-packages\\seaborn\\_oldcore.py:1498: FutureWarning: is_categorical_dtype is deprecated and will be removed in a future version. Use isinstance(dtype, CategoricalDtype) instead\n",
      "  if pd.api.types.is_categorical_dtype(vector):\n",
      "d:\\AppRelated\\Anaconda\\envs\\mi\\lib\\site-packages\\seaborn\\_oldcore.py:1498: FutureWarning: is_categorical_dtype is deprecated and will be removed in a future version. Use isinstance(dtype, CategoricalDtype) instead\n",
      "  if pd.api.types.is_categorical_dtype(vector):\n",
      "d:\\AppRelated\\Anaconda\\envs\\mi\\lib\\site-packages\\seaborn\\_oldcore.py:1498: FutureWarning: is_categorical_dtype is deprecated and will be removed in a future version. Use isinstance(dtype, CategoricalDtype) instead\n",
      "  if pd.api.types.is_categorical_dtype(vector):\n",
      "d:\\AppRelated\\Anaconda\\envs\\mi\\lib\\site-packages\\seaborn\\_oldcore.py:1498: FutureWarning: is_categorical_dtype is deprecated and will be removed in a future version. Use isinstance(dtype, CategoricalDtype) instead\n",
      "  if pd.api.types.is_categorical_dtype(vector):\n"
     ]
    },
    {
     "data": {
      "image/png": "[encoded data removed]",
      "text/plain": [
       "<Figure size 1500x1000 with 10 Axes>"
      ]
     },
     "metadata": {},
     "output_type": "display_data"
    }
   ],
   "source": [
    "# Define the number of top features you want to display\n",
    "top_n = 10  # Change this to the number of top features you want to visualize\n",
    "\n",
    "# Get the top N most important features\n",
    "top_features = gb_importance_df['Column'].head(top_n)\n",
    "\n",
    "# Create larger boxplots for the top N most important columns\n",
    "plt.figure(figsize=(15, 10))  # Adjust the figure size as needed\n",
    "\n",
    "# Iterate through the top features and create boxplots\n",
    "for i, column_name in enumerate(top_features):\n",
    "    plt.subplot(2, 5, i + 1)  # Create subplots in a 2x5 grid\n",
    "    sns.boxplot(data=df, x=column_name)\n",
    "    plt.title(column_name)\n",
    "\n",
    "plt.tight_layout()  # Ensure proper layout\n",
    "plt.show()"
   ]
  },
  {
   "cell_type": "markdown",
   "metadata": {},
   "source": [
    "## Random Forest"
   ]
  },
  {
   "cell_type": "markdown",
   "metadata": {},
   "source": [
    "### All features"
   ]
  },
  {
   "cell_type": "code",
   "execution_count": 6,
   "metadata": {},
   "outputs": [
    {
     "name": "stdout",
     "output_type": "stream",
     "text": [
      "                   Column  Feature Importance\n",
      "5            stroke_speed            0.035948\n",
      "0             finish_time            0.028568\n",
      "70  acceleration_y_median            0.024512\n",
      "61      velocity_y_median            0.020653\n",
      "26           jerk_std_dev            0.020030\n",
      "4            relative_NCA            0.018051\n",
      "60        velocity_y_mean            0.017953\n",
      "7         velocity_median            0.017934\n",
      "39         velocity_x_iqr            0.017782\n",
      "24              jerk_mean            0.016959\n"
     ]
    }
   ],
   "source": [
    "from sklearn.ensemble import RandomForestClassifier\n",
    "from sklearn.metrics import confusion_matrix, ConfusionMatrixDisplay\n",
    "from sklearn.metrics import mean_squared_error, accuracy_score\n",
    "\n",
    "# Create a RandomForestClassifier\n",
    "n_estimators = 100\n",
    "random_forest = RandomForestClassifier(n_estimators=n_estimators, random_state=42)\n",
    "\n",
    "# Lists to store training and testing losses\n",
    "training_loss = []\n",
    "testing_loss = []\n",
    "\n",
    "# Lists to store training and testing accuracy\n",
    "training_accuracy = []\n",
    "testing_accuracy = []\n",
    "\n",
    "# Train the Random Forest incrementally, capturing training and testing loss at each step\n",
    "for i in range(1, n_estimators + 1):\n",
    "    random_forest.fit(X_train[:i], y_train[:i])  # Incremental training\n",
    "    \n",
    "    # Calculate training accuracy\n",
    "    y_pred_train = random_forest.predict(X_train)\n",
    "    accuracy_train = accuracy_score(y_train, y_pred_train)\n",
    "    # Append training accuracy to the list\n",
    "    training_accuracy.append(accuracy_train)\n",
    "\n",
    "    # Calculate training MSE\n",
    "    mse_train = mean_squared_error(y_train, y_pred_train)\n",
    "    # Append training MSE to the list\n",
    "    training_loss.append(mse_train)\n",
    "    \n",
    "    # Calculate testing accuracy\n",
    "    y_pred_test = random_forest.predict(X_test)\n",
    "    accuracy_test = accuracy_score(y_test, y_pred_test)\n",
    "    # Append testing accuracy to the list\n",
    "    testing_accuracy.append(accuracy_test)\n",
    "\n",
    "    # Calculate testing MSE\n",
    "    mse_test = mean_squared_error(y_test, y_pred_test)\n",
    "    # Append testing MSE to the list\n",
    "    testing_loss.append(mse_test)\n",
    "    \n",
    "\n",
    "# random_forest_history = random_forest.fit(X_train, y_train).estimators_[0].tree_.impurity\n",
    "\n",
    "# Fit the RandomForestClassifier to the training data\n",
    "random_forest.fit(X_train, y_train)\n",
    "\n",
    "# Get feature importances from the Random Forest model\n",
    "rf_feature_importances = random_forest.feature_importances_\n",
    "\n",
    "# Create a DataFrame to display feature importances\n",
    "rf_importance_df = pd.DataFrame({'Column': X.columns, 'Feature Importance': rf_feature_importances})\n",
    "rf_importance_df = rf_importance_df.sort_values(by='Feature Importance', ascending=False)\n",
    "\n",
    "# Display the top N most important columns\n",
    "top_n = 10  # Change this to the number of top features you want to display\n",
    "top_features = rf_importance_df.head(top_n)\n",
    "print(top_features)"
   ]
  },
  {
   "cell_type": "code",
   "execution_count": 7,
   "metadata": {},
   "outputs": [
    {
     "name": "stdout",
     "output_type": "stream",
     "text": [
      "Accuracy (Random Forest): 70.90%\n"
     ]
    }
   ],
   "source": [
    "# Use the trained Random Forest classifier to make predictions on the test data\n",
    "y_pred_rf = random_forest.predict(X_test)\n",
    "\n",
    "# Calculate the accuracy of the Random Forest classifier\n",
    "accuracy_rf = random_forest.score(X_test, y_test)\n",
    "\n",
    "print(\"Accuracy (Random Forest): {:.2f}%\".format(accuracy_rf * 100))"
   ]
  },
  {
   "cell_type": "code",
   "execution_count": 8,
   "metadata": {},
   "outputs": [
    {
     "data": {
      "image/png": "[encoded data removed]",
      "text/plain": [
       "<Figure size 640x480 with 2 Axes>"
      ]
     },
     "metadata": {},
     "output_type": "display_data"
    }
   ],
   "source": [
    "# Create a confusion matrix\n",
    "confusion_rf = confusion_matrix(y_test, y_pred_rf)\n",
    "\n",
    "# Plot the confusion matrix\n",
    "disp_rf = ConfusionMatrixDisplay(confusion_rf, display_labels=random_forest.classes_)\n",
    "disp_rf.plot(cmap='viridis')\n",
    "plt.title('Confusion Matrix (Random Forest)')\n",
    "plt.show()"
   ]
  },
  {
   "cell_type": "code",
   "execution_count": 9,
   "metadata": {},
   "outputs": [
    {
     "name": "stderr",
     "output_type": "stream",
     "text": [
      "d:\\AppRelated\\Anaconda\\envs\\mi\\lib\\site-packages\\seaborn\\_oldcore.py:1498: FutureWarning: is_categorical_dtype is deprecated and will be removed in a future version. Use isinstance(dtype, CategoricalDtype) instead\n",
      "  if pd.api.types.is_categorical_dtype(vector):\n",
      "d:\\AppRelated\\Anaconda\\envs\\mi\\lib\\site-packages\\seaborn\\_oldcore.py:1498: FutureWarning: is_categorical_dtype is deprecated and will be removed in a future version. Use isinstance(dtype, CategoricalDtype) instead\n",
      "  if pd.api.types.is_categorical_dtype(vector):\n",
      "d:\\AppRelated\\Anaconda\\envs\\mi\\lib\\site-packages\\seaborn\\_oldcore.py:1498: FutureWarning: is_categorical_dtype is deprecated and will be removed in a future version. Use isinstance(dtype, CategoricalDtype) instead\n",
      "  if pd.api.types.is_categorical_dtype(vector):\n",
      "d:\\AppRelated\\Anaconda\\envs\\mi\\lib\\site-packages\\seaborn\\_oldcore.py:1498: FutureWarning: is_categorical_dtype is deprecated and will be removed in a future version. Use isinstance(dtype, CategoricalDtype) instead\n",
      "  if pd.api.types.is_categorical_dtype(vector):\n",
      "d:\\AppRelated\\Anaconda\\envs\\mi\\lib\\site-packages\\seaborn\\_oldcore.py:1498: FutureWarning: is_categorical_dtype is deprecated and will be removed in a future version. Use isinstance(dtype, CategoricalDtype) instead\n",
      "  if pd.api.types.is_categorical_dtype(vector):\n",
      "d:\\AppRelated\\Anaconda\\envs\\mi\\lib\\site-packages\\seaborn\\_oldcore.py:1498: FutureWarning: is_categorical_dtype is deprecated and will be removed in a future version. Use isinstance(dtype, CategoricalDtype) instead\n",
      "  if pd.api.types.is_categorical_dtype(vector):\n",
      "d:\\AppRelated\\Anaconda\\envs\\mi\\lib\\site-packages\\seaborn\\_oldcore.py:1498: FutureWarning: is_categorical_dtype is deprecated and will be removed in a future version. Use isinstance(dtype, CategoricalDtype) instead\n",
      "  if pd.api.types.is_categorical_dtype(vector):\n",
      "d:\\AppRelated\\Anaconda\\envs\\mi\\lib\\site-packages\\seaborn\\_oldcore.py:1498: FutureWarning: is_categorical_dtype is deprecated and will be removed in a future version. Use isinstance(dtype, CategoricalDtype) instead\n",
      "  if pd.api.types.is_categorical_dtype(vector):\n",
      "d:\\AppRelated\\Anaconda\\envs\\mi\\lib\\site-packages\\seaborn\\_oldcore.py:1498: FutureWarning: is_categorical_dtype is deprecated and will be removed in a future version. Use isinstance(dtype, CategoricalDtype) instead\n",
      "  if pd.api.types.is_categorical_dtype(vector):\n",
      "d:\\AppRelated\\Anaconda\\envs\\mi\\lib\\site-packages\\seaborn\\_oldcore.py:1498: FutureWarning: is_categorical_dtype is deprecated and will be removed in a future version. Use isinstance(dtype, CategoricalDtype) instead\n",
      "  if pd.api.types.is_categorical_dtype(vector):\n"
     ]
    },
    {
     "data": {
      "image/png": "[encoded data removed]",
      "text/plain": [
       "<Figure size 1500x1000 with 10 Axes>"
      ]
     },
     "metadata": {},
     "output_type": "display_data"
    }
   ],
   "source": [
    "# Define the number of top features you want to display\n",
    "top_n = 10  # Change this to the number of top features you want to visualize\n",
    "\n",
    "# Get the top N most important features\n",
    "top_features_rf = rf_importance_df['Column'].head(top_n)\n",
    "\n",
    "# Create larger boxplots for the top N most important columns\n",
    "plt.figure(figsize=(15, 10))  # Adjust the figure size as needed\n",
    "\n",
    "# Iterate through the top features and create boxplots\n",
    "for i, column_name in enumerate(top_features_rf):\n",
    "    plt.subplot(2, 5, i + 1)  # Create subplots in a 2x5 grid\n",
    "    sns.boxplot(data=df, x=column_name)\n",
    "    plt.title(column_name)\n",
    "\n",
    "plt.tight_layout()  # Ensure proper layout"
   ]
  },
  {
   "cell_type": "code",
   "execution_count": 9,
   "metadata": {},
   "outputs": [
    {
     "data": {
      "application/vnd.plotly.v1+json": {
       "config": {
        "plotlyServerURL": "https://plot.ly"
       },
       "data": [
        {
         "mode": "lines",
         "name": "Training Loss",
         "type": "scatter",
         "x": [
          1,
          2,
          3,
          4,
          5,
          6,
          7,
          8,
          9,
          10,
          11,
          12,
          13,
          14,
          15,
          16,
          17,
          18,
          19,
          20,
          21,
          22,
          23,
          24,
          25,
          26,
          27,
          28,
          29,
          30,
          31,
          32,
          33,
          34,
          35,
          36,
          37,
          38,
          39,
          40,
          41,
          42,
          43,
          44,
          45,
          46,
          47,
          48,
          49,
          50,
          51,
          52,
          53,
          54,
          55,
          56,
          57,
          58,
          59,
          60,
          61,
          62,
          63,
          64,
          65,
          66,
          67,
          68,
          69,
          70,
          71,
          72,
          73,
          74,
          75,
          76,
          77,
          78,
          79,
          80,
          81,
          82,
          83,
          84,
          85,
          86,
          87,
          88,
          89,
          90,
          91,
          92,
          93,
          94,
          95,
          96,
          97,
          98,
          99,
          100
         ],
         "y": [
          0.5676305970149254,
          0.43330223880597013,
          0.4375,
          0.439365671641791,
          0.43097014925373134,
          0.40671641791044777,
          0.40345149253731344,
          0.4351679104477612,
          0.4123134328358209,
          0.4295708955223881,
          0.42863805970149255,
          0.4291044776119403,
          0.40671641791044777,
          0.4118470149253731,
          0.3927238805970149,
          0.41277985074626866,
          0.4146455223880597,
          0.40578358208955223,
          0.40531716417910446,
          0.4216417910447761,
          0.39225746268656714,
          0.39365671641791045,
          0.39598880597014924,
          0.3843283582089552,
          0.38992537313432835,
          0.3787313432835821,
          0.38013059701492535,
          0.39552238805970147,
          0.3969216417910448,
          0.408115671641791,
          0.3983208955223881,
          0.3903917910447761,
          0.39505597014925375,
          0.3927238805970149,
          0.39225746268656714,
          0.39552238805970147,
          0.39132462686567165,
          0.3917910447761194,
          0.38013059701492535,
          0.36986940298507465,
          0.4001865671641791,
          0.40578358208955223,
          0.38526119402985076,
          0.39225746268656714,
          0.38386194029850745,
          0.37826492537313433,
          0.3978544776119403,
          0.3833955223880597,
          0.386660447761194,
          0.4006529850746269,
          0.39925373134328357,
          0.4006529850746269,
          0.3987873134328358,
          0.3969216417910448,
          0.384794776119403,
          0.3894589552238806,
          0.39552238805970147,
          0.3969216417910448,
          0.40345149253731344,
          0.3885261194029851,
          0.36800373134328357,
          0.373134328358209,
          0.36100746268656714,
          0.3833955223880597,
          0.37826492537313433,
          0.38526119402985076,
          0.3931902985074627,
          0.3805970149253731,
          0.37826492537313433,
          0.3810634328358209,
          0.386660447761194,
          0.3927238805970149,
          0.38992537313432835,
          0.39552238805970147,
          0.39738805970149255,
          0.39505597014925375,
          0.4146455223880597,
          0.4137126865671642,
          0.40578358208955223,
          0.4076492537313433,
          0.40625,
          0.4099813432835821,
          0.4123134328358209,
          0.4230410447761194,
          0.41277985074626866,
          0.4048507462686567,
          0.40205223880597013,
          0.39552238805970147,
          0.38899253731343286,
          0.38572761194029853,
          0.39365671641791045,
          0.3871268656716418,
          0.3726679104477612,
          0.3787313432835821,
          0.376865671641791,
          0.37966417910447764,
          0.3736007462686567,
          0.38013059701492535,
          0.36100746268656714,
          0.3805970149253731
         ]
        },
        {
         "mode": "lines",
         "name": "Testing Loss",
         "type": "scatter",
         "x": [
          1,
          2,
          3,
          4,
          5,
          6,
          7,
          8,
          9,
          10,
          11,
          12,
          13,
          14,
          15,
          16,
          17,
          18,
          19,
          20,
          21,
          22,
          23,
          24,
          25,
          26,
          27,
          28,
          29,
          30,
          31,
          32,
          33,
          34,
          35,
          36,
          37,
          38,
          39,
          40,
          41,
          42,
          43,
          44,
          45,
          46,
          47,
          48,
          49,
          50,
          51,
          52,
          53,
          54,
          55,
          56,
          57,
          58,
          59,
          60,
          61,
          62,
          63,
          64,
          65,
          66,
          67,
          68,
          69,
          70,
          71,
          72,
          73,
          74,
          75,
          76,
          77,
          78,
          79,
          80,
          81,
          82,
          83,
          84,
          85,
          86,
          87,
          88,
          89,
          90,
          91,
          92,
          93,
          94,
          95,
          96,
          97,
          98,
          99,
          100
         ],
         "y": [
          0.5652985074626866,
          0.416044776119403,
          0.44402985074626866,
          0.4291044776119403,
          0.43097014925373134,
          0.4048507462686567,
          0.39738805970149255,
          0.41044776119402987,
          0.39552238805970147,
          0.376865671641791,
          0.3880597014925373,
          0.38992537313432835,
          0.3656716417910448,
          0.36007462686567165,
          0.373134328358209,
          0.3787313432835821,
          0.39552238805970147,
          0.34701492537313433,
          0.3787313432835821,
          0.3787313432835821,
          0.3805970149253731,
          0.3712686567164179,
          0.3656716417910448,
          0.35634328358208955,
          0.36380597014925375,
          0.34888059701492535,
          0.3675373134328358,
          0.3805970149253731,
          0.376865671641791,
          0.375,
          0.3656716417910448,
          0.373134328358209,
          0.3787313432835821,
          0.3656716417910448,
          0.3805970149253731,
          0.38619402985074625,
          0.375,
          0.3694029850746269,
          0.35634328358208955,
          0.3619402985074627,
          0.39738805970149255,
          0.38992537313432835,
          0.3787313432835821,
          0.38619402985074625,
          0.3805970149253731,
          0.3787313432835821,
          0.3843283582089552,
          0.375,
          0.375,
          0.39738805970149255,
          0.4085820895522388,
          0.416044776119403,
          0.4085820895522388,
          0.40111940298507465,
          0.38619402985074625,
          0.375,
          0.3805970149253731,
          0.39365671641791045,
          0.40111940298507465,
          0.3843283582089552,
          0.3712686567164179,
          0.3619402985074627,
          0.36380597014925375,
          0.35634328358208955,
          0.36007462686567165,
          0.3656716417910448,
          0.35447761194029853,
          0.3358208955223881,
          0.34888059701492535,
          0.35074626865671643,
          0.36380597014925375,
          0.373134328358209,
          0.3675373134328358,
          0.376865671641791,
          0.39552238805970147,
          0.40111940298507465,
          0.40298507462686567,
          0.39738805970149255,
          0.40671641791044777,
          0.39365671641791045,
          0.4048507462686567,
          0.4085820895522388,
          0.3917910447761194,
          0.4085820895522388,
          0.41044776119402987,
          0.3880597014925373,
          0.39552238805970147,
          0.3824626865671642,
          0.3880597014925373,
          0.3843283582089552,
          0.39552238805970147,
          0.3843283582089552,
          0.376865671641791,
          0.3675373134328358,
          0.3712686567164179,
          0.38992537313432835,
          0.3694029850746269,
          0.36007462686567165,
          0.36007462686567165,
          0.38619402985074625
         ]
        }
       ],
       "layout": {
        "template": {
         "data": {
          "bar": [
           {
            "error_x": {
             "color": "#2a3f5f"
            },
            "error_y": {
             "color": "#2a3f5f"
            },
            "marker": {
             "line": {
              "color": "#E5ECF6",
              "width": 0.5
             },
             "pattern": {
              "fillmode": "overlay",
              "size": 10,
              "solidity": 0.2
             }
            },
            "type": "bar"
           }
          ],
          "barpolar": [
           {
            "marker": {
             "line": {
              "color": "#E5ECF6",
              "width": 0.5
             },
             "pattern": {
              "fillmode": "overlay",
              "size": 10,
              "solidity": 0.2
             }
            },
            "type": "barpolar"
           }
          ],
          "carpet": [
           {
            "aaxis": {
             "endlinecolor": "#2a3f5f",
             "gridcolor": "white",
             "linecolor": "white",
             "minorgridcolor": "white",
             "startlinecolor": "#2a3f5f"
            },
            "baxis": {
             "endlinecolor": "#2a3f5f",
             "gridcolor": "white",
             "linecolor": "white",
             "minorgridcolor": "white",
             "startlinecolor": "#2a3f5f"
            },
            "type": "carpet"
           }
          ],
          "choropleth": [
           {
            "colorbar": {
             "outlinewidth": 0,
             "ticks": ""
            },
            "type": "choropleth"
           }
          ],
          "contour": [
           {
            "colorbar": {
             "outlinewidth": 0,
             "ticks": ""
            },
            "colorscale": [
             [
              0,
              "#0d0887"
             ],
             [
              0.1111111111111111,
              "#46039f"
             ],
             [
              0.2222222222222222,
              "#7201a8"
             ],
             [
              0.3333333333333333,
              "#9c179e"
             ],
             [
              0.4444444444444444,
              "#bd3786"
             ],
             [
              0.5555555555555556,
              "#d8576b"
             ],
             [
              0.6666666666666666,
              "#ed7953"
             ],
             [
              0.7777777777777778,
              "#fb9f3a"
             ],
             [
              0.8888888888888888,
              "#fdca26"
             ],
             [
              1,
              "#f0f921"
             ]
            ],
            "type": "contour"
           }
          ],
          "contourcarpet": [
           {
            "colorbar": {
             "outlinewidth": 0,
             "ticks": ""
            },
            "type": "contourcarpet"
           }
          ],
          "heatmap": [
           {
            "colorbar": {
             "outlinewidth": 0,
             "ticks": ""
            },
            "colorscale": [
             [
              0,
              "#0d0887"
             ],
             [
              0.1111111111111111,
              "#46039f"
             ],
             [
              0.2222222222222222,
              "#7201a8"
             ],
             [
              0.3333333333333333,
              "#9c179e"
             ],
             [
              0.4444444444444444,
              "#bd3786"
             ],
             [
              0.5555555555555556,
              "#d8576b"
             ],
             [
              0.6666666666666666,
              "#ed7953"
             ],
             [
              0.7777777777777778,
              "#fb9f3a"
             ],
             [
              0.8888888888888888,
              "#fdca26"
             ],
             [
              1,
              "#f0f921"
             ]
            ],
            "type": "heatmap"
           }
          ],
          "heatmapgl": [
           {
            "colorbar": {
             "outlinewidth": 0,
             "ticks": ""
            },
            "colorscale": [
             [
              0,
              "#0d0887"
             ],
             [
              0.1111111111111111,
              "#46039f"
             ],
             [
              0.2222222222222222,
              "#7201a8"
             ],
             [
              0.3333333333333333,
              "#9c179e"
             ],
             [
              0.4444444444444444,
              "#bd3786"
             ],
             [
              0.5555555555555556,
              "#d8576b"
             ],
             [
              0.6666666666666666,
              "#ed7953"
             ],
             [
              0.7777777777777778,
              "#fb9f3a"
             ],
             [
              0.8888888888888888,
              "#fdca26"
             ],
             [
              1,
              "#f0f921"
             ]
            ],
            "type": "heatmapgl"
           }
          ],
          "histogram": [
           {
            "marker": {
             "pattern": {
              "fillmode": "overlay",
              "size": 10,
              "solidity": 0.2
             }
            },
            "type": "histogram"
           }
          ],
          "histogram2d": [
           {
            "colorbar": {
             "outlinewidth": 0,
             "ticks": ""
            },
            "colorscale": [
             [
              0,
              "#0d0887"
             ],
             [
              0.1111111111111111,
              "#46039f"
             ],
             [
              0.2222222222222222,
              "#7201a8"
             ],
             [
              0.3333333333333333,
              "#9c179e"
             ],
             [
              0.4444444444444444,
              "#bd3786"
             ],
             [
              0.5555555555555556,
              "#d8576b"
             ],
             [
              0.6666666666666666,
              "#ed7953"
             ],
             [
              0.7777777777777778,
              "#fb9f3a"
             ],
             [
              0.8888888888888888,
              "#fdca26"
             ],
             [
              1,
              "#f0f921"
             ]
            ],
            "type": "histogram2d"
           }
          ],
          "histogram2dcontour": [
           {
            "colorbar": {
             "outlinewidth": 0,
             "ticks": ""
            },
            "colorscale": [
             [
              0,
              "#0d0887"
             ],
             [
              0.1111111111111111,
              "#46039f"
             ],
             [
              0.2222222222222222,
              "#7201a8"
             ],
             [
              0.3333333333333333,
              "#9c179e"
             ],
             [
              0.4444444444444444,
              "#bd3786"
             ],
             [
              0.5555555555555556,
              "#d8576b"
             ],
             [
              0.6666666666666666,
              "#ed7953"
             ],
             [
              0.7777777777777778,
              "#fb9f3a"
             ],
             [
              0.8888888888888888,
              "#fdca26"
             ],
             [
              1,
              "#f0f921"
             ]
            ],
            "type": "histogram2dcontour"
           }
          ],
          "mesh3d": [
           {
            "colorbar": {
             "outlinewidth": 0,
             "ticks": ""
            },
            "type": "mesh3d"
           }
          ],
          "parcoords": [
           {
            "line": {
             "colorbar": {
              "outlinewidth": 0,
              "ticks": ""
             }
            },
            "type": "parcoords"
           }
          ],
          "pie": [
           {
            "automargin": true,
            "type": "pie"
           }
          ],
          "scatter": [
           {
            "fillpattern": {
             "fillmode": "overlay",
             "size": 10,
             "solidity": 0.2
            },
            "type": "scatter"
           }
          ],
          "scatter3d": [
           {
            "line": {
             "colorbar": {
              "outlinewidth": 0,
              "ticks": ""
             }
            },
            "marker": {
             "colorbar": {
              "outlinewidth": 0,
              "ticks": ""
             }
            },
            "type": "scatter3d"
           }
          ],
          "scattercarpet": [
           {
            "marker": {
             "colorbar": {
              "outlinewidth": 0,
              "ticks": ""
             }
            },
            "type": "scattercarpet"
           }
          ],
          "scattergeo": [
           {
            "marker": {
             "colorbar": {
              "outlinewidth": 0,
              "ticks": ""
             }
            },
            "type": "scattergeo"
           }
          ],
          "scattergl": [
           {
            "marker": {
             "colorbar": {
              "outlinewidth": 0,
              "ticks": ""
             }
            },
            "type": "scattergl"
           }
          ],
          "scattermapbox": [
           {
            "marker": {
             "colorbar": {
              "outlinewidth": 0,
              "ticks": ""
             }
            },
            "type": "scattermapbox"
           }
          ],
          "scatterpolar": [
           {
            "marker": {
             "colorbar": {
              "outlinewidth": 0,
              "ticks": ""
             }
            },
            "type": "scatterpolar"
           }
          ],
          "scatterpolargl": [
           {
            "marker": {
             "colorbar": {
              "outlinewidth": 0,
              "ticks": ""
             }
            },
            "type": "scatterpolargl"
           }
          ],
          "scatterternary": [
           {
            "marker": {
             "colorbar": {
              "outlinewidth": 0,
              "ticks": ""
             }
            },
            "type": "scatterternary"
           }
          ],
          "surface": [
           {
            "colorbar": {
             "outlinewidth": 0,
             "ticks": ""
            },
            "colorscale": [
             [
              0,
              "#0d0887"
             ],
             [
              0.1111111111111111,
              "#46039f"
             ],
             [
              0.2222222222222222,
              "#7201a8"
             ],
             [
              0.3333333333333333,
              "#9c179e"
             ],
             [
              0.4444444444444444,
              "#bd3786"
             ],
             [
              0.5555555555555556,
              "#d8576b"
             ],
             [
              0.6666666666666666,
              "#ed7953"
             ],
             [
              0.7777777777777778,
              "#fb9f3a"
             ],
             [
              0.8888888888888888,
              "#fdca26"
             ],
             [
              1,
              "#f0f921"
             ]
            ],
            "type": "surface"
           }
          ],
          "table": [
           {
            "cells": {
             "fill": {
              "color": "#EBF0F8"
             },
             "line": {
              "color": "white"
             }
            },
            "header": {
             "fill": {
              "color": "#C8D4E3"
             },
             "line": {
              "color": "white"
             }
            },
            "type": "table"
           }
          ]
         },
         "layout": {
          "annotationdefaults": {
           "arrowcolor": "#2a3f5f",
           "arrowhead": 0,
           "arrowwidth": 1
          },
          "autotypenumbers": "strict",
          "coloraxis": {
           "colorbar": {
            "outlinewidth": 0,
            "ticks": ""
           }
          },
          "colorscale": {
           "diverging": [
            [
             0,
             "#8e0152"
            ],
            [
             0.1,
             "#c51b7d"
            ],
            [
             0.2,
             "#de77ae"
            ],
            [
             0.3,
             "#f1b6da"
            ],
            [
             0.4,
             "#fde0ef"
            ],
            [
             0.5,
             "#f7f7f7"
            ],
            [
             0.6,
             "#e6f5d0"
            ],
            [
             0.7,
             "#b8e186"
            ],
            [
             0.8,
             "#7fbc41"
            ],
            [
             0.9,
             "#4d9221"
            ],
            [
             1,
             "#276419"
            ]
           ],
           "sequential": [
            [
             0,
             "#0d0887"
            ],
            [
             0.1111111111111111,
             "#46039f"
            ],
            [
             0.2222222222222222,
             "#7201a8"
            ],
            [
             0.3333333333333333,
             "#9c179e"
            ],
            [
             0.4444444444444444,
             "#bd3786"
            ],
            [
             0.5555555555555556,
             "#d8576b"
            ],
            [
             0.6666666666666666,
             "#ed7953"
            ],
            [
             0.7777777777777778,
             "#fb9f3a"
            ],
            [
             0.8888888888888888,
             "#fdca26"
            ],
            [
             1,
             "#f0f921"
            ]
           ],
           "sequentialminus": [
            [
             0,
             "#0d0887"
            ],
            [
             0.1111111111111111,
             "#46039f"
            ],
            [
             0.2222222222222222,
             "#7201a8"
            ],
            [
             0.3333333333333333,
             "#9c179e"
            ],
            [
             0.4444444444444444,
             "#bd3786"
            ],
            [
             0.5555555555555556,
             "#d8576b"
            ],
            [
             0.6666666666666666,
             "#ed7953"
            ],
            [
             0.7777777777777778,
             "#fb9f3a"
            ],
            [
             0.8888888888888888,
             "#fdca26"
            ],
            [
             1,
             "#f0f921"
            ]
           ]
          },
          "colorway": [
           "#636efa",
           "#EF553B",
           "#00cc96",
           "#ab63fa",
           "#FFA15A",
           "#19d3f3",
           "#FF6692",
           "#B6E880",
           "#FF97FF",
           "#FECB52"
          ],
          "font": {
           "color": "#2a3f5f"
          },
          "geo": {
           "bgcolor": "white",
           "lakecolor": "white",
           "landcolor": "#E5ECF6",
           "showlakes": true,
           "showland": true,
           "subunitcolor": "white"
          },
          "hoverlabel": {
           "align": "left"
          },
          "hovermode": "closest",
          "mapbox": {
           "style": "light"
          },
          "paper_bgcolor": "white",
          "plot_bgcolor": "#E5ECF6",
          "polar": {
           "angularaxis": {
            "gridcolor": "white",
            "linecolor": "white",
            "ticks": ""
           },
           "bgcolor": "#E5ECF6",
           "radialaxis": {
            "gridcolor": "white",
            "linecolor": "white",
            "ticks": ""
           }
          },
          "scene": {
           "xaxis": {
            "backgroundcolor": "#E5ECF6",
            "gridcolor": "white",
            "gridwidth": 2,
            "linecolor": "white",
            "showbackground": true,
            "ticks": "",
            "zerolinecolor": "white"
           },
           "yaxis": {
            "backgroundcolor": "#E5ECF6",
            "gridcolor": "white",
            "gridwidth": 2,
            "linecolor": "white",
            "showbackground": true,
            "ticks": "",
            "zerolinecolor": "white"
           },
           "zaxis": {
            "backgroundcolor": "#E5ECF6",
            "gridcolor": "white",
            "gridwidth": 2,
            "linecolor": "white",
            "showbackground": true,
            "ticks": "",
            "zerolinecolor": "white"
           }
          },
          "shapedefaults": {
           "line": {
            "color": "#2a3f5f"
           }
          },
          "ternary": {
           "aaxis": {
            "gridcolor": "white",
            "linecolor": "white",
            "ticks": ""
           },
           "baxis": {
            "gridcolor": "white",
            "linecolor": "white",
            "ticks": ""
           },
           "bgcolor": "#E5ECF6",
           "caxis": {
            "gridcolor": "white",
            "linecolor": "white",
            "ticks": ""
           }
          },
          "title": {
           "x": 0.05
          },
          "xaxis": {
           "automargin": true,
           "gridcolor": "white",
           "linecolor": "white",
           "ticks": "",
           "title": {
            "standoff": 15
           },
           "zerolinecolor": "white",
           "zerolinewidth": 2
          },
          "yaxis": {
           "automargin": true,
           "gridcolor": "white",
           "linecolor": "white",
           "ticks": "",
           "title": {
            "standoff": 15
           },
           "zerolinecolor": "white",
           "zerolinewidth": 2
          }
         }
        },
        "title": {
         "text": "Training and Testing Loss Over Epochs"
        },
        "xaxis": {
         "title": {
          "text": "Number of Estimators (Epochs)"
         }
        },
        "yaxis": {
         "title": {
          "text": "MSE"
         }
        }
       }
      }
     },
     "metadata": {},
     "output_type": "display_data"
    }
   ],
   "source": [
    "import plotly.graph_objects as go\n",
    "import plotly.express as px\n",
    "\n",
    "# Create a line plot for both training and testing MSE using Plotly\n",
    "fig = go.Figure()\n",
    "\n",
    "fig.add_trace(go.Scatter(x=np.arange(1, n_estimators + 1), y=training_loss, mode='lines', name='Training Loss'))\n",
    "fig.add_trace(go.Scatter(x=np.arange(1, n_estimators + 1), y=testing_loss, mode='lines', name='Testing Loss'))\n",
    "\n",
    "fig.update_layout(title='Training and Testing Loss Over Epochs',\n",
    "                  xaxis_title='Number of Estimators (Epochs)',\n",
    "                  yaxis_title='MSE')\n",
    "\n",
    "fig.show()\n"
   ]
  },
  {
   "cell_type": "code",
   "execution_count": 10,
   "metadata": {},
   "outputs": [
    {
     "data": {
      "application/vnd.plotly.v1+json": {
       "config": {
        "plotlyServerURL": "https://plot.ly"
       },
       "data": [
        {
         "mode": "lines",
         "name": "Training Accuracy",
         "type": "scatter",
         "x": [
          1,
          2,
          3,
          4,
          5,
          6,
          7,
          8,
          9,
          10,
          11,
          12,
          13,
          14,
          15,
          16,
          17,
          18,
          19,
          20,
          21,
          22,
          23,
          24,
          25,
          26,
          27,
          28,
          29,
          30,
          31,
          32,
          33,
          34,
          35,
          36,
          37,
          38,
          39,
          40,
          41,
          42,
          43,
          44,
          45,
          46,
          47,
          48,
          49,
          50,
          51,
          52,
          53,
          54,
          55,
          56,
          57,
          58,
          59,
          60,
          61,
          62,
          63,
          64,
          65,
          66,
          67,
          68,
          69,
          70,
          71,
          72,
          73,
          74,
          75,
          76,
          77,
          78,
          79,
          80,
          81,
          82,
          83,
          84,
          85,
          86,
          87,
          88,
          89,
          90,
          91,
          92,
          93,
          94,
          95,
          96,
          97,
          98,
          99,
          100
         ],
         "y": [
          0.43236940298507465,
          0.5666977611940298,
          0.5625,
          0.5606343283582089,
          0.5690298507462687,
          0.5932835820895522,
          0.5965485074626866,
          0.5648320895522388,
          0.5876865671641791,
          0.570429104477612,
          0.5713619402985075,
          0.5708955223880597,
          0.5932835820895522,
          0.5881529850746269,
          0.6072761194029851,
          0.5872201492537313,
          0.5853544776119403,
          0.5942164179104478,
          0.5946828358208955,
          0.5783582089552238,
          0.6077425373134329,
          0.6063432835820896,
          0.6040111940298507,
          0.6156716417910447,
          0.6100746268656716,
          0.621268656716418,
          0.6198694029850746,
          0.6044776119402985,
          0.6030783582089553,
          0.5918843283582089,
          0.601679104477612,
          0.6096082089552238,
          0.6049440298507462,
          0.6072761194029851,
          0.6077425373134329,
          0.6044776119402985,
          0.6086753731343284,
          0.6082089552238806,
          0.6198694029850746,
          0.6301305970149254,
          0.5998134328358209,
          0.5942164179104478,
          0.6147388059701493,
          0.6077425373134329,
          0.6161380597014925,
          0.6217350746268657,
          0.6021455223880597,
          0.6166044776119403,
          0.613339552238806,
          0.5993470149253731,
          0.6007462686567164,
          0.5993470149253731,
          0.6012126865671642,
          0.6030783582089553,
          0.6152052238805971,
          0.6105410447761194,
          0.6044776119402985,
          0.6030783582089553,
          0.5965485074626866,
          0.6114738805970149,
          0.6319962686567164,
          0.6268656716417911,
          0.6389925373134329,
          0.6166044776119403,
          0.6217350746268657,
          0.6147388059701493,
          0.6068097014925373,
          0.6194029850746269,
          0.6217350746268657,
          0.6189365671641791,
          0.613339552238806,
          0.6072761194029851,
          0.6100746268656716,
          0.6044776119402985,
          0.6026119402985075,
          0.6049440298507462,
          0.5853544776119403,
          0.5862873134328358,
          0.5942164179104478,
          0.5923507462686567,
          0.59375,
          0.590018656716418,
          0.5876865671641791,
          0.5769589552238806,
          0.5872201492537313,
          0.5951492537313433,
          0.5979477611940298,
          0.6044776119402985,
          0.6110074626865671,
          0.6142723880597015,
          0.6063432835820896,
          0.6128731343283582,
          0.6273320895522388,
          0.621268656716418,
          0.6231343283582089,
          0.6203358208955224,
          0.6263992537313433,
          0.6198694029850746,
          0.6389925373134329,
          0.6194029850746269
         ]
        },
        {
         "mode": "lines",
         "name": "Testing Accuracy",
         "type": "scatter",
         "x": [
          1,
          2,
          3,
          4,
          5,
          6,
          7,
          8,
          9,
          10,
          11,
          12,
          13,
          14,
          15,
          16,
          17,
          18,
          19,
          20,
          21,
          22,
          23,
          24,
          25,
          26,
          27,
          28,
          29,
          30,
          31,
          32,
          33,
          34,
          35,
          36,
          37,
          38,
          39,
          40,
          41,
          42,
          43,
          44,
          45,
          46,
          47,
          48,
          49,
          50,
          51,
          52,
          53,
          54,
          55,
          56,
          57,
          58,
          59,
          60,
          61,
          62,
          63,
          64,
          65,
          66,
          67,
          68,
          69,
          70,
          71,
          72,
          73,
          74,
          75,
          76,
          77,
          78,
          79,
          80,
          81,
          82,
          83,
          84,
          85,
          86,
          87,
          88,
          89,
          90,
          91,
          92,
          93,
          94,
          95,
          96,
          97,
          98,
          99,
          100
         ],
         "y": [
          0.43470149253731344,
          0.5839552238805971,
          0.5559701492537313,
          0.5708955223880597,
          0.5690298507462687,
          0.5951492537313433,
          0.6026119402985075,
          0.5895522388059702,
          0.6044776119402985,
          0.6231343283582089,
          0.6119402985074627,
          0.6100746268656716,
          0.6343283582089553,
          0.6399253731343284,
          0.6268656716417911,
          0.621268656716418,
          0.6044776119402985,
          0.6529850746268657,
          0.621268656716418,
          0.621268656716418,
          0.6194029850746269,
          0.628731343283582,
          0.6343283582089553,
          0.6436567164179104,
          0.6361940298507462,
          0.6511194029850746,
          0.6324626865671642,
          0.6194029850746269,
          0.6231343283582089,
          0.625,
          0.6343283582089553,
          0.6268656716417911,
          0.621268656716418,
          0.6343283582089553,
          0.6194029850746269,
          0.6138059701492538,
          0.625,
          0.6305970149253731,
          0.6436567164179104,
          0.6380597014925373,
          0.6026119402985075,
          0.6100746268656716,
          0.621268656716418,
          0.6138059701492538,
          0.6194029850746269,
          0.621268656716418,
          0.6156716417910447,
          0.625,
          0.625,
          0.6026119402985075,
          0.5914179104477612,
          0.5839552238805971,
          0.5914179104477612,
          0.5988805970149254,
          0.6138059701492538,
          0.625,
          0.6194029850746269,
          0.6063432835820896,
          0.5988805970149254,
          0.6156716417910447,
          0.628731343283582,
          0.6380597014925373,
          0.6361940298507462,
          0.6436567164179104,
          0.6399253731343284,
          0.6343283582089553,
          0.6455223880597015,
          0.664179104477612,
          0.6511194029850746,
          0.6492537313432836,
          0.6361940298507462,
          0.6268656716417911,
          0.6324626865671642,
          0.6231343283582089,
          0.6044776119402985,
          0.5988805970149254,
          0.5970149253731343,
          0.6026119402985075,
          0.5932835820895522,
          0.6063432835820896,
          0.5951492537313433,
          0.5914179104477612,
          0.6082089552238806,
          0.5914179104477612,
          0.5895522388059702,
          0.6119402985074627,
          0.6044776119402985,
          0.6175373134328358,
          0.6119402985074627,
          0.6156716417910447,
          0.6044776119402985,
          0.6156716417910447,
          0.6231343283582089,
          0.6324626865671642,
          0.628731343283582,
          0.6100746268656716,
          0.6305970149253731,
          0.6399253731343284,
          0.6399253731343284,
          0.6138059701492538
         ]
        }
       ],
       "layout": {
        "template": {
         "data": {
          "bar": [
           {
            "error_x": {
             "color": "#2a3f5f"
            },
            "error_y": {
             "color": "#2a3f5f"
            },
            "marker": {
             "line": {
              "color": "#E5ECF6",
              "width": 0.5
             },
             "pattern": {
              "fillmode": "overlay",
              "size": 10,
              "solidity": 0.2
             }
            },
            "type": "bar"
           }
          ],
          "barpolar": [
           {
            "marker": {
             "line": {
              "color": "#E5ECF6",
              "width": 0.5
             },
             "pattern": {
              "fillmode": "overlay",
              "size": 10,
              "solidity": 0.2
             }
            },
            "type": "barpolar"
           }
          ],
          "carpet": [
           {
            "aaxis": {
             "endlinecolor": "#2a3f5f",
             "gridcolor": "white",
             "linecolor": "white",
             "minorgridcolor": "white",
             "startlinecolor": "#2a3f5f"
            },
            "baxis": {
             "endlinecolor": "#2a3f5f",
             "gridcolor": "white",
             "linecolor": "white",
             "minorgridcolor": "white",
             "startlinecolor": "#2a3f5f"
            },
            "type": "carpet"
           }
          ],
          "choropleth": [
           {
            "colorbar": {
             "outlinewidth": 0,
             "ticks": ""
            },
            "type": "choropleth"
           }
          ],
          "contour": [
           {
            "colorbar": {
             "outlinewidth": 0,
             "ticks": ""
            },
            "colorscale": [
             [
              0,
              "#0d0887"
             ],
             [
              0.1111111111111111,
              "#46039f"
             ],
             [
              0.2222222222222222,
              "#7201a8"
             ],
             [
              0.3333333333333333,
              "#9c179e"
             ],
             [
              0.4444444444444444,
              "#bd3786"
             ],
             [
              0.5555555555555556,
              "#d8576b"
             ],
             [
              0.6666666666666666,
              "#ed7953"
             ],
             [
              0.7777777777777778,
              "#fb9f3a"
             ],
             [
              0.8888888888888888,
              "#fdca26"
             ],
             [
              1,
              "#f0f921"
             ]
            ],
            "type": "contour"
           }
          ],
          "contourcarpet": [
           {
            "colorbar": {
             "outlinewidth": 0,
             "ticks": ""
            },
            "type": "contourcarpet"
           }
          ],
          "heatmap": [
           {
            "colorbar": {
             "outlinewidth": 0,
             "ticks": ""
            },
            "colorscale": [
             [
              0,
              "#0d0887"
             ],
             [
              0.1111111111111111,
              "#46039f"
             ],
             [
              0.2222222222222222,
              "#7201a8"
             ],
             [
              0.3333333333333333,
              "#9c179e"
             ],
             [
              0.4444444444444444,
              "#bd3786"
             ],
             [
              0.5555555555555556,
              "#d8576b"
             ],
             [
              0.6666666666666666,
              "#ed7953"
             ],
             [
              0.7777777777777778,
              "#fb9f3a"
             ],
             [
              0.8888888888888888,
              "#fdca26"
             ],
             [
              1,
              "#f0f921"
             ]
            ],
            "type": "heatmap"
           }
          ],
          "heatmapgl": [
           {
            "colorbar": {
             "outlinewidth": 0,
             "ticks": ""
            },
            "colorscale": [
             [
              0,
              "#0d0887"
             ],
             [
              0.1111111111111111,
              "#46039f"
             ],
             [
              0.2222222222222222,
              "#7201a8"
             ],
             [
              0.3333333333333333,
              "#9c179e"
             ],
             [
              0.4444444444444444,
              "#bd3786"
             ],
             [
              0.5555555555555556,
              "#d8576b"
             ],
             [
              0.6666666666666666,
              "#ed7953"
             ],
             [
              0.7777777777777778,
              "#fb9f3a"
             ],
             [
              0.8888888888888888,
              "#fdca26"
             ],
             [
              1,
              "#f0f921"
             ]
            ],
            "type": "heatmapgl"
           }
          ],
          "histogram": [
           {
            "marker": {
             "pattern": {
              "fillmode": "overlay",
              "size": 10,
              "solidity": 0.2
             }
            },
            "type": "histogram"
           }
          ],
          "histogram2d": [
           {
            "colorbar": {
             "outlinewidth": 0,
             "ticks": ""
            },
            "colorscale": [
             [
              0,
              "#0d0887"
             ],
             [
              0.1111111111111111,
              "#46039f"
             ],
             [
              0.2222222222222222,
              "#7201a8"
             ],
             [
              0.3333333333333333,
              "#9c179e"
             ],
             [
              0.4444444444444444,
              "#bd3786"
             ],
             [
              0.5555555555555556,
              "#d8576b"
             ],
             [
              0.6666666666666666,
              "#ed7953"
             ],
             [
              0.7777777777777778,
              "#fb9f3a"
             ],
             [
              0.8888888888888888,
              "#fdca26"
             ],
             [
              1,
              "#f0f921"
             ]
            ],
            "type": "histogram2d"
           }
          ],
          "histogram2dcontour": [
           {
            "colorbar": {
             "outlinewidth": 0,
             "ticks": ""
            },
            "colorscale": [
             [
              0,
              "#0d0887"
             ],
             [
              0.1111111111111111,
              "#46039f"
             ],
             [
              0.2222222222222222,
              "#7201a8"
             ],
             [
              0.3333333333333333,
              "#9c179e"
             ],
             [
              0.4444444444444444,
              "#bd3786"
             ],
             [
              0.5555555555555556,
              "#d8576b"
             ],
             [
              0.6666666666666666,
              "#ed7953"
             ],
             [
              0.7777777777777778,
              "#fb9f3a"
             ],
             [
              0.8888888888888888,
              "#fdca26"
             ],
             [
              1,
              "#f0f921"
             ]
            ],
            "type": "histogram2dcontour"
           }
          ],
          "mesh3d": [
           {
            "colorbar": {
             "outlinewidth": 0,
             "ticks": ""
            },
            "type": "mesh3d"
           }
          ],
          "parcoords": [
           {
            "line": {
             "colorbar": {
              "outlinewidth": 0,
              "ticks": ""
             }
            },
            "type": "parcoords"
           }
          ],
          "pie": [
           {
            "automargin": true,
            "type": "pie"
           }
          ],
          "scatter": [
           {
            "fillpattern": {
             "fillmode": "overlay",
             "size": 10,
             "solidity": 0.2
            },
            "type": "scatter"
           }
          ],
          "scatter3d": [
           {
            "line": {
             "colorbar": {
              "outlinewidth": 0,
              "ticks": ""
             }
            },
            "marker": {
             "colorbar": {
              "outlinewidth": 0,
              "ticks": ""
             }
            },
            "type": "scatter3d"
           }
          ],
          "scattercarpet": [
           {
            "marker": {
             "colorbar": {
              "outlinewidth": 0,
              "ticks": ""
             }
            },
            "type": "scattercarpet"
           }
          ],
          "scattergeo": [
           {
            "marker": {
             "colorbar": {
              "outlinewidth": 0,
              "ticks": ""
             }
            },
            "type": "scattergeo"
           }
          ],
          "scattergl": [
           {
            "marker": {
             "colorbar": {
              "outlinewidth": 0,
              "ticks": ""
             }
            },
            "type": "scattergl"
           }
          ],
          "scattermapbox": [
           {
            "marker": {
             "colorbar": {
              "outlinewidth": 0,
              "ticks": ""
             }
            },
            "type": "scattermapbox"
           }
          ],
          "scatterpolar": [
           {
            "marker": {
             "colorbar": {
              "outlinewidth": 0,
              "ticks": ""
             }
            },
            "type": "scatterpolar"
           }
          ],
          "scatterpolargl": [
           {
            "marker": {
             "colorbar": {
              "outlinewidth": 0,
              "ticks": ""
             }
            },
            "type": "scatterpolargl"
           }
          ],
          "scatterternary": [
           {
            "marker": {
             "colorbar": {
              "outlinewidth": 0,
              "ticks": ""
             }
            },
            "type": "scatterternary"
           }
          ],
          "surface": [
           {
            "colorbar": {
             "outlinewidth": 0,
             "ticks": ""
            },
            "colorscale": [
             [
              0,
              "#0d0887"
             ],
             [
              0.1111111111111111,
              "#46039f"
             ],
             [
              0.2222222222222222,
              "#7201a8"
             ],
             [
              0.3333333333333333,
              "#9c179e"
             ],
             [
              0.4444444444444444,
              "#bd3786"
             ],
             [
              0.5555555555555556,
              "#d8576b"
             ],
             [
              0.6666666666666666,
              "#ed7953"
             ],
             [
              0.7777777777777778,
              "#fb9f3a"
             ],
             [
              0.8888888888888888,
              "#fdca26"
             ],
             [
              1,
              "#f0f921"
             ]
            ],
            "type": "surface"
           }
          ],
          "table": [
           {
            "cells": {
             "fill": {
              "color": "#EBF0F8"
             },
             "line": {
              "color": "white"
             }
            },
            "header": {
             "fill": {
              "color": "#C8D4E3"
             },
             "line": {
              "color": "white"
             }
            },
            "type": "table"
           }
          ]
         },
         "layout": {
          "annotationdefaults": {
           "arrowcolor": "#2a3f5f",
           "arrowhead": 0,
           "arrowwidth": 1
          },
          "autotypenumbers": "strict",
          "coloraxis": {
           "colorbar": {
            "outlinewidth": 0,
            "ticks": ""
           }
          },
          "colorscale": {
           "diverging": [
            [
             0,
             "#8e0152"
            ],
            [
             0.1,
             "#c51b7d"
            ],
            [
             0.2,
             "#de77ae"
            ],
            [
             0.3,
             "#f1b6da"
            ],
            [
             0.4,
             "#fde0ef"
            ],
            [
             0.5,
             "#f7f7f7"
            ],
            [
             0.6,
             "#e6f5d0"
            ],
            [
             0.7,
             "#b8e186"
            ],
            [
             0.8,
             "#7fbc41"
            ],
            [
             0.9,
             "#4d9221"
            ],
            [
             1,
             "#276419"
            ]
           ],
           "sequential": [
            [
             0,
             "#0d0887"
            ],
            [
             0.1111111111111111,
             "#46039f"
            ],
            [
             0.2222222222222222,
             "#7201a8"
            ],
            [
             0.3333333333333333,
             "#9c179e"
            ],
            [
             0.4444444444444444,
             "#bd3786"
            ],
            [
             0.5555555555555556,
             "#d8576b"
            ],
            [
             0.6666666666666666,
             "#ed7953"
            ],
            [
             0.7777777777777778,
             "#fb9f3a"
            ],
            [
             0.8888888888888888,
             "#fdca26"
            ],
            [
             1,
             "#f0f921"
            ]
           ],
           "sequentialminus": [
            [
             0,
             "#0d0887"
            ],
            [
             0.1111111111111111,
             "#46039f"
            ],
            [
             0.2222222222222222,
             "#7201a8"
            ],
            [
             0.3333333333333333,
             "#9c179e"
            ],
            [
             0.4444444444444444,
             "#bd3786"
            ],
            [
             0.5555555555555556,
             "#d8576b"
            ],
            [
             0.6666666666666666,
             "#ed7953"
            ],
            [
             0.7777777777777778,
             "#fb9f3a"
            ],
            [
             0.8888888888888888,
             "#fdca26"
            ],
            [
             1,
             "#f0f921"
            ]
           ]
          },
          "colorway": [
           "#636efa",
           "#EF553B",
           "#00cc96",
           "#ab63fa",
           "#FFA15A",
           "#19d3f3",
           "#FF6692",
           "#B6E880",
           "#FF97FF",
           "#FECB52"
          ],
          "font": {
           "color": "#2a3f5f"
          },
          "geo": {
           "bgcolor": "white",
           "lakecolor": "white",
           "landcolor": "#E5ECF6",
           "showlakes": true,
           "showland": true,
           "subunitcolor": "white"
          },
          "hoverlabel": {
           "align": "left"
          },
          "hovermode": "closest",
          "mapbox": {
           "style": "light"
          },
          "paper_bgcolor": "white",
          "plot_bgcolor": "#E5ECF6",
          "polar": {
           "angularaxis": {
            "gridcolor": "white",
            "linecolor": "white",
            "ticks": ""
           },
           "bgcolor": "#E5ECF6",
           "radialaxis": {
            "gridcolor": "white",
            "linecolor": "white",
            "ticks": ""
           }
          },
          "scene": {
           "xaxis": {
            "backgroundcolor": "#E5ECF6",
            "gridcolor": "white",
            "gridwidth": 2,
            "linecolor": "white",
            "showbackground": true,
            "ticks": "",
            "zerolinecolor": "white"
           },
           "yaxis": {
            "backgroundcolor": "#E5ECF6",
            "gridcolor": "white",
            "gridwidth": 2,
            "linecolor": "white",
            "showbackground": true,
            "ticks": "",
            "zerolinecolor": "white"
           },
           "zaxis": {
            "backgroundcolor": "#E5ECF6",
            "gridcolor": "white",
            "gridwidth": 2,
            "linecolor": "white",
            "showbackground": true,
            "ticks": "",
            "zerolinecolor": "white"
           }
          },
          "shapedefaults": {
           "line": {
            "color": "#2a3f5f"
           }
          },
          "ternary": {
           "aaxis": {
            "gridcolor": "white",
            "linecolor": "white",
            "ticks": ""
           },
           "baxis": {
            "gridcolor": "white",
            "linecolor": "white",
            "ticks": ""
           },
           "bgcolor": "#E5ECF6",
           "caxis": {
            "gridcolor": "white",
            "linecolor": "white",
            "ticks": ""
           }
          },
          "title": {
           "x": 0.05
          },
          "xaxis": {
           "automargin": true,
           "gridcolor": "white",
           "linecolor": "white",
           "ticks": "",
           "title": {
            "standoff": 15
           },
           "zerolinecolor": "white",
           "zerolinewidth": 2
          },
          "yaxis": {
           "automargin": true,
           "gridcolor": "white",
           "linecolor": "white",
           "ticks": "",
           "title": {
            "standoff": 15
           },
           "zerolinecolor": "white",
           "zerolinewidth": 2
          }
         }
        },
        "title": {
         "text": "Training and Testing Accuracy Over Epochs"
        },
        "xaxis": {
         "title": {
          "text": "Number of Estimators (Epochs)"
         }
        },
        "yaxis": {
         "title": {
          "text": "Accuracy"
         }
        }
       }
      }
     },
     "metadata": {},
     "output_type": "display_data"
    }
   ],
   "source": [
    "# Create a line plot for both training and testing accuracy using Plotly\n",
    "fig = go.Figure()\n",
    "\n",
    "fig.add_trace(go.Scatter(x=np.arange(1, n_estimators + 1), y=training_accuracy, mode='lines', name='Training Accuracy'))\n",
    "fig.add_trace(go.Scatter(x=np.arange(1, n_estimators + 1), y=testing_accuracy, mode='lines', name='Testing Accuracy'))\n",
    "\n",
    "fig.update_layout(title='Training and Testing Accuracy Over Epochs',\n",
    "                  xaxis_title='Number of Estimators (Epochs)',\n",
    "                  yaxis_title='Accuracy')\n",
    "\n",
    "fig.show()"
   ]
  },
  {
   "cell_type": "markdown",
   "metadata": {},
   "source": [
    "### 25 features with Backward Feature Extraction"
   ]
  },
  {
   "cell_type": "code",
   "execution_count": 23,
   "metadata": {},
   "outputs": [],
   "source": [
    "from sklearn.model_selection import train_test_split\n",
    "from sklearn.preprocessing import StandardScaler\n",
    "\n",
    "csv_file = 'result_data.csv'\n",
    "\n",
    "# Read the CSV file and create a DataFrame\n",
    "df = pd.read_csv(csv_file)\n",
    "\n",
    "# Define your target variable\n",
    "target_column = 'has_parkinson'\n",
    "y = df[target_column]\n",
    "\n",
    "# Drop the target column and other non-essential columns if needed\n",
    "X = df.drop(columns=[target_column, 'data_group', 'event_type'])\n",
    "\n",
    "# Standardize the features\n",
    "scaler = StandardScaler()\n",
    "X_scaled = scaler.fit_transform(X)"
   ]
  },
  {
   "cell_type": "code",
   "execution_count": 25,
   "metadata": {},
   "outputs": [
    {
     "name": "stdout",
     "output_type": "stream",
     "text": [
      "Selected Features:\n",
      "Index(['finish_time', 'NCA', 'relative_NCV', 'relative_NCA', 'stroke_speed',\n",
      "       'velocity_median', 'velocity_std_dev', 'velocity_iqr',\n",
      "       'acceleration_median', 'acceleration_std_dev', 'jerk_mean',\n",
      "       'jerk_median', 'jerk_std_dev', 'velocity_x_mean', 'velocity_x_median',\n",
      "       'velocity_x_std_dev', 'velocity_x_iqr', 'acceleration_x_std_dev',\n",
      "       'acceleration_x_iqr', 'velocity_y_mean', 'velocity_y_median',\n",
      "       'acceleration_y_median', 'acceleration_y_maximum', 'jerk_y_std_dev',\n",
      "       'jerk_y_maximum'],\n",
      "      dtype='object')\n"
     ]
    }
   ],
   "source": [
    "from sklearn.ensemble import RandomForestClassifier\n",
    "from sklearn.feature_selection import RFE\n",
    "\n",
    "# Initialize a random forest classifier\n",
    "rf_classifier = RandomForestClassifier(n_estimators=100, random_state=42)\n",
    "\n",
    "# Set the number of features to select\n",
    "n_features_to_select = 25\n",
    "\n",
    "# Initialize RFE with the classifier and the number of features to retain\n",
    "rfe = RFE(estimator=rf_classifier, n_features_to_select=n_features_to_select)\n",
    "\n",
    "# Fit RFE to the training data\n",
    "rfe.fit(X, y)\n",
    "\n",
    "# Get the ranking of each feature (1 means selected, 2 means not selected)\n",
    "feature_ranking = rfe.ranking_\n",
    "\n",
    "# Get the indices of the selected features\n",
    "selected_features_indices = np.where(feature_ranking == 1)[0]\n",
    "\n",
    "# Get the names of the selected features\n",
    "selected_features_names = X.columns[selected_features_indices]\n",
    "\n",
    "# Subset the DataFrame with selected features\n",
    "X_selected = X[selected_features_names]\n",
    "\n",
    "# Display the selected features\n",
    "print(\"Selected Features:\")\n",
    "print(selected_features_names)\n",
    "\n"
   ]
  },
  {
   "cell_type": "code",
   "execution_count": 28,
   "metadata": {},
   "outputs": [
    {
     "name": "stdout",
     "output_type": "stream",
     "text": [
      "Accuracy after feature selection: 72.94776119402985\n"
     ]
    }
   ],
   "source": [
    "from sklearn.model_selection import train_test_split\n",
    "from sklearn.metrics import accuracy_score\n",
    "\n",
    "# Split the dataset into training and testing sets\n",
    "X_train, X_test, y_train, y_test = train_test_split(X_selected, y, test_size=0.2, random_state=42)\n",
    "\n",
    "# Initialize a new random forest classifier\n",
    "rf_classifier_after_bfe = RandomForestClassifier(n_estimators=100, random_state=42)\n",
    "\n",
    "# Train the classifier on the training set\n",
    "history = rf_classifier_after_bfe.fit(X_train, y_train)\n",
    "\n",
    "# Make predictions on the testing set\n",
    "y_pred = rf_classifier_after_bfe.predict(X_test)\n",
    "\n",
    "# Calculate accuracy\n",
    "accuracy = accuracy_score(y_test, y_pred)\n",
    "\n",
    "# Display the accuracy\n",
    "print(\"Accuracy after feature selection:\", accuracy*100)\n"
   ]
  },
  {
   "cell_type": "code",
   "execution_count": null,
   "metadata": {},
   "outputs": [],
   "source": []
  },
  {
   "cell_type": "code",
   "execution_count": null,
   "metadata": {},
   "outputs": [],
   "source": []
  }
 ],
 "metadata": {
  "kernelspec": {
   "display_name": "mi",
   "language": "python",
   "name": "python3"
  },
  "language_info": {
   "codemirror_mode": {
    "name": "ipython",
    "version": 3
   },
   "file_extension": ".py",
   "mimetype": "text/x-python",
   "name": "python",
   "nbconvert_exporter": "python",
   "pygments_lexer": "ipython3",
   "version": "3.9.18"
  }
 },
 "nbformat": 4,
 "nbformat_minor": 2
}
