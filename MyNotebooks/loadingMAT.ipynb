{
 "cells": [
  {
   "cell_type": "code",
   "execution_count": 2,
   "metadata": {},
   "outputs": [],
   "source": [
    "#Cargamos las librerías necesarias para el análisis\n",
    "from sklearn.model_selection import train_test_split\n",
    "from sklearn.preprocessing import StandardScaler\n",
    "from sklearn.decomposition import PCA \n",
    "from sklearn.preprocessing import normalize\n",
    "from sklearn.preprocessing import MinMaxScaler\n",
    "import numpy as np\n",
    "import pandas as pd\n",
    "import time \n",
    "%matplotlib inline\n",
    "import matplotlib.pyplot as plt\n",
    "import seaborn as sns\n",
    "from scipy.io import loadmat\n",
    "from PIL import Image\n",
    "from io import BytesIO\n",
    "import os\n"
   ]
  },
  {
   "cell_type": "markdown",
   "metadata": {},
   "source": [
    "## Building images dataset"
   ]
  },
  {
   "cell_type": "code",
   "execution_count": null,
   "metadata": {},
   "outputs": [],
   "source": [
    "def show_whats_written(df, output_path, file):\n",
    "    # Filter the DataFrame\n",
    "    filtered_df = df[(df.X != 683) & (df.Y != 384)]\n",
    "\n",
    "    # Create a line plot for the clean data\n",
    "    plt.plot(filtered_df['X'], filtered_df['Y'])\n",
    "\n",
    "    # Add labels and a title\n",
    "    plt.xlabel('X')\n",
    "    plt.ylabel('Y')\n",
    "    plt.title(f'X vs. Y Coordinates - Trial {trial}')\n",
    "\n",
    "    file_name = file.split('.')[0]\n",
    "\n",
    "    # Save the plot as an image\n",
    "    image_filename = os.path.join(output_path, f'{file_name}.png')\n",
    "    print(image_filename)\n",
    "    plt.savefig(image_filename)\n",
    "\n",
    "    plt.close()\n",
    "\n",
    "    # Show the plot\n",
    "    # plt.show()\n",
    "\n",
    "data_groups = [\"HC\",\"Left_MAS\",\"Right_MAS\"]\n",
    "data_groups = list(data_groups)\n",
    "\n",
    "# Use os.walk to traverse all subdirectories and process MAT files\n",
    "for group in data_groups: \n",
    "    # Define the path to your data group folder\n",
    "    data_group_path = \"../data/Francis_data/Francis_data/Baseline_fmri/\"+group\n",
    "    \n",
    "    for root, _, files in os.walk(data_group_path):\n",
    "        i=0\n",
    "        for file in files:\n",
    "            if file.endswith(\".mat\"):\n",
    "                file_path = os.path.join(root, file)\n",
    "\n",
    "                patient_folder = file_path.split('/')[5].split(\"\\\\\")[1]\n",
    "\n",
    "                # Load data from the MAT file\n",
    "                data = loadmat(file_path)\n",
    "                trial = int(data['S']['trial_cond'][0][0][i][0])\n",
    "                print(trial)\n",
    "\n",
    "                #X, Y Coordinates \n",
    "                thePoints = data['S']['thePoints'][0][0] \n",
    "                file_data = np.array([thePoints[:, 0], thePoints[:, 1]]).T\n",
    "                df = pd.DataFrame(file_data)\n",
    "                df.rename(columns={0: \"X\", 1: \"Y\"}, inplace=True)\n",
    "\n",
    "                # Create output folder structure \n",
    "                output_folder = \"..\\output\\\\\"+group+\"\\\\\"+patient_folder+\"\\\\\"+str(trial)\n",
    "                os.makedirs(output_folder, exist_ok=True)\n",
    "\n",
    "                # # Generate and save the plot\n",
    "                show_whats_written(df, output_folder, file)\n",
    "\n",
    "                i=i+1\n"
   ]
  },
  {
   "cell_type": "markdown",
   "metadata": {},
   "source": [
    "# Features"
   ]
  },
  {
   "cell_type": "markdown",
   "metadata": {},
   "source": [
    "## NCA y NCV"
   ]
  },
  {
   "cell_type": "code",
   "execution_count": 3,
   "metadata": {},
   "outputs": [
    {
     "name": "stdout",
     "output_type": "stream",
     "text": [
      "      data_group  event_type  finishTime  NCV  NCA\n",
      "0              1           1    5.180044   19  107\n",
      "1              1           3    4.820075   15  100\n",
      "2              1           2    5.280308   23   67\n",
      "3              1           4   13.329880   43  152\n",
      "4              1           2    5.740754   17   92\n",
      "...          ...         ...         ...  ...  ...\n",
      "2675           3           1    3.216239   13   76\n",
      "2676           3           4    3.920909   11   75\n",
      "2677           3           1    3.630221    9   74\n",
      "2678           3           3    3.777979   27   73\n",
      "2679           3           1    4.139451   23  100\n",
      "\n",
      "[2680 rows x 5 columns]\n"
     ]
    }
   ],
   "source": [
    "\n",
    "data_groups = [(\"HC\", 1), (\"Left_MAS\", 2), (\"Right_MAS\", 3)]\n",
    "\n",
    "# Create empty lists to store the data\n",
    "data_list = []\n",
    "\n",
    "# Use os.walk to traverse all subdirectories and process MAT files\n",
    "for group in data_groups:\n",
    "    # Define the path to your data group folder\n",
    "    data_group_path = \"../data/Francis_data/Francis_data/Baseline_fmri/\" + group[0]\n",
    "\n",
    "    for root, _, files in os.walk(data_group_path):\n",
    "        i = 0\n",
    "        for file in files:\n",
    "            if file.endswith(\".mat\"):\n",
    "                file_path = os.path.join(root, file)\n",
    "\n",
    "                # Load data from the MAT file\n",
    "                data = loadmat(file_path)\n",
    "                event_type = int(data['S']['trial_cond'][0][0][i][0])\n",
    "\n",
    "                # Tiempo\n",
    "                timeSeries = data['S']['Ts'][0][0][0]\n",
    "                Sbuttons = data['S']['Sbuttons']\n",
    "                length = len(Sbuttons[0][0])\n",
    "                rule = timeSeries[-1] / length\n",
    "                currenTimeSeries = np.transpose(np.arange(start=0, stop=timeSeries[-1] + rule, step=rule))\n",
    "                finishTime = timeSeries[-1]\n",
    "\n",
    "                # X, Y Coordinates\n",
    "                thePoints = data['S']['thePoints'][0][0]\n",
    "                x = thePoints[:, 0]\n",
    "                y = thePoints[:, 1]\n",
    "                \n",
    "                if len(x) != len(currenTimeSeries) or len(y) != len(currenTimeSeries):\n",
    "                    currenTimeSeries = currenTimeSeries[1:]\n",
    "\n",
    "                # Discarding common outliers\n",
    "\n",
    "                # Create a mask to filter values where x=683 and y=384\n",
    "                mask = (x != 683) & (y != 384)\n",
    "\n",
    "                # Apply the mask to x and y\n",
    "                filtered_x = x[mask]\n",
    "                filtered_y = y[mask]\n",
    "\n",
    "                # Index the values that were discarded\n",
    "                discarded_indices = np.where(~mask)[0]\n",
    "\n",
    "                # Discard corresponding values in currenTimeSeries\n",
    "                filtered_time = np.delete(currenTimeSeries, discarded_indices)\n",
    "\n",
    "                # Calculate velocity and acceleration\n",
    "                time_diff = np.diff(filtered_time)\n",
    "                x_diff = np.diff(filtered_x)\n",
    "                y_diff = np.diff(filtered_y)\n",
    "                velocity = np.sqrt(x_diff ** 2 + y_diff ** 2) / time_diff\n",
    "                acceleration = np.diff(velocity) / time_diff[1:]\n",
    "\n",
    "                # Count changes in velocity\n",
    "                NCV = np.sum(np.diff(np.sign(velocity)) != 0)\n",
    "\n",
    "                # Count changes in acceleration\n",
    "                NCA = np.sum(np.diff(np.sign(acceleration)) != 0)\n",
    "\n",
    "                # Append the data to data_list\n",
    "                data_list.append([group[1], event_type, finishTime, NCV, NCA])\n",
    "\n",
    "                i = i + 1\n",
    "\n",
    "# Create a DataFrame from the data_list\n",
    "df = pd.DataFrame(data_list, columns=[\"data_group\", \"event_type\", \"finishTime\", \"NCV\", \"NCA\"])\n",
    "\n",
    "# Display the DataFrame\n",
    "print(df)\n",
    "\n"
   ]
  },
  {
   "cell_type": "markdown",
   "metadata": {},
   "source": [
    "- `filtered_x` y `filtered_y` representan arreglos de coordenadas x y coordenadas y, respectivamente.\n",
    "- `time_diff` es un arreglo que representa las diferencias de tiempo entre puntos de datos consecutivos.\n",
    "- `velocity` es un arreglo que representa las velocidades calculadas en cada punto de datos.\n",
    "- `acceleration` es un arreglo que representa las aceleraciones calculadas en cada punto de datos.\n",
    "\n",
    "El código calcula la velocidad y la aceleración en función de los cambios en las coordenadas x y y, así como de las diferencias de tiempo correspondientes. Luego, cuenta los cambios en la velocidad (NCV) y los cambios en la aceleración (NCA) en función del signo de los valores calculados de velocidad y aceleración. Cuando el signo cambia, indica un cambio en la dirección o en la aceleración, por lo que se cuenta como un cambio."
   ]
  },
  {
   "cell_type": "code",
   "execution_count": 15,
   "metadata": {},
   "outputs": [
    {
     "data": {
      "application/vnd.plotly.v1+json": {
       "config": {
        "plotlyServerURL": "https://plot.ly"
       },
       "data": [
        {
         "alignmentgroup": "True",
         "hovertemplate": "=%{y}<extra></extra>",
         "legendgroup": "",
         "marker": {
          "color": "#636efa"
         },
         "name": "",
         "notched": false,
         "offsetgroup": "",
         "orientation": "v",
         "showlegend": false,
         "type": "box",
         "x0": " ",
         "xaxis": "x",
         "y": [
          107,
          104,
          68,
          48,
          43,
          68,
          38,
          33,
          39,
          45,
          33,
          69,
          74,
          56,
          49,
          54,
          77,
          46,
          52,
          77,
          87,
          62,
          71,
          60,
          104,
          72,
          51,
          148,
          121,
          60,
          42,
          64,
          61,
          68,
          71,
          81,
          42,
          37,
          38,
          42,
          53,
          74,
          45,
          28,
          55,
          43,
          41,
          80,
          47,
          40,
          111,
          101,
          64,
          68,
          77,
          57,
          65,
          59,
          94,
          42,
          65,
          78,
          40,
          66,
          47,
          83,
          82,
          51,
          36,
          42,
          79,
          88,
          71,
          54,
          39,
          57,
          53,
          53,
          85,
          62,
          53,
          45,
          77,
          77,
          99,
          55,
          58,
          55,
          63,
          84,
          45,
          42,
          42,
          81,
          48,
          62,
          40,
          26,
          37,
          39,
          80,
          67,
          109,
          98,
          65,
          112,
          72,
          107,
          109,
          70,
          62,
          42,
          46,
          39,
          35,
          75,
          78,
          54,
          52,
          54,
          84,
          63,
          87,
          43,
          37,
          43,
          50,
          39,
          66,
          78,
          60,
          74,
          46,
          62,
          54,
          96,
          84,
          41,
          46,
          78,
          57,
          41,
          55,
          64,
          76,
          62,
          71,
          83,
          57,
          59,
          102,
          56,
          46,
          74,
          59,
          78,
          56,
          98,
          50,
          60,
          66,
          103,
          71,
          121,
          90,
          59,
          83,
          57,
          56,
          71,
          78,
          57,
          113,
          60,
          64,
          92,
          67,
          114,
          84,
          52,
          44,
          44,
          48,
          78,
          61,
          42,
          45,
          54,
          97,
          63,
          48,
          62,
          66,
          36,
          43,
          74,
          79,
          53,
          56,
          62,
          92,
          57,
          64,
          44,
          51,
          41,
          27,
          44,
          50,
          53,
          98,
          89,
          73,
          48,
          91,
          70,
          78,
          58,
          74,
          93,
          361,
          123,
          82,
          50,
          85,
          102,
          60,
          55,
          102,
          60,
          86,
          44,
          85,
          55,
          62,
          62,
          50,
          107,
          69,
          56,
          62,
          98,
          40,
          60,
          56,
          65,
          52,
          75,
          53,
          74,
          67,
          49,
          58,
          61,
          80,
          78,
          51,
          67,
          52,
          90,
          79,
          56,
          104,
          44,
          68,
          75,
          88,
          47,
          56,
          66,
          69,
          58,
          50,
          60,
          58,
          56,
          81,
          61,
          53,
          37,
          55,
          60,
          91,
          61,
          53,
          80,
          50,
          88,
          66,
          75
         ],
         "y0": " ",
         "yaxis": "y"
        },
        {
         "alignmentgroup": "True",
         "hovertemplate": "=%{y}<extra></extra>",
         "legendgroup": "",
         "marker": {
          "color": "#636efa"
         },
         "name": "",
         "notched": false,
         "offsetgroup": "",
         "orientation": "v",
         "showlegend": false,
         "type": "box",
         "x0": " ",
         "xaxis": "x2",
         "y": [
          100,
          97,
          66,
          55,
          43,
          58,
          107,
          56,
          63,
          62,
          50,
          67,
          109,
          78,
          51,
          50,
          108,
          51,
          73,
          55,
          58,
          74,
          60,
          137,
          68,
          69,
          118,
          63,
          67,
          122,
          42,
          76,
          36,
          50,
          44,
          37,
          40,
          72,
          44,
          92,
          43,
          39,
          64,
          82,
          62,
          42,
          39,
          42,
          37,
          43,
          73,
          53,
          50,
          51,
          116,
          99,
          55,
          70,
          48,
          42,
          46,
          52,
          37,
          90,
          61,
          51,
          57,
          40,
          87,
          48,
          38,
          77,
          53,
          62,
          61,
          105,
          43,
          47,
          93,
          40,
          58,
          134,
          97,
          46,
          51,
          65,
          54,
          51,
          101,
          85,
          84,
          33,
          50,
          50,
          44,
          32,
          46,
          46,
          66,
          66,
          111,
          80,
          69,
          116,
          67,
          64,
          125,
          70,
          79,
          90,
          52,
          50,
          43,
          68,
          52,
          49,
          44,
          64,
          40,
          94,
          46,
          71,
          85,
          109,
          53,
          77,
          60,
          54,
          55,
          60,
          39,
          60,
          97,
          52,
          55,
          62,
          75,
          43,
          77,
          48,
          38,
          69,
          47,
          50,
          129,
          66,
          90,
          97,
          59,
          56,
          60,
          66,
          88,
          127,
          63,
          48,
          59,
          40,
          75,
          58,
          117,
          111,
          69,
          50,
          75,
          116,
          56,
          57,
          62,
          66,
          64,
          76,
          102,
          46,
          88,
          107,
          70,
          52,
          58,
          69,
          47,
          41,
          64,
          57,
          51,
          53,
          75,
          75,
          106,
          78,
          62,
          57,
          79,
          48,
          48,
          54,
          87,
          99,
          110,
          125,
          40,
          38,
          39,
          40,
          44,
          42,
          80,
          103,
          80,
          38,
          110,
          67,
          79,
          53,
          73,
          125,
          83,
          171,
          75,
          69,
          144,
          42,
          91,
          72,
          102,
          67,
          54,
          51,
          57,
          96,
          45,
          43,
          59,
          57,
          96,
          70,
          85,
          56,
          123,
          89,
          52,
          61,
          91,
          47,
          58,
          124,
          46,
          51,
          49,
          86,
          67,
          70,
          54,
          86,
          78,
          52,
          53,
          53,
          99,
          50,
          63,
          54,
          64,
          93,
          49,
          56,
          146,
          44,
          75,
          54,
          78,
          55,
          80,
          57,
          79,
          51,
          45,
          94,
          50,
          44,
          71,
          74,
          50,
          60,
          58,
          49,
          51,
          108,
          126,
          46
         ],
         "y0": " ",
         "yaxis": "y2"
        },
        {
         "alignmentgroup": "True",
         "hovertemplate": "=%{y}<extra></extra>",
         "legendgroup": "",
         "marker": {
          "color": "#636efa"
         },
         "name": "",
         "notched": false,
         "offsetgroup": "",
         "orientation": "v",
         "showlegend": false,
         "type": "box",
         "x0": " ",
         "xaxis": "x3",
         "y": [
          67,
          92,
          69,
          70,
          110,
          102,
          102,
          94,
          52,
          110,
          74,
          74,
          61,
          110,
          57,
          67,
          145,
          55,
          77,
          89,
          55,
          135,
          90,
          115,
          65,
          118,
          135,
          86,
          148,
          85,
          90,
          59,
          44,
          49,
          77,
          60,
          62,
          77,
          40,
          54,
          55,
          52,
          81,
          82,
          78,
          96,
          66,
          46,
          57,
          63,
          56,
          64,
          80,
          68,
          65,
          43,
          124,
          80,
          51,
          75,
          52,
          46,
          43,
          70,
          46,
          92,
          40,
          67,
          54,
          59,
          138,
          310,
          124,
          74,
          91,
          146,
          96,
          74,
          70,
          121,
          124,
          87,
          134,
          88,
          115,
          80,
          99,
          69,
          108,
          68,
          37,
          73,
          66,
          86,
          78,
          91,
          47,
          55,
          117,
          93,
          81,
          125,
          111,
          74,
          95,
          94,
          77,
          60,
          88,
          114,
          84,
          84,
          44,
          41,
          48,
          53,
          52,
          68,
          92,
          87,
          47,
          38,
          68,
          82,
          88,
          69,
          94,
          77,
          96,
          98,
          59,
          76,
          86,
          113,
          75,
          60,
          63,
          97,
          57,
          70,
          80,
          99,
          114,
          72,
          95,
          111,
          101,
          72,
          69,
          88,
          106,
          70,
          115,
          70,
          81,
          63,
          69,
          57,
          78,
          57,
          481,
          92,
          144,
          69,
          129,
          91,
          92,
          68,
          103,
          70,
          139,
          146,
          107,
          93,
          92,
          123,
          97,
          81,
          55,
          87,
          62,
          74,
          78,
          86,
          77,
          123,
          108,
          84,
          89,
          90,
          45,
          89,
          98,
          49,
          63,
          78,
          60,
          62,
          66,
          64,
          47,
          84,
          45,
          62,
          46,
          75,
          60,
          56,
          45,
          52,
          175,
          176,
          125,
          118,
          137,
          91,
          142,
          149,
          95,
          116,
          82,
          58,
          105,
          86,
          83,
          174,
          117,
          85,
          130,
          86,
          81,
          87,
          107,
          123,
          81,
          111,
          134,
          78,
          97,
          136,
          111,
          54,
          86,
          74,
          113,
          59,
          69,
          110,
          90,
          56,
          77,
          86,
          73,
          59,
          110,
          63,
          102,
          86,
          82,
          65,
          137,
          75,
          68,
          133,
          81,
          74,
          105,
          83,
          82,
          88,
          90,
          146,
          61,
          113,
          113,
          102,
          64,
          46,
          74,
          52,
          220,
          145,
          81,
          79,
          67,
          98,
          79,
          129,
          69,
          118
         ],
         "y0": " ",
         "yaxis": "y3"
        },
        {
         "alignmentgroup": "True",
         "hovertemplate": "=%{y}<extra></extra>",
         "legendgroup": "",
         "marker": {
          "color": "#636efa"
         },
         "name": "",
         "notched": false,
         "offsetgroup": "",
         "orientation": "v",
         "showlegend": false,
         "type": "box",
         "x0": " ",
         "xaxis": "x4",
         "y": [
          152,
          67,
          80,
          60,
          65,
          55,
          54,
          51,
          72,
          43,
          73,
          74,
          85,
          86,
          88,
          81,
          87,
          104,
          87,
          85,
          23,
          40,
          24,
          22,
          22,
          19,
          18,
          16,
          16,
          18,
          137,
          334,
          121,
          130,
          145,
          139,
          147,
          120,
          146,
          142,
          73,
          86,
          80,
          79,
          62,
          93,
          84,
          88,
          71,
          87,
          46,
          45,
          56,
          42,
          54,
          54,
          51,
          53,
          50,
          49,
          45,
          193,
          51,
          57,
          51,
          61,
          59,
          59,
          70,
          70,
          192,
          178,
          173,
          158,
          140,
          156,
          144,
          157,
          170,
          164,
          74,
          65,
          74,
          73,
          72,
          65,
          68,
          61,
          81,
          68,
          125,
          151,
          133,
          125,
          161,
          114,
          131,
          151,
          128,
          124,
          19,
          19,
          21,
          26,
          31,
          25,
          22,
          28,
          26,
          15,
          44,
          48,
          42,
          46,
          53,
          46,
          44,
          44,
          40,
          39,
          51,
          40,
          46,
          34,
          41,
          45,
          38,
          37,
          37,
          38,
          153,
          71,
          82,
          42,
          52,
          40,
          56,
          56,
          42,
          34,
          64,
          72,
          69,
          79,
          79,
          70,
          67,
          87,
          73,
          90,
          75,
          79,
          93,
          98,
          97,
          92,
          106,
          102,
          105,
          112,
          26,
          26,
          28,
          27,
          30,
          29,
          30,
          30,
          32,
          32,
          50,
          52,
          56,
          61,
          51,
          59,
          58,
          61,
          63,
          65,
          86,
          84,
          91,
          113,
          99,
          88,
          109,
          106,
          105,
          99,
          88,
          58,
          75,
          72,
          73,
          75,
          86,
          78,
          79,
          84,
          56,
          49,
          46,
          51,
          53,
          57,
          55,
          47,
          57,
          52,
          167,
          203,
          170,
          178,
          171,
          175,
          163,
          167,
          162,
          162,
          327,
          144,
          142,
          84,
          98,
          77,
          108,
          106,
          106,
          96,
          37,
          33,
          31,
          29,
          43,
          32,
          28,
          31,
          33,
          34,
          32,
          31,
          32,
          30,
          23,
          25,
          30,
          25,
          28,
          24,
          58,
          67,
          83,
          95,
          78,
          75,
          83,
          85,
          99,
          80,
          125,
          123,
          136,
          136,
          130,
          120,
          122,
          113,
          124,
          126,
          53,
          46,
          47,
          50,
          47,
          46,
          49,
          43,
          49,
          44,
          97,
          141,
          126,
          122,
          123,
          121,
          131,
          145,
          131,
          119
         ],
         "y0": " ",
         "yaxis": "y4"
        },
        {
         "alignmentgroup": "True",
         "hovertemplate": "=%{y}<extra></extra>",
         "legendgroup": "",
         "marker": {
          "color": "#636efa"
         },
         "name": "",
         "notched": false,
         "offsetgroup": "",
         "orientation": "v",
         "showlegend": false,
         "type": "box",
         "x0": " ",
         "xaxis": "x5",
         "y": [
          54,
          104,
          84,
          41,
          81,
          53,
          61,
          49,
          76,
          63,
          60,
          89,
          64,
          50,
          75,
          53,
          59,
          89,
          52,
          55,
          96,
          94,
          64,
          88,
          73,
          84,
          90,
          89,
          106,
          160,
          136,
          83,
          84,
          121,
          82,
          68,
          212,
          80,
          89,
          70,
          48,
          69,
          62,
          44,
          37,
          34,
          49,
          56,
          58,
          72,
          43,
          49,
          79,
          51,
          50,
          62,
          42,
          40,
          61,
          37,
          52,
          42,
          50,
          30,
          48,
          51,
          46,
          21,
          34,
          35,
          49,
          39,
          61,
          51,
          65,
          43,
          49,
          46,
          51,
          58,
          55,
          81,
          70,
          58,
          54,
          37,
          88,
          59,
          92,
          55,
          36,
          59,
          42,
          62,
          81,
          77,
          52,
          49,
          46,
          53,
          83,
          79,
          73,
          59,
          83,
          72,
          62,
          98,
          115,
          72,
          87,
          96,
          77,
          102,
          121,
          83,
          66,
          115,
          50,
          86,
          89,
          46,
          44,
          57,
          56,
          68,
          45,
          46,
          62,
          40,
          164,
          92,
          96,
          86,
          96,
          69,
          118,
          69,
          60,
          104,
          85,
          91,
          45,
          57,
          49,
          64,
          64,
          52,
          54,
          57
         ],
         "y0": " ",
         "yaxis": "y5"
        },
        {
         "alignmentgroup": "True",
         "hovertemplate": "=%{y}<extra></extra>",
         "legendgroup": "",
         "marker": {
          "color": "#636efa"
         },
         "name": "",
         "notched": false,
         "offsetgroup": "",
         "orientation": "v",
         "showlegend": false,
         "type": "box",
         "x0": " ",
         "xaxis": "x6",
         "y": [
          90,
          53,
          119,
          92,
          58,
          49,
          47,
          56,
          48,
          58,
          115,
          44,
          41,
          41,
          42,
          75,
          43,
          57,
          74,
          44,
          108,
          51,
          52,
          141,
          99,
          77,
          272,
          104,
          59,
          131,
          49,
          98,
          81,
          73,
          122,
          60,
          63,
          74,
          64,
          152,
          58,
          66,
          57,
          41,
          43,
          49,
          58,
          62,
          53,
          108,
          47,
          51,
          69,
          39,
          96,
          50,
          70,
          41,
          57,
          38,
          37,
          77,
          58,
          43,
          54,
          48,
          67,
          39,
          42,
          49,
          46,
          73,
          44,
          90,
          43,
          75,
          42,
          61,
          42,
          39,
          47,
          54,
          114,
          113,
          47,
          54,
          40,
          59,
          87,
          65,
          46,
          88,
          47,
          48,
          41,
          97,
          48,
          56,
          83,
          51,
          61,
          62,
          151,
          107,
          63,
          71,
          61,
          65,
          119,
          81,
          94,
          122,
          81,
          124,
          70,
          64,
          72,
          91,
          152,
          71,
          43,
          45,
          37,
          34,
          89,
          44,
          57,
          109,
          62,
          51,
          200,
          112,
          65,
          70,
          97,
          89,
          90,
          78,
          150,
          186,
          92,
          53,
          110,
          54,
          78,
          51,
          54,
          45,
          51,
          57
         ],
         "y0": " ",
         "yaxis": "y6"
        },
        {
         "alignmentgroup": "True",
         "hovertemplate": "=%{y}<extra></extra>",
         "legendgroup": "",
         "marker": {
          "color": "#636efa"
         },
         "name": "",
         "notched": false,
         "offsetgroup": "",
         "orientation": "v",
         "showlegend": false,
         "type": "box",
         "x0": " ",
         "xaxis": "x7",
         "y": [
          78,
          148,
          88,
          93,
          61,
          169,
          88,
          72,
          122,
          172,
          78,
          62,
          79,
          119,
          116,
          48,
          60,
          56,
          79,
          72,
          80,
          69,
          130,
          99,
          181,
          107,
          123,
          215,
          179,
          184,
          70,
          129,
          134,
          108,
          133,
          76,
          132,
          102,
          95,
          114,
          76,
          87,
          86,
          68,
          98,
          75,
          144,
          50,
          111,
          68,
          70,
          46,
          94,
          69,
          51,
          73,
          44,
          79,
          54,
          88,
          64,
          77,
          106,
          76,
          80,
          92,
          88,
          89,
          79,
          33,
          58,
          44,
          55,
          56,
          52,
          43,
          44,
          80,
          72,
          79,
          129,
          47,
          60,
          76,
          99,
          59,
          103,
          99,
          52,
          62,
          130,
          62,
          67,
          53,
          69,
          69,
          78,
          83,
          73,
          111,
          89,
          65,
          99,
          106,
          146,
          121,
          68,
          132,
          100,
          90,
          166,
          141,
          218,
          130,
          144,
          145,
          122,
          110,
          111,
          134,
          85,
          66,
          159,
          99,
          93,
          213,
          37,
          83,
          68,
          60,
          213,
          205,
          247,
          103,
          117,
          121,
          159,
          165,
          108,
          135,
          214,
          138,
          132,
          84,
          49,
          76,
          78,
          74,
          79,
          72
         ],
         "y0": " ",
         "yaxis": "y7"
        },
        {
         "alignmentgroup": "True",
         "hovertemplate": "=%{y}<extra></extra>",
         "legendgroup": "",
         "marker": {
          "color": "#636efa"
         },
         "name": "",
         "notched": false,
         "offsetgroup": "",
         "orientation": "v",
         "showlegend": false,
         "type": "box",
         "x0": " ",
         "xaxis": "x8",
         "y": [
          98,
          81,
          94,
          102,
          96,
          89,
          86,
          111,
          125,
          101,
          20,
          51,
          40,
          53,
          44,
          55,
          50,
          44,
          41,
          31,
          91,
          78,
          93,
          102,
          104,
          103,
          101,
          112,
          113,
          117,
          55,
          50,
          57,
          49,
          71,
          60,
          56,
          54,
          64,
          66,
          52,
          53,
          35,
          66,
          50,
          57,
          49,
          50,
          64,
          52,
          41,
          49,
          59,
          41,
          39,
          51,
          45,
          51,
          43,
          45,
          93,
          89,
          86,
          86,
          75,
          86,
          82,
          71,
          60,
          80,
          65,
          45,
          51,
          56,
          36,
          50,
          49,
          46,
          43,
          39,
          127,
          35,
          32,
          30,
          33,
          34,
          34,
          37,
          35,
          47,
          80,
          80,
          84,
          82,
          63,
          71,
          58,
          73,
          65,
          70,
          61,
          61,
          66,
          46,
          64,
          56,
          48,
          58,
          53,
          58,
          219,
          192,
          211,
          147,
          146,
          163,
          153,
          167,
          170,
          169,
          93,
          31,
          28,
          30,
          33,
          23,
          26,
          26,
          22,
          25,
          144,
          129,
          141,
          117,
          124,
          111,
          125,
          126,
          125,
          116,
          75,
          97,
          83,
          94,
          74,
          84,
          88,
          89,
          96,
          78
         ],
         "y0": " ",
         "yaxis": "y8"
        },
        {
         "alignmentgroup": "True",
         "hovertemplate": "=%{y}<extra></extra>",
         "legendgroup": "",
         "marker": {
          "color": "#636efa"
         },
         "name": "",
         "notched": false,
         "offsetgroup": "",
         "orientation": "v",
         "showlegend": false,
         "type": "box",
         "x0": " ",
         "xaxis": "x9",
         "y": [
          73,
          57,
          66,
          97,
          64,
          94,
          96,
          68,
          56,
          60,
          103,
          61,
          95,
          94,
          80,
          95,
          53,
          64,
          64,
          80,
          43,
          87,
          119,
          72,
          98,
          64,
          66,
          78,
          73,
          96,
          56,
          62,
          47,
          48,
          54,
          55,
          48,
          110,
          76,
          65,
          73,
          84,
          90,
          87,
          93,
          133,
          122,
          142,
          91,
          99,
          119,
          186,
          122,
          75,
          127,
          108,
          104,
          128,
          80,
          87,
          84,
          61,
          95,
          81,
          58,
          102,
          131,
          72,
          99,
          67,
          164,
          88,
          110,
          99,
          75,
          75,
          111,
          166,
          98,
          144,
          50,
          79,
          38,
          56,
          35,
          46,
          76,
          52,
          55,
          76,
          62,
          82,
          71,
          96,
          40,
          60,
          49,
          111,
          68,
          71,
          165,
          138,
          105,
          219,
          158,
          125,
          128,
          201,
          168,
          132,
          98,
          52,
          74,
          50,
          80,
          63,
          91,
          56,
          40,
          56,
          74,
          52,
          49,
          85,
          64,
          58,
          65,
          123,
          94,
          36,
          46,
          53,
          53,
          67,
          78,
          78,
          46,
          47,
          59,
          34,
          50,
          75,
          69,
          104,
          98,
          65,
          61,
          66,
          86,
          65,
          77,
          79,
          60,
          51,
          88,
          73,
          73,
          36,
          63,
          112,
          38,
          66,
          47,
          98,
          45,
          54,
          80,
          55,
          50,
          82,
          73,
          114,
          121,
          97,
          78,
          112,
          165,
          101,
          88,
          95,
          54,
          35,
          65,
          55,
          53,
          94,
          54,
          41,
          55,
          52,
          80,
          69,
          117,
          94,
          137,
          99,
          83,
          101,
          85,
          130,
          41,
          72,
          102,
          109,
          31,
          61,
          81,
          34,
          42,
          47,
          48,
          67,
          62,
          59,
          72,
          73,
          77,
          81,
          115,
          58,
          50,
          58,
          90,
          58,
          110,
          95,
          51,
          76,
          74,
          100
         ],
         "y0": " ",
         "yaxis": "y9"
        },
        {
         "alignmentgroup": "True",
         "hovertemplate": "=%{y}<extra></extra>",
         "legendgroup": "",
         "marker": {
          "color": "#636efa"
         },
         "name": "",
         "notched": false,
         "offsetgroup": "",
         "orientation": "v",
         "showlegend": false,
         "type": "box",
         "x0": " ",
         "xaxis": "x10",
         "y": [
          59,
          60,
          58,
          137,
          64,
          88,
          76,
          77,
          69,
          98,
          125,
          54,
          47,
          66,
          174,
          65,
          86,
          65,
          68,
          79,
          51,
          51,
          58,
          46,
          67,
          94,
          104,
          60,
          122,
          48,
          74,
          59,
          96,
          69,
          96,
          48,
          64,
          54,
          119,
          76,
          65,
          155,
          82,
          65,
          86,
          91,
          92,
          138,
          91,
          145,
          110,
          47,
          290,
          83,
          83,
          86,
          151,
          126,
          88,
          83,
          94,
          84,
          159,
          65,
          104,
          87,
          77,
          112,
          112,
          72,
          81,
          245,
          169,
          74,
          57,
          66,
          108,
          97,
          108,
          65,
          81,
          41,
          39,
          48,
          62,
          69,
          40,
          42,
          34,
          73,
          46,
          47,
          118,
          76,
          53,
          60,
          41,
          43,
          104,
          53,
          278,
          71,
          178,
          93,
          126,
          191,
          160,
          118,
          107,
          161,
          76,
          90,
          46,
          46,
          112,
          45,
          39,
          41,
          47,
          48,
          52,
          64,
          120,
          108,
          61,
          60,
          99,
          57,
          65,
          91,
          60,
          57,
          87,
          37,
          69,
          101,
          51,
          41,
          49,
          46,
          118,
          63,
          56,
          64,
          62,
          58,
          91,
          54,
          134,
          62,
          69,
          121,
          121,
          68,
          60,
          71,
          50,
          63,
          79,
          50,
          61,
          59,
          82,
          111,
          43,
          59,
          85,
          59,
          41,
          39,
          65,
          130,
          95,
          90,
          187,
          106,
          117,
          112,
          85,
          89,
          81,
          129,
          39,
          36,
          81,
          47,
          74,
          36,
          39,
          51,
          119,
          126,
          66,
          56,
          68,
          150,
          72,
          89,
          59,
          67,
          39,
          45,
          96,
          87,
          71,
          48,
          51,
          92,
          55,
          58,
          43,
          66,
          146,
          68,
          51,
          70,
          115,
          84,
          61,
          114,
          55,
          111,
          137,
          100,
          49,
          55,
          56,
          68,
          32,
          73
         ],
         "y0": " ",
         "yaxis": "y10"
        },
        {
         "alignmentgroup": "True",
         "hovertemplate": "=%{y}<extra></extra>",
         "legendgroup": "",
         "marker": {
          "color": "#636efa"
         },
         "name": "",
         "notched": false,
         "offsetgroup": "",
         "orientation": "v",
         "showlegend": false,
         "type": "box",
         "x0": " ",
         "xaxis": "x11",
         "y": [
          254,
          127,
          123,
          123,
          156,
          85,
          146,
          145,
          141,
          85,
          104,
          101,
          115,
          145,
          82,
          137,
          100,
          62,
          107,
          88,
          161,
          81,
          57,
          67,
          111,
          71,
          81,
          63,
          78,
          87,
          49,
          66,
          84,
          90,
          148,
          83,
          118,
          151,
          100,
          104,
          137,
          149,
          147,
          224,
          148,
          116,
          145,
          140,
          180,
          278,
          178,
          232,
          203,
          181,
          317,
          168,
          177,
          137,
          200,
          155,
          105,
          129,
          178,
          119,
          136,
          134,
          183,
          216,
          90,
          130,
          158,
          98,
          119,
          219,
          227,
          105,
          89,
          85,
          120,
          188,
          83,
          55,
          72,
          52,
          52,
          58,
          59,
          116,
          64,
          82,
          57,
          53,
          77,
          73,
          74,
          72,
          87,
          63,
          90,
          47,
          115,
          250,
          243,
          281,
          201,
          307,
          169,
          214,
          174,
          223,
          96,
          68,
          73,
          61,
          96,
          60,
          72,
          132,
          120,
          82,
          56,
          57,
          106,
          45,
          77,
          97,
          139,
          122,
          63,
          89,
          83,
          55,
          89,
          80,
          67,
          47,
          72,
          59,
          61,
          53,
          69,
          93,
          60,
          112,
          72,
          116,
          60,
          153,
          118,
          80,
          105,
          77,
          81,
          66,
          138,
          70,
          83,
          110,
          115,
          100,
          128,
          89,
          122,
          92,
          107,
          74,
          83,
          88,
          84,
          101,
          113,
          213,
          405,
          214,
          258,
          196,
          173,
          213,
          172,
          178,
          78,
          116,
          86,
          80,
          83,
          99,
          122,
          73,
          87,
          82,
          84,
          81,
          86,
          138,
          77,
          131,
          65,
          86,
          89,
          103,
          69,
          154,
          147,
          133,
          99,
          60,
          73,
          95,
          76,
          123,
          78,
          111,
          147,
          102,
          85,
          125,
          158,
          69,
          110,
          121,
          88,
          73,
          66,
          67,
          67,
          49,
          90,
          94,
          53,
          279
         ],
         "y0": " ",
         "yaxis": "y11"
        },
        {
         "alignmentgroup": "True",
         "hovertemplate": "=%{y}<extra></extra>",
         "legendgroup": "",
         "marker": {
          "color": "#636efa"
         },
         "name": "",
         "notched": false,
         "offsetgroup": "",
         "orientation": "v",
         "showlegend": false,
         "type": "box",
         "x0": " ",
         "xaxis": "x12",
         "y": [
          96,
          116,
          99,
          104,
          102,
          112,
          90,
          106,
          100,
          82,
          153,
          164,
          162,
          175,
          175,
          175,
          167,
          146,
          173,
          197,
          76,
          84,
          79,
          95,
          92,
          86,
          92,
          88,
          85,
          79,
          75,
          83,
          95,
          86,
          98,
          91,
          79,
          90,
          147,
          105,
          48,
          45,
          55,
          58,
          57,
          73,
          67,
          63,
          72,
          69,
          95,
          85,
          74,
          66,
          75,
          85,
          94,
          78,
          83,
          93,
          69,
          65,
          106,
          88,
          87,
          95,
          84,
          75,
          77,
          172,
          56,
          63,
          62,
          59,
          57,
          70,
          64,
          81,
          68,
          90,
          59,
          61,
          70,
          54,
          62,
          69,
          68,
          81,
          73,
          72,
          86,
          50,
          43,
          41,
          46,
          48,
          43,
          42,
          53,
          47,
          253,
          205,
          317,
          347,
          341,
          327,
          308,
          362,
          309,
          347,
          60,
          60,
          58,
          53,
          73,
          65,
          52,
          75,
          74,
          73,
          32,
          38,
          35,
          27,
          28,
          30,
          35,
          30,
          27,
          34,
          39,
          40,
          28,
          30,
          30,
          27,
          22,
          27,
          26,
          22,
          171,
          187,
          190,
          191,
          198,
          194,
          184,
          209,
          198,
          180,
          64,
          68,
          65,
          66,
          62,
          62,
          62,
          71,
          66,
          71,
          41,
          31,
          26,
          29,
          28,
          29,
          33,
          38,
          35,
          28,
          211,
          174,
          168,
          176,
          131,
          164,
          172,
          203,
          179,
          216,
          35,
          39,
          46,
          35,
          48,
          42,
          47,
          36,
          35,
          47,
          85,
          97,
          98,
          106,
          107,
          113,
          93,
          83,
          104,
          96,
          106,
          107,
          158,
          112,
          121,
          121,
          131,
          94,
          129,
          100,
          116,
          100,
          129,
          121,
          123,
          115,
          140,
          114,
          123,
          120,
          45,
          45,
          39,
          57,
          49,
          64,
          61,
          42,
          64,
          75
         ],
         "y0": " ",
         "yaxis": "y12"
        }
       ],
       "layout": {
        "annotations": [
         {
          "font": {
           "size": 16
          },
          "showarrow": false,
          "text": "Data Group: 1, Event Type: 1",
          "x": 0.10625,
          "xanchor": "center",
          "xref": "paper",
          "y": 1,
          "yanchor": "bottom",
          "yref": "paper"
         },
         {
          "font": {
           "size": 16
          },
          "showarrow": false,
          "text": "Data Group: 1, Event Type: 3",
          "x": 0.36875,
          "xanchor": "center",
          "xref": "paper",
          "y": 1,
          "yanchor": "bottom",
          "yref": "paper"
         },
         {
          "font": {
           "size": 16
          },
          "showarrow": false,
          "text": "Data Group: 1, Event Type: 2",
          "x": 0.6312500000000001,
          "xanchor": "center",
          "xref": "paper",
          "y": 1,
          "yanchor": "bottom",
          "yref": "paper"
         },
         {
          "font": {
           "size": 16
          },
          "showarrow": false,
          "text": "Data Group: 1, Event Type: 4",
          "x": 0.89375,
          "xanchor": "center",
          "xref": "paper",
          "y": 1,
          "yanchor": "bottom",
          "yref": "paper"
         },
         {
          "font": {
           "size": 16
          },
          "showarrow": false,
          "text": "Data Group: 2, Event Type: 1",
          "x": 0.10625,
          "xanchor": "center",
          "xref": "paper",
          "y": 0.6111111111111112,
          "yanchor": "bottom",
          "yref": "paper"
         },
         {
          "font": {
           "size": 16
          },
          "showarrow": false,
          "text": "Data Group: 2, Event Type: 3",
          "x": 0.36875,
          "xanchor": "center",
          "xref": "paper",
          "y": 0.6111111111111112,
          "yanchor": "bottom",
          "yref": "paper"
         },
         {
          "font": {
           "size": 16
          },
          "showarrow": false,
          "text": "Data Group: 2, Event Type: 2",
          "x": 0.6312500000000001,
          "xanchor": "center",
          "xref": "paper",
          "y": 0.6111111111111112,
          "yanchor": "bottom",
          "yref": "paper"
         },
         {
          "font": {
           "size": 16
          },
          "showarrow": false,
          "text": "Data Group: 2, Event Type: 4",
          "x": 0.89375,
          "xanchor": "center",
          "xref": "paper",
          "y": 0.6111111111111112,
          "yanchor": "bottom",
          "yref": "paper"
         },
         {
          "font": {
           "size": 16
          },
          "showarrow": false,
          "text": "Data Group: 3, Event Type: 1",
          "x": 0.10625,
          "xanchor": "center",
          "xref": "paper",
          "y": 0.22222222222222224,
          "yanchor": "bottom",
          "yref": "paper"
         },
         {
          "font": {
           "size": 16
          },
          "showarrow": false,
          "text": "Data Group: 3, Event Type: 3",
          "x": 0.36875,
          "xanchor": "center",
          "xref": "paper",
          "y": 0.22222222222222224,
          "yanchor": "bottom",
          "yref": "paper"
         },
         {
          "font": {
           "size": 16
          },
          "showarrow": false,
          "text": "Data Group: 3, Event Type: 2",
          "x": 0.6312500000000001,
          "xanchor": "center",
          "xref": "paper",
          "y": 0.22222222222222224,
          "yanchor": "bottom",
          "yref": "paper"
         },
         {
          "font": {
           "size": 16
          },
          "showarrow": false,
          "text": "Data Group: 3, Event Type: 4",
          "x": 0.89375,
          "xanchor": "center",
          "xref": "paper",
          "y": 0.22222222222222224,
          "yanchor": "bottom",
          "yref": "paper"
         }
        ],
        "height": 800,
        "template": {
         "data": {
          "bar": [
           {
            "error_x": {
             "color": "#2a3f5f"
            },
            "error_y": {
             "color": "#2a3f5f"
            },
            "marker": {
             "line": {
              "color": "#E5ECF6",
              "width": 0.5
             },
             "pattern": {
              "fillmode": "overlay",
              "size": 10,
              "solidity": 0.2
             }
            },
            "type": "bar"
           }
          ],
          "barpolar": [
           {
            "marker": {
             "line": {
              "color": "#E5ECF6",
              "width": 0.5
             },
             "pattern": {
              "fillmode": "overlay",
              "size": 10,
              "solidity": 0.2
             }
            },
            "type": "barpolar"
           }
          ],
          "carpet": [
           {
            "aaxis": {
             "endlinecolor": "#2a3f5f",
             "gridcolor": "white",
             "linecolor": "white",
             "minorgridcolor": "white",
             "startlinecolor": "#2a3f5f"
            },
            "baxis": {
             "endlinecolor": "#2a3f5f",
             "gridcolor": "white",
             "linecolor": "white",
             "minorgridcolor": "white",
             "startlinecolor": "#2a3f5f"
            },
            "type": "carpet"
           }
          ],
          "choropleth": [
           {
            "colorbar": {
             "outlinewidth": 0,
             "ticks": ""
            },
            "type": "choropleth"
           }
          ],
          "contour": [
           {
            "colorbar": {
             "outlinewidth": 0,
             "ticks": ""
            },
            "colorscale": [
             [
              0,
              "#0d0887"
             ],
             [
              0.1111111111111111,
              "#46039f"
             ],
             [
              0.2222222222222222,
              "#7201a8"
             ],
             [
              0.3333333333333333,
              "#9c179e"
             ],
             [
              0.4444444444444444,
              "#bd3786"
             ],
             [
              0.5555555555555556,
              "#d8576b"
             ],
             [
              0.6666666666666666,
              "#ed7953"
             ],
             [
              0.7777777777777778,
              "#fb9f3a"
             ],
             [
              0.8888888888888888,
              "#fdca26"
             ],
             [
              1,
              "#f0f921"
             ]
            ],
            "type": "contour"
           }
          ],
          "contourcarpet": [
           {
            "colorbar": {
             "outlinewidth": 0,
             "ticks": ""
            },
            "type": "contourcarpet"
           }
          ],
          "heatmap": [
           {
            "colorbar": {
             "outlinewidth": 0,
             "ticks": ""
            },
            "colorscale": [
             [
              0,
              "#0d0887"
             ],
             [
              0.1111111111111111,
              "#46039f"
             ],
             [
              0.2222222222222222,
              "#7201a8"
             ],
             [
              0.3333333333333333,
              "#9c179e"
             ],
             [
              0.4444444444444444,
              "#bd3786"
             ],
             [
              0.5555555555555556,
              "#d8576b"
             ],
             [
              0.6666666666666666,
              "#ed7953"
             ],
             [
              0.7777777777777778,
              "#fb9f3a"
             ],
             [
              0.8888888888888888,
              "#fdca26"
             ],
             [
              1,
              "#f0f921"
             ]
            ],
            "type": "heatmap"
           }
          ],
          "heatmapgl": [
           {
            "colorbar": {
             "outlinewidth": 0,
             "ticks": ""
            },
            "colorscale": [
             [
              0,
              "#0d0887"
             ],
             [
              0.1111111111111111,
              "#46039f"
             ],
             [
              0.2222222222222222,
              "#7201a8"
             ],
             [
              0.3333333333333333,
              "#9c179e"
             ],
             [
              0.4444444444444444,
              "#bd3786"
             ],
             [
              0.5555555555555556,
              "#d8576b"
             ],
             [
              0.6666666666666666,
              "#ed7953"
             ],
             [
              0.7777777777777778,
              "#fb9f3a"
             ],
             [
              0.8888888888888888,
              "#fdca26"
             ],
             [
              1,
              "#f0f921"
             ]
            ],
            "type": "heatmapgl"
           }
          ],
          "histogram": [
           {
            "marker": {
             "pattern": {
              "fillmode": "overlay",
              "size": 10,
              "solidity": 0.2
             }
            },
            "type": "histogram"
           }
          ],
          "histogram2d": [
           {
            "colorbar": {
             "outlinewidth": 0,
             "ticks": ""
            },
            "colorscale": [
             [
              0,
              "#0d0887"
             ],
             [
              0.1111111111111111,
              "#46039f"
             ],
             [
              0.2222222222222222,
              "#7201a8"
             ],
             [
              0.3333333333333333,
              "#9c179e"
             ],
             [
              0.4444444444444444,
              "#bd3786"
             ],
             [
              0.5555555555555556,
              "#d8576b"
             ],
             [
              0.6666666666666666,
              "#ed7953"
             ],
             [
              0.7777777777777778,
              "#fb9f3a"
             ],
             [
              0.8888888888888888,
              "#fdca26"
             ],
             [
              1,
              "#f0f921"
             ]
            ],
            "type": "histogram2d"
           }
          ],
          "histogram2dcontour": [
           {
            "colorbar": {
             "outlinewidth": 0,
             "ticks": ""
            },
            "colorscale": [
             [
              0,
              "#0d0887"
             ],
             [
              0.1111111111111111,
              "#46039f"
             ],
             [
              0.2222222222222222,
              "#7201a8"
             ],
             [
              0.3333333333333333,
              "#9c179e"
             ],
             [
              0.4444444444444444,
              "#bd3786"
             ],
             [
              0.5555555555555556,
              "#d8576b"
             ],
             [
              0.6666666666666666,
              "#ed7953"
             ],
             [
              0.7777777777777778,
              "#fb9f3a"
             ],
             [
              0.8888888888888888,
              "#fdca26"
             ],
             [
              1,
              "#f0f921"
             ]
            ],
            "type": "histogram2dcontour"
           }
          ],
          "mesh3d": [
           {
            "colorbar": {
             "outlinewidth": 0,
             "ticks": ""
            },
            "type": "mesh3d"
           }
          ],
          "parcoords": [
           {
            "line": {
             "colorbar": {
              "outlinewidth": 0,
              "ticks": ""
             }
            },
            "type": "parcoords"
           }
          ],
          "pie": [
           {
            "automargin": true,
            "type": "pie"
           }
          ],
          "scatter": [
           {
            "fillpattern": {
             "fillmode": "overlay",
             "size": 10,
             "solidity": 0.2
            },
            "type": "scatter"
           }
          ],
          "scatter3d": [
           {
            "line": {
             "colorbar": {
              "outlinewidth": 0,
              "ticks": ""
             }
            },
            "marker": {
             "colorbar": {
              "outlinewidth": 0,
              "ticks": ""
             }
            },
            "type": "scatter3d"
           }
          ],
          "scattercarpet": [
           {
            "marker": {
             "colorbar": {
              "outlinewidth": 0,
              "ticks": ""
             }
            },
            "type": "scattercarpet"
           }
          ],
          "scattergeo": [
           {
            "marker": {
             "colorbar": {
              "outlinewidth": 0,
              "ticks": ""
             }
            },
            "type": "scattergeo"
           }
          ],
          "scattergl": [
           {
            "marker": {
             "colorbar": {
              "outlinewidth": 0,
              "ticks": ""
             }
            },
            "type": "scattergl"
           }
          ],
          "scattermapbox": [
           {
            "marker": {
             "colorbar": {
              "outlinewidth": 0,
              "ticks": ""
             }
            },
            "type": "scattermapbox"
           }
          ],
          "scatterpolar": [
           {
            "marker": {
             "colorbar": {
              "outlinewidth": 0,
              "ticks": ""
             }
            },
            "type": "scatterpolar"
           }
          ],
          "scatterpolargl": [
           {
            "marker": {
             "colorbar": {
              "outlinewidth": 0,
              "ticks": ""
             }
            },
            "type": "scatterpolargl"
           }
          ],
          "scatterternary": [
           {
            "marker": {
             "colorbar": {
              "outlinewidth": 0,
              "ticks": ""
             }
            },
            "type": "scatterternary"
           }
          ],
          "surface": [
           {
            "colorbar": {
             "outlinewidth": 0,
             "ticks": ""
            },
            "colorscale": [
             [
              0,
              "#0d0887"
             ],
             [
              0.1111111111111111,
              "#46039f"
             ],
             [
              0.2222222222222222,
              "#7201a8"
             ],
             [
              0.3333333333333333,
              "#9c179e"
             ],
             [
              0.4444444444444444,
              "#bd3786"
             ],
             [
              0.5555555555555556,
              "#d8576b"
             ],
             [
              0.6666666666666666,
              "#ed7953"
             ],
             [
              0.7777777777777778,
              "#fb9f3a"
             ],
             [
              0.8888888888888888,
              "#fdca26"
             ],
             [
              1,
              "#f0f921"
             ]
            ],
            "type": "surface"
           }
          ],
          "table": [
           {
            "cells": {
             "fill": {
              "color": "#EBF0F8"
             },
             "line": {
              "color": "white"
             }
            },
            "header": {
             "fill": {
              "color": "#C8D4E3"
             },
             "line": {
              "color": "white"
             }
            },
            "type": "table"
           }
          ]
         },
         "layout": {
          "annotationdefaults": {
           "arrowcolor": "#2a3f5f",
           "arrowhead": 0,
           "arrowwidth": 1
          },
          "autotypenumbers": "strict",
          "coloraxis": {
           "colorbar": {
            "outlinewidth": 0,
            "ticks": ""
           }
          },
          "colorscale": {
           "diverging": [
            [
             0,
             "#8e0152"
            ],
            [
             0.1,
             "#c51b7d"
            ],
            [
             0.2,
             "#de77ae"
            ],
            [
             0.3,
             "#f1b6da"
            ],
            [
             0.4,
             "#fde0ef"
            ],
            [
             0.5,
             "#f7f7f7"
            ],
            [
             0.6,
             "#e6f5d0"
            ],
            [
             0.7,
             "#b8e186"
            ],
            [
             0.8,
             "#7fbc41"
            ],
            [
             0.9,
             "#4d9221"
            ],
            [
             1,
             "#276419"
            ]
           ],
           "sequential": [
            [
             0,
             "#0d0887"
            ],
            [
             0.1111111111111111,
             "#46039f"
            ],
            [
             0.2222222222222222,
             "#7201a8"
            ],
            [
             0.3333333333333333,
             "#9c179e"
            ],
            [
             0.4444444444444444,
             "#bd3786"
            ],
            [
             0.5555555555555556,
             "#d8576b"
            ],
            [
             0.6666666666666666,
             "#ed7953"
            ],
            [
             0.7777777777777778,
             "#fb9f3a"
            ],
            [
             0.8888888888888888,
             "#fdca26"
            ],
            [
             1,
             "#f0f921"
            ]
           ],
           "sequentialminus": [
            [
             0,
             "#0d0887"
            ],
            [
             0.1111111111111111,
             "#46039f"
            ],
            [
             0.2222222222222222,
             "#7201a8"
            ],
            [
             0.3333333333333333,
             "#9c179e"
            ],
            [
             0.4444444444444444,
             "#bd3786"
            ],
            [
             0.5555555555555556,
             "#d8576b"
            ],
            [
             0.6666666666666666,
             "#ed7953"
            ],
            [
             0.7777777777777778,
             "#fb9f3a"
            ],
            [
             0.8888888888888888,
             "#fdca26"
            ],
            [
             1,
             "#f0f921"
            ]
           ]
          },
          "colorway": [
           "#636efa",
           "#EF553B",
           "#00cc96",
           "#ab63fa",
           "#FFA15A",
           "#19d3f3",
           "#FF6692",
           "#B6E880",
           "#FF97FF",
           "#FECB52"
          ],
          "font": {
           "color": "#2a3f5f"
          },
          "geo": {
           "bgcolor": "white",
           "lakecolor": "white",
           "landcolor": "#E5ECF6",
           "showlakes": true,
           "showland": true,
           "subunitcolor": "white"
          },
          "hoverlabel": {
           "align": "left"
          },
          "hovermode": "closest",
          "mapbox": {
           "style": "light"
          },
          "paper_bgcolor": "white",
          "plot_bgcolor": "#E5ECF6",
          "polar": {
           "angularaxis": {
            "gridcolor": "white",
            "linecolor": "white",
            "ticks": ""
           },
           "bgcolor": "#E5ECF6",
           "radialaxis": {
            "gridcolor": "white",
            "linecolor": "white",
            "ticks": ""
           }
          },
          "scene": {
           "xaxis": {
            "backgroundcolor": "#E5ECF6",
            "gridcolor": "white",
            "gridwidth": 2,
            "linecolor": "white",
            "showbackground": true,
            "ticks": "",
            "zerolinecolor": "white"
           },
           "yaxis": {
            "backgroundcolor": "#E5ECF6",
            "gridcolor": "white",
            "gridwidth": 2,
            "linecolor": "white",
            "showbackground": true,
            "ticks": "",
            "zerolinecolor": "white"
           },
           "zaxis": {
            "backgroundcolor": "#E5ECF6",
            "gridcolor": "white",
            "gridwidth": 2,
            "linecolor": "white",
            "showbackground": true,
            "ticks": "",
            "zerolinecolor": "white"
           }
          },
          "shapedefaults": {
           "line": {
            "color": "#2a3f5f"
           }
          },
          "ternary": {
           "aaxis": {
            "gridcolor": "white",
            "linecolor": "white",
            "ticks": ""
           },
           "baxis": {
            "gridcolor": "white",
            "linecolor": "white",
            "ticks": ""
           },
           "bgcolor": "#E5ECF6",
           "caxis": {
            "gridcolor": "white",
            "linecolor": "white",
            "ticks": ""
           }
          },
          "title": {
           "x": 0.05
          },
          "xaxis": {
           "automargin": true,
           "gridcolor": "white",
           "linecolor": "white",
           "ticks": "",
           "title": {
            "standoff": 15
           },
           "zerolinecolor": "white",
           "zerolinewidth": 2
          },
          "yaxis": {
           "automargin": true,
           "gridcolor": "white",
           "linecolor": "white",
           "ticks": "",
           "title": {
            "standoff": 15
           },
           "zerolinecolor": "white",
           "zerolinewidth": 2
          }
         }
        },
        "title": {
         "text": "Distribution of NCA by Data Group and Event Type"
        },
        "width": 1200,
        "xaxis": {
         "anchor": "y",
         "domain": [
          0,
          0.2125
         ],
         "matches": "x9",
         "showticklabels": false
        },
        "xaxis10": {
         "anchor": "y10",
         "domain": [
          0.2625,
          0.475
         ]
        },
        "xaxis11": {
         "anchor": "y11",
         "domain": [
          0.525,
          0.7375
         ]
        },
        "xaxis12": {
         "anchor": "y12",
         "domain": [
          0.7875,
          1
         ]
        },
        "xaxis2": {
         "anchor": "y2",
         "domain": [
          0.2625,
          0.475
         ],
         "matches": "x10",
         "showticklabels": false
        },
        "xaxis3": {
         "anchor": "y3",
         "domain": [
          0.525,
          0.7375
         ],
         "matches": "x11",
         "showticklabels": false
        },
        "xaxis4": {
         "anchor": "y4",
         "domain": [
          0.7875,
          1
         ],
         "matches": "x12",
         "showticklabels": false
        },
        "xaxis5": {
         "anchor": "y5",
         "domain": [
          0,
          0.2125
         ],
         "matches": "x9",
         "showticklabels": false
        },
        "xaxis6": {
         "anchor": "y6",
         "domain": [
          0.2625,
          0.475
         ],
         "matches": "x10",
         "showticklabels": false
        },
        "xaxis7": {
         "anchor": "y7",
         "domain": [
          0.525,
          0.7375
         ],
         "matches": "x11",
         "showticklabels": false
        },
        "xaxis8": {
         "anchor": "y8",
         "domain": [
          0.7875,
          1
         ],
         "matches": "x12",
         "showticklabels": false
        },
        "xaxis9": {
         "anchor": "y9",
         "domain": [
          0,
          0.2125
         ]
        },
        "yaxis": {
         "anchor": "x",
         "domain": [
          0.7777777777777778,
          1
         ]
        },
        "yaxis10": {
         "anchor": "x10",
         "domain": [
          0,
          0.22222222222222224
         ],
         "matches": "y9",
         "showticklabels": false
        },
        "yaxis11": {
         "anchor": "x11",
         "domain": [
          0,
          0.22222222222222224
         ],
         "matches": "y9",
         "showticklabels": false
        },
        "yaxis12": {
         "anchor": "x12",
         "domain": [
          0,
          0.22222222222222224
         ],
         "matches": "y9",
         "showticklabels": false
        },
        "yaxis2": {
         "anchor": "x2",
         "domain": [
          0.7777777777777778,
          1
         ],
         "matches": "y",
         "showticklabels": false
        },
        "yaxis3": {
         "anchor": "x3",
         "domain": [
          0.7777777777777778,
          1
         ],
         "matches": "y",
         "showticklabels": false
        },
        "yaxis4": {
         "anchor": "x4",
         "domain": [
          0.7777777777777778,
          1
         ],
         "matches": "y",
         "showticklabels": false
        },
        "yaxis5": {
         "anchor": "x5",
         "domain": [
          0.3888888888888889,
          0.6111111111111112
         ]
        },
        "yaxis6": {
         "anchor": "x6",
         "domain": [
          0.3888888888888889,
          0.6111111111111112
         ],
         "matches": "y5",
         "showticklabels": false
        },
        "yaxis7": {
         "anchor": "x7",
         "domain": [
          0.3888888888888889,
          0.6111111111111112
         ],
         "matches": "y5",
         "showticklabels": false
        },
        "yaxis8": {
         "anchor": "x8",
         "domain": [
          0.3888888888888889,
          0.6111111111111112
         ],
         "matches": "y5",
         "showticklabels": false
        },
        "yaxis9": {
         "anchor": "x9",
         "domain": [
          0,
          0.22222222222222224
         ]
        }
       }
      }
     },
     "metadata": {},
     "output_type": "display_data"
    },
    {
     "data": {
      "application/vnd.plotly.v1+json": {
       "config": {
        "plotlyServerURL": "https://plot.ly"
       },
       "data": [
        {
         "alignmentgroup": "True",
         "hovertemplate": "=%{y}<extra></extra>",
         "legendgroup": "",
         "marker": {
          "color": "#636efa"
         },
         "name": "",
         "notched": false,
         "offsetgroup": "",
         "orientation": "v",
         "showlegend": false,
         "type": "box",
         "x0": " ",
         "xaxis": "x",
         "y": [
          19,
          21,
          17,
          13,
          11,
          17,
          11,
          9,
          11,
          9,
          11,
          19,
          21,
          7,
          7,
          11,
          19,
          13,
          15,
          17,
          17,
          13,
          23,
          13,
          29,
          17,
          13,
          33,
          22,
          17,
          9,
          9,
          11,
          17,
          7,
          7,
          3,
          7,
          7,
          3,
          15,
          11,
          11,
          7,
          13,
          4,
          7,
          25,
          3,
          3,
          13,
          9,
          9,
          5,
          7,
          3,
          7,
          7,
          13,
          5,
          9,
          5,
          5,
          7,
          5,
          15,
          17,
          13,
          7,
          5,
          17,
          15,
          21,
          12,
          9,
          11,
          7,
          7,
          27,
          15,
          9,
          11,
          19,
          9,
          25,
          7,
          13,
          11,
          3,
          21,
          13,
          15,
          7,
          23,
          11,
          19,
          11,
          9,
          9,
          11,
          13,
          13,
          13,
          13,
          11,
          9,
          7,
          15,
          13,
          7,
          11,
          9,
          7,
          5,
          7,
          13,
          15,
          7,
          14,
          9,
          25,
          13,
          27,
          9,
          11,
          9,
          11,
          9,
          13,
          23,
          15,
          17,
          9,
          5,
          7,
          15,
          13,
          5,
          5,
          13,
          11,
          5,
          13,
          5,
          9,
          9,
          5,
          9,
          11,
          9,
          7,
          5,
          3,
          9,
          3,
          13,
          3,
          15,
          9,
          7,
          15,
          29,
          15,
          31,
          23,
          13,
          21,
          13,
          17,
          13,
          3,
          7,
          14,
          7,
          1,
          13,
          13,
          15,
          7,
          13,
          15,
          11,
          15,
          25,
          13,
          9,
          11,
          17,
          27,
          25,
          9,
          18,
          13,
          6,
          11,
          11,
          11,
          11,
          9,
          5,
          13,
          15,
          3,
          11,
          5,
          5,
          9,
          13,
          9,
          9,
          15,
          21,
          19,
          7,
          17,
          13,
          19,
          14,
          21,
          13,
          83,
          29,
          35,
          13,
          13,
          25,
          11,
          9,
          37,
          11,
          19,
          7,
          17,
          7,
          17,
          13,
          7,
          21,
          13,
          9,
          5,
          15,
          1,
          1,
          9,
          3,
          11,
          17,
          5,
          13,
          13,
          9,
          11,
          9,
          15,
          11,
          2,
          1,
          7,
          19,
          21,
          11,
          25,
          13,
          13,
          13,
          21,
          9,
          17,
          17,
          17,
          9,
          11,
          11,
          13,
          13,
          27,
          15,
          11,
          7,
          13,
          19,
          27,
          15,
          9,
          21,
          7,
          29,
          15,
          25
         ],
         "y0": " ",
         "yaxis": "y"
        },
        {
         "alignmentgroup": "True",
         "hovertemplate": "=%{y}<extra></extra>",
         "legendgroup": "",
         "marker": {
          "color": "#636efa"
         },
         "name": "",
         "notched": false,
         "offsetgroup": "",
         "orientation": "v",
         "showlegend": false,
         "type": "box",
         "x0": " ",
         "xaxis": "x2",
         "y": [
          15,
          16,
          23,
          18,
          11,
          19,
          35,
          13,
          19,
          19,
          13,
          17,
          33,
          21,
          9,
          15,
          25,
          15,
          23,
          17,
          27,
          23,
          21,
          33,
          13,
          25,
          41,
          15,
          13,
          30,
          15,
          17,
          7,
          15,
          11,
          11,
          13,
          21,
          11,
          25,
          5,
          13,
          15,
          23,
          19,
          11,
          13,
          13,
          7,
          15,
          13,
          11,
          11,
          7,
          23,
          13,
          15,
          19,
          9,
          9,
          11,
          12,
          11,
          19,
          15,
          13,
          5,
          7,
          11,
          11,
          19,
          27,
          11,
          17,
          18,
          37,
          17,
          21,
          33,
          13,
          15,
          27,
          19,
          13,
          9,
          15,
          9,
          9,
          23,
          21,
          23,
          11,
          15,
          19,
          13,
          11,
          15,
          13,
          17,
          17,
          23,
          13,
          15,
          35,
          13,
          15,
          23,
          17,
          11,
          9,
          11,
          15,
          9,
          17,
          13,
          13,
          9,
          15,
          9,
          23,
          19,
          19,
          23,
          23,
          13,
          21,
          9,
          13,
          13,
          11,
          9,
          23,
          17,
          14,
          13,
          19,
          19,
          13,
          15,
          7,
          9,
          9,
          13,
          9,
          25,
          15,
          19,
          15,
          13,
          10,
          15,
          13,
          17,
          33,
          13,
          7,
          13,
          11,
          23,
          17,
          35,
          25,
          15,
          13,
          21,
          19,
          17,
          11,
          17,
          17,
          21,
          7,
          21,
          9,
          23,
          29,
          9,
          13,
          11,
          13,
          13,
          11,
          19,
          13,
          17,
          9,
          25,
          23,
          35,
          19,
          19,
          7,
          25,
          16,
          7,
          17,
          15,
          17,
          27,
          23,
          11,
          11,
          10,
          11,
          11,
          7,
          25,
          29,
          27,
          11,
          45,
          17,
          23,
          11,
          9,
          25,
          17,
          33,
          13,
          15,
          31,
          11,
          33,
          24,
          34,
          21,
          17,
          19,
          17,
          29,
          13,
          13,
          13,
          11,
          17,
          17,
          19,
          17,
          37,
          27,
          11,
          18,
          13,
          5,
          13,
          25,
          11,
          13,
          11,
          17,
          27,
          16,
          13,
          19,
          19,
          10,
          9,
          9,
          19,
          7,
          15,
          19,
          19,
          21,
          17,
          11,
          45,
          13,
          25,
          11,
          27,
          15,
          23,
          14,
          17,
          11,
          20,
          25,
          17,
          13,
          17,
          29,
          19,
          23,
          15,
          17,
          17,
          29,
          41,
          15
         ],
         "y0": " ",
         "yaxis": "y2"
        },
        {
         "alignmentgroup": "True",
         "hovertemplate": "=%{y}<extra></extra>",
         "legendgroup": "",
         "marker": {
          "color": "#636efa"
         },
         "name": "",
         "notched": false,
         "offsetgroup": "",
         "orientation": "v",
         "showlegend": false,
         "type": "box",
         "x0": " ",
         "xaxis": "x3",
         "y": [
          23,
          17,
          18,
          13,
          21,
          21,
          27,
          19,
          11,
          25,
          19,
          21,
          19,
          29,
          21,
          19,
          49,
          11,
          21,
          25,
          21,
          39,
          29,
          33,
          17,
          29,
          49,
          27,
          51,
          17,
          23,
          19,
          7,
          17,
          13,
          15,
          15,
          19,
          9,
          11,
          17,
          15,
          17,
          17,
          21,
          21,
          17,
          9,
          15,
          11,
          13,
          19,
          9,
          21,
          19,
          9,
          27,
          21,
          13,
          14,
          15,
          11,
          9,
          17,
          15,
          17,
          9,
          19,
          9,
          15,
          42,
          123,
          29,
          23,
          23,
          43,
          25,
          19,
          25,
          31,
          33,
          19,
          23,
          21,
          19,
          15,
          19,
          15,
          19,
          7,
          17,
          19,
          15,
          31,
          23,
          27,
          11,
          17,
          35,
          33,
          19,
          25,
          23,
          9,
          25,
          19,
          15,
          13,
          19,
          21,
          21,
          13,
          15,
          11,
          13,
          11,
          15,
          9,
          25,
          19,
          9,
          13,
          13,
          21,
          13,
          15,
          17,
          7,
          11,
          15,
          17,
          13,
          23,
          27,
          17,
          19,
          15,
          17,
          15,
          21,
          13,
          19,
          23,
          11,
          23,
          21,
          19,
          21,
          11,
          25,
          19,
          13,
          27,
          15,
          19,
          9,
          15,
          13,
          17,
          13,
          133,
          23,
          29,
          17,
          33,
          17,
          17,
          17,
          23,
          17,
          33,
          27,
          21,
          27,
          31,
          26,
          17,
          24,
          11,
          17,
          20,
          21,
          21,
          17,
          19,
          33,
          25,
          23,
          27,
          25,
          17,
          25,
          31,
          9,
          17,
          15,
          19,
          19,
          21,
          19,
          9,
          19,
          11,
          19,
          13,
          15,
          15,
          19,
          15,
          13,
          30,
          25,
          22,
          21,
          17,
          15,
          23,
          23,
          29,
          23,
          29,
          29,
          33,
          31,
          37,
          57,
          23,
          27,
          33,
          27,
          19,
          15,
          19,
          27,
          23,
          21,
          42,
          23,
          25,
          38,
          29,
          9,
          25,
          15,
          31,
          11,
          21,
          23,
          19,
          11,
          13,
          19,
          19,
          13,
          29,
          11,
          23,
          27,
          23,
          10,
          37,
          25,
          21,
          21,
          17,
          17,
          31,
          31,
          19,
          21,
          27,
          45,
          17,
          35,
          31,
          25,
          13,
          9,
          19,
          15,
          79,
          31,
          17,
          25,
          13,
          19,
          21,
          29,
          17,
          31
         ],
         "y0": " ",
         "yaxis": "y3"
        },
        {
         "alignmentgroup": "True",
         "hovertemplate": "=%{y}<extra></extra>",
         "legendgroup": "",
         "marker": {
          "color": "#636efa"
         },
         "name": "",
         "notched": false,
         "offsetgroup": "",
         "orientation": "v",
         "showlegend": false,
         "type": "box",
         "x0": " ",
         "xaxis": "x4",
         "y": [
          43,
          15,
          20,
          15,
          17,
          19,
          15,
          17,
          21,
          13,
          11,
          14,
          9,
          16,
          19,
          11,
          13,
          11,
          19,
          13,
          3,
          13,
          1,
          3,
          3,
          5,
          1,
          3,
          3,
          1,
          23,
          41,
          9,
          21,
          23,
          17,
          19,
          13,
          25,
          25,
          19,
          23,
          19,
          17,
          15,
          21,
          11,
          27,
          13,
          23,
          1,
          1,
          3,
          1,
          3,
          7,
          3,
          5,
          1,
          3,
          4,
          27,
          5,
          7,
          5,
          7,
          9,
          9,
          9,
          7,
          59,
          57,
          49,
          55,
          41,
          49,
          51,
          69,
          59,
          65,
          11,
          7,
          13,
          9,
          9,
          9,
          13,
          9,
          15,
          11,
          45,
          47,
          47,
          43,
          51,
          43,
          45,
          47,
          45,
          45,
          1,
          1,
          2,
          1,
          1,
          5,
          1,
          1,
          1,
          1,
          5,
          5,
          5,
          7,
          5,
          5,
          3,
          4,
          5,
          5,
          9,
          3,
          5,
          1,
          1,
          1,
          1,
          1,
          3,
          3,
          27,
          7,
          17,
          5,
          3,
          3,
          5,
          3,
          3,
          3,
          5,
          7,
          8,
          7,
          7,
          7,
          7,
          5,
          5,
          5,
          11,
          9,
          19,
          17,
          13,
          15,
          11,
          21,
          17,
          21,
          1,
          3,
          5,
          3,
          3,
          3,
          1,
          1,
          1,
          1,
          9,
          5,
          3,
          7,
          5,
          7,
          7,
          13,
          9,
          11,
          25,
          5,
          9,
          17,
          19,
          21,
          21,
          27,
          26,
          17,
          21,
          19,
          7,
          9,
          15,
          15,
          13,
          7,
          7,
          5,
          9,
          7,
          3,
          9,
          5,
          3,
          7,
          9,
          13,
          9,
          53,
          53,
          47,
          55,
          49,
          47,
          43,
          41,
          43,
          33,
          97,
          37,
          29,
          21,
          25,
          25,
          27,
          23,
          27,
          27,
          5,
          1,
          1,
          1,
          5,
          1,
          7,
          1,
          2,
          3,
          5,
          5,
          1,
          1,
          3,
          1,
          3,
          3,
          1,
          1,
          7,
          3,
          7,
          11,
          11,
          5,
          9,
          5,
          13,
          9,
          30,
          15,
          25,
          31,
          27,
          29,
          25,
          25,
          27,
          27,
          5,
          5,
          9,
          9,
          5,
          11,
          9,
          5,
          5,
          5,
          25,
          35,
          35,
          29,
          35,
          31,
          21,
          25,
          25,
          31
         ],
         "y0": " ",
         "yaxis": "y4"
        },
        {
         "alignmentgroup": "True",
         "hovertemplate": "=%{y}<extra></extra>",
         "legendgroup": "",
         "marker": {
          "color": "#636efa"
         },
         "name": "",
         "notched": false,
         "offsetgroup": "",
         "orientation": "v",
         "showlegend": false,
         "type": "box",
         "x0": " ",
         "xaxis": "x5",
         "y": [
          15,
          24,
          23,
          10,
          19,
          11,
          15,
          17,
          25,
          11,
          9,
          25,
          8,
          15,
          27,
          5,
          17,
          21,
          11,
          11,
          15,
          13,
          5,
          11,
          15,
          15,
          13,
          13,
          31,
          35,
          17,
          9,
          9,
          9,
          3,
          7,
          31,
          11,
          9,
          1,
          11,
          17,
          13,
          7,
          7,
          5,
          9,
          9,
          19,
          17,
          5,
          15,
          23,
          15,
          9,
          17,
          9,
          7,
          17,
          11,
          21,
          5,
          9,
          7,
          15,
          8,
          11,
          5,
          7,
          9,
          17,
          9,
          7,
          11,
          17,
          10,
          7,
          5,
          15,
          19,
          15,
          23,
          17,
          13,
          13,
          11,
          21,
          17,
          25,
          17,
          9,
          17,
          7,
          11,
          21,
          19,
          13,
          13,
          11,
          7,
          18,
          15,
          11,
          15,
          15,
          13,
          15,
          27,
          33,
          17,
          33,
          32,
          17,
          17,
          37,
          21,
          15,
          23,
          13,
          19,
          17,
          11,
          11,
          17,
          11,
          19,
          11,
          10,
          13,
          11,
          19,
          9,
          11,
          3,
          3,
          6,
          11,
          11,
          5,
          7,
          31,
          15,
          15,
          13,
          12,
          17,
          12,
          17,
          17,
          17
         ],
         "y0": " ",
         "yaxis": "y5"
        },
        {
         "alignmentgroup": "True",
         "hovertemplate": "=%{y}<extra></extra>",
         "legendgroup": "",
         "marker": {
          "color": "#636efa"
         },
         "name": "",
         "notched": false,
         "offsetgroup": "",
         "orientation": "v",
         "showlegend": false,
         "type": "box",
         "x0": " ",
         "xaxis": "x6",
         "y": [
          25,
          11,
          37,
          34,
          15,
          17,
          15,
          23,
          15,
          23,
          31,
          17,
          13,
          9,
          15,
          29,
          13,
          19,
          21,
          17,
          25,
          15,
          17,
          17,
          13,
          15,
          49,
          25,
          15,
          33,
          10,
          21,
          7,
          23,
          29,
          11,
          11,
          17,
          13,
          49,
          13,
          13,
          15,
          11,
          11,
          11,
          21,
          14,
          13,
          33,
          13,
          17,
          17,
          15,
          23,
          13,
          21,
          17,
          9,
          13,
          7,
          19,
          17,
          13,
          13,
          11,
          15,
          9,
          16,
          18,
          11,
          17,
          13,
          21,
          13,
          21,
          9,
          15,
          7,
          15,
          13,
          17,
          39,
          42,
          11,
          21,
          17,
          23,
          27,
          15,
          21,
          17,
          11,
          9,
          9,
          27,
          15,
          16,
          19,
          15,
          13,
          11,
          35,
          25,
          9,
          21,
          11,
          15,
          29,
          19,
          21,
          35,
          25,
          35,
          23,
          19,
          17,
          25,
          47,
          15,
          17,
          15,
          9,
          9,
          19,
          11,
          11,
          25,
          17,
          17,
          21,
          15,
          17,
          13,
          17,
          16,
          11,
          7,
          25,
          29,
          27,
          17,
          33,
          13,
          25,
          21,
          13,
          17,
          15,
          19
         ],
         "y0": " ",
         "yaxis": "y6"
        },
        {
         "alignmentgroup": "True",
         "hovertemplate": "=%{y}<extra></extra>",
         "legendgroup": "",
         "marker": {
          "color": "#636efa"
         },
         "name": "",
         "notched": false,
         "offsetgroup": "",
         "orientation": "v",
         "showlegend": false,
         "type": "box",
         "x0": " ",
         "xaxis": "x7",
         "y": [
          23,
          53,
          29,
          27,
          23,
          67,
          33,
          23,
          37,
          67,
          17,
          15,
          19,
          31,
          31,
          13,
          15,
          15,
          21,
          15,
          21,
          7,
          23,
          21,
          43,
          11,
          15,
          25,
          29,
          43,
          11,
          23,
          29,
          31,
          23,
          9,
          19,
          23,
          17,
          21,
          17,
          23,
          21,
          15,
          33,
          19,
          47,
          9,
          29,
          13,
          21,
          11,
          23,
          19,
          19,
          19,
          13,
          21,
          21,
          23,
          13,
          15,
          27,
          25,
          25,
          33,
          21,
          25,
          21,
          13,
          17,
          15,
          21,
          17,
          11,
          13,
          9,
          17,
          21,
          23,
          46,
          19,
          19,
          25,
          29,
          23,
          23,
          27,
          17,
          14,
          27,
          11,
          23,
          17,
          23,
          20,
          19,
          19,
          17,
          25,
          15,
          13,
          21,
          17,
          23,
          27,
          9,
          33,
          23,
          19,
          63,
          59,
          73,
          41,
          35,
          47,
          33,
          32,
          40,
          47,
          17,
          13,
          53,
          43,
          23,
          71,
          9,
          37,
          21,
          21,
          37,
          33,
          43,
          19,
          21,
          29,
          23,
          31,
          25,
          27,
          49,
          39,
          33,
          29,
          21,
          21,
          27,
          18,
          21,
          21
         ],
         "y0": " ",
         "yaxis": "y7"
        },
        {
         "alignmentgroup": "True",
         "hovertemplate": "=%{y}<extra></extra>",
         "legendgroup": "",
         "marker": {
          "color": "#636efa"
         },
         "name": "",
         "notched": false,
         "offsetgroup": "",
         "orientation": "v",
         "showlegend": false,
         "type": "box",
         "x0": " ",
         "xaxis": "x8",
         "y": [
          21,
          17,
          21,
          23,
          23,
          25,
          19,
          35,
          35,
          19,
          5,
          13,
          9,
          6,
          7,
          13,
          1,
          9,
          11,
          8,
          7,
          13,
          13,
          11,
          15,
          13,
          23,
          21,
          17,
          41,
          9,
          5,
          1,
          5,
          9,
          8,
          5,
          5,
          9,
          3,
          15,
          11,
          1,
          11,
          3,
          5,
          7,
          1,
          5,
          5,
          19,
          7,
          9,
          7,
          7,
          11,
          9,
          5,
          7,
          9,
          21,
          15,
          15,
          17,
          21,
          15,
          11,
          17,
          17,
          17,
          9,
          9,
          11,
          11,
          13,
          11,
          10,
          17,
          9,
          5,
          39,
          5,
          7,
          5,
          11,
          7,
          11,
          5,
          7,
          10,
          29,
          17,
          11,
          11,
          17,
          9,
          5,
          19,
          11,
          11,
          13,
          11,
          7,
          7,
          9,
          11,
          11,
          8,
          13,
          11,
          69,
          49,
          71,
          37,
          35,
          43,
          63,
          49,
          33,
          55,
          21,
          5,
          7,
          9,
          5,
          9,
          5,
          9,
          5,
          7,
          13,
          5,
          11,
          17,
          15,
          13,
          15,
          7,
          7,
          12,
          11,
          13,
          13,
          29,
          12,
          9,
          13,
          18,
          17,
          10
         ],
         "y0": " ",
         "yaxis": "y8"
        },
        {
         "alignmentgroup": "True",
         "hovertemplate": "=%{y}<extra></extra>",
         "legendgroup": "",
         "marker": {
          "color": "#636efa"
         },
         "name": "",
         "notched": false,
         "offsetgroup": "",
         "orientation": "v",
         "showlegend": false,
         "type": "box",
         "x0": " ",
         "xaxis": "x9",
         "y": [
          21,
          13,
          17,
          21,
          13,
          31,
          24,
          15,
          13,
          17,
          19,
          9,
          19,
          13,
          13,
          13,
          9,
          5,
          11,
          13,
          3,
          17,
          17,
          7,
          7,
          9,
          11,
          9,
          9,
          5,
          5,
          21,
          7,
          9,
          7,
          9,
          11,
          15,
          13,
          15,
          11,
          15,
          3,
          9,
          11,
          17,
          29,
          11,
          11,
          15,
          11,
          49,
          19,
          11,
          21,
          23,
          19,
          41,
          13,
          23,
          19,
          11,
          11,
          17,
          11,
          27,
          29,
          23,
          21,
          11,
          41,
          11,
          21,
          29,
          9,
          13,
          29,
          33,
          15,
          25,
          7,
          13,
          7,
          15,
          7,
          7,
          15,
          7,
          15,
          19,
          15,
          23,
          27,
          29,
          13,
          17,
          11,
          29,
          13,
          17,
          44,
          37,
          19,
          57,
          33,
          31,
          31,
          52,
          42,
          27,
          33,
          19,
          25,
          13,
          27,
          15,
          25,
          19,
          13,
          11,
          15,
          11,
          11,
          19,
          11,
          11,
          13,
          23,
          17,
          11,
          9,
          7,
          11,
          17,
          17,
          19,
          11,
          9,
          9,
          11,
          15,
          21,
          13,
          35,
          31,
          17,
          13,
          19,
          31,
          25,
          19,
          29,
          17,
          15,
          23,
          19,
          9,
          13,
          13,
          29,
          13,
          17,
          15,
          25,
          17,
          11,
          17,
          7,
          11,
          19,
          13,
          19,
          13,
          19,
          19,
          29,
          47,
          23,
          21,
          11,
          11,
          11,
          19,
          13,
          21,
          25,
          13,
          7,
          17,
          11,
          19,
          19,
          19,
          21,
          31,
          21,
          21,
          17,
          18,
          33,
          13,
          17,
          39,
          25,
          11,
          17,
          19,
          11,
          11,
          9,
          23,
          35,
          31,
          31,
          31,
          24,
          31,
          36,
          49,
          31,
          13,
          11,
          27,
          21,
          33,
          23,
          5,
          13,
          9,
          23
         ],
         "y0": " ",
         "yaxis": "y9"
        },
        {
         "alignmentgroup": "True",
         "hovertemplate": "=%{y}<extra></extra>",
         "legendgroup": "",
         "marker": {
          "color": "#636efa"
         },
         "name": "",
         "notched": false,
         "offsetgroup": "",
         "orientation": "v",
         "showlegend": false,
         "type": "box",
         "x0": " ",
         "xaxis": "x10",
         "y": [
          19,
          17,
          20,
          45,
          15,
          25,
          19,
          21,
          19,
          27,
          23,
          11,
          11,
          15,
          41,
          16,
          23,
          11,
          13,
          17,
          15,
          15,
          21,
          15,
          15,
          23,
          21,
          21,
          19,
          11,
          21,
          14,
          33,
          21,
          23,
          13,
          19,
          17,
          31,
          17,
          17,
          25,
          11,
          17,
          19,
          19,
          23,
          31,
          21,
          31,
          21,
          19,
          87,
          21,
          19,
          17,
          45,
          41,
          33,
          23,
          21,
          21,
          39,
          19,
          31,
          19,
          21,
          27,
          23,
          13,
          21,
          83,
          43,
          25,
          9,
          21,
          33,
          29,
          19,
          15,
          17,
          9,
          9,
          11,
          31,
          17,
          13,
          9,
          13,
          15,
          15,
          13,
          43,
          21,
          15,
          11,
          17,
          17,
          27,
          25,
          85,
          37,
          59,
          21,
          31,
          47,
          27,
          33,
          35,
          39,
          28,
          27,
          15,
          19,
          34,
          13,
          13,
          11,
          13,
          9,
          13,
          11,
          33,
          29,
          16,
          19,
          27,
          13,
          11,
          15,
          15,
          15,
          21,
          11,
          19,
          31,
          13,
          13,
          13,
          11,
          37,
          15,
          19,
          15,
          19,
          21,
          39,
          21,
          37,
          19,
          27,
          25,
          39,
          17,
          19,
          15,
          19,
          17,
          21,
          11,
          15,
          9,
          21,
          35,
          11,
          17,
          25,
          22,
          19,
          17,
          11,
          19,
          17,
          19,
          47,
          23,
          27,
          29,
          19,
          23,
          23,
          41,
          12,
          12,
          21,
          15,
          19,
          15,
          11,
          17,
          43,
          29,
          19,
          17,
          17,
          53,
          21,
          25,
          19,
          21,
          11,
          13,
          27,
          21,
          25,
          13,
          9,
          27,
          11,
          13,
          18,
          29,
          67,
          35,
          27,
          31,
          31,
          28,
          20,
          49,
          25,
          37,
          39,
          35,
          15,
          23,
          13,
          27,
          11,
          27
         ],
         "y0": " ",
         "yaxis": "y10"
        },
        {
         "alignmentgroup": "True",
         "hovertemplate": "=%{y}<extra></extra>",
         "legendgroup": "",
         "marker": {
          "color": "#636efa"
         },
         "name": "",
         "notched": false,
         "offsetgroup": "",
         "orientation": "v",
         "showlegend": false,
         "type": "box",
         "x0": " ",
         "xaxis": "x11",
         "y": [
          75,
          39,
          41,
          37,
          41,
          19,
          55,
          45,
          49,
          19,
          15,
          25,
          27,
          37,
          21,
          32,
          15,
          11,
          28,
          19,
          31,
          21,
          19,
          21,
          21,
          17,
          13,
          17,
          19,
          19,
          11,
          23,
          19,
          25,
          49,
          25,
          41,
          43,
          21,
          27,
          17,
          25,
          17,
          29,
          21,
          15,
          19,
          19,
          15,
          25,
          45,
          67,
          51,
          37,
          75,
          35,
          52,
          41,
          79,
          43,
          23,
          27,
          55,
          29,
          25,
          34,
          47,
          43,
          27,
          41,
          39,
          25,
          23,
          43,
          71,
          29,
          19,
          11,
          35,
          49,
          19,
          15,
          17,
          11,
          13,
          19,
          11,
          31,
          13,
          13,
          12,
          15,
          25,
          17,
          21,
          17,
          21,
          11,
          17,
          9,
          33,
          55,
          69,
          75,
          53,
          81,
          41,
          55,
          47,
          69,
          25,
          23,
          17,
          15,
          25,
          17,
          15,
          35,
          23,
          20,
          13,
          17,
          23,
          11,
          15,
          22,
          25,
          23,
          13,
          17,
          17,
          15,
          23,
          20,
          23,
          13,
          16,
          13,
          19,
          11,
          25,
          27,
          27,
          33,
          19,
          34,
          17,
          53,
          37,
          25,
          23,
          19,
          17,
          21,
          33,
          11,
          19,
          27,
          28,
          25,
          41,
          29,
          37,
          27,
          31,
          27,
          15,
          27,
          29,
          29,
          27,
          43,
          155,
          75,
          81,
          85,
          29,
          70,
          61,
          57,
          31,
          25,
          27,
          35,
          31,
          29,
          37,
          29,
          21,
          19,
          19,
          29,
          27,
          41,
          17,
          33,
          21,
          19,
          25,
          27,
          21,
          53,
          45,
          35,
          37,
          19,
          19,
          25,
          17,
          39,
          27,
          37,
          37,
          39,
          23,
          49,
          51,
          27,
          42,
          45,
          29,
          13,
          19,
          23,
          29,
          17,
          33,
          25,
          15,
          91
         ],
         "y0": " ",
         "yaxis": "y11"
        },
        {
         "alignmentgroup": "True",
         "hovertemplate": "=%{y}<extra></extra>",
         "legendgroup": "",
         "marker": {
          "color": "#636efa"
         },
         "name": "",
         "notched": false,
         "offsetgroup": "",
         "orientation": "v",
         "showlegend": false,
         "type": "box",
         "x0": " ",
         "xaxis": "x12",
         "y": [
          13,
          15,
          11,
          17,
          17,
          11,
          19,
          9,
          13,
          15,
          31,
          27,
          21,
          27,
          27,
          29,
          39,
          31,
          37,
          19,
          7,
          11,
          13,
          18,
          15,
          13,
          15,
          7,
          11,
          3,
          7,
          19,
          23,
          17,
          11,
          17,
          11,
          5,
          27,
          23,
          7,
          3,
          1,
          5,
          3,
          5,
          5,
          1,
          3,
          1,
          19,
          9,
          17,
          11,
          19,
          25,
          21,
          15,
          15,
          19,
          11,
          9,
          25,
          15,
          21,
          15,
          21,
          5,
          29,
          65,
          13,
          13,
          15,
          11,
          17,
          21,
          15,
          23,
          15,
          23,
          9,
          11,
          9,
          7,
          11,
          7,
          7,
          7,
          9,
          13,
          15,
          11,
          3,
          1,
          3,
          1,
          2,
          1,
          5,
          1,
          55,
          63,
          99,
          101,
          93,
          77,
          88,
          99,
          77,
          73,
          15,
          13,
          21,
          11,
          16,
          15,
          15,
          13,
          19,
          11,
          1,
          3,
          3,
          1,
          2,
          1,
          1,
          1,
          1,
          1,
          2,
          1,
          1,
          1,
          3,
          3,
          1,
          3,
          1,
          1,
          53,
          59,
          55,
          63,
          61,
          69,
          69,
          87,
          73,
          63,
          9,
          19,
          17,
          13,
          13,
          23,
          11,
          11,
          15,
          9,
          5,
          3,
          3,
          3,
          5,
          1,
          6,
          1,
          7,
          3,
          82,
          39,
          37,
          57,
          17,
          51,
          31,
          44,
          51,
          53,
          7,
          5,
          3,
          3,
          3,
          9,
          3,
          7,
          5,
          3,
          13,
          13,
          11,
          17,
          18,
          13,
          18,
          9,
          21,
          15,
          23,
          21,
          45,
          27,
          31,
          37,
          33,
          23,
          39,
          25,
          53,
          41,
          54,
          49,
          57,
          55,
          63,
          57,
          68,
          57,
          5,
          4,
          7,
          13,
          3,
          11,
          11,
          11,
          11,
          11
         ],
         "y0": " ",
         "yaxis": "y12"
        }
       ],
       "layout": {
        "annotations": [
         {
          "font": {
           "size": 16
          },
          "showarrow": false,
          "text": "Data Group: 1, Event Type: 1",
          "x": 0.10625,
          "xanchor": "center",
          "xref": "paper",
          "y": 1,
          "yanchor": "bottom",
          "yref": "paper"
         },
         {
          "font": {
           "size": 16
          },
          "showarrow": false,
          "text": "Data Group: 1, Event Type: 3",
          "x": 0.36875,
          "xanchor": "center",
          "xref": "paper",
          "y": 1,
          "yanchor": "bottom",
          "yref": "paper"
         },
         {
          "font": {
           "size": 16
          },
          "showarrow": false,
          "text": "Data Group: 1, Event Type: 2",
          "x": 0.6312500000000001,
          "xanchor": "center",
          "xref": "paper",
          "y": 1,
          "yanchor": "bottom",
          "yref": "paper"
         },
         {
          "font": {
           "size": 16
          },
          "showarrow": false,
          "text": "Data Group: 1, Event Type: 4",
          "x": 0.89375,
          "xanchor": "center",
          "xref": "paper",
          "y": 1,
          "yanchor": "bottom",
          "yref": "paper"
         },
         {
          "font": {
           "size": 16
          },
          "showarrow": false,
          "text": "Data Group: 2, Event Type: 1",
          "x": 0.10625,
          "xanchor": "center",
          "xref": "paper",
          "y": 0.6111111111111112,
          "yanchor": "bottom",
          "yref": "paper"
         },
         {
          "font": {
           "size": 16
          },
          "showarrow": false,
          "text": "Data Group: 2, Event Type: 3",
          "x": 0.36875,
          "xanchor": "center",
          "xref": "paper",
          "y": 0.6111111111111112,
          "yanchor": "bottom",
          "yref": "paper"
         },
         {
          "font": {
           "size": 16
          },
          "showarrow": false,
          "text": "Data Group: 2, Event Type: 2",
          "x": 0.6312500000000001,
          "xanchor": "center",
          "xref": "paper",
          "y": 0.6111111111111112,
          "yanchor": "bottom",
          "yref": "paper"
         },
         {
          "font": {
           "size": 16
          },
          "showarrow": false,
          "text": "Data Group: 2, Event Type: 4",
          "x": 0.89375,
          "xanchor": "center",
          "xref": "paper",
          "y": 0.6111111111111112,
          "yanchor": "bottom",
          "yref": "paper"
         },
         {
          "font": {
           "size": 16
          },
          "showarrow": false,
          "text": "Data Group: 3, Event Type: 1",
          "x": 0.10625,
          "xanchor": "center",
          "xref": "paper",
          "y": 0.22222222222222224,
          "yanchor": "bottom",
          "yref": "paper"
         },
         {
          "font": {
           "size": 16
          },
          "showarrow": false,
          "text": "Data Group: 3, Event Type: 3",
          "x": 0.36875,
          "xanchor": "center",
          "xref": "paper",
          "y": 0.22222222222222224,
          "yanchor": "bottom",
          "yref": "paper"
         },
         {
          "font": {
           "size": 16
          },
          "showarrow": false,
          "text": "Data Group: 3, Event Type: 2",
          "x": 0.6312500000000001,
          "xanchor": "center",
          "xref": "paper",
          "y": 0.22222222222222224,
          "yanchor": "bottom",
          "yref": "paper"
         },
         {
          "font": {
           "size": 16
          },
          "showarrow": false,
          "text": "Data Group: 3, Event Type: 4",
          "x": 0.89375,
          "xanchor": "center",
          "xref": "paper",
          "y": 0.22222222222222224,
          "yanchor": "bottom",
          "yref": "paper"
         }
        ],
        "height": 800,
        "template": {
         "data": {
          "bar": [
           {
            "error_x": {
             "color": "#2a3f5f"
            },
            "error_y": {
             "color": "#2a3f5f"
            },
            "marker": {
             "line": {
              "color": "#E5ECF6",
              "width": 0.5
             },
             "pattern": {
              "fillmode": "overlay",
              "size": 10,
              "solidity": 0.2
             }
            },
            "type": "bar"
           }
          ],
          "barpolar": [
           {
            "marker": {
             "line": {
              "color": "#E5ECF6",
              "width": 0.5
             },
             "pattern": {
              "fillmode": "overlay",
              "size": 10,
              "solidity": 0.2
             }
            },
            "type": "barpolar"
           }
          ],
          "carpet": [
           {
            "aaxis": {
             "endlinecolor": "#2a3f5f",
             "gridcolor": "white",
             "linecolor": "white",
             "minorgridcolor": "white",
             "startlinecolor": "#2a3f5f"
            },
            "baxis": {
             "endlinecolor": "#2a3f5f",
             "gridcolor": "white",
             "linecolor": "white",
             "minorgridcolor": "white",
             "startlinecolor": "#2a3f5f"
            },
            "type": "carpet"
           }
          ],
          "choropleth": [
           {
            "colorbar": {
             "outlinewidth": 0,
             "ticks": ""
            },
            "type": "choropleth"
           }
          ],
          "contour": [
           {
            "colorbar": {
             "outlinewidth": 0,
             "ticks": ""
            },
            "colorscale": [
             [
              0,
              "#0d0887"
             ],
             [
              0.1111111111111111,
              "#46039f"
             ],
             [
              0.2222222222222222,
              "#7201a8"
             ],
             [
              0.3333333333333333,
              "#9c179e"
             ],
             [
              0.4444444444444444,
              "#bd3786"
             ],
             [
              0.5555555555555556,
              "#d8576b"
             ],
             [
              0.6666666666666666,
              "#ed7953"
             ],
             [
              0.7777777777777778,
              "#fb9f3a"
             ],
             [
              0.8888888888888888,
              "#fdca26"
             ],
             [
              1,
              "#f0f921"
             ]
            ],
            "type": "contour"
           }
          ],
          "contourcarpet": [
           {
            "colorbar": {
             "outlinewidth": 0,
             "ticks": ""
            },
            "type": "contourcarpet"
           }
          ],
          "heatmap": [
           {
            "colorbar": {
             "outlinewidth": 0,
             "ticks": ""
            },
            "colorscale": [
             [
              0,
              "#0d0887"
             ],
             [
              0.1111111111111111,
              "#46039f"
             ],
             [
              0.2222222222222222,
              "#7201a8"
             ],
             [
              0.3333333333333333,
              "#9c179e"
             ],
             [
              0.4444444444444444,
              "#bd3786"
             ],
             [
              0.5555555555555556,
              "#d8576b"
             ],
             [
              0.6666666666666666,
              "#ed7953"
             ],
             [
              0.7777777777777778,
              "#fb9f3a"
             ],
             [
              0.8888888888888888,
              "#fdca26"
             ],
             [
              1,
              "#f0f921"
             ]
            ],
            "type": "heatmap"
           }
          ],
          "heatmapgl": [
           {
            "colorbar": {
             "outlinewidth": 0,
             "ticks": ""
            },
            "colorscale": [
             [
              0,
              "#0d0887"
             ],
             [
              0.1111111111111111,
              "#46039f"
             ],
             [
              0.2222222222222222,
              "#7201a8"
             ],
             [
              0.3333333333333333,
              "#9c179e"
             ],
             [
              0.4444444444444444,
              "#bd3786"
             ],
             [
              0.5555555555555556,
              "#d8576b"
             ],
             [
              0.6666666666666666,
              "#ed7953"
             ],
             [
              0.7777777777777778,
              "#fb9f3a"
             ],
             [
              0.8888888888888888,
              "#fdca26"
             ],
             [
              1,
              "#f0f921"
             ]
            ],
            "type": "heatmapgl"
           }
          ],
          "histogram": [
           {
            "marker": {
             "pattern": {
              "fillmode": "overlay",
              "size": 10,
              "solidity": 0.2
             }
            },
            "type": "histogram"
           }
          ],
          "histogram2d": [
           {
            "colorbar": {
             "outlinewidth": 0,
             "ticks": ""
            },
            "colorscale": [
             [
              0,
              "#0d0887"
             ],
             [
              0.1111111111111111,
              "#46039f"
             ],
             [
              0.2222222222222222,
              "#7201a8"
             ],
             [
              0.3333333333333333,
              "#9c179e"
             ],
             [
              0.4444444444444444,
              "#bd3786"
             ],
             [
              0.5555555555555556,
              "#d8576b"
             ],
             [
              0.6666666666666666,
              "#ed7953"
             ],
             [
              0.7777777777777778,
              "#fb9f3a"
             ],
             [
              0.8888888888888888,
              "#fdca26"
             ],
             [
              1,
              "#f0f921"
             ]
            ],
            "type": "histogram2d"
           }
          ],
          "histogram2dcontour": [
           {
            "colorbar": {
             "outlinewidth": 0,
             "ticks": ""
            },
            "colorscale": [
             [
              0,
              "#0d0887"
             ],
             [
              0.1111111111111111,
              "#46039f"
             ],
             [
              0.2222222222222222,
              "#7201a8"
             ],
             [
              0.3333333333333333,
              "#9c179e"
             ],
             [
              0.4444444444444444,
              "#bd3786"
             ],
             [
              0.5555555555555556,
              "#d8576b"
             ],
             [
              0.6666666666666666,
              "#ed7953"
             ],
             [
              0.7777777777777778,
              "#fb9f3a"
             ],
             [
              0.8888888888888888,
              "#fdca26"
             ],
             [
              1,
              "#f0f921"
             ]
            ],
            "type": "histogram2dcontour"
           }
          ],
          "mesh3d": [
           {
            "colorbar": {
             "outlinewidth": 0,
             "ticks": ""
            },
            "type": "mesh3d"
           }
          ],
          "parcoords": [
           {
            "line": {
             "colorbar": {
              "outlinewidth": 0,
              "ticks": ""
             }
            },
            "type": "parcoords"
           }
          ],
          "pie": [
           {
            "automargin": true,
            "type": "pie"
           }
          ],
          "scatter": [
           {
            "fillpattern": {
             "fillmode": "overlay",
             "size": 10,
             "solidity": 0.2
            },
            "type": "scatter"
           }
          ],
          "scatter3d": [
           {
            "line": {
             "colorbar": {
              "outlinewidth": 0,
              "ticks": ""
             }
            },
            "marker": {
             "colorbar": {
              "outlinewidth": 0,
              "ticks": ""
             }
            },
            "type": "scatter3d"
           }
          ],
          "scattercarpet": [
           {
            "marker": {
             "colorbar": {
              "outlinewidth": 0,
              "ticks": ""
             }
            },
            "type": "scattercarpet"
           }
          ],
          "scattergeo": [
           {
            "marker": {
             "colorbar": {
              "outlinewidth": 0,
              "ticks": ""
             }
            },
            "type": "scattergeo"
           }
          ],
          "scattergl": [
           {
            "marker": {
             "colorbar": {
              "outlinewidth": 0,
              "ticks": ""
             }
            },
            "type": "scattergl"
           }
          ],
          "scattermapbox": [
           {
            "marker": {
             "colorbar": {
              "outlinewidth": 0,
              "ticks": ""
             }
            },
            "type": "scattermapbox"
           }
          ],
          "scatterpolar": [
           {
            "marker": {
             "colorbar": {
              "outlinewidth": 0,
              "ticks": ""
             }
            },
            "type": "scatterpolar"
           }
          ],
          "scatterpolargl": [
           {
            "marker": {
             "colorbar": {
              "outlinewidth": 0,
              "ticks": ""
             }
            },
            "type": "scatterpolargl"
           }
          ],
          "scatterternary": [
           {
            "marker": {
             "colorbar": {
              "outlinewidth": 0,
              "ticks": ""
             }
            },
            "type": "scatterternary"
           }
          ],
          "surface": [
           {
            "colorbar": {
             "outlinewidth": 0,
             "ticks": ""
            },
            "colorscale": [
             [
              0,
              "#0d0887"
             ],
             [
              0.1111111111111111,
              "#46039f"
             ],
             [
              0.2222222222222222,
              "#7201a8"
             ],
             [
              0.3333333333333333,
              "#9c179e"
             ],
             [
              0.4444444444444444,
              "#bd3786"
             ],
             [
              0.5555555555555556,
              "#d8576b"
             ],
             [
              0.6666666666666666,
              "#ed7953"
             ],
             [
              0.7777777777777778,
              "#fb9f3a"
             ],
             [
              0.8888888888888888,
              "#fdca26"
             ],
             [
              1,
              "#f0f921"
             ]
            ],
            "type": "surface"
           }
          ],
          "table": [
           {
            "cells": {
             "fill": {
              "color": "#EBF0F8"
             },
             "line": {
              "color": "white"
             }
            },
            "header": {
             "fill": {
              "color": "#C8D4E3"
             },
             "line": {
              "color": "white"
             }
            },
            "type": "table"
           }
          ]
         },
         "layout": {
          "annotationdefaults": {
           "arrowcolor": "#2a3f5f",
           "arrowhead": 0,
           "arrowwidth": 1
          },
          "autotypenumbers": "strict",
          "coloraxis": {
           "colorbar": {
            "outlinewidth": 0,
            "ticks": ""
           }
          },
          "colorscale": {
           "diverging": [
            [
             0,
             "#8e0152"
            ],
            [
             0.1,
             "#c51b7d"
            ],
            [
             0.2,
             "#de77ae"
            ],
            [
             0.3,
             "#f1b6da"
            ],
            [
             0.4,
             "#fde0ef"
            ],
            [
             0.5,
             "#f7f7f7"
            ],
            [
             0.6,
             "#e6f5d0"
            ],
            [
             0.7,
             "#b8e186"
            ],
            [
             0.8,
             "#7fbc41"
            ],
            [
             0.9,
             "#4d9221"
            ],
            [
             1,
             "#276419"
            ]
           ],
           "sequential": [
            [
             0,
             "#0d0887"
            ],
            [
             0.1111111111111111,
             "#46039f"
            ],
            [
             0.2222222222222222,
             "#7201a8"
            ],
            [
             0.3333333333333333,
             "#9c179e"
            ],
            [
             0.4444444444444444,
             "#bd3786"
            ],
            [
             0.5555555555555556,
             "#d8576b"
            ],
            [
             0.6666666666666666,
             "#ed7953"
            ],
            [
             0.7777777777777778,
             "#fb9f3a"
            ],
            [
             0.8888888888888888,
             "#fdca26"
            ],
            [
             1,
             "#f0f921"
            ]
           ],
           "sequentialminus": [
            [
             0,
             "#0d0887"
            ],
            [
             0.1111111111111111,
             "#46039f"
            ],
            [
             0.2222222222222222,
             "#7201a8"
            ],
            [
             0.3333333333333333,
             "#9c179e"
            ],
            [
             0.4444444444444444,
             "#bd3786"
            ],
            [
             0.5555555555555556,
             "#d8576b"
            ],
            [
             0.6666666666666666,
             "#ed7953"
            ],
            [
             0.7777777777777778,
             "#fb9f3a"
            ],
            [
             0.8888888888888888,
             "#fdca26"
            ],
            [
             1,
             "#f0f921"
            ]
           ]
          },
          "colorway": [
           "#636efa",
           "#EF553B",
           "#00cc96",
           "#ab63fa",
           "#FFA15A",
           "#19d3f3",
           "#FF6692",
           "#B6E880",
           "#FF97FF",
           "#FECB52"
          ],
          "font": {
           "color": "#2a3f5f"
          },
          "geo": {
           "bgcolor": "white",
           "lakecolor": "white",
           "landcolor": "#E5ECF6",
           "showlakes": true,
           "showland": true,
           "subunitcolor": "white"
          },
          "hoverlabel": {
           "align": "left"
          },
          "hovermode": "closest",
          "mapbox": {
           "style": "light"
          },
          "paper_bgcolor": "white",
          "plot_bgcolor": "#E5ECF6",
          "polar": {
           "angularaxis": {
            "gridcolor": "white",
            "linecolor": "white",
            "ticks": ""
           },
           "bgcolor": "#E5ECF6",
           "radialaxis": {
            "gridcolor": "white",
            "linecolor": "white",
            "ticks": ""
           }
          },
          "scene": {
           "xaxis": {
            "backgroundcolor": "#E5ECF6",
            "gridcolor": "white",
            "gridwidth": 2,
            "linecolor": "white",
            "showbackground": true,
            "ticks": "",
            "zerolinecolor": "white"
           },
           "yaxis": {
            "backgroundcolor": "#E5ECF6",
            "gridcolor": "white",
            "gridwidth": 2,
            "linecolor": "white",
            "showbackground": true,
            "ticks": "",
            "zerolinecolor": "white"
           },
           "zaxis": {
            "backgroundcolor": "#E5ECF6",
            "gridcolor": "white",
            "gridwidth": 2,
            "linecolor": "white",
            "showbackground": true,
            "ticks": "",
            "zerolinecolor": "white"
           }
          },
          "shapedefaults": {
           "line": {
            "color": "#2a3f5f"
           }
          },
          "ternary": {
           "aaxis": {
            "gridcolor": "white",
            "linecolor": "white",
            "ticks": ""
           },
           "baxis": {
            "gridcolor": "white",
            "linecolor": "white",
            "ticks": ""
           },
           "bgcolor": "#E5ECF6",
           "caxis": {
            "gridcolor": "white",
            "linecolor": "white",
            "ticks": ""
           }
          },
          "title": {
           "x": 0.05
          },
          "xaxis": {
           "automargin": true,
           "gridcolor": "white",
           "linecolor": "white",
           "ticks": "",
           "title": {
            "standoff": 15
           },
           "zerolinecolor": "white",
           "zerolinewidth": 2
          },
          "yaxis": {
           "automargin": true,
           "gridcolor": "white",
           "linecolor": "white",
           "ticks": "",
           "title": {
            "standoff": 15
           },
           "zerolinecolor": "white",
           "zerolinewidth": 2
          }
         }
        },
        "title": {
         "text": "Distribution of NCV by Data Group and Event Type"
        },
        "width": 1200,
        "xaxis": {
         "anchor": "y",
         "domain": [
          0,
          0.2125
         ],
         "matches": "x9",
         "showticklabels": false
        },
        "xaxis10": {
         "anchor": "y10",
         "domain": [
          0.2625,
          0.475
         ]
        },
        "xaxis11": {
         "anchor": "y11",
         "domain": [
          0.525,
          0.7375
         ]
        },
        "xaxis12": {
         "anchor": "y12",
         "domain": [
          0.7875,
          1
         ]
        },
        "xaxis2": {
         "anchor": "y2",
         "domain": [
          0.2625,
          0.475
         ],
         "matches": "x10",
         "showticklabels": false
        },
        "xaxis3": {
         "anchor": "y3",
         "domain": [
          0.525,
          0.7375
         ],
         "matches": "x11",
         "showticklabels": false
        },
        "xaxis4": {
         "anchor": "y4",
         "domain": [
          0.7875,
          1
         ],
         "matches": "x12",
         "showticklabels": false
        },
        "xaxis5": {
         "anchor": "y5",
         "domain": [
          0,
          0.2125
         ],
         "matches": "x9",
         "showticklabels": false
        },
        "xaxis6": {
         "anchor": "y6",
         "domain": [
          0.2625,
          0.475
         ],
         "matches": "x10",
         "showticklabels": false
        },
        "xaxis7": {
         "anchor": "y7",
         "domain": [
          0.525,
          0.7375
         ],
         "matches": "x11",
         "showticklabels": false
        },
        "xaxis8": {
         "anchor": "y8",
         "domain": [
          0.7875,
          1
         ],
         "matches": "x12",
         "showticklabels": false
        },
        "xaxis9": {
         "anchor": "y9",
         "domain": [
          0,
          0.2125
         ]
        },
        "yaxis": {
         "anchor": "x",
         "domain": [
          0.7777777777777778,
          1
         ]
        },
        "yaxis10": {
         "anchor": "x10",
         "domain": [
          0,
          0.22222222222222224
         ],
         "matches": "y9",
         "showticklabels": false
        },
        "yaxis11": {
         "anchor": "x11",
         "domain": [
          0,
          0.22222222222222224
         ],
         "matches": "y9",
         "showticklabels": false
        },
        "yaxis12": {
         "anchor": "x12",
         "domain": [
          0,
          0.22222222222222224
         ],
         "matches": "y9",
         "showticklabels": false
        },
        "yaxis2": {
         "anchor": "x2",
         "domain": [
          0.7777777777777778,
          1
         ],
         "matches": "y",
         "showticklabels": false
        },
        "yaxis3": {
         "anchor": "x3",
         "domain": [
          0.7777777777777778,
          1
         ],
         "matches": "y",
         "showticklabels": false
        },
        "yaxis4": {
         "anchor": "x4",
         "domain": [
          0.7777777777777778,
          1
         ],
         "matches": "y",
         "showticklabels": false
        },
        "yaxis5": {
         "anchor": "x5",
         "domain": [
          0.3888888888888889,
          0.6111111111111112
         ]
        },
        "yaxis6": {
         "anchor": "x6",
         "domain": [
          0.3888888888888889,
          0.6111111111111112
         ],
         "matches": "y5",
         "showticklabels": false
        },
        "yaxis7": {
         "anchor": "x7",
         "domain": [
          0.3888888888888889,
          0.6111111111111112
         ],
         "matches": "y5",
         "showticklabels": false
        },
        "yaxis8": {
         "anchor": "x8",
         "domain": [
          0.3888888888888889,
          0.6111111111111112
         ],
         "matches": "y5",
         "showticklabels": false
        },
        "yaxis9": {
         "anchor": "x9",
         "domain": [
          0,
          0.22222222222222224
         ]
        }
       }
      }
     },
     "metadata": {},
     "output_type": "display_data"
    }
   ],
   "source": [
    "import pandas as pd\n",
    "import plotly.express as px\n",
    "from plotly.subplots import make_subplots\n",
    "\n",
    "# Create the DataFrame as you've shown\n",
    "\n",
    "# Get unique data_group and event_type combinations\n",
    "data_groups = df[\"data_group\"].unique()\n",
    "event_types = df[\"event_type\"].unique()\n",
    "\n",
    "# Define figure size\n",
    "fig = make_subplots(rows=len(data_groups), cols=len(event_types), shared_xaxes=True, shared_yaxes=True,\n",
    "                    subplot_titles=[\"Data Group: \" + str(dg) + \", Event Type: \" + str(et) \n",
    "                                    for dg in data_groups for et in event_types])\n",
    "\n",
    "# Initialize subplot indices\n",
    "row = 1\n",
    "col = 1\n",
    "\n",
    "for data_group in data_groups:\n",
    "    col = 1\n",
    "    for event_type in event_types:\n",
    "        subset = df[(df[\"data_group\"] == data_group) & (df[\"event_type\"] == event_type)]\n",
    "\n",
    "        # Create a vertical box plot for NCA\n",
    "        trace = px.box(subset, y=\"NCA\", orientation=\"v\", labels={\"NCA\": \"\"})\n",
    "        fig.add_trace(trace.data[0], row=row, col=col)\n",
    "\n",
    "        col += 1\n",
    "\n",
    "    row += 1\n",
    "\n",
    "# Define figure layout for NCA\n",
    "fig.update_layout(title_text=\"Distribution of NCA by Data Group and Event Type\")\n",
    "# fig.update_xaxes(title_text=\"Data Group\")\n",
    "# fig.update_yaxes(title_text=\"NCA\")\n",
    "\n",
    "# Adjust figure size for NCA\n",
    "fig.update_layout(height=800, width=1200)\n",
    "\n",
    "# Show the figure for NCA\n",
    "fig.show()\n",
    "\n",
    "# Create a new figure for NCV\n",
    "fig = make_subplots(rows=len(data_groups), cols=len(event_types), shared_xaxes=True, shared_yaxes=True,\n",
    "                    subplot_titles=[\"Data Group: \" + str(dg) + \", Event Type: \" + str(et) \n",
    "                                    for dg in data_groups for et in event_types])\n",
    "\n",
    "# Reset subplot indices\n",
    "row = 1\n",
    "col = 1\n",
    "\n",
    "for data_group in data_groups:\n",
    "    col = 1\n",
    "    for event_type in event_types:\n",
    "        subset = df[(df[\"data_group\"] == data_group) & (df[\"event_type\"] == event_type)]\n",
    "\n",
    "        # Create a vertical box plot for NCV\n",
    "        trace = px.box(subset, y=\"NCV\", orientation=\"v\", labels={\"NCV\": \"\"})\n",
    "        fig.add_trace(trace.data[0], row=row, col=col)\n",
    "\n",
    "        col += 1\n",
    "\n",
    "    row += 1\n",
    "\n",
    "# Define figure layout for NCV\n",
    "fig.update_layout(title_text=\"Distribution of NCV by Data Group and Event Type\")\n",
    "\n",
    "# Adjust figure size for NCV\n",
    "fig.update_layout(height=800, width=1200)\n",
    "\n",
    "# Show the figure for NCV\n",
    "fig.show()\n",
    "\n",
    "\n"
   ]
  },
  {
   "cell_type": "code",
   "execution_count": 16,
   "metadata": {},
   "outputs": [
    {
     "data": {
      "application/vnd.plotly.v1+json": {
       "config": {
        "plotlyServerURL": "https://plot.ly"
       },
       "data": [
        {
         "alignmentgroup": "True",
         "hovertemplate": "NCA=%{y}<extra></extra>",
         "legendgroup": "",
         "marker": {
          "color": "#636efa"
         },
         "name": "",
         "notched": false,
         "offsetgroup": "",
         "orientation": "v",
         "showlegend": false,
         "type": "box",
         "x0": " ",
         "xaxis": "x",
         "y": [
          107,
          100,
          67,
          152,
          92,
          67,
          69,
          97,
          80,
          104,
          70,
          68,
          66,
          60,
          55,
          110,
          65,
          43,
          55,
          48,
          54,
          43,
          58,
          51,
          107,
          102,
          72,
          68,
          56,
          102,
          38,
          94,
          63,
          43,
          52,
          33,
          62,
          39,
          110,
          45,
          50,
          74,
          67,
          74,
          109,
          33,
          61,
          78,
          73,
          69,
          74,
          110,
          85,
          74,
          86,
          57,
          88,
          51,
          81,
          56,
          87,
          50,
          104,
          67,
          49,
          145,
          108,
          55,
          51,
          54,
          77,
          77,
          87,
          46,
          85,
          73,
          89,
          52,
          55,
          77,
          58,
          23,
          55,
          40,
          74,
          135,
          24,
          90,
          22,
          87,
          22,
          62,
          60,
          19,
          137,
          115,
          71,
          68,
          60,
          69,
          65,
          104,
          118,
          72,
          118,
          51,
          135,
          148,
          63,
          121,
          18,
          60,
          67,
          86,
          16,
          148,
          16,
          85,
          122,
          18,
          137,
          90,
          42,
          42,
          76,
          64,
          334,
          36,
          59,
          50,
          44,
          61,
          44,
          49,
          68,
          121,
          71,
          130,
          77,
          145,
          60,
          139,
          81,
          37,
          62,
          42,
          40,
          37,
          72,
          77,
          147,
          44,
          120,
          40,
          92,
          146,
          38,
          142,
          54,
          42,
          53,
          43,
          55,
          73,
          52,
          86,
          74,
          39,
          81,
          80,
          82,
          45,
          64,
          28,
          78,
          55,
          79,
          96,
          43,
          66,
          62,
          46,
          93,
          82,
          84,
          41,
          88,
          62,
          57,
          42,
          63,
          80,
          39,
          47,
          42,
          71,
          37,
          40,
          43,
          87,
          73,
          46,
          56,
          45,
          53,
          64,
          50,
          111,
          80,
          51,
          68,
          56,
          116,
          101,
          42,
          64,
          99,
          68,
          65,
          55,
          43,
          70,
          54,
          48,
          124,
          77,
          80,
          54,
          57,
          51,
          65,
          42,
          53,
          59,
          50,
          94,
          51,
          42,
          75,
          49,
          46,
          52,
          52,
          46,
          45,
          43,
          65,
          37,
          70,
          78,
          90,
          40,
          61,
          66,
          51,
          193,
          46,
          51,
          47,
          57,
          83,
          57,
          82,
          92,
          51,
          51,
          40,
          36,
          61,
          40,
          67,
          59,
          87,
          59,
          48,
          70,
          54,
          70,
          42,
          59,
          138,
          38,
          310,
          79,
          192,
          88,
          178,
          71,
          173,
          54,
          77,
          39,
          158,
          53,
          124,
          140,
          62,
          74,
          61,
          57,
          91,
          53,
          156,
          53,
          146,
          85,
          105,
          144,
          43,
          96,
          47,
          157,
          74,
          62,
          93,
          70,
          170,
          121,
          40,
          164,
          58,
          74,
          124,
          53,
          65,
          87,
          45,
          134,
          77,
          74,
          134,
          73,
          97,
          72,
          77,
          46,
          88,
          51,
          99,
          65,
          65,
          115,
          54,
          80,
          68,
          55,
          99,
          61,
          69,
          81,
          51,
          68,
          108,
          58,
          101,
          55,
          85,
          63,
          68,
          84,
          45,
          84,
          42,
          37,
          33,
          73,
          125,
          50,
          66,
          50,
          151,
          44,
          133,
          86,
          125,
          32,
          78,
          42,
          46,
          91,
          81,
          46,
          161,
          48,
          114,
          62,
          47,
          40,
          55,
          26,
          117,
          66,
          131,
          37,
          151,
          39,
          128,
          66,
          124,
          93,
          19,
          81,
          19,
          111,
          125,
          80,
          111,
          67,
          74,
          80,
          95,
          21,
          69,
          94,
          116,
          26,
          67,
          31,
          109,
          25,
          64,
          22,
          98,
          125,
          65,
          70,
          112,
          28,
          72,
          77,
          107,
          79,
          60,
          90,
          88,
          109,
          26,
          114,
          15,
          70,
          62,
          52,
          44,
          50,
          48,
          84,
          42,
          42,
          43,
          46,
          84,
          53,
          46,
          68,
          39,
          46,
          52,
          44,
          49,
          35,
          41,
          75,
          48,
          78,
          53,
          54,
          44,
          52,
          44,
          44,
          64,
          52,
          40,
          68,
          40,
          92,
          94,
          87,
          54,
          39,
          46,
          51,
          71,
          84,
          85,
          47,
          63,
          40,
          87,
          38,
          43,
          46,
          37,
          109,
          43,
          34,
          68,
          50,
          41,
          39,
          82,
          45,
          66,
          88,
          78,
          69,
          53,
          94,
          77,
          38,
          77,
          37,
          60,
          96,
          54,
          37,
          55,
          38,
          60,
          98,
          60,
          39,
          59,
          60,
          74,
          97,
          76,
          46,
          153,
          62,
          71,
          86,
          52,
          113,
          55,
          75,
          54,
          60,
          62,
          63,
          82,
          97,
          75,
          96,
          43,
          42,
          57,
          52,
          77,
          40,
          48,
          70,
          56,
          84,
          56,
          41,
          42,
          46,
          34,
          78,
          80,
          57,
          64,
          41,
          99,
          55,
          72,
          114,
          69,
          38,
          72,
          69,
          64,
          47,
          76,
          50,
          95,
          62,
          129,
          79,
          71,
          79,
          66,
          111,
          83,
          101,
          70,
          72,
          90,
          69,
          67,
          97,
          87,
          88,
          73,
          59,
          57,
          90,
          59,
          56,
          60,
          106,
          66,
          75,
          102,
          79,
          70,
          93,
          88,
          115,
          127,
          98,
          63,
          56,
          70,
          46,
          81,
          74,
          63,
          59,
          69,
          97,
          78,
          92,
          57,
          106,
          48,
          56,
          59,
          98,
          40,
          102,
          50,
          105,
          78,
          112,
          75,
          60,
          58,
          57,
          481,
          66,
          117,
          103,
          26,
          92,
          111,
          26,
          144,
          28,
          69,
          69,
          27,
          50,
          30,
          71,
          75,
          121,
          116,
          90,
          29,
          129,
          30,
          91,
          30,
          59,
          32,
          56,
          83,
          57,
          57,
          32,
          56,
          92,
          62,
          68,
          71,
          103,
          66,
          70,
          64,
          139,
          50,
          76,
          146,
          52,
          78,
          107,
          102,
          93,
          57,
          46,
          113,
          92,
          60,
          88,
          64,
          56,
          92,
          107,
          61,
          67,
          70,
          51,
          114,
          123,
          84,
          97,
          52,
          59,
          58,
          58,
          81,
          61,
          55,
          52,
          87,
          63,
          69,
          65,
          86,
          62,
          47,
          74,
          41,
          84,
          44,
          91,
          78,
          113,
          64,
          86,
          99,
          77,
          88,
          123,
          44,
          57,
          48,
          109,
          108,
          78,
          51,
          61,
          53,
          106,
          75,
          42,
          75,
          105,
          45,
          84,
          54,
          106,
          97,
          89,
          78,
          99,
          63,
          90,
          62,
          88,
          57,
          48,
          45,
          79,
          58,
          48,
          62,
          89,
          66,
          98,
          75,
          36,
          72,
          49,
          73,
          63,
          75,
          48,
          43,
          78,
          74,
          60,
          79,
          54,
          86,
          62,
          87,
          66,
          53,
          78,
          99,
          56,
          79,
          110,
          84,
          62,
          125,
          64,
          56,
          92,
          49,
          40,
          46,
          57,
          47,
          38,
          64,
          39,
          44,
          40,
          51,
          84,
          41,
          51,
          45,
          27,
          62,
          44,
          44,
          50,
          53,
          46,
          57,
          42,
          75,
          53,
          60,
          55,
          56,
          47,
          80,
          45,
          103,
          57,
          80,
          52,
          38,
          52,
          110,
          167,
          98,
          203,
          67,
          170,
          175,
          178,
          79,
          171,
          89,
          175,
          53,
          163,
          176,
          167,
          125,
          73,
          118,
          162,
          137,
          125,
          73,
          162,
          48,
          83,
          91,
          91,
          70,
          171,
          78,
          142,
          58,
          75,
          74,
          149,
          69,
          95,
          93,
          116,
          82,
          327,
          144,
          361,
          144,
          42,
          142,
          123,
          84,
          91,
          98,
          58,
          77,
          72,
          82,
          102,
          50,
          105,
          67,
          85,
          86,
          108,
          83,
          54,
          174,
          102,
          117,
          60,
          106,
          85,
          55,
          51,
          130,
          106,
          57,
          102,
          86,
          96,
          60,
          96,
          86,
          81,
          37,
          44,
          33,
          45,
          31,
          87,
          29,
          107,
          43,
          43,
          123,
          32,
          81,
          85,
          111,
          59,
          55,
          134,
          57,
          28,
          96,
          62,
          70,
          31,
          62,
          33,
          85,
          78,
          56,
          50,
          97,
          34,
          136,
          107,
          123,
          69,
          89,
          56,
          32,
          111,
          62,
          54,
          52,
          31,
          61,
          32,
          91,
          86,
          47,
          98,
          30,
          58,
          74,
          23,
          40,
          25,
          124,
          60,
          113,
          56,
          59,
          46,
          69,
          65,
          110,
          51,
          90,
          52,
          49,
          56,
          30,
          75,
          25,
          53,
          28,
          74,
          24,
          86,
          67,
          67,
          70,
          77,
          58,
          86,
          54,
          73,
          67,
          86,
          49,
          78,
          58,
          59,
          61,
          52,
          83,
          80,
          53,
          78,
          110,
          95,
          63,
          53,
          78,
          99,
          75,
          102,
          51,
          86,
          67,
          82,
          83,
          65,
          52,
          85,
          90,
          99,
          50,
          80,
          137,
          79,
          63,
          56,
          75,
          54,
          125,
          64,
          104,
          93,
          123,
          68,
          44,
          133,
          136,
          81,
          136,
          49,
          130,
          74,
          68,
          120,
          56,
          122,
          75,
          105,
          146,
          83,
          88,
          82,
          113,
          47,
          124,
          44,
          56,
          75,
          88,
          54,
          66,
          126,
          78,
          53,
          55,
          90,
          80,
          46,
          57,
          47,
          69,
          79,
          146,
          50,
          58,
          47,
          61,
          50,
          46,
          113,
          60,
          51,
          113,
          49,
          102,
          58,
          45,
          56,
          94,
          64,
          43,
          46,
          49,
          74,
          81,
          52,
          50,
          61,
          44,
          53,
          44,
          37,
          220,
          55,
          145,
          97,
          71,
          141,
          60,
          74,
          126,
          91,
          50,
          61,
          60,
          122,
          58,
          123,
          81,
          121,
          49,
          131,
          51,
          145,
          53,
          108,
          80,
          79,
          50,
          126,
          67,
          131,
          98,
          88,
          79,
          66,
          129,
          119,
          69,
          75,
          118,
          46
         ],
         "y0": " ",
         "yaxis": "y"
        }
       ],
       "layout": {
        "boxmode": "group",
        "legend": {
         "tracegroupgap": 0
        },
        "template": {
         "data": {
          "bar": [
           {
            "error_x": {
             "color": "#2a3f5f"
            },
            "error_y": {
             "color": "#2a3f5f"
            },
            "marker": {
             "line": {
              "color": "#E5ECF6",
              "width": 0.5
             },
             "pattern": {
              "fillmode": "overlay",
              "size": 10,
              "solidity": 0.2
             }
            },
            "type": "bar"
           }
          ],
          "barpolar": [
           {
            "marker": {
             "line": {
              "color": "#E5ECF6",
              "width": 0.5
             },
             "pattern": {
              "fillmode": "overlay",
              "size": 10,
              "solidity": 0.2
             }
            },
            "type": "barpolar"
           }
          ],
          "carpet": [
           {
            "aaxis": {
             "endlinecolor": "#2a3f5f",
             "gridcolor": "white",
             "linecolor": "white",
             "minorgridcolor": "white",
             "startlinecolor": "#2a3f5f"
            },
            "baxis": {
             "endlinecolor": "#2a3f5f",
             "gridcolor": "white",
             "linecolor": "white",
             "minorgridcolor": "white",
             "startlinecolor": "#2a3f5f"
            },
            "type": "carpet"
           }
          ],
          "choropleth": [
           {
            "colorbar": {
             "outlinewidth": 0,
             "ticks": ""
            },
            "type": "choropleth"
           }
          ],
          "contour": [
           {
            "colorbar": {
             "outlinewidth": 0,
             "ticks": ""
            },
            "colorscale": [
             [
              0,
              "#0d0887"
             ],
             [
              0.1111111111111111,
              "#46039f"
             ],
             [
              0.2222222222222222,
              "#7201a8"
             ],
             [
              0.3333333333333333,
              "#9c179e"
             ],
             [
              0.4444444444444444,
              "#bd3786"
             ],
             [
              0.5555555555555556,
              "#d8576b"
             ],
             [
              0.6666666666666666,
              "#ed7953"
             ],
             [
              0.7777777777777778,
              "#fb9f3a"
             ],
             [
              0.8888888888888888,
              "#fdca26"
             ],
             [
              1,
              "#f0f921"
             ]
            ],
            "type": "contour"
           }
          ],
          "contourcarpet": [
           {
            "colorbar": {
             "outlinewidth": 0,
             "ticks": ""
            },
            "type": "contourcarpet"
           }
          ],
          "heatmap": [
           {
            "colorbar": {
             "outlinewidth": 0,
             "ticks": ""
            },
            "colorscale": [
             [
              0,
              "#0d0887"
             ],
             [
              0.1111111111111111,
              "#46039f"
             ],
             [
              0.2222222222222222,
              "#7201a8"
             ],
             [
              0.3333333333333333,
              "#9c179e"
             ],
             [
              0.4444444444444444,
              "#bd3786"
             ],
             [
              0.5555555555555556,
              "#d8576b"
             ],
             [
              0.6666666666666666,
              "#ed7953"
             ],
             [
              0.7777777777777778,
              "#fb9f3a"
             ],
             [
              0.8888888888888888,
              "#fdca26"
             ],
             [
              1,
              "#f0f921"
             ]
            ],
            "type": "heatmap"
           }
          ],
          "heatmapgl": [
           {
            "colorbar": {
             "outlinewidth": 0,
             "ticks": ""
            },
            "colorscale": [
             [
              0,
              "#0d0887"
             ],
             [
              0.1111111111111111,
              "#46039f"
             ],
             [
              0.2222222222222222,
              "#7201a8"
             ],
             [
              0.3333333333333333,
              "#9c179e"
             ],
             [
              0.4444444444444444,
              "#bd3786"
             ],
             [
              0.5555555555555556,
              "#d8576b"
             ],
             [
              0.6666666666666666,
              "#ed7953"
             ],
             [
              0.7777777777777778,
              "#fb9f3a"
             ],
             [
              0.8888888888888888,
              "#fdca26"
             ],
             [
              1,
              "#f0f921"
             ]
            ],
            "type": "heatmapgl"
           }
          ],
          "histogram": [
           {
            "marker": {
             "pattern": {
              "fillmode": "overlay",
              "size": 10,
              "solidity": 0.2
             }
            },
            "type": "histogram"
           }
          ],
          "histogram2d": [
           {
            "colorbar": {
             "outlinewidth": 0,
             "ticks": ""
            },
            "colorscale": [
             [
              0,
              "#0d0887"
             ],
             [
              0.1111111111111111,
              "#46039f"
             ],
             [
              0.2222222222222222,
              "#7201a8"
             ],
             [
              0.3333333333333333,
              "#9c179e"
             ],
             [
              0.4444444444444444,
              "#bd3786"
             ],
             [
              0.5555555555555556,
              "#d8576b"
             ],
             [
              0.6666666666666666,
              "#ed7953"
             ],
             [
              0.7777777777777778,
              "#fb9f3a"
             ],
             [
              0.8888888888888888,
              "#fdca26"
             ],
             [
              1,
              "#f0f921"
             ]
            ],
            "type": "histogram2d"
           }
          ],
          "histogram2dcontour": [
           {
            "colorbar": {
             "outlinewidth": 0,
             "ticks": ""
            },
            "colorscale": [
             [
              0,
              "#0d0887"
             ],
             [
              0.1111111111111111,
              "#46039f"
             ],
             [
              0.2222222222222222,
              "#7201a8"
             ],
             [
              0.3333333333333333,
              "#9c179e"
             ],
             [
              0.4444444444444444,
              "#bd3786"
             ],
             [
              0.5555555555555556,
              "#d8576b"
             ],
             [
              0.6666666666666666,
              "#ed7953"
             ],
             [
              0.7777777777777778,
              "#fb9f3a"
             ],
             [
              0.8888888888888888,
              "#fdca26"
             ],
             [
              1,
              "#f0f921"
             ]
            ],
            "type": "histogram2dcontour"
           }
          ],
          "mesh3d": [
           {
            "colorbar": {
             "outlinewidth": 0,
             "ticks": ""
            },
            "type": "mesh3d"
           }
          ],
          "parcoords": [
           {
            "line": {
             "colorbar": {
              "outlinewidth": 0,
              "ticks": ""
             }
            },
            "type": "parcoords"
           }
          ],
          "pie": [
           {
            "automargin": true,
            "type": "pie"
           }
          ],
          "scatter": [
           {
            "fillpattern": {
             "fillmode": "overlay",
             "size": 10,
             "solidity": 0.2
            },
            "type": "scatter"
           }
          ],
          "scatter3d": [
           {
            "line": {
             "colorbar": {
              "outlinewidth": 0,
              "ticks": ""
             }
            },
            "marker": {
             "colorbar": {
              "outlinewidth": 0,
              "ticks": ""
             }
            },
            "type": "scatter3d"
           }
          ],
          "scattercarpet": [
           {
            "marker": {
             "colorbar": {
              "outlinewidth": 0,
              "ticks": ""
             }
            },
            "type": "scattercarpet"
           }
          ],
          "scattergeo": [
           {
            "marker": {
             "colorbar": {
              "outlinewidth": 0,
              "ticks": ""
             }
            },
            "type": "scattergeo"
           }
          ],
          "scattergl": [
           {
            "marker": {
             "colorbar": {
              "outlinewidth": 0,
              "ticks": ""
             }
            },
            "type": "scattergl"
           }
          ],
          "scattermapbox": [
           {
            "marker": {
             "colorbar": {
              "outlinewidth": 0,
              "ticks": ""
             }
            },
            "type": "scattermapbox"
           }
          ],
          "scatterpolar": [
           {
            "marker": {
             "colorbar": {
              "outlinewidth": 0,
              "ticks": ""
             }
            },
            "type": "scatterpolar"
           }
          ],
          "scatterpolargl": [
           {
            "marker": {
             "colorbar": {
              "outlinewidth": 0,
              "ticks": ""
             }
            },
            "type": "scatterpolargl"
           }
          ],
          "scatterternary": [
           {
            "marker": {
             "colorbar": {
              "outlinewidth": 0,
              "ticks": ""
             }
            },
            "type": "scatterternary"
           }
          ],
          "surface": [
           {
            "colorbar": {
             "outlinewidth": 0,
             "ticks": ""
            },
            "colorscale": [
             [
              0,
              "#0d0887"
             ],
             [
              0.1111111111111111,
              "#46039f"
             ],
             [
              0.2222222222222222,
              "#7201a8"
             ],
             [
              0.3333333333333333,
              "#9c179e"
             ],
             [
              0.4444444444444444,
              "#bd3786"
             ],
             [
              0.5555555555555556,
              "#d8576b"
             ],
             [
              0.6666666666666666,
              "#ed7953"
             ],
             [
              0.7777777777777778,
              "#fb9f3a"
             ],
             [
              0.8888888888888888,
              "#fdca26"
             ],
             [
              1,
              "#f0f921"
             ]
            ],
            "type": "surface"
           }
          ],
          "table": [
           {
            "cells": {
             "fill": {
              "color": "#EBF0F8"
             },
             "line": {
              "color": "white"
             }
            },
            "header": {
             "fill": {
              "color": "#C8D4E3"
             },
             "line": {
              "color": "white"
             }
            },
            "type": "table"
           }
          ]
         },
         "layout": {
          "annotationdefaults": {
           "arrowcolor": "#2a3f5f",
           "arrowhead": 0,
           "arrowwidth": 1
          },
          "autotypenumbers": "strict",
          "coloraxis": {
           "colorbar": {
            "outlinewidth": 0,
            "ticks": ""
           }
          },
          "colorscale": {
           "diverging": [
            [
             0,
             "#8e0152"
            ],
            [
             0.1,
             "#c51b7d"
            ],
            [
             0.2,
             "#de77ae"
            ],
            [
             0.3,
             "#f1b6da"
            ],
            [
             0.4,
             "#fde0ef"
            ],
            [
             0.5,
             "#f7f7f7"
            ],
            [
             0.6,
             "#e6f5d0"
            ],
            [
             0.7,
             "#b8e186"
            ],
            [
             0.8,
             "#7fbc41"
            ],
            [
             0.9,
             "#4d9221"
            ],
            [
             1,
             "#276419"
            ]
           ],
           "sequential": [
            [
             0,
             "#0d0887"
            ],
            [
             0.1111111111111111,
             "#46039f"
            ],
            [
             0.2222222222222222,
             "#7201a8"
            ],
            [
             0.3333333333333333,
             "#9c179e"
            ],
            [
             0.4444444444444444,
             "#bd3786"
            ],
            [
             0.5555555555555556,
             "#d8576b"
            ],
            [
             0.6666666666666666,
             "#ed7953"
            ],
            [
             0.7777777777777778,
             "#fb9f3a"
            ],
            [
             0.8888888888888888,
             "#fdca26"
            ],
            [
             1,
             "#f0f921"
            ]
           ],
           "sequentialminus": [
            [
             0,
             "#0d0887"
            ],
            [
             0.1111111111111111,
             "#46039f"
            ],
            [
             0.2222222222222222,
             "#7201a8"
            ],
            [
             0.3333333333333333,
             "#9c179e"
            ],
            [
             0.4444444444444444,
             "#bd3786"
            ],
            [
             0.5555555555555556,
             "#d8576b"
            ],
            [
             0.6666666666666666,
             "#ed7953"
            ],
            [
             0.7777777777777778,
             "#fb9f3a"
            ],
            [
             0.8888888888888888,
             "#fdca26"
            ],
            [
             1,
             "#f0f921"
            ]
           ]
          },
          "colorway": [
           "#636efa",
           "#EF553B",
           "#00cc96",
           "#ab63fa",
           "#FFA15A",
           "#19d3f3",
           "#FF6692",
           "#B6E880",
           "#FF97FF",
           "#FECB52"
          ],
          "font": {
           "color": "#2a3f5f"
          },
          "geo": {
           "bgcolor": "white",
           "lakecolor": "white",
           "landcolor": "#E5ECF6",
           "showlakes": true,
           "showland": true,
           "subunitcolor": "white"
          },
          "hoverlabel": {
           "align": "left"
          },
          "hovermode": "closest",
          "mapbox": {
           "style": "light"
          },
          "paper_bgcolor": "white",
          "plot_bgcolor": "#E5ECF6",
          "polar": {
           "angularaxis": {
            "gridcolor": "white",
            "linecolor": "white",
            "ticks": ""
           },
           "bgcolor": "#E5ECF6",
           "radialaxis": {
            "gridcolor": "white",
            "linecolor": "white",
            "ticks": ""
           }
          },
          "scene": {
           "xaxis": {
            "backgroundcolor": "#E5ECF6",
            "gridcolor": "white",
            "gridwidth": 2,
            "linecolor": "white",
            "showbackground": true,
            "ticks": "",
            "zerolinecolor": "white"
           },
           "yaxis": {
            "backgroundcolor": "#E5ECF6",
            "gridcolor": "white",
            "gridwidth": 2,
            "linecolor": "white",
            "showbackground": true,
            "ticks": "",
            "zerolinecolor": "white"
           },
           "zaxis": {
            "backgroundcolor": "#E5ECF6",
            "gridcolor": "white",
            "gridwidth": 2,
            "linecolor": "white",
            "showbackground": true,
            "ticks": "",
            "zerolinecolor": "white"
           }
          },
          "shapedefaults": {
           "line": {
            "color": "#2a3f5f"
           }
          },
          "ternary": {
           "aaxis": {
            "gridcolor": "white",
            "linecolor": "white",
            "ticks": ""
           },
           "baxis": {
            "gridcolor": "white",
            "linecolor": "white",
            "ticks": ""
           },
           "bgcolor": "#E5ECF6",
           "caxis": {
            "gridcolor": "white",
            "linecolor": "white",
            "ticks": ""
           }
          },
          "title": {
           "x": 0.05
          },
          "xaxis": {
           "automargin": true,
           "gridcolor": "white",
           "linecolor": "white",
           "ticks": "",
           "title": {
            "standoff": 15
           },
           "zerolinecolor": "white",
           "zerolinewidth": 2
          },
          "yaxis": {
           "automargin": true,
           "gridcolor": "white",
           "linecolor": "white",
           "ticks": "",
           "title": {
            "standoff": 15
           },
           "zerolinecolor": "white",
           "zerolinewidth": 2
          }
         }
        },
        "title": {
         "text": "Distribution of NCA for Data Group: 1"
        },
        "xaxis": {
         "anchor": "y",
         "domain": [
          0,
          1
         ],
         "title": {
          "text": "NCA"
         }
        },
        "yaxis": {
         "anchor": "x",
         "domain": [
          0,
          1
         ],
         "title": {
          "text": "Frequency"
         }
        }
       }
      }
     },
     "metadata": {},
     "output_type": "display_data"
    },
    {
     "data": {
      "application/vnd.plotly.v1+json": {
       "config": {
        "plotlyServerURL": "https://plot.ly"
       },
       "data": [
        {
         "alignmentgroup": "True",
         "hovertemplate": "NCV=%{y}<extra></extra>",
         "legendgroup": "",
         "marker": {
          "color": "#636efa"
         },
         "name": "",
         "notched": false,
         "offsetgroup": "",
         "orientation": "v",
         "showlegend": false,
         "type": "box",
         "x0": " ",
         "xaxis": "x",
         "y": [
          19,
          15,
          23,
          43,
          17,
          15,
          18,
          16,
          20,
          21,
          13,
          17,
          23,
          15,
          18,
          21,
          17,
          11,
          19,
          13,
          15,
          11,
          19,
          17,
          35,
          21,
          21,
          17,
          13,
          27,
          11,
          19,
          19,
          13,
          11,
          9,
          19,
          11,
          25,
          9,
          13,
          19,
          17,
          21,
          33,
          11,
          19,
          21,
          11,
          19,
          14,
          29,
          9,
          21,
          16,
          21,
          19,
          9,
          11,
          7,
          13,
          15,
          11,
          19,
          7,
          49,
          25,
          11,
          15,
          11,
          21,
          19,
          19,
          13,
          13,
          23,
          25,
          15,
          17,
          17,
          27,
          3,
          21,
          13,
          23,
          39,
          1,
          29,
          3,
          17,
          3,
          13,
          21,
          5,
          33,
          33,
          23,
          13,
          13,
          25,
          17,
          29,
          41,
          17,
          29,
          13,
          49,
          33,
          15,
          22,
          1,
          17,
          13,
          27,
          3,
          51,
          3,
          17,
          30,
          1,
          23,
          23,
          15,
          9,
          17,
          9,
          41,
          7,
          19,
          15,
          7,
          11,
          11,
          17,
          17,
          9,
          7,
          21,
          13,
          23,
          15,
          17,
          7,
          11,
          15,
          3,
          13,
          7,
          21,
          19,
          19,
          11,
          13,
          9,
          25,
          25,
          7,
          25,
          11,
          3,
          15,
          5,
          17,
          19,
          15,
          23,
          11,
          13,
          17,
          19,
          17,
          11,
          15,
          7,
          21,
          13,
          17,
          21,
          4,
          17,
          15,
          9,
          21,
          23,
          11,
          7,
          27,
          19,
          15,
          11,
          11,
          25,
          13,
          3,
          13,
          13,
          7,
          3,
          15,
          23,
          13,
          1,
          13,
          1,
          11,
          19,
          11,
          13,
          9,
          7,
          21,
          3,
          23,
          9,
          1,
          9,
          13,
          5,
          19,
          15,
          9,
          19,
          3,
          9,
          27,
          7,
          21,
          7,
          3,
          3,
          7,
          9,
          5,
          7,
          1,
          13,
          13,
          5,
          14,
          3,
          11,
          15,
          12,
          11,
          4,
          9,
          9,
          11,
          17,
          5,
          19,
          5,
          15,
          7,
          13,
          27,
          15,
          5,
          5,
          5,
          15,
          7,
          17,
          17,
          13,
          5,
          9,
          7,
          7,
          7,
          19,
          9,
          11,
          9,
          11,
          9,
          9,
          7,
          5,
          15,
          42,
          19,
          123,
          17,
          59,
          15,
          57,
          21,
          49,
          12,
          27,
          9,
          55,
          11,
          29,
          41,
          17,
          23,
          18,
          11,
          23,
          7,
          49,
          7,
          43,
          27,
          37,
          51,
          17,
          25,
          21,
          69,
          19,
          15,
          33,
          25,
          59,
          31,
          13,
          65,
          15,
          11,
          33,
          9,
          7,
          19,
          11,
          23,
          19,
          13,
          27,
          9,
          19,
          9,
          9,
          13,
          21,
          9,
          25,
          15,
          9,
          19,
          9,
          15,
          13,
          7,
          19,
          9,
          15,
          15,
          9,
          11,
          19,
          13,
          23,
          11,
          21,
          3,
          7,
          21,
          13,
          23,
          15,
          17,
          11,
          19,
          45,
          15,
          15,
          19,
          47,
          13,
          47,
          31,
          43,
          11,
          23,
          7,
          15,
          27,
          23,
          13,
          51,
          11,
          43,
          19,
          11,
          11,
          17,
          9,
          35,
          17,
          45,
          9,
          47,
          11,
          45,
          17,
          45,
          33,
          1,
          19,
          1,
          23,
          25,
          13,
          23,
          13,
          9,
          13,
          25,
          2,
          15,
          19,
          35,
          1,
          13,
          1,
          13,
          5,
          15,
          1,
          13,
          23,
          11,
          17,
          9,
          1,
          7,
          15,
          15,
          11,
          13,
          9,
          19,
          13,
          1,
          21,
          1,
          7,
          11,
          11,
          5,
          15,
          5,
          21,
          9,
          5,
          9,
          7,
          13,
          5,
          7,
          17,
          5,
          5,
          13,
          15,
          13,
          7,
          11,
          13,
          13,
          15,
          11,
          7,
          3,
          14,
          9,
          4,
          15,
          15,
          5,
          9,
          9,
          25,
          23,
          19,
          9,
          5,
          19,
          9,
          19,
          25,
          23,
          9,
          13,
          3,
          27,
          13,
          9,
          5,
          11,
          23,
          9,
          1,
          13,
          11,
          1,
          9,
          21,
          1,
          13,
          13,
          23,
          15,
          13,
          17,
          21,
          1,
          7,
          1,
          9,
          11,
          13,
          3,
          13,
          3,
          11,
          15,
          15,
          9,
          17,
          23,
          17,
          17,
          13,
          9,
          27,
          5,
          7,
          23,
          14,
          27,
          13,
          17,
          7,
          19,
          19,
          15,
          17,
          17,
          19,
          15,
          13,
          5,
          15,
          3,
          15,
          3,
          7,
          21,
          5,
          13,
          3,
          5,
          3,
          5,
          3,
          13,
          13,
          11,
          5,
          5,
          19,
          13,
          7,
          23,
          8,
          9,
          11,
          9,
          5,
          13,
          9,
          9,
          23,
          9,
          25,
          7,
          5,
          7,
          15,
          21,
          9,
          19,
          7,
          21,
          19,
          11,
          7,
          15,
          5,
          25,
          5,
          13,
          11,
          5,
          9,
          10,
          15,
          19,
          13,
          11,
          7,
          9,
          13,
          19,
          17,
          27,
          33,
          17,
          13,
          5,
          15,
          3,
          19,
          9,
          9,
          3,
          15,
          13,
          13,
          15,
          13,
          11,
          7,
          3,
          13,
          15,
          11,
          21,
          9,
          17,
          17,
          21,
          23,
          7,
          17,
          13,
          133,
          15,
          35,
          29,
          1,
          23,
          25,
          3,
          29,
          5,
          15,
          17,
          3,
          13,
          3,
          15,
          21,
          31,
          19,
          23,
          3,
          33,
          1,
          17,
          1,
          13,
          1,
          17,
          21,
          11,
          13,
          1,
          17,
          17,
          17,
          17,
          13,
          23,
          17,
          17,
          21,
          33,
          9,
          7,
          27,
          5,
          3,
          21,
          21,
          27,
          7,
          9,
          14,
          31,
          7,
          23,
          1,
          3,
          13,
          29,
          7,
          13,
          9,
          5,
          15,
          26,
          7,
          17,
          13,
          7,
          11,
          7,
          24,
          13,
          11,
          13,
          17,
          9,
          13,
          11,
          25,
          20,
          13,
          21,
          11,
          5,
          15,
          9,
          21,
          17,
          19,
          17,
          19,
          19,
          21,
          33,
          11,
          13,
          15,
          21,
          25,
          25,
          17,
          13,
          9,
          27,
          25,
          9,
          23,
          26,
          11,
          23,
          17,
          35,
          27,
          27,
          19,
          17,
          25,
          25,
          19,
          21,
          7,
          9,
          17,
          25,
          19,
          16,
          18,
          25,
          13,
          31,
          7,
          6,
          9,
          9,
          15,
          17,
          15,
          7,
          11,
          15,
          11,
          19,
          11,
          17,
          13,
          19,
          15,
          21,
          11,
          7,
          17,
          9,
          7,
          27,
          5,
          5,
          23,
          19,
          9,
          13,
          7,
          11,
          3,
          15,
          9,
          11,
          3,
          10,
          11,
          11,
          5,
          19,
          5,
          9,
          11,
          9,
          19,
          13,
          11,
          9,
          5,
          13,
          3,
          7,
          15,
          9,
          15,
          7,
          19,
          9,
          25,
          15,
          29,
          13,
          27,
          13,
          11,
          9,
          45,
          53,
          15,
          53,
          17,
          47,
          30,
          55,
          23,
          49,
          21,
          47,
          11,
          43,
          25,
          41,
          22,
          9,
          21,
          43,
          17,
          25,
          19,
          33,
          7,
          17,
          17,
          15,
          13,
          33,
          19,
          23,
          14,
          13,
          21,
          23,
          15,
          29,
          13,
          23,
          29,
          97,
          31,
          83,
          37,
          11,
          29,
          29,
          21,
          33,
          25,
          29,
          25,
          24,
          35,
          34,
          13,
          33,
          21,
          13,
          31,
          27,
          37,
          17,
          57,
          25,
          23,
          11,
          23,
          27,
          9,
          19,
          33,
          27,
          17,
          37,
          27,
          27,
          11,
          29,
          19,
          19,
          5,
          7,
          1,
          13,
          1,
          15,
          1,
          19,
          5,
          13,
          27,
          1,
          23,
          17,
          21,
          13,
          7,
          42,
          11,
          7,
          17,
          17,
          17,
          1,
          13,
          2,
          19,
          23,
          17,
          7,
          25,
          3,
          38,
          21,
          37,
          13,
          27,
          9,
          5,
          29,
          5,
          9,
          11,
          5,
          18,
          1,
          13,
          25,
          5,
          15,
          1,
          13,
          15,
          3,
          1,
          1,
          25,
          1,
          31,
          9,
          11,
          11,
          21,
          3,
          23,
          13,
          19,
          11,
          11,
          11,
          3,
          17,
          3,
          5,
          1,
          13,
          1,
          17,
          27,
          13,
          16,
          13,
          7,
          19,
          13,
          19,
          3,
          19,
          9,
          19,
          11,
          13,
          9,
          10,
          7,
          15,
          9,
          11,
          29,
          11,
          11,
          9,
          11,
          19,
          5,
          23,
          2,
          27,
          1,
          23,
          9,
          10,
          7,
          5,
          19,
          13,
          7,
          9,
          37,
          21,
          15,
          11,
          25,
          19,
          30,
          19,
          25,
          21,
          15,
          21,
          13,
          21,
          25,
          17,
          31,
          17,
          27,
          17,
          13,
          29,
          11,
          25,
          13,
          31,
          45,
          31,
          21,
          19,
          25,
          9,
          27,
          13,
          17,
          25,
          21,
          11,
          17,
          27,
          27,
          5,
          15,
          27,
          23,
          5,
          14,
          9,
          17,
          17,
          45,
          9,
          9,
          5,
          17,
          11,
          11,
          35,
          11,
          11,
          31,
          9,
          25,
          13,
          20,
          13,
          25,
          13,
          5,
          9,
          5,
          19,
          27,
          15,
          17,
          15,
          13,
          11,
          5,
          7,
          79,
          13,
          31,
          25,
          17,
          35,
          19,
          29,
          35,
          27,
          19,
          15,
          23,
          29,
          15,
          35,
          17,
          31,
          17,
          21,
          17,
          25,
          9,
          29,
          21,
          25,
          7,
          41,
          13,
          25,
          19,
          29,
          21,
          15,
          29,
          31,
          17,
          25,
          31,
          15
         ],
         "y0": " ",
         "yaxis": "y"
        }
       ],
       "layout": {
        "boxmode": "group",
        "legend": {
         "tracegroupgap": 0
        },
        "template": {
         "data": {
          "bar": [
           {
            "error_x": {
             "color": "#2a3f5f"
            },
            "error_y": {
             "color": "#2a3f5f"
            },
            "marker": {
             "line": {
              "color": "#E5ECF6",
              "width": 0.5
             },
             "pattern": {
              "fillmode": "overlay",
              "size": 10,
              "solidity": 0.2
             }
            },
            "type": "bar"
           }
          ],
          "barpolar": [
           {
            "marker": {
             "line": {
              "color": "#E5ECF6",
              "width": 0.5
             },
             "pattern": {
              "fillmode": "overlay",
              "size": 10,
              "solidity": 0.2
             }
            },
            "type": "barpolar"
           }
          ],
          "carpet": [
           {
            "aaxis": {
             "endlinecolor": "#2a3f5f",
             "gridcolor": "white",
             "linecolor": "white",
             "minorgridcolor": "white",
             "startlinecolor": "#2a3f5f"
            },
            "baxis": {
             "endlinecolor": "#2a3f5f",
             "gridcolor": "white",
             "linecolor": "white",
             "minorgridcolor": "white",
             "startlinecolor": "#2a3f5f"
            },
            "type": "carpet"
           }
          ],
          "choropleth": [
           {
            "colorbar": {
             "outlinewidth": 0,
             "ticks": ""
            },
            "type": "choropleth"
           }
          ],
          "contour": [
           {
            "colorbar": {
             "outlinewidth": 0,
             "ticks": ""
            },
            "colorscale": [
             [
              0,
              "#0d0887"
             ],
             [
              0.1111111111111111,
              "#46039f"
             ],
             [
              0.2222222222222222,
              "#7201a8"
             ],
             [
              0.3333333333333333,
              "#9c179e"
             ],
             [
              0.4444444444444444,
              "#bd3786"
             ],
             [
              0.5555555555555556,
              "#d8576b"
             ],
             [
              0.6666666666666666,
              "#ed7953"
             ],
             [
              0.7777777777777778,
              "#fb9f3a"
             ],
             [
              0.8888888888888888,
              "#fdca26"
             ],
             [
              1,
              "#f0f921"
             ]
            ],
            "type": "contour"
           }
          ],
          "contourcarpet": [
           {
            "colorbar": {
             "outlinewidth": 0,
             "ticks": ""
            },
            "type": "contourcarpet"
           }
          ],
          "heatmap": [
           {
            "colorbar": {
             "outlinewidth": 0,
             "ticks": ""
            },
            "colorscale": [
             [
              0,
              "#0d0887"
             ],
             [
              0.1111111111111111,
              "#46039f"
             ],
             [
              0.2222222222222222,
              "#7201a8"
             ],
             [
              0.3333333333333333,
              "#9c179e"
             ],
             [
              0.4444444444444444,
              "#bd3786"
             ],
             [
              0.5555555555555556,
              "#d8576b"
             ],
             [
              0.6666666666666666,
              "#ed7953"
             ],
             [
              0.7777777777777778,
              "#fb9f3a"
             ],
             [
              0.8888888888888888,
              "#fdca26"
             ],
             [
              1,
              "#f0f921"
             ]
            ],
            "type": "heatmap"
           }
          ],
          "heatmapgl": [
           {
            "colorbar": {
             "outlinewidth": 0,
             "ticks": ""
            },
            "colorscale": [
             [
              0,
              "#0d0887"
             ],
             [
              0.1111111111111111,
              "#46039f"
             ],
             [
              0.2222222222222222,
              "#7201a8"
             ],
             [
              0.3333333333333333,
              "#9c179e"
             ],
             [
              0.4444444444444444,
              "#bd3786"
             ],
             [
              0.5555555555555556,
              "#d8576b"
             ],
             [
              0.6666666666666666,
              "#ed7953"
             ],
             [
              0.7777777777777778,
              "#fb9f3a"
             ],
             [
              0.8888888888888888,
              "#fdca26"
             ],
             [
              1,
              "#f0f921"
             ]
            ],
            "type": "heatmapgl"
           }
          ],
          "histogram": [
           {
            "marker": {
             "pattern": {
              "fillmode": "overlay",
              "size": 10,
              "solidity": 0.2
             }
            },
            "type": "histogram"
           }
          ],
          "histogram2d": [
           {
            "colorbar": {
             "outlinewidth": 0,
             "ticks": ""
            },
            "colorscale": [
             [
              0,
              "#0d0887"
             ],
             [
              0.1111111111111111,
              "#46039f"
             ],
             [
              0.2222222222222222,
              "#7201a8"
             ],
             [
              0.3333333333333333,
              "#9c179e"
             ],
             [
              0.4444444444444444,
              "#bd3786"
             ],
             [
              0.5555555555555556,
              "#d8576b"
             ],
             [
              0.6666666666666666,
              "#ed7953"
             ],
             [
              0.7777777777777778,
              "#fb9f3a"
             ],
             [
              0.8888888888888888,
              "#fdca26"
             ],
             [
              1,
              "#f0f921"
             ]
            ],
            "type": "histogram2d"
           }
          ],
          "histogram2dcontour": [
           {
            "colorbar": {
             "outlinewidth": 0,
             "ticks": ""
            },
            "colorscale": [
             [
              0,
              "#0d0887"
             ],
             [
              0.1111111111111111,
              "#46039f"
             ],
             [
              0.2222222222222222,
              "#7201a8"
             ],
             [
              0.3333333333333333,
              "#9c179e"
             ],
             [
              0.4444444444444444,
              "#bd3786"
             ],
             [
              0.5555555555555556,
              "#d8576b"
             ],
             [
              0.6666666666666666,
              "#ed7953"
             ],
             [
              0.7777777777777778,
              "#fb9f3a"
             ],
             [
              0.8888888888888888,
              "#fdca26"
             ],
             [
              1,
              "#f0f921"
             ]
            ],
            "type": "histogram2dcontour"
           }
          ],
          "mesh3d": [
           {
            "colorbar": {
             "outlinewidth": 0,
             "ticks": ""
            },
            "type": "mesh3d"
           }
          ],
          "parcoords": [
           {
            "line": {
             "colorbar": {
              "outlinewidth": 0,
              "ticks": ""
             }
            },
            "type": "parcoords"
           }
          ],
          "pie": [
           {
            "automargin": true,
            "type": "pie"
           }
          ],
          "scatter": [
           {
            "fillpattern": {
             "fillmode": "overlay",
             "size": 10,
             "solidity": 0.2
            },
            "type": "scatter"
           }
          ],
          "scatter3d": [
           {
            "line": {
             "colorbar": {
              "outlinewidth": 0,
              "ticks": ""
             }
            },
            "marker": {
             "colorbar": {
              "outlinewidth": 0,
              "ticks": ""
             }
            },
            "type": "scatter3d"
           }
          ],
          "scattercarpet": [
           {
            "marker": {
             "colorbar": {
              "outlinewidth": 0,
              "ticks": ""
             }
            },
            "type": "scattercarpet"
           }
          ],
          "scattergeo": [
           {
            "marker": {
             "colorbar": {
              "outlinewidth": 0,
              "ticks": ""
             }
            },
            "type": "scattergeo"
           }
          ],
          "scattergl": [
           {
            "marker": {
             "colorbar": {
              "outlinewidth": 0,
              "ticks": ""
             }
            },
            "type": "scattergl"
           }
          ],
          "scattermapbox": [
           {
            "marker": {
             "colorbar": {
              "outlinewidth": 0,
              "ticks": ""
             }
            },
            "type": "scattermapbox"
           }
          ],
          "scatterpolar": [
           {
            "marker": {
             "colorbar": {
              "outlinewidth": 0,
              "ticks": ""
             }
            },
            "type": "scatterpolar"
           }
          ],
          "scatterpolargl": [
           {
            "marker": {
             "colorbar": {
              "outlinewidth": 0,
              "ticks": ""
             }
            },
            "type": "scatterpolargl"
           }
          ],
          "scatterternary": [
           {
            "marker": {
             "colorbar": {
              "outlinewidth": 0,
              "ticks": ""
             }
            },
            "type": "scatterternary"
           }
          ],
          "surface": [
           {
            "colorbar": {
             "outlinewidth": 0,
             "ticks": ""
            },
            "colorscale": [
             [
              0,
              "#0d0887"
             ],
             [
              0.1111111111111111,
              "#46039f"
             ],
             [
              0.2222222222222222,
              "#7201a8"
             ],
             [
              0.3333333333333333,
              "#9c179e"
             ],
             [
              0.4444444444444444,
              "#bd3786"
             ],
             [
              0.5555555555555556,
              "#d8576b"
             ],
             [
              0.6666666666666666,
              "#ed7953"
             ],
             [
              0.7777777777777778,
              "#fb9f3a"
             ],
             [
              0.8888888888888888,
              "#fdca26"
             ],
             [
              1,
              "#f0f921"
             ]
            ],
            "type": "surface"
           }
          ],
          "table": [
           {
            "cells": {
             "fill": {
              "color": "#EBF0F8"
             },
             "line": {
              "color": "white"
             }
            },
            "header": {
             "fill": {
              "color": "#C8D4E3"
             },
             "line": {
              "color": "white"
             }
            },
            "type": "table"
           }
          ]
         },
         "layout": {
          "annotationdefaults": {
           "arrowcolor": "#2a3f5f",
           "arrowhead": 0,
           "arrowwidth": 1
          },
          "autotypenumbers": "strict",
          "coloraxis": {
           "colorbar": {
            "outlinewidth": 0,
            "ticks": ""
           }
          },
          "colorscale": {
           "diverging": [
            [
             0,
             "#8e0152"
            ],
            [
             0.1,
             "#c51b7d"
            ],
            [
             0.2,
             "#de77ae"
            ],
            [
             0.3,
             "#f1b6da"
            ],
            [
             0.4,
             "#fde0ef"
            ],
            [
             0.5,
             "#f7f7f7"
            ],
            [
             0.6,
             "#e6f5d0"
            ],
            [
             0.7,
             "#b8e186"
            ],
            [
             0.8,
             "#7fbc41"
            ],
            [
             0.9,
             "#4d9221"
            ],
            [
             1,
             "#276419"
            ]
           ],
           "sequential": [
            [
             0,
             "#0d0887"
            ],
            [
             0.1111111111111111,
             "#46039f"
            ],
            [
             0.2222222222222222,
             "#7201a8"
            ],
            [
             0.3333333333333333,
             "#9c179e"
            ],
            [
             0.4444444444444444,
             "#bd3786"
            ],
            [
             0.5555555555555556,
             "#d8576b"
            ],
            [
             0.6666666666666666,
             "#ed7953"
            ],
            [
             0.7777777777777778,
             "#fb9f3a"
            ],
            [
             0.8888888888888888,
             "#fdca26"
            ],
            [
             1,
             "#f0f921"
            ]
           ],
           "sequentialminus": [
            [
             0,
             "#0d0887"
            ],
            [
             0.1111111111111111,
             "#46039f"
            ],
            [
             0.2222222222222222,
             "#7201a8"
            ],
            [
             0.3333333333333333,
             "#9c179e"
            ],
            [
             0.4444444444444444,
             "#bd3786"
            ],
            [
             0.5555555555555556,
             "#d8576b"
            ],
            [
             0.6666666666666666,
             "#ed7953"
            ],
            [
             0.7777777777777778,
             "#fb9f3a"
            ],
            [
             0.8888888888888888,
             "#fdca26"
            ],
            [
             1,
             "#f0f921"
            ]
           ]
          },
          "colorway": [
           "#636efa",
           "#EF553B",
           "#00cc96",
           "#ab63fa",
           "#FFA15A",
           "#19d3f3",
           "#FF6692",
           "#B6E880",
           "#FF97FF",
           "#FECB52"
          ],
          "font": {
           "color": "#2a3f5f"
          },
          "geo": {
           "bgcolor": "white",
           "lakecolor": "white",
           "landcolor": "#E5ECF6",
           "showlakes": true,
           "showland": true,
           "subunitcolor": "white"
          },
          "hoverlabel": {
           "align": "left"
          },
          "hovermode": "closest",
          "mapbox": {
           "style": "light"
          },
          "paper_bgcolor": "white",
          "plot_bgcolor": "#E5ECF6",
          "polar": {
           "angularaxis": {
            "gridcolor": "white",
            "linecolor": "white",
            "ticks": ""
           },
           "bgcolor": "#E5ECF6",
           "radialaxis": {
            "gridcolor": "white",
            "linecolor": "white",
            "ticks": ""
           }
          },
          "scene": {
           "xaxis": {
            "backgroundcolor": "#E5ECF6",
            "gridcolor": "white",
            "gridwidth": 2,
            "linecolor": "white",
            "showbackground": true,
            "ticks": "",
            "zerolinecolor": "white"
           },
           "yaxis": {
            "backgroundcolor": "#E5ECF6",
            "gridcolor": "white",
            "gridwidth": 2,
            "linecolor": "white",
            "showbackground": true,
            "ticks": "",
            "zerolinecolor": "white"
           },
           "zaxis": {
            "backgroundcolor": "#E5ECF6",
            "gridcolor": "white",
            "gridwidth": 2,
            "linecolor": "white",
            "showbackground": true,
            "ticks": "",
            "zerolinecolor": "white"
           }
          },
          "shapedefaults": {
           "line": {
            "color": "#2a3f5f"
           }
          },
          "ternary": {
           "aaxis": {
            "gridcolor": "white",
            "linecolor": "white",
            "ticks": ""
           },
           "baxis": {
            "gridcolor": "white",
            "linecolor": "white",
            "ticks": ""
           },
           "bgcolor": "#E5ECF6",
           "caxis": {
            "gridcolor": "white",
            "linecolor": "white",
            "ticks": ""
           }
          },
          "title": {
           "x": 0.05
          },
          "xaxis": {
           "automargin": true,
           "gridcolor": "white",
           "linecolor": "white",
           "ticks": "",
           "title": {
            "standoff": 15
           },
           "zerolinecolor": "white",
           "zerolinewidth": 2
          },
          "yaxis": {
           "automargin": true,
           "gridcolor": "white",
           "linecolor": "white",
           "ticks": "",
           "title": {
            "standoff": 15
           },
           "zerolinecolor": "white",
           "zerolinewidth": 2
          }
         }
        },
        "title": {
         "text": "Distribution of NCV for Data Group: 1"
        },
        "xaxis": {
         "anchor": "y",
         "domain": [
          0,
          1
         ],
         "title": {
          "text": "NCV"
         }
        },
        "yaxis": {
         "anchor": "x",
         "domain": [
          0,
          1
         ],
         "title": {
          "text": "Frequency"
         }
        }
       }
      }
     },
     "metadata": {},
     "output_type": "display_data"
    },
    {
     "data": {
      "application/vnd.plotly.v1+json": {
       "config": {
        "plotlyServerURL": "https://plot.ly"
       },
       "data": [
        {
         "alignmentgroup": "True",
         "hovertemplate": "NCA=%{y}<extra></extra>",
         "legendgroup": "",
         "marker": {
          "color": "#636efa"
         },
         "name": "",
         "notched": false,
         "offsetgroup": "",
         "orientation": "v",
         "showlegend": false,
         "type": "box",
         "x0": " ",
         "xaxis": "x",
         "y": [
          90,
          54,
          78,
          104,
          53,
          148,
          119,
          88,
          98,
          92,
          81,
          93,
          84,
          61,
          58,
          41,
          169,
          81,
          49,
          94,
          53,
          102,
          47,
          96,
          61,
          89,
          49,
          86,
          88,
          76,
          56,
          72,
          63,
          111,
          48,
          125,
          122,
          101,
          58,
          172,
          60,
          115,
          20,
          78,
          89,
          44,
          51,
          41,
          62,
          40,
          79,
          41,
          119,
          64,
          42,
          50,
          53,
          116,
          44,
          75,
          48,
          55,
          60,
          50,
          56,
          53,
          44,
          59,
          79,
          89,
          41,
          75,
          52,
          43,
          72,
          57,
          55,
          74,
          31,
          44,
          80,
          96,
          91,
          69,
          78,
          130,
          108,
          93,
          51,
          102,
          99,
          104,
          52,
          103,
          94,
          181,
          141,
          64,
          107,
          99,
          88,
          77,
          73,
          272,
          123,
          104,
          101,
          215,
          112,
          84,
          179,
          113,
          90,
          59,
          89,
          184,
          106,
          117,
          160,
          131,
          136,
          70,
          55,
          83,
          129,
          84,
          134,
          49,
          108,
          98,
          133,
          81,
          76,
          121,
          132,
          50,
          82,
          73,
          68,
          57,
          122,
          49,
          60,
          212,
          63,
          71,
          74,
          60,
          64,
          102,
          56,
          80,
          54,
          152,
          64,
          89,
          95,
          70,
          66,
          114,
          52,
          76,
          58,
          87,
          53,
          86,
          66,
          48,
          57,
          68,
          41,
          35,
          43,
          69,
          66,
          98,
          49,
          62,
          58,
          44,
          62,
          37,
          50,
          34,
          75,
          49,
          53,
          144,
          56,
          108,
          57,
          50,
          49,
          111,
          50,
          58,
          64,
          68,
          52,
          72,
          41,
          47,
          49,
          43,
          59,
          51,
          70,
          41,
          46,
          39,
          94,
          69,
          69,
          51,
          39,
          49,
          96,
          51,
          50,
          45,
          70,
          73,
          79,
          44,
          41,
          79,
          51,
          51,
          54,
          50,
          43,
          62,
          88,
          42,
          57,
          40,
          45,
          61,
          38,
          37,
          52,
          93,
          37,
          42,
          89,
          77,
          64,
          58,
          50,
          77,
          86,
          106,
          30,
          43,
          86,
          48,
          76,
          51,
          75,
          54,
          80,
          86,
          92,
          48,
          88,
          46,
          67,
          82,
          89,
          39,
          21,
          42,
          34,
          79,
          35,
          71,
          49,
          60,
          33,
          80,
          49,
          58,
          46,
          65,
          44,
          45,
          39,
          51,
          55,
          56,
          73,
          36,
          44,
          50,
          90,
          61,
          43,
          56,
          75,
          49,
          51,
          52,
          46,
          43,
          42,
          44,
          43,
          61,
          65,
          80,
          43,
          42,
          72,
          49,
          79,
          46,
          39,
          51,
          39,
          58,
          129,
          47,
          47,
          55,
          60,
          81,
          76,
          54,
          99,
          114,
          59,
          127,
          113,
          103,
          47,
          35,
          70,
          99,
          58,
          32,
          54,
          54,
          30,
          52,
          33,
          40,
          34,
          37,
          59,
          88,
          34,
          59,
          87,
          37,
          65,
          92,
          35,
          62,
          55,
          47,
          80,
          46,
          80,
          88,
          84,
          36,
          47,
          82,
          48,
          59,
          41,
          130,
          97,
          42,
          48,
          63,
          62,
          62,
          81,
          71,
          77,
          67,
          56,
          53,
          52,
          69,
          83,
          58,
          51,
          49,
          69,
          46,
          73,
          78,
          65,
          83,
          53,
          73,
          70,
          111,
          83,
          89,
          79,
          61,
          73,
          62,
          59,
          65,
          83,
          151,
          99,
          107,
          106,
          61,
          63,
          61,
          72,
          66,
          71,
          62,
          146,
          61,
          46,
          98,
          64,
          121,
          56,
          65,
          115,
          68,
          48,
          132,
          58,
          119,
          53,
          100,
          58,
          81,
          90,
          72,
          94,
          219,
          166,
          87,
          122,
          96,
          192,
          141,
          211,
          81,
          147,
          218,
          124,
          146,
          70,
          77,
          64,
          163,
          102,
          153,
          72,
          121,
          130,
          83,
          91,
          66,
          144,
          152,
          115,
          145,
          71,
          122,
          167,
          110,
          50,
          111,
          170,
          134,
          86,
          169,
          85,
          93,
          89,
          31,
          43,
          46,
          28,
          45,
          30,
          37,
          33,
          34,
          44,
          89,
          23,
          44,
          57,
          66,
          57,
          159,
          56,
          26,
          99,
          26,
          109,
          93,
          62,
          213,
          68,
          22,
          45,
          37,
          25,
          83,
          51,
          46,
          68,
          62,
          60,
          40,
          213,
          164,
          144,
          92,
          200,
          96,
          129,
          205,
          141,
          247,
          117,
          112,
          124,
          65,
          103,
          70,
          117,
          97,
          121,
          111,
          86,
          125,
          96,
          126,
          89,
          69,
          90,
          118,
          159,
          69,
          78,
          60,
          125,
          104,
          165,
          116,
          108,
          150,
          135,
          186,
          214,
          85,
          75,
          138,
          97,
          92,
          83,
          53,
          132,
          94,
          110,
          91,
          54,
          45,
          84,
          57,
          78,
          49,
          74,
          64,
          51,
          84,
          54,
          88,
          49,
          64,
          76,
          52,
          78,
          45,
          74,
          51,
          89,
          54,
          79,
          57,
          57,
          96,
          72,
          78
         ],
         "y0": " ",
         "yaxis": "y"
        }
       ],
       "layout": {
        "boxmode": "group",
        "legend": {
         "tracegroupgap": 0
        },
        "template": {
         "data": {
          "bar": [
           {
            "error_x": {
             "color": "#2a3f5f"
            },
            "error_y": {
             "color": "#2a3f5f"
            },
            "marker": {
             "line": {
              "color": "#E5ECF6",
              "width": 0.5
             },
             "pattern": {
              "fillmode": "overlay",
              "size": 10,
              "solidity": 0.2
             }
            },
            "type": "bar"
           }
          ],
          "barpolar": [
           {
            "marker": {
             "line": {
              "color": "#E5ECF6",
              "width": 0.5
             },
             "pattern": {
              "fillmode": "overlay",
              "size": 10,
              "solidity": 0.2
             }
            },
            "type": "barpolar"
           }
          ],
          "carpet": [
           {
            "aaxis": {
             "endlinecolor": "#2a3f5f",
             "gridcolor": "white",
             "linecolor": "white",
             "minorgridcolor": "white",
             "startlinecolor": "#2a3f5f"
            },
            "baxis": {
             "endlinecolor": "#2a3f5f",
             "gridcolor": "white",
             "linecolor": "white",
             "minorgridcolor": "white",
             "startlinecolor": "#2a3f5f"
            },
            "type": "carpet"
           }
          ],
          "choropleth": [
           {
            "colorbar": {
             "outlinewidth": 0,
             "ticks": ""
            },
            "type": "choropleth"
           }
          ],
          "contour": [
           {
            "colorbar": {
             "outlinewidth": 0,
             "ticks": ""
            },
            "colorscale": [
             [
              0,
              "#0d0887"
             ],
             [
              0.1111111111111111,
              "#46039f"
             ],
             [
              0.2222222222222222,
              "#7201a8"
             ],
             [
              0.3333333333333333,
              "#9c179e"
             ],
             [
              0.4444444444444444,
              "#bd3786"
             ],
             [
              0.5555555555555556,
              "#d8576b"
             ],
             [
              0.6666666666666666,
              "#ed7953"
             ],
             [
              0.7777777777777778,
              "#fb9f3a"
             ],
             [
              0.8888888888888888,
              "#fdca26"
             ],
             [
              1,
              "#f0f921"
             ]
            ],
            "type": "contour"
           }
          ],
          "contourcarpet": [
           {
            "colorbar": {
             "outlinewidth": 0,
             "ticks": ""
            },
            "type": "contourcarpet"
           }
          ],
          "heatmap": [
           {
            "colorbar": {
             "outlinewidth": 0,
             "ticks": ""
            },
            "colorscale": [
             [
              0,
              "#0d0887"
             ],
             [
              0.1111111111111111,
              "#46039f"
             ],
             [
              0.2222222222222222,
              "#7201a8"
             ],
             [
              0.3333333333333333,
              "#9c179e"
             ],
             [
              0.4444444444444444,
              "#bd3786"
             ],
             [
              0.5555555555555556,
              "#d8576b"
             ],
             [
              0.6666666666666666,
              "#ed7953"
             ],
             [
              0.7777777777777778,
              "#fb9f3a"
             ],
             [
              0.8888888888888888,
              "#fdca26"
             ],
             [
              1,
              "#f0f921"
             ]
            ],
            "type": "heatmap"
           }
          ],
          "heatmapgl": [
           {
            "colorbar": {
             "outlinewidth": 0,
             "ticks": ""
            },
            "colorscale": [
             [
              0,
              "#0d0887"
             ],
             [
              0.1111111111111111,
              "#46039f"
             ],
             [
              0.2222222222222222,
              "#7201a8"
             ],
             [
              0.3333333333333333,
              "#9c179e"
             ],
             [
              0.4444444444444444,
              "#bd3786"
             ],
             [
              0.5555555555555556,
              "#d8576b"
             ],
             [
              0.6666666666666666,
              "#ed7953"
             ],
             [
              0.7777777777777778,
              "#fb9f3a"
             ],
             [
              0.8888888888888888,
              "#fdca26"
             ],
             [
              1,
              "#f0f921"
             ]
            ],
            "type": "heatmapgl"
           }
          ],
          "histogram": [
           {
            "marker": {
             "pattern": {
              "fillmode": "overlay",
              "size": 10,
              "solidity": 0.2
             }
            },
            "type": "histogram"
           }
          ],
          "histogram2d": [
           {
            "colorbar": {
             "outlinewidth": 0,
             "ticks": ""
            },
            "colorscale": [
             [
              0,
              "#0d0887"
             ],
             [
              0.1111111111111111,
              "#46039f"
             ],
             [
              0.2222222222222222,
              "#7201a8"
             ],
             [
              0.3333333333333333,
              "#9c179e"
             ],
             [
              0.4444444444444444,
              "#bd3786"
             ],
             [
              0.5555555555555556,
              "#d8576b"
             ],
             [
              0.6666666666666666,
              "#ed7953"
             ],
             [
              0.7777777777777778,
              "#fb9f3a"
             ],
             [
              0.8888888888888888,
              "#fdca26"
             ],
             [
              1,
              "#f0f921"
             ]
            ],
            "type": "histogram2d"
           }
          ],
          "histogram2dcontour": [
           {
            "colorbar": {
             "outlinewidth": 0,
             "ticks": ""
            },
            "colorscale": [
             [
              0,
              "#0d0887"
             ],
             [
              0.1111111111111111,
              "#46039f"
             ],
             [
              0.2222222222222222,
              "#7201a8"
             ],
             [
              0.3333333333333333,
              "#9c179e"
             ],
             [
              0.4444444444444444,
              "#bd3786"
             ],
             [
              0.5555555555555556,
              "#d8576b"
             ],
             [
              0.6666666666666666,
              "#ed7953"
             ],
             [
              0.7777777777777778,
              "#fb9f3a"
             ],
             [
              0.8888888888888888,
              "#fdca26"
             ],
             [
              1,
              "#f0f921"
             ]
            ],
            "type": "histogram2dcontour"
           }
          ],
          "mesh3d": [
           {
            "colorbar": {
             "outlinewidth": 0,
             "ticks": ""
            },
            "type": "mesh3d"
           }
          ],
          "parcoords": [
           {
            "line": {
             "colorbar": {
              "outlinewidth": 0,
              "ticks": ""
             }
            },
            "type": "parcoords"
           }
          ],
          "pie": [
           {
            "automargin": true,
            "type": "pie"
           }
          ],
          "scatter": [
           {
            "fillpattern": {
             "fillmode": "overlay",
             "size": 10,
             "solidity": 0.2
            },
            "type": "scatter"
           }
          ],
          "scatter3d": [
           {
            "line": {
             "colorbar": {
              "outlinewidth": 0,
              "ticks": ""
             }
            },
            "marker": {
             "colorbar": {
              "outlinewidth": 0,
              "ticks": ""
             }
            },
            "type": "scatter3d"
           }
          ],
          "scattercarpet": [
           {
            "marker": {
             "colorbar": {
              "outlinewidth": 0,
              "ticks": ""
             }
            },
            "type": "scattercarpet"
           }
          ],
          "scattergeo": [
           {
            "marker": {
             "colorbar": {
              "outlinewidth": 0,
              "ticks": ""
             }
            },
            "type": "scattergeo"
           }
          ],
          "scattergl": [
           {
            "marker": {
             "colorbar": {
              "outlinewidth": 0,
              "ticks": ""
             }
            },
            "type": "scattergl"
           }
          ],
          "scattermapbox": [
           {
            "marker": {
             "colorbar": {
              "outlinewidth": 0,
              "ticks": ""
             }
            },
            "type": "scattermapbox"
           }
          ],
          "scatterpolar": [
           {
            "marker": {
             "colorbar": {
              "outlinewidth": 0,
              "ticks": ""
             }
            },
            "type": "scatterpolar"
           }
          ],
          "scatterpolargl": [
           {
            "marker": {
             "colorbar": {
              "outlinewidth": 0,
              "ticks": ""
             }
            },
            "type": "scatterpolargl"
           }
          ],
          "scatterternary": [
           {
            "marker": {
             "colorbar": {
              "outlinewidth": 0,
              "ticks": ""
             }
            },
            "type": "scatterternary"
           }
          ],
          "surface": [
           {
            "colorbar": {
             "outlinewidth": 0,
             "ticks": ""
            },
            "colorscale": [
             [
              0,
              "#0d0887"
             ],
             [
              0.1111111111111111,
              "#46039f"
             ],
             [
              0.2222222222222222,
              "#7201a8"
             ],
             [
              0.3333333333333333,
              "#9c179e"
             ],
             [
              0.4444444444444444,
              "#bd3786"
             ],
             [
              0.5555555555555556,
              "#d8576b"
             ],
             [
              0.6666666666666666,
              "#ed7953"
             ],
             [
              0.7777777777777778,
              "#fb9f3a"
             ],
             [
              0.8888888888888888,
              "#fdca26"
             ],
             [
              1,
              "#f0f921"
             ]
            ],
            "type": "surface"
           }
          ],
          "table": [
           {
            "cells": {
             "fill": {
              "color": "#EBF0F8"
             },
             "line": {
              "color": "white"
             }
            },
            "header": {
             "fill": {
              "color": "#C8D4E3"
             },
             "line": {
              "color": "white"
             }
            },
            "type": "table"
           }
          ]
         },
         "layout": {
          "annotationdefaults": {
           "arrowcolor": "#2a3f5f",
           "arrowhead": 0,
           "arrowwidth": 1
          },
          "autotypenumbers": "strict",
          "coloraxis": {
           "colorbar": {
            "outlinewidth": 0,
            "ticks": ""
           }
          },
          "colorscale": {
           "diverging": [
            [
             0,
             "#8e0152"
            ],
            [
             0.1,
             "#c51b7d"
            ],
            [
             0.2,
             "#de77ae"
            ],
            [
             0.3,
             "#f1b6da"
            ],
            [
             0.4,
             "#fde0ef"
            ],
            [
             0.5,
             "#f7f7f7"
            ],
            [
             0.6,
             "#e6f5d0"
            ],
            [
             0.7,
             "#b8e186"
            ],
            [
             0.8,
             "#7fbc41"
            ],
            [
             0.9,
             "#4d9221"
            ],
            [
             1,
             "#276419"
            ]
           ],
           "sequential": [
            [
             0,
             "#0d0887"
            ],
            [
             0.1111111111111111,
             "#46039f"
            ],
            [
             0.2222222222222222,
             "#7201a8"
            ],
            [
             0.3333333333333333,
             "#9c179e"
            ],
            [
             0.4444444444444444,
             "#bd3786"
            ],
            [
             0.5555555555555556,
             "#d8576b"
            ],
            [
             0.6666666666666666,
             "#ed7953"
            ],
            [
             0.7777777777777778,
             "#fb9f3a"
            ],
            [
             0.8888888888888888,
             "#fdca26"
            ],
            [
             1,
             "#f0f921"
            ]
           ],
           "sequentialminus": [
            [
             0,
             "#0d0887"
            ],
            [
             0.1111111111111111,
             "#46039f"
            ],
            [
             0.2222222222222222,
             "#7201a8"
            ],
            [
             0.3333333333333333,
             "#9c179e"
            ],
            [
             0.4444444444444444,
             "#bd3786"
            ],
            [
             0.5555555555555556,
             "#d8576b"
            ],
            [
             0.6666666666666666,
             "#ed7953"
            ],
            [
             0.7777777777777778,
             "#fb9f3a"
            ],
            [
             0.8888888888888888,
             "#fdca26"
            ],
            [
             1,
             "#f0f921"
            ]
           ]
          },
          "colorway": [
           "#636efa",
           "#EF553B",
           "#00cc96",
           "#ab63fa",
           "#FFA15A",
           "#19d3f3",
           "#FF6692",
           "#B6E880",
           "#FF97FF",
           "#FECB52"
          ],
          "font": {
           "color": "#2a3f5f"
          },
          "geo": {
           "bgcolor": "white",
           "lakecolor": "white",
           "landcolor": "#E5ECF6",
           "showlakes": true,
           "showland": true,
           "subunitcolor": "white"
          },
          "hoverlabel": {
           "align": "left"
          },
          "hovermode": "closest",
          "mapbox": {
           "style": "light"
          },
          "paper_bgcolor": "white",
          "plot_bgcolor": "#E5ECF6",
          "polar": {
           "angularaxis": {
            "gridcolor": "white",
            "linecolor": "white",
            "ticks": ""
           },
           "bgcolor": "#E5ECF6",
           "radialaxis": {
            "gridcolor": "white",
            "linecolor": "white",
            "ticks": ""
           }
          },
          "scene": {
           "xaxis": {
            "backgroundcolor": "#E5ECF6",
            "gridcolor": "white",
            "gridwidth": 2,
            "linecolor": "white",
            "showbackground": true,
            "ticks": "",
            "zerolinecolor": "white"
           },
           "yaxis": {
            "backgroundcolor": "#E5ECF6",
            "gridcolor": "white",
            "gridwidth": 2,
            "linecolor": "white",
            "showbackground": true,
            "ticks": "",
            "zerolinecolor": "white"
           },
           "zaxis": {
            "backgroundcolor": "#E5ECF6",
            "gridcolor": "white",
            "gridwidth": 2,
            "linecolor": "white",
            "showbackground": true,
            "ticks": "",
            "zerolinecolor": "white"
           }
          },
          "shapedefaults": {
           "line": {
            "color": "#2a3f5f"
           }
          },
          "ternary": {
           "aaxis": {
            "gridcolor": "white",
            "linecolor": "white",
            "ticks": ""
           },
           "baxis": {
            "gridcolor": "white",
            "linecolor": "white",
            "ticks": ""
           },
           "bgcolor": "#E5ECF6",
           "caxis": {
            "gridcolor": "white",
            "linecolor": "white",
            "ticks": ""
           }
          },
          "title": {
           "x": 0.05
          },
          "xaxis": {
           "automargin": true,
           "gridcolor": "white",
           "linecolor": "white",
           "ticks": "",
           "title": {
            "standoff": 15
           },
           "zerolinecolor": "white",
           "zerolinewidth": 2
          },
          "yaxis": {
           "automargin": true,
           "gridcolor": "white",
           "linecolor": "white",
           "ticks": "",
           "title": {
            "standoff": 15
           },
           "zerolinecolor": "white",
           "zerolinewidth": 2
          }
         }
        },
        "title": {
         "text": "Distribution of NCA for Data Group: 2"
        },
        "xaxis": {
         "anchor": "y",
         "domain": [
          0,
          1
         ],
         "title": {
          "text": "NCA"
         }
        },
        "yaxis": {
         "anchor": "x",
         "domain": [
          0,
          1
         ],
         "title": {
          "text": "Frequency"
         }
        }
       }
      }
     },
     "metadata": {},
     "output_type": "display_data"
    },
    {
     "data": {
      "application/vnd.plotly.v1+json": {
       "config": {
        "plotlyServerURL": "https://plot.ly"
       },
       "data": [
        {
         "alignmentgroup": "True",
         "hovertemplate": "NCV=%{y}<extra></extra>",
         "legendgroup": "",
         "marker": {
          "color": "#636efa"
         },
         "name": "",
         "notched": false,
         "offsetgroup": "",
         "orientation": "v",
         "showlegend": false,
         "type": "box",
         "x0": " ",
         "xaxis": "x",
         "y": [
          25,
          15,
          23,
          24,
          11,
          53,
          37,
          29,
          21,
          34,
          17,
          27,
          23,
          23,
          15,
          10,
          67,
          19,
          17,
          21,
          11,
          23,
          15,
          23,
          15,
          25,
          17,
          19,
          33,
          25,
          23,
          23,
          11,
          35,
          15,
          35,
          37,
          19,
          23,
          67,
          9,
          31,
          5,
          17,
          25,
          17,
          13,
          13,
          15,
          9,
          19,
          9,
          31,
          8,
          15,
          15,
          6,
          31,
          7,
          27,
          13,
          13,
          15,
          1,
          15,
          5,
          9,
          17,
          21,
          21,
          11,
          29,
          11,
          13,
          15,
          19,
          11,
          21,
          8,
          17,
          21,
          15,
          7,
          7,
          13,
          23,
          25,
          13,
          15,
          11,
          21,
          15,
          17,
          13,
          13,
          43,
          17,
          5,
          11,
          13,
          11,
          15,
          15,
          49,
          15,
          25,
          23,
          25,
          21,
          15,
          29,
          17,
          13,
          15,
          13,
          43,
          31,
          41,
          35,
          33,
          17,
          11,
          9,
          9,
          23,
          9,
          29,
          10,
          31,
          21,
          23,
          7,
          9,
          9,
          19,
          5,
          3,
          23,
          7,
          1,
          29,
          5,
          11,
          31,
          11,
          9,
          17,
          8,
          13,
          23,
          5,
          11,
          5,
          49,
          9,
          9,
          17,
          1,
          3,
          21,
          15,
          17,
          13,
          23,
          11,
          21,
          13,
          11,
          15,
          15,
          11,
          1,
          11,
          17,
          11,
          33,
          11,
          13,
          21,
          7,
          14,
          7,
          3,
          5,
          19,
          9,
          13,
          47,
          9,
          33,
          5,
          9,
          7,
          29,
          1,
          19,
          5,
          13,
          5,
          17,
          19,
          13,
          7,
          5,
          9,
          17,
          21,
          7,
          11,
          7,
          23,
          17,
          19,
          11,
          15,
          15,
          23,
          19,
          13,
          9,
          21,
          19,
          23,
          13,
          17,
          21,
          15,
          5,
          21,
          9,
          7,
          17,
          23,
          9,
          9,
          7,
          9,
          17,
          13,
          11,
          21,
          21,
          7,
          5,
          15,
          19,
          13,
          17,
          9,
          15,
          15,
          27,
          7,
          13,
          17,
          15,
          25,
          8,
          21,
          13,
          25,
          15,
          33,
          11,
          21,
          11,
          15,
          11,
          25,
          9,
          5,
          16,
          7,
          21,
          9,
          17,
          18,
          17,
          13,
          17,
          17,
          17,
          11,
          9,
          15,
          9,
          9,
          11,
          21,
          11,
          17,
          13,
          13,
          11,
          21,
          7,
          13,
          17,
          21,
          10,
          11,
          11,
          17,
          13,
          9,
          9,
          9,
          15,
          17,
          17,
          10,
          7,
          21,
          7,
          23,
          5,
          5,
          15,
          15,
          19,
          46,
          13,
          19,
          15,
          19,
          23,
          25,
          17,
          29,
          39,
          23,
          39,
          42,
          23,
          11,
          5,
          17,
          27,
          13,
          7,
          13,
          21,
          5,
          17,
          11,
          17,
          7,
          11,
          23,
          21,
          11,
          17,
          27,
          5,
          15,
          25,
          7,
          14,
          17,
          10,
          29,
          21,
          17,
          17,
          11,
          9,
          11,
          11,
          9,
          17,
          9,
          27,
          27,
          7,
          15,
          17,
          11,
          11,
          21,
          9,
          19,
          23,
          16,
          17,
          13,
          23,
          19,
          5,
          15,
          13,
          20,
          11,
          19,
          19,
          11,
          19,
          7,
          17,
          11,
          25,
          18,
          15,
          15,
          13,
          11,
          11,
          15,
          13,
          15,
          35,
          21,
          25,
          17,
          13,
          9,
          11,
          13,
          7,
          21,
          15,
          23,
          11,
          7,
          27,
          9,
          27,
          11,
          15,
          33,
          9,
          11,
          33,
          8,
          29,
          13,
          23,
          11,
          19,
          19,
          17,
          21,
          69,
          63,
          33,
          35,
          32,
          49,
          59,
          71,
          25,
          37,
          73,
          35,
          35,
          23,
          17,
          19,
          43,
          17,
          63,
          17,
          37,
          41,
          21,
          25,
          15,
          35,
          47,
          23,
          47,
          15,
          33,
          49,
          32,
          13,
          40,
          33,
          47,
          19,
          55,
          17,
          21,
          17,
          5,
          17,
          11,
          7,
          15,
          9,
          9,
          5,
          9,
          11,
          19,
          9,
          11,
          17,
          13,
          11,
          53,
          11,
          5,
          43,
          9,
          25,
          23,
          17,
          71,
          19,
          5,
          11,
          9,
          7,
          37,
          17,
          10,
          21,
          13,
          21,
          11,
          37,
          19,
          13,
          9,
          21,
          11,
          5,
          33,
          11,
          43,
          17,
          15,
          15,
          17,
          19,
          13,
          21,
          17,
          29,
          13,
          3,
          15,
          3,
          7,
          16,
          6,
          11,
          11,
          23,
          11,
          7,
          5,
          7,
          7,
          31,
          12,
          25,
          25,
          27,
          29,
          49,
          31,
          11,
          39,
          13,
          27,
          13,
          17,
          33,
          29,
          33,
          15,
          13,
          15,
          29,
          13,
          25,
          12,
          12,
          17,
          21,
          9,
          13,
          13,
          21,
          12,
          21,
          17,
          27,
          17,
          18,
          15,
          18,
          17,
          21,
          17,
          19,
          17,
          21,
          10
         ],
         "y0": " ",
         "yaxis": "y"
        }
       ],
       "layout": {
        "boxmode": "group",
        "legend": {
         "tracegroupgap": 0
        },
        "template": {
         "data": {
          "bar": [
           {
            "error_x": {
             "color": "#2a3f5f"
            },
            "error_y": {
             "color": "#2a3f5f"
            },
            "marker": {
             "line": {
              "color": "#E5ECF6",
              "width": 0.5
             },
             "pattern": {
              "fillmode": "overlay",
              "size": 10,
              "solidity": 0.2
             }
            },
            "type": "bar"
           }
          ],
          "barpolar": [
           {
            "marker": {
             "line": {
              "color": "#E5ECF6",
              "width": 0.5
             },
             "pattern": {
              "fillmode": "overlay",
              "size": 10,
              "solidity": 0.2
             }
            },
            "type": "barpolar"
           }
          ],
          "carpet": [
           {
            "aaxis": {
             "endlinecolor": "#2a3f5f",
             "gridcolor": "white",
             "linecolor": "white",
             "minorgridcolor": "white",
             "startlinecolor": "#2a3f5f"
            },
            "baxis": {
             "endlinecolor": "#2a3f5f",
             "gridcolor": "white",
             "linecolor": "white",
             "minorgridcolor": "white",
             "startlinecolor": "#2a3f5f"
            },
            "type": "carpet"
           }
          ],
          "choropleth": [
           {
            "colorbar": {
             "outlinewidth": 0,
             "ticks": ""
            },
            "type": "choropleth"
           }
          ],
          "contour": [
           {
            "colorbar": {
             "outlinewidth": 0,
             "ticks": ""
            },
            "colorscale": [
             [
              0,
              "#0d0887"
             ],
             [
              0.1111111111111111,
              "#46039f"
             ],
             [
              0.2222222222222222,
              "#7201a8"
             ],
             [
              0.3333333333333333,
              "#9c179e"
             ],
             [
              0.4444444444444444,
              "#bd3786"
             ],
             [
              0.5555555555555556,
              "#d8576b"
             ],
             [
              0.6666666666666666,
              "#ed7953"
             ],
             [
              0.7777777777777778,
              "#fb9f3a"
             ],
             [
              0.8888888888888888,
              "#fdca26"
             ],
             [
              1,
              "#f0f921"
             ]
            ],
            "type": "contour"
           }
          ],
          "contourcarpet": [
           {
            "colorbar": {
             "outlinewidth": 0,
             "ticks": ""
            },
            "type": "contourcarpet"
           }
          ],
          "heatmap": [
           {
            "colorbar": {
             "outlinewidth": 0,
             "ticks": ""
            },
            "colorscale": [
             [
              0,
              "#0d0887"
             ],
             [
              0.1111111111111111,
              "#46039f"
             ],
             [
              0.2222222222222222,
              "#7201a8"
             ],
             [
              0.3333333333333333,
              "#9c179e"
             ],
             [
              0.4444444444444444,
              "#bd3786"
             ],
             [
              0.5555555555555556,
              "#d8576b"
             ],
             [
              0.6666666666666666,
              "#ed7953"
             ],
             [
              0.7777777777777778,
              "#fb9f3a"
             ],
             [
              0.8888888888888888,
              "#fdca26"
             ],
             [
              1,
              "#f0f921"
             ]
            ],
            "type": "heatmap"
           }
          ],
          "heatmapgl": [
           {
            "colorbar": {
             "outlinewidth": 0,
             "ticks": ""
            },
            "colorscale": [
             [
              0,
              "#0d0887"
             ],
             [
              0.1111111111111111,
              "#46039f"
             ],
             [
              0.2222222222222222,
              "#7201a8"
             ],
             [
              0.3333333333333333,
              "#9c179e"
             ],
             [
              0.4444444444444444,
              "#bd3786"
             ],
             [
              0.5555555555555556,
              "#d8576b"
             ],
             [
              0.6666666666666666,
              "#ed7953"
             ],
             [
              0.7777777777777778,
              "#fb9f3a"
             ],
             [
              0.8888888888888888,
              "#fdca26"
             ],
             [
              1,
              "#f0f921"
             ]
            ],
            "type": "heatmapgl"
           }
          ],
          "histogram": [
           {
            "marker": {
             "pattern": {
              "fillmode": "overlay",
              "size": 10,
              "solidity": 0.2
             }
            },
            "type": "histogram"
           }
          ],
          "histogram2d": [
           {
            "colorbar": {
             "outlinewidth": 0,
             "ticks": ""
            },
            "colorscale": [
             [
              0,
              "#0d0887"
             ],
             [
              0.1111111111111111,
              "#46039f"
             ],
             [
              0.2222222222222222,
              "#7201a8"
             ],
             [
              0.3333333333333333,
              "#9c179e"
             ],
             [
              0.4444444444444444,
              "#bd3786"
             ],
             [
              0.5555555555555556,
              "#d8576b"
             ],
             [
              0.6666666666666666,
              "#ed7953"
             ],
             [
              0.7777777777777778,
              "#fb9f3a"
             ],
             [
              0.8888888888888888,
              "#fdca26"
             ],
             [
              1,
              "#f0f921"
             ]
            ],
            "type": "histogram2d"
           }
          ],
          "histogram2dcontour": [
           {
            "colorbar": {
             "outlinewidth": 0,
             "ticks": ""
            },
            "colorscale": [
             [
              0,
              "#0d0887"
             ],
             [
              0.1111111111111111,
              "#46039f"
             ],
             [
              0.2222222222222222,
              "#7201a8"
             ],
             [
              0.3333333333333333,
              "#9c179e"
             ],
             [
              0.4444444444444444,
              "#bd3786"
             ],
             [
              0.5555555555555556,
              "#d8576b"
             ],
             [
              0.6666666666666666,
              "#ed7953"
             ],
             [
              0.7777777777777778,
              "#fb9f3a"
             ],
             [
              0.8888888888888888,
              "#fdca26"
             ],
             [
              1,
              "#f0f921"
             ]
            ],
            "type": "histogram2dcontour"
           }
          ],
          "mesh3d": [
           {
            "colorbar": {
             "outlinewidth": 0,
             "ticks": ""
            },
            "type": "mesh3d"
           }
          ],
          "parcoords": [
           {
            "line": {
             "colorbar": {
              "outlinewidth": 0,
              "ticks": ""
             }
            },
            "type": "parcoords"
           }
          ],
          "pie": [
           {
            "automargin": true,
            "type": "pie"
           }
          ],
          "scatter": [
           {
            "fillpattern": {
             "fillmode": "overlay",
             "size": 10,
             "solidity": 0.2
            },
            "type": "scatter"
           }
          ],
          "scatter3d": [
           {
            "line": {
             "colorbar": {
              "outlinewidth": 0,
              "ticks": ""
             }
            },
            "marker": {
             "colorbar": {
              "outlinewidth": 0,
              "ticks": ""
             }
            },
            "type": "scatter3d"
           }
          ],
          "scattercarpet": [
           {
            "marker": {
             "colorbar": {
              "outlinewidth": 0,
              "ticks": ""
             }
            },
            "type": "scattercarpet"
           }
          ],
          "scattergeo": [
           {
            "marker": {
             "colorbar": {
              "outlinewidth": 0,
              "ticks": ""
             }
            },
            "type": "scattergeo"
           }
          ],
          "scattergl": [
           {
            "marker": {
             "colorbar": {
              "outlinewidth": 0,
              "ticks": ""
             }
            },
            "type": "scattergl"
           }
          ],
          "scattermapbox": [
           {
            "marker": {
             "colorbar": {
              "outlinewidth": 0,
              "ticks": ""
             }
            },
            "type": "scattermapbox"
           }
          ],
          "scatterpolar": [
           {
            "marker": {
             "colorbar": {
              "outlinewidth": 0,
              "ticks": ""
             }
            },
            "type": "scatterpolar"
           }
          ],
          "scatterpolargl": [
           {
            "marker": {
             "colorbar": {
              "outlinewidth": 0,
              "ticks": ""
             }
            },
            "type": "scatterpolargl"
           }
          ],
          "scatterternary": [
           {
            "marker": {
             "colorbar": {
              "outlinewidth": 0,
              "ticks": ""
             }
            },
            "type": "scatterternary"
           }
          ],
          "surface": [
           {
            "colorbar": {
             "outlinewidth": 0,
             "ticks": ""
            },
            "colorscale": [
             [
              0,
              "#0d0887"
             ],
             [
              0.1111111111111111,
              "#46039f"
             ],
             [
              0.2222222222222222,
              "#7201a8"
             ],
             [
              0.3333333333333333,
              "#9c179e"
             ],
             [
              0.4444444444444444,
              "#bd3786"
             ],
             [
              0.5555555555555556,
              "#d8576b"
             ],
             [
              0.6666666666666666,
              "#ed7953"
             ],
             [
              0.7777777777777778,
              "#fb9f3a"
             ],
             [
              0.8888888888888888,
              "#fdca26"
             ],
             [
              1,
              "#f0f921"
             ]
            ],
            "type": "surface"
           }
          ],
          "table": [
           {
            "cells": {
             "fill": {
              "color": "#EBF0F8"
             },
             "line": {
              "color": "white"
             }
            },
            "header": {
             "fill": {
              "color": "#C8D4E3"
             },
             "line": {
              "color": "white"
             }
            },
            "type": "table"
           }
          ]
         },
         "layout": {
          "annotationdefaults": {
           "arrowcolor": "#2a3f5f",
           "arrowhead": 0,
           "arrowwidth": 1
          },
          "autotypenumbers": "strict",
          "coloraxis": {
           "colorbar": {
            "outlinewidth": 0,
            "ticks": ""
           }
          },
          "colorscale": {
           "diverging": [
            [
             0,
             "#8e0152"
            ],
            [
             0.1,
             "#c51b7d"
            ],
            [
             0.2,
             "#de77ae"
            ],
            [
             0.3,
             "#f1b6da"
            ],
            [
             0.4,
             "#fde0ef"
            ],
            [
             0.5,
             "#f7f7f7"
            ],
            [
             0.6,
             "#e6f5d0"
            ],
            [
             0.7,
             "#b8e186"
            ],
            [
             0.8,
             "#7fbc41"
            ],
            [
             0.9,
             "#4d9221"
            ],
            [
             1,
             "#276419"
            ]
           ],
           "sequential": [
            [
             0,
             "#0d0887"
            ],
            [
             0.1111111111111111,
             "#46039f"
            ],
            [
             0.2222222222222222,
             "#7201a8"
            ],
            [
             0.3333333333333333,
             "#9c179e"
            ],
            [
             0.4444444444444444,
             "#bd3786"
            ],
            [
             0.5555555555555556,
             "#d8576b"
            ],
            [
             0.6666666666666666,
             "#ed7953"
            ],
            [
             0.7777777777777778,
             "#fb9f3a"
            ],
            [
             0.8888888888888888,
             "#fdca26"
            ],
            [
             1,
             "#f0f921"
            ]
           ],
           "sequentialminus": [
            [
             0,
             "#0d0887"
            ],
            [
             0.1111111111111111,
             "#46039f"
            ],
            [
             0.2222222222222222,
             "#7201a8"
            ],
            [
             0.3333333333333333,
             "#9c179e"
            ],
            [
             0.4444444444444444,
             "#bd3786"
            ],
            [
             0.5555555555555556,
             "#d8576b"
            ],
            [
             0.6666666666666666,
             "#ed7953"
            ],
            [
             0.7777777777777778,
             "#fb9f3a"
            ],
            [
             0.8888888888888888,
             "#fdca26"
            ],
            [
             1,
             "#f0f921"
            ]
           ]
          },
          "colorway": [
           "#636efa",
           "#EF553B",
           "#00cc96",
           "#ab63fa",
           "#FFA15A",
           "#19d3f3",
           "#FF6692",
           "#B6E880",
           "#FF97FF",
           "#FECB52"
          ],
          "font": {
           "color": "#2a3f5f"
          },
          "geo": {
           "bgcolor": "white",
           "lakecolor": "white",
           "landcolor": "#E5ECF6",
           "showlakes": true,
           "showland": true,
           "subunitcolor": "white"
          },
          "hoverlabel": {
           "align": "left"
          },
          "hovermode": "closest",
          "mapbox": {
           "style": "light"
          },
          "paper_bgcolor": "white",
          "plot_bgcolor": "#E5ECF6",
          "polar": {
           "angularaxis": {
            "gridcolor": "white",
            "linecolor": "white",
            "ticks": ""
           },
           "bgcolor": "#E5ECF6",
           "radialaxis": {
            "gridcolor": "white",
            "linecolor": "white",
            "ticks": ""
           }
          },
          "scene": {
           "xaxis": {
            "backgroundcolor": "#E5ECF6",
            "gridcolor": "white",
            "gridwidth": 2,
            "linecolor": "white",
            "showbackground": true,
            "ticks": "",
            "zerolinecolor": "white"
           },
           "yaxis": {
            "backgroundcolor": "#E5ECF6",
            "gridcolor": "white",
            "gridwidth": 2,
            "linecolor": "white",
            "showbackground": true,
            "ticks": "",
            "zerolinecolor": "white"
           },
           "zaxis": {
            "backgroundcolor": "#E5ECF6",
            "gridcolor": "white",
            "gridwidth": 2,
            "linecolor": "white",
            "showbackground": true,
            "ticks": "",
            "zerolinecolor": "white"
           }
          },
          "shapedefaults": {
           "line": {
            "color": "#2a3f5f"
           }
          },
          "ternary": {
           "aaxis": {
            "gridcolor": "white",
            "linecolor": "white",
            "ticks": ""
           },
           "baxis": {
            "gridcolor": "white",
            "linecolor": "white",
            "ticks": ""
           },
           "bgcolor": "#E5ECF6",
           "caxis": {
            "gridcolor": "white",
            "linecolor": "white",
            "ticks": ""
           }
          },
          "title": {
           "x": 0.05
          },
          "xaxis": {
           "automargin": true,
           "gridcolor": "white",
           "linecolor": "white",
           "ticks": "",
           "title": {
            "standoff": 15
           },
           "zerolinecolor": "white",
           "zerolinewidth": 2
          },
          "yaxis": {
           "automargin": true,
           "gridcolor": "white",
           "linecolor": "white",
           "ticks": "",
           "title": {
            "standoff": 15
           },
           "zerolinecolor": "white",
           "zerolinewidth": 2
          }
         }
        },
        "title": {
         "text": "Distribution of NCV for Data Group: 2"
        },
        "xaxis": {
         "anchor": "y",
         "domain": [
          0,
          1
         ],
         "title": {
          "text": "NCV"
         }
        },
        "yaxis": {
         "anchor": "x",
         "domain": [
          0,
          1
         ],
         "title": {
          "text": "Frequency"
         }
        }
       }
      }
     },
     "metadata": {},
     "output_type": "display_data"
    },
    {
     "data": {
      "application/vnd.plotly.v1+json": {
       "config": {
        "plotlyServerURL": "https://plot.ly"
       },
       "data": [
        {
         "alignmentgroup": "True",
         "hovertemplate": "NCA=%{y}<extra></extra>",
         "legendgroup": "",
         "marker": {
          "color": "#636efa"
         },
         "name": "",
         "notched": false,
         "offsetgroup": "",
         "orientation": "v",
         "showlegend": false,
         "type": "box",
         "x0": " ",
         "xaxis": "x",
         "y": [
          59,
          96,
          60,
          73,
          116,
          254,
          58,
          99,
          127,
          57,
          123,
          137,
          66,
          123,
          104,
          156,
          64,
          85,
          102,
          146,
          97,
          145,
          88,
          112,
          64,
          76,
          90,
          94,
          77,
          96,
          69,
          106,
          68,
          100,
          56,
          141,
          82,
          60,
          98,
          85,
          125,
          153,
          104,
          54,
          101,
          47,
          164,
          66,
          103,
          174,
          115,
          61,
          162,
          145,
          175,
          95,
          175,
          94,
          175,
          82,
          167,
          65,
          80,
          137,
          95,
          100,
          53,
          146,
          64,
          86,
          62,
          65,
          173,
          107,
          197,
          64,
          68,
          80,
          79,
          88,
          161,
          76,
          81,
          43,
          57,
          51,
          84,
          51,
          79,
          67,
          58,
          95,
          46,
          92,
          67,
          87,
          94,
          86,
          104,
          119,
          92,
          60,
          72,
          88,
          98,
          111,
          64,
          71,
          85,
          81,
          66,
          122,
          78,
          63,
          73,
          79,
          78,
          96,
          87,
          48,
          75,
          56,
          49,
          62,
          66,
          47,
          84,
          48,
          74,
          90,
          83,
          59,
          95,
          148,
          96,
          86,
          69,
          54,
          96,
          55,
          48,
          98,
          64,
          91,
          83,
          48,
          118,
          110,
          79,
          151,
          54,
          100,
          90,
          104,
          119,
          76,
          76,
          147,
          65,
          105,
          48,
          65,
          73,
          45,
          137,
          84,
          55,
          155,
          58,
          90,
          149,
          87,
          57,
          82,
          147,
          93,
          224,
          65,
          148,
          73,
          116,
          133,
          67,
          122,
          63,
          86,
          145,
          142,
          91,
          140,
          91,
          72,
          92,
          180,
          138,
          99,
          278,
          91,
          69,
          145,
          119,
          178,
          186,
          110,
          95,
          122,
          47,
          85,
          232,
          74,
          75,
          203,
          66,
          181,
          290,
          317,
          75,
          168,
          127,
          177,
          83,
          108,
          83,
          85,
          104,
          94,
          86,
          128,
          137,
          151,
          200,
          126,
          78,
          155,
          83,
          80,
          93,
          88,
          87,
          83,
          69,
          105,
          84,
          129,
          94,
          61,
          65,
          178,
          84,
          106,
          159,
          119,
          65,
          136,
          95,
          134,
          88,
          81,
          104,
          58,
          183,
          87,
          216,
          95,
          90,
          87,
          84,
          77,
          102,
          112,
          75,
          131,
          112,
          72,
          72,
          99,
          130,
          77,
          67,
          172,
          158,
          56,
          98,
          63,
          164,
          81,
          88,
          119,
          62,
          219,
          110,
          59,
          99,
          227,
          75,
          245,
          75,
          105,
          111,
          169,
          57,
          74,
          89,
          57,
          70,
          66,
          85,
          108,
          64,
          166,
          81,
          120,
          68,
          97,
          90,
          108,
          98,
          65,
          144,
          188,
          83,
          59,
          81,
          55,
          50,
          72,
          41,
          79,
          39,
          61,
          48,
          52,
          38,
          52,
          70,
          58,
          54,
          56,
          62,
          62,
          69,
          35,
          68,
          59,
          69,
          116,
          40,
          64,
          42,
          82,
          81,
          46,
          73,
          76,
          34,
          52,
          73,
          55,
          72,
          76,
          57,
          62,
          86,
          82,
          50,
          71,
          46,
          96,
          43,
          40,
          47,
          60,
          53,
          41,
          77,
          118,
          73,
          76,
          74,
          49,
          46,
          72,
          48,
          53,
          43,
          111,
          87,
          68,
          60,
          63,
          42,
          41,
          90,
          43,
          53,
          47,
          47,
          104,
          71,
          53,
          278,
          253,
          115,
          71,
          205,
          178,
          317,
          165,
          93,
          347,
          250,
          341,
          126,
          243,
          191,
          281,
          160,
          201,
          138,
          307,
          105,
          327,
          219,
          308,
          169,
          118,
          158,
          362,
          125,
          214,
          128,
          107,
          201,
          174,
          168,
          309,
          223,
          161,
          132,
          347,
          76,
          96,
          90,
          60,
          46,
          98,
          68,
          52,
          73,
          74,
          61,
          60,
          50,
          46,
          58,
          80,
          112,
          96,
          45,
          63,
          39,
          53,
          91,
          41,
          73,
          56,
          47,
          60,
          65,
          72,
          52,
          132,
          75,
          40,
          120,
          74,
          82,
          73,
          56,
          48,
          32,
          56,
          74,
          57,
          52,
          38,
          106,
          35,
          45,
          27,
          52,
          49,
          28,
          85,
          30,
          64,
          77,
          64,
          35,
          58,
          30,
          65,
          120,
          27,
          108,
          97,
          61,
          139,
          60,
          123,
          99,
          34,
          57,
          122,
          94,
          63,
          36,
          65,
          89,
          91,
          83,
          46,
          60,
          55,
          53,
          57,
          53,
          87,
          67,
          37,
          89,
          69,
          80,
          39,
          67,
          40,
          78,
          28,
          101,
          30,
          47,
          30,
          72,
          51,
          59,
          41,
          78,
          27,
          61,
          22,
          49,
          27,
          46,
          26,
          53,
          47,
          46,
          59,
          22,
          34,
          69,
          171,
          118,
          50,
          63,
          75,
          93,
          69,
          187,
          104,
          60,
          98,
          190,
          56,
          112,
          191,
          72,
          65,
          116,
          61,
          60,
          198,
          66,
          64,
          194,
          62,
          153,
          58,
          118,
          91,
          184,
          54,
          209,
          134,
          198,
          62,
          86,
          180,
          80,
          65,
          69,
          64,
          121,
          77,
          121,
          68,
          68,
          79,
          105,
          60,
          77,
          60,
          81,
          71,
          65,
          51,
          66,
          66,
          62,
          50,
          138,
          88,
          62,
          73,
          63,
          73,
          70,
          36,
          79,
          63,
          83,
          112,
          62,
          110,
          71,
          115,
          50,
          66,
          100,
          71,
          41,
          38,
          31,
          61,
          66,
          59,
          128,
          82,
          89,
          47,
          122,
          111,
          26,
          43,
          92,
          59,
          107,
          29,
          85,
          98,
          28,
          74,
          29,
          59,
          33,
          45,
          38,
          83,
          54,
          35,
          80,
          88,
          55,
          28,
          50,
          41,
          82,
          84,
          39,
          101,
          211,
          113,
          174,
          73,
          213,
          114,
          168,
          65,
          121,
          130,
          176,
          95,
          97,
          90,
          405,
          78,
          131,
          187,
          214,
          106,
          112,
          258,
          164,
          196,
          165,
          117,
          101,
          172,
          173,
          112,
          203,
          213,
          179,
          88,
          216,
          172,
          85,
          178,
          89,
          95,
          54,
          81,
          35,
          129,
          78,
          39,
          116,
          39,
          86,
          35,
          80,
          46,
          83,
          65,
          36,
          55,
          99,
          53,
          122,
          94,
          35,
          54,
          81,
          73,
          47,
          48,
          41,
          42,
          74,
          55,
          47,
          52,
          87,
          36,
          36,
          39,
          35,
          51,
          82,
          47,
          119,
          85,
          84,
          80,
          81,
          97,
          126,
          98,
          66,
          86,
          106,
          69,
          56,
          138,
          107,
          117,
          113,
          77,
          94,
          131,
          137,
          93,
          99,
          68,
          83,
          150,
          101,
          65,
          85,
          83,
          72,
          86,
          89,
          89,
          104,
          59,
          103,
          130,
          96,
          67,
          41,
          39,
          69,
          45,
          72,
          106,
          96,
          154,
          107,
          147,
          158,
          87,
          133,
          71,
          102,
          99,
          109,
          112,
          31,
          48,
          60,
          121,
          61,
          51,
          73,
          92,
          121,
          81,
          131,
          55,
          34,
          95,
          42,
          76,
          47,
          94,
          58,
          129,
          123,
          100,
          43,
          78,
          48,
          116,
          67,
          111,
          66,
          100,
          146,
          62,
          129,
          147,
          121,
          59,
          123,
          68,
          115,
          51,
          102,
          72,
          85,
          70,
          73,
          125,
          77,
          158,
          115,
          69,
          81,
          140,
          84,
          110,
          115,
          121,
          61,
          114,
          114,
          123,
          58,
          120,
          55,
          88,
          45,
          111,
          73,
          137,
          66,
          50,
          45,
          58,
          39,
          100,
          57,
          67,
          90,
          67,
          49,
          49,
          49,
          58,
          64,
          55,
          61,
          110,
          42,
          56,
          90,
          64,
          94,
          68,
          95,
          53,
          51,
          32,
          279,
          76,
          75,
          74,
          73,
          100
         ],
         "y0": " ",
         "yaxis": "y"
        }
       ],
       "layout": {
        "boxmode": "group",
        "legend": {
         "tracegroupgap": 0
        },
        "template": {
         "data": {
          "bar": [
           {
            "error_x": {
             "color": "#2a3f5f"
            },
            "error_y": {
             "color": "#2a3f5f"
            },
            "marker": {
             "line": {
              "color": "#E5ECF6",
              "width": 0.5
             },
             "pattern": {
              "fillmode": "overlay",
              "size": 10,
              "solidity": 0.2
             }
            },
            "type": "bar"
           }
          ],
          "barpolar": [
           {
            "marker": {
             "line": {
              "color": "#E5ECF6",
              "width": 0.5
             },
             "pattern": {
              "fillmode": "overlay",
              "size": 10,
              "solidity": 0.2
             }
            },
            "type": "barpolar"
           }
          ],
          "carpet": [
           {
            "aaxis": {
             "endlinecolor": "#2a3f5f",
             "gridcolor": "white",
             "linecolor": "white",
             "minorgridcolor": "white",
             "startlinecolor": "#2a3f5f"
            },
            "baxis": {
             "endlinecolor": "#2a3f5f",
             "gridcolor": "white",
             "linecolor": "white",
             "minorgridcolor": "white",
             "startlinecolor": "#2a3f5f"
            },
            "type": "carpet"
           }
          ],
          "choropleth": [
           {
            "colorbar": {
             "outlinewidth": 0,
             "ticks": ""
            },
            "type": "choropleth"
           }
          ],
          "contour": [
           {
            "colorbar": {
             "outlinewidth": 0,
             "ticks": ""
            },
            "colorscale": [
             [
              0,
              "#0d0887"
             ],
             [
              0.1111111111111111,
              "#46039f"
             ],
             [
              0.2222222222222222,
              "#7201a8"
             ],
             [
              0.3333333333333333,
              "#9c179e"
             ],
             [
              0.4444444444444444,
              "#bd3786"
             ],
             [
              0.5555555555555556,
              "#d8576b"
             ],
             [
              0.6666666666666666,
              "#ed7953"
             ],
             [
              0.7777777777777778,
              "#fb9f3a"
             ],
             [
              0.8888888888888888,
              "#fdca26"
             ],
             [
              1,
              "#f0f921"
             ]
            ],
            "type": "contour"
           }
          ],
          "contourcarpet": [
           {
            "colorbar": {
             "outlinewidth": 0,
             "ticks": ""
            },
            "type": "contourcarpet"
           }
          ],
          "heatmap": [
           {
            "colorbar": {
             "outlinewidth": 0,
             "ticks": ""
            },
            "colorscale": [
             [
              0,
              "#0d0887"
             ],
             [
              0.1111111111111111,
              "#46039f"
             ],
             [
              0.2222222222222222,
              "#7201a8"
             ],
             [
              0.3333333333333333,
              "#9c179e"
             ],
             [
              0.4444444444444444,
              "#bd3786"
             ],
             [
              0.5555555555555556,
              "#d8576b"
             ],
             [
              0.6666666666666666,
              "#ed7953"
             ],
             [
              0.7777777777777778,
              "#fb9f3a"
             ],
             [
              0.8888888888888888,
              "#fdca26"
             ],
             [
              1,
              "#f0f921"
             ]
            ],
            "type": "heatmap"
           }
          ],
          "heatmapgl": [
           {
            "colorbar": {
             "outlinewidth": 0,
             "ticks": ""
            },
            "colorscale": [
             [
              0,
              "#0d0887"
             ],
             [
              0.1111111111111111,
              "#46039f"
             ],
             [
              0.2222222222222222,
              "#7201a8"
             ],
             [
              0.3333333333333333,
              "#9c179e"
             ],
             [
              0.4444444444444444,
              "#bd3786"
             ],
             [
              0.5555555555555556,
              "#d8576b"
             ],
             [
              0.6666666666666666,
              "#ed7953"
             ],
             [
              0.7777777777777778,
              "#fb9f3a"
             ],
             [
              0.8888888888888888,
              "#fdca26"
             ],
             [
              1,
              "#f0f921"
             ]
            ],
            "type": "heatmapgl"
           }
          ],
          "histogram": [
           {
            "marker": {
             "pattern": {
              "fillmode": "overlay",
              "size": 10,
              "solidity": 0.2
             }
            },
            "type": "histogram"
           }
          ],
          "histogram2d": [
           {
            "colorbar": {
             "outlinewidth": 0,
             "ticks": ""
            },
            "colorscale": [
             [
              0,
              "#0d0887"
             ],
             [
              0.1111111111111111,
              "#46039f"
             ],
             [
              0.2222222222222222,
              "#7201a8"
             ],
             [
              0.3333333333333333,
              "#9c179e"
             ],
             [
              0.4444444444444444,
              "#bd3786"
             ],
             [
              0.5555555555555556,
              "#d8576b"
             ],
             [
              0.6666666666666666,
              "#ed7953"
             ],
             [
              0.7777777777777778,
              "#fb9f3a"
             ],
             [
              0.8888888888888888,
              "#fdca26"
             ],
             [
              1,
              "#f0f921"
             ]
            ],
            "type": "histogram2d"
           }
          ],
          "histogram2dcontour": [
           {
            "colorbar": {
             "outlinewidth": 0,
             "ticks": ""
            },
            "colorscale": [
             [
              0,
              "#0d0887"
             ],
             [
              0.1111111111111111,
              "#46039f"
             ],
             [
              0.2222222222222222,
              "#7201a8"
             ],
             [
              0.3333333333333333,
              "#9c179e"
             ],
             [
              0.4444444444444444,
              "#bd3786"
             ],
             [
              0.5555555555555556,
              "#d8576b"
             ],
             [
              0.6666666666666666,
              "#ed7953"
             ],
             [
              0.7777777777777778,
              "#fb9f3a"
             ],
             [
              0.8888888888888888,
              "#fdca26"
             ],
             [
              1,
              "#f0f921"
             ]
            ],
            "type": "histogram2dcontour"
           }
          ],
          "mesh3d": [
           {
            "colorbar": {
             "outlinewidth": 0,
             "ticks": ""
            },
            "type": "mesh3d"
           }
          ],
          "parcoords": [
           {
            "line": {
             "colorbar": {
              "outlinewidth": 0,
              "ticks": ""
             }
            },
            "type": "parcoords"
           }
          ],
          "pie": [
           {
            "automargin": true,
            "type": "pie"
           }
          ],
          "scatter": [
           {
            "fillpattern": {
             "fillmode": "overlay",
             "size": 10,
             "solidity": 0.2
            },
            "type": "scatter"
           }
          ],
          "scatter3d": [
           {
            "line": {
             "colorbar": {
              "outlinewidth": 0,
              "ticks": ""
             }
            },
            "marker": {
             "colorbar": {
              "outlinewidth": 0,
              "ticks": ""
             }
            },
            "type": "scatter3d"
           }
          ],
          "scattercarpet": [
           {
            "marker": {
             "colorbar": {
              "outlinewidth": 0,
              "ticks": ""
             }
            },
            "type": "scattercarpet"
           }
          ],
          "scattergeo": [
           {
            "marker": {
             "colorbar": {
              "outlinewidth": 0,
              "ticks": ""
             }
            },
            "type": "scattergeo"
           }
          ],
          "scattergl": [
           {
            "marker": {
             "colorbar": {
              "outlinewidth": 0,
              "ticks": ""
             }
            },
            "type": "scattergl"
           }
          ],
          "scattermapbox": [
           {
            "marker": {
             "colorbar": {
              "outlinewidth": 0,
              "ticks": ""
             }
            },
            "type": "scattermapbox"
           }
          ],
          "scatterpolar": [
           {
            "marker": {
             "colorbar": {
              "outlinewidth": 0,
              "ticks": ""
             }
            },
            "type": "scatterpolar"
           }
          ],
          "scatterpolargl": [
           {
            "marker": {
             "colorbar": {
              "outlinewidth": 0,
              "ticks": ""
             }
            },
            "type": "scatterpolargl"
           }
          ],
          "scatterternary": [
           {
            "marker": {
             "colorbar": {
              "outlinewidth": 0,
              "ticks": ""
             }
            },
            "type": "scatterternary"
           }
          ],
          "surface": [
           {
            "colorbar": {
             "outlinewidth": 0,
             "ticks": ""
            },
            "colorscale": [
             [
              0,
              "#0d0887"
             ],
             [
              0.1111111111111111,
              "#46039f"
             ],
             [
              0.2222222222222222,
              "#7201a8"
             ],
             [
              0.3333333333333333,
              "#9c179e"
             ],
             [
              0.4444444444444444,
              "#bd3786"
             ],
             [
              0.5555555555555556,
              "#d8576b"
             ],
             [
              0.6666666666666666,
              "#ed7953"
             ],
             [
              0.7777777777777778,
              "#fb9f3a"
             ],
             [
              0.8888888888888888,
              "#fdca26"
             ],
             [
              1,
              "#f0f921"
             ]
            ],
            "type": "surface"
           }
          ],
          "table": [
           {
            "cells": {
             "fill": {
              "color": "#EBF0F8"
             },
             "line": {
              "color": "white"
             }
            },
            "header": {
             "fill": {
              "color": "#C8D4E3"
             },
             "line": {
              "color": "white"
             }
            },
            "type": "table"
           }
          ]
         },
         "layout": {
          "annotationdefaults": {
           "arrowcolor": "#2a3f5f",
           "arrowhead": 0,
           "arrowwidth": 1
          },
          "autotypenumbers": "strict",
          "coloraxis": {
           "colorbar": {
            "outlinewidth": 0,
            "ticks": ""
           }
          },
          "colorscale": {
           "diverging": [
            [
             0,
             "#8e0152"
            ],
            [
             0.1,
             "#c51b7d"
            ],
            [
             0.2,
             "#de77ae"
            ],
            [
             0.3,
             "#f1b6da"
            ],
            [
             0.4,
             "#fde0ef"
            ],
            [
             0.5,
             "#f7f7f7"
            ],
            [
             0.6,
             "#e6f5d0"
            ],
            [
             0.7,
             "#b8e186"
            ],
            [
             0.8,
             "#7fbc41"
            ],
            [
             0.9,
             "#4d9221"
            ],
            [
             1,
             "#276419"
            ]
           ],
           "sequential": [
            [
             0,
             "#0d0887"
            ],
            [
             0.1111111111111111,
             "#46039f"
            ],
            [
             0.2222222222222222,
             "#7201a8"
            ],
            [
             0.3333333333333333,
             "#9c179e"
            ],
            [
             0.4444444444444444,
             "#bd3786"
            ],
            [
             0.5555555555555556,
             "#d8576b"
            ],
            [
             0.6666666666666666,
             "#ed7953"
            ],
            [
             0.7777777777777778,
             "#fb9f3a"
            ],
            [
             0.8888888888888888,
             "#fdca26"
            ],
            [
             1,
             "#f0f921"
            ]
           ],
           "sequentialminus": [
            [
             0,
             "#0d0887"
            ],
            [
             0.1111111111111111,
             "#46039f"
            ],
            [
             0.2222222222222222,
             "#7201a8"
            ],
            [
             0.3333333333333333,
             "#9c179e"
            ],
            [
             0.4444444444444444,
             "#bd3786"
            ],
            [
             0.5555555555555556,
             "#d8576b"
            ],
            [
             0.6666666666666666,
             "#ed7953"
            ],
            [
             0.7777777777777778,
             "#fb9f3a"
            ],
            [
             0.8888888888888888,
             "#fdca26"
            ],
            [
             1,
             "#f0f921"
            ]
           ]
          },
          "colorway": [
           "#636efa",
           "#EF553B",
           "#00cc96",
           "#ab63fa",
           "#FFA15A",
           "#19d3f3",
           "#FF6692",
           "#B6E880",
           "#FF97FF",
           "#FECB52"
          ],
          "font": {
           "color": "#2a3f5f"
          },
          "geo": {
           "bgcolor": "white",
           "lakecolor": "white",
           "landcolor": "#E5ECF6",
           "showlakes": true,
           "showland": true,
           "subunitcolor": "white"
          },
          "hoverlabel": {
           "align": "left"
          },
          "hovermode": "closest",
          "mapbox": {
           "style": "light"
          },
          "paper_bgcolor": "white",
          "plot_bgcolor": "#E5ECF6",
          "polar": {
           "angularaxis": {
            "gridcolor": "white",
            "linecolor": "white",
            "ticks": ""
           },
           "bgcolor": "#E5ECF6",
           "radialaxis": {
            "gridcolor": "white",
            "linecolor": "white",
            "ticks": ""
           }
          },
          "scene": {
           "xaxis": {
            "backgroundcolor": "#E5ECF6",
            "gridcolor": "white",
            "gridwidth": 2,
            "linecolor": "white",
            "showbackground": true,
            "ticks": "",
            "zerolinecolor": "white"
           },
           "yaxis": {
            "backgroundcolor": "#E5ECF6",
            "gridcolor": "white",
            "gridwidth": 2,
            "linecolor": "white",
            "showbackground": true,
            "ticks": "",
            "zerolinecolor": "white"
           },
           "zaxis": {
            "backgroundcolor": "#E5ECF6",
            "gridcolor": "white",
            "gridwidth": 2,
            "linecolor": "white",
            "showbackground": true,
            "ticks": "",
            "zerolinecolor": "white"
           }
          },
          "shapedefaults": {
           "line": {
            "color": "#2a3f5f"
           }
          },
          "ternary": {
           "aaxis": {
            "gridcolor": "white",
            "linecolor": "white",
            "ticks": ""
           },
           "baxis": {
            "gridcolor": "white",
            "linecolor": "white",
            "ticks": ""
           },
           "bgcolor": "#E5ECF6",
           "caxis": {
            "gridcolor": "white",
            "linecolor": "white",
            "ticks": ""
           }
          },
          "title": {
           "x": 0.05
          },
          "xaxis": {
           "automargin": true,
           "gridcolor": "white",
           "linecolor": "white",
           "ticks": "",
           "title": {
            "standoff": 15
           },
           "zerolinecolor": "white",
           "zerolinewidth": 2
          },
          "yaxis": {
           "automargin": true,
           "gridcolor": "white",
           "linecolor": "white",
           "ticks": "",
           "title": {
            "standoff": 15
           },
           "zerolinecolor": "white",
           "zerolinewidth": 2
          }
         }
        },
        "title": {
         "text": "Distribution of NCA for Data Group: 3"
        },
        "xaxis": {
         "anchor": "y",
         "domain": [
          0,
          1
         ],
         "title": {
          "text": "NCA"
         }
        },
        "yaxis": {
         "anchor": "x",
         "domain": [
          0,
          1
         ],
         "title": {
          "text": "Frequency"
         }
        }
       }
      }
     },
     "metadata": {},
     "output_type": "display_data"
    },
    {
     "data": {
      "application/vnd.plotly.v1+json": {
       "config": {
        "plotlyServerURL": "https://plot.ly"
       },
       "data": [
        {
         "alignmentgroup": "True",
         "hovertemplate": "NCV=%{y}<extra></extra>",
         "legendgroup": "",
         "marker": {
          "color": "#636efa"
         },
         "name": "",
         "notched": false,
         "offsetgroup": "",
         "orientation": "v",
         "showlegend": false,
         "type": "box",
         "x0": " ",
         "xaxis": "x",
         "y": [
          19,
          13,
          17,
          21,
          15,
          75,
          20,
          11,
          39,
          13,
          41,
          45,
          17,
          37,
          17,
          41,
          15,
          19,
          17,
          55,
          21,
          45,
          25,
          11,
          13,
          19,
          19,
          31,
          21,
          24,
          19,
          9,
          15,
          13,
          13,
          49,
          15,
          17,
          27,
          19,
          23,
          31,
          15,
          11,
          25,
          11,
          27,
          15,
          19,
          41,
          27,
          9,
          21,
          37,
          27,
          19,
          27,
          13,
          29,
          21,
          39,
          16,
          13,
          32,
          13,
          15,
          9,
          31,
          5,
          23,
          11,
          11,
          37,
          28,
          19,
          11,
          13,
          13,
          17,
          19,
          31,
          7,
          21,
          3,
          19,
          15,
          11,
          15,
          13,
          21,
          21,
          18,
          15,
          15,
          15,
          17,
          23,
          13,
          21,
          17,
          15,
          21,
          7,
          7,
          7,
          21,
          9,
          17,
          11,
          13,
          11,
          19,
          9,
          17,
          9,
          3,
          19,
          5,
          19,
          11,
          7,
          5,
          11,
          21,
          23,
          7,
          19,
          9,
          21,
          25,
          19,
          14,
          23,
          49,
          33,
          17,
          21,
          7,
          23,
          9,
          13,
          11,
          19,
          17,
          25,
          11,
          41,
          15,
          11,
          43,
          17,
          21,
          5,
          27,
          31,
          13,
          17,
          27,
          15,
          23,
          7,
          17,
          11,
          3,
          17,
          15,
          1,
          25,
          5,
          3,
          25,
          9,
          3,
          11,
          17,
          11,
          29,
          17,
          21,
          5,
          15,
          17,
          5,
          29,
          1,
          19,
          19,
          11,
          19,
          19,
          11,
          3,
          23,
          15,
          31,
          15,
          25,
          21,
          1,
          31,
          11,
          45,
          49,
          21,
          19,
          19,
          19,
          9,
          67,
          17,
          11,
          51,
          11,
          37,
          87,
          75,
          19,
          35,
          21,
          52,
          21,
          23,
          19,
          25,
          19,
          21,
          17,
          41,
          41,
          45,
          79,
          41,
          15,
          43,
          15,
          13,
          19,
          33,
          23,
          23,
          11,
          23,
          19,
          27,
          21,
          11,
          9,
          55,
          21,
          25,
          39,
          29,
          19,
          25,
          11,
          34,
          15,
          17,
          31,
          11,
          47,
          21,
          43,
          15,
          27,
          19,
          21,
          21,
          27,
          27,
          5,
          29,
          23,
          23,
          13,
          21,
          41,
          29,
          11,
          65,
          39,
          13,
          25,
          13,
          41,
          21,
          11,
          23,
          15,
          43,
          21,
          11,
          29,
          71,
          9,
          83,
          13,
          29,
          29,
          43,
          17,
          25,
          19,
          9,
          21,
          21,
          11,
          33,
          15,
          33,
          23,
          35,
          15,
          29,
          23,
          19,
          15,
          15,
          25,
          49,
          19,
          9,
          17,
          15,
          7,
          17,
          9,
          13,
          9,
          11,
          11,
          11,
          7,
          13,
          9,
          19,
          7,
          15,
          11,
          31,
          7,
          7,
          7,
          11,
          17,
          31,
          13,
          13,
          9,
          13,
          7,
          7,
          9,
          15,
          13,
          7,
          15,
          15,
          13,
          19,
          12,
          15,
          15,
          23,
          11,
          27,
          15,
          29,
          3,
          13,
          13,
          17,
          15,
          1,
          25,
          43,
          17,
          21,
          21,
          11,
          3,
          17,
          1,
          15,
          2,
          29,
          21,
          13,
          11,
          11,
          1,
          17,
          17,
          17,
          5,
          9,
          1,
          27,
          17,
          25,
          85,
          55,
          33,
          37,
          63,
          59,
          99,
          44,
          21,
          101,
          55,
          93,
          31,
          69,
          47,
          75,
          27,
          53,
          37,
          81,
          19,
          77,
          57,
          88,
          41,
          33,
          33,
          99,
          31,
          55,
          31,
          35,
          52,
          47,
          42,
          77,
          69,
          39,
          27,
          73,
          28,
          25,
          27,
          15,
          15,
          33,
          23,
          19,
          17,
          25,
          15,
          13,
          13,
          19,
          21,
          27,
          34,
          25,
          13,
          15,
          13,
          11,
          25,
          11,
          16,
          19,
          13,
          17,
          15,
          15,
          15,
          35,
          13,
          13,
          23,
          19,
          20,
          11,
          11,
          9,
          1,
          13,
          15,
          17,
          11,
          3,
          23,
          3,
          11,
          1,
          13,
          11,
          2,
          19,
          1,
          11,
          15,
          11,
          1,
          11,
          1,
          13,
          33,
          1,
          29,
          22,
          16,
          25,
          19,
          23,
          27,
          1,
          13,
          23,
          17,
          13,
          11,
          11,
          17,
          15,
          17,
          9,
          15,
          15,
          7,
          15,
          11,
          21,
          17,
          11,
          23,
          19,
          20,
          2,
          23,
          1,
          17,
          1,
          31,
          1,
          13,
          3,
          16,
          13,
          13,
          13,
          19,
          3,
          19,
          1,
          13,
          3,
          11,
          1,
          11,
          9,
          11,
          9,
          1,
          11,
          25,
          53,
          37,
          15,
          15,
          21,
          27,
          13,
          59,
          35,
          27,
          31,
          55,
          19,
          33,
          63,
          19,
          17,
          34,
          13,
          17,
          61,
          19,
          15,
          69,
          19,
          53,
          21,
          37,
          39,
          69,
          21,
          87,
          37,
          73,
          19,
          31,
          63,
          25,
          25,
          27,
          9,
          25,
          19,
          39,
          19,
          17,
          29,
          23,
          19,
          19,
          17,
          17,
          15,
          17,
          15,
          13,
          21,
          13,
          19,
          33,
          23,
          23,
          19,
          17,
          9,
          11,
          13,
          21,
          13,
          19,
          29,
          11,
          27,
          11,
          28,
          11,
          15,
          25,
          9,
          5,
          13,
          3,
          15,
          17,
          9,
          41,
          21,
          29,
          15,
          37,
          35,
          3,
          11,
          27,
          17,
          31,
          3,
          25,
          25,
          5,
          27,
          1,
          22,
          6,
          17,
          1,
          15,
          11,
          7,
          17,
          27,
          7,
          3,
          11,
          19,
          19,
          29,
          17,
          29,
          82,
          27,
          39,
          13,
          43,
          19,
          37,
          11,
          13,
          19,
          57,
          17,
          19,
          19,
          155,
          19,
          17,
          47,
          75,
          23,
          29,
          81,
          51,
          85,
          47,
          27,
          23,
          31,
          29,
          29,
          44,
          70,
          51,
          21,
          53,
          61,
          19,
          57,
          23,
          11,
          11,
          23,
          7,
          41,
          31,
          5,
          25,
          12,
          27,
          11,
          35,
          3,
          31,
          19,
          12,
          13,
          29,
          21,
          37,
          25,
          3,
          13,
          21,
          29,
          15,
          3,
          7,
          9,
          19,
          17,
          3,
          11,
          21,
          15,
          7,
          11,
          5,
          17,
          19,
          3,
          43,
          13,
          19,
          19,
          29,
          13,
          29,
          11,
          19,
          27,
          17,
          19,
          17,
          41,
          18,
          19,
          13,
          17,
          21,
          33,
          31,
          18,
          21,
          17,
          21,
          53,
          17,
          21,
          18,
          9,
          21,
          19,
          25,
          25,
          21,
          19,
          27,
          33,
          15,
          21,
          13,
          11,
          21,
          13,
          17,
          23,
          27,
          53,
          21,
          45,
          45,
          21,
          35,
          25,
          39,
          37,
          25,
          27,
          11,
          13,
          19,
          31,
          17,
          9,
          19,
          27,
          37,
          19,
          33,
          11,
          11,
          25,
          11,
          17,
          9,
          23,
          13,
          39,
          39,
          25,
          18,
          27,
          23,
          53,
          35,
          37,
          29,
          41,
          67,
          31,
          54,
          37,
          49,
          31,
          57,
          35,
          55,
          27,
          39,
          31,
          23,
          31,
          24,
          49,
          31,
          51,
          31,
          27,
          36,
          63,
          28,
          42,
          49,
          45,
          20,
          57,
          49,
          68,
          31,
          57,
          25,
          29,
          5,
          37,
          13,
          39,
          19,
          13,
          4,
          11,
          7,
          35,
          13,
          23,
          27,
          29,
          15,
          17,
          3,
          21,
          11,
          23,
          11,
          33,
          11,
          13,
          33,
          11,
          25,
          27,
          23,
          15,
          5,
          11,
          91,
          13,
          11,
          9,
          27,
          23
         ],
         "y0": " ",
         "yaxis": "y"
        }
       ],
       "layout": {
        "boxmode": "group",
        "legend": {
         "tracegroupgap": 0
        },
        "template": {
         "data": {
          "bar": [
           {
            "error_x": {
             "color": "#2a3f5f"
            },
            "error_y": {
             "color": "#2a3f5f"
            },
            "marker": {
             "line": {
              "color": "#E5ECF6",
              "width": 0.5
             },
             "pattern": {
              "fillmode": "overlay",
              "size": 10,
              "solidity": 0.2
             }
            },
            "type": "bar"
           }
          ],
          "barpolar": [
           {
            "marker": {
             "line": {
              "color": "#E5ECF6",
              "width": 0.5
             },
             "pattern": {
              "fillmode": "overlay",
              "size": 10,
              "solidity": 0.2
             }
            },
            "type": "barpolar"
           }
          ],
          "carpet": [
           {
            "aaxis": {
             "endlinecolor": "#2a3f5f",
             "gridcolor": "white",
             "linecolor": "white",
             "minorgridcolor": "white",
             "startlinecolor": "#2a3f5f"
            },
            "baxis": {
             "endlinecolor": "#2a3f5f",
             "gridcolor": "white",
             "linecolor": "white",
             "minorgridcolor": "white",
             "startlinecolor": "#2a3f5f"
            },
            "type": "carpet"
           }
          ],
          "choropleth": [
           {
            "colorbar": {
             "outlinewidth": 0,
             "ticks": ""
            },
            "type": "choropleth"
           }
          ],
          "contour": [
           {
            "colorbar": {
             "outlinewidth": 0,
             "ticks": ""
            },
            "colorscale": [
             [
              0,
              "#0d0887"
             ],
             [
              0.1111111111111111,
              "#46039f"
             ],
             [
              0.2222222222222222,
              "#7201a8"
             ],
             [
              0.3333333333333333,
              "#9c179e"
             ],
             [
              0.4444444444444444,
              "#bd3786"
             ],
             [
              0.5555555555555556,
              "#d8576b"
             ],
             [
              0.6666666666666666,
              "#ed7953"
             ],
             [
              0.7777777777777778,
              "#fb9f3a"
             ],
             [
              0.8888888888888888,
              "#fdca26"
             ],
             [
              1,
              "#f0f921"
             ]
            ],
            "type": "contour"
           }
          ],
          "contourcarpet": [
           {
            "colorbar": {
             "outlinewidth": 0,
             "ticks": ""
            },
            "type": "contourcarpet"
           }
          ],
          "heatmap": [
           {
            "colorbar": {
             "outlinewidth": 0,
             "ticks": ""
            },
            "colorscale": [
             [
              0,
              "#0d0887"
             ],
             [
              0.1111111111111111,
              "#46039f"
             ],
             [
              0.2222222222222222,
              "#7201a8"
             ],
             [
              0.3333333333333333,
              "#9c179e"
             ],
             [
              0.4444444444444444,
              "#bd3786"
             ],
             [
              0.5555555555555556,
              "#d8576b"
             ],
             [
              0.6666666666666666,
              "#ed7953"
             ],
             [
              0.7777777777777778,
              "#fb9f3a"
             ],
             [
              0.8888888888888888,
              "#fdca26"
             ],
             [
              1,
              "#f0f921"
             ]
            ],
            "type": "heatmap"
           }
          ],
          "heatmapgl": [
           {
            "colorbar": {
             "outlinewidth": 0,
             "ticks": ""
            },
            "colorscale": [
             [
              0,
              "#0d0887"
             ],
             [
              0.1111111111111111,
              "#46039f"
             ],
             [
              0.2222222222222222,
              "#7201a8"
             ],
             [
              0.3333333333333333,
              "#9c179e"
             ],
             [
              0.4444444444444444,
              "#bd3786"
             ],
             [
              0.5555555555555556,
              "#d8576b"
             ],
             [
              0.6666666666666666,
              "#ed7953"
             ],
             [
              0.7777777777777778,
              "#fb9f3a"
             ],
             [
              0.8888888888888888,
              "#fdca26"
             ],
             [
              1,
              "#f0f921"
             ]
            ],
            "type": "heatmapgl"
           }
          ],
          "histogram": [
           {
            "marker": {
             "pattern": {
              "fillmode": "overlay",
              "size": 10,
              "solidity": 0.2
             }
            },
            "type": "histogram"
           }
          ],
          "histogram2d": [
           {
            "colorbar": {
             "outlinewidth": 0,
             "ticks": ""
            },
            "colorscale": [
             [
              0,
              "#0d0887"
             ],
             [
              0.1111111111111111,
              "#46039f"
             ],
             [
              0.2222222222222222,
              "#7201a8"
             ],
             [
              0.3333333333333333,
              "#9c179e"
             ],
             [
              0.4444444444444444,
              "#bd3786"
             ],
             [
              0.5555555555555556,
              "#d8576b"
             ],
             [
              0.6666666666666666,
              "#ed7953"
             ],
             [
              0.7777777777777778,
              "#fb9f3a"
             ],
             [
              0.8888888888888888,
              "#fdca26"
             ],
             [
              1,
              "#f0f921"
             ]
            ],
            "type": "histogram2d"
           }
          ],
          "histogram2dcontour": [
           {
            "colorbar": {
             "outlinewidth": 0,
             "ticks": ""
            },
            "colorscale": [
             [
              0,
              "#0d0887"
             ],
             [
              0.1111111111111111,
              "#46039f"
             ],
             [
              0.2222222222222222,
              "#7201a8"
             ],
             [
              0.3333333333333333,
              "#9c179e"
             ],
             [
              0.4444444444444444,
              "#bd3786"
             ],
             [
              0.5555555555555556,
              "#d8576b"
             ],
             [
              0.6666666666666666,
              "#ed7953"
             ],
             [
              0.7777777777777778,
              "#fb9f3a"
             ],
             [
              0.8888888888888888,
              "#fdca26"
             ],
             [
              1,
              "#f0f921"
             ]
            ],
            "type": "histogram2dcontour"
           }
          ],
          "mesh3d": [
           {
            "colorbar": {
             "outlinewidth": 0,
             "ticks": ""
            },
            "type": "mesh3d"
           }
          ],
          "parcoords": [
           {
            "line": {
             "colorbar": {
              "outlinewidth": 0,
              "ticks": ""
             }
            },
            "type": "parcoords"
           }
          ],
          "pie": [
           {
            "automargin": true,
            "type": "pie"
           }
          ],
          "scatter": [
           {
            "fillpattern": {
             "fillmode": "overlay",
             "size": 10,
             "solidity": 0.2
            },
            "type": "scatter"
           }
          ],
          "scatter3d": [
           {
            "line": {
             "colorbar": {
              "outlinewidth": 0,
              "ticks": ""
             }
            },
            "marker": {
             "colorbar": {
              "outlinewidth": 0,
              "ticks": ""
             }
            },
            "type": "scatter3d"
           }
          ],
          "scattercarpet": [
           {
            "marker": {
             "colorbar": {
              "outlinewidth": 0,
              "ticks": ""
             }
            },
            "type": "scattercarpet"
           }
          ],
          "scattergeo": [
           {
            "marker": {
             "colorbar": {
              "outlinewidth": 0,
              "ticks": ""
             }
            },
            "type": "scattergeo"
           }
          ],
          "scattergl": [
           {
            "marker": {
             "colorbar": {
              "outlinewidth": 0,
              "ticks": ""
             }
            },
            "type": "scattergl"
           }
          ],
          "scattermapbox": [
           {
            "marker": {
             "colorbar": {
              "outlinewidth": 0,
              "ticks": ""
             }
            },
            "type": "scattermapbox"
           }
          ],
          "scatterpolar": [
           {
            "marker": {
             "colorbar": {
              "outlinewidth": 0,
              "ticks": ""
             }
            },
            "type": "scatterpolar"
           }
          ],
          "scatterpolargl": [
           {
            "marker": {
             "colorbar": {
              "outlinewidth": 0,
              "ticks": ""
             }
            },
            "type": "scatterpolargl"
           }
          ],
          "scatterternary": [
           {
            "marker": {
             "colorbar": {
              "outlinewidth": 0,
              "ticks": ""
             }
            },
            "type": "scatterternary"
           }
          ],
          "surface": [
           {
            "colorbar": {
             "outlinewidth": 0,
             "ticks": ""
            },
            "colorscale": [
             [
              0,
              "#0d0887"
             ],
             [
              0.1111111111111111,
              "#46039f"
             ],
             [
              0.2222222222222222,
              "#7201a8"
             ],
             [
              0.3333333333333333,
              "#9c179e"
             ],
             [
              0.4444444444444444,
              "#bd3786"
             ],
             [
              0.5555555555555556,
              "#d8576b"
             ],
             [
              0.6666666666666666,
              "#ed7953"
             ],
             [
              0.7777777777777778,
              "#fb9f3a"
             ],
             [
              0.8888888888888888,
              "#fdca26"
             ],
             [
              1,
              "#f0f921"
             ]
            ],
            "type": "surface"
           }
          ],
          "table": [
           {
            "cells": {
             "fill": {
              "color": "#EBF0F8"
             },
             "line": {
              "color": "white"
             }
            },
            "header": {
             "fill": {
              "color": "#C8D4E3"
             },
             "line": {
              "color": "white"
             }
            },
            "type": "table"
           }
          ]
         },
         "layout": {
          "annotationdefaults": {
           "arrowcolor": "#2a3f5f",
           "arrowhead": 0,
           "arrowwidth": 1
          },
          "autotypenumbers": "strict",
          "coloraxis": {
           "colorbar": {
            "outlinewidth": 0,
            "ticks": ""
           }
          },
          "colorscale": {
           "diverging": [
            [
             0,
             "#8e0152"
            ],
            [
             0.1,
             "#c51b7d"
            ],
            [
             0.2,
             "#de77ae"
            ],
            [
             0.3,
             "#f1b6da"
            ],
            [
             0.4,
             "#fde0ef"
            ],
            [
             0.5,
             "#f7f7f7"
            ],
            [
             0.6,
             "#e6f5d0"
            ],
            [
             0.7,
             "#b8e186"
            ],
            [
             0.8,
             "#7fbc41"
            ],
            [
             0.9,
             "#4d9221"
            ],
            [
             1,
             "#276419"
            ]
           ],
           "sequential": [
            [
             0,
             "#0d0887"
            ],
            [
             0.1111111111111111,
             "#46039f"
            ],
            [
             0.2222222222222222,
             "#7201a8"
            ],
            [
             0.3333333333333333,
             "#9c179e"
            ],
            [
             0.4444444444444444,
             "#bd3786"
            ],
            [
             0.5555555555555556,
             "#d8576b"
            ],
            [
             0.6666666666666666,
             "#ed7953"
            ],
            [
             0.7777777777777778,
             "#fb9f3a"
            ],
            [
             0.8888888888888888,
             "#fdca26"
            ],
            [
             1,
             "#f0f921"
            ]
           ],
           "sequentialminus": [
            [
             0,
             "#0d0887"
            ],
            [
             0.1111111111111111,
             "#46039f"
            ],
            [
             0.2222222222222222,
             "#7201a8"
            ],
            [
             0.3333333333333333,
             "#9c179e"
            ],
            [
             0.4444444444444444,
             "#bd3786"
            ],
            [
             0.5555555555555556,
             "#d8576b"
            ],
            [
             0.6666666666666666,
             "#ed7953"
            ],
            [
             0.7777777777777778,
             "#fb9f3a"
            ],
            [
             0.8888888888888888,
             "#fdca26"
            ],
            [
             1,
             "#f0f921"
            ]
           ]
          },
          "colorway": [
           "#636efa",
           "#EF553B",
           "#00cc96",
           "#ab63fa",
           "#FFA15A",
           "#19d3f3",
           "#FF6692",
           "#B6E880",
           "#FF97FF",
           "#FECB52"
          ],
          "font": {
           "color": "#2a3f5f"
          },
          "geo": {
           "bgcolor": "white",
           "lakecolor": "white",
           "landcolor": "#E5ECF6",
           "showlakes": true,
           "showland": true,
           "subunitcolor": "white"
          },
          "hoverlabel": {
           "align": "left"
          },
          "hovermode": "closest",
          "mapbox": {
           "style": "light"
          },
          "paper_bgcolor": "white",
          "plot_bgcolor": "#E5ECF6",
          "polar": {
           "angularaxis": {
            "gridcolor": "white",
            "linecolor": "white",
            "ticks": ""
           },
           "bgcolor": "#E5ECF6",
           "radialaxis": {
            "gridcolor": "white",
            "linecolor": "white",
            "ticks": ""
           }
          },
          "scene": {
           "xaxis": {
            "backgroundcolor": "#E5ECF6",
            "gridcolor": "white",
            "gridwidth": 2,
            "linecolor": "white",
            "showbackground": true,
            "ticks": "",
            "zerolinecolor": "white"
           },
           "yaxis": {
            "backgroundcolor": "#E5ECF6",
            "gridcolor": "white",
            "gridwidth": 2,
            "linecolor": "white",
            "showbackground": true,
            "ticks": "",
            "zerolinecolor": "white"
           },
           "zaxis": {
            "backgroundcolor": "#E5ECF6",
            "gridcolor": "white",
            "gridwidth": 2,
            "linecolor": "white",
            "showbackground": true,
            "ticks": "",
            "zerolinecolor": "white"
           }
          },
          "shapedefaults": {
           "line": {
            "color": "#2a3f5f"
           }
          },
          "ternary": {
           "aaxis": {
            "gridcolor": "white",
            "linecolor": "white",
            "ticks": ""
           },
           "baxis": {
            "gridcolor": "white",
            "linecolor": "white",
            "ticks": ""
           },
           "bgcolor": "#E5ECF6",
           "caxis": {
            "gridcolor": "white",
            "linecolor": "white",
            "ticks": ""
           }
          },
          "title": {
           "x": 0.05
          },
          "xaxis": {
           "automargin": true,
           "gridcolor": "white",
           "linecolor": "white",
           "ticks": "",
           "title": {
            "standoff": 15
           },
           "zerolinecolor": "white",
           "zerolinewidth": 2
          },
          "yaxis": {
           "automargin": true,
           "gridcolor": "white",
           "linecolor": "white",
           "ticks": "",
           "title": {
            "standoff": 15
           },
           "zerolinecolor": "white",
           "zerolinewidth": 2
          }
         }
        },
        "title": {
         "text": "Distribution of NCV for Data Group: 3"
        },
        "xaxis": {
         "anchor": "y",
         "domain": [
          0,
          1
         ],
         "title": {
          "text": "NCV"
         }
        },
        "yaxis": {
         "anchor": "x",
         "domain": [
          0,
          1
         ],
         "title": {
          "text": "Frequency"
         }
        }
       }
      }
     },
     "metadata": {},
     "output_type": "display_data"
    }
   ],
   "source": [
    "import pandas as pd\n",
    "import plotly.express as px\n",
    "from plotly.subplots import make_subplots\n",
    "\n",
    "# Create the DataFrame as you've shown\n",
    "\n",
    "# Get unique data_group and event_type combinations\n",
    "data_groups = df[\"data_group\"].unique()\n",
    "\n",
    "for data_group in data_groups:\n",
    "    subset = df[df[\"data_group\"] == data_group]\n",
    "\n",
    "    # Create a figure for NCA\n",
    "    fig = px.box(subset, y=\"NCA\", orientation=\"v\", title=f\"Distribution of NCA for Data Group: {data_group}\")\n",
    "    fig.update_xaxes(title=\"NCA\")\n",
    "    fig.update_yaxes(title=\"Frequency\")\n",
    "\n",
    "    # Show the figure for NCA\n",
    "    fig.show()\n",
    "\n",
    "    # Create a figure for NCV\n",
    "    fig = px.box(subset, y=\"NCV\", orientation=\"v\", title=f\"Distribution of NCV for Data Group: {data_group}\")\n",
    "    fig.update_xaxes(title=\"NCV\")\n",
    "    fig.update_yaxes(title=\"Frequency\")\n",
    "\n",
    "    # Show the figure for NCV\n",
    "    fig.show()\n"
   ]
  }
 ],
 "metadata": {
  "kernelspec": {
   "display_name": "mi",
   "language": "python",
   "name": "python3"
  },
  "language_info": {
   "codemirror_mode": {
    "name": "ipython",
    "version": 3
   },
   "file_extension": ".py",
   "mimetype": "text/x-python",
   "name": "python",
   "nbconvert_exporter": "python",
   "pygments_lexer": "ipython3",
   "version": "3.9.18"
  }
 },
 "nbformat": 4,
 "nbformat_minor": 2
}
