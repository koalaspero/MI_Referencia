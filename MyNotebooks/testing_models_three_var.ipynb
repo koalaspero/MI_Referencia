{
 "cells": [
  {
   "cell_type": "code",
   "execution_count": 1,
   "metadata": {},
   "outputs": [],
   "source": [
    "import numpy as np\n",
    "import pandas as pd\n",
    "import matplotlib.pyplot as plt\n",
    "import seaborn as sns  # Make sure you have seaborn installed"
   ]
  },
  {
   "cell_type": "code",
   "execution_count": 2,
   "metadata": {},
   "outputs": [],
   "source": [
    "from sklearn.preprocessing import StandardScaler\n",
    "\n",
    "def data_gen(csv_file):\n",
    "    # Read the CSV file and create a DataFrame\n",
    "    df = pd.read_csv(csv_file)\n",
    "\n",
    "    # Define your target variable\n",
    "    target_column = 'data_group'\n",
    "    y = df[target_column]\n",
    "\n",
    "    # Drop the target column and other non-essential columns if needed\n",
    "    X = df.drop(columns=[target_column, 'has_parkinson', 'event_type'])\n",
    "\n",
    "    return [X,y]"
   ]
  },
  {
   "cell_type": "markdown",
   "metadata": {},
   "source": [
    "## All features"
   ]
  },
  {
   "cell_type": "code",
   "execution_count": 3,
   "metadata": {},
   "outputs": [],
   "source": [
    "from sklearn.model_selection import train_test_split\n",
    "\n",
    "all_feature_data = data_gen('result_data.csv')\n",
    "# Standardize the features\n",
    "scaler = StandardScaler()\n",
    "X = all_feature_data[0]\n",
    "X_scaled = scaler.fit_transform(all_feature_data[0])\n",
    "y = all_feature_data[1]\n",
    "\n",
    "# Split the data into a training and testing set\n",
    "X_train, X_test, y_train, y_test = train_test_split(X_scaled, y, test_size=0.2, random_state=42)"
   ]
  },
  {
   "cell_type": "markdown",
   "metadata": {},
   "source": [
    "## 25 most important features using Recursive Feature Extraction"
   ]
  },
  {
   "cell_type": "code",
   "execution_count": 4,
   "metadata": {},
   "outputs": [],
   "source": [
    "most_feature_data = data_gen('result_data.csv')\n",
    "X_most = all_feature_data[0]\n",
    "y_most = all_feature_data[1]"
   ]
  },
  {
   "cell_type": "code",
   "execution_count": 5,
   "metadata": {},
   "outputs": [
    {
     "name": "stdout",
     "output_type": "stream",
     "text": [
      "Selected Features:\n",
      "Index(['finish_time', 'NCA', 'relative_NCV', 'relative_NCA', 'stroke_speed',\n",
      "       'velocity_median', 'velocity_iqr', 'acceleration_mean',\n",
      "       'acceleration_median', 'acceleration_std_dev', 'jerk_mean',\n",
      "       'jerk_median', 'jerk_std_dev', 'velocity_x_mean', 'velocity_x_median',\n",
      "       'velocity_x_std_dev', 'velocity_x_iqr', 'acceleration_x_median',\n",
      "       'jerk_x_std_dev', 'velocity_y_mean', 'velocity_y_median',\n",
      "       'acceleration_y_median', 'jerk_y_median', 'jerk_y_std_dev',\n",
      "       'jerk_y_maximum'],\n",
      "      dtype='object')\n"
     ]
    }
   ],
   "source": [
    "from sklearn.ensemble import RandomForestClassifier\n",
    "from sklearn.feature_selection import RFE\n",
    "from sklearn.model_selection import train_test_split\n",
    "\n",
    "# Initialize a random forest classifier\n",
    "rf_classifier = RandomForestClassifier(n_estimators=100, random_state=42)\n",
    "\n",
    "# Set the number of features to select\n",
    "n_features_to_select = 25\n",
    "\n",
    "# Initialize RFE with the classifier and the number of features to retain\n",
    "rfe = RFE(estimator=rf_classifier, n_features_to_select=n_features_to_select)\n",
    "\n",
    "# Fit RFE to the training data\n",
    "rfe.fit(X_most, y_most)\n",
    "\n",
    "# Get the ranking of each feature (1 means selected, 2 means not selected)\n",
    "feature_ranking = rfe.ranking_\n",
    "\n",
    "# Get the indices of the selected features\n",
    "selected_features_indices = np.where(feature_ranking == 1)[0]\n",
    "\n",
    "# Get the names of the selected features\n",
    "selected_features_names = X_most.columns[selected_features_indices]\n",
    "\n",
    "# Subset the DataFrame with selected features\n",
    "X_selected = X_most[selected_features_names]\n",
    "\n",
    "# Split the dataset into training and testing sets\n",
    "X_train_most, X_test_most, y_train_most, y_test_most = train_test_split(X_selected, y, test_size=0.2, random_state=42)\n",
    "\n",
    "# Display the selected features\n",
    "print(\"Selected Features:\")\n",
    "print(selected_features_names)"
   ]
  },
  {
   "cell_type": "markdown",
   "metadata": {},
   "source": [
    "## Adaboost"
   ]
  },
  {
   "cell_type": "code",
   "execution_count": 25,
   "metadata": {},
   "outputs": [],
   "source": [
    "import matplotlib.pyplot as plt\n",
    "from sklearn.ensemble import AdaBoostClassifier\n",
    "from sklearn.metrics import accuracy_score, mean_squared_error\n",
    "from sklearn.metrics import confusion_matrix\n",
    "from sklearn.metrics import ConfusionMatrixDisplay\n",
    "import plotly.graph_objects as go\n",
    "\n",
    "\n",
    "def ada_boost_func(X_train,y_train,X_test,y_test):\n",
    "\n",
    "    # Initialize an AdaBoost classifier\n",
    "    n_estimators = 100\n",
    "    ada_boost_clf = AdaBoostClassifier(n_estimators=n_estimators, random_state=42)\n",
    "\n",
    "    # Train the AdaBoost classifier\n",
    "    ada_boost_clf.fit(X_train, y_train)\n",
    "\n",
    "    # Initialize arrays to store accuracy and MSE values\n",
    "    train_accuracy = []\n",
    "    test_accuracy = []\n",
    "    train_mse = []\n",
    "    test_mse = []\n",
    "\n",
    "    # Loop through different numbers of estimators and record the accuracy and MSE\n",
    "    for i, estimator in enumerate(ada_boost_clf.estimators_, 1):\n",
    "        train_accuracy.append(accuracy_score(y_train, estimator.predict(X_train)))\n",
    "        test_accuracy.append(accuracy_score(y_test, estimator.predict(X_test)))\n",
    "        train_mse.append(mean_squared_error(y_train, estimator.predict(X_train)))\n",
    "        test_mse.append(mean_squared_error(y_test, estimator.predict(X_test)))\n",
    "\n",
    "    # Convert the lists to numpy arrays\n",
    "    train_accuracy = np.array(train_accuracy)\n",
    "    test_accuracy = np.array(test_accuracy)\n",
    "    train_mse = np.array(train_mse)\n",
    "    test_mse = np.array(test_mse)\n",
    "\n",
    "    # Calculate accuracy and MSE for the final model\n",
    "    y_test_pred = ada_boost_clf.predict(X_test)\n",
    "\n",
    "    final_test_accuracy = accuracy_score(y_test, y_test_pred)\n",
    "\n",
    "    print(f\"Final Testing Accuracy: {final_test_accuracy*100}\")\n",
    "\n",
    "    # Create a line plot for both training and testing accuracy using Plotly\n",
    "    fig = go.Figure()\n",
    "\n",
    "    fig.add_trace(go.Scatter(x=np.arange(1, n_estimators + 1), y=train_accuracy, mode='lines', name='Training Accuracy'))\n",
    "    fig.add_trace(go.Scatter(x=np.arange(1, n_estimators + 1), y=test_accuracy, mode='lines', name='Testing Accuracy'))\n",
    "\n",
    "    fig.update_layout(title='Training and Testing Accuracy Over Epochs',\n",
    "                    xaxis_title='Number of Estimators',\n",
    "                    yaxis_title='Accuracy')\n",
    "\n",
    "    fig.show()\n",
    "\n",
    "    # Create a line plot for both training and testing MSE loss using Plotly\n",
    "    fig_mse = go.Figure()\n",
    "\n",
    "    fig_mse.add_trace(go.Scatter(x=np.arange(1, n_estimators + 1), y=train_mse, mode='lines', name='Training MSE Loss'))\n",
    "    fig_mse.add_trace(go.Scatter(x=np.arange(1, n_estimators + 1), y=test_mse, mode='lines', name='Testing MSE Loss'))\n",
    "\n",
    "    fig_mse.update_layout(title='Training and Testing MSE Loss Over Epochs',\n",
    "                        xaxis_title='Number of Estimators (Epochs)',\n",
    "                        yaxis_title='MSE Loss')\n",
    "\n",
    "    fig_mse.show()\n",
    "\n",
    "    # Create a confusion matrix\n",
    "    confusion = confusion_matrix(y_test, y_test_pred)\n",
    "\n",
    "    # Plot the confusion matrix\n",
    "    disp = ConfusionMatrixDisplay(confusion, display_labels=ada_boost_clf.classes_)\n",
    "    disp.plot(cmap='viridis')\n",
    "    plt.title('Confusion Matrix')\n",
    "    plt.show()\n",
    "\n"
   ]
  },
  {
   "cell_type": "markdown",
   "metadata": {},
   "source": [
    "### all features"
   ]
  },
  {
   "cell_type": "code",
   "execution_count": 26,
   "metadata": {},
   "outputs": [
    {
     "name": "stdout",
     "output_type": "stream",
     "text": [
      "Final Testing Accuracy: 53.17164179104478\n"
     ]
    },
    {
     "data": {
      "application/vnd.plotly.v1+json": {
       "config": {
        "plotlyServerURL": "https://plot.ly"
       },
       "data": [
        {
         "mode": "lines",
         "name": "Training Accuracy",
         "type": "scatter",
         "x": [
          1,
          2,
          3,
          4,
          5,
          6,
          7,
          8,
          9,
          10,
          11,
          12,
          13,
          14,
          15,
          16,
          17,
          18,
          19,
          20,
          21,
          22,
          23,
          24,
          25,
          26,
          27,
          28,
          29,
          30,
          31,
          32,
          33,
          34,
          35,
          36,
          37,
          38,
          39,
          40,
          41,
          42,
          43,
          44,
          45,
          46,
          47,
          48,
          49,
          50,
          51,
          52,
          53,
          54,
          55,
          56,
          57,
          58,
          59,
          60,
          61,
          62,
          63,
          64,
          65,
          66,
          67,
          68,
          69,
          70,
          71,
          72,
          73,
          74,
          75,
          76,
          77,
          78,
          79,
          80,
          81,
          82,
          83,
          84,
          85,
          86,
          87,
          88,
          89,
          90,
          91,
          92,
          93,
          94,
          95,
          96,
          97,
          98,
          99,
          100
         ],
         "y": [
          0.5284514925373134,
          0.3101679104477612,
          0.31576492537313433,
          0.3521455223880597,
          0.38152985074626866,
          0.4748134328358209,
          0.3521455223880597,
          0.2462686567164179,
          0.24580223880597016,
          0.2583955223880597,
          0.2873134328358209,
          0.36427238805970147,
          0.2653917910447761,
          0.3451492537313433,
          0.4361007462686567,
          0.22434701492537312,
          0.34654850746268656,
          0.2667910447761194,
          0.3353544776119403,
          0.23227611940298507,
          0.4388992537313433,
          0.35447761194029853,
          0.27425373134328357,
          0.35261194029850745,
          0.2332089552238806,
          0.35867537313432835,
          0.26725746268656714,
          0.3787313432835821,
          0.23507462686567165,
          0.466884328358209,
          0.33255597014925375,
          0.43097014925373134,
          0.34654850746268656,
          0.5172574626865671,
          0.261660447761194,
          0.43330223880597013,
          0.35447761194029853,
          0.23600746268656717,
          0.3572761194029851,
          0.3474813432835821,
          0.2332089552238806,
          0.35634328358208955,
          0.3199626865671642,
          0.22994402985074627,
          0.4281716417910448,
          0.2355410447761194,
          0.425839552238806,
          0.2905783582089552,
          0.34701492537313433,
          0.34654850746268656,
          0.25,
          0.43843283582089554,
          0.3362873134328358,
          0.4533582089552239,
          0.22434701492537312,
          0.34794776119402987,
          0.3498134328358209,
          0.228544776119403,
          0.34794776119402987,
          0.35447761194029853,
          0.2248134328358209,
          0.22201492537313433,
          0.31669776119402987,
          0.2593283582089552,
          0.48927238805970147,
          0.41651119402985076,
          0.35027985074626866,
          0.23134328358208955,
          0.425839552238806,
          0.2677238805970149,
          0.3498134328358209,
          0.22574626865671643,
          0.4123134328358209,
          0.34048507462686567,
          0.30363805970149255,
          0.30830223880597013,
          0.2453358208955224,
          0.2667910447761194,
          0.2439365671641791,
          0.49113805970149255,
          0.34048507462686567,
          0.33675373134328357,
          0.24113805970149255,
          0.31763059701492535,
          0.3050373134328358,
          0.25419776119402987,
          0.3269589552238806,
          0.3180970149253731,
          0.32742537313432835,
          0.42350746268656714,
          0.2234141791044776,
          0.3596082089552239,
          0.3917910447761194,
          0.31343283582089554,
          0.43470149253731344,
          0.3568097014925373,
          0.4253731343283582,
          0.2989738805970149,
          0.322294776119403,
          0.23227611940298507
         ]
        },
        {
         "mode": "lines",
         "name": "Testing Accuracy",
         "type": "scatter",
         "x": [
          1,
          2,
          3,
          4,
          5,
          6,
          7,
          8,
          9,
          10,
          11,
          12,
          13,
          14,
          15,
          16,
          17,
          18,
          19,
          20,
          21,
          22,
          23,
          24,
          25,
          26,
          27,
          28,
          29,
          30,
          31,
          32,
          33,
          34,
          35,
          36,
          37,
          38,
          39,
          40,
          41,
          42,
          43,
          44,
          45,
          46,
          47,
          48,
          49,
          50,
          51,
          52,
          53,
          54,
          55,
          56,
          57,
          58,
          59,
          60,
          61,
          62,
          63,
          64,
          65,
          66,
          67,
          68,
          69,
          70,
          71,
          72,
          73,
          74,
          75,
          76,
          77,
          78,
          79,
          80,
          81,
          82,
          83,
          84,
          85,
          86,
          87,
          88,
          89,
          90,
          91,
          92,
          93,
          94,
          95,
          96,
          97,
          98,
          99,
          100
         ],
         "y": [
          0.5242537313432836,
          0.30783582089552236,
          0.3246268656716418,
          0.3376865671641791,
          0.373134328358209,
          0.47761194029850745,
          0.35074626865671643,
          0.24440298507462688,
          0.2294776119402985,
          0.2667910447761194,
          0.2966417910447761,
          0.3414179104477612,
          0.2667910447761194,
          0.3302238805970149,
          0.43283582089552236,
          0.23507462686567165,
          0.3302238805970149,
          0.2574626865671642,
          0.3041044776119403,
          0.24067164179104478,
          0.43470149253731344,
          0.31529850746268656,
          0.27238805970149255,
          0.3358208955223881,
          0.251865671641791,
          0.34701492537313433,
          0.2555970149253731,
          0.3694029850746269,
          0.24813432835820895,
          0.43656716417910446,
          0.30223880597014924,
          0.43097014925373134,
          0.32276119402985076,
          0.5279850746268657,
          0.251865671641791,
          0.43097014925373134,
          0.33955223880597013,
          0.24067164179104478,
          0.34328358208955223,
          0.3358208955223881,
          0.23880597014925373,
          0.3358208955223881,
          0.32276119402985076,
          0.2294776119402985,
          0.4216417910447761,
          0.23694029850746268,
          0.4291044776119403,
          0.2873134328358209,
          0.3358208955223881,
          0.333955223880597,
          0.2462686567164179,
          0.43283582089552236,
          0.3283582089552239,
          0.46455223880597013,
          0.23134328358208955,
          0.3358208955223881,
          0.3358208955223881,
          0.23507462686567165,
          0.3376865671641791,
          0.32649253731343286,
          0.2332089552238806,
          0.23507462686567165,
          0.292910447761194,
          0.26119402985074625,
          0.47574626865671643,
          0.417910447761194,
          0.3302238805970149,
          0.2294776119402985,
          0.4291044776119403,
          0.2798507462686567,
          0.3302238805970149,
          0.22201492537313433,
          0.4085820895522388,
          0.3246268656716418,
          0.30597014925373134,
          0.28171641791044777,
          0.251865671641791,
          0.26865671641791045,
          0.2462686567164179,
          0.47761194029850745,
          0.3246268656716418,
          0.3003731343283582,
          0.23134328358208955,
          0.2891791044776119,
          0.31902985074626866,
          0.2593283582089552,
          0.32276119402985076,
          0.31343283582089554,
          0.3283582089552239,
          0.417910447761194,
          0.2332089552238806,
          0.3414179104477612,
          0.375,
          0.2798507462686567,
          0.42723880597014924,
          0.34888059701492535,
          0.4197761194029851,
          0.30783582089552236,
          0.30223880597014924,
          0.23880597014925373
         ]
        }
       ],
       "layout": {
        "template": {
         "data": {
          "bar": [
           {
            "error_x": {
             "color": "#2a3f5f"
            },
            "error_y": {
             "color": "#2a3f5f"
            },
            "marker": {
             "line": {
              "color": "#E5ECF6",
              "width": 0.5
             },
             "pattern": {
              "fillmode": "overlay",
              "size": 10,
              "solidity": 0.2
             }
            },
            "type": "bar"
           }
          ],
          "barpolar": [
           {
            "marker": {
             "line": {
              "color": "#E5ECF6",
              "width": 0.5
             },
             "pattern": {
              "fillmode": "overlay",
              "size": 10,
              "solidity": 0.2
             }
            },
            "type": "barpolar"
           }
          ],
          "carpet": [
           {
            "aaxis": {
             "endlinecolor": "#2a3f5f",
             "gridcolor": "white",
             "linecolor": "white",
             "minorgridcolor": "white",
             "startlinecolor": "#2a3f5f"
            },
            "baxis": {
             "endlinecolor": "#2a3f5f",
             "gridcolor": "white",
             "linecolor": "white",
             "minorgridcolor": "white",
             "startlinecolor": "#2a3f5f"
            },
            "type": "carpet"
           }
          ],
          "choropleth": [
           {
            "colorbar": {
             "outlinewidth": 0,
             "ticks": ""
            },
            "type": "choropleth"
           }
          ],
          "contour": [
           {
            "colorbar": {
             "outlinewidth": 0,
             "ticks": ""
            },
            "colorscale": [
             [
              0,
              "#0d0887"
             ],
             [
              0.1111111111111111,
              "#46039f"
             ],
             [
              0.2222222222222222,
              "#7201a8"
             ],
             [
              0.3333333333333333,
              "#9c179e"
             ],
             [
              0.4444444444444444,
              "#bd3786"
             ],
             [
              0.5555555555555556,
              "#d8576b"
             ],
             [
              0.6666666666666666,
              "#ed7953"
             ],
             [
              0.7777777777777778,
              "#fb9f3a"
             ],
             [
              0.8888888888888888,
              "#fdca26"
             ],
             [
              1,
              "#f0f921"
             ]
            ],
            "type": "contour"
           }
          ],
          "contourcarpet": [
           {
            "colorbar": {
             "outlinewidth": 0,
             "ticks": ""
            },
            "type": "contourcarpet"
           }
          ],
          "heatmap": [
           {
            "colorbar": {
             "outlinewidth": 0,
             "ticks": ""
            },
            "colorscale": [
             [
              0,
              "#0d0887"
             ],
             [
              0.1111111111111111,
              "#46039f"
             ],
             [
              0.2222222222222222,
              "#7201a8"
             ],
             [
              0.3333333333333333,
              "#9c179e"
             ],
             [
              0.4444444444444444,
              "#bd3786"
             ],
             [
              0.5555555555555556,
              "#d8576b"
             ],
             [
              0.6666666666666666,
              "#ed7953"
             ],
             [
              0.7777777777777778,
              "#fb9f3a"
             ],
             [
              0.8888888888888888,
              "#fdca26"
             ],
             [
              1,
              "#f0f921"
             ]
            ],
            "type": "heatmap"
           }
          ],
          "heatmapgl": [
           {
            "colorbar": {
             "outlinewidth": 0,
             "ticks": ""
            },
            "colorscale": [
             [
              0,
              "#0d0887"
             ],
             [
              0.1111111111111111,
              "#46039f"
             ],
             [
              0.2222222222222222,
              "#7201a8"
             ],
             [
              0.3333333333333333,
              "#9c179e"
             ],
             [
              0.4444444444444444,
              "#bd3786"
             ],
             [
              0.5555555555555556,
              "#d8576b"
             ],
             [
              0.6666666666666666,
              "#ed7953"
             ],
             [
              0.7777777777777778,
              "#fb9f3a"
             ],
             [
              0.8888888888888888,
              "#fdca26"
             ],
             [
              1,
              "#f0f921"
             ]
            ],
            "type": "heatmapgl"
           }
          ],
          "histogram": [
           {
            "marker": {
             "pattern": {
              "fillmode": "overlay",
              "size": 10,
              "solidity": 0.2
             }
            },
            "type": "histogram"
           }
          ],
          "histogram2d": [
           {
            "colorbar": {
             "outlinewidth": 0,
             "ticks": ""
            },
            "colorscale": [
             [
              0,
              "#0d0887"
             ],
             [
              0.1111111111111111,
              "#46039f"
             ],
             [
              0.2222222222222222,
              "#7201a8"
             ],
             [
              0.3333333333333333,
              "#9c179e"
             ],
             [
              0.4444444444444444,
              "#bd3786"
             ],
             [
              0.5555555555555556,
              "#d8576b"
             ],
             [
              0.6666666666666666,
              "#ed7953"
             ],
             [
              0.7777777777777778,
              "#fb9f3a"
             ],
             [
              0.8888888888888888,
              "#fdca26"
             ],
             [
              1,
              "#f0f921"
             ]
            ],
            "type": "histogram2d"
           }
          ],
          "histogram2dcontour": [
           {
            "colorbar": {
             "outlinewidth": 0,
             "ticks": ""
            },
            "colorscale": [
             [
              0,
              "#0d0887"
             ],
             [
              0.1111111111111111,
              "#46039f"
             ],
             [
              0.2222222222222222,
              "#7201a8"
             ],
             [
              0.3333333333333333,
              "#9c179e"
             ],
             [
              0.4444444444444444,
              "#bd3786"
             ],
             [
              0.5555555555555556,
              "#d8576b"
             ],
             [
              0.6666666666666666,
              "#ed7953"
             ],
             [
              0.7777777777777778,
              "#fb9f3a"
             ],
             [
              0.8888888888888888,
              "#fdca26"
             ],
             [
              1,
              "#f0f921"
             ]
            ],
            "type": "histogram2dcontour"
           }
          ],
          "mesh3d": [
           {
            "colorbar": {
             "outlinewidth": 0,
             "ticks": ""
            },
            "type": "mesh3d"
           }
          ],
          "parcoords": [
           {
            "line": {
             "colorbar": {
              "outlinewidth": 0,
              "ticks": ""
             }
            },
            "type": "parcoords"
           }
          ],
          "pie": [
           {
            "automargin": true,
            "type": "pie"
           }
          ],
          "scatter": [
           {
            "fillpattern": {
             "fillmode": "overlay",
             "size": 10,
             "solidity": 0.2
            },
            "type": "scatter"
           }
          ],
          "scatter3d": [
           {
            "line": {
             "colorbar": {
              "outlinewidth": 0,
              "ticks": ""
             }
            },
            "marker": {
             "colorbar": {
              "outlinewidth": 0,
              "ticks": ""
             }
            },
            "type": "scatter3d"
           }
          ],
          "scattercarpet": [
           {
            "marker": {
             "colorbar": {
              "outlinewidth": 0,
              "ticks": ""
             }
            },
            "type": "scattercarpet"
           }
          ],
          "scattergeo": [
           {
            "marker": {
             "colorbar": {
              "outlinewidth": 0,
              "ticks": ""
             }
            },
            "type": "scattergeo"
           }
          ],
          "scattergl": [
           {
            "marker": {
             "colorbar": {
              "outlinewidth": 0,
              "ticks": ""
             }
            },
            "type": "scattergl"
           }
          ],
          "scattermapbox": [
           {
            "marker": {
             "colorbar": {
              "outlinewidth": 0,
              "ticks": ""
             }
            },
            "type": "scattermapbox"
           }
          ],
          "scatterpolar": [
           {
            "marker": {
             "colorbar": {
              "outlinewidth": 0,
              "ticks": ""
             }
            },
            "type": "scatterpolar"
           }
          ],
          "scatterpolargl": [
           {
            "marker": {
             "colorbar": {
              "outlinewidth": 0,
              "ticks": ""
             }
            },
            "type": "scatterpolargl"
           }
          ],
          "scatterternary": [
           {
            "marker": {
             "colorbar": {
              "outlinewidth": 0,
              "ticks": ""
             }
            },
            "type": "scatterternary"
           }
          ],
          "surface": [
           {
            "colorbar": {
             "outlinewidth": 0,
             "ticks": ""
            },
            "colorscale": [
             [
              0,
              "#0d0887"
             ],
             [
              0.1111111111111111,
              "#46039f"
             ],
             [
              0.2222222222222222,
              "#7201a8"
             ],
             [
              0.3333333333333333,
              "#9c179e"
             ],
             [
              0.4444444444444444,
              "#bd3786"
             ],
             [
              0.5555555555555556,
              "#d8576b"
             ],
             [
              0.6666666666666666,
              "#ed7953"
             ],
             [
              0.7777777777777778,
              "#fb9f3a"
             ],
             [
              0.8888888888888888,
              "#fdca26"
             ],
             [
              1,
              "#f0f921"
             ]
            ],
            "type": "surface"
           }
          ],
          "table": [
           {
            "cells": {
             "fill": {
              "color": "#EBF0F8"
             },
             "line": {
              "color": "white"
             }
            },
            "header": {
             "fill": {
              "color": "#C8D4E3"
             },
             "line": {
              "color": "white"
             }
            },
            "type": "table"
           }
          ]
         },
         "layout": {
          "annotationdefaults": {
           "arrowcolor": "#2a3f5f",
           "arrowhead": 0,
           "arrowwidth": 1
          },
          "autotypenumbers": "strict",
          "coloraxis": {
           "colorbar": {
            "outlinewidth": 0,
            "ticks": ""
           }
          },
          "colorscale": {
           "diverging": [
            [
             0,
             "#8e0152"
            ],
            [
             0.1,
             "#c51b7d"
            ],
            [
             0.2,
             "#de77ae"
            ],
            [
             0.3,
             "#f1b6da"
            ],
            [
             0.4,
             "#fde0ef"
            ],
            [
             0.5,
             "#f7f7f7"
            ],
            [
             0.6,
             "#e6f5d0"
            ],
            [
             0.7,
             "#b8e186"
            ],
            [
             0.8,
             "#7fbc41"
            ],
            [
             0.9,
             "#4d9221"
            ],
            [
             1,
             "#276419"
            ]
           ],
           "sequential": [
            [
             0,
             "#0d0887"
            ],
            [
             0.1111111111111111,
             "#46039f"
            ],
            [
             0.2222222222222222,
             "#7201a8"
            ],
            [
             0.3333333333333333,
             "#9c179e"
            ],
            [
             0.4444444444444444,
             "#bd3786"
            ],
            [
             0.5555555555555556,
             "#d8576b"
            ],
            [
             0.6666666666666666,
             "#ed7953"
            ],
            [
             0.7777777777777778,
             "#fb9f3a"
            ],
            [
             0.8888888888888888,
             "#fdca26"
            ],
            [
             1,
             "#f0f921"
            ]
           ],
           "sequentialminus": [
            [
             0,
             "#0d0887"
            ],
            [
             0.1111111111111111,
             "#46039f"
            ],
            [
             0.2222222222222222,
             "#7201a8"
            ],
            [
             0.3333333333333333,
             "#9c179e"
            ],
            [
             0.4444444444444444,
             "#bd3786"
            ],
            [
             0.5555555555555556,
             "#d8576b"
            ],
            [
             0.6666666666666666,
             "#ed7953"
            ],
            [
             0.7777777777777778,
             "#fb9f3a"
            ],
            [
             0.8888888888888888,
             "#fdca26"
            ],
            [
             1,
             "#f0f921"
            ]
           ]
          },
          "colorway": [
           "#636efa",
           "#EF553B",
           "#00cc96",
           "#ab63fa",
           "#FFA15A",
           "#19d3f3",
           "#FF6692",
           "#B6E880",
           "#FF97FF",
           "#FECB52"
          ],
          "font": {
           "color": "#2a3f5f"
          },
          "geo": {
           "bgcolor": "white",
           "lakecolor": "white",
           "landcolor": "#E5ECF6",
           "showlakes": true,
           "showland": true,
           "subunitcolor": "white"
          },
          "hoverlabel": {
           "align": "left"
          },
          "hovermode": "closest",
          "mapbox": {
           "style": "light"
          },
          "paper_bgcolor": "white",
          "plot_bgcolor": "#E5ECF6",
          "polar": {
           "angularaxis": {
            "gridcolor": "white",
            "linecolor": "white",
            "ticks": ""
           },
           "bgcolor": "#E5ECF6",
           "radialaxis": {
            "gridcolor": "white",
            "linecolor": "white",
            "ticks": ""
           }
          },
          "scene": {
           "xaxis": {
            "backgroundcolor": "#E5ECF6",
            "gridcolor": "white",
            "gridwidth": 2,
            "linecolor": "white",
            "showbackground": true,
            "ticks": "",
            "zerolinecolor": "white"
           },
           "yaxis": {
            "backgroundcolor": "#E5ECF6",
            "gridcolor": "white",
            "gridwidth": 2,
            "linecolor": "white",
            "showbackground": true,
            "ticks": "",
            "zerolinecolor": "white"
           },
           "zaxis": {
            "backgroundcolor": "#E5ECF6",
            "gridcolor": "white",
            "gridwidth": 2,
            "linecolor": "white",
            "showbackground": true,
            "ticks": "",
            "zerolinecolor": "white"
           }
          },
          "shapedefaults": {
           "line": {
            "color": "#2a3f5f"
           }
          },
          "ternary": {
           "aaxis": {
            "gridcolor": "white",
            "linecolor": "white",
            "ticks": ""
           },
           "baxis": {
            "gridcolor": "white",
            "linecolor": "white",
            "ticks": ""
           },
           "bgcolor": "#E5ECF6",
           "caxis": {
            "gridcolor": "white",
            "linecolor": "white",
            "ticks": ""
           }
          },
          "title": {
           "x": 0.05
          },
          "xaxis": {
           "automargin": true,
           "gridcolor": "white",
           "linecolor": "white",
           "ticks": "",
           "title": {
            "standoff": 15
           },
           "zerolinecolor": "white",
           "zerolinewidth": 2
          },
          "yaxis": {
           "automargin": true,
           "gridcolor": "white",
           "linecolor": "white",
           "ticks": "",
           "title": {
            "standoff": 15
           },
           "zerolinecolor": "white",
           "zerolinewidth": 2
          }
         }
        },
        "title": {
         "text": "Training and Testing Accuracy Over Epochs"
        },
        "xaxis": {
         "title": {
          "text": "Number of Estimators"
         }
        },
        "yaxis": {
         "title": {
          "text": "Accuracy"
         }
        }
       }
      }
     },
     "metadata": {},
     "output_type": "display_data"
    },
    {
     "data": {
      "application/vnd.plotly.v1+json": {
       "config": {
        "plotlyServerURL": "https://plot.ly"
       },
       "data": [
        {
         "mode": "lines",
         "name": "Training MSE Loss",
         "type": "scatter",
         "x": [
          1,
          2,
          3,
          4,
          5,
          6,
          7,
          8,
          9,
          10,
          11,
          12,
          13,
          14,
          15,
          16,
          17,
          18,
          19,
          20,
          21,
          22,
          23,
          24,
          25,
          26,
          27,
          28,
          29,
          30,
          31,
          32,
          33,
          34,
          35,
          36,
          37,
          38,
          39,
          40,
          41,
          42,
          43,
          44,
          45,
          46,
          47,
          48,
          49,
          50,
          51,
          52,
          53,
          54,
          55,
          56,
          57,
          58,
          59,
          60,
          61,
          62,
          63,
          64,
          65,
          66,
          67,
          68,
          69,
          70,
          71,
          72,
          73,
          74,
          75,
          76,
          77,
          78,
          79,
          80,
          81,
          82,
          83,
          84,
          85,
          86,
          87,
          88,
          89,
          90,
          91,
          92,
          93,
          94,
          95,
          96,
          97,
          98,
          99,
          100
         ],
         "y": [
          1.21875,
          0.808768656716418,
          0.7835820895522388,
          1.9379664179104477,
          1.806436567164179,
          1.4333022388059702,
          1.923973880597015,
          0.8656716417910447,
          0.7877798507462687,
          0.7583955223880597,
          0.7574626865671642,
          1.5536380597014925,
          0.9109141791044776,
          1.875,
          1.5111940298507462,
          0.8302238805970149,
          1.9463619402985075,
          0.7737873134328358,
          1.9911380597014925,
          0.7719216417910447,
          1.5727611940298507,
          1.4249067164179106,
          1.7975746268656716,
          1.9263059701492538,
          0.9892723880597015,
          1.6599813432835822,
          0.8768656716417911,
          1.8176305970149254,
          1.0405783582089552,
          1.4650186567164178,
          1.3726679104477613,
          1.484141791044776,
          1.9463619402985075,
          1.263526119402985,
          1.5960820895522387,
          1.5727611940298507,
          1.201026119402985,
          1.2327425373134329,
          1.861473880597015,
          1.9328358208955223,
          0.7919776119402985,
          1.5881529850746268,
          0.784981343283582,
          0.8596082089552238,
          1.4729477611940298,
          0.8819962686567164,
          1.4025186567164178,
          0.8269589552238806,
          1.9444962686567164,
          1.9491604477611941,
          0.7723880597014925,
          1.5788246268656716,
          1.8069029850746268,
          1.5191231343283582,
          0.7854477611940298,
          1.9407649253731343,
          1.9333022388059702,
          0.9547574626865671,
          1.923973880597015,
          1.3619402985074627,
          0.8563432835820896,
          0.8283582089552238,
          1.930037313432836,
          0.9155783582089553,
          1.3754664179104477,
          1.6665111940298507,
          1.8069029850746268,
          0.8805970149253731,
          1.4025186567164178,
          0.7630597014925373,
          1.798973880597015,
          1.0065298507462686,
          1.5951492537313432,
          1.8852611940298507,
          0.8404850746268657,
          1.90625,
          0.9253731343283582,
          1.0732276119402986,
          1.1632462686567164,
          1.3680037313432836,
          1.6907649253731343,
          1.9855410447761195,
          0.8498134328358209,
          1.103544776119403,
          1.8353544776119404,
          0.7793843283582089,
          1.6371268656716418,
          1.1982276119402986,
          1.5429104477611941,
          1.4398320895522387,
          0.8745335820895522,
          1.4085820895522387,
          0.9398320895522388,
          2.078824626865672,
          1.59375,
          1.9053171641791045,
          1.5317164179104477,
          0.9109141791044776,
          1.8250932835820894,
          0.7999067164179104
         ]
        },
        {
         "mode": "lines",
         "name": "Testing MSE Loss",
         "type": "scatter",
         "x": [
          1,
          2,
          3,
          4,
          5,
          6,
          7,
          8,
          9,
          10,
          11,
          12,
          13,
          14,
          15,
          16,
          17,
          18,
          19,
          20,
          21,
          22,
          23,
          24,
          25,
          26,
          27,
          28,
          29,
          30,
          31,
          32,
          33,
          34,
          35,
          36,
          37,
          38,
          39,
          40,
          41,
          42,
          43,
          44,
          45,
          46,
          47,
          48,
          49,
          50,
          51,
          52,
          53,
          54,
          55,
          56,
          57,
          58,
          59,
          60,
          61,
          62,
          63,
          64,
          65,
          66,
          67,
          68,
          69,
          70,
          71,
          72,
          73,
          74,
          75,
          76,
          77,
          78,
          79,
          80,
          81,
          82,
          83,
          84,
          85,
          86,
          87,
          88,
          89,
          90,
          91,
          92,
          93,
          94,
          95,
          96,
          97,
          98,
          99,
          100
         ],
         "y": [
          1.2145522388059702,
          0.8097014925373134,
          0.7481343283582089,
          1.9664179104477613,
          1.8190298507462686,
          1.4011194029850746,
          1.9085820895522387,
          0.8731343283582089,
          0.7985074626865671,
          0.7444029850746269,
          0.7257462686567164,
          1.5317164179104477,
          0.9123134328358209,
          1.9011194029850746,
          1.4794776119402986,
          0.8152985074626866,
          1.9906716417910448,
          0.753731343283582,
          2.095149253731343,
          0.7649253731343284,
          1.5615671641791045,
          1.5242537313432836,
          1.8246268656716418,
          1.9458955223880596,
          0.9440298507462687,
          1.671641791044776,
          0.8955223880597015,
          1.833955223880597,
          1.0541044776119404,
          1.5652985074626866,
          1.3917910447761195,
          1.419776119402985,
          2.0205223880597014,
          1.1996268656716418,
          1.632462686567164,
          1.5652985074626866,
          1.2145522388059702,
          1.3246268656716418,
          1.8992537313432836,
          1.9514925373134329,
          0.8227611940298507,
          1.626865671641791,
          0.7611940298507462,
          0.8376865671641791,
          1.4906716417910448,
          0.9029850746268657,
          1.3488805970149254,
          0.8190298507462687,
          1.9682835820895523,
          1.9701492537313432,
          0.7649253731343284,
          1.580223880597015,
          1.8582089552238805,
          1.453358208955224,
          0.7742537313432836,
          1.9682835820895523,
          1.9570895522388059,
          0.9384328358208955,
          1.9440298507462686,
          1.3619402985074627,
          0.8283582089552238,
          0.8208955223880597,
          1.955223880597015,
          0.957089552238806,
          1.4085820895522387,
          1.6399253731343284,
          1.8507462686567164,
          0.8824626865671642,
          1.3488805970149254,
          0.753731343283582,
          1.833955223880597,
          1.0298507462686568,
          1.5932835820895523,
          1.873134328358209,
          0.7835820895522388,
          1.9384328358208955,
          0.9272388059701493,
          1.0895522388059702,
          1.1735074626865671,
          1.4011194029850746,
          1.7667910447761195,
          2.110074626865672,
          0.8302238805970149,
          1.085820895522388,
          1.8507462686567164,
          0.7798507462686567,
          1.5951492537313432,
          1.2238805970149254,
          1.5,
          1.376865671641791,
          0.878731343283582,
          1.4029850746268657,
          0.9384328358208955,
          2.1921641791044775,
          1.6026119402985075,
          1.916044776119403,
          1.5149253731343284,
          0.9160447761194029,
          1.867537313432836,
          0.8059701492537313
         ]
        }
       ],
       "layout": {
        "template": {
         "data": {
          "bar": [
           {
            "error_x": {
             "color": "#2a3f5f"
            },
            "error_y": {
             "color": "#2a3f5f"
            },
            "marker": {
             "line": {
              "color": "#E5ECF6",
              "width": 0.5
             },
             "pattern": {
              "fillmode": "overlay",
              "size": 10,
              "solidity": 0.2
             }
            },
            "type": "bar"
           }
          ],
          "barpolar": [
           {
            "marker": {
             "line": {
              "color": "#E5ECF6",
              "width": 0.5
             },
             "pattern": {
              "fillmode": "overlay",
              "size": 10,
              "solidity": 0.2
             }
            },
            "type": "barpolar"
           }
          ],
          "carpet": [
           {
            "aaxis": {
             "endlinecolor": "#2a3f5f",
             "gridcolor": "white",
             "linecolor": "white",
             "minorgridcolor": "white",
             "startlinecolor": "#2a3f5f"
            },
            "baxis": {
             "endlinecolor": "#2a3f5f",
             "gridcolor": "white",
             "linecolor": "white",
             "minorgridcolor": "white",
             "startlinecolor": "#2a3f5f"
            },
            "type": "carpet"
           }
          ],
          "choropleth": [
           {
            "colorbar": {
             "outlinewidth": 0,
             "ticks": ""
            },
            "type": "choropleth"
           }
          ],
          "contour": [
           {
            "colorbar": {
             "outlinewidth": 0,
             "ticks": ""
            },
            "colorscale": [
             [
              0,
              "#0d0887"
             ],
             [
              0.1111111111111111,
              "#46039f"
             ],
             [
              0.2222222222222222,
              "#7201a8"
             ],
             [
              0.3333333333333333,
              "#9c179e"
             ],
             [
              0.4444444444444444,
              "#bd3786"
             ],
             [
              0.5555555555555556,
              "#d8576b"
             ],
             [
              0.6666666666666666,
              "#ed7953"
             ],
             [
              0.7777777777777778,
              "#fb9f3a"
             ],
             [
              0.8888888888888888,
              "#fdca26"
             ],
             [
              1,
              "#f0f921"
             ]
            ],
            "type": "contour"
           }
          ],
          "contourcarpet": [
           {
            "colorbar": {
             "outlinewidth": 0,
             "ticks": ""
            },
            "type": "contourcarpet"
           }
          ],
          "heatmap": [
           {
            "colorbar": {
             "outlinewidth": 0,
             "ticks": ""
            },
            "colorscale": [
             [
              0,
              "#0d0887"
             ],
             [
              0.1111111111111111,
              "#46039f"
             ],
             [
              0.2222222222222222,
              "#7201a8"
             ],
             [
              0.3333333333333333,
              "#9c179e"
             ],
             [
              0.4444444444444444,
              "#bd3786"
             ],
             [
              0.5555555555555556,
              "#d8576b"
             ],
             [
              0.6666666666666666,
              "#ed7953"
             ],
             [
              0.7777777777777778,
              "#fb9f3a"
             ],
             [
              0.8888888888888888,
              "#fdca26"
             ],
             [
              1,
              "#f0f921"
             ]
            ],
            "type": "heatmap"
           }
          ],
          "heatmapgl": [
           {
            "colorbar": {
             "outlinewidth": 0,
             "ticks": ""
            },
            "colorscale": [
             [
              0,
              "#0d0887"
             ],
             [
              0.1111111111111111,
              "#46039f"
             ],
             [
              0.2222222222222222,
              "#7201a8"
             ],
             [
              0.3333333333333333,
              "#9c179e"
             ],
             [
              0.4444444444444444,
              "#bd3786"
             ],
             [
              0.5555555555555556,
              "#d8576b"
             ],
             [
              0.6666666666666666,
              "#ed7953"
             ],
             [
              0.7777777777777778,
              "#fb9f3a"
             ],
             [
              0.8888888888888888,
              "#fdca26"
             ],
             [
              1,
              "#f0f921"
             ]
            ],
            "type": "heatmapgl"
           }
          ],
          "histogram": [
           {
            "marker": {
             "pattern": {
              "fillmode": "overlay",
              "size": 10,
              "solidity": 0.2
             }
            },
            "type": "histogram"
           }
          ],
          "histogram2d": [
           {
            "colorbar": {
             "outlinewidth": 0,
             "ticks": ""
            },
            "colorscale": [
             [
              0,
              "#0d0887"
             ],
             [
              0.1111111111111111,
              "#46039f"
             ],
             [
              0.2222222222222222,
              "#7201a8"
             ],
             [
              0.3333333333333333,
              "#9c179e"
             ],
             [
              0.4444444444444444,
              "#bd3786"
             ],
             [
              0.5555555555555556,
              "#d8576b"
             ],
             [
              0.6666666666666666,
              "#ed7953"
             ],
             [
              0.7777777777777778,
              "#fb9f3a"
             ],
             [
              0.8888888888888888,
              "#fdca26"
             ],
             [
              1,
              "#f0f921"
             ]
            ],
            "type": "histogram2d"
           }
          ],
          "histogram2dcontour": [
           {
            "colorbar": {
             "outlinewidth": 0,
             "ticks": ""
            },
            "colorscale": [
             [
              0,
              "#0d0887"
             ],
             [
              0.1111111111111111,
              "#46039f"
             ],
             [
              0.2222222222222222,
              "#7201a8"
             ],
             [
              0.3333333333333333,
              "#9c179e"
             ],
             [
              0.4444444444444444,
              "#bd3786"
             ],
             [
              0.5555555555555556,
              "#d8576b"
             ],
             [
              0.6666666666666666,
              "#ed7953"
             ],
             [
              0.7777777777777778,
              "#fb9f3a"
             ],
             [
              0.8888888888888888,
              "#fdca26"
             ],
             [
              1,
              "#f0f921"
             ]
            ],
            "type": "histogram2dcontour"
           }
          ],
          "mesh3d": [
           {
            "colorbar": {
             "outlinewidth": 0,
             "ticks": ""
            },
            "type": "mesh3d"
           }
          ],
          "parcoords": [
           {
            "line": {
             "colorbar": {
              "outlinewidth": 0,
              "ticks": ""
             }
            },
            "type": "parcoords"
           }
          ],
          "pie": [
           {
            "automargin": true,
            "type": "pie"
           }
          ],
          "scatter": [
           {
            "fillpattern": {
             "fillmode": "overlay",
             "size": 10,
             "solidity": 0.2
            },
            "type": "scatter"
           }
          ],
          "scatter3d": [
           {
            "line": {
             "colorbar": {
              "outlinewidth": 0,
              "ticks": ""
             }
            },
            "marker": {
             "colorbar": {
              "outlinewidth": 0,
              "ticks": ""
             }
            },
            "type": "scatter3d"
           }
          ],
          "scattercarpet": [
           {
            "marker": {
             "colorbar": {
              "outlinewidth": 0,
              "ticks": ""
             }
            },
            "type": "scattercarpet"
           }
          ],
          "scattergeo": [
           {
            "marker": {
             "colorbar": {
              "outlinewidth": 0,
              "ticks": ""
             }
            },
            "type": "scattergeo"
           }
          ],
          "scattergl": [
           {
            "marker": {
             "colorbar": {
              "outlinewidth": 0,
              "ticks": ""
             }
            },
            "type": "scattergl"
           }
          ],
          "scattermapbox": [
           {
            "marker": {
             "colorbar": {
              "outlinewidth": 0,
              "ticks": ""
             }
            },
            "type": "scattermapbox"
           }
          ],
          "scatterpolar": [
           {
            "marker": {
             "colorbar": {
              "outlinewidth": 0,
              "ticks": ""
             }
            },
            "type": "scatterpolar"
           }
          ],
          "scatterpolargl": [
           {
            "marker": {
             "colorbar": {
              "outlinewidth": 0,
              "ticks": ""
             }
            },
            "type": "scatterpolargl"
           }
          ],
          "scatterternary": [
           {
            "marker": {
             "colorbar": {
              "outlinewidth": 0,
              "ticks": ""
             }
            },
            "type": "scatterternary"
           }
          ],
          "surface": [
           {
            "colorbar": {
             "outlinewidth": 0,
             "ticks": ""
            },
            "colorscale": [
             [
              0,
              "#0d0887"
             ],
             [
              0.1111111111111111,
              "#46039f"
             ],
             [
              0.2222222222222222,
              "#7201a8"
             ],
             [
              0.3333333333333333,
              "#9c179e"
             ],
             [
              0.4444444444444444,
              "#bd3786"
             ],
             [
              0.5555555555555556,
              "#d8576b"
             ],
             [
              0.6666666666666666,
              "#ed7953"
             ],
             [
              0.7777777777777778,
              "#fb9f3a"
             ],
             [
              0.8888888888888888,
              "#fdca26"
             ],
             [
              1,
              "#f0f921"
             ]
            ],
            "type": "surface"
           }
          ],
          "table": [
           {
            "cells": {
             "fill": {
              "color": "#EBF0F8"
             },
             "line": {
              "color": "white"
             }
            },
            "header": {
             "fill": {
              "color": "#C8D4E3"
             },
             "line": {
              "color": "white"
             }
            },
            "type": "table"
           }
          ]
         },
         "layout": {
          "annotationdefaults": {
           "arrowcolor": "#2a3f5f",
           "arrowhead": 0,
           "arrowwidth": 1
          },
          "autotypenumbers": "strict",
          "coloraxis": {
           "colorbar": {
            "outlinewidth": 0,
            "ticks": ""
           }
          },
          "colorscale": {
           "diverging": [
            [
             0,
             "#8e0152"
            ],
            [
             0.1,
             "#c51b7d"
            ],
            [
             0.2,
             "#de77ae"
            ],
            [
             0.3,
             "#f1b6da"
            ],
            [
             0.4,
             "#fde0ef"
            ],
            [
             0.5,
             "#f7f7f7"
            ],
            [
             0.6,
             "#e6f5d0"
            ],
            [
             0.7,
             "#b8e186"
            ],
            [
             0.8,
             "#7fbc41"
            ],
            [
             0.9,
             "#4d9221"
            ],
            [
             1,
             "#276419"
            ]
           ],
           "sequential": [
            [
             0,
             "#0d0887"
            ],
            [
             0.1111111111111111,
             "#46039f"
            ],
            [
             0.2222222222222222,
             "#7201a8"
            ],
            [
             0.3333333333333333,
             "#9c179e"
            ],
            [
             0.4444444444444444,
             "#bd3786"
            ],
            [
             0.5555555555555556,
             "#d8576b"
            ],
            [
             0.6666666666666666,
             "#ed7953"
            ],
            [
             0.7777777777777778,
             "#fb9f3a"
            ],
            [
             0.8888888888888888,
             "#fdca26"
            ],
            [
             1,
             "#f0f921"
            ]
           ],
           "sequentialminus": [
            [
             0,
             "#0d0887"
            ],
            [
             0.1111111111111111,
             "#46039f"
            ],
            [
             0.2222222222222222,
             "#7201a8"
            ],
            [
             0.3333333333333333,
             "#9c179e"
            ],
            [
             0.4444444444444444,
             "#bd3786"
            ],
            [
             0.5555555555555556,
             "#d8576b"
            ],
            [
             0.6666666666666666,
             "#ed7953"
            ],
            [
             0.7777777777777778,
             "#fb9f3a"
            ],
            [
             0.8888888888888888,
             "#fdca26"
            ],
            [
             1,
             "#f0f921"
            ]
           ]
          },
          "colorway": [
           "#636efa",
           "#EF553B",
           "#00cc96",
           "#ab63fa",
           "#FFA15A",
           "#19d3f3",
           "#FF6692",
           "#B6E880",
           "#FF97FF",
           "#FECB52"
          ],
          "font": {
           "color": "#2a3f5f"
          },
          "geo": {
           "bgcolor": "white",
           "lakecolor": "white",
           "landcolor": "#E5ECF6",
           "showlakes": true,
           "showland": true,
           "subunitcolor": "white"
          },
          "hoverlabel": {
           "align": "left"
          },
          "hovermode": "closest",
          "mapbox": {
           "style": "light"
          },
          "paper_bgcolor": "white",
          "plot_bgcolor": "#E5ECF6",
          "polar": {
           "angularaxis": {
            "gridcolor": "white",
            "linecolor": "white",
            "ticks": ""
           },
           "bgcolor": "#E5ECF6",
           "radialaxis": {
            "gridcolor": "white",
            "linecolor": "white",
            "ticks": ""
           }
          },
          "scene": {
           "xaxis": {
            "backgroundcolor": "#E5ECF6",
            "gridcolor": "white",
            "gridwidth": 2,
            "linecolor": "white",
            "showbackground": true,
            "ticks": "",
            "zerolinecolor": "white"
           },
           "yaxis": {
            "backgroundcolor": "#E5ECF6",
            "gridcolor": "white",
            "gridwidth": 2,
            "linecolor": "white",
            "showbackground": true,
            "ticks": "",
            "zerolinecolor": "white"
           },
           "zaxis": {
            "backgroundcolor": "#E5ECF6",
            "gridcolor": "white",
            "gridwidth": 2,
            "linecolor": "white",
            "showbackground": true,
            "ticks": "",
            "zerolinecolor": "white"
           }
          },
          "shapedefaults": {
           "line": {
            "color": "#2a3f5f"
           }
          },
          "ternary": {
           "aaxis": {
            "gridcolor": "white",
            "linecolor": "white",
            "ticks": ""
           },
           "baxis": {
            "gridcolor": "white",
            "linecolor": "white",
            "ticks": ""
           },
           "bgcolor": "#E5ECF6",
           "caxis": {
            "gridcolor": "white",
            "linecolor": "white",
            "ticks": ""
           }
          },
          "title": {
           "x": 0.05
          },
          "xaxis": {
           "automargin": true,
           "gridcolor": "white",
           "linecolor": "white",
           "ticks": "",
           "title": {
            "standoff": 15
           },
           "zerolinecolor": "white",
           "zerolinewidth": 2
          },
          "yaxis": {
           "automargin": true,
           "gridcolor": "white",
           "linecolor": "white",
           "ticks": "",
           "title": {
            "standoff": 15
           },
           "zerolinecolor": "white",
           "zerolinewidth": 2
          }
         }
        },
        "title": {
         "text": "Training and Testing MSE Loss Over Epochs"
        },
        "xaxis": {
         "title": {
          "text": "Number of Estimators (Epochs)"
         }
        },
        "yaxis": {
         "title": {
          "text": "MSE Loss"
         }
        }
       }
      }
     },
     "metadata": {},
     "output_type": "display_data"
    },
    {
     "data": {
      "image/png": "[encoded data removed]",
      "text/plain": [
       "<Figure size 640x480 with 2 Axes>"
      ]
     },
     "metadata": {},
     "output_type": "display_data"
    }
   ],
   "source": [
    "ada_boost_func(X_train,y_train,X_test,y_test)"
   ]
  },
  {
   "cell_type": "markdown",
   "metadata": {},
   "source": [
    "### 25 features"
   ]
  },
  {
   "cell_type": "code",
   "execution_count": 27,
   "metadata": {},
   "outputs": [
    {
     "name": "stderr",
     "output_type": "stream",
     "text": [
      "d:\\AppRelated\\Anaconda\\envs\\mi\\lib\\site-packages\\sklearn\\base.py:457: UserWarning:\n",
      "\n",
      "X has feature names, but DecisionTreeClassifier was fitted without feature names\n",
      "\n",
      "d:\\AppRelated\\Anaconda\\envs\\mi\\lib\\site-packages\\sklearn\\base.py:457: UserWarning:\n",
      "\n",
      "X has feature names, but DecisionTreeClassifier was fitted without feature names\n",
      "\n",
      "d:\\AppRelated\\Anaconda\\envs\\mi\\lib\\site-packages\\sklearn\\base.py:457: UserWarning:\n",
      "\n",
      "X has feature names, but DecisionTreeClassifier was fitted without feature names\n",
      "\n",
      "d:\\AppRelated\\Anaconda\\envs\\mi\\lib\\site-packages\\sklearn\\base.py:457: UserWarning:\n",
      "\n",
      "X has feature names, but DecisionTreeClassifier was fitted without feature names\n",
      "\n",
      "d:\\AppRelated\\Anaconda\\envs\\mi\\lib\\site-packages\\sklearn\\base.py:457: UserWarning:\n",
      "\n",
      "X has feature names, but DecisionTreeClassifier was fitted without feature names\n",
      "\n",
      "d:\\AppRelated\\Anaconda\\envs\\mi\\lib\\site-packages\\sklearn\\base.py:457: UserWarning:\n",
      "\n",
      "X has feature names, but DecisionTreeClassifier was fitted without feature names\n",
      "\n",
      "d:\\AppRelated\\Anaconda\\envs\\mi\\lib\\site-packages\\sklearn\\base.py:457: UserWarning:\n",
      "\n",
      "X has feature names, but DecisionTreeClassifier was fitted without feature names\n",
      "\n",
      "d:\\AppRelated\\Anaconda\\envs\\mi\\lib\\site-packages\\sklearn\\base.py:457: UserWarning:\n",
      "\n",
      "X has feature names, but DecisionTreeClassifier was fitted without feature names\n",
      "\n",
      "d:\\AppRelated\\Anaconda\\envs\\mi\\lib\\site-packages\\sklearn\\base.py:457: UserWarning:\n",
      "\n",
      "X has feature names, but DecisionTreeClassifier was fitted without feature names\n",
      "\n",
      "d:\\AppRelated\\Anaconda\\envs\\mi\\lib\\site-packages\\sklearn\\base.py:457: UserWarning:\n",
      "\n",
      "X has feature names, but DecisionTreeClassifier was fitted without feature names\n",
      "\n",
      "d:\\AppRelated\\Anaconda\\envs\\mi\\lib\\site-packages\\sklearn\\base.py:457: UserWarning:\n",
      "\n",
      "X has feature names, but DecisionTreeClassifier was fitted without feature names\n",
      "\n",
      "d:\\AppRelated\\Anaconda\\envs\\mi\\lib\\site-packages\\sklearn\\base.py:457: UserWarning:\n",
      "\n",
      "X has feature names, but DecisionTreeClassifier was fitted without feature names\n",
      "\n",
      "d:\\AppRelated\\Anaconda\\envs\\mi\\lib\\site-packages\\sklearn\\base.py:457: UserWarning:\n",
      "\n",
      "X has feature names, but DecisionTreeClassifier was fitted without feature names\n",
      "\n",
      "d:\\AppRelated\\Anaconda\\envs\\mi\\lib\\site-packages\\sklearn\\base.py:457: UserWarning:\n",
      "\n",
      "X has feature names, but DecisionTreeClassifier was fitted without feature names\n",
      "\n",
      "d:\\AppRelated\\Anaconda\\envs\\mi\\lib\\site-packages\\sklearn\\base.py:457: UserWarning:\n",
      "\n",
      "X has feature names, but DecisionTreeClassifier was fitted without feature names\n",
      "\n",
      "d:\\AppRelated\\Anaconda\\envs\\mi\\lib\\site-packages\\sklearn\\base.py:457: UserWarning:\n",
      "\n",
      "X has feature names, but DecisionTreeClassifier was fitted without feature names\n",
      "\n",
      "d:\\AppRelated\\Anaconda\\envs\\mi\\lib\\site-packages\\sklearn\\base.py:457: UserWarning:\n",
      "\n",
      "X has feature names, but DecisionTreeClassifier was fitted without feature names\n",
      "\n",
      "d:\\AppRelated\\Anaconda\\envs\\mi\\lib\\site-packages\\sklearn\\base.py:457: UserWarning:\n",
      "\n",
      "X has feature names, but DecisionTreeClassifier was fitted without feature names\n",
      "\n",
      "d:\\AppRelated\\Anaconda\\envs\\mi\\lib\\site-packages\\sklearn\\base.py:457: UserWarning:\n",
      "\n",
      "X has feature names, but DecisionTreeClassifier was fitted without feature names\n",
      "\n",
      "d:\\AppRelated\\Anaconda\\envs\\mi\\lib\\site-packages\\sklearn\\base.py:457: UserWarning:\n",
      "\n",
      "X has feature names, but DecisionTreeClassifier was fitted without feature names\n",
      "\n",
      "d:\\AppRelated\\Anaconda\\envs\\mi\\lib\\site-packages\\sklearn\\base.py:457: UserWarning:\n",
      "\n",
      "X has feature names, but DecisionTreeClassifier was fitted without feature names\n",
      "\n",
      "d:\\AppRelated\\Anaconda\\envs\\mi\\lib\\site-packages\\sklearn\\base.py:457: UserWarning:\n",
      "\n",
      "X has feature names, but DecisionTreeClassifier was fitted without feature names\n",
      "\n",
      "d:\\AppRelated\\Anaconda\\envs\\mi\\lib\\site-packages\\sklearn\\base.py:457: UserWarning:\n",
      "\n",
      "X has feature names, but DecisionTreeClassifier was fitted without feature names\n",
      "\n",
      "d:\\AppRelated\\Anaconda\\envs\\mi\\lib\\site-packages\\sklearn\\base.py:457: UserWarning:\n",
      "\n",
      "X has feature names, but DecisionTreeClassifier was fitted without feature names\n",
      "\n",
      "d:\\AppRelated\\Anaconda\\envs\\mi\\lib\\site-packages\\sklearn\\base.py:457: UserWarning:\n",
      "\n",
      "X has feature names, but DecisionTreeClassifier was fitted without feature names\n",
      "\n",
      "d:\\AppRelated\\Anaconda\\envs\\mi\\lib\\site-packages\\sklearn\\base.py:457: UserWarning:\n",
      "\n",
      "X has feature names, but DecisionTreeClassifier was fitted without feature names\n",
      "\n",
      "d:\\AppRelated\\Anaconda\\envs\\mi\\lib\\site-packages\\sklearn\\base.py:457: UserWarning:\n",
      "\n",
      "X has feature names, but DecisionTreeClassifier was fitted without feature names\n",
      "\n",
      "d:\\AppRelated\\Anaconda\\envs\\mi\\lib\\site-packages\\sklearn\\base.py:457: UserWarning:\n",
      "\n",
      "X has feature names, but DecisionTreeClassifier was fitted without feature names\n",
      "\n",
      "d:\\AppRelated\\Anaconda\\envs\\mi\\lib\\site-packages\\sklearn\\base.py:457: UserWarning:\n",
      "\n",
      "X has feature names, but DecisionTreeClassifier was fitted without feature names\n",
      "\n",
      "d:\\AppRelated\\Anaconda\\envs\\mi\\lib\\site-packages\\sklearn\\base.py:457: UserWarning:\n",
      "\n",
      "X has feature names, but DecisionTreeClassifier was fitted without feature names\n",
      "\n",
      "d:\\AppRelated\\Anaconda\\envs\\mi\\lib\\site-packages\\sklearn\\base.py:457: UserWarning:\n",
      "\n",
      "X has feature names, but DecisionTreeClassifier was fitted without feature names\n",
      "\n",
      "d:\\AppRelated\\Anaconda\\envs\\mi\\lib\\site-packages\\sklearn\\base.py:457: UserWarning:\n",
      "\n",
      "X has feature names, but DecisionTreeClassifier was fitted without feature names\n",
      "\n",
      "d:\\AppRelated\\Anaconda\\envs\\mi\\lib\\site-packages\\sklearn\\base.py:457: UserWarning:\n",
      "\n",
      "X has feature names, but DecisionTreeClassifier was fitted without feature names\n",
      "\n",
      "d:\\AppRelated\\Anaconda\\envs\\mi\\lib\\site-packages\\sklearn\\base.py:457: UserWarning:\n",
      "\n",
      "X has feature names, but DecisionTreeClassifier was fitted without feature names\n",
      "\n",
      "d:\\AppRelated\\Anaconda\\envs\\mi\\lib\\site-packages\\sklearn\\base.py:457: UserWarning:\n",
      "\n",
      "X has feature names, but DecisionTreeClassifier was fitted without feature names\n",
      "\n",
      "d:\\AppRelated\\Anaconda\\envs\\mi\\lib\\site-packages\\sklearn\\base.py:457: UserWarning:\n",
      "\n",
      "X has feature names, but DecisionTreeClassifier was fitted without feature names\n",
      "\n",
      "d:\\AppRelated\\Anaconda\\envs\\mi\\lib\\site-packages\\sklearn\\base.py:457: UserWarning:\n",
      "\n",
      "X has feature names, but DecisionTreeClassifier was fitted without feature names\n",
      "\n",
      "d:\\AppRelated\\Anaconda\\envs\\mi\\lib\\site-packages\\sklearn\\base.py:457: UserWarning:\n",
      "\n",
      "X has feature names, but DecisionTreeClassifier was fitted without feature names\n",
      "\n",
      "d:\\AppRelated\\Anaconda\\envs\\mi\\lib\\site-packages\\sklearn\\base.py:457: UserWarning:\n",
      "\n",
      "X has feature names, but DecisionTreeClassifier was fitted without feature names\n",
      "\n",
      "d:\\AppRelated\\Anaconda\\envs\\mi\\lib\\site-packages\\sklearn\\base.py:457: UserWarning:\n",
      "\n",
      "X has feature names, but DecisionTreeClassifier was fitted without feature names\n",
      "\n",
      "d:\\AppRelated\\Anaconda\\envs\\mi\\lib\\site-packages\\sklearn\\base.py:457: UserWarning:\n",
      "\n",
      "X has feature names, but DecisionTreeClassifier was fitted without feature names\n",
      "\n",
      "d:\\AppRelated\\Anaconda\\envs\\mi\\lib\\site-packages\\sklearn\\base.py:457: UserWarning:\n",
      "\n",
      "X has feature names, but DecisionTreeClassifier was fitted without feature names\n",
      "\n",
      "d:\\AppRelated\\Anaconda\\envs\\mi\\lib\\site-packages\\sklearn\\base.py:457: UserWarning:\n",
      "\n",
      "X has feature names, but DecisionTreeClassifier was fitted without feature names\n",
      "\n",
      "d:\\AppRelated\\Anaconda\\envs\\mi\\lib\\site-packages\\sklearn\\base.py:457: UserWarning:\n",
      "\n",
      "X has feature names, but DecisionTreeClassifier was fitted without feature names\n",
      "\n",
      "d:\\AppRelated\\Anaconda\\envs\\mi\\lib\\site-packages\\sklearn\\base.py:457: UserWarning:\n",
      "\n",
      "X has feature names, but DecisionTreeClassifier was fitted without feature names\n",
      "\n",
      "d:\\AppRelated\\Anaconda\\envs\\mi\\lib\\site-packages\\sklearn\\base.py:457: UserWarning:\n",
      "\n",
      "X has feature names, but DecisionTreeClassifier was fitted without feature names\n",
      "\n",
      "d:\\AppRelated\\Anaconda\\envs\\mi\\lib\\site-packages\\sklearn\\base.py:457: UserWarning:\n",
      "\n",
      "X has feature names, but DecisionTreeClassifier was fitted without feature names\n",
      "\n",
      "d:\\AppRelated\\Anaconda\\envs\\mi\\lib\\site-packages\\sklearn\\base.py:457: UserWarning:\n",
      "\n",
      "X has feature names, but DecisionTreeClassifier was fitted without feature names\n",
      "\n",
      "d:\\AppRelated\\Anaconda\\envs\\mi\\lib\\site-packages\\sklearn\\base.py:457: UserWarning:\n",
      "\n",
      "X has feature names, but DecisionTreeClassifier was fitted without feature names\n",
      "\n",
      "d:\\AppRelated\\Anaconda\\envs\\mi\\lib\\site-packages\\sklearn\\base.py:457: UserWarning:\n",
      "\n",
      "X has feature names, but DecisionTreeClassifier was fitted without feature names\n",
      "\n",
      "d:\\AppRelated\\Anaconda\\envs\\mi\\lib\\site-packages\\sklearn\\base.py:457: UserWarning:\n",
      "\n",
      "X has feature names, but DecisionTreeClassifier was fitted without feature names\n",
      "\n",
      "d:\\AppRelated\\Anaconda\\envs\\mi\\lib\\site-packages\\sklearn\\base.py:457: UserWarning:\n",
      "\n",
      "X has feature names, but DecisionTreeClassifier was fitted without feature names\n",
      "\n",
      "d:\\AppRelated\\Anaconda\\envs\\mi\\lib\\site-packages\\sklearn\\base.py:457: UserWarning:\n",
      "\n",
      "X has feature names, but DecisionTreeClassifier was fitted without feature names\n",
      "\n",
      "d:\\AppRelated\\Anaconda\\envs\\mi\\lib\\site-packages\\sklearn\\base.py:457: UserWarning:\n",
      "\n",
      "X has feature names, but DecisionTreeClassifier was fitted without feature names\n",
      "\n",
      "d:\\AppRelated\\Anaconda\\envs\\mi\\lib\\site-packages\\sklearn\\base.py:457: UserWarning:\n",
      "\n",
      "X has feature names, but DecisionTreeClassifier was fitted without feature names\n",
      "\n",
      "d:\\AppRelated\\Anaconda\\envs\\mi\\lib\\site-packages\\sklearn\\base.py:457: UserWarning:\n",
      "\n",
      "X has feature names, but DecisionTreeClassifier was fitted without feature names\n",
      "\n",
      "d:\\AppRelated\\Anaconda\\envs\\mi\\lib\\site-packages\\sklearn\\base.py:457: UserWarning:\n",
      "\n",
      "X has feature names, but DecisionTreeClassifier was fitted without feature names\n",
      "\n",
      "d:\\AppRelated\\Anaconda\\envs\\mi\\lib\\site-packages\\sklearn\\base.py:457: UserWarning:\n",
      "\n",
      "X has feature names, but DecisionTreeClassifier was fitted without feature names\n",
      "\n",
      "d:\\AppRelated\\Anaconda\\envs\\mi\\lib\\site-packages\\sklearn\\base.py:457: UserWarning:\n",
      "\n",
      "X has feature names, but DecisionTreeClassifier was fitted without feature names\n",
      "\n",
      "d:\\AppRelated\\Anaconda\\envs\\mi\\lib\\site-packages\\sklearn\\base.py:457: UserWarning:\n",
      "\n",
      "X has feature names, but DecisionTreeClassifier was fitted without feature names\n",
      "\n",
      "d:\\AppRelated\\Anaconda\\envs\\mi\\lib\\site-packages\\sklearn\\base.py:457: UserWarning:\n",
      "\n",
      "X has feature names, but DecisionTreeClassifier was fitted without feature names\n",
      "\n",
      "d:\\AppRelated\\Anaconda\\envs\\mi\\lib\\site-packages\\sklearn\\base.py:457: UserWarning:\n",
      "\n",
      "X has feature names, but DecisionTreeClassifier was fitted without feature names\n",
      "\n",
      "d:\\AppRelated\\Anaconda\\envs\\mi\\lib\\site-packages\\sklearn\\base.py:457: UserWarning:\n",
      "\n",
      "X has feature names, but DecisionTreeClassifier was fitted without feature names\n",
      "\n",
      "d:\\AppRelated\\Anaconda\\envs\\mi\\lib\\site-packages\\sklearn\\base.py:457: UserWarning:\n",
      "\n",
      "X has feature names, but DecisionTreeClassifier was fitted without feature names\n",
      "\n",
      "d:\\AppRelated\\Anaconda\\envs\\mi\\lib\\site-packages\\sklearn\\base.py:457: UserWarning:\n",
      "\n",
      "X has feature names, but DecisionTreeClassifier was fitted without feature names\n",
      "\n",
      "d:\\AppRelated\\Anaconda\\envs\\mi\\lib\\site-packages\\sklearn\\base.py:457: UserWarning:\n",
      "\n",
      "X has feature names, but DecisionTreeClassifier was fitted without feature names\n",
      "\n",
      "d:\\AppRelated\\Anaconda\\envs\\mi\\lib\\site-packages\\sklearn\\base.py:457: UserWarning:\n",
      "\n",
      "X has feature names, but DecisionTreeClassifier was fitted without feature names\n",
      "\n",
      "d:\\AppRelated\\Anaconda\\envs\\mi\\lib\\site-packages\\sklearn\\base.py:457: UserWarning:\n",
      "\n",
      "X has feature names, but DecisionTreeClassifier was fitted without feature names\n",
      "\n",
      "d:\\AppRelated\\Anaconda\\envs\\mi\\lib\\site-packages\\sklearn\\base.py:457: UserWarning:\n",
      "\n",
      "X has feature names, but DecisionTreeClassifier was fitted without feature names\n",
      "\n",
      "d:\\AppRelated\\Anaconda\\envs\\mi\\lib\\site-packages\\sklearn\\base.py:457: UserWarning:\n",
      "\n",
      "X has feature names, but DecisionTreeClassifier was fitted without feature names\n",
      "\n",
      "d:\\AppRelated\\Anaconda\\envs\\mi\\lib\\site-packages\\sklearn\\base.py:457: UserWarning:\n",
      "\n",
      "X has feature names, but DecisionTreeClassifier was fitted without feature names\n",
      "\n",
      "d:\\AppRelated\\Anaconda\\envs\\mi\\lib\\site-packages\\sklearn\\base.py:457: UserWarning:\n",
      "\n",
      "X has feature names, but DecisionTreeClassifier was fitted without feature names\n",
      "\n",
      "d:\\AppRelated\\Anaconda\\envs\\mi\\lib\\site-packages\\sklearn\\base.py:457: UserWarning:\n",
      "\n",
      "X has feature names, but DecisionTreeClassifier was fitted without feature names\n",
      "\n",
      "d:\\AppRelated\\Anaconda\\envs\\mi\\lib\\site-packages\\sklearn\\base.py:457: UserWarning:\n",
      "\n",
      "X has feature names, but DecisionTreeClassifier was fitted without feature names\n",
      "\n",
      "d:\\AppRelated\\Anaconda\\envs\\mi\\lib\\site-packages\\sklearn\\base.py:457: UserWarning:\n",
      "\n",
      "X has feature names, but DecisionTreeClassifier was fitted without feature names\n",
      "\n",
      "d:\\AppRelated\\Anaconda\\envs\\mi\\lib\\site-packages\\sklearn\\base.py:457: UserWarning:\n",
      "\n",
      "X has feature names, but DecisionTreeClassifier was fitted without feature names\n",
      "\n",
      "d:\\AppRelated\\Anaconda\\envs\\mi\\lib\\site-packages\\sklearn\\base.py:457: UserWarning:\n",
      "\n",
      "X has feature names, but DecisionTreeClassifier was fitted without feature names\n",
      "\n",
      "d:\\AppRelated\\Anaconda\\envs\\mi\\lib\\site-packages\\sklearn\\base.py:457: UserWarning:\n",
      "\n",
      "X has feature names, but DecisionTreeClassifier was fitted without feature names\n",
      "\n",
      "d:\\AppRelated\\Anaconda\\envs\\mi\\lib\\site-packages\\sklearn\\base.py:457: UserWarning:\n",
      "\n",
      "X has feature names, but DecisionTreeClassifier was fitted without feature names\n",
      "\n",
      "d:\\AppRelated\\Anaconda\\envs\\mi\\lib\\site-packages\\sklearn\\base.py:457: UserWarning:\n",
      "\n",
      "X has feature names, but DecisionTreeClassifier was fitted without feature names\n",
      "\n",
      "d:\\AppRelated\\Anaconda\\envs\\mi\\lib\\site-packages\\sklearn\\base.py:457: UserWarning:\n",
      "\n",
      "X has feature names, but DecisionTreeClassifier was fitted without feature names\n",
      "\n",
      "d:\\AppRelated\\Anaconda\\envs\\mi\\lib\\site-packages\\sklearn\\base.py:457: UserWarning:\n",
      "\n",
      "X has feature names, but DecisionTreeClassifier was fitted without feature names\n",
      "\n",
      "d:\\AppRelated\\Anaconda\\envs\\mi\\lib\\site-packages\\sklearn\\base.py:457: UserWarning:\n",
      "\n",
      "X has feature names, but DecisionTreeClassifier was fitted without feature names\n",
      "\n",
      "d:\\AppRelated\\Anaconda\\envs\\mi\\lib\\site-packages\\sklearn\\base.py:457: UserWarning:\n",
      "\n",
      "X has feature names, but DecisionTreeClassifier was fitted without feature names\n",
      "\n",
      "d:\\AppRelated\\Anaconda\\envs\\mi\\lib\\site-packages\\sklearn\\base.py:457: UserWarning:\n",
      "\n",
      "X has feature names, but DecisionTreeClassifier was fitted without feature names\n",
      "\n",
      "d:\\AppRelated\\Anaconda\\envs\\mi\\lib\\site-packages\\sklearn\\base.py:457: UserWarning:\n",
      "\n",
      "X has feature names, but DecisionTreeClassifier was fitted without feature names\n",
      "\n",
      "d:\\AppRelated\\Anaconda\\envs\\mi\\lib\\site-packages\\sklearn\\base.py:457: UserWarning:\n",
      "\n",
      "X has feature names, but DecisionTreeClassifier was fitted without feature names\n",
      "\n",
      "d:\\AppRelated\\Anaconda\\envs\\mi\\lib\\site-packages\\sklearn\\base.py:457: UserWarning:\n",
      "\n",
      "X has feature names, but DecisionTreeClassifier was fitted without feature names\n",
      "\n",
      "d:\\AppRelated\\Anaconda\\envs\\mi\\lib\\site-packages\\sklearn\\base.py:457: UserWarning:\n",
      "\n",
      "X has feature names, but DecisionTreeClassifier was fitted without feature names\n",
      "\n",
      "d:\\AppRelated\\Anaconda\\envs\\mi\\lib\\site-packages\\sklearn\\base.py:457: UserWarning:\n",
      "\n",
      "X has feature names, but DecisionTreeClassifier was fitted without feature names\n",
      "\n",
      "d:\\AppRelated\\Anaconda\\envs\\mi\\lib\\site-packages\\sklearn\\base.py:457: UserWarning:\n",
      "\n",
      "X has feature names, but DecisionTreeClassifier was fitted without feature names\n",
      "\n",
      "d:\\AppRelated\\Anaconda\\envs\\mi\\lib\\site-packages\\sklearn\\base.py:457: UserWarning:\n",
      "\n",
      "X has feature names, but DecisionTreeClassifier was fitted without feature names\n",
      "\n",
      "d:\\AppRelated\\Anaconda\\envs\\mi\\lib\\site-packages\\sklearn\\base.py:457: UserWarning:\n",
      "\n",
      "X has feature names, but DecisionTreeClassifier was fitted without feature names\n",
      "\n",
      "d:\\AppRelated\\Anaconda\\envs\\mi\\lib\\site-packages\\sklearn\\base.py:457: UserWarning:\n",
      "\n",
      "X has feature names, but DecisionTreeClassifier was fitted without feature names\n",
      "\n",
      "d:\\AppRelated\\Anaconda\\envs\\mi\\lib\\site-packages\\sklearn\\base.py:457: UserWarning:\n",
      "\n",
      "X has feature names, but DecisionTreeClassifier was fitted without feature names\n",
      "\n",
      "d:\\AppRelated\\Anaconda\\envs\\mi\\lib\\site-packages\\sklearn\\base.py:457: UserWarning:\n",
      "\n",
      "X has feature names, but DecisionTreeClassifier was fitted without feature names\n",
      "\n",
      "d:\\AppRelated\\Anaconda\\envs\\mi\\lib\\site-packages\\sklearn\\base.py:457: UserWarning:\n",
      "\n",
      "X has feature names, but DecisionTreeClassifier was fitted without feature names\n",
      "\n",
      "d:\\AppRelated\\Anaconda\\envs\\mi\\lib\\site-packages\\sklearn\\base.py:457: UserWarning:\n",
      "\n",
      "X has feature names, but DecisionTreeClassifier was fitted without feature names\n",
      "\n",
      "d:\\AppRelated\\Anaconda\\envs\\mi\\lib\\site-packages\\sklearn\\base.py:457: UserWarning:\n",
      "\n",
      "X has feature names, but DecisionTreeClassifier was fitted without feature names\n",
      "\n",
      "d:\\AppRelated\\Anaconda\\envs\\mi\\lib\\site-packages\\sklearn\\base.py:457: UserWarning:\n",
      "\n",
      "X has feature names, but DecisionTreeClassifier was fitted without feature names\n",
      "\n",
      "d:\\AppRelated\\Anaconda\\envs\\mi\\lib\\site-packages\\sklearn\\base.py:457: UserWarning:\n",
      "\n",
      "X has feature names, but DecisionTreeClassifier was fitted without feature names\n",
      "\n",
      "d:\\AppRelated\\Anaconda\\envs\\mi\\lib\\site-packages\\sklearn\\base.py:457: UserWarning:\n",
      "\n",
      "X has feature names, but DecisionTreeClassifier was fitted without feature names\n",
      "\n",
      "d:\\AppRelated\\Anaconda\\envs\\mi\\lib\\site-packages\\sklearn\\base.py:457: UserWarning:\n",
      "\n",
      "X has feature names, but DecisionTreeClassifier was fitted without feature names\n",
      "\n",
      "d:\\AppRelated\\Anaconda\\envs\\mi\\lib\\site-packages\\sklearn\\base.py:457: UserWarning:\n",
      "\n",
      "X has feature names, but DecisionTreeClassifier was fitted without feature names\n",
      "\n",
      "d:\\AppRelated\\Anaconda\\envs\\mi\\lib\\site-packages\\sklearn\\base.py:457: UserWarning:\n",
      "\n",
      "X has feature names, but DecisionTreeClassifier was fitted without feature names\n",
      "\n",
      "d:\\AppRelated\\Anaconda\\envs\\mi\\lib\\site-packages\\sklearn\\base.py:457: UserWarning:\n",
      "\n",
      "X has feature names, but DecisionTreeClassifier was fitted without feature names\n",
      "\n",
      "d:\\AppRelated\\Anaconda\\envs\\mi\\lib\\site-packages\\sklearn\\base.py:457: UserWarning:\n",
      "\n",
      "X has feature names, but DecisionTreeClassifier was fitted without feature names\n",
      "\n",
      "d:\\AppRelated\\Anaconda\\envs\\mi\\lib\\site-packages\\sklearn\\base.py:457: UserWarning:\n",
      "\n",
      "X has feature names, but DecisionTreeClassifier was fitted without feature names\n",
      "\n",
      "d:\\AppRelated\\Anaconda\\envs\\mi\\lib\\site-packages\\sklearn\\base.py:457: UserWarning:\n",
      "\n",
      "X has feature names, but DecisionTreeClassifier was fitted without feature names\n",
      "\n",
      "d:\\AppRelated\\Anaconda\\envs\\mi\\lib\\site-packages\\sklearn\\base.py:457: UserWarning:\n",
      "\n",
      "X has feature names, but DecisionTreeClassifier was fitted without feature names\n",
      "\n",
      "d:\\AppRelated\\Anaconda\\envs\\mi\\lib\\site-packages\\sklearn\\base.py:457: UserWarning:\n",
      "\n",
      "X has feature names, but DecisionTreeClassifier was fitted without feature names\n",
      "\n",
      "d:\\AppRelated\\Anaconda\\envs\\mi\\lib\\site-packages\\sklearn\\base.py:457: UserWarning:\n",
      "\n",
      "X has feature names, but DecisionTreeClassifier was fitted without feature names\n",
      "\n",
      "d:\\AppRelated\\Anaconda\\envs\\mi\\lib\\site-packages\\sklearn\\base.py:457: UserWarning:\n",
      "\n",
      "X has feature names, but DecisionTreeClassifier was fitted without feature names\n",
      "\n",
      "d:\\AppRelated\\Anaconda\\envs\\mi\\lib\\site-packages\\sklearn\\base.py:457: UserWarning:\n",
      "\n",
      "X has feature names, but DecisionTreeClassifier was fitted without feature names\n",
      "\n",
      "d:\\AppRelated\\Anaconda\\envs\\mi\\lib\\site-packages\\sklearn\\base.py:457: UserWarning:\n",
      "\n",
      "X has feature names, but DecisionTreeClassifier was fitted without feature names\n",
      "\n",
      "d:\\AppRelated\\Anaconda\\envs\\mi\\lib\\site-packages\\sklearn\\base.py:457: UserWarning:\n",
      "\n",
      "X has feature names, but DecisionTreeClassifier was fitted without feature names\n",
      "\n",
      "d:\\AppRelated\\Anaconda\\envs\\mi\\lib\\site-packages\\sklearn\\base.py:457: UserWarning:\n",
      "\n",
      "X has feature names, but DecisionTreeClassifier was fitted without feature names\n",
      "\n",
      "d:\\AppRelated\\Anaconda\\envs\\mi\\lib\\site-packages\\sklearn\\base.py:457: UserWarning:\n",
      "\n",
      "X has feature names, but DecisionTreeClassifier was fitted without feature names\n",
      "\n",
      "d:\\AppRelated\\Anaconda\\envs\\mi\\lib\\site-packages\\sklearn\\base.py:457: UserWarning:\n",
      "\n",
      "X has feature names, but DecisionTreeClassifier was fitted without feature names\n",
      "\n",
      "d:\\AppRelated\\Anaconda\\envs\\mi\\lib\\site-packages\\sklearn\\base.py:457: UserWarning:\n",
      "\n",
      "X has feature names, but DecisionTreeClassifier was fitted without feature names\n",
      "\n",
      "d:\\AppRelated\\Anaconda\\envs\\mi\\lib\\site-packages\\sklearn\\base.py:457: UserWarning:\n",
      "\n",
      "X has feature names, but DecisionTreeClassifier was fitted without feature names\n",
      "\n",
      "d:\\AppRelated\\Anaconda\\envs\\mi\\lib\\site-packages\\sklearn\\base.py:457: UserWarning:\n",
      "\n",
      "X has feature names, but DecisionTreeClassifier was fitted without feature names\n",
      "\n",
      "d:\\AppRelated\\Anaconda\\envs\\mi\\lib\\site-packages\\sklearn\\base.py:457: UserWarning:\n",
      "\n",
      "X has feature names, but DecisionTreeClassifier was fitted without feature names\n",
      "\n",
      "d:\\AppRelated\\Anaconda\\envs\\mi\\lib\\site-packages\\sklearn\\base.py:457: UserWarning:\n",
      "\n",
      "X has feature names, but DecisionTreeClassifier was fitted without feature names\n",
      "\n",
      "d:\\AppRelated\\Anaconda\\envs\\mi\\lib\\site-packages\\sklearn\\base.py:457: UserWarning:\n",
      "\n",
      "X has feature names, but DecisionTreeClassifier was fitted without feature names\n",
      "\n",
      "d:\\AppRelated\\Anaconda\\envs\\mi\\lib\\site-packages\\sklearn\\base.py:457: UserWarning:\n",
      "\n",
      "X has feature names, but DecisionTreeClassifier was fitted without feature names\n",
      "\n",
      "d:\\AppRelated\\Anaconda\\envs\\mi\\lib\\site-packages\\sklearn\\base.py:457: UserWarning:\n",
      "\n",
      "X has feature names, but DecisionTreeClassifier was fitted without feature names\n",
      "\n",
      "d:\\AppRelated\\Anaconda\\envs\\mi\\lib\\site-packages\\sklearn\\base.py:457: UserWarning:\n",
      "\n",
      "X has feature names, but DecisionTreeClassifier was fitted without feature names\n",
      "\n",
      "d:\\AppRelated\\Anaconda\\envs\\mi\\lib\\site-packages\\sklearn\\base.py:457: UserWarning:\n",
      "\n",
      "X has feature names, but DecisionTreeClassifier was fitted without feature names\n",
      "\n",
      "d:\\AppRelated\\Anaconda\\envs\\mi\\lib\\site-packages\\sklearn\\base.py:457: UserWarning:\n",
      "\n",
      "X has feature names, but DecisionTreeClassifier was fitted without feature names\n",
      "\n",
      "d:\\AppRelated\\Anaconda\\envs\\mi\\lib\\site-packages\\sklearn\\base.py:457: UserWarning:\n",
      "\n",
      "X has feature names, but DecisionTreeClassifier was fitted without feature names\n",
      "\n",
      "d:\\AppRelated\\Anaconda\\envs\\mi\\lib\\site-packages\\sklearn\\base.py:457: UserWarning:\n",
      "\n",
      "X has feature names, but DecisionTreeClassifier was fitted without feature names\n",
      "\n",
      "d:\\AppRelated\\Anaconda\\envs\\mi\\lib\\site-packages\\sklearn\\base.py:457: UserWarning:\n",
      "\n",
      "X has feature names, but DecisionTreeClassifier was fitted without feature names\n",
      "\n",
      "d:\\AppRelated\\Anaconda\\envs\\mi\\lib\\site-packages\\sklearn\\base.py:457: UserWarning:\n",
      "\n",
      "X has feature names, but DecisionTreeClassifier was fitted without feature names\n",
      "\n",
      "d:\\AppRelated\\Anaconda\\envs\\mi\\lib\\site-packages\\sklearn\\base.py:457: UserWarning:\n",
      "\n",
      "X has feature names, but DecisionTreeClassifier was fitted without feature names\n",
      "\n",
      "d:\\AppRelated\\Anaconda\\envs\\mi\\lib\\site-packages\\sklearn\\base.py:457: UserWarning:\n",
      "\n",
      "X has feature names, but DecisionTreeClassifier was fitted without feature names\n",
      "\n",
      "d:\\AppRelated\\Anaconda\\envs\\mi\\lib\\site-packages\\sklearn\\base.py:457: UserWarning:\n",
      "\n",
      "X has feature names, but DecisionTreeClassifier was fitted without feature names\n",
      "\n",
      "d:\\AppRelated\\Anaconda\\envs\\mi\\lib\\site-packages\\sklearn\\base.py:457: UserWarning:\n",
      "\n",
      "X has feature names, but DecisionTreeClassifier was fitted without feature names\n",
      "\n",
      "d:\\AppRelated\\Anaconda\\envs\\mi\\lib\\site-packages\\sklearn\\base.py:457: UserWarning:\n",
      "\n",
      "X has feature names, but DecisionTreeClassifier was fitted without feature names\n",
      "\n",
      "d:\\AppRelated\\Anaconda\\envs\\mi\\lib\\site-packages\\sklearn\\base.py:457: UserWarning:\n",
      "\n",
      "X has feature names, but DecisionTreeClassifier was fitted without feature names\n",
      "\n",
      "d:\\AppRelated\\Anaconda\\envs\\mi\\lib\\site-packages\\sklearn\\base.py:457: UserWarning:\n",
      "\n",
      "X has feature names, but DecisionTreeClassifier was fitted without feature names\n",
      "\n",
      "d:\\AppRelated\\Anaconda\\envs\\mi\\lib\\site-packages\\sklearn\\base.py:457: UserWarning:\n",
      "\n",
      "X has feature names, but DecisionTreeClassifier was fitted without feature names\n",
      "\n",
      "d:\\AppRelated\\Anaconda\\envs\\mi\\lib\\site-packages\\sklearn\\base.py:457: UserWarning:\n",
      "\n",
      "X has feature names, but DecisionTreeClassifier was fitted without feature names\n",
      "\n",
      "d:\\AppRelated\\Anaconda\\envs\\mi\\lib\\site-packages\\sklearn\\base.py:457: UserWarning:\n",
      "\n",
      "X has feature names, but DecisionTreeClassifier was fitted without feature names\n",
      "\n",
      "d:\\AppRelated\\Anaconda\\envs\\mi\\lib\\site-packages\\sklearn\\base.py:457: UserWarning:\n",
      "\n",
      "X has feature names, but DecisionTreeClassifier was fitted without feature names\n",
      "\n",
      "d:\\AppRelated\\Anaconda\\envs\\mi\\lib\\site-packages\\sklearn\\base.py:457: UserWarning:\n",
      "\n",
      "X has feature names, but DecisionTreeClassifier was fitted without feature names\n",
      "\n",
      "d:\\AppRelated\\Anaconda\\envs\\mi\\lib\\site-packages\\sklearn\\base.py:457: UserWarning:\n",
      "\n",
      "X has feature names, but DecisionTreeClassifier was fitted without feature names\n",
      "\n",
      "d:\\AppRelated\\Anaconda\\envs\\mi\\lib\\site-packages\\sklearn\\base.py:457: UserWarning:\n",
      "\n",
      "X has feature names, but DecisionTreeClassifier was fitted without feature names\n",
      "\n",
      "d:\\AppRelated\\Anaconda\\envs\\mi\\lib\\site-packages\\sklearn\\base.py:457: UserWarning:\n",
      "\n",
      "X has feature names, but DecisionTreeClassifier was fitted without feature names\n",
      "\n",
      "d:\\AppRelated\\Anaconda\\envs\\mi\\lib\\site-packages\\sklearn\\base.py:457: UserWarning:\n",
      "\n",
      "X has feature names, but DecisionTreeClassifier was fitted without feature names\n",
      "\n",
      "d:\\AppRelated\\Anaconda\\envs\\mi\\lib\\site-packages\\sklearn\\base.py:457: UserWarning:\n",
      "\n",
      "X has feature names, but DecisionTreeClassifier was fitted without feature names\n",
      "\n",
      "d:\\AppRelated\\Anaconda\\envs\\mi\\lib\\site-packages\\sklearn\\base.py:457: UserWarning:\n",
      "\n",
      "X has feature names, but DecisionTreeClassifier was fitted without feature names\n",
      "\n",
      "d:\\AppRelated\\Anaconda\\envs\\mi\\lib\\site-packages\\sklearn\\base.py:457: UserWarning:\n",
      "\n",
      "X has feature names, but DecisionTreeClassifier was fitted without feature names\n",
      "\n",
      "d:\\AppRelated\\Anaconda\\envs\\mi\\lib\\site-packages\\sklearn\\base.py:457: UserWarning:\n",
      "\n",
      "X has feature names, but DecisionTreeClassifier was fitted without feature names\n",
      "\n",
      "d:\\AppRelated\\Anaconda\\envs\\mi\\lib\\site-packages\\sklearn\\base.py:457: UserWarning:\n",
      "\n",
      "X has feature names, but DecisionTreeClassifier was fitted without feature names\n",
      "\n",
      "d:\\AppRelated\\Anaconda\\envs\\mi\\lib\\site-packages\\sklearn\\base.py:457: UserWarning:\n",
      "\n",
      "X has feature names, but DecisionTreeClassifier was fitted without feature names\n",
      "\n",
      "d:\\AppRelated\\Anaconda\\envs\\mi\\lib\\site-packages\\sklearn\\base.py:457: UserWarning:\n",
      "\n",
      "X has feature names, but DecisionTreeClassifier was fitted without feature names\n",
      "\n",
      "d:\\AppRelated\\Anaconda\\envs\\mi\\lib\\site-packages\\sklearn\\base.py:457: UserWarning:\n",
      "\n",
      "X has feature names, but DecisionTreeClassifier was fitted without feature names\n",
      "\n",
      "d:\\AppRelated\\Anaconda\\envs\\mi\\lib\\site-packages\\sklearn\\base.py:457: UserWarning:\n",
      "\n",
      "X has feature names, but DecisionTreeClassifier was fitted without feature names\n",
      "\n",
      "d:\\AppRelated\\Anaconda\\envs\\mi\\lib\\site-packages\\sklearn\\base.py:457: UserWarning:\n",
      "\n",
      "X has feature names, but DecisionTreeClassifier was fitted without feature names\n",
      "\n",
      "d:\\AppRelated\\Anaconda\\envs\\mi\\lib\\site-packages\\sklearn\\base.py:457: UserWarning:\n",
      "\n",
      "X has feature names, but DecisionTreeClassifier was fitted without feature names\n",
      "\n",
      "d:\\AppRelated\\Anaconda\\envs\\mi\\lib\\site-packages\\sklearn\\base.py:457: UserWarning:\n",
      "\n",
      "X has feature names, but DecisionTreeClassifier was fitted without feature names\n",
      "\n",
      "d:\\AppRelated\\Anaconda\\envs\\mi\\lib\\site-packages\\sklearn\\base.py:457: UserWarning:\n",
      "\n",
      "X has feature names, but DecisionTreeClassifier was fitted without feature names\n",
      "\n",
      "d:\\AppRelated\\Anaconda\\envs\\mi\\lib\\site-packages\\sklearn\\base.py:457: UserWarning:\n",
      "\n",
      "X has feature names, but DecisionTreeClassifier was fitted without feature names\n",
      "\n",
      "d:\\AppRelated\\Anaconda\\envs\\mi\\lib\\site-packages\\sklearn\\base.py:457: UserWarning:\n",
      "\n",
      "X has feature names, but DecisionTreeClassifier was fitted without feature names\n",
      "\n",
      "d:\\AppRelated\\Anaconda\\envs\\mi\\lib\\site-packages\\sklearn\\base.py:457: UserWarning:\n",
      "\n",
      "X has feature names, but DecisionTreeClassifier was fitted without feature names\n",
      "\n",
      "d:\\AppRelated\\Anaconda\\envs\\mi\\lib\\site-packages\\sklearn\\base.py:457: UserWarning:\n",
      "\n",
      "X has feature names, but DecisionTreeClassifier was fitted without feature names\n",
      "\n",
      "d:\\AppRelated\\Anaconda\\envs\\mi\\lib\\site-packages\\sklearn\\base.py:457: UserWarning:\n",
      "\n",
      "X has feature names, but DecisionTreeClassifier was fitted without feature names\n",
      "\n",
      "d:\\AppRelated\\Anaconda\\envs\\mi\\lib\\site-packages\\sklearn\\base.py:457: UserWarning:\n",
      "\n",
      "X has feature names, but DecisionTreeClassifier was fitted without feature names\n",
      "\n",
      "d:\\AppRelated\\Anaconda\\envs\\mi\\lib\\site-packages\\sklearn\\base.py:457: UserWarning:\n",
      "\n",
      "X has feature names, but DecisionTreeClassifier was fitted without feature names\n",
      "\n",
      "d:\\AppRelated\\Anaconda\\envs\\mi\\lib\\site-packages\\sklearn\\base.py:457: UserWarning:\n",
      "\n",
      "X has feature names, but DecisionTreeClassifier was fitted without feature names\n",
      "\n",
      "d:\\AppRelated\\Anaconda\\envs\\mi\\lib\\site-packages\\sklearn\\base.py:457: UserWarning:\n",
      "\n",
      "X has feature names, but DecisionTreeClassifier was fitted without feature names\n",
      "\n",
      "d:\\AppRelated\\Anaconda\\envs\\mi\\lib\\site-packages\\sklearn\\base.py:457: UserWarning:\n",
      "\n",
      "X has feature names, but DecisionTreeClassifier was fitted without feature names\n",
      "\n",
      "d:\\AppRelated\\Anaconda\\envs\\mi\\lib\\site-packages\\sklearn\\base.py:457: UserWarning:\n",
      "\n",
      "X has feature names, but DecisionTreeClassifier was fitted without feature names\n",
      "\n",
      "d:\\AppRelated\\Anaconda\\envs\\mi\\lib\\site-packages\\sklearn\\base.py:457: UserWarning:\n",
      "\n",
      "X has feature names, but DecisionTreeClassifier was fitted without feature names\n",
      "\n",
      "d:\\AppRelated\\Anaconda\\envs\\mi\\lib\\site-packages\\sklearn\\base.py:457: UserWarning:\n",
      "\n",
      "X has feature names, but DecisionTreeClassifier was fitted without feature names\n",
      "\n",
      "d:\\AppRelated\\Anaconda\\envs\\mi\\lib\\site-packages\\sklearn\\base.py:457: UserWarning:\n",
      "\n",
      "X has feature names, but DecisionTreeClassifier was fitted without feature names\n",
      "\n",
      "d:\\AppRelated\\Anaconda\\envs\\mi\\lib\\site-packages\\sklearn\\base.py:457: UserWarning:\n",
      "\n",
      "X has feature names, but DecisionTreeClassifier was fitted without feature names\n",
      "\n",
      "d:\\AppRelated\\Anaconda\\envs\\mi\\lib\\site-packages\\sklearn\\base.py:457: UserWarning:\n",
      "\n",
      "X has feature names, but DecisionTreeClassifier was fitted without feature names\n",
      "\n",
      "d:\\AppRelated\\Anaconda\\envs\\mi\\lib\\site-packages\\sklearn\\base.py:457: UserWarning:\n",
      "\n",
      "X has feature names, but DecisionTreeClassifier was fitted without feature names\n",
      "\n",
      "d:\\AppRelated\\Anaconda\\envs\\mi\\lib\\site-packages\\sklearn\\base.py:457: UserWarning:\n",
      "\n",
      "X has feature names, but DecisionTreeClassifier was fitted without feature names\n",
      "\n",
      "d:\\AppRelated\\Anaconda\\envs\\mi\\lib\\site-packages\\sklearn\\base.py:457: UserWarning:\n",
      "\n",
      "X has feature names, but DecisionTreeClassifier was fitted without feature names\n",
      "\n",
      "d:\\AppRelated\\Anaconda\\envs\\mi\\lib\\site-packages\\sklearn\\base.py:457: UserWarning:\n",
      "\n",
      "X has feature names, but DecisionTreeClassifier was fitted without feature names\n",
      "\n",
      "d:\\AppRelated\\Anaconda\\envs\\mi\\lib\\site-packages\\sklearn\\base.py:457: UserWarning:\n",
      "\n",
      "X has feature names, but DecisionTreeClassifier was fitted without feature names\n",
      "\n",
      "d:\\AppRelated\\Anaconda\\envs\\mi\\lib\\site-packages\\sklearn\\base.py:457: UserWarning:\n",
      "\n",
      "X has feature names, but DecisionTreeClassifier was fitted without feature names\n",
      "\n",
      "d:\\AppRelated\\Anaconda\\envs\\mi\\lib\\site-packages\\sklearn\\base.py:457: UserWarning:\n",
      "\n",
      "X has feature names, but DecisionTreeClassifier was fitted without feature names\n",
      "\n",
      "d:\\AppRelated\\Anaconda\\envs\\mi\\lib\\site-packages\\sklearn\\base.py:457: UserWarning:\n",
      "\n",
      "X has feature names, but DecisionTreeClassifier was fitted without feature names\n",
      "\n",
      "d:\\AppRelated\\Anaconda\\envs\\mi\\lib\\site-packages\\sklearn\\base.py:457: UserWarning:\n",
      "\n",
      "X has feature names, but DecisionTreeClassifier was fitted without feature names\n",
      "\n",
      "d:\\AppRelated\\Anaconda\\envs\\mi\\lib\\site-packages\\sklearn\\base.py:457: UserWarning:\n",
      "\n",
      "X has feature names, but DecisionTreeClassifier was fitted without feature names\n",
      "\n",
      "d:\\AppRelated\\Anaconda\\envs\\mi\\lib\\site-packages\\sklearn\\base.py:457: UserWarning:\n",
      "\n",
      "X has feature names, but DecisionTreeClassifier was fitted without feature names\n",
      "\n",
      "d:\\AppRelated\\Anaconda\\envs\\mi\\lib\\site-packages\\sklearn\\base.py:457: UserWarning:\n",
      "\n",
      "X has feature names, but DecisionTreeClassifier was fitted without feature names\n",
      "\n",
      "d:\\AppRelated\\Anaconda\\envs\\mi\\lib\\site-packages\\sklearn\\base.py:457: UserWarning:\n",
      "\n",
      "X has feature names, but DecisionTreeClassifier was fitted without feature names\n",
      "\n",
      "d:\\AppRelated\\Anaconda\\envs\\mi\\lib\\site-packages\\sklearn\\base.py:457: UserWarning:\n",
      "\n",
      "X has feature names, but DecisionTreeClassifier was fitted without feature names\n",
      "\n",
      "d:\\AppRelated\\Anaconda\\envs\\mi\\lib\\site-packages\\sklearn\\base.py:457: UserWarning:\n",
      "\n",
      "X has feature names, but DecisionTreeClassifier was fitted without feature names\n",
      "\n",
      "d:\\AppRelated\\Anaconda\\envs\\mi\\lib\\site-packages\\sklearn\\base.py:457: UserWarning:\n",
      "\n",
      "X has feature names, but DecisionTreeClassifier was fitted without feature names\n",
      "\n",
      "d:\\AppRelated\\Anaconda\\envs\\mi\\lib\\site-packages\\sklearn\\base.py:457: UserWarning:\n",
      "\n",
      "X has feature names, but DecisionTreeClassifier was fitted without feature names\n",
      "\n",
      "d:\\AppRelated\\Anaconda\\envs\\mi\\lib\\site-packages\\sklearn\\base.py:457: UserWarning:\n",
      "\n",
      "X has feature names, but DecisionTreeClassifier was fitted without feature names\n",
      "\n",
      "d:\\AppRelated\\Anaconda\\envs\\mi\\lib\\site-packages\\sklearn\\base.py:457: UserWarning:\n",
      "\n",
      "X has feature names, but DecisionTreeClassifier was fitted without feature names\n",
      "\n",
      "d:\\AppRelated\\Anaconda\\envs\\mi\\lib\\site-packages\\sklearn\\base.py:457: UserWarning:\n",
      "\n",
      "X has feature names, but DecisionTreeClassifier was fitted without feature names\n",
      "\n",
      "d:\\AppRelated\\Anaconda\\envs\\mi\\lib\\site-packages\\sklearn\\base.py:457: UserWarning:\n",
      "\n",
      "X has feature names, but DecisionTreeClassifier was fitted without feature names\n",
      "\n",
      "d:\\AppRelated\\Anaconda\\envs\\mi\\lib\\site-packages\\sklearn\\base.py:457: UserWarning:\n",
      "\n",
      "X has feature names, but DecisionTreeClassifier was fitted without feature names\n",
      "\n",
      "d:\\AppRelated\\Anaconda\\envs\\mi\\lib\\site-packages\\sklearn\\base.py:457: UserWarning:\n",
      "\n",
      "X has feature names, but DecisionTreeClassifier was fitted without feature names\n",
      "\n",
      "d:\\AppRelated\\Anaconda\\envs\\mi\\lib\\site-packages\\sklearn\\base.py:457: UserWarning:\n",
      "\n",
      "X has feature names, but DecisionTreeClassifier was fitted without feature names\n",
      "\n",
      "d:\\AppRelated\\Anaconda\\envs\\mi\\lib\\site-packages\\sklearn\\base.py:457: UserWarning:\n",
      "\n",
      "X has feature names, but DecisionTreeClassifier was fitted without feature names\n",
      "\n",
      "d:\\AppRelated\\Anaconda\\envs\\mi\\lib\\site-packages\\sklearn\\base.py:457: UserWarning:\n",
      "\n",
      "X has feature names, but DecisionTreeClassifier was fitted without feature names\n",
      "\n",
      "d:\\AppRelated\\Anaconda\\envs\\mi\\lib\\site-packages\\sklearn\\base.py:457: UserWarning:\n",
      "\n",
      "X has feature names, but DecisionTreeClassifier was fitted without feature names\n",
      "\n",
      "d:\\AppRelated\\Anaconda\\envs\\mi\\lib\\site-packages\\sklearn\\base.py:457: UserWarning:\n",
      "\n",
      "X has feature names, but DecisionTreeClassifier was fitted without feature names\n",
      "\n",
      "d:\\AppRelated\\Anaconda\\envs\\mi\\lib\\site-packages\\sklearn\\base.py:457: UserWarning:\n",
      "\n",
      "X has feature names, but DecisionTreeClassifier was fitted without feature names\n",
      "\n",
      "d:\\AppRelated\\Anaconda\\envs\\mi\\lib\\site-packages\\sklearn\\base.py:457: UserWarning:\n",
      "\n",
      "X has feature names, but DecisionTreeClassifier was fitted without feature names\n",
      "\n",
      "d:\\AppRelated\\Anaconda\\envs\\mi\\lib\\site-packages\\sklearn\\base.py:457: UserWarning:\n",
      "\n",
      "X has feature names, but DecisionTreeClassifier was fitted without feature names\n",
      "\n",
      "d:\\AppRelated\\Anaconda\\envs\\mi\\lib\\site-packages\\sklearn\\base.py:457: UserWarning:\n",
      "\n",
      "X has feature names, but DecisionTreeClassifier was fitted without feature names\n",
      "\n",
      "d:\\AppRelated\\Anaconda\\envs\\mi\\lib\\site-packages\\sklearn\\base.py:457: UserWarning:\n",
      "\n",
      "X has feature names, but DecisionTreeClassifier was fitted without feature names\n",
      "\n",
      "d:\\AppRelated\\Anaconda\\envs\\mi\\lib\\site-packages\\sklearn\\base.py:457: UserWarning:\n",
      "\n",
      "X has feature names, but DecisionTreeClassifier was fitted without feature names\n",
      "\n",
      "d:\\AppRelated\\Anaconda\\envs\\mi\\lib\\site-packages\\sklearn\\base.py:457: UserWarning:\n",
      "\n",
      "X has feature names, but DecisionTreeClassifier was fitted without feature names\n",
      "\n",
      "d:\\AppRelated\\Anaconda\\envs\\mi\\lib\\site-packages\\sklearn\\base.py:457: UserWarning:\n",
      "\n",
      "X has feature names, but DecisionTreeClassifier was fitted without feature names\n",
      "\n",
      "d:\\AppRelated\\Anaconda\\envs\\mi\\lib\\site-packages\\sklearn\\base.py:457: UserWarning:\n",
      "\n",
      "X has feature names, but DecisionTreeClassifier was fitted without feature names\n",
      "\n",
      "d:\\AppRelated\\Anaconda\\envs\\mi\\lib\\site-packages\\sklearn\\base.py:457: UserWarning:\n",
      "\n",
      "X has feature names, but DecisionTreeClassifier was fitted without feature names\n",
      "\n",
      "d:\\AppRelated\\Anaconda\\envs\\mi\\lib\\site-packages\\sklearn\\base.py:457: UserWarning:\n",
      "\n",
      "X has feature names, but DecisionTreeClassifier was fitted without feature names\n",
      "\n",
      "d:\\AppRelated\\Anaconda\\envs\\mi\\lib\\site-packages\\sklearn\\base.py:457: UserWarning:\n",
      "\n",
      "X has feature names, but DecisionTreeClassifier was fitted without feature names\n",
      "\n",
      "d:\\AppRelated\\Anaconda\\envs\\mi\\lib\\site-packages\\sklearn\\base.py:457: UserWarning:\n",
      "\n",
      "X has feature names, but DecisionTreeClassifier was fitted without feature names\n",
      "\n",
      "d:\\AppRelated\\Anaconda\\envs\\mi\\lib\\site-packages\\sklearn\\base.py:457: UserWarning:\n",
      "\n",
      "X has feature names, but DecisionTreeClassifier was fitted without feature names\n",
      "\n",
      "d:\\AppRelated\\Anaconda\\envs\\mi\\lib\\site-packages\\sklearn\\base.py:457: UserWarning:\n",
      "\n",
      "X has feature names, but DecisionTreeClassifier was fitted without feature names\n",
      "\n",
      "d:\\AppRelated\\Anaconda\\envs\\mi\\lib\\site-packages\\sklearn\\base.py:457: UserWarning:\n",
      "\n",
      "X has feature names, but DecisionTreeClassifier was fitted without feature names\n",
      "\n",
      "d:\\AppRelated\\Anaconda\\envs\\mi\\lib\\site-packages\\sklearn\\base.py:457: UserWarning:\n",
      "\n",
      "X has feature names, but DecisionTreeClassifier was fitted without feature names\n",
      "\n",
      "d:\\AppRelated\\Anaconda\\envs\\mi\\lib\\site-packages\\sklearn\\base.py:457: UserWarning:\n",
      "\n",
      "X has feature names, but DecisionTreeClassifier was fitted without feature names\n",
      "\n",
      "d:\\AppRelated\\Anaconda\\envs\\mi\\lib\\site-packages\\sklearn\\base.py:457: UserWarning:\n",
      "\n",
      "X has feature names, but DecisionTreeClassifier was fitted without feature names\n",
      "\n",
      "d:\\AppRelated\\Anaconda\\envs\\mi\\lib\\site-packages\\sklearn\\base.py:457: UserWarning:\n",
      "\n",
      "X has feature names, but DecisionTreeClassifier was fitted without feature names\n",
      "\n",
      "d:\\AppRelated\\Anaconda\\envs\\mi\\lib\\site-packages\\sklearn\\base.py:457: UserWarning:\n",
      "\n",
      "X has feature names, but DecisionTreeClassifier was fitted without feature names\n",
      "\n",
      "d:\\AppRelated\\Anaconda\\envs\\mi\\lib\\site-packages\\sklearn\\base.py:457: UserWarning:\n",
      "\n",
      "X has feature names, but DecisionTreeClassifier was fitted without feature names\n",
      "\n",
      "d:\\AppRelated\\Anaconda\\envs\\mi\\lib\\site-packages\\sklearn\\base.py:457: UserWarning:\n",
      "\n",
      "X has feature names, but DecisionTreeClassifier was fitted without feature names\n",
      "\n",
      "d:\\AppRelated\\Anaconda\\envs\\mi\\lib\\site-packages\\sklearn\\base.py:457: UserWarning:\n",
      "\n",
      "X has feature names, but DecisionTreeClassifier was fitted without feature names\n",
      "\n",
      "d:\\AppRelated\\Anaconda\\envs\\mi\\lib\\site-packages\\sklearn\\base.py:457: UserWarning:\n",
      "\n",
      "X has feature names, but DecisionTreeClassifier was fitted without feature names\n",
      "\n",
      "d:\\AppRelated\\Anaconda\\envs\\mi\\lib\\site-packages\\sklearn\\base.py:457: UserWarning:\n",
      "\n",
      "X has feature names, but DecisionTreeClassifier was fitted without feature names\n",
      "\n",
      "d:\\AppRelated\\Anaconda\\envs\\mi\\lib\\site-packages\\sklearn\\base.py:457: UserWarning:\n",
      "\n",
      "X has feature names, but DecisionTreeClassifier was fitted without feature names\n",
      "\n",
      "d:\\AppRelated\\Anaconda\\envs\\mi\\lib\\site-packages\\sklearn\\base.py:457: UserWarning:\n",
      "\n",
      "X has feature names, but DecisionTreeClassifier was fitted without feature names\n",
      "\n",
      "d:\\AppRelated\\Anaconda\\envs\\mi\\lib\\site-packages\\sklearn\\base.py:457: UserWarning:\n",
      "\n",
      "X has feature names, but DecisionTreeClassifier was fitted without feature names\n",
      "\n",
      "d:\\AppRelated\\Anaconda\\envs\\mi\\lib\\site-packages\\sklearn\\base.py:457: UserWarning:\n",
      "\n",
      "X has feature names, but DecisionTreeClassifier was fitted without feature names\n",
      "\n",
      "d:\\AppRelated\\Anaconda\\envs\\mi\\lib\\site-packages\\sklearn\\base.py:457: UserWarning:\n",
      "\n",
      "X has feature names, but DecisionTreeClassifier was fitted without feature names\n",
      "\n",
      "d:\\AppRelated\\Anaconda\\envs\\mi\\lib\\site-packages\\sklearn\\base.py:457: UserWarning:\n",
      "\n",
      "X has feature names, but DecisionTreeClassifier was fitted without feature names\n",
      "\n",
      "d:\\AppRelated\\Anaconda\\envs\\mi\\lib\\site-packages\\sklearn\\base.py:457: UserWarning:\n",
      "\n",
      "X has feature names, but DecisionTreeClassifier was fitted without feature names\n",
      "\n",
      "d:\\AppRelated\\Anaconda\\envs\\mi\\lib\\site-packages\\sklearn\\base.py:457: UserWarning:\n",
      "\n",
      "X has feature names, but DecisionTreeClassifier was fitted without feature names\n",
      "\n",
      "d:\\AppRelated\\Anaconda\\envs\\mi\\lib\\site-packages\\sklearn\\base.py:457: UserWarning:\n",
      "\n",
      "X has feature names, but DecisionTreeClassifier was fitted without feature names\n",
      "\n",
      "d:\\AppRelated\\Anaconda\\envs\\mi\\lib\\site-packages\\sklearn\\base.py:457: UserWarning:\n",
      "\n",
      "X has feature names, but DecisionTreeClassifier was fitted without feature names\n",
      "\n",
      "d:\\AppRelated\\Anaconda\\envs\\mi\\lib\\site-packages\\sklearn\\base.py:457: UserWarning:\n",
      "\n",
      "X has feature names, but DecisionTreeClassifier was fitted without feature names\n",
      "\n",
      "d:\\AppRelated\\Anaconda\\envs\\mi\\lib\\site-packages\\sklearn\\base.py:457: UserWarning:\n",
      "\n",
      "X has feature names, but DecisionTreeClassifier was fitted without feature names\n",
      "\n",
      "d:\\AppRelated\\Anaconda\\envs\\mi\\lib\\site-packages\\sklearn\\base.py:457: UserWarning:\n",
      "\n",
      "X has feature names, but DecisionTreeClassifier was fitted without feature names\n",
      "\n",
      "d:\\AppRelated\\Anaconda\\envs\\mi\\lib\\site-packages\\sklearn\\base.py:457: UserWarning:\n",
      "\n",
      "X has feature names, but DecisionTreeClassifier was fitted without feature names\n",
      "\n",
      "d:\\AppRelated\\Anaconda\\envs\\mi\\lib\\site-packages\\sklearn\\base.py:457: UserWarning:\n",
      "\n",
      "X has feature names, but DecisionTreeClassifier was fitted without feature names\n",
      "\n",
      "d:\\AppRelated\\Anaconda\\envs\\mi\\lib\\site-packages\\sklearn\\base.py:457: UserWarning:\n",
      "\n",
      "X has feature names, but DecisionTreeClassifier was fitted without feature names\n",
      "\n",
      "d:\\AppRelated\\Anaconda\\envs\\mi\\lib\\site-packages\\sklearn\\base.py:457: UserWarning:\n",
      "\n",
      "X has feature names, but DecisionTreeClassifier was fitted without feature names\n",
      "\n",
      "d:\\AppRelated\\Anaconda\\envs\\mi\\lib\\site-packages\\sklearn\\base.py:457: UserWarning:\n",
      "\n",
      "X has feature names, but DecisionTreeClassifier was fitted without feature names\n",
      "\n",
      "d:\\AppRelated\\Anaconda\\envs\\mi\\lib\\site-packages\\sklearn\\base.py:457: UserWarning:\n",
      "\n",
      "X has feature names, but DecisionTreeClassifier was fitted without feature names\n",
      "\n",
      "d:\\AppRelated\\Anaconda\\envs\\mi\\lib\\site-packages\\sklearn\\base.py:457: UserWarning:\n",
      "\n",
      "X has feature names, but DecisionTreeClassifier was fitted without feature names\n",
      "\n",
      "d:\\AppRelated\\Anaconda\\envs\\mi\\lib\\site-packages\\sklearn\\base.py:457: UserWarning:\n",
      "\n",
      "X has feature names, but DecisionTreeClassifier was fitted without feature names\n",
      "\n",
      "d:\\AppRelated\\Anaconda\\envs\\mi\\lib\\site-packages\\sklearn\\base.py:457: UserWarning:\n",
      "\n",
      "X has feature names, but DecisionTreeClassifier was fitted without feature names\n",
      "\n",
      "d:\\AppRelated\\Anaconda\\envs\\mi\\lib\\site-packages\\sklearn\\base.py:457: UserWarning:\n",
      "\n",
      "X has feature names, but DecisionTreeClassifier was fitted without feature names\n",
      "\n",
      "d:\\AppRelated\\Anaconda\\envs\\mi\\lib\\site-packages\\sklearn\\base.py:457: UserWarning:\n",
      "\n",
      "X has feature names, but DecisionTreeClassifier was fitted without feature names\n",
      "\n",
      "d:\\AppRelated\\Anaconda\\envs\\mi\\lib\\site-packages\\sklearn\\base.py:457: UserWarning:\n",
      "\n",
      "X has feature names, but DecisionTreeClassifier was fitted without feature names\n",
      "\n",
      "d:\\AppRelated\\Anaconda\\envs\\mi\\lib\\site-packages\\sklearn\\base.py:457: UserWarning:\n",
      "\n",
      "X has feature names, but DecisionTreeClassifier was fitted without feature names\n",
      "\n",
      "d:\\AppRelated\\Anaconda\\envs\\mi\\lib\\site-packages\\sklearn\\base.py:457: UserWarning:\n",
      "\n",
      "X has feature names, but DecisionTreeClassifier was fitted without feature names\n",
      "\n",
      "d:\\AppRelated\\Anaconda\\envs\\mi\\lib\\site-packages\\sklearn\\base.py:457: UserWarning:\n",
      "\n",
      "X has feature names, but DecisionTreeClassifier was fitted without feature names\n",
      "\n",
      "d:\\AppRelated\\Anaconda\\envs\\mi\\lib\\site-packages\\sklearn\\base.py:457: UserWarning:\n",
      "\n",
      "X has feature names, but DecisionTreeClassifier was fitted without feature names\n",
      "\n",
      "d:\\AppRelated\\Anaconda\\envs\\mi\\lib\\site-packages\\sklearn\\base.py:457: UserWarning:\n",
      "\n",
      "X has feature names, but DecisionTreeClassifier was fitted without feature names\n",
      "\n",
      "d:\\AppRelated\\Anaconda\\envs\\mi\\lib\\site-packages\\sklearn\\base.py:457: UserWarning:\n",
      "\n",
      "X has feature names, but DecisionTreeClassifier was fitted without feature names\n",
      "\n",
      "d:\\AppRelated\\Anaconda\\envs\\mi\\lib\\site-packages\\sklearn\\base.py:457: UserWarning:\n",
      "\n",
      "X has feature names, but DecisionTreeClassifier was fitted without feature names\n",
      "\n",
      "d:\\AppRelated\\Anaconda\\envs\\mi\\lib\\site-packages\\sklearn\\base.py:457: UserWarning:\n",
      "\n",
      "X has feature names, but DecisionTreeClassifier was fitted without feature names\n",
      "\n",
      "d:\\AppRelated\\Anaconda\\envs\\mi\\lib\\site-packages\\sklearn\\base.py:457: UserWarning:\n",
      "\n",
      "X has feature names, but DecisionTreeClassifier was fitted without feature names\n",
      "\n",
      "d:\\AppRelated\\Anaconda\\envs\\mi\\lib\\site-packages\\sklearn\\base.py:457: UserWarning:\n",
      "\n",
      "X has feature names, but DecisionTreeClassifier was fitted without feature names\n",
      "\n",
      "d:\\AppRelated\\Anaconda\\envs\\mi\\lib\\site-packages\\sklearn\\base.py:457: UserWarning:\n",
      "\n",
      "X has feature names, but DecisionTreeClassifier was fitted without feature names\n",
      "\n",
      "d:\\AppRelated\\Anaconda\\envs\\mi\\lib\\site-packages\\sklearn\\base.py:457: UserWarning:\n",
      "\n",
      "X has feature names, but DecisionTreeClassifier was fitted without feature names\n",
      "\n",
      "d:\\AppRelated\\Anaconda\\envs\\mi\\lib\\site-packages\\sklearn\\base.py:457: UserWarning:\n",
      "\n",
      "X has feature names, but DecisionTreeClassifier was fitted without feature names\n",
      "\n",
      "d:\\AppRelated\\Anaconda\\envs\\mi\\lib\\site-packages\\sklearn\\base.py:457: UserWarning:\n",
      "\n",
      "X has feature names, but DecisionTreeClassifier was fitted without feature names\n",
      "\n",
      "d:\\AppRelated\\Anaconda\\envs\\mi\\lib\\site-packages\\sklearn\\base.py:457: UserWarning:\n",
      "\n",
      "X has feature names, but DecisionTreeClassifier was fitted without feature names\n",
      "\n",
      "d:\\AppRelated\\Anaconda\\envs\\mi\\lib\\site-packages\\sklearn\\base.py:457: UserWarning:\n",
      "\n",
      "X has feature names, but DecisionTreeClassifier was fitted without feature names\n",
      "\n",
      "d:\\AppRelated\\Anaconda\\envs\\mi\\lib\\site-packages\\sklearn\\base.py:457: UserWarning:\n",
      "\n",
      "X has feature names, but DecisionTreeClassifier was fitted without feature names\n",
      "\n",
      "d:\\AppRelated\\Anaconda\\envs\\mi\\lib\\site-packages\\sklearn\\base.py:457: UserWarning:\n",
      "\n",
      "X has feature names, but DecisionTreeClassifier was fitted without feature names\n",
      "\n",
      "d:\\AppRelated\\Anaconda\\envs\\mi\\lib\\site-packages\\sklearn\\base.py:457: UserWarning:\n",
      "\n",
      "X has feature names, but DecisionTreeClassifier was fitted without feature names\n",
      "\n",
      "d:\\AppRelated\\Anaconda\\envs\\mi\\lib\\site-packages\\sklearn\\base.py:457: UserWarning:\n",
      "\n",
      "X has feature names, but DecisionTreeClassifier was fitted without feature names\n",
      "\n",
      "d:\\AppRelated\\Anaconda\\envs\\mi\\lib\\site-packages\\sklearn\\base.py:457: UserWarning:\n",
      "\n",
      "X has feature names, but DecisionTreeClassifier was fitted without feature names\n",
      "\n",
      "d:\\AppRelated\\Anaconda\\envs\\mi\\lib\\site-packages\\sklearn\\base.py:457: UserWarning:\n",
      "\n",
      "X has feature names, but DecisionTreeClassifier was fitted without feature names\n",
      "\n",
      "d:\\AppRelated\\Anaconda\\envs\\mi\\lib\\site-packages\\sklearn\\base.py:457: UserWarning:\n",
      "\n",
      "X has feature names, but DecisionTreeClassifier was fitted without feature names\n",
      "\n",
      "d:\\AppRelated\\Anaconda\\envs\\mi\\lib\\site-packages\\sklearn\\base.py:457: UserWarning:\n",
      "\n",
      "X has feature names, but DecisionTreeClassifier was fitted without feature names\n",
      "\n",
      "d:\\AppRelated\\Anaconda\\envs\\mi\\lib\\site-packages\\sklearn\\base.py:457: UserWarning:\n",
      "\n",
      "X has feature names, but DecisionTreeClassifier was fitted without feature names\n",
      "\n",
      "d:\\AppRelated\\Anaconda\\envs\\mi\\lib\\site-packages\\sklearn\\base.py:457: UserWarning:\n",
      "\n",
      "X has feature names, but DecisionTreeClassifier was fitted without feature names\n",
      "\n",
      "d:\\AppRelated\\Anaconda\\envs\\mi\\lib\\site-packages\\sklearn\\base.py:457: UserWarning:\n",
      "\n",
      "X has feature names, but DecisionTreeClassifier was fitted without feature names\n",
      "\n",
      "d:\\AppRelated\\Anaconda\\envs\\mi\\lib\\site-packages\\sklearn\\base.py:457: UserWarning:\n",
      "\n",
      "X has feature names, but DecisionTreeClassifier was fitted without feature names\n",
      "\n",
      "d:\\AppRelated\\Anaconda\\envs\\mi\\lib\\site-packages\\sklearn\\base.py:457: UserWarning:\n",
      "\n",
      "X has feature names, but DecisionTreeClassifier was fitted without feature names\n",
      "\n",
      "d:\\AppRelated\\Anaconda\\envs\\mi\\lib\\site-packages\\sklearn\\base.py:457: UserWarning:\n",
      "\n",
      "X has feature names, but DecisionTreeClassifier was fitted without feature names\n",
      "\n",
      "d:\\AppRelated\\Anaconda\\envs\\mi\\lib\\site-packages\\sklearn\\base.py:457: UserWarning:\n",
      "\n",
      "X has feature names, but DecisionTreeClassifier was fitted without feature names\n",
      "\n",
      "d:\\AppRelated\\Anaconda\\envs\\mi\\lib\\site-packages\\sklearn\\base.py:457: UserWarning:\n",
      "\n",
      "X has feature names, but DecisionTreeClassifier was fitted without feature names\n",
      "\n",
      "d:\\AppRelated\\Anaconda\\envs\\mi\\lib\\site-packages\\sklearn\\base.py:457: UserWarning:\n",
      "\n",
      "X has feature names, but DecisionTreeClassifier was fitted without feature names\n",
      "\n",
      "d:\\AppRelated\\Anaconda\\envs\\mi\\lib\\site-packages\\sklearn\\base.py:457: UserWarning:\n",
      "\n",
      "X has feature names, but DecisionTreeClassifier was fitted without feature names\n",
      "\n",
      "d:\\AppRelated\\Anaconda\\envs\\mi\\lib\\site-packages\\sklearn\\base.py:457: UserWarning:\n",
      "\n",
      "X has feature names, but DecisionTreeClassifier was fitted without feature names\n",
      "\n",
      "d:\\AppRelated\\Anaconda\\envs\\mi\\lib\\site-packages\\sklearn\\base.py:457: UserWarning:\n",
      "\n",
      "X has feature names, but DecisionTreeClassifier was fitted without feature names\n",
      "\n",
      "d:\\AppRelated\\Anaconda\\envs\\mi\\lib\\site-packages\\sklearn\\base.py:457: UserWarning:\n",
      "\n",
      "X has feature names, but DecisionTreeClassifier was fitted without feature names\n",
      "\n",
      "d:\\AppRelated\\Anaconda\\envs\\mi\\lib\\site-packages\\sklearn\\base.py:457: UserWarning:\n",
      "\n",
      "X has feature names, but DecisionTreeClassifier was fitted without feature names\n",
      "\n",
      "d:\\AppRelated\\Anaconda\\envs\\mi\\lib\\site-packages\\sklearn\\base.py:457: UserWarning:\n",
      "\n",
      "X has feature names, but DecisionTreeClassifier was fitted without feature names\n",
      "\n",
      "d:\\AppRelated\\Anaconda\\envs\\mi\\lib\\site-packages\\sklearn\\base.py:457: UserWarning:\n",
      "\n",
      "X has feature names, but DecisionTreeClassifier was fitted without feature names\n",
      "\n",
      "d:\\AppRelated\\Anaconda\\envs\\mi\\lib\\site-packages\\sklearn\\base.py:457: UserWarning:\n",
      "\n",
      "X has feature names, but DecisionTreeClassifier was fitted without feature names\n",
      "\n",
      "d:\\AppRelated\\Anaconda\\envs\\mi\\lib\\site-packages\\sklearn\\base.py:457: UserWarning:\n",
      "\n",
      "X has feature names, but DecisionTreeClassifier was fitted without feature names\n",
      "\n",
      "d:\\AppRelated\\Anaconda\\envs\\mi\\lib\\site-packages\\sklearn\\base.py:457: UserWarning:\n",
      "\n",
      "X has feature names, but DecisionTreeClassifier was fitted without feature names\n",
      "\n",
      "d:\\AppRelated\\Anaconda\\envs\\mi\\lib\\site-packages\\sklearn\\base.py:457: UserWarning:\n",
      "\n",
      "X has feature names, but DecisionTreeClassifier was fitted without feature names\n",
      "\n",
      "d:\\AppRelated\\Anaconda\\envs\\mi\\lib\\site-packages\\sklearn\\base.py:457: UserWarning:\n",
      "\n",
      "X has feature names, but DecisionTreeClassifier was fitted without feature names\n",
      "\n",
      "d:\\AppRelated\\Anaconda\\envs\\mi\\lib\\site-packages\\sklearn\\base.py:457: UserWarning:\n",
      "\n",
      "X has feature names, but DecisionTreeClassifier was fitted without feature names\n",
      "\n",
      "d:\\AppRelated\\Anaconda\\envs\\mi\\lib\\site-packages\\sklearn\\base.py:457: UserWarning:\n",
      "\n",
      "X has feature names, but DecisionTreeClassifier was fitted without feature names\n",
      "\n",
      "d:\\AppRelated\\Anaconda\\envs\\mi\\lib\\site-packages\\sklearn\\base.py:457: UserWarning:\n",
      "\n",
      "X has feature names, but DecisionTreeClassifier was fitted without feature names\n",
      "\n",
      "d:\\AppRelated\\Anaconda\\envs\\mi\\lib\\site-packages\\sklearn\\base.py:457: UserWarning:\n",
      "\n",
      "X has feature names, but DecisionTreeClassifier was fitted without feature names\n",
      "\n",
      "d:\\AppRelated\\Anaconda\\envs\\mi\\lib\\site-packages\\sklearn\\base.py:457: UserWarning:\n",
      "\n",
      "X has feature names, but DecisionTreeClassifier was fitted without feature names\n",
      "\n",
      "d:\\AppRelated\\Anaconda\\envs\\mi\\lib\\site-packages\\sklearn\\base.py:457: UserWarning:\n",
      "\n",
      "X has feature names, but DecisionTreeClassifier was fitted without feature names\n",
      "\n",
      "d:\\AppRelated\\Anaconda\\envs\\mi\\lib\\site-packages\\sklearn\\base.py:457: UserWarning:\n",
      "\n",
      "X has feature names, but DecisionTreeClassifier was fitted without feature names\n",
      "\n",
      "d:\\AppRelated\\Anaconda\\envs\\mi\\lib\\site-packages\\sklearn\\base.py:457: UserWarning:\n",
      "\n",
      "X has feature names, but DecisionTreeClassifier was fitted without feature names\n",
      "\n",
      "d:\\AppRelated\\Anaconda\\envs\\mi\\lib\\site-packages\\sklearn\\base.py:457: UserWarning:\n",
      "\n",
      "X has feature names, but DecisionTreeClassifier was fitted without feature names\n",
      "\n",
      "d:\\AppRelated\\Anaconda\\envs\\mi\\lib\\site-packages\\sklearn\\base.py:457: UserWarning:\n",
      "\n",
      "X has feature names, but DecisionTreeClassifier was fitted without feature names\n",
      "\n",
      "d:\\AppRelated\\Anaconda\\envs\\mi\\lib\\site-packages\\sklearn\\base.py:457: UserWarning:\n",
      "\n",
      "X has feature names, but DecisionTreeClassifier was fitted without feature names\n",
      "\n",
      "d:\\AppRelated\\Anaconda\\envs\\mi\\lib\\site-packages\\sklearn\\base.py:457: UserWarning:\n",
      "\n",
      "X has feature names, but DecisionTreeClassifier was fitted without feature names\n",
      "\n",
      "d:\\AppRelated\\Anaconda\\envs\\mi\\lib\\site-packages\\sklearn\\base.py:457: UserWarning:\n",
      "\n",
      "X has feature names, but DecisionTreeClassifier was fitted without feature names\n",
      "\n",
      "d:\\AppRelated\\Anaconda\\envs\\mi\\lib\\site-packages\\sklearn\\base.py:457: UserWarning:\n",
      "\n",
      "X has feature names, but DecisionTreeClassifier was fitted without feature names\n",
      "\n",
      "d:\\AppRelated\\Anaconda\\envs\\mi\\lib\\site-packages\\sklearn\\base.py:457: UserWarning:\n",
      "\n",
      "X has feature names, but DecisionTreeClassifier was fitted without feature names\n",
      "\n",
      "d:\\AppRelated\\Anaconda\\envs\\mi\\lib\\site-packages\\sklearn\\base.py:457: UserWarning:\n",
      "\n",
      "X has feature names, but DecisionTreeClassifier was fitted without feature names\n",
      "\n",
      "d:\\AppRelated\\Anaconda\\envs\\mi\\lib\\site-packages\\sklearn\\base.py:457: UserWarning:\n",
      "\n",
      "X has feature names, but DecisionTreeClassifier was fitted without feature names\n",
      "\n",
      "d:\\AppRelated\\Anaconda\\envs\\mi\\lib\\site-packages\\sklearn\\base.py:457: UserWarning:\n",
      "\n",
      "X has feature names, but DecisionTreeClassifier was fitted without feature names\n",
      "\n",
      "d:\\AppRelated\\Anaconda\\envs\\mi\\lib\\site-packages\\sklearn\\base.py:457: UserWarning:\n",
      "\n",
      "X has feature names, but DecisionTreeClassifier was fitted without feature names\n",
      "\n",
      "d:\\AppRelated\\Anaconda\\envs\\mi\\lib\\site-packages\\sklearn\\base.py:457: UserWarning:\n",
      "\n",
      "X has feature names, but DecisionTreeClassifier was fitted without feature names\n",
      "\n",
      "d:\\AppRelated\\Anaconda\\envs\\mi\\lib\\site-packages\\sklearn\\base.py:457: UserWarning:\n",
      "\n",
      "X has feature names, but DecisionTreeClassifier was fitted without feature names\n",
      "\n",
      "d:\\AppRelated\\Anaconda\\envs\\mi\\lib\\site-packages\\sklearn\\base.py:457: UserWarning:\n",
      "\n",
      "X has feature names, but DecisionTreeClassifier was fitted without feature names\n",
      "\n",
      "d:\\AppRelated\\Anaconda\\envs\\mi\\lib\\site-packages\\sklearn\\base.py:457: UserWarning:\n",
      "\n",
      "X has feature names, but DecisionTreeClassifier was fitted without feature names\n",
      "\n",
      "d:\\AppRelated\\Anaconda\\envs\\mi\\lib\\site-packages\\sklearn\\base.py:457: UserWarning:\n",
      "\n",
      "X has feature names, but DecisionTreeClassifier was fitted without feature names\n",
      "\n",
      "d:\\AppRelated\\Anaconda\\envs\\mi\\lib\\site-packages\\sklearn\\base.py:457: UserWarning:\n",
      "\n",
      "X has feature names, but DecisionTreeClassifier was fitted without feature names\n",
      "\n",
      "d:\\AppRelated\\Anaconda\\envs\\mi\\lib\\site-packages\\sklearn\\base.py:457: UserWarning:\n",
      "\n",
      "X has feature names, but DecisionTreeClassifier was fitted without feature names\n",
      "\n",
      "d:\\AppRelated\\Anaconda\\envs\\mi\\lib\\site-packages\\sklearn\\base.py:457: UserWarning:\n",
      "\n",
      "X has feature names, but DecisionTreeClassifier was fitted without feature names\n",
      "\n",
      "d:\\AppRelated\\Anaconda\\envs\\mi\\lib\\site-packages\\sklearn\\base.py:457: UserWarning:\n",
      "\n",
      "X has feature names, but DecisionTreeClassifier was fitted without feature names\n",
      "\n",
      "d:\\AppRelated\\Anaconda\\envs\\mi\\lib\\site-packages\\sklearn\\base.py:457: UserWarning:\n",
      "\n",
      "X has feature names, but DecisionTreeClassifier was fitted without feature names\n",
      "\n",
      "d:\\AppRelated\\Anaconda\\envs\\mi\\lib\\site-packages\\sklearn\\base.py:457: UserWarning:\n",
      "\n",
      "X has feature names, but DecisionTreeClassifier was fitted without feature names\n",
      "\n",
      "d:\\AppRelated\\Anaconda\\envs\\mi\\lib\\site-packages\\sklearn\\base.py:457: UserWarning:\n",
      "\n",
      "X has feature names, but DecisionTreeClassifier was fitted without feature names\n",
      "\n",
      "d:\\AppRelated\\Anaconda\\envs\\mi\\lib\\site-packages\\sklearn\\base.py:457: UserWarning:\n",
      "\n",
      "X has feature names, but DecisionTreeClassifier was fitted without feature names\n",
      "\n",
      "d:\\AppRelated\\Anaconda\\envs\\mi\\lib\\site-packages\\sklearn\\base.py:457: UserWarning:\n",
      "\n",
      "X has feature names, but DecisionTreeClassifier was fitted without feature names\n",
      "\n",
      "d:\\AppRelated\\Anaconda\\envs\\mi\\lib\\site-packages\\sklearn\\base.py:457: UserWarning:\n",
      "\n",
      "X has feature names, but DecisionTreeClassifier was fitted without feature names\n",
      "\n",
      "d:\\AppRelated\\Anaconda\\envs\\mi\\lib\\site-packages\\sklearn\\base.py:457: UserWarning:\n",
      "\n",
      "X has feature names, but DecisionTreeClassifier was fitted without feature names\n",
      "\n",
      "d:\\AppRelated\\Anaconda\\envs\\mi\\lib\\site-packages\\sklearn\\base.py:457: UserWarning:\n",
      "\n",
      "X has feature names, but DecisionTreeClassifier was fitted without feature names\n",
      "\n",
      "d:\\AppRelated\\Anaconda\\envs\\mi\\lib\\site-packages\\sklearn\\base.py:457: UserWarning:\n",
      "\n",
      "X has feature names, but DecisionTreeClassifier was fitted without feature names\n",
      "\n",
      "d:\\AppRelated\\Anaconda\\envs\\mi\\lib\\site-packages\\sklearn\\base.py:457: UserWarning:\n",
      "\n",
      "X has feature names, but DecisionTreeClassifier was fitted without feature names\n",
      "\n",
      "d:\\AppRelated\\Anaconda\\envs\\mi\\lib\\site-packages\\sklearn\\base.py:457: UserWarning:\n",
      "\n",
      "X has feature names, but DecisionTreeClassifier was fitted without feature names\n",
      "\n",
      "d:\\AppRelated\\Anaconda\\envs\\mi\\lib\\site-packages\\sklearn\\base.py:457: UserWarning:\n",
      "\n",
      "X has feature names, but DecisionTreeClassifier was fitted without feature names\n",
      "\n",
      "d:\\AppRelated\\Anaconda\\envs\\mi\\lib\\site-packages\\sklearn\\base.py:457: UserWarning:\n",
      "\n",
      "X has feature names, but DecisionTreeClassifier was fitted without feature names\n",
      "\n",
      "d:\\AppRelated\\Anaconda\\envs\\mi\\lib\\site-packages\\sklearn\\base.py:457: UserWarning:\n",
      "\n",
      "X has feature names, but DecisionTreeClassifier was fitted without feature names\n",
      "\n",
      "d:\\AppRelated\\Anaconda\\envs\\mi\\lib\\site-packages\\sklearn\\base.py:457: UserWarning:\n",
      "\n",
      "X has feature names, but DecisionTreeClassifier was fitted without feature names\n",
      "\n",
      "d:\\AppRelated\\Anaconda\\envs\\mi\\lib\\site-packages\\sklearn\\base.py:457: UserWarning:\n",
      "\n",
      "X has feature names, but DecisionTreeClassifier was fitted without feature names\n",
      "\n",
      "d:\\AppRelated\\Anaconda\\envs\\mi\\lib\\site-packages\\sklearn\\base.py:457: UserWarning:\n",
      "\n",
      "X has feature names, but DecisionTreeClassifier was fitted without feature names\n",
      "\n",
      "d:\\AppRelated\\Anaconda\\envs\\mi\\lib\\site-packages\\sklearn\\base.py:457: UserWarning:\n",
      "\n",
      "X has feature names, but DecisionTreeClassifier was fitted without feature names\n",
      "\n",
      "d:\\AppRelated\\Anaconda\\envs\\mi\\lib\\site-packages\\sklearn\\base.py:457: UserWarning:\n",
      "\n",
      "X has feature names, but DecisionTreeClassifier was fitted without feature names\n",
      "\n",
      "d:\\AppRelated\\Anaconda\\envs\\mi\\lib\\site-packages\\sklearn\\base.py:457: UserWarning:\n",
      "\n",
      "X has feature names, but DecisionTreeClassifier was fitted without feature names\n",
      "\n",
      "d:\\AppRelated\\Anaconda\\envs\\mi\\lib\\site-packages\\sklearn\\base.py:457: UserWarning:\n",
      "\n",
      "X has feature names, but DecisionTreeClassifier was fitted without feature names\n",
      "\n",
      "d:\\AppRelated\\Anaconda\\envs\\mi\\lib\\site-packages\\sklearn\\base.py:457: UserWarning:\n",
      "\n",
      "X has feature names, but DecisionTreeClassifier was fitted without feature names\n",
      "\n",
      "d:\\AppRelated\\Anaconda\\envs\\mi\\lib\\site-packages\\sklearn\\base.py:457: UserWarning:\n",
      "\n",
      "X has feature names, but DecisionTreeClassifier was fitted without feature names\n",
      "\n",
      "d:\\AppRelated\\Anaconda\\envs\\mi\\lib\\site-packages\\sklearn\\base.py:457: UserWarning:\n",
      "\n",
      "X has feature names, but DecisionTreeClassifier was fitted without feature names\n",
      "\n",
      "d:\\AppRelated\\Anaconda\\envs\\mi\\lib\\site-packages\\sklearn\\base.py:457: UserWarning:\n",
      "\n",
      "X has feature names, but DecisionTreeClassifier was fitted without feature names\n",
      "\n",
      "d:\\AppRelated\\Anaconda\\envs\\mi\\lib\\site-packages\\sklearn\\base.py:457: UserWarning:\n",
      "\n",
      "X has feature names, but DecisionTreeClassifier was fitted without feature names\n",
      "\n",
      "d:\\AppRelated\\Anaconda\\envs\\mi\\lib\\site-packages\\sklearn\\base.py:457: UserWarning:\n",
      "\n",
      "X has feature names, but DecisionTreeClassifier was fitted without feature names\n",
      "\n",
      "d:\\AppRelated\\Anaconda\\envs\\mi\\lib\\site-packages\\sklearn\\base.py:457: UserWarning:\n",
      "\n",
      "X has feature names, but DecisionTreeClassifier was fitted without feature names\n",
      "\n",
      "d:\\AppRelated\\Anaconda\\envs\\mi\\lib\\site-packages\\sklearn\\base.py:457: UserWarning:\n",
      "\n",
      "X has feature names, but DecisionTreeClassifier was fitted without feature names\n",
      "\n",
      "d:\\AppRelated\\Anaconda\\envs\\mi\\lib\\site-packages\\sklearn\\base.py:457: UserWarning:\n",
      "\n",
      "X has feature names, but DecisionTreeClassifier was fitted without feature names\n",
      "\n",
      "d:\\AppRelated\\Anaconda\\envs\\mi\\lib\\site-packages\\sklearn\\base.py:457: UserWarning:\n",
      "\n",
      "X has feature names, but DecisionTreeClassifier was fitted without feature names\n",
      "\n",
      "d:\\AppRelated\\Anaconda\\envs\\mi\\lib\\site-packages\\sklearn\\base.py:457: UserWarning:\n",
      "\n",
      "X has feature names, but DecisionTreeClassifier was fitted without feature names\n",
      "\n",
      "d:\\AppRelated\\Anaconda\\envs\\mi\\lib\\site-packages\\sklearn\\base.py:457: UserWarning:\n",
      "\n",
      "X has feature names, but DecisionTreeClassifier was fitted without feature names\n",
      "\n",
      "d:\\AppRelated\\Anaconda\\envs\\mi\\lib\\site-packages\\sklearn\\base.py:457: UserWarning:\n",
      "\n",
      "X has feature names, but DecisionTreeClassifier was fitted without feature names\n",
      "\n",
      "d:\\AppRelated\\Anaconda\\envs\\mi\\lib\\site-packages\\sklearn\\base.py:457: UserWarning:\n",
      "\n",
      "X has feature names, but DecisionTreeClassifier was fitted without feature names\n",
      "\n",
      "d:\\AppRelated\\Anaconda\\envs\\mi\\lib\\site-packages\\sklearn\\base.py:457: UserWarning:\n",
      "\n",
      "X has feature names, but DecisionTreeClassifier was fitted without feature names\n",
      "\n",
      "d:\\AppRelated\\Anaconda\\envs\\mi\\lib\\site-packages\\sklearn\\base.py:457: UserWarning:\n",
      "\n",
      "X has feature names, but DecisionTreeClassifier was fitted without feature names\n",
      "\n",
      "d:\\AppRelated\\Anaconda\\envs\\mi\\lib\\site-packages\\sklearn\\base.py:457: UserWarning:\n",
      "\n",
      "X has feature names, but DecisionTreeClassifier was fitted without feature names\n",
      "\n",
      "d:\\AppRelated\\Anaconda\\envs\\mi\\lib\\site-packages\\sklearn\\base.py:457: UserWarning:\n",
      "\n",
      "X has feature names, but DecisionTreeClassifier was fitted without feature names\n",
      "\n"
     ]
    },
    {
     "name": "stdout",
     "output_type": "stream",
     "text": [
      "Final Testing Accuracy: 54.1044776119403\n"
     ]
    },
    {
     "name": "stderr",
     "output_type": "stream",
     "text": [
      "d:\\AppRelated\\Anaconda\\envs\\mi\\lib\\site-packages\\sklearn\\base.py:457: UserWarning:\n",
      "\n",
      "X has feature names, but DecisionTreeClassifier was fitted without feature names\n",
      "\n",
      "d:\\AppRelated\\Anaconda\\envs\\mi\\lib\\site-packages\\sklearn\\base.py:457: UserWarning:\n",
      "\n",
      "X has feature names, but DecisionTreeClassifier was fitted without feature names\n",
      "\n",
      "d:\\AppRelated\\Anaconda\\envs\\mi\\lib\\site-packages\\sklearn\\base.py:457: UserWarning:\n",
      "\n",
      "X has feature names, but DecisionTreeClassifier was fitted without feature names\n",
      "\n",
      "d:\\AppRelated\\Anaconda\\envs\\mi\\lib\\site-packages\\sklearn\\base.py:457: UserWarning:\n",
      "\n",
      "X has feature names, but DecisionTreeClassifier was fitted without feature names\n",
      "\n",
      "d:\\AppRelated\\Anaconda\\envs\\mi\\lib\\site-packages\\sklearn\\base.py:457: UserWarning:\n",
      "\n",
      "X has feature names, but DecisionTreeClassifier was fitted without feature names\n",
      "\n",
      "d:\\AppRelated\\Anaconda\\envs\\mi\\lib\\site-packages\\sklearn\\base.py:457: UserWarning:\n",
      "\n",
      "X has feature names, but DecisionTreeClassifier was fitted without feature names\n",
      "\n",
      "d:\\AppRelated\\Anaconda\\envs\\mi\\lib\\site-packages\\sklearn\\base.py:457: UserWarning:\n",
      "\n",
      "X has feature names, but DecisionTreeClassifier was fitted without feature names\n",
      "\n",
      "d:\\AppRelated\\Anaconda\\envs\\mi\\lib\\site-packages\\sklearn\\base.py:457: UserWarning:\n",
      "\n",
      "X has feature names, but DecisionTreeClassifier was fitted without feature names\n",
      "\n",
      "d:\\AppRelated\\Anaconda\\envs\\mi\\lib\\site-packages\\sklearn\\base.py:457: UserWarning:\n",
      "\n",
      "X has feature names, but DecisionTreeClassifier was fitted without feature names\n",
      "\n",
      "d:\\AppRelated\\Anaconda\\envs\\mi\\lib\\site-packages\\sklearn\\base.py:457: UserWarning:\n",
      "\n",
      "X has feature names, but DecisionTreeClassifier was fitted without feature names\n",
      "\n",
      "d:\\AppRelated\\Anaconda\\envs\\mi\\lib\\site-packages\\sklearn\\base.py:457: UserWarning:\n",
      "\n",
      "X has feature names, but DecisionTreeClassifier was fitted without feature names\n",
      "\n",
      "d:\\AppRelated\\Anaconda\\envs\\mi\\lib\\site-packages\\sklearn\\base.py:457: UserWarning:\n",
      "\n",
      "X has feature names, but DecisionTreeClassifier was fitted without feature names\n",
      "\n",
      "d:\\AppRelated\\Anaconda\\envs\\mi\\lib\\site-packages\\sklearn\\base.py:457: UserWarning:\n",
      "\n",
      "X has feature names, but DecisionTreeClassifier was fitted without feature names\n",
      "\n",
      "d:\\AppRelated\\Anaconda\\envs\\mi\\lib\\site-packages\\sklearn\\base.py:457: UserWarning:\n",
      "\n",
      "X has feature names, but DecisionTreeClassifier was fitted without feature names\n",
      "\n",
      "d:\\AppRelated\\Anaconda\\envs\\mi\\lib\\site-packages\\sklearn\\base.py:457: UserWarning:\n",
      "\n",
      "X has feature names, but DecisionTreeClassifier was fitted without feature names\n",
      "\n",
      "d:\\AppRelated\\Anaconda\\envs\\mi\\lib\\site-packages\\sklearn\\base.py:457: UserWarning:\n",
      "\n",
      "X has feature names, but DecisionTreeClassifier was fitted without feature names\n",
      "\n",
      "d:\\AppRelated\\Anaconda\\envs\\mi\\lib\\site-packages\\sklearn\\base.py:457: UserWarning:\n",
      "\n",
      "X has feature names, but DecisionTreeClassifier was fitted without feature names\n",
      "\n",
      "d:\\AppRelated\\Anaconda\\envs\\mi\\lib\\site-packages\\sklearn\\base.py:457: UserWarning:\n",
      "\n",
      "X has feature names, but DecisionTreeClassifier was fitted without feature names\n",
      "\n",
      "d:\\AppRelated\\Anaconda\\envs\\mi\\lib\\site-packages\\sklearn\\base.py:457: UserWarning:\n",
      "\n",
      "X has feature names, but DecisionTreeClassifier was fitted without feature names\n",
      "\n",
      "d:\\AppRelated\\Anaconda\\envs\\mi\\lib\\site-packages\\sklearn\\base.py:457: UserWarning:\n",
      "\n",
      "X has feature names, but DecisionTreeClassifier was fitted without feature names\n",
      "\n",
      "d:\\AppRelated\\Anaconda\\envs\\mi\\lib\\site-packages\\sklearn\\base.py:457: UserWarning:\n",
      "\n",
      "X has feature names, but DecisionTreeClassifier was fitted without feature names\n",
      "\n",
      "d:\\AppRelated\\Anaconda\\envs\\mi\\lib\\site-packages\\sklearn\\base.py:457: UserWarning:\n",
      "\n",
      "X has feature names, but DecisionTreeClassifier was fitted without feature names\n",
      "\n",
      "d:\\AppRelated\\Anaconda\\envs\\mi\\lib\\site-packages\\sklearn\\base.py:457: UserWarning:\n",
      "\n",
      "X has feature names, but DecisionTreeClassifier was fitted without feature names\n",
      "\n",
      "d:\\AppRelated\\Anaconda\\envs\\mi\\lib\\site-packages\\sklearn\\base.py:457: UserWarning:\n",
      "\n",
      "X has feature names, but DecisionTreeClassifier was fitted without feature names\n",
      "\n",
      "d:\\AppRelated\\Anaconda\\envs\\mi\\lib\\site-packages\\sklearn\\base.py:457: UserWarning:\n",
      "\n",
      "X has feature names, but DecisionTreeClassifier was fitted without feature names\n",
      "\n",
      "d:\\AppRelated\\Anaconda\\envs\\mi\\lib\\site-packages\\sklearn\\base.py:457: UserWarning:\n",
      "\n",
      "X has feature names, but DecisionTreeClassifier was fitted without feature names\n",
      "\n",
      "d:\\AppRelated\\Anaconda\\envs\\mi\\lib\\site-packages\\sklearn\\base.py:457: UserWarning:\n",
      "\n",
      "X has feature names, but DecisionTreeClassifier was fitted without feature names\n",
      "\n",
      "d:\\AppRelated\\Anaconda\\envs\\mi\\lib\\site-packages\\sklearn\\base.py:457: UserWarning:\n",
      "\n",
      "X has feature names, but DecisionTreeClassifier was fitted without feature names\n",
      "\n",
      "d:\\AppRelated\\Anaconda\\envs\\mi\\lib\\site-packages\\sklearn\\base.py:457: UserWarning:\n",
      "\n",
      "X has feature names, but DecisionTreeClassifier was fitted without feature names\n",
      "\n",
      "d:\\AppRelated\\Anaconda\\envs\\mi\\lib\\site-packages\\sklearn\\base.py:457: UserWarning:\n",
      "\n",
      "X has feature names, but DecisionTreeClassifier was fitted without feature names\n",
      "\n"
     ]
    },
    {
     "data": {
      "application/vnd.plotly.v1+json": {
       "config": {
        "plotlyServerURL": "https://plot.ly"
       },
       "data": [
        {
         "mode": "lines",
         "name": "Training Accuracy",
         "type": "scatter",
         "x": [
          1,
          2,
          3,
          4,
          5,
          6,
          7,
          8,
          9,
          10,
          11,
          12,
          13,
          14,
          15,
          16,
          17,
          18,
          19,
          20,
          21,
          22,
          23,
          24,
          25,
          26,
          27,
          28,
          29,
          30,
          31,
          32,
          33,
          34,
          35,
          36,
          37,
          38,
          39,
          40,
          41,
          42,
          43,
          44,
          45,
          46,
          47,
          48,
          49,
          50,
          51,
          52,
          53,
          54,
          55,
          56,
          57,
          58,
          59,
          60,
          61,
          62,
          63,
          64,
          65,
          66,
          67,
          68,
          69,
          70,
          71,
          72,
          73,
          74,
          75,
          76,
          77,
          78,
          79,
          80,
          81,
          82,
          83,
          84,
          85,
          86,
          87,
          88,
          89,
          90,
          91,
          92,
          93,
          94,
          95,
          96,
          97,
          98,
          99,
          100
         ],
         "y": [
          0.5284514925373134,
          0.3101679104477612,
          0.31576492537313433,
          0.3521455223880597,
          0.38152985074626866,
          0.4748134328358209,
          0.3521455223880597,
          0.2462686567164179,
          0.24580223880597016,
          0.2583955223880597,
          0.2873134328358209,
          0.36427238805970147,
          0.4207089552238806,
          0.43330223880597013,
          0.34654850746268656,
          0.2635261194029851,
          0.4388992537313433,
          0.26725746268656714,
          0.3572761194029851,
          0.22201492537313433,
          0.35774253731343286,
          0.33675373134328357,
          0.48927238805970147,
          0.3376865671641791,
          0.3787313432835821,
          0.41277985074626866,
          0.34095149253731344,
          0.292910447761194,
          0.251865671641791,
          0.3726679104477612,
          0.49113805970149255,
          0.3255597014925373,
          0.28078358208955223,
          0.35447761194029853,
          0.4281716417910448,
          0.36473880597014924,
          0.30830223880597013,
          0.322294776119403,
          0.25093283582089554,
          0.4281716417910448,
          0.24207089552238806,
          0.3512126865671642,
          0.23414179104477612,
          0.34841417910447764,
          0.2234141791044776,
          0.4496268656716418,
          0.3558768656716418,
          0.34794776119402987,
          0.43097014925373134,
          0.35261194029850745,
          0.3498134328358209,
          0.22201492537313433,
          0.34841417910447764,
          0.22294776119402984,
          0.43330223880597013,
          0.22434701492537312,
          0.314365671641791,
          0.2355410447761194,
          0.4281716417910448,
          0.2453358208955224,
          0.2635261194029851,
          0.5181902985074627,
          0.3423507462686567,
          0.47294776119402987,
          0.30363805970149255,
          0.30177238805970147,
          0.29384328358208955,
          0.30736940298507465,
          0.3885261194029851,
          0.3460820895522388,
          0.22294776119402984,
          0.35867537313432835,
          0.22574626865671643,
          0.41044776119402987,
          0.47388059701492535,
          0.22994402985074627,
          0.40298507462686567,
          0.4430970149253731,
          0.22434701492537312,
          0.3460820895522388,
          0.2957089552238806,
          0.3460820895522388,
          0.33722014925373134,
          0.24486940298507462,
          0.43283582089552236,
          0.4375,
          0.23227611940298507,
          0.3353544776119403,
          0.23647388059701493,
          0.3885261194029851,
          0.34328358208955223,
          0.25419776119402987,
          0.3512126865671642,
          0.22434701492537312,
          0.21828358208955223,
          0.34375,
          0.39552238805970147,
          0.3516791044776119,
          0.23600746268656717,
          0.35261194029850745
         ]
        },
        {
         "mode": "lines",
         "name": "Testing Accuracy",
         "type": "scatter",
         "x": [
          1,
          2,
          3,
          4,
          5,
          6,
          7,
          8,
          9,
          10,
          11,
          12,
          13,
          14,
          15,
          16,
          17,
          18,
          19,
          20,
          21,
          22,
          23,
          24,
          25,
          26,
          27,
          28,
          29,
          30,
          31,
          32,
          33,
          34,
          35,
          36,
          37,
          38,
          39,
          40,
          41,
          42,
          43,
          44,
          45,
          46,
          47,
          48,
          49,
          50,
          51,
          52,
          53,
          54,
          55,
          56,
          57,
          58,
          59,
          60,
          61,
          62,
          63,
          64,
          65,
          66,
          67,
          68,
          69,
          70,
          71,
          72,
          73,
          74,
          75,
          76,
          77,
          78,
          79,
          80,
          81,
          82,
          83,
          84,
          85,
          86,
          87,
          88,
          89,
          90,
          91,
          92,
          93,
          94,
          95,
          96,
          97,
          98,
          99,
          100
         ],
         "y": [
          0.5242537313432836,
          0.30783582089552236,
          0.3246268656716418,
          0.3376865671641791,
          0.373134328358209,
          0.47761194029850745,
          0.35074626865671643,
          0.24440298507462688,
          0.2294776119402985,
          0.2667910447761194,
          0.2966417910447761,
          0.3414179104477612,
          0.4216417910447761,
          0.43097014925373134,
          0.3302238805970149,
          0.26492537313432835,
          0.43470149253731344,
          0.2555970149253731,
          0.34328358208955223,
          0.22761194029850745,
          0.34328358208955223,
          0.3003731343283582,
          0.47574626865671643,
          0.3041044776119403,
          0.3694029850746269,
          0.416044776119403,
          0.3414179104477612,
          0.27611940298507465,
          0.2462686567164179,
          0.3824626865671642,
          0.47761194029850745,
          0.3003731343283582,
          0.27052238805970147,
          0.33955223880597013,
          0.4291044776119403,
          0.375,
          0.3208955223880597,
          0.30223880597014924,
          0.2574626865671642,
          0.43097014925373134,
          0.2462686567164179,
          0.35074626865671643,
          0.23694029850746268,
          0.333955223880597,
          0.2332089552238806,
          0.457089552238806,
          0.32649253731343286,
          0.35074626865671643,
          0.3917910447761194,
          0.3358208955223881,
          0.3358208955223881,
          0.23694029850746268,
          0.333955223880597,
          0.22761194029850745,
          0.43097014925373134,
          0.22761194029850745,
          0.32649253731343286,
          0.23694029850746268,
          0.4216417910447761,
          0.251865671641791,
          0.24253731343283583,
          0.5317164179104478,
          0.3246268656716418,
          0.4869402985074627,
          0.27798507462686567,
          0.31156716417910446,
          0.31529850746268656,
          0.27798507462686567,
          0.3843283582089552,
          0.3358208955223881,
          0.23134328358208955,
          0.3414179104477612,
          0.22201492537313433,
          0.41044776119402987,
          0.47761194029850745,
          0.2294776119402985,
          0.40111940298507465,
          0.45149253731343286,
          0.2294776119402985,
          0.34328358208955223,
          0.27052238805970147,
          0.3376865671641791,
          0.3208955223880597,
          0.22761194029850745,
          0.4291044776119403,
          0.43656716417910446,
          0.23880597014925373,
          0.31716417910447764,
          0.24440298507462688,
          0.3787313432835821,
          0.35074626865671643,
          0.2630597014925373,
          0.3358208955223881,
          0.23507462686567165,
          0.2332089552238806,
          0.32649253731343286,
          0.3917910447761194,
          0.34328358208955223,
          0.24067164179104478,
          0.32649253731343286
         ]
        }
       ],
       "layout": {
        "template": {
         "data": {
          "bar": [
           {
            "error_x": {
             "color": "#2a3f5f"
            },
            "error_y": {
             "color": "#2a3f5f"
            },
            "marker": {
             "line": {
              "color": "#E5ECF6",
              "width": 0.5
             },
             "pattern": {
              "fillmode": "overlay",
              "size": 10,
              "solidity": 0.2
             }
            },
            "type": "bar"
           }
          ],
          "barpolar": [
           {
            "marker": {
             "line": {
              "color": "#E5ECF6",
              "width": 0.5
             },
             "pattern": {
              "fillmode": "overlay",
              "size": 10,
              "solidity": 0.2
             }
            },
            "type": "barpolar"
           }
          ],
          "carpet": [
           {
            "aaxis": {
             "endlinecolor": "#2a3f5f",
             "gridcolor": "white",
             "linecolor": "white",
             "minorgridcolor": "white",
             "startlinecolor": "#2a3f5f"
            },
            "baxis": {
             "endlinecolor": "#2a3f5f",
             "gridcolor": "white",
             "linecolor": "white",
             "minorgridcolor": "white",
             "startlinecolor": "#2a3f5f"
            },
            "type": "carpet"
           }
          ],
          "choropleth": [
           {
            "colorbar": {
             "outlinewidth": 0,
             "ticks": ""
            },
            "type": "choropleth"
           }
          ],
          "contour": [
           {
            "colorbar": {
             "outlinewidth": 0,
             "ticks": ""
            },
            "colorscale": [
             [
              0,
              "#0d0887"
             ],
             [
              0.1111111111111111,
              "#46039f"
             ],
             [
              0.2222222222222222,
              "#7201a8"
             ],
             [
              0.3333333333333333,
              "#9c179e"
             ],
             [
              0.4444444444444444,
              "#bd3786"
             ],
             [
              0.5555555555555556,
              "#d8576b"
             ],
             [
              0.6666666666666666,
              "#ed7953"
             ],
             [
              0.7777777777777778,
              "#fb9f3a"
             ],
             [
              0.8888888888888888,
              "#fdca26"
             ],
             [
              1,
              "#f0f921"
             ]
            ],
            "type": "contour"
           }
          ],
          "contourcarpet": [
           {
            "colorbar": {
             "outlinewidth": 0,
             "ticks": ""
            },
            "type": "contourcarpet"
           }
          ],
          "heatmap": [
           {
            "colorbar": {
             "outlinewidth": 0,
             "ticks": ""
            },
            "colorscale": [
             [
              0,
              "#0d0887"
             ],
             [
              0.1111111111111111,
              "#46039f"
             ],
             [
              0.2222222222222222,
              "#7201a8"
             ],
             [
              0.3333333333333333,
              "#9c179e"
             ],
             [
              0.4444444444444444,
              "#bd3786"
             ],
             [
              0.5555555555555556,
              "#d8576b"
             ],
             [
              0.6666666666666666,
              "#ed7953"
             ],
             [
              0.7777777777777778,
              "#fb9f3a"
             ],
             [
              0.8888888888888888,
              "#fdca26"
             ],
             [
              1,
              "#f0f921"
             ]
            ],
            "type": "heatmap"
           }
          ],
          "heatmapgl": [
           {
            "colorbar": {
             "outlinewidth": 0,
             "ticks": ""
            },
            "colorscale": [
             [
              0,
              "#0d0887"
             ],
             [
              0.1111111111111111,
              "#46039f"
             ],
             [
              0.2222222222222222,
              "#7201a8"
             ],
             [
              0.3333333333333333,
              "#9c179e"
             ],
             [
              0.4444444444444444,
              "#bd3786"
             ],
             [
              0.5555555555555556,
              "#d8576b"
             ],
             [
              0.6666666666666666,
              "#ed7953"
             ],
             [
              0.7777777777777778,
              "#fb9f3a"
             ],
             [
              0.8888888888888888,
              "#fdca26"
             ],
             [
              1,
              "#f0f921"
             ]
            ],
            "type": "heatmapgl"
           }
          ],
          "histogram": [
           {
            "marker": {
             "pattern": {
              "fillmode": "overlay",
              "size": 10,
              "solidity": 0.2
             }
            },
            "type": "histogram"
           }
          ],
          "histogram2d": [
           {
            "colorbar": {
             "outlinewidth": 0,
             "ticks": ""
            },
            "colorscale": [
             [
              0,
              "#0d0887"
             ],
             [
              0.1111111111111111,
              "#46039f"
             ],
             [
              0.2222222222222222,
              "#7201a8"
             ],
             [
              0.3333333333333333,
              "#9c179e"
             ],
             [
              0.4444444444444444,
              "#bd3786"
             ],
             [
              0.5555555555555556,
              "#d8576b"
             ],
             [
              0.6666666666666666,
              "#ed7953"
             ],
             [
              0.7777777777777778,
              "#fb9f3a"
             ],
             [
              0.8888888888888888,
              "#fdca26"
             ],
             [
              1,
              "#f0f921"
             ]
            ],
            "type": "histogram2d"
           }
          ],
          "histogram2dcontour": [
           {
            "colorbar": {
             "outlinewidth": 0,
             "ticks": ""
            },
            "colorscale": [
             [
              0,
              "#0d0887"
             ],
             [
              0.1111111111111111,
              "#46039f"
             ],
             [
              0.2222222222222222,
              "#7201a8"
             ],
             [
              0.3333333333333333,
              "#9c179e"
             ],
             [
              0.4444444444444444,
              "#bd3786"
             ],
             [
              0.5555555555555556,
              "#d8576b"
             ],
             [
              0.6666666666666666,
              "#ed7953"
             ],
             [
              0.7777777777777778,
              "#fb9f3a"
             ],
             [
              0.8888888888888888,
              "#fdca26"
             ],
             [
              1,
              "#f0f921"
             ]
            ],
            "type": "histogram2dcontour"
           }
          ],
          "mesh3d": [
           {
            "colorbar": {
             "outlinewidth": 0,
             "ticks": ""
            },
            "type": "mesh3d"
           }
          ],
          "parcoords": [
           {
            "line": {
             "colorbar": {
              "outlinewidth": 0,
              "ticks": ""
             }
            },
            "type": "parcoords"
           }
          ],
          "pie": [
           {
            "automargin": true,
            "type": "pie"
           }
          ],
          "scatter": [
           {
            "fillpattern": {
             "fillmode": "overlay",
             "size": 10,
             "solidity": 0.2
            },
            "type": "scatter"
           }
          ],
          "scatter3d": [
           {
            "line": {
             "colorbar": {
              "outlinewidth": 0,
              "ticks": ""
             }
            },
            "marker": {
             "colorbar": {
              "outlinewidth": 0,
              "ticks": ""
             }
            },
            "type": "scatter3d"
           }
          ],
          "scattercarpet": [
           {
            "marker": {
             "colorbar": {
              "outlinewidth": 0,
              "ticks": ""
             }
            },
            "type": "scattercarpet"
           }
          ],
          "scattergeo": [
           {
            "marker": {
             "colorbar": {
              "outlinewidth": 0,
              "ticks": ""
             }
            },
            "type": "scattergeo"
           }
          ],
          "scattergl": [
           {
            "marker": {
             "colorbar": {
              "outlinewidth": 0,
              "ticks": ""
             }
            },
            "type": "scattergl"
           }
          ],
          "scattermapbox": [
           {
            "marker": {
             "colorbar": {
              "outlinewidth": 0,
              "ticks": ""
             }
            },
            "type": "scattermapbox"
           }
          ],
          "scatterpolar": [
           {
            "marker": {
             "colorbar": {
              "outlinewidth": 0,
              "ticks": ""
             }
            },
            "type": "scatterpolar"
           }
          ],
          "scatterpolargl": [
           {
            "marker": {
             "colorbar": {
              "outlinewidth": 0,
              "ticks": ""
             }
            },
            "type": "scatterpolargl"
           }
          ],
          "scatterternary": [
           {
            "marker": {
             "colorbar": {
              "outlinewidth": 0,
              "ticks": ""
             }
            },
            "type": "scatterternary"
           }
          ],
          "surface": [
           {
            "colorbar": {
             "outlinewidth": 0,
             "ticks": ""
            },
            "colorscale": [
             [
              0,
              "#0d0887"
             ],
             [
              0.1111111111111111,
              "#46039f"
             ],
             [
              0.2222222222222222,
              "#7201a8"
             ],
             [
              0.3333333333333333,
              "#9c179e"
             ],
             [
              0.4444444444444444,
              "#bd3786"
             ],
             [
              0.5555555555555556,
              "#d8576b"
             ],
             [
              0.6666666666666666,
              "#ed7953"
             ],
             [
              0.7777777777777778,
              "#fb9f3a"
             ],
             [
              0.8888888888888888,
              "#fdca26"
             ],
             [
              1,
              "#f0f921"
             ]
            ],
            "type": "surface"
           }
          ],
          "table": [
           {
            "cells": {
             "fill": {
              "color": "#EBF0F8"
             },
             "line": {
              "color": "white"
             }
            },
            "header": {
             "fill": {
              "color": "#C8D4E3"
             },
             "line": {
              "color": "white"
             }
            },
            "type": "table"
           }
          ]
         },
         "layout": {
          "annotationdefaults": {
           "arrowcolor": "#2a3f5f",
           "arrowhead": 0,
           "arrowwidth": 1
          },
          "autotypenumbers": "strict",
          "coloraxis": {
           "colorbar": {
            "outlinewidth": 0,
            "ticks": ""
           }
          },
          "colorscale": {
           "diverging": [
            [
             0,
             "#8e0152"
            ],
            [
             0.1,
             "#c51b7d"
            ],
            [
             0.2,
             "#de77ae"
            ],
            [
             0.3,
             "#f1b6da"
            ],
            [
             0.4,
             "#fde0ef"
            ],
            [
             0.5,
             "#f7f7f7"
            ],
            [
             0.6,
             "#e6f5d0"
            ],
            [
             0.7,
             "#b8e186"
            ],
            [
             0.8,
             "#7fbc41"
            ],
            [
             0.9,
             "#4d9221"
            ],
            [
             1,
             "#276419"
            ]
           ],
           "sequential": [
            [
             0,
             "#0d0887"
            ],
            [
             0.1111111111111111,
             "#46039f"
            ],
            [
             0.2222222222222222,
             "#7201a8"
            ],
            [
             0.3333333333333333,
             "#9c179e"
            ],
            [
             0.4444444444444444,
             "#bd3786"
            ],
            [
             0.5555555555555556,
             "#d8576b"
            ],
            [
             0.6666666666666666,
             "#ed7953"
            ],
            [
             0.7777777777777778,
             "#fb9f3a"
            ],
            [
             0.8888888888888888,
             "#fdca26"
            ],
            [
             1,
             "#f0f921"
            ]
           ],
           "sequentialminus": [
            [
             0,
             "#0d0887"
            ],
            [
             0.1111111111111111,
             "#46039f"
            ],
            [
             0.2222222222222222,
             "#7201a8"
            ],
            [
             0.3333333333333333,
             "#9c179e"
            ],
            [
             0.4444444444444444,
             "#bd3786"
            ],
            [
             0.5555555555555556,
             "#d8576b"
            ],
            [
             0.6666666666666666,
             "#ed7953"
            ],
            [
             0.7777777777777778,
             "#fb9f3a"
            ],
            [
             0.8888888888888888,
             "#fdca26"
            ],
            [
             1,
             "#f0f921"
            ]
           ]
          },
          "colorway": [
           "#636efa",
           "#EF553B",
           "#00cc96",
           "#ab63fa",
           "#FFA15A",
           "#19d3f3",
           "#FF6692",
           "#B6E880",
           "#FF97FF",
           "#FECB52"
          ],
          "font": {
           "color": "#2a3f5f"
          },
          "geo": {
           "bgcolor": "white",
           "lakecolor": "white",
           "landcolor": "#E5ECF6",
           "showlakes": true,
           "showland": true,
           "subunitcolor": "white"
          },
          "hoverlabel": {
           "align": "left"
          },
          "hovermode": "closest",
          "mapbox": {
           "style": "light"
          },
          "paper_bgcolor": "white",
          "plot_bgcolor": "#E5ECF6",
          "polar": {
           "angularaxis": {
            "gridcolor": "white",
            "linecolor": "white",
            "ticks": ""
           },
           "bgcolor": "#E5ECF6",
           "radialaxis": {
            "gridcolor": "white",
            "linecolor": "white",
            "ticks": ""
           }
          },
          "scene": {
           "xaxis": {
            "backgroundcolor": "#E5ECF6",
            "gridcolor": "white",
            "gridwidth": 2,
            "linecolor": "white",
            "showbackground": true,
            "ticks": "",
            "zerolinecolor": "white"
           },
           "yaxis": {
            "backgroundcolor": "#E5ECF6",
            "gridcolor": "white",
            "gridwidth": 2,
            "linecolor": "white",
            "showbackground": true,
            "ticks": "",
            "zerolinecolor": "white"
           },
           "zaxis": {
            "backgroundcolor": "#E5ECF6",
            "gridcolor": "white",
            "gridwidth": 2,
            "linecolor": "white",
            "showbackground": true,
            "ticks": "",
            "zerolinecolor": "white"
           }
          },
          "shapedefaults": {
           "line": {
            "color": "#2a3f5f"
           }
          },
          "ternary": {
           "aaxis": {
            "gridcolor": "white",
            "linecolor": "white",
            "ticks": ""
           },
           "baxis": {
            "gridcolor": "white",
            "linecolor": "white",
            "ticks": ""
           },
           "bgcolor": "#E5ECF6",
           "caxis": {
            "gridcolor": "white",
            "linecolor": "white",
            "ticks": ""
           }
          },
          "title": {
           "x": 0.05
          },
          "xaxis": {
           "automargin": true,
           "gridcolor": "white",
           "linecolor": "white",
           "ticks": "",
           "title": {
            "standoff": 15
           },
           "zerolinecolor": "white",
           "zerolinewidth": 2
          },
          "yaxis": {
           "automargin": true,
           "gridcolor": "white",
           "linecolor": "white",
           "ticks": "",
           "title": {
            "standoff": 15
           },
           "zerolinecolor": "white",
           "zerolinewidth": 2
          }
         }
        },
        "title": {
         "text": "Training and Testing Accuracy Over Epochs"
        },
        "xaxis": {
         "title": {
          "text": "Number of Estimators"
         }
        },
        "yaxis": {
         "title": {
          "text": "Accuracy"
         }
        }
       }
      }
     },
     "metadata": {},
     "output_type": "display_data"
    },
    {
     "data": {
      "application/vnd.plotly.v1+json": {
       "config": {
        "plotlyServerURL": "https://plot.ly"
       },
       "data": [
        {
         "mode": "lines",
         "name": "Training MSE Loss",
         "type": "scatter",
         "x": [
          1,
          2,
          3,
          4,
          5,
          6,
          7,
          8,
          9,
          10,
          11,
          12,
          13,
          14,
          15,
          16,
          17,
          18,
          19,
          20,
          21,
          22,
          23,
          24,
          25,
          26,
          27,
          28,
          29,
          30,
          31,
          32,
          33,
          34,
          35,
          36,
          37,
          38,
          39,
          40,
          41,
          42,
          43,
          44,
          45,
          46,
          47,
          48,
          49,
          50,
          51,
          52,
          53,
          54,
          55,
          56,
          57,
          58,
          59,
          60,
          61,
          62,
          63,
          64,
          65,
          66,
          67,
          68,
          69,
          70,
          71,
          72,
          73,
          74,
          75,
          76,
          77,
          78,
          79,
          80,
          81,
          82,
          83,
          84,
          85,
          86,
          87,
          88,
          89,
          90,
          91,
          92,
          93,
          94,
          95,
          96,
          97,
          98,
          99,
          100
         ],
         "y": [
          1.21875,
          0.808768656716418,
          0.7835820895522388,
          1.9379664179104477,
          1.806436567164179,
          1.4333022388059702,
          1.923973880597015,
          0.8656716417910447,
          0.7877798507462687,
          0.7583955223880597,
          0.7574626865671642,
          1.5536380597014925,
          1.6497201492537314,
          1.5083955223880596,
          1.9463619402985075,
          0.8805970149253731,
          1.5727611940298507,
          0.8768656716417911,
          1.861473880597015,
          0.8255597014925373,
          1.7196828358208955,
          1.9855410447761195,
          1.3754664179104477,
          1.9818097014925373,
          1.8176305970149254,
          1.2434701492537314,
          0.9584888059701493,
          1.9342350746268657,
          0.7719216417910447,
          1.841884328358209,
          1.3680037313432836,
          2.0303171641791047,
          0.7611940298507462,
          1.201026119402985,
          1.4309701492537314,
          1.8736007462686568,
          0.8638059701492538,
          1.827891791044776,
          0.78125,
          1.4897388059701493,
          0.8446828358208955,
          1.3386194029850746,
          0.7672574626865671,
          1.9067164179104477,
          0.8353544776119403,
          1.5340485074626866,
          1.4794776119402986,
          1.9407649253731343,
          1.6086753731343284,
          1.9165111940298507,
          1.9333022388059702,
          0.9305037313432836,
          1.9067164179104477,
          0.8274253731343284,
          1.5727611940298507,
          0.7756529850746269,
          0.8605410447761194,
          0.8819962686567164,
          1.4729477611940298,
          0.9253731343283582,
          1.8726679104477613,
          1.259794776119403,
          1.9631529850746268,
          1.4407649253731343,
          2.1180037313432836,
          0.7877798507462687,
          1.039179104477612,
          1.3796641791044777,
          0.9333022388059702,
          1.9412313432835822,
          0.8148320895522388,
          1.8152985074626866,
          1.0065298507462686,
          1.6110074626865671,
          1.4370335820895523,
          0.8596082089552238,
          1.720615671641791,
          1.5601679104477613,
          0.78125,
          1.9132462686567164,
          1.1926305970149254,
          1.033115671641791,
          1.9500932835820894,
          0.980410447761194,
          1.5900186567164178,
          1.5825559701492538,
          0.8041044776119403,
          1.900186567164179,
          0.7943097014925373,
          1.4916044776119404,
          1.5130597014925373,
          0.7667910447761194,
          1.9333022388059702,
          0.9561567164179104,
          0.8488805970149254,
          1.712686567164179,
          1.7504664179104477,
          1.6809701492537314,
          1.234141791044776,
          1.3190298507462686
         ]
        },
        {
         "mode": "lines",
         "name": "Testing MSE Loss",
         "type": "scatter",
         "x": [
          1,
          2,
          3,
          4,
          5,
          6,
          7,
          8,
          9,
          10,
          11,
          12,
          13,
          14,
          15,
          16,
          17,
          18,
          19,
          20,
          21,
          22,
          23,
          24,
          25,
          26,
          27,
          28,
          29,
          30,
          31,
          32,
          33,
          34,
          35,
          36,
          37,
          38,
          39,
          40,
          41,
          42,
          43,
          44,
          45,
          46,
          47,
          48,
          49,
          50,
          51,
          52,
          53,
          54,
          55,
          56,
          57,
          58,
          59,
          60,
          61,
          62,
          63,
          64,
          65,
          66,
          67,
          68,
          69,
          70,
          71,
          72,
          73,
          74,
          75,
          76,
          77,
          78,
          79,
          80,
          81,
          82,
          83,
          84,
          85,
          86,
          87,
          88,
          89,
          90,
          91,
          92,
          93,
          94,
          95,
          96,
          97,
          98,
          99,
          100
         ],
         "y": [
          1.2145522388059702,
          0.8097014925373134,
          0.7481343283582089,
          1.9664179104477613,
          1.8190298507462686,
          1.4011194029850746,
          1.9085820895522387,
          0.8731343283582089,
          0.7985074626865671,
          0.7444029850746269,
          0.7257462686567164,
          1.5317164179104477,
          1.625,
          1.4645522388059702,
          1.9906716417910448,
          0.9085820895522388,
          1.5615671641791045,
          0.8955223880597015,
          1.8992537313432836,
          0.8339552238805971,
          1.7593283582089552,
          2.110074626865672,
          1.4085820895522387,
          2.095149253731343,
          1.833955223880597,
          1.25,
          0.9160447761194029,
          1.960820895522388,
          0.7705223880597015,
          1.7817164179104477,
          1.4011194029850746,
          2.110074626865672,
          0.7854477611940298,
          1.2145522388059702,
          1.4048507462686568,
          1.8115671641791045,
          0.8414179104477612,
          1.867537313432836,
          0.7649253731343284,
          1.4253731343283582,
          0.8656716417910447,
          1.3320895522388059,
          0.7742537313432836,
          1.9477611940298507,
          0.8227611940298507,
          1.4832089552238805,
          1.4514925373134329,
          1.9085820895522387,
          1.7444029850746268,
          1.9458955223880596,
          1.9570895522388059,
          0.8917910447761194,
          1.9477611940298507,
          0.8003731343283582,
          1.5652985074626866,
          0.7723880597014925,
          0.8694029850746269,
          0.9029850746268657,
          1.4906716417910448,
          0.9272388059701493,
          1.9496268656716418,
          1.1847014925373134,
          2.013059701492537,
          1.3638059701492538,
          2.199626865671642,
          0.7611940298507462,
          0.9869402985074627,
          1.421641791044776,
          0.917910447761194,
          1.962686567164179,
          0.8078358208955224,
          1.867537313432836,
          1.0298507462686568,
          1.580223880597015,
          1.4011194029850746,
          0.8376865671641791,
          1.7070895522388059,
          1.5055970149253732,
          0.7705223880597015,
          1.916044776119403,
          1.2220149253731343,
          0.9813432835820896,
          1.9776119402985075,
          0.996268656716418,
          1.5727611940298507,
          1.5652985074626866,
          0.8227611940298507,
          1.919776119402985,
          0.7779850746268657,
          1.4776119402985075,
          1.4944029850746268,
          0.7481343283582089,
          1.9514925373134329,
          0.9216417910447762,
          0.8339552238805971,
          1.7929104477611941,
          1.7444029850746268,
          1.6809701492537314,
          1.3246268656716418,
          1.2835820895522387
         ]
        }
       ],
       "layout": {
        "template": {
         "data": {
          "bar": [
           {
            "error_x": {
             "color": "#2a3f5f"
            },
            "error_y": {
             "color": "#2a3f5f"
            },
            "marker": {
             "line": {
              "color": "#E5ECF6",
              "width": 0.5
             },
             "pattern": {
              "fillmode": "overlay",
              "size": 10,
              "solidity": 0.2
             }
            },
            "type": "bar"
           }
          ],
          "barpolar": [
           {
            "marker": {
             "line": {
              "color": "#E5ECF6",
              "width": 0.5
             },
             "pattern": {
              "fillmode": "overlay",
              "size": 10,
              "solidity": 0.2
             }
            },
            "type": "barpolar"
           }
          ],
          "carpet": [
           {
            "aaxis": {
             "endlinecolor": "#2a3f5f",
             "gridcolor": "white",
             "linecolor": "white",
             "minorgridcolor": "white",
             "startlinecolor": "#2a3f5f"
            },
            "baxis": {
             "endlinecolor": "#2a3f5f",
             "gridcolor": "white",
             "linecolor": "white",
             "minorgridcolor": "white",
             "startlinecolor": "#2a3f5f"
            },
            "type": "carpet"
           }
          ],
          "choropleth": [
           {
            "colorbar": {
             "outlinewidth": 0,
             "ticks": ""
            },
            "type": "choropleth"
           }
          ],
          "contour": [
           {
            "colorbar": {
             "outlinewidth": 0,
             "ticks": ""
            },
            "colorscale": [
             [
              0,
              "#0d0887"
             ],
             [
              0.1111111111111111,
              "#46039f"
             ],
             [
              0.2222222222222222,
              "#7201a8"
             ],
             [
              0.3333333333333333,
              "#9c179e"
             ],
             [
              0.4444444444444444,
              "#bd3786"
             ],
             [
              0.5555555555555556,
              "#d8576b"
             ],
             [
              0.6666666666666666,
              "#ed7953"
             ],
             [
              0.7777777777777778,
              "#fb9f3a"
             ],
             [
              0.8888888888888888,
              "#fdca26"
             ],
             [
              1,
              "#f0f921"
             ]
            ],
            "type": "contour"
           }
          ],
          "contourcarpet": [
           {
            "colorbar": {
             "outlinewidth": 0,
             "ticks": ""
            },
            "type": "contourcarpet"
           }
          ],
          "heatmap": [
           {
            "colorbar": {
             "outlinewidth": 0,
             "ticks": ""
            },
            "colorscale": [
             [
              0,
              "#0d0887"
             ],
             [
              0.1111111111111111,
              "#46039f"
             ],
             [
              0.2222222222222222,
              "#7201a8"
             ],
             [
              0.3333333333333333,
              "#9c179e"
             ],
             [
              0.4444444444444444,
              "#bd3786"
             ],
             [
              0.5555555555555556,
              "#d8576b"
             ],
             [
              0.6666666666666666,
              "#ed7953"
             ],
             [
              0.7777777777777778,
              "#fb9f3a"
             ],
             [
              0.8888888888888888,
              "#fdca26"
             ],
             [
              1,
              "#f0f921"
             ]
            ],
            "type": "heatmap"
           }
          ],
          "heatmapgl": [
           {
            "colorbar": {
             "outlinewidth": 0,
             "ticks": ""
            },
            "colorscale": [
             [
              0,
              "#0d0887"
             ],
             [
              0.1111111111111111,
              "#46039f"
             ],
             [
              0.2222222222222222,
              "#7201a8"
             ],
             [
              0.3333333333333333,
              "#9c179e"
             ],
             [
              0.4444444444444444,
              "#bd3786"
             ],
             [
              0.5555555555555556,
              "#d8576b"
             ],
             [
              0.6666666666666666,
              "#ed7953"
             ],
             [
              0.7777777777777778,
              "#fb9f3a"
             ],
             [
              0.8888888888888888,
              "#fdca26"
             ],
             [
              1,
              "#f0f921"
             ]
            ],
            "type": "heatmapgl"
           }
          ],
          "histogram": [
           {
            "marker": {
             "pattern": {
              "fillmode": "overlay",
              "size": 10,
              "solidity": 0.2
             }
            },
            "type": "histogram"
           }
          ],
          "histogram2d": [
           {
            "colorbar": {
             "outlinewidth": 0,
             "ticks": ""
            },
            "colorscale": [
             [
              0,
              "#0d0887"
             ],
             [
              0.1111111111111111,
              "#46039f"
             ],
             [
              0.2222222222222222,
              "#7201a8"
             ],
             [
              0.3333333333333333,
              "#9c179e"
             ],
             [
              0.4444444444444444,
              "#bd3786"
             ],
             [
              0.5555555555555556,
              "#d8576b"
             ],
             [
              0.6666666666666666,
              "#ed7953"
             ],
             [
              0.7777777777777778,
              "#fb9f3a"
             ],
             [
              0.8888888888888888,
              "#fdca26"
             ],
             [
              1,
              "#f0f921"
             ]
            ],
            "type": "histogram2d"
           }
          ],
          "histogram2dcontour": [
           {
            "colorbar": {
             "outlinewidth": 0,
             "ticks": ""
            },
            "colorscale": [
             [
              0,
              "#0d0887"
             ],
             [
              0.1111111111111111,
              "#46039f"
             ],
             [
              0.2222222222222222,
              "#7201a8"
             ],
             [
              0.3333333333333333,
              "#9c179e"
             ],
             [
              0.4444444444444444,
              "#bd3786"
             ],
             [
              0.5555555555555556,
              "#d8576b"
             ],
             [
              0.6666666666666666,
              "#ed7953"
             ],
             [
              0.7777777777777778,
              "#fb9f3a"
             ],
             [
              0.8888888888888888,
              "#fdca26"
             ],
             [
              1,
              "#f0f921"
             ]
            ],
            "type": "histogram2dcontour"
           }
          ],
          "mesh3d": [
           {
            "colorbar": {
             "outlinewidth": 0,
             "ticks": ""
            },
            "type": "mesh3d"
           }
          ],
          "parcoords": [
           {
            "line": {
             "colorbar": {
              "outlinewidth": 0,
              "ticks": ""
             }
            },
            "type": "parcoords"
           }
          ],
          "pie": [
           {
            "automargin": true,
            "type": "pie"
           }
          ],
          "scatter": [
           {
            "fillpattern": {
             "fillmode": "overlay",
             "size": 10,
             "solidity": 0.2
            },
            "type": "scatter"
           }
          ],
          "scatter3d": [
           {
            "line": {
             "colorbar": {
              "outlinewidth": 0,
              "ticks": ""
             }
            },
            "marker": {
             "colorbar": {
              "outlinewidth": 0,
              "ticks": ""
             }
            },
            "type": "scatter3d"
           }
          ],
          "scattercarpet": [
           {
            "marker": {
             "colorbar": {
              "outlinewidth": 0,
              "ticks": ""
             }
            },
            "type": "scattercarpet"
           }
          ],
          "scattergeo": [
           {
            "marker": {
             "colorbar": {
              "outlinewidth": 0,
              "ticks": ""
             }
            },
            "type": "scattergeo"
           }
          ],
          "scattergl": [
           {
            "marker": {
             "colorbar": {
              "outlinewidth": 0,
              "ticks": ""
             }
            },
            "type": "scattergl"
           }
          ],
          "scattermapbox": [
           {
            "marker": {
             "colorbar": {
              "outlinewidth": 0,
              "ticks": ""
             }
            },
            "type": "scattermapbox"
           }
          ],
          "scatterpolar": [
           {
            "marker": {
             "colorbar": {
              "outlinewidth": 0,
              "ticks": ""
             }
            },
            "type": "scatterpolar"
           }
          ],
          "scatterpolargl": [
           {
            "marker": {
             "colorbar": {
              "outlinewidth": 0,
              "ticks": ""
             }
            },
            "type": "scatterpolargl"
           }
          ],
          "scatterternary": [
           {
            "marker": {
             "colorbar": {
              "outlinewidth": 0,
              "ticks": ""
             }
            },
            "type": "scatterternary"
           }
          ],
          "surface": [
           {
            "colorbar": {
             "outlinewidth": 0,
             "ticks": ""
            },
            "colorscale": [
             [
              0,
              "#0d0887"
             ],
             [
              0.1111111111111111,
              "#46039f"
             ],
             [
              0.2222222222222222,
              "#7201a8"
             ],
             [
              0.3333333333333333,
              "#9c179e"
             ],
             [
              0.4444444444444444,
              "#bd3786"
             ],
             [
              0.5555555555555556,
              "#d8576b"
             ],
             [
              0.6666666666666666,
              "#ed7953"
             ],
             [
              0.7777777777777778,
              "#fb9f3a"
             ],
             [
              0.8888888888888888,
              "#fdca26"
             ],
             [
              1,
              "#f0f921"
             ]
            ],
            "type": "surface"
           }
          ],
          "table": [
           {
            "cells": {
             "fill": {
              "color": "#EBF0F8"
             },
             "line": {
              "color": "white"
             }
            },
            "header": {
             "fill": {
              "color": "#C8D4E3"
             },
             "line": {
              "color": "white"
             }
            },
            "type": "table"
           }
          ]
         },
         "layout": {
          "annotationdefaults": {
           "arrowcolor": "#2a3f5f",
           "arrowhead": 0,
           "arrowwidth": 1
          },
          "autotypenumbers": "strict",
          "coloraxis": {
           "colorbar": {
            "outlinewidth": 0,
            "ticks": ""
           }
          },
          "colorscale": {
           "diverging": [
            [
             0,
             "#8e0152"
            ],
            [
             0.1,
             "#c51b7d"
            ],
            [
             0.2,
             "#de77ae"
            ],
            [
             0.3,
             "#f1b6da"
            ],
            [
             0.4,
             "#fde0ef"
            ],
            [
             0.5,
             "#f7f7f7"
            ],
            [
             0.6,
             "#e6f5d0"
            ],
            [
             0.7,
             "#b8e186"
            ],
            [
             0.8,
             "#7fbc41"
            ],
            [
             0.9,
             "#4d9221"
            ],
            [
             1,
             "#276419"
            ]
           ],
           "sequential": [
            [
             0,
             "#0d0887"
            ],
            [
             0.1111111111111111,
             "#46039f"
            ],
            [
             0.2222222222222222,
             "#7201a8"
            ],
            [
             0.3333333333333333,
             "#9c179e"
            ],
            [
             0.4444444444444444,
             "#bd3786"
            ],
            [
             0.5555555555555556,
             "#d8576b"
            ],
            [
             0.6666666666666666,
             "#ed7953"
            ],
            [
             0.7777777777777778,
             "#fb9f3a"
            ],
            [
             0.8888888888888888,
             "#fdca26"
            ],
            [
             1,
             "#f0f921"
            ]
           ],
           "sequentialminus": [
            [
             0,
             "#0d0887"
            ],
            [
             0.1111111111111111,
             "#46039f"
            ],
            [
             0.2222222222222222,
             "#7201a8"
            ],
            [
             0.3333333333333333,
             "#9c179e"
            ],
            [
             0.4444444444444444,
             "#bd3786"
            ],
            [
             0.5555555555555556,
             "#d8576b"
            ],
            [
             0.6666666666666666,
             "#ed7953"
            ],
            [
             0.7777777777777778,
             "#fb9f3a"
            ],
            [
             0.8888888888888888,
             "#fdca26"
            ],
            [
             1,
             "#f0f921"
            ]
           ]
          },
          "colorway": [
           "#636efa",
           "#EF553B",
           "#00cc96",
           "#ab63fa",
           "#FFA15A",
           "#19d3f3",
           "#FF6692",
           "#B6E880",
           "#FF97FF",
           "#FECB52"
          ],
          "font": {
           "color": "#2a3f5f"
          },
          "geo": {
           "bgcolor": "white",
           "lakecolor": "white",
           "landcolor": "#E5ECF6",
           "showlakes": true,
           "showland": true,
           "subunitcolor": "white"
          },
          "hoverlabel": {
           "align": "left"
          },
          "hovermode": "closest",
          "mapbox": {
           "style": "light"
          },
          "paper_bgcolor": "white",
          "plot_bgcolor": "#E5ECF6",
          "polar": {
           "angularaxis": {
            "gridcolor": "white",
            "linecolor": "white",
            "ticks": ""
           },
           "bgcolor": "#E5ECF6",
           "radialaxis": {
            "gridcolor": "white",
            "linecolor": "white",
            "ticks": ""
           }
          },
          "scene": {
           "xaxis": {
            "backgroundcolor": "#E5ECF6",
            "gridcolor": "white",
            "gridwidth": 2,
            "linecolor": "white",
            "showbackground": true,
            "ticks": "",
            "zerolinecolor": "white"
           },
           "yaxis": {
            "backgroundcolor": "#E5ECF6",
            "gridcolor": "white",
            "gridwidth": 2,
            "linecolor": "white",
            "showbackground": true,
            "ticks": "",
            "zerolinecolor": "white"
           },
           "zaxis": {
            "backgroundcolor": "#E5ECF6",
            "gridcolor": "white",
            "gridwidth": 2,
            "linecolor": "white",
            "showbackground": true,
            "ticks": "",
            "zerolinecolor": "white"
           }
          },
          "shapedefaults": {
           "line": {
            "color": "#2a3f5f"
           }
          },
          "ternary": {
           "aaxis": {
            "gridcolor": "white",
            "linecolor": "white",
            "ticks": ""
           },
           "baxis": {
            "gridcolor": "white",
            "linecolor": "white",
            "ticks": ""
           },
           "bgcolor": "#E5ECF6",
           "caxis": {
            "gridcolor": "white",
            "linecolor": "white",
            "ticks": ""
           }
          },
          "title": {
           "x": 0.05
          },
          "xaxis": {
           "automargin": true,
           "gridcolor": "white",
           "linecolor": "white",
           "ticks": "",
           "title": {
            "standoff": 15
           },
           "zerolinecolor": "white",
           "zerolinewidth": 2
          },
          "yaxis": {
           "automargin": true,
           "gridcolor": "white",
           "linecolor": "white",
           "ticks": "",
           "title": {
            "standoff": 15
           },
           "zerolinecolor": "white",
           "zerolinewidth": 2
          }
         }
        },
        "title": {
         "text": "Training and Testing MSE Loss Over Epochs"
        },
        "xaxis": {
         "title": {
          "text": "Number of Estimators (Epochs)"
         }
        },
        "yaxis": {
         "title": {
          "text": "MSE Loss"
         }
        }
       }
      }
     },
     "metadata": {},
     "output_type": "display_data"
    },
    {
     "data": {
      "image/png": "[encoded data removed]",
      "text/plain": [
       "<Figure size 640x480 with 2 Axes>"
      ]
     },
     "metadata": {},
     "output_type": "display_data"
    }
   ],
   "source": [
    "ada_boost_func(X_train_most,y_train_most,X_test_most,y_test_most)"
   ]
  },
  {
   "cell_type": "markdown",
   "metadata": {},
   "source": [
    "## Random Forest"
   ]
  },
  {
   "cell_type": "markdown",
   "metadata": {},
   "source": [
    "### All features"
   ]
  },
  {
   "cell_type": "code",
   "execution_count": 15,
   "metadata": {},
   "outputs": [
    {
     "name": "stdout",
     "output_type": "stream",
     "text": [
      "                   Column  Feature Importance\n",
      "5            stroke_speed            0.032465\n",
      "0             finish_time            0.025374\n",
      "70  acceleration_y_median            0.024473\n",
      "61      velocity_y_median            0.023526\n",
      "25            jerk_median            0.022987\n",
      "16    acceleration_median            0.019078\n",
      "4            relative_NCA            0.017264\n",
      "3            relative_NCV            0.016964\n",
      "24              jerk_mean            0.016836\n",
      "79          jerk_y_median            0.016764\n"
     ]
    }
   ],
   "source": [
    "from sklearn.ensemble import RandomForestClassifier\n",
    "from sklearn.metrics import confusion_matrix, ConfusionMatrixDisplay\n",
    "from sklearn.metrics import mean_squared_error, accuracy_score\n",
    "\n",
    "# Create a RandomForestClassifier\n",
    "n_estimators = 100\n",
    "random_forest = RandomForestClassifier(n_estimators=n_estimators, random_state=42)\n",
    "\n",
    "# Lists to store training and testing losses\n",
    "training_loss = []\n",
    "testing_loss = []\n",
    "\n",
    "# Lists to store training and testing accuracy\n",
    "training_accuracy = []\n",
    "testing_accuracy = []\n",
    "\n",
    "# Train the Random Forest incrementally, capturing training and testing loss at each step\n",
    "for i in range(1, n_estimators + 1):\n",
    "    random_forest.fit(X_train[:i], y_train[:i])  # Incremental training\n",
    "    \n",
    "    # Calculate training accuracy\n",
    "    y_pred_train = random_forest.predict(X_train)\n",
    "    accuracy_train = accuracy_score(y_train, y_pred_train)\n",
    "    # Append training accuracy to the list\n",
    "    training_accuracy.append(accuracy_train)\n",
    "\n",
    "    # Calculate training MSE\n",
    "    mse_train = mean_squared_error(y_train, y_pred_train)\n",
    "    # Append training MSE to the list\n",
    "    training_loss.append(mse_train)\n",
    "    \n",
    "    # Calculate testing accuracy\n",
    "    y_pred_test = random_forest.predict(X_test)\n",
    "    accuracy_test = accuracy_score(y_test, y_pred_test)\n",
    "    # Append testing accuracy to the list\n",
    "    testing_accuracy.append(accuracy_test)\n",
    "\n",
    "    # Calculate testing MSE\n",
    "    mse_test = mean_squared_error(y_test, y_pred_test)\n",
    "    # Append testing MSE to the list\n",
    "    testing_loss.append(mse_test)\n",
    "    \n",
    "\n",
    "# random_forest_history = random_forest.fit(X_train, y_train).estimators_[0].tree_.impurity\n",
    "\n",
    "# Fit the RandomForestClassifier to the training data\n",
    "random_forest.fit(X_train, y_train)\n",
    "\n",
    "# Get feature importances from the Random Forest model\n",
    "rf_feature_importances = random_forest.feature_importances_\n",
    "\n",
    "# Create a DataFrame to display feature importances\n",
    "rf_importance_df = pd.DataFrame({'Column': X.columns, 'Feature Importance': rf_feature_importances})\n",
    "rf_importance_df = rf_importance_df.sort_values(by='Feature Importance', ascending=False)\n",
    "\n",
    "# Display the top N most important columns\n",
    "top_n = 10  # Change this to the number of top features you want to display\n",
    "top_features = rf_importance_df.head(top_n)\n",
    "print(top_features)"
   ]
  },
  {
   "cell_type": "code",
   "execution_count": 16,
   "metadata": {},
   "outputs": [
    {
     "name": "stdout",
     "output_type": "stream",
     "text": [
      "Accuracy (Random Forest): 62.87%\n"
     ]
    }
   ],
   "source": [
    "# Use the trained Random Forest classifier to make predictions on the test data\n",
    "y_pred_rf = random_forest.predict(X_test)\n",
    "\n",
    "# Calculate the accuracy of the Random Forest classifier\n",
    "accuracy_rf = random_forest.score(X_test, y_test)\n",
    "\n",
    "print(\"Accuracy (Random Forest): {:.2f}%\".format(accuracy_rf * 100))"
   ]
  },
  {
   "cell_type": "code",
   "execution_count": 17,
   "metadata": {},
   "outputs": [
    {
     "data": {
      "image/png": "[encoded data removed]",
      "text/plain": [
       "<Figure size 640x480 with 2 Axes>"
      ]
     },
     "metadata": {},
     "output_type": "display_data"
    }
   ],
   "source": [
    "# Create a confusion matrix\n",
    "confusion_rf = confusion_matrix(y_test, y_pred_rf)\n",
    "\n",
    "# Plot the confusion matrix \n",
    "disp_rf = ConfusionMatrixDisplay(confusion_rf, display_labels=random_forest.classes_)\n",
    "disp_rf.plot(cmap='viridis')\n",
    "plt.title('Confusion Matrix (Random Forest)')\n",
    "plt.show()"
   ]
  },
  {
   "cell_type": "code",
   "execution_count": 18,
   "metadata": {},
   "outputs": [
    {
     "data": {
      "application/vnd.plotly.v1+json": {
       "config": {
        "plotlyServerURL": "https://plot.ly"
       },
       "data": [
        {
         "mode": "lines",
         "name": "Training Loss",
         "type": "scatter",
         "x": [
          1,
          2,
          3,
          4,
          5,
          6,
          7,
          8,
          9,
          10,
          11,
          12,
          13,
          14,
          15,
          16,
          17,
          18,
          19,
          20,
          21,
          22,
          23,
          24,
          25,
          26,
          27,
          28,
          29,
          30,
          31,
          32,
          33,
          34,
          35,
          36,
          37,
          38,
          39,
          40,
          41,
          42,
          43,
          44,
          45,
          46,
          47,
          48,
          49,
          50,
          51,
          52,
          53,
          54,
          55,
          56,
          57,
          58,
          59,
          60,
          61,
          62,
          63,
          64,
          65,
          66,
          67,
          68,
          69,
          70,
          71,
          72,
          73,
          74,
          75,
          76,
          77,
          78,
          79,
          80,
          81,
          82,
          83,
          84,
          85,
          86,
          87,
          88,
          89,
          90,
          91,
          92,
          93,
          94,
          95,
          96,
          97,
          98,
          99,
          100
         ],
         "y": [
          1.6030783582089552,
          1.4594216417910448,
          1.0415111940298507,
          0.8521455223880597,
          0.8362873134328358,
          1.068563432835821,
          1.1254664179104477,
          1.1879664179104477,
          1.3647388059701493,
          1.353544776119403,
          1.3782649253731343,
          1.287313432835821,
          1.1791044776119404,
          1.080223880597015,
          1.048973880597015,
          1.132929104477612,
          1.1548507462686568,
          1.0480410447761195,
          1.09375,
          1.2047574626865671,
          1.0946828358208955,
          1.0368470149253732,
          1.0984141791044777,
          1.0974813432835822,
          1.1054104477611941,
          1.1534514925373134,
          1.1273320895522387,
          1.1958955223880596,
          1.194962686567164,
          1.1898320895522387,
          1.1254664179104477,
          1.2066231343283582,
          1.1865671641791045,
          1.1870335820895523,
          1.2140858208955223,
          1.2238805970149254,
          1.248134328358209,
          1.2434701492537314,
          1.1833022388059702,
          1.1851679104477613,
          1.1828358208955223,
          1.0820895522388059,
          1.1394589552238805,
          1.134794776119403,
          1.1431902985074627,
          1.1553171641791045,
          1.1651119402985075,
          1.140858208955224,
          1.1693097014925373,
          1.248134328358209,
          1.21875,
          1.2350746268656716,
          1.2332089552238805,
          1.1930970149253732,
          1.21875,
          1.2388059701492538,
          1.279384328358209,
          1.2817164179104477,
          1.3041044776119404,
          1.2551305970149254,
          1.279384328358209,
          1.3180970149253732,
          1.2728544776119404,
          1.2854477611940298,
          1.2318097014925373,
          1.2416044776119404,
          1.2056902985074627,
          1.1599813432835822,
          1.205223880597015,
          1.2276119402985075,
          1.2504664179104477,
          1.3022388059701493,
          1.3372201492537314,
          1.2901119402985075,
          1.3069029850746268,
          1.322294776119403,
          1.265858208955224,
          1.3022388059701493,
          1.3111007462686568,
          1.2929104477611941,
          1.3073694029850746,
          1.291044776119403,
          1.3269589552238805,
          1.297108208955224,
          1.3316231343283582,
          1.2705223880597014,
          1.3166977611940298,
          1.2532649253731343,
          1.28125,
          1.322294776119403,
          1.3017723880597014,
          1.2882462686567164,
          1.2770522388059702,
          1.3152985074626866,
          1.3162313432835822,
          1.2863805970149254,
          1.3008395522388059,
          1.2639925373134329,
          1.288712686567164,
          1.2644589552238805
         ]
        },
        {
         "mode": "lines",
         "name": "Testing Loss",
         "type": "scatter",
         "x": [
          1,
          2,
          3,
          4,
          5,
          6,
          7,
          8,
          9,
          10,
          11,
          12,
          13,
          14,
          15,
          16,
          17,
          18,
          19,
          20,
          21,
          22,
          23,
          24,
          25,
          26,
          27,
          28,
          29,
          30,
          31,
          32,
          33,
          34,
          35,
          36,
          37,
          38,
          39,
          40,
          41,
          42,
          43,
          44,
          45,
          46,
          47,
          48,
          49,
          50,
          51,
          52,
          53,
          54,
          55,
          56,
          57,
          58,
          59,
          60,
          61,
          62,
          63,
          64,
          65,
          66,
          67,
          68,
          69,
          70,
          71,
          72,
          73,
          74,
          75,
          76,
          77,
          78,
          79,
          80,
          81,
          82,
          83,
          84,
          85,
          86,
          87,
          88,
          89,
          90,
          91,
          92,
          93,
          94,
          95,
          96,
          97,
          98,
          99,
          100
         ],
         "y": [
          1.5727611940298507,
          1.3861940298507462,
          1.037313432835821,
          0.8227611940298507,
          0.8190298507462687,
          1.0522388059701493,
          1.0708955223880596,
          1.1119402985074627,
          1.2350746268656716,
          1.2332089552238805,
          1.3041044776119404,
          1.212686567164179,
          1.0970149253731343,
          0.9832089552238806,
          0.9682835820895522,
          1.087686567164179,
          1.1063432835820894,
          0.9832089552238806,
          1.0037313432835822,
          1.1194029850746268,
          0.9757462686567164,
          0.9589552238805971,
          1.0279850746268657,
          1.0242537313432836,
          1.0298507462686568,
          0.9757462686567164,
          1.037313432835821,
          1.0615671641791045,
          1.078358208955224,
          1.0727611940298507,
          1.007462686567164,
          1.0895522388059702,
          1.0932835820895523,
          1.0652985074626866,
          1.0820895522388059,
          1.1026119402985075,
          1.1492537313432836,
          1.1026119402985075,
          1.0914179104477613,
          1.0671641791044777,
          1.0727611940298507,
          1,
          1.0764925373134329,
          1.0205223880597014,
          1.0261194029850746,
          1.044776119402985,
          1.0261194029850746,
          1.0485074626865671,
          1.0541044776119404,
          1.1156716417910448,
          1.117537313432836,
          1.1473880597014925,
          1.1138059701492538,
          1.1212686567164178,
          1.1287313432835822,
          1.166044776119403,
          1.1791044776119404,
          1.0970149253731343,
          1.1902985074626866,
          1.1679104477611941,
          1.169776119402985,
          1.1940298507462686,
          1.164179104477612,
          1.1194029850746268,
          1.1585820895522387,
          1.126865671641791,
          1.1212686567164178,
          1.0317164179104477,
          1.123134328358209,
          1.132462686567164,
          1.1455223880597014,
          1.171641791044776,
          1.1679104477611941,
          1.1119402985074627,
          1.1473880597014925,
          1.205223880597015,
          1.162313432835821,
          1.1958955223880596,
          1.2406716417910448,
          1.169776119402985,
          1.203358208955224,
          1.2014925373134329,
          1.2705223880597014,
          1.171641791044776,
          1.1567164179104477,
          1.123134328358209,
          1.1791044776119404,
          1.1436567164179106,
          1.164179104477612,
          1.1007462686567164,
          1.1343283582089552,
          1.1604477611940298,
          1.1343283582089552,
          1.1996268656716418,
          1.2257462686567164,
          1.2462686567164178,
          1.166044776119403,
          1.132462686567164,
          1.1026119402985075,
          1.1138059701492538
         ]
        }
       ],
       "layout": {
        "template": {
         "data": {
          "bar": [
           {
            "error_x": {
             "color": "#2a3f5f"
            },
            "error_y": {
             "color": "#2a3f5f"
            },
            "marker": {
             "line": {
              "color": "#E5ECF6",
              "width": 0.5
             },
             "pattern": {
              "fillmode": "overlay",
              "size": 10,
              "solidity": 0.2
             }
            },
            "type": "bar"
           }
          ],
          "barpolar": [
           {
            "marker": {
             "line": {
              "color": "#E5ECF6",
              "width": 0.5
             },
             "pattern": {
              "fillmode": "overlay",
              "size": 10,
              "solidity": 0.2
             }
            },
            "type": "barpolar"
           }
          ],
          "carpet": [
           {
            "aaxis": {
             "endlinecolor": "#2a3f5f",
             "gridcolor": "white",
             "linecolor": "white",
             "minorgridcolor": "white",
             "startlinecolor": "#2a3f5f"
            },
            "baxis": {
             "endlinecolor": "#2a3f5f",
             "gridcolor": "white",
             "linecolor": "white",
             "minorgridcolor": "white",
             "startlinecolor": "#2a3f5f"
            },
            "type": "carpet"
           }
          ],
          "choropleth": [
           {
            "colorbar": {
             "outlinewidth": 0,
             "ticks": ""
            },
            "type": "choropleth"
           }
          ],
          "contour": [
           {
            "colorbar": {
             "outlinewidth": 0,
             "ticks": ""
            },
            "colorscale": [
             [
              0,
              "#0d0887"
             ],
             [
              0.1111111111111111,
              "#46039f"
             ],
             [
              0.2222222222222222,
              "#7201a8"
             ],
             [
              0.3333333333333333,
              "#9c179e"
             ],
             [
              0.4444444444444444,
              "#bd3786"
             ],
             [
              0.5555555555555556,
              "#d8576b"
             ],
             [
              0.6666666666666666,
              "#ed7953"
             ],
             [
              0.7777777777777778,
              "#fb9f3a"
             ],
             [
              0.8888888888888888,
              "#fdca26"
             ],
             [
              1,
              "#f0f921"
             ]
            ],
            "type": "contour"
           }
          ],
          "contourcarpet": [
           {
            "colorbar": {
             "outlinewidth": 0,
             "ticks": ""
            },
            "type": "contourcarpet"
           }
          ],
          "heatmap": [
           {
            "colorbar": {
             "outlinewidth": 0,
             "ticks": ""
            },
            "colorscale": [
             [
              0,
              "#0d0887"
             ],
             [
              0.1111111111111111,
              "#46039f"
             ],
             [
              0.2222222222222222,
              "#7201a8"
             ],
             [
              0.3333333333333333,
              "#9c179e"
             ],
             [
              0.4444444444444444,
              "#bd3786"
             ],
             [
              0.5555555555555556,
              "#d8576b"
             ],
             [
              0.6666666666666666,
              "#ed7953"
             ],
             [
              0.7777777777777778,
              "#fb9f3a"
             ],
             [
              0.8888888888888888,
              "#fdca26"
             ],
             [
              1,
              "#f0f921"
             ]
            ],
            "type": "heatmap"
           }
          ],
          "heatmapgl": [
           {
            "colorbar": {
             "outlinewidth": 0,
             "ticks": ""
            },
            "colorscale": [
             [
              0,
              "#0d0887"
             ],
             [
              0.1111111111111111,
              "#46039f"
             ],
             [
              0.2222222222222222,
              "#7201a8"
             ],
             [
              0.3333333333333333,
              "#9c179e"
             ],
             [
              0.4444444444444444,
              "#bd3786"
             ],
             [
              0.5555555555555556,
              "#d8576b"
             ],
             [
              0.6666666666666666,
              "#ed7953"
             ],
             [
              0.7777777777777778,
              "#fb9f3a"
             ],
             [
              0.8888888888888888,
              "#fdca26"
             ],
             [
              1,
              "#f0f921"
             ]
            ],
            "type": "heatmapgl"
           }
          ],
          "histogram": [
           {
            "marker": {
             "pattern": {
              "fillmode": "overlay",
              "size": 10,
              "solidity": 0.2
             }
            },
            "type": "histogram"
           }
          ],
          "histogram2d": [
           {
            "colorbar": {
             "outlinewidth": 0,
             "ticks": ""
            },
            "colorscale": [
             [
              0,
              "#0d0887"
             ],
             [
              0.1111111111111111,
              "#46039f"
             ],
             [
              0.2222222222222222,
              "#7201a8"
             ],
             [
              0.3333333333333333,
              "#9c179e"
             ],
             [
              0.4444444444444444,
              "#bd3786"
             ],
             [
              0.5555555555555556,
              "#d8576b"
             ],
             [
              0.6666666666666666,
              "#ed7953"
             ],
             [
              0.7777777777777778,
              "#fb9f3a"
             ],
             [
              0.8888888888888888,
              "#fdca26"
             ],
             [
              1,
              "#f0f921"
             ]
            ],
            "type": "histogram2d"
           }
          ],
          "histogram2dcontour": [
           {
            "colorbar": {
             "outlinewidth": 0,
             "ticks": ""
            },
            "colorscale": [
             [
              0,
              "#0d0887"
             ],
             [
              0.1111111111111111,
              "#46039f"
             ],
             [
              0.2222222222222222,
              "#7201a8"
             ],
             [
              0.3333333333333333,
              "#9c179e"
             ],
             [
              0.4444444444444444,
              "#bd3786"
             ],
             [
              0.5555555555555556,
              "#d8576b"
             ],
             [
              0.6666666666666666,
              "#ed7953"
             ],
             [
              0.7777777777777778,
              "#fb9f3a"
             ],
             [
              0.8888888888888888,
              "#fdca26"
             ],
             [
              1,
              "#f0f921"
             ]
            ],
            "type": "histogram2dcontour"
           }
          ],
          "mesh3d": [
           {
            "colorbar": {
             "outlinewidth": 0,
             "ticks": ""
            },
            "type": "mesh3d"
           }
          ],
          "parcoords": [
           {
            "line": {
             "colorbar": {
              "outlinewidth": 0,
              "ticks": ""
             }
            },
            "type": "parcoords"
           }
          ],
          "pie": [
           {
            "automargin": true,
            "type": "pie"
           }
          ],
          "scatter": [
           {
            "fillpattern": {
             "fillmode": "overlay",
             "size": 10,
             "solidity": 0.2
            },
            "type": "scatter"
           }
          ],
          "scatter3d": [
           {
            "line": {
             "colorbar": {
              "outlinewidth": 0,
              "ticks": ""
             }
            },
            "marker": {
             "colorbar": {
              "outlinewidth": 0,
              "ticks": ""
             }
            },
            "type": "scatter3d"
           }
          ],
          "scattercarpet": [
           {
            "marker": {
             "colorbar": {
              "outlinewidth": 0,
              "ticks": ""
             }
            },
            "type": "scattercarpet"
           }
          ],
          "scattergeo": [
           {
            "marker": {
             "colorbar": {
              "outlinewidth": 0,
              "ticks": ""
             }
            },
            "type": "scattergeo"
           }
          ],
          "scattergl": [
           {
            "marker": {
             "colorbar": {
              "outlinewidth": 0,
              "ticks": ""
             }
            },
            "type": "scattergl"
           }
          ],
          "scattermapbox": [
           {
            "marker": {
             "colorbar": {
              "outlinewidth": 0,
              "ticks": ""
             }
            },
            "type": "scattermapbox"
           }
          ],
          "scatterpolar": [
           {
            "marker": {
             "colorbar": {
              "outlinewidth": 0,
              "ticks": ""
             }
            },
            "type": "scatterpolar"
           }
          ],
          "scatterpolargl": [
           {
            "marker": {
             "colorbar": {
              "outlinewidth": 0,
              "ticks": ""
             }
            },
            "type": "scatterpolargl"
           }
          ],
          "scatterternary": [
           {
            "marker": {
             "colorbar": {
              "outlinewidth": 0,
              "ticks": ""
             }
            },
            "type": "scatterternary"
           }
          ],
          "surface": [
           {
            "colorbar": {
             "outlinewidth": 0,
             "ticks": ""
            },
            "colorscale": [
             [
              0,
              "#0d0887"
             ],
             [
              0.1111111111111111,
              "#46039f"
             ],
             [
              0.2222222222222222,
              "#7201a8"
             ],
             [
              0.3333333333333333,
              "#9c179e"
             ],
             [
              0.4444444444444444,
              "#bd3786"
             ],
             [
              0.5555555555555556,
              "#d8576b"
             ],
             [
              0.6666666666666666,
              "#ed7953"
             ],
             [
              0.7777777777777778,
              "#fb9f3a"
             ],
             [
              0.8888888888888888,
              "#fdca26"
             ],
             [
              1,
              "#f0f921"
             ]
            ],
            "type": "surface"
           }
          ],
          "table": [
           {
            "cells": {
             "fill": {
              "color": "#EBF0F8"
             },
             "line": {
              "color": "white"
             }
            },
            "header": {
             "fill": {
              "color": "#C8D4E3"
             },
             "line": {
              "color": "white"
             }
            },
            "type": "table"
           }
          ]
         },
         "layout": {
          "annotationdefaults": {
           "arrowcolor": "#2a3f5f",
           "arrowhead": 0,
           "arrowwidth": 1
          },
          "autotypenumbers": "strict",
          "coloraxis": {
           "colorbar": {
            "outlinewidth": 0,
            "ticks": ""
           }
          },
          "colorscale": {
           "diverging": [
            [
             0,
             "#8e0152"
            ],
            [
             0.1,
             "#c51b7d"
            ],
            [
             0.2,
             "#de77ae"
            ],
            [
             0.3,
             "#f1b6da"
            ],
            [
             0.4,
             "#fde0ef"
            ],
            [
             0.5,
             "#f7f7f7"
            ],
            [
             0.6,
             "#e6f5d0"
            ],
            [
             0.7,
             "#b8e186"
            ],
            [
             0.8,
             "#7fbc41"
            ],
            [
             0.9,
             "#4d9221"
            ],
            [
             1,
             "#276419"
            ]
           ],
           "sequential": [
            [
             0,
             "#0d0887"
            ],
            [
             0.1111111111111111,
             "#46039f"
            ],
            [
             0.2222222222222222,
             "#7201a8"
            ],
            [
             0.3333333333333333,
             "#9c179e"
            ],
            [
             0.4444444444444444,
             "#bd3786"
            ],
            [
             0.5555555555555556,
             "#d8576b"
            ],
            [
             0.6666666666666666,
             "#ed7953"
            ],
            [
             0.7777777777777778,
             "#fb9f3a"
            ],
            [
             0.8888888888888888,
             "#fdca26"
            ],
            [
             1,
             "#f0f921"
            ]
           ],
           "sequentialminus": [
            [
             0,
             "#0d0887"
            ],
            [
             0.1111111111111111,
             "#46039f"
            ],
            [
             0.2222222222222222,
             "#7201a8"
            ],
            [
             0.3333333333333333,
             "#9c179e"
            ],
            [
             0.4444444444444444,
             "#bd3786"
            ],
            [
             0.5555555555555556,
             "#d8576b"
            ],
            [
             0.6666666666666666,
             "#ed7953"
            ],
            [
             0.7777777777777778,
             "#fb9f3a"
            ],
            [
             0.8888888888888888,
             "#fdca26"
            ],
            [
             1,
             "#f0f921"
            ]
           ]
          },
          "colorway": [
           "#636efa",
           "#EF553B",
           "#00cc96",
           "#ab63fa",
           "#FFA15A",
           "#19d3f3",
           "#FF6692",
           "#B6E880",
           "#FF97FF",
           "#FECB52"
          ],
          "font": {
           "color": "#2a3f5f"
          },
          "geo": {
           "bgcolor": "white",
           "lakecolor": "white",
           "landcolor": "#E5ECF6",
           "showlakes": true,
           "showland": true,
           "subunitcolor": "white"
          },
          "hoverlabel": {
           "align": "left"
          },
          "hovermode": "closest",
          "mapbox": {
           "style": "light"
          },
          "paper_bgcolor": "white",
          "plot_bgcolor": "#E5ECF6",
          "polar": {
           "angularaxis": {
            "gridcolor": "white",
            "linecolor": "white",
            "ticks": ""
           },
           "bgcolor": "#E5ECF6",
           "radialaxis": {
            "gridcolor": "white",
            "linecolor": "white",
            "ticks": ""
           }
          },
          "scene": {
           "xaxis": {
            "backgroundcolor": "#E5ECF6",
            "gridcolor": "white",
            "gridwidth": 2,
            "linecolor": "white",
            "showbackground": true,
            "ticks": "",
            "zerolinecolor": "white"
           },
           "yaxis": {
            "backgroundcolor": "#E5ECF6",
            "gridcolor": "white",
            "gridwidth": 2,
            "linecolor": "white",
            "showbackground": true,
            "ticks": "",
            "zerolinecolor": "white"
           },
           "zaxis": {
            "backgroundcolor": "#E5ECF6",
            "gridcolor": "white",
            "gridwidth": 2,
            "linecolor": "white",
            "showbackground": true,
            "ticks": "",
            "zerolinecolor": "white"
           }
          },
          "shapedefaults": {
           "line": {
            "color": "#2a3f5f"
           }
          },
          "ternary": {
           "aaxis": {
            "gridcolor": "white",
            "linecolor": "white",
            "ticks": ""
           },
           "baxis": {
            "gridcolor": "white",
            "linecolor": "white",
            "ticks": ""
           },
           "bgcolor": "#E5ECF6",
           "caxis": {
            "gridcolor": "white",
            "linecolor": "white",
            "ticks": ""
           }
          },
          "title": {
           "x": 0.05
          },
          "xaxis": {
           "automargin": true,
           "gridcolor": "white",
           "linecolor": "white",
           "ticks": "",
           "title": {
            "standoff": 15
           },
           "zerolinecolor": "white",
           "zerolinewidth": 2
          },
          "yaxis": {
           "automargin": true,
           "gridcolor": "white",
           "linecolor": "white",
           "ticks": "",
           "title": {
            "standoff": 15
           },
           "zerolinecolor": "white",
           "zerolinewidth": 2
          }
         }
        },
        "title": {
         "text": "Training and Testing Loss Over Epochs"
        },
        "xaxis": {
         "title": {
          "text": "Number of Estimators (Epochs)"
         }
        },
        "yaxis": {
         "title": {
          "text": "MSE"
         }
        }
       }
      }
     },
     "metadata": {},
     "output_type": "display_data"
    }
   ],
   "source": [
    "# Create a line plot for both training and testing MSE using Plotly\n",
    "fig = go.Figure()\n",
    "\n",
    "fig.add_trace(go.Scatter(x=np.arange(1, n_estimators + 1), y=training_loss, mode='lines', name='Training Loss'))\n",
    "fig.add_trace(go.Scatter(x=np.arange(1, n_estimators + 1), y=testing_loss, mode='lines', name='Testing Loss'))\n",
    "\n",
    "fig.update_layout(title='Training and Testing Loss Over Epochs',\n",
    "                  xaxis_title='Number of Estimators (Epochs)',\n",
    "                  yaxis_title='MSE')\n",
    "\n",
    "fig.show()\n"
   ]
  },
  {
   "cell_type": "code",
   "execution_count": 19,
   "metadata": {},
   "outputs": [
    {
     "data": {
      "application/vnd.plotly.v1+json": {
       "config": {
        "plotlyServerURL": "https://plot.ly"
       },
       "data": [
        {
         "mode": "lines",
         "name": "Training Accuracy",
         "type": "scatter",
         "x": [
          1,
          2,
          3,
          4,
          5,
          6,
          7,
          8,
          9,
          10,
          11,
          12,
          13,
          14,
          15,
          16,
          17,
          18,
          19,
          20,
          21,
          22,
          23,
          24,
          25,
          26,
          27,
          28,
          29,
          30,
          31,
          32,
          33,
          34,
          35,
          36,
          37,
          38,
          39,
          40,
          41,
          42,
          43,
          44,
          45,
          46,
          47,
          48,
          49,
          50,
          51,
          52,
          53,
          54,
          55,
          56,
          57,
          58,
          59,
          60,
          61,
          62,
          63,
          64,
          65,
          66,
          67,
          68,
          69,
          70,
          71,
          72,
          73,
          74,
          75,
          76,
          77,
          78,
          79,
          80,
          81,
          82,
          83,
          84,
          85,
          86,
          87,
          88,
          89,
          90,
          91,
          92,
          93,
          94,
          95,
          96,
          97,
          98,
          99,
          100
         ],
         "y": [
          0.43236940298507465,
          0.46828358208955223,
          0.3069029850746269,
          0.24860074626865672,
          0.30923507462686567,
          0.4281716417910448,
          0.4300373134328358,
          0.4430970149253731,
          0.4818097014925373,
          0.480410447761194,
          0.48367537313432835,
          0.4780783582089552,
          0.4631529850746269,
          0.44449626865671643,
          0.44076492537313433,
          0.45475746268656714,
          0.4496268656716418,
          0.43330223880597013,
          0.43097014925373134,
          0.40111940298507465,
          0.40625,
          0.40531716417910446,
          0.40531716417910446,
          0.3614738805970149,
          0.353544776119403,
          0.37826492537313433,
          0.384794776119403,
          0.38759328358208955,
          0.3871268656716418,
          0.39925373134328357,
          0.4006529850746269,
          0.40205223880597013,
          0.39552238805970147,
          0.3824626865671642,
          0.404384328358209,
          0.40158582089552236,
          0.39972014925373134,
          0.40158582089552236,
          0.4239738805970149,
          0.43470149253731344,
          0.43283582089552236,
          0.42723880597014924,
          0.42863805970149255,
          0.43050373134328357,
          0.4388992537313433,
          0.4533582089552239,
          0.4449626865671642,
          0.4650186567164179,
          0.4631529850746269,
          0.447294776119403,
          0.45009328358208955,
          0.449160447761194,
          0.4412313432835821,
          0.44776119402985076,
          0.44869402985074625,
          0.44822761194029853,
          0.4300373134328358,
          0.4291044776119403,
          0.4388992537313433,
          0.457089552238806,
          0.45382462686567165,
          0.4612873134328358,
          0.4603544776119403,
          0.44776119402985076,
          0.47341417910447764,
          0.47201492537313433,
          0.47154850746268656,
          0.4780783582089552,
          0.47761194029850745,
          0.4832089552238806,
          0.4701492537313433,
          0.4743470149253731,
          0.46175373134328357,
          0.4612873134328358,
          0.4626865671641791,
          0.4556902985074627,
          0.46455223880597013,
          0.4673507462686567,
          0.466884328358209,
          0.46968283582089554,
          0.4608208955223881,
          0.4603544776119403,
          0.4608208955223881,
          0.4808768656716418,
          0.45755597014925375,
          0.4724813432835821,
          0.46828358208955223,
          0.4841417910447761,
          0.46875,
          0.4542910447761194,
          0.47201492537313433,
          0.47574626865671643,
          0.4701492537313433,
          0.46408582089552236,
          0.47294776119402987,
          0.47901119402985076,
          0.47574626865671643,
          0.49300373134328357,
          0.4822761194029851,
          0.48973880597014924
         ]
        },
        {
         "mode": "lines",
         "name": "Testing Accuracy",
         "type": "scatter",
         "x": [
          1,
          2,
          3,
          4,
          5,
          6,
          7,
          8,
          9,
          10,
          11,
          12,
          13,
          14,
          15,
          16,
          17,
          18,
          19,
          20,
          21,
          22,
          23,
          24,
          25,
          26,
          27,
          28,
          29,
          30,
          31,
          32,
          33,
          34,
          35,
          36,
          37,
          38,
          39,
          40,
          41,
          42,
          43,
          44,
          45,
          46,
          47,
          48,
          49,
          50,
          51,
          52,
          53,
          54,
          55,
          56,
          57,
          58,
          59,
          60,
          61,
          62,
          63,
          64,
          65,
          66,
          67,
          68,
          69,
          70,
          71,
          72,
          73,
          74,
          75,
          76,
          77,
          78,
          79,
          80,
          81,
          82,
          83,
          84,
          85,
          86,
          87,
          88,
          89,
          90,
          91,
          92,
          93,
          94,
          95,
          96,
          97,
          98,
          99,
          100
         ],
         "y": [
          0.43470149253731344,
          0.48134328358208955,
          0.3041044776119403,
          0.25,
          0.31529850746268656,
          0.4291044776119403,
          0.4496268656716418,
          0.44216417910447764,
          0.5093283582089553,
          0.4944029850746269,
          0.48507462686567165,
          0.498134328358209,
          0.48507462686567165,
          0.47574626865671643,
          0.47388059701492535,
          0.4552238805970149,
          0.46455223880597013,
          0.44216417910447764,
          0.44402985074626866,
          0.42350746268656714,
          0.43283582089552236,
          0.4216417910447761,
          0.4197761194029851,
          0.38992537313432835,
          0.3843283582089552,
          0.42723880597014924,
          0.43283582089552236,
          0.44216417910447764,
          0.43097014925373134,
          0.43097014925373134,
          0.44029850746268656,
          0.4253731343283582,
          0.416044776119403,
          0.4048507462686567,
          0.43843283582089554,
          0.42350746268656714,
          0.4048507462686567,
          0.42350746268656714,
          0.43470149253731344,
          0.46455223880597013,
          0.4533582089552239,
          0.44216417910447764,
          0.43843283582089554,
          0.4608208955223881,
          0.4664179104477612,
          0.48134328358208955,
          0.47201492537313433,
          0.5,
          0.47761194029850745,
          0.4832089552238806,
          0.48134328358208955,
          0.46828358208955223,
          0.47388059701492535,
          0.47201492537313433,
          0.4701492537313433,
          0.4664179104477612,
          0.458955223880597,
          0.48507462686567165,
          0.47574626865671643,
          0.48134328358208955,
          0.4906716417910448,
          0.48880597014925375,
          0.47388059701492535,
          0.47388059701492535,
          0.47947761194029853,
          0.48880597014925375,
          0.5,
          0.5111940298507462,
          0.503731343283582,
          0.5,
          0.4925373134328358,
          0.4944029850746269,
          0.498134328358209,
          0.5093283582089553,
          0.4906716417910448,
          0.47761194029850745,
          0.4869402985074627,
          0.4869402985074627,
          0.4701492537313433,
          0.48507462686567165,
          0.47947761194029853,
          0.4701492537313433,
          0.4626865671641791,
          0.4832089552238806,
          0.4869402985074627,
          0.498134328358209,
          0.47574626865671643,
          0.47201492537313433,
          0.46828358208955223,
          0.4869402985074627,
          0.4925373134328358,
          0.5,
          0.498134328358209,
          0.4832089552238806,
          0.4906716417910448,
          0.48134328358208955,
          0.4944029850746269,
          0.5167910447761194,
          0.5186567164179104,
          0.5130597014925373
         ]
        }
       ],
       "layout": {
        "template": {
         "data": {
          "bar": [
           {
            "error_x": {
             "color": "#2a3f5f"
            },
            "error_y": {
             "color": "#2a3f5f"
            },
            "marker": {
             "line": {
              "color": "#E5ECF6",
              "width": 0.5
             },
             "pattern": {
              "fillmode": "overlay",
              "size": 10,
              "solidity": 0.2
             }
            },
            "type": "bar"
           }
          ],
          "barpolar": [
           {
            "marker": {
             "line": {
              "color": "#E5ECF6",
              "width": 0.5
             },
             "pattern": {
              "fillmode": "overlay",
              "size": 10,
              "solidity": 0.2
             }
            },
            "type": "barpolar"
           }
          ],
          "carpet": [
           {
            "aaxis": {
             "endlinecolor": "#2a3f5f",
             "gridcolor": "white",
             "linecolor": "white",
             "minorgridcolor": "white",
             "startlinecolor": "#2a3f5f"
            },
            "baxis": {
             "endlinecolor": "#2a3f5f",
             "gridcolor": "white",
             "linecolor": "white",
             "minorgridcolor": "white",
             "startlinecolor": "#2a3f5f"
            },
            "type": "carpet"
           }
          ],
          "choropleth": [
           {
            "colorbar": {
             "outlinewidth": 0,
             "ticks": ""
            },
            "type": "choropleth"
           }
          ],
          "contour": [
           {
            "colorbar": {
             "outlinewidth": 0,
             "ticks": ""
            },
            "colorscale": [
             [
              0,
              "#0d0887"
             ],
             [
              0.1111111111111111,
              "#46039f"
             ],
             [
              0.2222222222222222,
              "#7201a8"
             ],
             [
              0.3333333333333333,
              "#9c179e"
             ],
             [
              0.4444444444444444,
              "#bd3786"
             ],
             [
              0.5555555555555556,
              "#d8576b"
             ],
             [
              0.6666666666666666,
              "#ed7953"
             ],
             [
              0.7777777777777778,
              "#fb9f3a"
             ],
             [
              0.8888888888888888,
              "#fdca26"
             ],
             [
              1,
              "#f0f921"
             ]
            ],
            "type": "contour"
           }
          ],
          "contourcarpet": [
           {
            "colorbar": {
             "outlinewidth": 0,
             "ticks": ""
            },
            "type": "contourcarpet"
           }
          ],
          "heatmap": [
           {
            "colorbar": {
             "outlinewidth": 0,
             "ticks": ""
            },
            "colorscale": [
             [
              0,
              "#0d0887"
             ],
             [
              0.1111111111111111,
              "#46039f"
             ],
             [
              0.2222222222222222,
              "#7201a8"
             ],
             [
              0.3333333333333333,
              "#9c179e"
             ],
             [
              0.4444444444444444,
              "#bd3786"
             ],
             [
              0.5555555555555556,
              "#d8576b"
             ],
             [
              0.6666666666666666,
              "#ed7953"
             ],
             [
              0.7777777777777778,
              "#fb9f3a"
             ],
             [
              0.8888888888888888,
              "#fdca26"
             ],
             [
              1,
              "#f0f921"
             ]
            ],
            "type": "heatmap"
           }
          ],
          "heatmapgl": [
           {
            "colorbar": {
             "outlinewidth": 0,
             "ticks": ""
            },
            "colorscale": [
             [
              0,
              "#0d0887"
             ],
             [
              0.1111111111111111,
              "#46039f"
             ],
             [
              0.2222222222222222,
              "#7201a8"
             ],
             [
              0.3333333333333333,
              "#9c179e"
             ],
             [
              0.4444444444444444,
              "#bd3786"
             ],
             [
              0.5555555555555556,
              "#d8576b"
             ],
             [
              0.6666666666666666,
              "#ed7953"
             ],
             [
              0.7777777777777778,
              "#fb9f3a"
             ],
             [
              0.8888888888888888,
              "#fdca26"
             ],
             [
              1,
              "#f0f921"
             ]
            ],
            "type": "heatmapgl"
           }
          ],
          "histogram": [
           {
            "marker": {
             "pattern": {
              "fillmode": "overlay",
              "size": 10,
              "solidity": 0.2
             }
            },
            "type": "histogram"
           }
          ],
          "histogram2d": [
           {
            "colorbar": {
             "outlinewidth": 0,
             "ticks": ""
            },
            "colorscale": [
             [
              0,
              "#0d0887"
             ],
             [
              0.1111111111111111,
              "#46039f"
             ],
             [
              0.2222222222222222,
              "#7201a8"
             ],
             [
              0.3333333333333333,
              "#9c179e"
             ],
             [
              0.4444444444444444,
              "#bd3786"
             ],
             [
              0.5555555555555556,
              "#d8576b"
             ],
             [
              0.6666666666666666,
              "#ed7953"
             ],
             [
              0.7777777777777778,
              "#fb9f3a"
             ],
             [
              0.8888888888888888,
              "#fdca26"
             ],
             [
              1,
              "#f0f921"
             ]
            ],
            "type": "histogram2d"
           }
          ],
          "histogram2dcontour": [
           {
            "colorbar": {
             "outlinewidth": 0,
             "ticks": ""
            },
            "colorscale": [
             [
              0,
              "#0d0887"
             ],
             [
              0.1111111111111111,
              "#46039f"
             ],
             [
              0.2222222222222222,
              "#7201a8"
             ],
             [
              0.3333333333333333,
              "#9c179e"
             ],
             [
              0.4444444444444444,
              "#bd3786"
             ],
             [
              0.5555555555555556,
              "#d8576b"
             ],
             [
              0.6666666666666666,
              "#ed7953"
             ],
             [
              0.7777777777777778,
              "#fb9f3a"
             ],
             [
              0.8888888888888888,
              "#fdca26"
             ],
             [
              1,
              "#f0f921"
             ]
            ],
            "type": "histogram2dcontour"
           }
          ],
          "mesh3d": [
           {
            "colorbar": {
             "outlinewidth": 0,
             "ticks": ""
            },
            "type": "mesh3d"
           }
          ],
          "parcoords": [
           {
            "line": {
             "colorbar": {
              "outlinewidth": 0,
              "ticks": ""
             }
            },
            "type": "parcoords"
           }
          ],
          "pie": [
           {
            "automargin": true,
            "type": "pie"
           }
          ],
          "scatter": [
           {
            "fillpattern": {
             "fillmode": "overlay",
             "size": 10,
             "solidity": 0.2
            },
            "type": "scatter"
           }
          ],
          "scatter3d": [
           {
            "line": {
             "colorbar": {
              "outlinewidth": 0,
              "ticks": ""
             }
            },
            "marker": {
             "colorbar": {
              "outlinewidth": 0,
              "ticks": ""
             }
            },
            "type": "scatter3d"
           }
          ],
          "scattercarpet": [
           {
            "marker": {
             "colorbar": {
              "outlinewidth": 0,
              "ticks": ""
             }
            },
            "type": "scattercarpet"
           }
          ],
          "scattergeo": [
           {
            "marker": {
             "colorbar": {
              "outlinewidth": 0,
              "ticks": ""
             }
            },
            "type": "scattergeo"
           }
          ],
          "scattergl": [
           {
            "marker": {
             "colorbar": {
              "outlinewidth": 0,
              "ticks": ""
             }
            },
            "type": "scattergl"
           }
          ],
          "scattermapbox": [
           {
            "marker": {
             "colorbar": {
              "outlinewidth": 0,
              "ticks": ""
             }
            },
            "type": "scattermapbox"
           }
          ],
          "scatterpolar": [
           {
            "marker": {
             "colorbar": {
              "outlinewidth": 0,
              "ticks": ""
             }
            },
            "type": "scatterpolar"
           }
          ],
          "scatterpolargl": [
           {
            "marker": {
             "colorbar": {
              "outlinewidth": 0,
              "ticks": ""
             }
            },
            "type": "scatterpolargl"
           }
          ],
          "scatterternary": [
           {
            "marker": {
             "colorbar": {
              "outlinewidth": 0,
              "ticks": ""
             }
            },
            "type": "scatterternary"
           }
          ],
          "surface": [
           {
            "colorbar": {
             "outlinewidth": 0,
             "ticks": ""
            },
            "colorscale": [
             [
              0,
              "#0d0887"
             ],
             [
              0.1111111111111111,
              "#46039f"
             ],
             [
              0.2222222222222222,
              "#7201a8"
             ],
             [
              0.3333333333333333,
              "#9c179e"
             ],
             [
              0.4444444444444444,
              "#bd3786"
             ],
             [
              0.5555555555555556,
              "#d8576b"
             ],
             [
              0.6666666666666666,
              "#ed7953"
             ],
             [
              0.7777777777777778,
              "#fb9f3a"
             ],
             [
              0.8888888888888888,
              "#fdca26"
             ],
             [
              1,
              "#f0f921"
             ]
            ],
            "type": "surface"
           }
          ],
          "table": [
           {
            "cells": {
             "fill": {
              "color": "#EBF0F8"
             },
             "line": {
              "color": "white"
             }
            },
            "header": {
             "fill": {
              "color": "#C8D4E3"
             },
             "line": {
              "color": "white"
             }
            },
            "type": "table"
           }
          ]
         },
         "layout": {
          "annotationdefaults": {
           "arrowcolor": "#2a3f5f",
           "arrowhead": 0,
           "arrowwidth": 1
          },
          "autotypenumbers": "strict",
          "coloraxis": {
           "colorbar": {
            "outlinewidth": 0,
            "ticks": ""
           }
          },
          "colorscale": {
           "diverging": [
            [
             0,
             "#8e0152"
            ],
            [
             0.1,
             "#c51b7d"
            ],
            [
             0.2,
             "#de77ae"
            ],
            [
             0.3,
             "#f1b6da"
            ],
            [
             0.4,
             "#fde0ef"
            ],
            [
             0.5,
             "#f7f7f7"
            ],
            [
             0.6,
             "#e6f5d0"
            ],
            [
             0.7,
             "#b8e186"
            ],
            [
             0.8,
             "#7fbc41"
            ],
            [
             0.9,
             "#4d9221"
            ],
            [
             1,
             "#276419"
            ]
           ],
           "sequential": [
            [
             0,
             "#0d0887"
            ],
            [
             0.1111111111111111,
             "#46039f"
            ],
            [
             0.2222222222222222,
             "#7201a8"
            ],
            [
             0.3333333333333333,
             "#9c179e"
            ],
            [
             0.4444444444444444,
             "#bd3786"
            ],
            [
             0.5555555555555556,
             "#d8576b"
            ],
            [
             0.6666666666666666,
             "#ed7953"
            ],
            [
             0.7777777777777778,
             "#fb9f3a"
            ],
            [
             0.8888888888888888,
             "#fdca26"
            ],
            [
             1,
             "#f0f921"
            ]
           ],
           "sequentialminus": [
            [
             0,
             "#0d0887"
            ],
            [
             0.1111111111111111,
             "#46039f"
            ],
            [
             0.2222222222222222,
             "#7201a8"
            ],
            [
             0.3333333333333333,
             "#9c179e"
            ],
            [
             0.4444444444444444,
             "#bd3786"
            ],
            [
             0.5555555555555556,
             "#d8576b"
            ],
            [
             0.6666666666666666,
             "#ed7953"
            ],
            [
             0.7777777777777778,
             "#fb9f3a"
            ],
            [
             0.8888888888888888,
             "#fdca26"
            ],
            [
             1,
             "#f0f921"
            ]
           ]
          },
          "colorway": [
           "#636efa",
           "#EF553B",
           "#00cc96",
           "#ab63fa",
           "#FFA15A",
           "#19d3f3",
           "#FF6692",
           "#B6E880",
           "#FF97FF",
           "#FECB52"
          ],
          "font": {
           "color": "#2a3f5f"
          },
          "geo": {
           "bgcolor": "white",
           "lakecolor": "white",
           "landcolor": "#E5ECF6",
           "showlakes": true,
           "showland": true,
           "subunitcolor": "white"
          },
          "hoverlabel": {
           "align": "left"
          },
          "hovermode": "closest",
          "mapbox": {
           "style": "light"
          },
          "paper_bgcolor": "white",
          "plot_bgcolor": "#E5ECF6",
          "polar": {
           "angularaxis": {
            "gridcolor": "white",
            "linecolor": "white",
            "ticks": ""
           },
           "bgcolor": "#E5ECF6",
           "radialaxis": {
            "gridcolor": "white",
            "linecolor": "white",
            "ticks": ""
           }
          },
          "scene": {
           "xaxis": {
            "backgroundcolor": "#E5ECF6",
            "gridcolor": "white",
            "gridwidth": 2,
            "linecolor": "white",
            "showbackground": true,
            "ticks": "",
            "zerolinecolor": "white"
           },
           "yaxis": {
            "backgroundcolor": "#E5ECF6",
            "gridcolor": "white",
            "gridwidth": 2,
            "linecolor": "white",
            "showbackground": true,
            "ticks": "",
            "zerolinecolor": "white"
           },
           "zaxis": {
            "backgroundcolor": "#E5ECF6",
            "gridcolor": "white",
            "gridwidth": 2,
            "linecolor": "white",
            "showbackground": true,
            "ticks": "",
            "zerolinecolor": "white"
           }
          },
          "shapedefaults": {
           "line": {
            "color": "#2a3f5f"
           }
          },
          "ternary": {
           "aaxis": {
            "gridcolor": "white",
            "linecolor": "white",
            "ticks": ""
           },
           "baxis": {
            "gridcolor": "white",
            "linecolor": "white",
            "ticks": ""
           },
           "bgcolor": "#E5ECF6",
           "caxis": {
            "gridcolor": "white",
            "linecolor": "white",
            "ticks": ""
           }
          },
          "title": {
           "x": 0.05
          },
          "xaxis": {
           "automargin": true,
           "gridcolor": "white",
           "linecolor": "white",
           "ticks": "",
           "title": {
            "standoff": 15
           },
           "zerolinecolor": "white",
           "zerolinewidth": 2
          },
          "yaxis": {
           "automargin": true,
           "gridcolor": "white",
           "linecolor": "white",
           "ticks": "",
           "title": {
            "standoff": 15
           },
           "zerolinecolor": "white",
           "zerolinewidth": 2
          }
         }
        },
        "title": {
         "text": "Training and Testing Accuracy Over Epochs"
        },
        "xaxis": {
         "title": {
          "text": "Number of Estimators (Epochs)"
         }
        },
        "yaxis": {
         "title": {
          "text": "Accuracy"
         }
        }
       }
      }
     },
     "metadata": {},
     "output_type": "display_data"
    }
   ],
   "source": [
    "# Create a line plot for both training and testing accuracy using Plotly\n",
    "fig = go.Figure()\n",
    "\n",
    "fig.add_trace(go.Scatter(x=np.arange(1, n_estimators + 1), y=training_accuracy, mode='lines', name='Training Accuracy'))\n",
    "fig.add_trace(go.Scatter(x=np.arange(1, n_estimators + 1), y=testing_accuracy, mode='lines', name='Testing Accuracy'))\n",
    "\n",
    "fig.update_layout(title='Training and Testing Accuracy Over Epochs',\n",
    "                  xaxis_title='Number of Estimators (Epochs)',\n",
    "                  yaxis_title='Accuracy')\n",
    "\n",
    "fig.show()"
   ]
  },
  {
   "cell_type": "markdown",
   "metadata": {},
   "source": [
    "### 25 features with Recursive Feature Extraction"
   ]
  },
  {
   "cell_type": "code",
   "execution_count": 20,
   "metadata": {},
   "outputs": [
    {
     "data": {
      "text/html": [
       "<style>#sk-container-id-1 {color: black;}#sk-container-id-1 pre{padding: 0;}#sk-container-id-1 div.sk-toggleable {background-color: white;}#sk-container-id-1 label.sk-toggleable__label {cursor: pointer;display: block;width: 100%;margin-bottom: 0;padding: 0.3em;box-sizing: border-box;text-align: center;}#sk-container-id-1 label.sk-toggleable__label-arrow:before {content: \"▸\";float: left;margin-right: 0.25em;color: #696969;}#sk-container-id-1 label.sk-toggleable__label-arrow:hover:before {color: black;}#sk-container-id-1 div.sk-estimator:hover label.sk-toggleable__label-arrow:before {color: black;}#sk-container-id-1 div.sk-toggleable__content {max-height: 0;max-width: 0;overflow: hidden;text-align: left;background-color: #f0f8ff;}#sk-container-id-1 div.sk-toggleable__content pre {margin: 0.2em;color: black;border-radius: 0.25em;background-color: #f0f8ff;}#sk-container-id-1 input.sk-toggleable__control:checked~div.sk-toggleable__content {max-height: 200px;max-width: 100%;overflow: auto;}#sk-container-id-1 input.sk-toggleable__control:checked~label.sk-toggleable__label-arrow:before {content: \"▾\";}#sk-container-id-1 div.sk-estimator input.sk-toggleable__control:checked~label.sk-toggleable__label {background-color: #d4ebff;}#sk-container-id-1 div.sk-label input.sk-toggleable__control:checked~label.sk-toggleable__label {background-color: #d4ebff;}#sk-container-id-1 input.sk-hidden--visually {border: 0;clip: rect(1px 1px 1px 1px);clip: rect(1px, 1px, 1px, 1px);height: 1px;margin: -1px;overflow: hidden;padding: 0;position: absolute;width: 1px;}#sk-container-id-1 div.sk-estimator {font-family: monospace;background-color: #f0f8ff;border: 1px dotted black;border-radius: 0.25em;box-sizing: border-box;margin-bottom: 0.5em;}#sk-container-id-1 div.sk-estimator:hover {background-color: #d4ebff;}#sk-container-id-1 div.sk-parallel-item::after {content: \"\";width: 100%;border-bottom: 1px solid gray;flex-grow: 1;}#sk-container-id-1 div.sk-label:hover label.sk-toggleable__label {background-color: #d4ebff;}#sk-container-id-1 div.sk-serial::before {content: \"\";position: absolute;border-left: 1px solid gray;box-sizing: border-box;top: 0;bottom: 0;left: 50%;z-index: 0;}#sk-container-id-1 div.sk-serial {display: flex;flex-direction: column;align-items: center;background-color: white;padding-right: 0.2em;padding-left: 0.2em;position: relative;}#sk-container-id-1 div.sk-item {position: relative;z-index: 1;}#sk-container-id-1 div.sk-parallel {display: flex;align-items: stretch;justify-content: center;background-color: white;position: relative;}#sk-container-id-1 div.sk-item::before, #sk-container-id-1 div.sk-parallel-item::before {content: \"\";position: absolute;border-left: 1px solid gray;box-sizing: border-box;top: 0;bottom: 0;left: 50%;z-index: -1;}#sk-container-id-1 div.sk-parallel-item {display: flex;flex-direction: column;z-index: 1;position: relative;background-color: white;}#sk-container-id-1 div.sk-parallel-item:first-child::after {align-self: flex-end;width: 50%;}#sk-container-id-1 div.sk-parallel-item:last-child::after {align-self: flex-start;width: 50%;}#sk-container-id-1 div.sk-parallel-item:only-child::after {width: 0;}#sk-container-id-1 div.sk-dashed-wrapped {border: 1px dashed gray;margin: 0 0.4em 0.5em 0.4em;box-sizing: border-box;padding-bottom: 0.4em;background-color: white;}#sk-container-id-1 div.sk-label label {font-family: monospace;font-weight: bold;display: inline-block;line-height: 1.2em;}#sk-container-id-1 div.sk-label-container {text-align: center;}#sk-container-id-1 div.sk-container {/* jupyter's `normalize.less` sets `[hidden] { display: none; }` but bootstrap.min.css set `[hidden] { display: none !important; }` so we also need the `!important` here to be able to override the default hidden behavior on the sphinx rendered scikit-learn.org. See: https://github.com/scikit-learn/scikit-learn/issues/21755 */display: inline-block !important;position: relative;}#sk-container-id-1 div.sk-text-repr-fallback {display: none;}</style><div id=\"sk-container-id-1\" class=\"sk-top-container\"><div class=\"sk-text-repr-fallback\"><pre>RandomForestClassifier(random_state=42)</pre><b>In a Jupyter environment, please rerun this cell to show the HTML representation or trust the notebook. <br />On GitHub, the HTML representation is unable to render, please try loading this page with nbviewer.org.</b></div><div class=\"sk-container\" hidden><div class=\"sk-item\"><div class=\"sk-estimator sk-toggleable\"><input class=\"sk-toggleable__control sk-hidden--visually\" id=\"sk-estimator-id-1\" type=\"checkbox\" checked><label for=\"sk-estimator-id-1\" class=\"sk-toggleable__label sk-toggleable__label-arrow\">RandomForestClassifier</label><div class=\"sk-toggleable__content\"><pre>RandomForestClassifier(random_state=42)</pre></div></div></div></div></div>"
      ],
      "text/plain": [
       "RandomForestClassifier(random_state=42)"
      ]
     },
     "execution_count": 20,
     "metadata": {},
     "output_type": "execute_result"
    }
   ],
   "source": [
    "# Create a RandomForestClassifier\n",
    "n_estimators = 100\n",
    "random_forest_most = RandomForestClassifier(n_estimators=n_estimators, random_state=42)\n",
    "\n",
    "# Lists to store training and testing losses\n",
    "training_loss = []\n",
    "testing_loss = []\n",
    "\n",
    "# Lists to store training and testing accuracy\n",
    "training_accuracy = []\n",
    "testing_accuracy = []\n",
    "\n",
    "# Train the Random Forest incrementally, capturing training and testing loss at each step\n",
    "for i in range(1, n_estimators + 1):\n",
    "    random_forest_most.fit(X_train_most[:i], y_train_most[:i])  # Incremental training\n",
    "    \n",
    "    # Calculate training accuracy\n",
    "    y_pred_train = random_forest_most.predict(X_train_most)\n",
    "    accuracy_train = accuracy_score(y_train_most, y_pred_train)\n",
    "    # Append training accuracy to the list\n",
    "    training_accuracy.append(accuracy_train)\n",
    "\n",
    "    # Calculate training MSE\n",
    "    mse_train = mean_squared_error(y_train, y_pred_train)\n",
    "    # Append training MSE to the list\n",
    "    training_loss.append(mse_train)\n",
    "    \n",
    "    # Calculate testing accuracy\n",
    "    y_pred_test = random_forest_most.predict(X_test_most)\n",
    "    accuracy_test = accuracy_score(y_test_most, y_pred_test)\n",
    "    # Append testing accuracy to the list\n",
    "    testing_accuracy.append(accuracy_test)\n",
    "\n",
    "    # Calculate testing MSE\n",
    "    mse_test = mean_squared_error(y_test_most, y_pred_test)\n",
    "    # Append testing MSE to the list\n",
    "    testing_loss.append(mse_test)\n",
    "    \n",
    "\n",
    "# random_forest_history = random_forest.fit(X_train, y_train).estimators_[0].tree_.impurity\n",
    "\n",
    "# Fit the RandomForestClassifier to the training data\n",
    "random_forest_most.fit(X_train_most, y_train_most)"
   ]
  },
  {
   "cell_type": "code",
   "execution_count": 21,
   "metadata": {},
   "outputs": [
    {
     "name": "stdout",
     "output_type": "stream",
     "text": [
      "Accuracy (Random Forest): 64.93%\n"
     ]
    }
   ],
   "source": [
    "# Use the trained Random Forest classifier to make predictions on the test data\n",
    "y_pred_rf = random_forest_most.predict(X_test_most)\n",
    "\n",
    "# Calculate the accuracy of the Random Forest classifier\n",
    "accuracy_rf = random_forest_most.score(X_test_most, y_test_most)\n",
    "\n",
    "print(\"Accuracy (Random Forest): {:.2f}%\".format(accuracy_rf * 100))"
   ]
  },
  {
   "cell_type": "code",
   "execution_count": 22,
   "metadata": {},
   "outputs": [
    {
     "data": {
      "image/png": "[encoded data removed]",
      "text/plain": [
       "<Figure size 640x480 with 2 Axes>"
      ]
     },
     "metadata": {},
     "output_type": "display_data"
    },
    {
     "data": {
      "application/vnd.plotly.v1+json": {
       "config": {
        "plotlyServerURL": "https://plot.ly"
       },
       "data": [
        {
         "mode": "lines",
         "name": "Training Loss",
         "type": "scatter",
         "x": [
          1,
          2,
          3,
          4,
          5,
          6,
          7,
          8,
          9,
          10,
          11,
          12,
          13,
          14,
          15,
          16,
          17,
          18,
          19,
          20,
          21,
          22,
          23,
          24,
          25,
          26,
          27,
          28,
          29,
          30,
          31,
          32,
          33,
          34,
          35,
          36,
          37,
          38,
          39,
          40,
          41,
          42,
          43,
          44,
          45,
          46,
          47,
          48,
          49,
          50,
          51,
          52,
          53,
          54,
          55,
          56,
          57,
          58,
          59,
          60,
          61,
          62,
          63,
          64,
          65,
          66,
          67,
          68,
          69,
          70,
          71,
          72,
          73,
          74,
          75,
          76,
          77,
          78,
          79,
          80,
          81,
          82,
          83,
          84,
          85,
          86,
          87,
          88,
          89,
          90,
          91,
          92,
          93,
          94,
          95,
          96,
          97,
          98,
          99,
          100
         ],
         "y": [
          1.6030783582089552,
          1.3381529850746268,
          0.8847947761194029,
          0.7826492537313433,
          0.8395522388059702,
          0.9841417910447762,
          1.0536380597014925,
          1.1128731343283582,
          1.273320895522388,
          1.2705223880597014,
          1.3087686567164178,
          1.2490671641791045,
          1.1422574626865671,
          1.172108208955224,
          1.0508395522388059,
          1.172108208955224,
          1.2444029850746268,
          1.1296641791044777,
          1.1156716417910448,
          1.2313432835820894,
          1.172108208955224,
          1.140858208955224,
          1.1833022388059702,
          1.1366604477611941,
          1.1683768656716418,
          1.1781716417910448,
          1.256063432835821,
          1.2915111940298507,
          1.2397388059701493,
          1.2551305970149254,
          1.2308768656716418,
          1.2681902985074627,
          1.2845149253731343,
          1.2798507462686568,
          1.2705223880597014,
          1.2374067164179106,
          1.2224813432835822,
          1.1940298507462686,
          1.2136194029850746,
          1.1389925373134329,
          1.1665111940298507,
          1.1431902985074627,
          1.1986940298507462,
          1.1842350746268657,
          1.1506529850746268,
          1.1618470149253732,
          1.189365671641791,
          1.1837686567164178,
          1.1809701492537314,
          1.171641791044776,
          1.2318097014925373,
          1.220615671641791,
          1.2014925373134329,
          1.1926305970149254,
          1.1669776119402986,
          1.2047574626865671,
          1.1888992537313432,
          1.2117537313432836,
          1.1991604477611941,
          1.2047574626865671,
          1.2070895522388059,
          1.242537313432836,
          1.201026119402985,
          1.2136194029850746,
          1.2411380597014925,
          1.1926305970149254,
          1.2140858208955223,
          1.2131529850746268,
          1.2700559701492538,
          1.2495335820895523,
          1.226212686567164,
          1.2299440298507462,
          1.226212686567164,
          1.2103544776119404,
          1.2159514925373134,
          1.2756529850746268,
          1.2509328358208955,
          1.2224813432835822,
          1.2150186567164178,
          1.2700559701492538,
          1.2854477611940298,
          1.208955223880597,
          1.226212686567164,
          1.2061567164179106,
          1.25,
          1.197294776119403,
          1.2117537313432836,
          1.1548507462686568,
          1.1823694029850746,
          1.1870335820895523,
          1.2136194029850746,
          1.203358208955224,
          1.1655783582089552,
          1.1842350746268657,
          1.2117537313432836,
          1.1730410447761195,
          1.1837686567164178,
          1.1875,
          1.1301305970149254,
          1.1436567164179106
         ]
        },
        {
         "mode": "lines",
         "name": "Testing Loss",
         "type": "scatter",
         "x": [
          1,
          2,
          3,
          4,
          5,
          6,
          7,
          8,
          9,
          10,
          11,
          12,
          13,
          14,
          15,
          16,
          17,
          18,
          19,
          20,
          21,
          22,
          23,
          24,
          25,
          26,
          27,
          28,
          29,
          30,
          31,
          32,
          33,
          34,
          35,
          36,
          37,
          38,
          39,
          40,
          41,
          42,
          43,
          44,
          45,
          46,
          47,
          48,
          49,
          50,
          51,
          52,
          53,
          54,
          55,
          56,
          57,
          58,
          59,
          60,
          61,
          62,
          63,
          64,
          65,
          66,
          67,
          68,
          69,
          70,
          71,
          72,
          73,
          74,
          75,
          76,
          77,
          78,
          79,
          80,
          81,
          82,
          83,
          84,
          85,
          86,
          87,
          88,
          89,
          90,
          91,
          92,
          93,
          94,
          95,
          96,
          97,
          98,
          99,
          100
         ],
         "y": [
          1.5727611940298507,
          1.2294776119402986,
          0.8582089552238806,
          0.7798507462686567,
          0.8059701492537313,
          0.9645522388059702,
          1.0186567164179106,
          1.0541044776119404,
          1.2276119402985075,
          1.1212686567164178,
          1.1753731343283582,
          1.1361940298507462,
          1.0634328358208955,
          1.0578358208955223,
          0.9421641791044776,
          1.0895522388059702,
          1.132462686567164,
          1.0186567164179106,
          0.9776119402985075,
          1.1082089552238805,
          1.0261194029850746,
          1.0223880597014925,
          1.080223880597015,
          1.007462686567164,
          1.0298507462686568,
          1.0354477611940298,
          1.1082089552238805,
          1.1343283582089552,
          1.1100746268656716,
          1.1380597014925373,
          1.0970149253731343,
          1.162313432835821,
          1.1380597014925373,
          1.164179104477612,
          1.1529850746268657,
          1.1082089552238805,
          1.1772388059701493,
          1.1287313432835822,
          1.1138059701492538,
          1.0335820895522387,
          1.0335820895522387,
          1.046641791044776,
          1.0746268656716418,
          1.1007462686567164,
          1.0764925373134329,
          1.080223880597015,
          1.1007462686567164,
          1.078358208955224,
          1.046641791044776,
          1.078358208955224,
          1.1119402985074627,
          1.0820895522388059,
          1.1082089552238805,
          1.1082089552238805,
          1.0634328358208955,
          1.0690298507462686,
          1.0597014925373134,
          1.0820895522388059,
          1.1007462686567164,
          1.0652985074626866,
          1.0634328358208955,
          1.1287313432835822,
          1.1511194029850746,
          1.0820895522388059,
          1.1007462686567164,
          1.1138059701492538,
          1.0746268656716418,
          1.0951492537313432,
          1.0578358208955223,
          1.1567164179104477,
          1.1380597014925373,
          1.1828358208955223,
          1.1567164179104477,
          1.1156716417910448,
          1.1604477611940298,
          1.212686567164179,
          1.1996268656716418,
          1.1380597014925373,
          1.0914179104477613,
          1.1548507462686568,
          1.2182835820895523,
          1.1380597014925373,
          1.0988805970149254,
          1.1529850746268657,
          1.1007462686567164,
          1.0522388059701493,
          1.1063432835820894,
          1.078358208955224,
          1.078358208955224,
          1.0690298507462686,
          1.126865671641791,
          1.1082089552238805,
          1.0690298507462686,
          1.1305970149253732,
          1.166044776119403,
          1.1305970149253732,
          1.1604477611940298,
          1.1492537313432836,
          1.1380597014925373,
          1.1026119402985075
         ]
        }
       ],
       "layout": {
        "template": {
         "data": {
          "bar": [
           {
            "error_x": {
             "color": "#2a3f5f"
            },
            "error_y": {
             "color": "#2a3f5f"
            },
            "marker": {
             "line": {
              "color": "#E5ECF6",
              "width": 0.5
             },
             "pattern": {
              "fillmode": "overlay",
              "size": 10,
              "solidity": 0.2
             }
            },
            "type": "bar"
           }
          ],
          "barpolar": [
           {
            "marker": {
             "line": {
              "color": "#E5ECF6",
              "width": 0.5
             },
             "pattern": {
              "fillmode": "overlay",
              "size": 10,
              "solidity": 0.2
             }
            },
            "type": "barpolar"
           }
          ],
          "carpet": [
           {
            "aaxis": {
             "endlinecolor": "#2a3f5f",
             "gridcolor": "white",
             "linecolor": "white",
             "minorgridcolor": "white",
             "startlinecolor": "#2a3f5f"
            },
            "baxis": {
             "endlinecolor": "#2a3f5f",
             "gridcolor": "white",
             "linecolor": "white",
             "minorgridcolor": "white",
             "startlinecolor": "#2a3f5f"
            },
            "type": "carpet"
           }
          ],
          "choropleth": [
           {
            "colorbar": {
             "outlinewidth": 0,
             "ticks": ""
            },
            "type": "choropleth"
           }
          ],
          "contour": [
           {
            "colorbar": {
             "outlinewidth": 0,
             "ticks": ""
            },
            "colorscale": [
             [
              0,
              "#0d0887"
             ],
             [
              0.1111111111111111,
              "#46039f"
             ],
             [
              0.2222222222222222,
              "#7201a8"
             ],
             [
              0.3333333333333333,
              "#9c179e"
             ],
             [
              0.4444444444444444,
              "#bd3786"
             ],
             [
              0.5555555555555556,
              "#d8576b"
             ],
             [
              0.6666666666666666,
              "#ed7953"
             ],
             [
              0.7777777777777778,
              "#fb9f3a"
             ],
             [
              0.8888888888888888,
              "#fdca26"
             ],
             [
              1,
              "#f0f921"
             ]
            ],
            "type": "contour"
           }
          ],
          "contourcarpet": [
           {
            "colorbar": {
             "outlinewidth": 0,
             "ticks": ""
            },
            "type": "contourcarpet"
           }
          ],
          "heatmap": [
           {
            "colorbar": {
             "outlinewidth": 0,
             "ticks": ""
            },
            "colorscale": [
             [
              0,
              "#0d0887"
             ],
             [
              0.1111111111111111,
              "#46039f"
             ],
             [
              0.2222222222222222,
              "#7201a8"
             ],
             [
              0.3333333333333333,
              "#9c179e"
             ],
             [
              0.4444444444444444,
              "#bd3786"
             ],
             [
              0.5555555555555556,
              "#d8576b"
             ],
             [
              0.6666666666666666,
              "#ed7953"
             ],
             [
              0.7777777777777778,
              "#fb9f3a"
             ],
             [
              0.8888888888888888,
              "#fdca26"
             ],
             [
              1,
              "#f0f921"
             ]
            ],
            "type": "heatmap"
           }
          ],
          "heatmapgl": [
           {
            "colorbar": {
             "outlinewidth": 0,
             "ticks": ""
            },
            "colorscale": [
             [
              0,
              "#0d0887"
             ],
             [
              0.1111111111111111,
              "#46039f"
             ],
             [
              0.2222222222222222,
              "#7201a8"
             ],
             [
              0.3333333333333333,
              "#9c179e"
             ],
             [
              0.4444444444444444,
              "#bd3786"
             ],
             [
              0.5555555555555556,
              "#d8576b"
             ],
             [
              0.6666666666666666,
              "#ed7953"
             ],
             [
              0.7777777777777778,
              "#fb9f3a"
             ],
             [
              0.8888888888888888,
              "#fdca26"
             ],
             [
              1,
              "#f0f921"
             ]
            ],
            "type": "heatmapgl"
           }
          ],
          "histogram": [
           {
            "marker": {
             "pattern": {
              "fillmode": "overlay",
              "size": 10,
              "solidity": 0.2
             }
            },
            "type": "histogram"
           }
          ],
          "histogram2d": [
           {
            "colorbar": {
             "outlinewidth": 0,
             "ticks": ""
            },
            "colorscale": [
             [
              0,
              "#0d0887"
             ],
             [
              0.1111111111111111,
              "#46039f"
             ],
             [
              0.2222222222222222,
              "#7201a8"
             ],
             [
              0.3333333333333333,
              "#9c179e"
             ],
             [
              0.4444444444444444,
              "#bd3786"
             ],
             [
              0.5555555555555556,
              "#d8576b"
             ],
             [
              0.6666666666666666,
              "#ed7953"
             ],
             [
              0.7777777777777778,
              "#fb9f3a"
             ],
             [
              0.8888888888888888,
              "#fdca26"
             ],
             [
              1,
              "#f0f921"
             ]
            ],
            "type": "histogram2d"
           }
          ],
          "histogram2dcontour": [
           {
            "colorbar": {
             "outlinewidth": 0,
             "ticks": ""
            },
            "colorscale": [
             [
              0,
              "#0d0887"
             ],
             [
              0.1111111111111111,
              "#46039f"
             ],
             [
              0.2222222222222222,
              "#7201a8"
             ],
             [
              0.3333333333333333,
              "#9c179e"
             ],
             [
              0.4444444444444444,
              "#bd3786"
             ],
             [
              0.5555555555555556,
              "#d8576b"
             ],
             [
              0.6666666666666666,
              "#ed7953"
             ],
             [
              0.7777777777777778,
              "#fb9f3a"
             ],
             [
              0.8888888888888888,
              "#fdca26"
             ],
             [
              1,
              "#f0f921"
             ]
            ],
            "type": "histogram2dcontour"
           }
          ],
          "mesh3d": [
           {
            "colorbar": {
             "outlinewidth": 0,
             "ticks": ""
            },
            "type": "mesh3d"
           }
          ],
          "parcoords": [
           {
            "line": {
             "colorbar": {
              "outlinewidth": 0,
              "ticks": ""
             }
            },
            "type": "parcoords"
           }
          ],
          "pie": [
           {
            "automargin": true,
            "type": "pie"
           }
          ],
          "scatter": [
           {
            "fillpattern": {
             "fillmode": "overlay",
             "size": 10,
             "solidity": 0.2
            },
            "type": "scatter"
           }
          ],
          "scatter3d": [
           {
            "line": {
             "colorbar": {
              "outlinewidth": 0,
              "ticks": ""
             }
            },
            "marker": {
             "colorbar": {
              "outlinewidth": 0,
              "ticks": ""
             }
            },
            "type": "scatter3d"
           }
          ],
          "scattercarpet": [
           {
            "marker": {
             "colorbar": {
              "outlinewidth": 0,
              "ticks": ""
             }
            },
            "type": "scattercarpet"
           }
          ],
          "scattergeo": [
           {
            "marker": {
             "colorbar": {
              "outlinewidth": 0,
              "ticks": ""
             }
            },
            "type": "scattergeo"
           }
          ],
          "scattergl": [
           {
            "marker": {
             "colorbar": {
              "outlinewidth": 0,
              "ticks": ""
             }
            },
            "type": "scattergl"
           }
          ],
          "scattermapbox": [
           {
            "marker": {
             "colorbar": {
              "outlinewidth": 0,
              "ticks": ""
             }
            },
            "type": "scattermapbox"
           }
          ],
          "scatterpolar": [
           {
            "marker": {
             "colorbar": {
              "outlinewidth": 0,
              "ticks": ""
             }
            },
            "type": "scatterpolar"
           }
          ],
          "scatterpolargl": [
           {
            "marker": {
             "colorbar": {
              "outlinewidth": 0,
              "ticks": ""
             }
            },
            "type": "scatterpolargl"
           }
          ],
          "scatterternary": [
           {
            "marker": {
             "colorbar": {
              "outlinewidth": 0,
              "ticks": ""
             }
            },
            "type": "scatterternary"
           }
          ],
          "surface": [
           {
            "colorbar": {
             "outlinewidth": 0,
             "ticks": ""
            },
            "colorscale": [
             [
              0,
              "#0d0887"
             ],
             [
              0.1111111111111111,
              "#46039f"
             ],
             [
              0.2222222222222222,
              "#7201a8"
             ],
             [
              0.3333333333333333,
              "#9c179e"
             ],
             [
              0.4444444444444444,
              "#bd3786"
             ],
             [
              0.5555555555555556,
              "#d8576b"
             ],
             [
              0.6666666666666666,
              "#ed7953"
             ],
             [
              0.7777777777777778,
              "#fb9f3a"
             ],
             [
              0.8888888888888888,
              "#fdca26"
             ],
             [
              1,
              "#f0f921"
             ]
            ],
            "type": "surface"
           }
          ],
          "table": [
           {
            "cells": {
             "fill": {
              "color": "#EBF0F8"
             },
             "line": {
              "color": "white"
             }
            },
            "header": {
             "fill": {
              "color": "#C8D4E3"
             },
             "line": {
              "color": "white"
             }
            },
            "type": "table"
           }
          ]
         },
         "layout": {
          "annotationdefaults": {
           "arrowcolor": "#2a3f5f",
           "arrowhead": 0,
           "arrowwidth": 1
          },
          "autotypenumbers": "strict",
          "coloraxis": {
           "colorbar": {
            "outlinewidth": 0,
            "ticks": ""
           }
          },
          "colorscale": {
           "diverging": [
            [
             0,
             "#8e0152"
            ],
            [
             0.1,
             "#c51b7d"
            ],
            [
             0.2,
             "#de77ae"
            ],
            [
             0.3,
             "#f1b6da"
            ],
            [
             0.4,
             "#fde0ef"
            ],
            [
             0.5,
             "#f7f7f7"
            ],
            [
             0.6,
             "#e6f5d0"
            ],
            [
             0.7,
             "#b8e186"
            ],
            [
             0.8,
             "#7fbc41"
            ],
            [
             0.9,
             "#4d9221"
            ],
            [
             1,
             "#276419"
            ]
           ],
           "sequential": [
            [
             0,
             "#0d0887"
            ],
            [
             0.1111111111111111,
             "#46039f"
            ],
            [
             0.2222222222222222,
             "#7201a8"
            ],
            [
             0.3333333333333333,
             "#9c179e"
            ],
            [
             0.4444444444444444,
             "#bd3786"
            ],
            [
             0.5555555555555556,
             "#d8576b"
            ],
            [
             0.6666666666666666,
             "#ed7953"
            ],
            [
             0.7777777777777778,
             "#fb9f3a"
            ],
            [
             0.8888888888888888,
             "#fdca26"
            ],
            [
             1,
             "#f0f921"
            ]
           ],
           "sequentialminus": [
            [
             0,
             "#0d0887"
            ],
            [
             0.1111111111111111,
             "#46039f"
            ],
            [
             0.2222222222222222,
             "#7201a8"
            ],
            [
             0.3333333333333333,
             "#9c179e"
            ],
            [
             0.4444444444444444,
             "#bd3786"
            ],
            [
             0.5555555555555556,
             "#d8576b"
            ],
            [
             0.6666666666666666,
             "#ed7953"
            ],
            [
             0.7777777777777778,
             "#fb9f3a"
            ],
            [
             0.8888888888888888,
             "#fdca26"
            ],
            [
             1,
             "#f0f921"
            ]
           ]
          },
          "colorway": [
           "#636efa",
           "#EF553B",
           "#00cc96",
           "#ab63fa",
           "#FFA15A",
           "#19d3f3",
           "#FF6692",
           "#B6E880",
           "#FF97FF",
           "#FECB52"
          ],
          "font": {
           "color": "#2a3f5f"
          },
          "geo": {
           "bgcolor": "white",
           "lakecolor": "white",
           "landcolor": "#E5ECF6",
           "showlakes": true,
           "showland": true,
           "subunitcolor": "white"
          },
          "hoverlabel": {
           "align": "left"
          },
          "hovermode": "closest",
          "mapbox": {
           "style": "light"
          },
          "paper_bgcolor": "white",
          "plot_bgcolor": "#E5ECF6",
          "polar": {
           "angularaxis": {
            "gridcolor": "white",
            "linecolor": "white",
            "ticks": ""
           },
           "bgcolor": "#E5ECF6",
           "radialaxis": {
            "gridcolor": "white",
            "linecolor": "white",
            "ticks": ""
           }
          },
          "scene": {
           "xaxis": {
            "backgroundcolor": "#E5ECF6",
            "gridcolor": "white",
            "gridwidth": 2,
            "linecolor": "white",
            "showbackground": true,
            "ticks": "",
            "zerolinecolor": "white"
           },
           "yaxis": {
            "backgroundcolor": "#E5ECF6",
            "gridcolor": "white",
            "gridwidth": 2,
            "linecolor": "white",
            "showbackground": true,
            "ticks": "",
            "zerolinecolor": "white"
           },
           "zaxis": {
            "backgroundcolor": "#E5ECF6",
            "gridcolor": "white",
            "gridwidth": 2,
            "linecolor": "white",
            "showbackground": true,
            "ticks": "",
            "zerolinecolor": "white"
           }
          },
          "shapedefaults": {
           "line": {
            "color": "#2a3f5f"
           }
          },
          "ternary": {
           "aaxis": {
            "gridcolor": "white",
            "linecolor": "white",
            "ticks": ""
           },
           "baxis": {
            "gridcolor": "white",
            "linecolor": "white",
            "ticks": ""
           },
           "bgcolor": "#E5ECF6",
           "caxis": {
            "gridcolor": "white",
            "linecolor": "white",
            "ticks": ""
           }
          },
          "title": {
           "x": 0.05
          },
          "xaxis": {
           "automargin": true,
           "gridcolor": "white",
           "linecolor": "white",
           "ticks": "",
           "title": {
            "standoff": 15
           },
           "zerolinecolor": "white",
           "zerolinewidth": 2
          },
          "yaxis": {
           "automargin": true,
           "gridcolor": "white",
           "linecolor": "white",
           "ticks": "",
           "title": {
            "standoff": 15
           },
           "zerolinecolor": "white",
           "zerolinewidth": 2
          }
         }
        },
        "title": {
         "text": "Training and Testing Loss Over Epochs"
        },
        "xaxis": {
         "title": {
          "text": "Number of Estimators (Epochs)"
         }
        },
        "yaxis": {
         "title": {
          "text": "MSE"
         }
        }
       }
      }
     },
     "metadata": {},
     "output_type": "display_data"
    },
    {
     "data": {
      "application/vnd.plotly.v1+json": {
       "config": {
        "plotlyServerURL": "https://plot.ly"
       },
       "data": [
        {
         "mode": "lines",
         "name": "Training Accuracy",
         "type": "scatter",
         "x": [
          1,
          2,
          3,
          4,
          5,
          6,
          7,
          8,
          9,
          10,
          11,
          12,
          13,
          14,
          15,
          16,
          17,
          18,
          19,
          20,
          21,
          22,
          23,
          24,
          25,
          26,
          27,
          28,
          29,
          30,
          31,
          32,
          33,
          34,
          35,
          36,
          37,
          38,
          39,
          40,
          41,
          42,
          43,
          44,
          45,
          46,
          47,
          48,
          49,
          50,
          51,
          52,
          53,
          54,
          55,
          56,
          57,
          58,
          59,
          60,
          61,
          62,
          63,
          64,
          65,
          66,
          67,
          68,
          69,
          70,
          71,
          72,
          73,
          74,
          75,
          76,
          77,
          78,
          79,
          80,
          81,
          82,
          83,
          84,
          85,
          86,
          87,
          88,
          89,
          90,
          91,
          92,
          93,
          94,
          95,
          96,
          97,
          98,
          99,
          100
         ],
         "y": [
          0.43236940298507465,
          0.4986007462686567,
          0.35447761194029853,
          0.23833955223880596,
          0.30597014925373134,
          0.43843283582089554,
          0.43330223880597013,
          0.4594216417910448,
          0.47947761194029853,
          0.4920708955223881,
          0.480410447761194,
          0.47574626865671643,
          0.46361940298507465,
          0.4505597014925373,
          0.4458955223880597,
          0.4449626865671642,
          0.43283582089552236,
          0.41324626865671643,
          0.4230410447761194,
          0.39552238805970147,
          0.37220149253731344,
          0.3726679104477612,
          0.355410447761194,
          0.3516791044776119,
          0.3269589552238806,
          0.35494402985074625,
          0.34701492537313433,
          0.3381529850746269,
          0.35774253731343286,
          0.3619402985074627,
          0.365205223880597,
          0.386660447761194,
          0.353544776119403,
          0.35261194029850745,
          0.38572761194029853,
          0.386660447761194,
          0.3987873134328358,
          0.4048507462686567,
          0.4118470149253731,
          0.42630597014925375,
          0.43796641791044777,
          0.41511194029850745,
          0.42117537313432835,
          0.44263059701492535,
          0.46222014925373134,
          0.4510261194029851,
          0.4612873134328358,
          0.45848880597014924,
          0.46408582089552236,
          0.4762126865671642,
          0.47341417910447764,
          0.47201492537313433,
          0.478544776119403,
          0.47201492537313433,
          0.47388059701492535,
          0.47527985074626866,
          0.478544776119403,
          0.466884328358209,
          0.48367537313432835,
          0.4780783582089552,
          0.47294776119402987,
          0.4808768656716418,
          0.4916044776119403,
          0.4916044776119403,
          0.48367537313432835,
          0.49580223880597013,
          0.4743470149253731,
          0.4808768656716418,
          0.46455223880597013,
          0.4808768656716418,
          0.4832089552238806,
          0.4710820895522388,
          0.4762126865671642,
          0.47388059701492535,
          0.47527985074626866,
          0.4701492537313433,
          0.4780783582089552,
          0.488339552238806,
          0.48740671641791045,
          0.48274253731343286,
          0.4869402985074627,
          0.49347014925373134,
          0.48880597014925375,
          0.4976679104477612,
          0.480410447761194,
          0.4939365671641791,
          0.4962686567164179,
          0.5055970149253731,
          0.5032649253731343,
          0.49580223880597013,
          0.5013992537313433,
          0.511660447761194,
          0.511660447761194,
          0.5027985074626866,
          0.5018656716417911,
          0.5139925373134329,
          0.5158582089552238,
          0.5121268656716418,
          0.5247201492537313,
          0.5153917910447762
         ]
        },
        {
         "mode": "lines",
         "name": "Testing Accuracy",
         "type": "scatter",
         "x": [
          1,
          2,
          3,
          4,
          5,
          6,
          7,
          8,
          9,
          10,
          11,
          12,
          13,
          14,
          15,
          16,
          17,
          18,
          19,
          20,
          21,
          22,
          23,
          24,
          25,
          26,
          27,
          28,
          29,
          30,
          31,
          32,
          33,
          34,
          35,
          36,
          37,
          38,
          39,
          40,
          41,
          42,
          43,
          44,
          45,
          46,
          47,
          48,
          49,
          50,
          51,
          52,
          53,
          54,
          55,
          56,
          57,
          58,
          59,
          60,
          61,
          62,
          63,
          64,
          65,
          66,
          67,
          68,
          69,
          70,
          71,
          72,
          73,
          74,
          75,
          76,
          77,
          78,
          79,
          80,
          81,
          82,
          83,
          84,
          85,
          86,
          87,
          88,
          89,
          90,
          91,
          92,
          93,
          94,
          95,
          96,
          97,
          98,
          99,
          100
         ],
         "y": [
          0.43470149253731344,
          0.5205223880597015,
          0.36007462686567165,
          0.24813432835820895,
          0.32276119402985076,
          0.43843283582089554,
          0.45149253731343286,
          0.4832089552238806,
          0.48880597014925375,
          0.5223880597014925,
          0.5074626865671642,
          0.4906716417910448,
          0.47947761194029853,
          0.46828358208955223,
          0.4832089552238806,
          0.458955223880597,
          0.4552238805970149,
          0.42350746268656714,
          0.44776119402985076,
          0.44029850746268656,
          0.43283582089552236,
          0.43097014925373134,
          0.4123134328358209,
          0.4123134328358209,
          0.373134328358209,
          0.39552238805970147,
          0.40111940298507465,
          0.39738805970149255,
          0.416044776119403,
          0.416044776119403,
          0.42350746268656714,
          0.4141791044776119,
          0.4216417910447761,
          0.40671641791044777,
          0.42350746268656714,
          0.43470149253731344,
          0.41044776119402987,
          0.4197761194029851,
          0.457089552238806,
          0.4701492537313433,
          0.4533582089552239,
          0.417910447761194,
          0.44029850746268656,
          0.44776119402985076,
          0.4608208955223881,
          0.4626865671641791,
          0.4701492537313433,
          0.47574626865671643,
          0.46828358208955223,
          0.48134328358208955,
          0.4925373134328358,
          0.48880597014925375,
          0.47947761194029853,
          0.46828358208955223,
          0.47947761194029853,
          0.47388059701492535,
          0.4944029850746269,
          0.47761194029850745,
          0.4701492537313433,
          0.48880597014925375,
          0.47947761194029853,
          0.4925373134328358,
          0.47574626865671643,
          0.5,
          0.503731343283582,
          0.4962686567164179,
          0.5018656716417911,
          0.503731343283582,
          0.5074626865671642,
          0.4925373134328358,
          0.4944029850746269,
          0.47761194029850745,
          0.4869402985074627,
          0.4832089552238806,
          0.47761194029850745,
          0.4701492537313433,
          0.47201492537313433,
          0.48880597014925375,
          0.5074626865671642,
          0.5055970149253731,
          0.4869402985074627,
          0.5055970149253731,
          0.5279850746268657,
          0.5018656716417911,
          0.5149253731343284,
          0.5298507462686567,
          0.503731343283582,
          0.503731343283582,
          0.5149253731343284,
          0.5242537313432836,
          0.5111940298507462,
          0.5074626865671642,
          0.5186567164179104,
          0.4962686567164179,
          0.4944029850746269,
          0.5018656716417911,
          0.5055970149253731,
          0.5,
          0.5,
          0.5130597014925373
         ]
        }
       ],
       "layout": {
        "template": {
         "data": {
          "bar": [
           {
            "error_x": {
             "color": "#2a3f5f"
            },
            "error_y": {
             "color": "#2a3f5f"
            },
            "marker": {
             "line": {
              "color": "#E5ECF6",
              "width": 0.5
             },
             "pattern": {
              "fillmode": "overlay",
              "size": 10,
              "solidity": 0.2
             }
            },
            "type": "bar"
           }
          ],
          "barpolar": [
           {
            "marker": {
             "line": {
              "color": "#E5ECF6",
              "width": 0.5
             },
             "pattern": {
              "fillmode": "overlay",
              "size": 10,
              "solidity": 0.2
             }
            },
            "type": "barpolar"
           }
          ],
          "carpet": [
           {
            "aaxis": {
             "endlinecolor": "#2a3f5f",
             "gridcolor": "white",
             "linecolor": "white",
             "minorgridcolor": "white",
             "startlinecolor": "#2a3f5f"
            },
            "baxis": {
             "endlinecolor": "#2a3f5f",
             "gridcolor": "white",
             "linecolor": "white",
             "minorgridcolor": "white",
             "startlinecolor": "#2a3f5f"
            },
            "type": "carpet"
           }
          ],
          "choropleth": [
           {
            "colorbar": {
             "outlinewidth": 0,
             "ticks": ""
            },
            "type": "choropleth"
           }
          ],
          "contour": [
           {
            "colorbar": {
             "outlinewidth": 0,
             "ticks": ""
            },
            "colorscale": [
             [
              0,
              "#0d0887"
             ],
             [
              0.1111111111111111,
              "#46039f"
             ],
             [
              0.2222222222222222,
              "#7201a8"
             ],
             [
              0.3333333333333333,
              "#9c179e"
             ],
             [
              0.4444444444444444,
              "#bd3786"
             ],
             [
              0.5555555555555556,
              "#d8576b"
             ],
             [
              0.6666666666666666,
              "#ed7953"
             ],
             [
              0.7777777777777778,
              "#fb9f3a"
             ],
             [
              0.8888888888888888,
              "#fdca26"
             ],
             [
              1,
              "#f0f921"
             ]
            ],
            "type": "contour"
           }
          ],
          "contourcarpet": [
           {
            "colorbar": {
             "outlinewidth": 0,
             "ticks": ""
            },
            "type": "contourcarpet"
           }
          ],
          "heatmap": [
           {
            "colorbar": {
             "outlinewidth": 0,
             "ticks": ""
            },
            "colorscale": [
             [
              0,
              "#0d0887"
             ],
             [
              0.1111111111111111,
              "#46039f"
             ],
             [
              0.2222222222222222,
              "#7201a8"
             ],
             [
              0.3333333333333333,
              "#9c179e"
             ],
             [
              0.4444444444444444,
              "#bd3786"
             ],
             [
              0.5555555555555556,
              "#d8576b"
             ],
             [
              0.6666666666666666,
              "#ed7953"
             ],
             [
              0.7777777777777778,
              "#fb9f3a"
             ],
             [
              0.8888888888888888,
              "#fdca26"
             ],
             [
              1,
              "#f0f921"
             ]
            ],
            "type": "heatmap"
           }
          ],
          "heatmapgl": [
           {
            "colorbar": {
             "outlinewidth": 0,
             "ticks": ""
            },
            "colorscale": [
             [
              0,
              "#0d0887"
             ],
             [
              0.1111111111111111,
              "#46039f"
             ],
             [
              0.2222222222222222,
              "#7201a8"
             ],
             [
              0.3333333333333333,
              "#9c179e"
             ],
             [
              0.4444444444444444,
              "#bd3786"
             ],
             [
              0.5555555555555556,
              "#d8576b"
             ],
             [
              0.6666666666666666,
              "#ed7953"
             ],
             [
              0.7777777777777778,
              "#fb9f3a"
             ],
             [
              0.8888888888888888,
              "#fdca26"
             ],
             [
              1,
              "#f0f921"
             ]
            ],
            "type": "heatmapgl"
           }
          ],
          "histogram": [
           {
            "marker": {
             "pattern": {
              "fillmode": "overlay",
              "size": 10,
              "solidity": 0.2
             }
            },
            "type": "histogram"
           }
          ],
          "histogram2d": [
           {
            "colorbar": {
             "outlinewidth": 0,
             "ticks": ""
            },
            "colorscale": [
             [
              0,
              "#0d0887"
             ],
             [
              0.1111111111111111,
              "#46039f"
             ],
             [
              0.2222222222222222,
              "#7201a8"
             ],
             [
              0.3333333333333333,
              "#9c179e"
             ],
             [
              0.4444444444444444,
              "#bd3786"
             ],
             [
              0.5555555555555556,
              "#d8576b"
             ],
             [
              0.6666666666666666,
              "#ed7953"
             ],
             [
              0.7777777777777778,
              "#fb9f3a"
             ],
             [
              0.8888888888888888,
              "#fdca26"
             ],
             [
              1,
              "#f0f921"
             ]
            ],
            "type": "histogram2d"
           }
          ],
          "histogram2dcontour": [
           {
            "colorbar": {
             "outlinewidth": 0,
             "ticks": ""
            },
            "colorscale": [
             [
              0,
              "#0d0887"
             ],
             [
              0.1111111111111111,
              "#46039f"
             ],
             [
              0.2222222222222222,
              "#7201a8"
             ],
             [
              0.3333333333333333,
              "#9c179e"
             ],
             [
              0.4444444444444444,
              "#bd3786"
             ],
             [
              0.5555555555555556,
              "#d8576b"
             ],
             [
              0.6666666666666666,
              "#ed7953"
             ],
             [
              0.7777777777777778,
              "#fb9f3a"
             ],
             [
              0.8888888888888888,
              "#fdca26"
             ],
             [
              1,
              "#f0f921"
             ]
            ],
            "type": "histogram2dcontour"
           }
          ],
          "mesh3d": [
           {
            "colorbar": {
             "outlinewidth": 0,
             "ticks": ""
            },
            "type": "mesh3d"
           }
          ],
          "parcoords": [
           {
            "line": {
             "colorbar": {
              "outlinewidth": 0,
              "ticks": ""
             }
            },
            "type": "parcoords"
           }
          ],
          "pie": [
           {
            "automargin": true,
            "type": "pie"
           }
          ],
          "scatter": [
           {
            "fillpattern": {
             "fillmode": "overlay",
             "size": 10,
             "solidity": 0.2
            },
            "type": "scatter"
           }
          ],
          "scatter3d": [
           {
            "line": {
             "colorbar": {
              "outlinewidth": 0,
              "ticks": ""
             }
            },
            "marker": {
             "colorbar": {
              "outlinewidth": 0,
              "ticks": ""
             }
            },
            "type": "scatter3d"
           }
          ],
          "scattercarpet": [
           {
            "marker": {
             "colorbar": {
              "outlinewidth": 0,
              "ticks": ""
             }
            },
            "type": "scattercarpet"
           }
          ],
          "scattergeo": [
           {
            "marker": {
             "colorbar": {
              "outlinewidth": 0,
              "ticks": ""
             }
            },
            "type": "scattergeo"
           }
          ],
          "scattergl": [
           {
            "marker": {
             "colorbar": {
              "outlinewidth": 0,
              "ticks": ""
             }
            },
            "type": "scattergl"
           }
          ],
          "scattermapbox": [
           {
            "marker": {
             "colorbar": {
              "outlinewidth": 0,
              "ticks": ""
             }
            },
            "type": "scattermapbox"
           }
          ],
          "scatterpolar": [
           {
            "marker": {
             "colorbar": {
              "outlinewidth": 0,
              "ticks": ""
             }
            },
            "type": "scatterpolar"
           }
          ],
          "scatterpolargl": [
           {
            "marker": {
             "colorbar": {
              "outlinewidth": 0,
              "ticks": ""
             }
            },
            "type": "scatterpolargl"
           }
          ],
          "scatterternary": [
           {
            "marker": {
             "colorbar": {
              "outlinewidth": 0,
              "ticks": ""
             }
            },
            "type": "scatterternary"
           }
          ],
          "surface": [
           {
            "colorbar": {
             "outlinewidth": 0,
             "ticks": ""
            },
            "colorscale": [
             [
              0,
              "#0d0887"
             ],
             [
              0.1111111111111111,
              "#46039f"
             ],
             [
              0.2222222222222222,
              "#7201a8"
             ],
             [
              0.3333333333333333,
              "#9c179e"
             ],
             [
              0.4444444444444444,
              "#bd3786"
             ],
             [
              0.5555555555555556,
              "#d8576b"
             ],
             [
              0.6666666666666666,
              "#ed7953"
             ],
             [
              0.7777777777777778,
              "#fb9f3a"
             ],
             [
              0.8888888888888888,
              "#fdca26"
             ],
             [
              1,
              "#f0f921"
             ]
            ],
            "type": "surface"
           }
          ],
          "table": [
           {
            "cells": {
             "fill": {
              "color": "#EBF0F8"
             },
             "line": {
              "color": "white"
             }
            },
            "header": {
             "fill": {
              "color": "#C8D4E3"
             },
             "line": {
              "color": "white"
             }
            },
            "type": "table"
           }
          ]
         },
         "layout": {
          "annotationdefaults": {
           "arrowcolor": "#2a3f5f",
           "arrowhead": 0,
           "arrowwidth": 1
          },
          "autotypenumbers": "strict",
          "coloraxis": {
           "colorbar": {
            "outlinewidth": 0,
            "ticks": ""
           }
          },
          "colorscale": {
           "diverging": [
            [
             0,
             "#8e0152"
            ],
            [
             0.1,
             "#c51b7d"
            ],
            [
             0.2,
             "#de77ae"
            ],
            [
             0.3,
             "#f1b6da"
            ],
            [
             0.4,
             "#fde0ef"
            ],
            [
             0.5,
             "#f7f7f7"
            ],
            [
             0.6,
             "#e6f5d0"
            ],
            [
             0.7,
             "#b8e186"
            ],
            [
             0.8,
             "#7fbc41"
            ],
            [
             0.9,
             "#4d9221"
            ],
            [
             1,
             "#276419"
            ]
           ],
           "sequential": [
            [
             0,
             "#0d0887"
            ],
            [
             0.1111111111111111,
             "#46039f"
            ],
            [
             0.2222222222222222,
             "#7201a8"
            ],
            [
             0.3333333333333333,
             "#9c179e"
            ],
            [
             0.4444444444444444,
             "#bd3786"
            ],
            [
             0.5555555555555556,
             "#d8576b"
            ],
            [
             0.6666666666666666,
             "#ed7953"
            ],
            [
             0.7777777777777778,
             "#fb9f3a"
            ],
            [
             0.8888888888888888,
             "#fdca26"
            ],
            [
             1,
             "#f0f921"
            ]
           ],
           "sequentialminus": [
            [
             0,
             "#0d0887"
            ],
            [
             0.1111111111111111,
             "#46039f"
            ],
            [
             0.2222222222222222,
             "#7201a8"
            ],
            [
             0.3333333333333333,
             "#9c179e"
            ],
            [
             0.4444444444444444,
             "#bd3786"
            ],
            [
             0.5555555555555556,
             "#d8576b"
            ],
            [
             0.6666666666666666,
             "#ed7953"
            ],
            [
             0.7777777777777778,
             "#fb9f3a"
            ],
            [
             0.8888888888888888,
             "#fdca26"
            ],
            [
             1,
             "#f0f921"
            ]
           ]
          },
          "colorway": [
           "#636efa",
           "#EF553B",
           "#00cc96",
           "#ab63fa",
           "#FFA15A",
           "#19d3f3",
           "#FF6692",
           "#B6E880",
           "#FF97FF",
           "#FECB52"
          ],
          "font": {
           "color": "#2a3f5f"
          },
          "geo": {
           "bgcolor": "white",
           "lakecolor": "white",
           "landcolor": "#E5ECF6",
           "showlakes": true,
           "showland": true,
           "subunitcolor": "white"
          },
          "hoverlabel": {
           "align": "left"
          },
          "hovermode": "closest",
          "mapbox": {
           "style": "light"
          },
          "paper_bgcolor": "white",
          "plot_bgcolor": "#E5ECF6",
          "polar": {
           "angularaxis": {
            "gridcolor": "white",
            "linecolor": "white",
            "ticks": ""
           },
           "bgcolor": "#E5ECF6",
           "radialaxis": {
            "gridcolor": "white",
            "linecolor": "white",
            "ticks": ""
           }
          },
          "scene": {
           "xaxis": {
            "backgroundcolor": "#E5ECF6",
            "gridcolor": "white",
            "gridwidth": 2,
            "linecolor": "white",
            "showbackground": true,
            "ticks": "",
            "zerolinecolor": "white"
           },
           "yaxis": {
            "backgroundcolor": "#E5ECF6",
            "gridcolor": "white",
            "gridwidth": 2,
            "linecolor": "white",
            "showbackground": true,
            "ticks": "",
            "zerolinecolor": "white"
           },
           "zaxis": {
            "backgroundcolor": "#E5ECF6",
            "gridcolor": "white",
            "gridwidth": 2,
            "linecolor": "white",
            "showbackground": true,
            "ticks": "",
            "zerolinecolor": "white"
           }
          },
          "shapedefaults": {
           "line": {
            "color": "#2a3f5f"
           }
          },
          "ternary": {
           "aaxis": {
            "gridcolor": "white",
            "linecolor": "white",
            "ticks": ""
           },
           "baxis": {
            "gridcolor": "white",
            "linecolor": "white",
            "ticks": ""
           },
           "bgcolor": "#E5ECF6",
           "caxis": {
            "gridcolor": "white",
            "linecolor": "white",
            "ticks": ""
           }
          },
          "title": {
           "x": 0.05
          },
          "xaxis": {
           "automargin": true,
           "gridcolor": "white",
           "linecolor": "white",
           "ticks": "",
           "title": {
            "standoff": 15
           },
           "zerolinecolor": "white",
           "zerolinewidth": 2
          },
          "yaxis": {
           "automargin": true,
           "gridcolor": "white",
           "linecolor": "white",
           "ticks": "",
           "title": {
            "standoff": 15
           },
           "zerolinecolor": "white",
           "zerolinewidth": 2
          }
         }
        },
        "title": {
         "text": "Training and Testing Accuracy Over Epochs"
        },
        "xaxis": {
         "title": {
          "text": "Number of Estimators (Epochs)"
         }
        },
        "yaxis": {
         "title": {
          "text": "Accuracy"
         }
        }
       }
      }
     },
     "metadata": {},
     "output_type": "display_data"
    }
   ],
   "source": [
    "import plotly.graph_objects as go\n",
    "\n",
    "# Create a confusion matrix\n",
    "confusion_rf = confusion_matrix(y_test_most, y_pred_rf)\n",
    "\n",
    "# Plot the confusion matrix \n",
    "disp_rf = ConfusionMatrixDisplay(confusion_rf, display_labels=random_forest.classes_)\n",
    "disp_rf.plot(cmap='viridis')\n",
    "plt.title('Confusion Matrix (Random Forest)')\n",
    "plt.show()\n",
    "\n",
    "# Create a line plot for both training and testing MSE using Plotly\n",
    "fig = go.Figure()\n",
    "\n",
    "fig.add_trace(go.Scatter(x=np.arange(1, n_estimators + 1), y=training_loss, mode='lines', name='Training Loss'))\n",
    "fig.add_trace(go.Scatter(x=np.arange(1, n_estimators + 1), y=testing_loss, mode='lines', name='Testing Loss'))\n",
    "\n",
    "fig.update_layout(title='Training and Testing Loss Over Epochs',\n",
    "                  xaxis_title='Number of Estimators (Epochs)',\n",
    "                  yaxis_title='MSE')\n",
    "\n",
    "fig.show()\n",
    "\n",
    "# Create a line plot for both training and testing accuracy using Plotly\n",
    "fig = go.Figure()\n",
    "\n",
    "fig.add_trace(go.Scatter(x=np.arange(1, n_estimators + 1), y=training_accuracy, mode='lines', name='Training Accuracy'))\n",
    "fig.add_trace(go.Scatter(x=np.arange(1, n_estimators + 1), y=testing_accuracy, mode='lines', name='Testing Accuracy'))\n",
    "\n",
    "fig.update_layout(title='Training and Testing Accuracy Over Epochs',\n",
    "                  xaxis_title='Number of Estimators (Epochs)',\n",
    "                  yaxis_title='Accuracy')\n",
    "\n",
    "fig.show()"
   ]
  },
  {
   "cell_type": "code",
   "execution_count": null,
   "metadata": {},
   "outputs": [],
   "source": []
  }
 ],
 "metadata": {
  "kernelspec": {
   "display_name": "mi",
   "language": "python",
   "name": "python3"
  },
  "language_info": {
   "codemirror_mode": {
    "name": "ipython",
    "version": 3
   },
   "file_extension": ".py",
   "mimetype": "text/x-python",
   "name": "python",
   "nbconvert_exporter": "python",
   "pygments_lexer": "ipython3",
   "version": "3.9.18"
  }
 },
 "nbformat": 4,
 "nbformat_minor": 2
}
