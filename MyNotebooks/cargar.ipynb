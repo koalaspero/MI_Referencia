{
 "cells": [
  {
   "cell_type": "code",
   "execution_count": 87,
   "metadata": {},
   "outputs": [],
   "source": [
    "#Cargamos las librerías necesarias para el análisis\n",
    "from sklearn.model_selection import train_test_split\n",
    "from sklearn.preprocessing import StandardScaler\n",
    "from sklearn.decomposition import PCA \n",
    "from sklearn.preprocessing import normalize\n",
    "from sklearn.preprocessing import MinMaxScaler\n",
    "import numpy as np\n",
    "import pandas as pd\n",
    "import time \n",
    "%matplotlib inline\n",
    "import matplotlib.pyplot as plt\n",
    "import seaborn as sns\n",
    "from scipy.io import loadmat"
   ]
  },
  {
   "cell_type": "code",
   "execution_count": 88,
   "metadata": {},
   "outputs": [
    {
     "name": "stderr",
     "output_type": "stream",
     "text": [
      "/Users/carloshumbertomenesesmurillo/opt/anaconda3/envs/geo_env/lib/python3.7/site-packages/numpy/core/fromnumeric.py:43: VisibleDeprecationWarning: Creating an ndarray from ragged nested sequences (which is a list-or-tuple of lists-or-tuples-or ndarrays with different lengths or shapes) is deprecated. If you meant to do this, you must specify 'dtype=object' when creating the ndarray.\n",
      "  result = getattr(asarray(obj), method)(*args, **kwds)\n"
     ]
    }
   ],
   "source": [
    "from scipy.io import loadmat\n",
    "import os\n",
    "from pathlib import Path\n",
    "from glob import glob\n",
    "import pathlib\n",
    "from scipy.io import loadmat\n",
    "data=[]\n",
    "wdata=[]\n",
    "i=0\n",
    "contador=0\n",
    "current_dir = '../data/Francis_data/Francis_data//Baseline_fmri/HC'\n",
    "group=1 # los grupos están organizados por carpetas. en este caso HC = grupo 1\n",
    "all_sub_dir_paths = glob(str(current_dir) + '/*/') \n",
    "feat=[]\n",
    "for file in all_sub_dir_paths:\n",
    "    i=0\n",
    "    for file in sorted(glob(file + '/*.mat')):\n",
    "        dat=loadmat(file)\n",
    "        p=dat['S']\n",
    "        thePoints=dat['S']['thePoints'][0][0]\n",
    "        Sbuttons=dat['S']['Sbuttons']\n",
    "        Ts=dat['S']['Ts'][0][0][0]\n",
    "        trial=dat['S']['trial_cond'][0][0][i][0]\n",
    "        length=len(Sbuttons[0][0])\n",
    "        rule = Ts[-1]/length\n",
    "        time = np.transpose(np.arange(start=0, stop=Ts[-1]+rule, step=rule))\n",
    "        if time.shape[0] != thePoints.shape[0]:\n",
    "            time = time[0:thePoints.shape[0]]\n",
    "        data=[time, thePoints[:,0], thePoints[:,1], trial,group]\n",
    "        data=np.transpose(data)\n",
    "    #    data = data[(data[1] != 683) & (data[2] != 384)]\n",
    "    #    df=pd.DataFrame.transpose(pd.DataFrame(data))\n",
    "        wdata.append(data)\n",
    "        i=i+1\n",
    "        data=[]\n",
    "    #    print(file,i)\n"
   ]
  },
  {
   "cell_type": "code",
   "execution_count": 89,
   "metadata": {},
   "outputs": [],
   "source": [
    "current_dir = '../data/Francis_data/Francis_data//Baseline_fmri/Left_MAS'\n",
    "group=2 # los grupos están organizados por carpetas. en este caso Left_MAS = grupo 2\n",
    "all_sub_dir_paths = glob(str(current_dir) + '/*/')\n",
    "for file in all_sub_dir_paths:\n",
    "    i=0\n",
    "    for file in sorted(glob(file + '/*.mat')):\n",
    "        dat=loadmat(file)\n",
    "        p=dat['S']\n",
    "        thePoints=dat['S']['thePoints'][0][0]\n",
    "        Sbuttons=dat['S']['Sbuttons']\n",
    "        Ts=dat['S']['Ts'][0][0][0]\n",
    "        trial=dat['S']['trial_cond'][0][0][i][0]\n",
    "        length=len(Sbuttons[0][0])\n",
    "        rule = Ts[-1]/length\n",
    "        time = np.transpose(np.arange(start=0, stop=Ts[-1]+rule, step=rule))\n",
    "        if time.shape[0] != thePoints.shape[0]:\n",
    "            time = time[0:thePoints.shape[0]]\n",
    "        data=[time, thePoints[:,0], thePoints[:,1], trial,group]\n",
    "        data=np.transpose(data)\n",
    "    #    data = data[(data[1] != 683) & (data[2] != 384)]\n",
    "    #    df=pd.DataFrame.transpose(pd.DataFrame(data))\n",
    "        wdata.append(data)\n",
    "        i=i+1\n",
    "        data=[]\n",
    "    #    print(file,i)\n"
   ]
  },
  {
   "cell_type": "code",
   "execution_count": 90,
   "metadata": {},
   "outputs": [],
   "source": [
    "current_dir = '../data/Francis_data/Francis_data//Baseline_fmri/Right_MAS'\n",
    "group=0 # los grupos están organizados por carpetas. en este caso Right_MAS = grupo 0\n",
    "all_sub_dir_paths = glob(str(current_dir) + '/*/')\n",
    "for file in all_sub_dir_paths:\n",
    "    i=0\n",
    "    for file in sorted(glob(file + '/*.mat')):\n",
    "        dat=loadmat(file)\n",
    "        p=dat['S']\n",
    "        thePoints=dat['S']['thePoints'][0][0]\n",
    "        Sbuttons=dat['S']['Sbuttons']\n",
    "        Ts=dat['S']['Ts'][0][0][0]\n",
    "        trial=dat['S']['trial_cond'][0][0][i][0]\n",
    "        length=len(Sbuttons[0][0])\n",
    "        rule = Ts[-1]/length\n",
    "        time = np.transpose(np.arange(start=0, stop=Ts[-1]+rule, step=rule))\n",
    "        if time.shape[0] != thePoints.shape[0]:\n",
    "            time = time[0:thePoints.shape[0]]\n",
    "        data=[time, thePoints[:,0], thePoints[:,1], trial,group]\n",
    "        data=np.transpose(data)\n",
    "    #    data = data[(data[1] != 683) & (data[2] != 384)]\n",
    "    #    df=pd.DataFrame.transpose(pd.DataFrame(data))\n",
    "        wdata.append(data)\n",
    "        i=i+1\n",
    "        data=[]\n",
    "    #    print(file,i)"
   ]
  },
  {
   "cell_type": "code",
   "execution_count": 117,
   "metadata": {},
   "outputs": [
    {
     "data": {
      "text/plain": [
       "0.04000022792321036"
      ]
     },
     "execution_count": 117,
     "metadata": {},
     "output_type": "execute_result"
    }
   ],
   "source": [
    "data=pd.DataFrame(wdata)\n",
    "data.rename(columns={0: \"time\", 1: \"X\", 2: 'Y', 3: 'event',4:\"group\"}, inplace=True)\n",
    "data[\"time\"][3][4]"
   ]
  },
  {
   "cell_type": "code",
   "execution_count": 119,
   "metadata": {},
   "outputs": [],
   "source": [
    "df = pd.DataFrame(data)\n",
    "\n",
    "# Configurar la opción para evitar la notación científica\n",
    "pd.set_option('display.float_format', '{:.17f}'.format)\n",
    "pd.set_option('display.max_colwidth', -1)\n",
    "# Guardar el DataFrame en un archivo CSV\n",
    "df.to_csv('./data.csv', index=False)\n",
    "\n",
    "# Restaurar la configuración original si es necesario\n",
    "pd.reset_option('display.float_format')"
   ]
  },
  {
   "cell_type": "code",
   "execution_count": 129,
   "metadata": {},
   "outputs": [
    {
     "data": {
      "text/plain": [
       "'[0.         0.01000107 0.02000213 0.0300032  0.04000426 0.05000533\\n 0.0600064  0.07000746 0.08000853 0.09000959 0.10001066 0.11001173\\n 0.12001279 0.13001386 0.14001492 0.15001599 0.16001705 0.17001812\\n 0.18001919 0.19002025 0.20002132 0.21002238 0.22002345 0.23002452\\n 0.24002558 0.25002665 0.26002771 0.27002878 0.28002985 0.29003091\\n 0.30003198 0.31003304 0.32003411 0.33003518 0.34003624 0.35003731\\n 0.36003837 0.37003944 0.38004051 0.39004157 0.40004264 0.4100437\\n 0.42004477 0.43004583 0.4400469  0.45004797 0.46004903 0.4700501\\n 0.48005116 0.49005223 0.5000533  0.51005436 0.52005543 0.53005649\\n 0.54005756 0.55005863 0.56005969 0.57006076 0.58006182 0.59006289\\n 0.60006396 0.61006502 0.62006609 0.63006715 0.64006822 0.65006929\\n 0.66007035 0.67007142 0.68007248 0.69007355 0.70007461 0.71007568\\n 0.72007675 0.73007781 0.74007888 0.75007994 0.76008101 0.77008208\\n 0.78008314 0.79008421 0.80008527 0.81008634 0.82008741 0.83008847\\n 0.84008954 0.8500906  0.86009167 0.87009274 0.8800938  0.89009487\\n 0.90009593 0.910097   0.92009807 0.93009913 0.9401002  0.95010126\\n 0.96010233 0.97010339 0.98010446 0.99010553 1.00010659 1.01010766\\n 1.02010872 1.03010979 1.04011086 1.05011192 1.06011299 1.07011405\\n 1.08011512 1.09011619 1.10011725 1.11011832 1.12011938 1.13012045\\n 1.14012152 1.15012258 1.16012365 1.17012471 1.18012578 1.19012685\\n 1.20012791 1.21012898 1.22013004 1.23013111 1.24013217 1.25013324\\n 1.26013431 1.27013537 1.28013644 1.2901375  1.30013857 1.31013964\\n 1.3201407  1.33014177 1.34014283 1.3501439  1.36014497 1.37014603\\n 1.3801471  1.39014816 1.40014923 1.4101503  1.42015136 1.43015243\\n 1.44015349 1.45015456 1.46015563 1.47015669 1.48015776 1.49015882\\n 1.50015989 1.51016096 1.52016202 1.53016309 1.54016415 1.55016522\\n 1.56016628 1.57016735 1.58016842 1.59016948 1.60017055 1.61017161\\n 1.62017268 1.63017375 1.64017481 1.65017588 1.66017694 1.67017801\\n 1.68017908 1.69018014 1.70018121 1.71018227 1.72018334 1.73018441\\n 1.74018547 1.75018654 1.7601876  1.77018867 1.78018974 1.7901908\\n 1.80019187 1.81019293 1.820194   1.83019506 1.84019613 1.8501972\\n 1.86019826 1.87019933 1.88020039 1.89020146 1.90020253 1.91020359\\n 1.92020466 1.93020572 1.94020679 1.95020786 1.96020892 1.97020999\\n 1.98021105 1.99021212 2.00021319 2.01021425 2.02021532 2.03021638\\n 2.04021745 2.05021852 2.06021958 2.07022065 2.08022171 2.09022278\\n 2.10022384 2.11022491 2.12022598 2.13022704 2.14022811 2.15022917\\n 2.16023024 2.17023131 2.18023237 2.19023344 2.2002345  2.21023557\\n 2.22023664 2.2302377  2.24023877 2.25023983 2.2602409  2.27024197\\n 2.28024303 2.2902441  2.30024516 2.31024623 2.3202473  2.33024836\\n 2.34024943 2.35025049 2.36025156 2.37025262 2.38025369 2.39025476\\n 2.40025582 2.41025689 2.42025795 2.43025902 2.44026009 2.45026115\\n 2.46026222 2.47026328 2.48026435 2.49026542 2.50026648 2.51026755\\n 2.52026861 2.53026968 2.54027075 2.55027181 2.56027288 2.57027394\\n 2.58027501 2.59027608 2.60027714 2.61027821 2.62027927 2.63028034\\n 2.6402814  2.65028247 2.66028354 2.6702846  2.68028567 2.69028673\\n 2.7002878  2.71028887 2.72028993 2.730291   2.74029206 2.75029313\\n 2.7602942  2.77029526 2.78029633 2.79029739 2.80029846 2.81029953\\n 2.82030059 2.83030166 2.84030272 2.85030379 2.86030486 2.87030592\\n 2.88030699 2.89030805 2.90030912 2.91031018 2.92031125 2.93031232\\n 2.94031338 2.95031445 2.96031551 2.97031658 2.98031765 2.99031871\\n 3.00031978 3.01032084 3.02032191 3.03032298 3.04032404 3.05032511\\n 3.06032617 3.07032724 3.08032831 3.09032937 3.10033044 3.1103315\\n 3.12033257 3.13033364 3.1403347  3.15033577 3.16033683 3.1703379\\n 3.18033896 3.19034003 3.2003411  3.21034216 3.22034323 3.23034429\\n 3.24034536 3.25034643 3.26034749 3.27034856 3.28034962 3.29035069\\n 3.30035176 3.31035282 3.32035389 3.33035495 3.34035602 3.35035709\\n 3.36035815 3.37035922 3.38036028 3.39036135 3.40036242 3.41036348\\n 3.42036455 3.43036561 3.44036668 3.45036774 3.46036881 3.47036988\\n 3.48037094 3.49037201 3.50037307 3.51037414 3.52037521 3.53037627\\n 3.54037734 3.5503784  3.56037947 3.57038054 3.5803816  3.59038267\\n 3.60038373 3.6103848  3.62038587 3.63038693 3.640388   3.65038906\\n 3.66039013 3.6703912  3.68039226 3.69039333 3.70039439 3.71039546\\n 3.72039652 3.73039759 3.74039866 3.75039972 3.76040079 3.77040185\\n 3.78040292 3.79040399 3.80040505 3.81040612 3.82040718 3.83040825\\n 3.84040932 3.85041038 3.86041145 3.87041251 3.88041358 3.89041465\\n 3.90041571 3.91041678 3.92041784 3.93041891 3.94041998 3.95042104\\n 3.96042211 3.97042317 3.98042424 3.99042531 4.00042637 4.01042744\\n 4.0204285  4.03042957 4.04043063 4.0504317  4.06043277 4.07043383\\n 4.0804349  4.09043596 4.10043703 4.1104381  4.12043916 4.13044023\\n 4.14044129 4.15044236 4.16044343 4.17044449 4.18044556 4.19044662\\n 4.20044769 4.21044876 4.22044982 4.23045089 4.24045195 4.25045302\\n 4.26045409 4.27045515 4.28045622 4.29045728 4.30045835 4.31045941\\n 4.32046048 4.33046155 4.34046261 4.35046368 4.36046474 4.37046581\\n 4.38046688 4.39046794 4.40046901 4.41047007 4.42047114 4.43047221\\n 4.44047327 4.45047434 4.4604754  4.47047647 4.48047754 4.4904786\\n 4.50047967 4.51048073 4.5204818  4.53048287 4.54048393 4.550485\\n 4.56048606 4.57048713 4.58048819 4.59048926 4.60049033 4.61049139\\n 4.62049246 4.63049352 4.64049459 4.65049566 4.66049672 4.67049779\\n 4.68049885 4.69049992 4.70050099 4.71050205 4.72050312 4.73050418\\n 4.74050525 4.75050632 4.76050738 4.77050845 4.78050951 4.79051058\\n 4.80051165 4.81051271 4.82051378 4.83051484 4.84051591 4.85051697\\n 4.86051804 4.87051911 4.88052017 4.89052124 4.9005223  4.91052337\\n 4.92052444 4.9305255  4.94052657 4.95052763 4.9605287 ]'"
      ]
     },
     "execution_count": 129,
     "metadata": {},
     "output_type": "execute_result"
    }
   ],
   "source": [
    "#cargar csv\n",
    "df=pd.read_csv('./data.csv',index_col=False)\n",
    "df[\"time\"][4]"
   ]
  },
  {
   "cell_type": "code",
   "execution_count": 130,
   "metadata": {},
   "outputs": [
    {
     "data": {
      "text/html": [
       "<div>\n",
       "<style scoped>\n",
       "    .dataframe tbody tr th:only-of-type {\n",
       "        vertical-align: middle;\n",
       "    }\n",
       "\n",
       "    .dataframe tbody tr th {\n",
       "        vertical-align: top;\n",
       "    }\n",
       "\n",
       "    .dataframe thead th {\n",
       "        text-align: right;\n",
       "    }\n",
       "</style>\n",
       "<table border=\"1\" class=\"dataframe\">\n",
       "  <thead>\n",
       "    <tr style=\"text-align: right;\">\n",
       "      <th></th>\n",
       "      <th>time</th>\n",
       "      <th>X</th>\n",
       "      <th>Y</th>\n",
       "      <th>event</th>\n",
       "    </tr>\n",
       "    <tr>\n",
       "      <th>group</th>\n",
       "      <th></th>\n",
       "      <th></th>\n",
       "      <th></th>\n",
       "      <th></th>\n",
       "    </tr>\n",
       "  </thead>\n",
       "  <tbody>\n",
       "    <tr>\n",
       "      <th>0</th>\n",
       "      <td>920</td>\n",
       "      <td>920</td>\n",
       "      <td>920</td>\n",
       "      <td>920</td>\n",
       "    </tr>\n",
       "    <tr>\n",
       "      <th>1</th>\n",
       "      <td>1160</td>\n",
       "      <td>1160</td>\n",
       "      <td>1160</td>\n",
       "      <td>1160</td>\n",
       "    </tr>\n",
       "    <tr>\n",
       "      <th>2</th>\n",
       "      <td>600</td>\n",
       "      <td>600</td>\n",
       "      <td>600</td>\n",
       "      <td>600</td>\n",
       "    </tr>\n",
       "  </tbody>\n",
       "</table>\n",
       "</div>"
      ],
      "text/plain": [
       "       time     X     Y  event\n",
       "group                         \n",
       "0      920   920   920   920  \n",
       "1      1160  1160  1160  1160 \n",
       "2      600   600   600   600  "
      ]
     },
     "execution_count": 130,
     "metadata": {},
     "output_type": "execute_result"
    }
   ],
   "source": [
    "#Contar cuantos hay de grupo 2,0 y 1\n",
    "df.groupby('group').count()"
   ]
  },
  {
   "cell_type": "code",
   "execution_count": 131,
   "metadata": {},
   "outputs": [
    {
     "data": {
      "text/html": [
       "<div>\n",
       "<style scoped>\n",
       "    .dataframe tbody tr th:only-of-type {\n",
       "        vertical-align: middle;\n",
       "    }\n",
       "\n",
       "    .dataframe tbody tr th {\n",
       "        vertical-align: top;\n",
       "    }\n",
       "\n",
       "    .dataframe thead th {\n",
       "        text-align: right;\n",
       "    }\n",
       "</style>\n",
       "<table border=\"1\" class=\"dataframe\">\n",
       "  <thead>\n",
       "    <tr style=\"text-align: right;\">\n",
       "      <th></th>\n",
       "      <th>time</th>\n",
       "      <th>X</th>\n",
       "      <th>Y</th>\n",
       "      <th>group</th>\n",
       "    </tr>\n",
       "    <tr>\n",
       "      <th>event</th>\n",
       "      <th></th>\n",
       "      <th></th>\n",
       "      <th></th>\n",
       "      <th></th>\n",
       "    </tr>\n",
       "  </thead>\n",
       "  <tbody>\n",
       "    <tr>\n",
       "      <th>1</th>\n",
       "      <td>670</td>\n",
       "      <td>670</td>\n",
       "      <td>670</td>\n",
       "      <td>670</td>\n",
       "    </tr>\n",
       "    <tr>\n",
       "      <th>2</th>\n",
       "      <td>670</td>\n",
       "      <td>670</td>\n",
       "      <td>670</td>\n",
       "      <td>670</td>\n",
       "    </tr>\n",
       "    <tr>\n",
       "      <th>3</th>\n",
       "      <td>670</td>\n",
       "      <td>670</td>\n",
       "      <td>670</td>\n",
       "      <td>670</td>\n",
       "    </tr>\n",
       "    <tr>\n",
       "      <th>4</th>\n",
       "      <td>670</td>\n",
       "      <td>670</td>\n",
       "      <td>670</td>\n",
       "      <td>670</td>\n",
       "    </tr>\n",
       "  </tbody>\n",
       "</table>\n",
       "</div>"
      ],
      "text/plain": [
       "       time    X    Y  group\n",
       "event                       \n",
       "1      670   670  670  670  \n",
       "2      670   670  670  670  \n",
       "3      670   670  670  670  \n",
       "4      670   670  670  670  "
      ]
     },
     "execution_count": 131,
     "metadata": {},
     "output_type": "execute_result"
    }
   ],
   "source": [
    "#Agrupar por evento\n",
    "df.groupby('event').count()"
   ]
  }
 ],
 "metadata": {
  "kernelspec": {
   "display_name": "geo_env",
   "language": "python",
   "name": "geo_env"
  },
  "language_info": {
   "codemirror_mode": {
    "name": "ipython",
    "version": 3
   },
   "file_extension": ".py",
   "mimetype": "text/x-python",
   "name": "python",
   "nbconvert_exporter": "python",
   "pygments_lexer": "ipython3",
   "version": "3.7.12"
  }
 },
 "nbformat": 4,
 "nbformat_minor": 2
}
